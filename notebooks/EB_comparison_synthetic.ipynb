{
 "cells": [
  {
   "cell_type": "markdown",
   "metadata": {},
   "source": [
    "# Comparison with Empirical Bayes"
   ]
  },
  {
   "cell_type": "code",
   "execution_count": 196,
   "metadata": {},
   "outputs": [],
   "source": [
    "%matplotlib inline\n",
    "import seaborn as sns; sns.set(color_codes=True)\n",
    "import pandas as pd\n",
    "import numpy as np\n",
    "import matplotlib.pyplot as plt\n",
    "\n",
    "from regain.covariance import graph_lasso_\n",
    "from regain.covariance import latent_graph_lasso_; reload(latent_graph_lasso_);"
   ]
  },
  {
   "cell_type": "code",
   "execution_count": 151,
   "metadata": {},
   "outputs": [],
   "source": [
    "import numpy as np\n",
    "def write_network(K, names, filename):\n",
    "    import csv\n",
    "    with open(filename, 'wb') as csvfile:\n",
    "        writer = csv.writer(csvfile, delimiter='\\t')\n",
    "        for i in range(K.shape[0]):\n",
    "            for j in range(i+1, K.shape[1]):\n",
    "                writer.writerow([names[i], names[j], np.abs(K[i,j])])\n",
    "                writer.writerow([names[j], names[i], np.abs(K[j,i])])\n",
    "\n",
    "def read_network(filename, threshold=1.):\n",
    "    nn = pd.read_csv(filename, delimiter=\"\\t\", header=None)\n",
    "    columns = sorted(nn[0].unique())\n",
    "    n_top_edges = int(nn.shape[0] * threshold / 2.)\n",
    "\n",
    "    nn = nn.sort_values(2, ascending=False)[:2 * n_top_edges]\n",
    "\n",
    "    net_julia = pd.DataFrame(columns=columns, index=columns)\n",
    "\n",
    "    for row in nn.itertuples():\n",
    "        net_julia.loc[row[1], row[2]] = row[3]\n",
    "\n",
    "    np.fill_diagonal(net_julia.values, net_julia.sum(axis=1).values)\n",
    "    return net_julia.fillna(0)"
   ]
  },
  {
   "cell_type": "code",
   "execution_count": 197,
   "metadata": {},
   "outputs": [],
   "source": [
    "from sklearn.metrics import average_precision_score\n",
    "from __future__ import division\n",
    "def structure_error(true, pred, thresholding=False, eps=1e-2, no_diagonal=False):\n",
    "    # avoid inplace modifications\n",
    "    true = true.copy()\n",
    "    pred = pred.copy()\n",
    "\n",
    "    y_true = squareform(true, checks=None)\n",
    "    y_pred = squareform(pred, checks=None)\n",
    "\n",
    "    average_precision = average_precision_score(y_true > 0, y_pred)\n",
    "\n",
    "    if thresholding:\n",
    "        pred[np.abs(pred) < eps] = 0\n",
    "    tn_to_remove = 0\n",
    "    if no_diagonal:\n",
    "        if true.ndim > 2:\n",
    "            true = np.array([t - np.diag(np.diag(t)) for t in true])\n",
    "            pred = np.array([t - np.diag(np.diag(t)) for t in pred])\n",
    "            tn_to_remove = np.prod(true.shape[:2])\n",
    "        else:\n",
    "            true -= np.diag(np.diag(true))\n",
    "            pred -= np.diag(np.diag(pred))\n",
    "            tn_to_remove = true.shape[0]\n",
    "    true[true != 0] = 1\n",
    "    pred[pred != 0] = 2\n",
    "    res = true + pred\n",
    "\n",
    "    TN = np.count_nonzero((res == 0).astype(float))- tn_to_remove\n",
    "    FN = np.count_nonzero((res == 1).astype(float))\n",
    "    FP = np.count_nonzero((res == 2).astype(float))\n",
    "    TP = np.count_nonzero((res == 3).astype(float))\n",
    "\n",
    "    precision = TP / (TP + FP) if TP + FP > 0 else 0\n",
    "    recall = TP / (TP + FN)\n",
    "    miss_rate = FN / (TP + FN) or 1 - recall\n",
    "    f1 = 2 * precision * recall / (precision + recall) \\\n",
    "        if precision + recall > 0 else 0\n",
    "\n",
    "    accuracy = (TP + TN) / true.size\n",
    "    prevalence = (TP + FN) / true.size\n",
    "\n",
    "    fall_out = FP / (FP + TN) if (FP + TN) > 0 else 1\n",
    "    specificity = TN / (FP + TN) if (FP + TN) > 0 else 1. - fall_out\n",
    "\n",
    "    balanced_accuracy = 0.5 * (recall + specificity)\n",
    "    false_discovery_rate = FP / (TP + FP) if TP + FP > 0 else 1 - precision\n",
    "    false_omission_rate = FN / (FN + TN) if FN + TN > 0 else 0\n",
    "    negative_predicted_value = TN / (FN + TN) if FN + TN > 0 else \\\n",
    "        1 - false_omission_rate\n",
    "\n",
    "    positive_likelihood_ratio = recall / fall_out if fall_out > 0 else 0\n",
    "    negative_likelihood_ratio = miss_rate / specificity \\\n",
    "        if specificity > 0 else 0\n",
    "    diagnostic_odds_ratio = \\\n",
    "        positive_likelihood_ratio / negative_likelihood_ratio if \\\n",
    "        negative_likelihood_ratio > 0 else 0\n",
    "\n",
    "    dictionary = dict(\n",
    "        tp=TP, tn=TN, fp=FP, fn=FN, precision=precision, recall=recall,\n",
    "        f1=f1, accuracy=accuracy, false_omission_rate=false_omission_rate,\n",
    "        fdr=false_discovery_rate, npv=negative_predicted_value,\n",
    "        prevalence=prevalence, miss_rate=miss_rate, fall_out=fall_out,\n",
    "        specificity=specificity, plr=positive_likelihood_ratio,\n",
    "        nlr=negative_likelihood_ratio, dor=diagnostic_odds_ratio,\n",
    "        balanced_accuracy=balanced_accuracy,\n",
    "        average_precision=average_precision)\n",
    "    return dictionary"
   ]
  },
  {
   "cell_type": "markdown",
   "metadata": {},
   "source": [
    "Compare the results with Julia library"
   ]
  },
  {
   "cell_type": "code",
   "execution_count": 198,
   "metadata": {},
   "outputs": [
    {
     "ename": "ValueError",
     "evalue": "The matrix argument must be square.",
     "output_type": "error",
     "traceback": [
      "\u001b[0;31m---------------------------------------------------------------------------\u001b[0m",
      "\u001b[0;31mValueError\u001b[0m                                Traceback (most recent call last)",
      "\u001b[0;32m<ipython-input-198-733d505813bc>\u001b[0m in \u001b[0;36m<module>\u001b[0;34m()\u001b[0m\n\u001b[0;32m----> 1\u001b[0;31m \u001b[0;34m(\u001b[0m\u001b[0mnp\u001b[0m\u001b[0;34m.\u001b[0m\u001b[0mnonzero\u001b[0m\u001b[0;34m(\u001b[0m\u001b[0msquareform\u001b[0m\u001b[0;34m(\u001b[0m\u001b[0mdf\u001b[0m\u001b[0;34m.\u001b[0m\u001b[0mvalues\u001b[0m\u001b[0;34m,\u001b[0m \u001b[0mchecks\u001b[0m\u001b[0;34m=\u001b[0m\u001b[0mNone\u001b[0m\u001b[0;34m)\u001b[0m\u001b[0;34m)\u001b[0m\u001b[0;34m[\u001b[0m\u001b[0;36m0\u001b[0m\u001b[0;34m]\u001b[0m\u001b[0;34m.\u001b[0m\u001b[0msize\u001b[0m\u001b[0;34m)\u001b[0m \u001b[0;34m/\u001b[0m \u001b[0mfloat\u001b[0m\u001b[0;34m(\u001b[0m\u001b[0msquareform\u001b[0m\u001b[0;34m(\u001b[0m\u001b[0mdf\u001b[0m\u001b[0;34m.\u001b[0m\u001b[0mvalues\u001b[0m\u001b[0;34m,\u001b[0m \u001b[0mchecks\u001b[0m\u001b[0;34m=\u001b[0m\u001b[0mNone\u001b[0m\u001b[0;34m)\u001b[0m\u001b[0;34m.\u001b[0m\u001b[0msize\u001b[0m\u001b[0;34m)\u001b[0m\u001b[0;34m\u001b[0m\u001b[0m\n\u001b[0m",
      "\u001b[0;32m/home/fede/miniconda2/lib/python2.7/site-packages/scipy/spatial/distance.pyc\u001b[0m in \u001b[0;36msquareform\u001b[0;34m(X, force, checks)\u001b[0m\n\u001b[1;32m   1842\u001b[0m     \u001b[0;32melif\u001b[0m \u001b[0mlen\u001b[0m\u001b[0;34m(\u001b[0m\u001b[0ms\u001b[0m\u001b[0;34m)\u001b[0m \u001b[0;34m==\u001b[0m \u001b[0;36m2\u001b[0m\u001b[0;34m:\u001b[0m\u001b[0;34m\u001b[0m\u001b[0m\n\u001b[1;32m   1843\u001b[0m         \u001b[0;32mif\u001b[0m \u001b[0ms\u001b[0m\u001b[0;34m[\u001b[0m\u001b[0;36m0\u001b[0m\u001b[0;34m]\u001b[0m \u001b[0;34m!=\u001b[0m \u001b[0ms\u001b[0m\u001b[0;34m[\u001b[0m\u001b[0;36m1\u001b[0m\u001b[0;34m]\u001b[0m\u001b[0;34m:\u001b[0m\u001b[0;34m\u001b[0m\u001b[0m\n\u001b[0;32m-> 1844\u001b[0;31m             \u001b[0;32mraise\u001b[0m \u001b[0mValueError\u001b[0m\u001b[0;34m(\u001b[0m\u001b[0;34m'The matrix argument must be square.'\u001b[0m\u001b[0;34m)\u001b[0m\u001b[0;34m\u001b[0m\u001b[0m\n\u001b[0m\u001b[1;32m   1845\u001b[0m         \u001b[0;32mif\u001b[0m \u001b[0mchecks\u001b[0m\u001b[0;34m:\u001b[0m\u001b[0;34m\u001b[0m\u001b[0m\n\u001b[1;32m   1846\u001b[0m             \u001b[0mis_valid_dm\u001b[0m\u001b[0;34m(\u001b[0m\u001b[0mX\u001b[0m\u001b[0;34m,\u001b[0m \u001b[0mthrow\u001b[0m\u001b[0;34m=\u001b[0m\u001b[0mTrue\u001b[0m\u001b[0;34m,\u001b[0m \u001b[0mname\u001b[0m\u001b[0;34m=\u001b[0m\u001b[0;34m'X'\u001b[0m\u001b[0;34m)\u001b[0m\u001b[0;34m\u001b[0m\u001b[0m\n",
      "\u001b[0;31mValueError\u001b[0m: The matrix argument must be square."
     ]
    }
   ],
   "source": [
    "(np.nonzero(squareform(df.values, checks=None))[0].size) / float(squareform(df.values, checks=None).size)"
   ]
  },
  {
   "cell_type": "code",
   "execution_count": 199,
   "metadata": {},
   "outputs": [],
   "source": [
    "from itertools import product\n",
    "\n",
    "# n_genes = 50\n",
    "# i = 3\n",
    "# algorithm = 'mi'\n",
    "# df = pd.read_csv(\"../simulated_datasets/{}_yeast{}_large.txt\".format(n_genes, i), delimiter='\\t', index_col=0).T"
   ]
  },
  {
   "cell_type": "code",
   "execution_count": 206,
   "metadata": {},
   "outputs": [],
   "source": [
    "results = {}\n",
    "\n",
    "for n_genes, i in product([50, 100], range(1,4)):\n",
    "    true_network = read_network(\"../goldstandards/{}_yeast{}.tsv\".format(n_genes, i))\n",
    "    \n",
    "    for algorithm, threshold in product(['mi','puc'], [0.2, 0.15, 0.1, 0.05]):\n",
    "        df = read_network(\"../networks/{}_yeast{}_large_{}.txt\".format(n_genes, i, algorithm), threshold=threshold)\n",
    "        results.setdefault(threshold, []).append(structure_error(true_network.values, df.values,\n",
    "                                                                 no_diagonal=False)['precision'])"
   ]
  },
  {
   "cell_type": "code",
   "execution_count": 207,
   "metadata": {},
   "outputs": [
    {
     "data": {
      "text/plain": [
       "<matplotlib.axes._subplots.AxesSubplot at 0x7fab3786df90>"
      ]
     },
     "execution_count": 207,
     "metadata": {},
     "output_type": "execute_result"
    },
    {
     "data": {
      "image/png": "[encoded data removed]",
      "text/plain": [
       "<Figure size 432x288 with 1 Axes>"
      ]
     },
     "metadata": {},
     "output_type": "display_data"
    }
   ],
   "source": [
    "nn = pd.DataFrame(columns=['threshold', 'precision'])\n",
    "for k, v in results.items():\n",
    "    for x in v:\n",
    "        nn = nn.append({'threshold': k, 'precision':x}, ignore_index=True)\n",
    "\n",
    "bb = nn.copy()\n",
    "bb['precision'] *= 2\n",
    "\n",
    "bb = bb.sort_values('threshold', ascending=False)\n",
    "sns.boxplot(x='threshold', y='precision', data=bb, order=bb.threshold.unique())"
   ]
  },
  {
   "cell_type": "code",
   "execution_count": null,
   "metadata": {},
   "outputs": [],
   "source": [
    "# gl = graph_lasso_.GraphLasso(verbose=0).fit(data)\n",
    "\n",
    "df = pd.read_csv(\"../simulated_datasets/{}_yeast{}_large.txt\".format(n_genes, i), delimiter='\\t', index_col=0).T"
   ]
  },
  {
   "cell_type": "code",
   "execution_count": 158,
   "metadata": {},
   "outputs": [],
   "source": [
    "lgl = latent_graph_lasso_.LatentGraphLasso(verbose=0).fit(df.values)"
   ]
  },
  {
   "cell_type": "code",
   "execution_count": 212,
   "metadata": {},
   "outputs": [],
   "source": [
    "results_regain = {}\n",
    "\n",
    "for n_genes, i in product([50, 100], range(1,4)):\n",
    "    true_network = read_network(\"../goldstandards/{}_yeast{}.tsv\".format(n_genes, i))\n",
    "    df = pd.read_csv(\"../simulated_datasets/{}_yeast{}_large.txt\".format(n_genes, i),\n",
    "                         delimiter='\\t', index_col=0).T    \n",
    "    for alpha, tau in product([0.01, 0.1, 0.5, 0.75, 1], np.logspace(-2,0,5)):\n",
    "#         df = read_network(\"../networks/{}_yeast{}_large_{}.txt\".format(n_genes, i, algorithm), threshold=threshold)\n",
    "        lgl = latent_graph_lasso_.LatentGraphLasso(verbose=0, alpha=alpha, tau=tau).fit(df.values)\n",
    "        results_regain.setdefault(alpha, []).append(structure_error(true_network.values, lgl.precision_,\n",
    "                                                                thresholding=True, eps=1e-8,\n",
    "                                                                 no_diagonal=False)['precision'])"
   ]
  },
  {
   "cell_type": "code",
   "execution_count": 213,
   "metadata": {},
   "outputs": [],
   "source": [
    "nn = pd.DataFrame(columns=['alpha', 'precision'])\n",
    "for k, v in results_regain.items():\n",
    "    for x in v:\n",
    "        nn = nn.append({'alpha': k, 'precision':x}, ignore_index=True)\n",
    "\n",
    "cc = nn.copy()\n",
    "# bb['precision'] *= 2\n",
    "\n",
    "cc = cc.sort_values('alpha', ascending=True)"
   ]
  },
  {
   "cell_type": "code",
   "execution_count": 209,
   "metadata": {},
   "outputs": [],
   "source": [
    "results_gl = {}\n",
    "\n",
    "for n_genes, i in product([50, 100], range(1,4)):\n",
    "    true_network = read_network(\"../goldstandards/{}_yeast{}.tsv\".format(n_genes, i))\n",
    "    df = pd.read_csv(\"../simulated_datasets/{}_yeast{}_large.txt\".format(n_genes, i),\n",
    "                         delimiter='\\t', index_col=0).T    \n",
    "    for alpha in ([0.01, 0.1, 0.5, 0.75, 1]):\n",
    "#         df = read_network(\"../networks/{}_yeast{}_large_{}.txt\".format(n_genes, i, algorithm), threshold=threshold)\n",
    "        gl = graph_lasso_.GraphLasso(verbose=0, alpha=alpha).fit(df.values)\n",
    "        results_gl.setdefault(alpha, []).append(structure_error(true_network.values, gl.precision_,\n",
    "                                                                thresholding=True, eps=1e-8,\n",
    "                                                                 no_diagonal=False)['precision'])"
   ]
  },
  {
   "cell_type": "code",
   "execution_count": 210,
   "metadata": {},
   "outputs": [],
   "source": [
    "nn = pd.DataFrame(columns=['alpha', 'precision'])\n",
    "for k, v in results_gl.items():\n",
    "    for x in v:\n",
    "        nn = nn.append({'alpha': k, 'precision':x}, ignore_index=True)\n",
    "\n",
    "dd = nn.copy()\n",
    "# bb['precision'] *= 2\n",
    "\n",
    "dd = dd.sort_values('alpha', ascending=True)"
   ]
  },
  {
   "cell_type": "markdown",
   "metadata": {},
   "source": [
    "An advantage in taking into account latent variables is visible in the following."
   ]
  },
  {
   "cell_type": "code",
   "execution_count": 223,
   "metadata": {},
   "outputs": [
    {
     "data": {
      "image/png": "[encoded data removed]",
      "text/plain": [
       "<Figure size 432x288 with 3 Axes>"
      ]
     },
     "metadata": {},
     "output_type": "display_data"
    }
   ],
   "source": [
    "f, ax = plt.subplots(1, 3, sharey=True)\n",
    "sns.boxplot(x='threshold', y='precision', data=bb, order=bb.threshold.unique(), ax=ax[0])\n",
    "ax[0].set_title(\"EB\")\n",
    "sns.boxplot(x='alpha', y='precision', data=dd, order=dd.alpha.unique(), ax=ax[1])\n",
    "ax[1].set_title(\"GL\")\n",
    "sns.boxplot(x='alpha', y='precision', data=cc, order=cc.alpha.unique(), ax=ax[2])\n",
    "ax[2].set_title(\"LGL\")\n",
    "\n",
    "plt.ylim([0, 1]);"
   ]
  },
  {
   "cell_type": "code",
   "execution_count": null,
   "metadata": {},
   "outputs": [],
   "source": []
  },
  {
   "cell_type": "code",
   "execution_count": null,
   "metadata": {},
   "outputs": [],
   "source": []
  },
  {
   "cell_type": "code",
   "execution_count": 195,
   "metadata": {},
   "outputs": [
    {
     "data": {
      "text/plain": [
       "[<matplotlib.lines.Line2D at 0x7fab37270410>]"
      ]
     },
     "execution_count": 195,
     "metadata": {},
     "output_type": "execute_result"
    },
    {
     "data": {
      "image/png": "[encoded data removed]",
      "text/plain": [
       "<Figure size 432x288 with 1 Axes>"
      ]
     },
     "metadata": {},
     "output_type": "display_data"
    }
   ],
   "source": [
    "fall_out = [utils.structure_error(true_network.values, lgl.precision_+1e-16,\n",
    "                      thresholding=True, eps=e, no_diagonal=0)['precision']\n",
    "       for e in np.logspace(-5,2,100)]\n",
    "recall = [utils.structure_error(true_network.values, lgl.precision_+1e-16,\n",
    "                      thresholding=True, eps=e, no_diagonal=0)['recall']\n",
    "       for e in np.logspace(-5,2,100)]\n",
    "\n",
    "plt.plot(fall_out, recall)"
   ]
  },
  {
   "cell_type": "code",
   "execution_count": null,
   "metadata": {},
   "outputs": [],
   "source": []
  }
 ],
 "metadata": {
  "kernelspec": {
   "display_name": "Python 2",
   "language": "python",
   "name": "python2"
  },
  "language_info": {
   "codemirror_mode": {
    "name": "ipython",
    "version": 2
   },
   "file_extension": ".py",
   "mimetype": "text/x-python",
   "name": "python",
   "nbconvert_exporter": "python",
   "pygments_lexer": "ipython2",
   "version": "2.7.14"
  }
 },
 "nbformat": 4,
 "nbformat_minor": 2
}
