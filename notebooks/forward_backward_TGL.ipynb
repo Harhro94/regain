{
 "cells": [
  {
   "cell_type": "markdown",
   "metadata": {},
   "source": [
    "# Forward-backward splitting for time-varying graphical lasso\n",
    "This notebook shows how to minimise the time-varying graphical lasso with element-wise penalty norms across time-points.\n",
    "\n",
    "First of all, as always, let's create a bunch of data.\n",
    "For this task, we generate eah variable to change according to a certain behaviour which can be described as evolution via tigonometric functions, such as `sin` and `cos`."
   ]
  },
  {
   "cell_type": "code",
   "execution_count": 1,
   "metadata": {},
   "outputs": [],
   "source": [
    "%matplotlib inline\n",
    "import numpy as np\n",
    "import matplotlib.pyplot as plt\n",
    "\n",
    "from scipy.spatial.distance import squareform\n",
    "from regain import datasets, utils\n",
    "\n",
    "from sklearn.datasets import load_iris\n",
    "from sklearn.svm import SVC \n",
    "from sklearn.model_selection import train_test_split\n",
    "from sklearn.model_selection import GridSearchCV, ShuffleSplit\n",
    "\n",
    "from skopt.searchcv import BayesSearchCV\n",
    "from skopt.space import Real, Categorical, Integer"
   ]
  },
  {
   "cell_type": "code",
   "execution_count": 2,
   "metadata": {},
   "outputs": [],
   "source": [
    "# np.random.seed(7)\n",
    "\n",
    "# fs = 10e3\n",
    "# N = 100\n",
    "# amp = 2*np.sqrt(2)\n",
    "# freq = 1.0\n",
    "# noise_power = 0.001 * fs / 2\n",
    "# time = np.arange(N) / fs\n",
    "# z = amp*np.sin(2*np.pi*freq*time)\n",
    "# z += np.random.normal(scale=np.sqrt(noise_power), size=time.shape)\n",
    "# plt.plot(z);"
   ]
  },
  {
   "cell_type": "code",
   "execution_count": 3,
   "metadata": {},
   "outputs": [],
   "source": [
    "# T = 4\n",
    "\n",
    "# x = np.tile(np.linspace(0, T-1, T), (n_interactions, 1))\n",
    "# zz = amp * signal.square(2 * np.pi * freq * x + phase, duty=.5)\n",
    "# plt.plot(x.T, zz.T);"
   ]
  },
  {
   "cell_type": "markdown",
   "metadata": {},
   "source": [
    "Generate the data starting from the inverse covariance matrices."
   ]
  },
  {
   "cell_type": "code",
   "execution_count": 4,
   "metadata": {
    "scrolled": true
   },
   "outputs": [],
   "source": [
    "np.random.seed(7)\n",
    "\n",
    "# square\n",
    "n_samples = 100\n",
    "n_dim_obs = 20\n",
    "T = 10\n",
    "\n",
    "data = {}\n",
    "data['square'] = datasets.make_dataset(n_samples=n_samples, n_dim_obs=n_dim_obs, n_dim_lat=0, T=T,\n",
    "                             time_on_axis='last',\n",
    "                             mode='sin', shape='square', closeness=2.4, normalize=1)\n",
    "\n",
    "# smooth\n",
    "n_samples = 100\n",
    "n_dim_obs = 20\n",
    "T = 10\n",
    "\n",
    "data['smooth'] = datasets.make_dataset(n_samples=n_samples, n_dim_obs=n_dim_obs, n_dim_lat=0, T=T,\n",
    "                             time_on_axis='last',\n",
    "                             mode='sin', shape='smooth', closeness=2.4, normalize=1)\n",
    "\n",
    "# plt.step(np.array([squareform(y, checks=None) for y in data.thetas]), '-|');\n",
    "# plt.savefig(\"/home/fede/Dropbox/Latent variables networks/forward backward time varying graphical lasso/smooth_signal.pdf\")"
   ]
  },
  {
   "cell_type": "markdown",
   "metadata": {},
   "source": [
    "### Let's run "
   ]
  },
  {
   "cell_type": "code",
   "execution_count": 5,
   "metadata": {},
   "outputs": [],
   "source": [
    "# X = data.data\n",
    "# X_tr, X_ts = train_test_split(X)"
   ]
  },
  {
   "cell_type": "code",
   "execution_count": 449,
   "metadata": {},
   "outputs": [],
   "source": [
    "import pandas as pd\n",
    "from functools import partial\n",
    "from regain import update_rules; reload(update_rules);\n",
    "from regain.forward_backward import time_graph_lasso_; reload(time_graph_lasso_)\n",
    "\n",
    "from sklearn.covariance import GraphLasso, GraphLassoCV\n",
    "import sys; sys.path.append(\"/home/fede/src/TVGL\")\n",
    "import inferGraphL1; reload(inferGraphL1)\n",
    "import TVGL; reload(TVGL)\n",
    "\n",
    "# use:\n",
    "# beta = 2.1, norm = 1\n",
    "# beta = 5.05, norm = 2\n",
    "# prepare dataframe for results\n",
    "\n",
    "methods = ['TGL-FB ($\\ell_{21}$)', 'TGL-FB ($\\ell_1$)', 'GL', 'TVGL ($\\ell_{21}$)', 'TVGL ($\\ell_1$)']\n",
    "\n",
    "scores = sorted(['iter', 'accuracy',  'average_precision',  'balanced_accuracy',  'dor',  'f1',  'fall_out',  'false_omission_rate',  'fdr',  'fn',  'fp',  'miss_rate',  'nlr',  'npv',  'plr',  'precision',  'prevalence',  'recall',  'specificity',  'tn',  'tp'])\n",
    "evolution = sorted(['square', 'smooth'])\n",
    "\n",
    "rows = methods\n",
    "cols = pd.MultiIndex.from_product([evolution, scores], names=('evolution', 'score'))\n",
    "# rows = pd.MultiIndex.from_product([methods, n_times], names=('method','time'))\n",
    "\n",
    "dff = pd.DataFrame(columns=cols, index=rows)\n",
    "idx = pd.IndexSlice"
   ]
  },
  {
   "cell_type": "code",
   "execution_count": 450,
   "metadata": {},
   "outputs": [],
   "source": [
    "def run_performance(beta=1, evolution='square'):\n",
    "    X = data[evolution].data\n",
    "    \n",
    "    error_function = partial(utils.structure_error, data[evolution].thetas,\n",
    "                             no_diagonal=0, thresholding=0, eps=1e-3)\n",
    "    tglfb = time_graph_lasso_.TimeGraphLassoForwardBackward(\n",
    "        verbose=0, gamma=1, alpha='max', beta=beta,\n",
    "        delta=.0001, choose='lamda',\n",
    "        lamda=1, tol=1e-5, eps=0.7,\n",
    "        time_norm=2, max_iter=300, time_on_axis='last').fit(X)\n",
    "#     print(tglfb.alpha_max(X))\n",
    "#     return\n",
    "    res = error_function(tglfb.precision_)\n",
    "    res['iter'] = tglfb.n_iter_\n",
    "    dff.loc['TGL-FB ($\\ell_{21}$)', idx[evolution, :]] = [res[x] for x in scores]\n",
    "    \n",
    "    tglfb = tglfb.set_params(time_norm=1).fit(X)\n",
    "    res = error_function(tglfb.precision_)\n",
    "    res['iter'] = tglfb.n_iter_\n",
    "    dff.loc['TGL-FB ($\\ell_1$)', idx[evolution, :]] = [res[x] for x in scores]\n",
    "\n",
    "    gl = GraphLasso(alpha=tglfb.alpha)\n",
    "#     gl = GraphLassoCV(alphas=100)\n",
    "    precision_gl = np.array([gl.fit(x).precision_.copy() for x in X.transpose(2,0,1)])\n",
    "    res = error_function(precision_gl)\n",
    "    res['iter'] = gl.n_iter_\n",
    "    dff.loc['GL', idx[evolution, :]] = [res[x] for x in scores]\n",
    "    \n",
    "    thetaSet, empCovSet, status, gvx = TVGL.TVGL(\n",
    "        np.vstack(X.transpose(2,0,1)), X.shape[0],\n",
    "        lamb=tglfb.alpha, beta=tglfb.beta, indexOfPenalty=2, verbose=False)\n",
    "\n",
    "    res = error_function(np.array(thetaSet))\n",
    "    res['iter'] = gvx.n_iter_\n",
    "    dff.loc['TVGL ($\\ell_{21}$)', idx[evolution, :]] = [res[x] for x in scores]\n",
    "    \n",
    "    thetaSet, empCovSet, status, gvx = TVGL.TVGL(\n",
    "        np.vstack(X.transpose(2,0,1)), X.shape[0],\n",
    "        lamb=tglfb.alpha, beta=tglfb.beta, indexOfPenalty=1, verbose=False)\n",
    "    res = error_function(np.array(thetaSet))\n",
    "    res['iter'] = gvx.n_iter_\n",
    "    dff.loc['TVGL ($\\ell_1$)', idx[evolution, :]] = [res[x] for x in scores]"
   ]
  },
  {
   "cell_type": "code",
   "execution_count": 453,
   "metadata": {
    "scrolled": true
   },
   "outputs": [
    {
     "name": "stderr",
     "output_type": "stream",
     "text": [
      "/home/fede/src/slipguru/regain/regain/forward_backward/time_graph_lasso_.py:226: UserWarning: precision is not positive definite.\n",
      "  objective, n_samples=n_samples, emp_cov=emp_cov,\n"
     ]
    },
    {
     "name": "stdout",
     "output_type": "stream",
     "text": [
      "Use l-2 penalty function\n",
      "10\n",
      "lambda = 0.1, beta = 1\n",
      "Use l-1 penalty function\n",
      "10\n",
      "lambda = 0.1, beta = 1\n"
     ]
    }
   ],
   "source": [
    "run_performance(beta=bscv.best_params_['beta'], evolution='square')\n",
    "run_performance(beta=bscv_smooth.best_params_['beta'], evolution='smooth')\n",
    "# run_performance(beta=2.1, evolution='smooth')"
   ]
  },
  {
   "cell_type": "code",
   "execution_count": 454,
   "metadata": {},
   "outputs": [
    {
     "data": {
      "text/html": [
       "<div>\n",
       "<style scoped>\n",
       "    .dataframe tbody tr th:only-of-type {\n",
       "        vertical-align: middle;\n",
       "    }\n",
       "\n",
       "    .dataframe tbody tr th {\n",
       "        vertical-align: top;\n",
       "    }\n",
       "\n",
       "    .dataframe thead th {\n",
       "        text-align: right;\n",
       "    }\n",
       "</style>\n",
       "<table border=\"1\" class=\"dataframe\">\n",
       "  <thead>\n",
       "    <tr style=\"text-align: right;\">\n",
       "      <th>score</th>\n",
       "      <th>accuracy</th>\n",
       "      <th>average_precision</th>\n",
       "      <th>balanced_accuracy</th>\n",
       "      <th>dor</th>\n",
       "      <th>f1</th>\n",
       "      <th>fall_out</th>\n",
       "      <th>false_omission_rate</th>\n",
       "      <th>fdr</th>\n",
       "      <th>fn</th>\n",
       "      <th>fp</th>\n",
       "      <th>...</th>\n",
       "      <th>miss_rate</th>\n",
       "      <th>nlr</th>\n",
       "      <th>npv</th>\n",
       "      <th>plr</th>\n",
       "      <th>precision</th>\n",
       "      <th>prevalence</th>\n",
       "      <th>recall</th>\n",
       "      <th>specificity</th>\n",
       "      <th>tn</th>\n",
       "      <th>tp</th>\n",
       "    </tr>\n",
       "  </thead>\n",
       "  <tbody>\n",
       "    <tr>\n",
       "      <th>TGL-FB ($\\ell_{21}$)</th>\n",
       "      <td>0.5895</td>\n",
       "      <td>0.817554</td>\n",
       "      <td>0.5</td>\n",
       "      <td>0</td>\n",
       "      <td>0.741743</td>\n",
       "      <td>1</td>\n",
       "      <td>0</td>\n",
       "      <td>0.4105</td>\n",
       "      <td>0</td>\n",
       "      <td>1642</td>\n",
       "      <td>...</td>\n",
       "      <td>0</td>\n",
       "      <td>0</td>\n",
       "      <td>1</td>\n",
       "      <td>1</td>\n",
       "      <td>0.5895</td>\n",
       "      <td>0.5895</td>\n",
       "      <td>1</td>\n",
       "      <td>0</td>\n",
       "      <td>0</td>\n",
       "      <td>2358</td>\n",
       "    </tr>\n",
       "    <tr>\n",
       "      <th>TGL-FB ($\\ell_1$)</th>\n",
       "      <td>0.5895</td>\n",
       "      <td>0.744296</td>\n",
       "      <td>0.5</td>\n",
       "      <td>0</td>\n",
       "      <td>0.741743</td>\n",
       "      <td>1</td>\n",
       "      <td>0</td>\n",
       "      <td>0.4105</td>\n",
       "      <td>0</td>\n",
       "      <td>1642</td>\n",
       "      <td>...</td>\n",
       "      <td>0</td>\n",
       "      <td>0</td>\n",
       "      <td>1</td>\n",
       "      <td>1</td>\n",
       "      <td>0.5895</td>\n",
       "      <td>0.5895</td>\n",
       "      <td>1</td>\n",
       "      <td>0</td>\n",
       "      <td>0</td>\n",
       "      <td>2358</td>\n",
       "    </tr>\n",
       "    <tr>\n",
       "      <th>GL</th>\n",
       "      <td>0.5645</td>\n",
       "      <td>0.725211</td>\n",
       "      <td>0.579025</td>\n",
       "      <td>1.92624</td>\n",
       "      <td>0.574083</td>\n",
       "      <td>0.339829</td>\n",
       "      <td>0.522046</td>\n",
       "      <td>0.322171</td>\n",
       "      <td>1184</td>\n",
       "      <td>558</td>\n",
       "      <td>...</td>\n",
       "      <td>0.50212</td>\n",
       "      <td>0.760592</td>\n",
       "      <td>0.477954</td>\n",
       "      <td>1.46509</td>\n",
       "      <td>0.677829</td>\n",
       "      <td>0.5895</td>\n",
       "      <td>0.49788</td>\n",
       "      <td>0.660171</td>\n",
       "      <td>1084</td>\n",
       "      <td>1174</td>\n",
       "    </tr>\n",
       "    <tr>\n",
       "      <th>TVGL ($\\ell_1$)</th>\n",
       "      <td>0.542</td>\n",
       "      <td>0.64296</td>\n",
       "      <td>0.600625</td>\n",
       "      <td>4.85264</td>\n",
       "      <td>0.412821</td>\n",
       "      <td>0.0718636</td>\n",
       "      <td>0.529339</td>\n",
       "      <td>0.154856</td>\n",
       "      <td>1714</td>\n",
       "      <td>118</td>\n",
       "      <td>...</td>\n",
       "      <td>0.726887</td>\n",
       "      <td>0.783168</td>\n",
       "      <td>0.470661</td>\n",
       "      <td>3.80043</td>\n",
       "      <td>0.845144</td>\n",
       "      <td>0.5895</td>\n",
       "      <td>0.273113</td>\n",
       "      <td>0.928136</td>\n",
       "      <td>1524</td>\n",
       "      <td>644</td>\n",
       "    </tr>\n",
       "    <tr>\n",
       "      <th>TVGL ($\\ell_{21}$)</th>\n",
       "      <td>0.467</td>\n",
       "      <td>0.573101</td>\n",
       "      <td>0.547922</td>\n",
       "      <td>0</td>\n",
       "      <td>0.174923</td>\n",
       "      <td>0</td>\n",
       "      <td>0.564918</td>\n",
       "      <td>0</td>\n",
       "      <td>2132</td>\n",
       "      <td>0</td>\n",
       "      <td>...</td>\n",
       "      <td>0.904156</td>\n",
       "      <td>0.904156</td>\n",
       "      <td>0.435082</td>\n",
       "      <td>0</td>\n",
       "      <td>1</td>\n",
       "      <td>0.5895</td>\n",
       "      <td>0.0958439</td>\n",
       "      <td>1</td>\n",
       "      <td>1642</td>\n",
       "      <td>226</td>\n",
       "    </tr>\n",
       "  </tbody>\n",
       "</table>\n",
       "<p>5 rows × 21 columns</p>\n",
       "</div>"
      ],
      "text/plain": [
       "score                accuracy average_precision balanced_accuracy      dor  \\\n",
       "TGL-FB ($\\ell_{21}$)   0.5895          0.817554               0.5        0   \n",
       "TGL-FB ($\\ell_1$)      0.5895          0.744296               0.5        0   \n",
       "GL                     0.5645          0.725211          0.579025  1.92624   \n",
       "TVGL ($\\ell_1$)         0.542           0.64296          0.600625  4.85264   \n",
       "TVGL ($\\ell_{21}$)      0.467          0.573101          0.547922        0   \n",
       "\n",
       "score                       f1   fall_out false_omission_rate       fdr    fn  \\\n",
       "TGL-FB ($\\ell_{21}$)  0.741743          1                   0    0.4105     0   \n",
       "TGL-FB ($\\ell_1$)     0.741743          1                   0    0.4105     0   \n",
       "GL                    0.574083   0.339829            0.522046  0.322171  1184   \n",
       "TVGL ($\\ell_1$)       0.412821  0.0718636            0.529339  0.154856  1714   \n",
       "TVGL ($\\ell_{21}$)    0.174923          0            0.564918         0  2132   \n",
       "\n",
       "score                   fp  ...   miss_rate       nlr       npv      plr  \\\n",
       "TGL-FB ($\\ell_{21}$)  1642  ...           0         0         1        1   \n",
       "TGL-FB ($\\ell_1$)     1642  ...           0         0         1        1   \n",
       "GL                     558  ...     0.50212  0.760592  0.477954  1.46509   \n",
       "TVGL ($\\ell_1$)        118  ...    0.726887  0.783168  0.470661  3.80043   \n",
       "TVGL ($\\ell_{21}$)       0  ...    0.904156  0.904156  0.435082        0   \n",
       "\n",
       "score                precision prevalence     recall specificity    tn    tp  \n",
       "TGL-FB ($\\ell_{21}$)    0.5895     0.5895          1           0     0  2358  \n",
       "TGL-FB ($\\ell_1$)       0.5895     0.5895          1           0     0  2358  \n",
       "GL                    0.677829     0.5895    0.49788    0.660171  1084  1174  \n",
       "TVGL ($\\ell_1$)       0.845144     0.5895   0.273113    0.928136  1524   644  \n",
       "TVGL ($\\ell_{21}$)           1     0.5895  0.0958439           1  1642   226  \n",
       "\n",
       "[5 rows x 21 columns]"
      ]
     },
     "execution_count": 454,
     "metadata": {},
     "output_type": "execute_result"
    }
   ],
   "source": [
    "# dff['smooth'].sort_values(\"f1\", ascending=False)['iter']\n",
    "dff['square'].sort_values(\"f1\", ascending=False)"
   ]
  },
  {
   "cell_type": "code",
   "execution_count": 439,
   "metadata": {
    "scrolled": true
   },
   "outputs": [],
   "source": [
    "evolution = 'square'\n",
    "X = data[evolution].data\n",
    "reload(time_graph_lasso_)\n",
    "tglfb = time_graph_lasso_.TimeGraphLassoForwardBackward(\n",
    "    verbose=0, alpha='max', beta=2,\n",
    "    delta=1e-5, eps=0.7, time_norm=1, max_iter=300, time_on_axis='last',\n",
    "    choose='gamma', tol=1e-5, lamda_criterion='c'\n",
    ").fit(X)"
   ]
  },
  {
   "cell_type": "code",
   "execution_count": 440,
   "metadata": {},
   "outputs": [
    {
     "data": {
      "text/plain": [
       "300"
      ]
     },
     "execution_count": 440,
     "metadata": {},
     "output_type": "execute_result"
    }
   ],
   "source": [
    "tglfb.n_iter_"
   ]
  },
  {
   "cell_type": "code",
   "execution_count": 442,
   "metadata": {
    "collapsed": true
   },
   "outputs": [
    {
     "data": {
      "text/plain": [
       "{'accuracy': 0.59,\n",
       " 'average_precision': 0.7447260620913716,\n",
       " 'balanced_accuracy': 0.5006090133982948,\n",
       " 'dor': 0,\n",
       " 'f1': 0.7419760855884204,\n",
       " 'fall_out': 0.9987819732034104,\n",
       " 'false_omission_rate': 0.0,\n",
       " 'fdr': 0.4102051025512756,\n",
       " 'fn': 0,\n",
       " 'fp': 1640,\n",
       " 'miss_rate': 0.0,\n",
       " 'nlr': 0.0,\n",
       " 'npv': 1.0,\n",
       " 'plr': 1.001219512195122,\n",
       " 'precision': 0.5897948974487244,\n",
       " 'prevalence': 0.5895,\n",
       " 'recall': 1.0,\n",
       " 'specificity': 0.001218026796589525,\n",
       " 'tn': 2,\n",
       " 'tp': 2358}"
      ]
     },
     "execution_count": 442,
     "metadata": {},
     "output_type": "execute_result"
    }
   ],
   "source": [
    "error_function = partial(utils.structure_error, data[evolution].thetas,\n",
    "                             no_diagonal=0, thresholding=1, eps=1e-4)\n",
    "\n",
    "res = error_function(tglfb.precision_)\n",
    "res"
   ]
  },
  {
   "cell_type": "markdown",
   "metadata": {},
   "source": [
    "### BayesOptimisation\n",
    "Since we have lots of hyper-parameters, we rely on a Bayesian optimisation procedure in order to select the best hyper-parameters, treating the scoring function of our algorithm as a black-box for the gaussian process underlying the Bayesian optimisation.\n",
    "\n",
    "Such procedure is performed via the `scikit-optimize` package."
   ]
  },
  {
   "cell_type": "code",
   "execution_count": null,
   "metadata": {},
   "outputs": [
    {
     "name": "stderr",
     "output_type": "stream",
     "text": [
      "/home/fede/src/slipguru/regain/regain/forward_backward/time_graph_lasso_.py:299: UserWarning: Objective did not converge.\n",
      "  if iteration_ == 0:\n"
     ]
    }
   ],
   "source": [
    "from regain import utils; reload(utils)\n",
    "from regain import prox; reload(prox);\n",
    "from regain.forward_backward import time_graph_lasso_; reload(time_graph_lasso_)\n",
    "\n",
    "from skopt import searchcv; reload(searchcv)\n",
    "\n",
    "X = data['square'].data\n",
    "\n",
    "domain = {#'alpha': Real(1e-1, 3, prior='uniform'),\n",
    "          'beta': Real(1e-1, 1e1, prior='uniform'),\n",
    "#           'time_norm': Categorical([1, 2])\n",
    "#           'eps': Categorical([0.5, 0.7, 0.8, 0.9])\n",
    "         }\n",
    "\n",
    "mdl = time_graph_lasso_.TimeGraphLassoForwardBackward(\n",
    "    verbose=0, tol=1e-5, max_iter=200, gamma=1, alpha='max', beta=2.1, time_norm=1,\n",
    "    time_on_axis='last', eps=0.7, delta=1e-5, choose='lamda', lamda_criterion='c')\n",
    "    \n",
    "cv = ShuffleSplit(5, test_size=0.2)\n",
    "    \n",
    "bscv = searchcv.BayesSearchCV(\n",
    "    mdl, domain, n_iter=200, cv=cv, verbose=0, n_jobs=1, iid=True, n_points=3,\n",
    "    error_score=-3e5)\n",
    "\n",
    "def on_step(optim_result):\n",
    "    score = bscv.best_score_\n",
    "#     print(\"best score: %s\" % score)\n",
    "\n",
    "bscv.fit(X, callback=on_step)\n",
    "# mdl.fit(data_grid)"
   ]
  },
  {
   "cell_type": "code",
   "execution_count": 365,
   "metadata": {},
   "outputs": [
    {
     "data": {
      "text/plain": [
       "{'beta': 8.036046772187222}"
      ]
     },
     "execution_count": 365,
     "metadata": {},
     "output_type": "execute_result"
    }
   ],
   "source": [
    "bscv.best_params_"
   ]
  },
  {
   "cell_type": "code",
   "execution_count": null,
   "metadata": {},
   "outputs": [],
   "source": [
    "# searchCV on smooth data set\n",
    "bscv_smooth = searchcv.BayesSearchCV(\n",
    "    mdl, domain, n_iter=200, cv=cv, verbose=0, n_jobs=1, iid=True, n_points=3,\n",
    "    error_score=-3e5)\n",
    "\n",
    "def on_step(optim_result):\n",
    "    score = bscv_smooth.best_score_\n",
    "#     print(\"best score: %s\" % score)\n",
    "\n",
    "bscv_smooth.fit(data['smooth'].data, callback=on_step)"
   ]
  },
  {
   "cell_type": "markdown",
   "metadata": {},
   "source": [
    "### GridSearchCV\n",
    "As for the hyper-parameters tuning, one may choose to fix a grid of parameters and select the best ones.\n",
    "For this we can use `GridSearchCV`, from the `scikit-learn` library."
   ]
  },
  {
   "cell_type": "code",
   "execution_count": null,
   "metadata": {
    "scrolled": true
   },
   "outputs": [],
   "source": [
    "# data_grid = np.array(data.data).transpose(1,2,0)\n",
    "param_grid=dict(alpha=np.logspace(-2,0,3), beta=np.logspace(-2,0,3),\n",
    "                time_norm=[1, 2])\n",
    "\n",
    "mdl = time_graph_lasso_.TimeGraphLassoForwardBackward(\n",
    "    verbose=0, time_on_axis='last')\n",
    "    \n",
    "cv = ShuffleSplit(2, test_size=0.2)\n",
    "ltgl = GridSearchCV(mdl, param_grid, cv=cv, verbose=1)\n",
    "ltgl.fit(data_grid)"
   ]
  }
 ],
 "metadata": {
  "kernelspec": {
   "display_name": "Python 2",
   "language": "python",
   "name": "python2"
  },
  "language_info": {
   "codemirror_mode": {
    "name": "ipython",
    "version": 2
   },
   "file_extension": ".py",
   "mimetype": "text/x-python",
   "name": "python",
   "nbconvert_exporter": "python",
   "pygments_lexer": "ipython2",
   "version": "2.7.14"
  }
 },
 "nbformat": 4,
 "nbformat_minor": 2
}
