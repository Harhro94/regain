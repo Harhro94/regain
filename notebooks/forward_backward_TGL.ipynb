{
 "cells": [
  {
   "cell_type": "markdown",
   "metadata": {},
   "source": [
    "## Forward-backward splitting for time-varying graphical lasso\n",
    "This notebook shows how to minimise the time-varying graphical lasso with element-wise penalty norms across time-points.\n",
    "\n",
    "First of all, as always, let's create a bunch of data.\n",
    "For this task, we generate eah variable to change according to a certain behaviour which can be described as evolution via tigonometric functions, such as `sin` and `cos`."
   ]
  },
  {
   "cell_type": "code",
   "execution_count": null,
   "metadata": {},
   "outputs": [],
   "source": [
    "%matplotlib inline\n",
    "import numpy as np\n",
    "import matplotlib.pyplot as plt\n",
    "\n",
    "from scipy.spatial.distance import squareform\n",
    "from scipy import signal\n",
    "from regain import datasets, utils\n",
    "\n",
    "from sklearn.datasets import load_iris\n",
    "from sklearn.svm import SVC \n",
    "from sklearn.model_selection import train_test_split\n",
    "from sklearn.model_selection import GridSearchCV, ShuffleSplit\n",
    "\n",
    "from skopt.searchcv import BayesSearchCV\n",
    "from skopt.space import Real, Categorical, Integer"
   ]
  },
  {
   "cell_type": "code",
   "execution_count": null,
   "metadata": {},
   "outputs": [],
   "source": [
    "np.random.seed(7)\n",
    "\n",
    "fs = 10e3\n",
    "N = 100\n",
    "amp = 2*np.sqrt(2)\n",
    "freq = 1.0\n",
    "noise_power = 0.001 * fs / 2\n",
    "time = np.arange(N) / fs\n",
    "z = amp*np.sin(2*np.pi*freq*time)\n",
    "z += np.random.normal(scale=np.sqrt(noise_power), size=time.shape)\n",
    "plt.plot(z);"
   ]
  },
  {
   "cell_type": "code",
   "execution_count": null,
   "metadata": {},
   "outputs": [],
   "source": [
    "# T = 4\n",
    "\n",
    "# x = np.tile(np.linspace(0, T-1, T), (n_interactions, 1))\n",
    "# zz = amp * signal.square(2 * np.pi * freq * x + phase, duty=.5)\n",
    "# plt.plot(x.T, zz.T);"
   ]
  },
  {
   "cell_type": "code",
   "execution_count": null,
   "metadata": {},
   "outputs": [],
   "source": [
    "np.random.seed(7)\n",
    "n_samples = 10\n",
    "n_dim_obs = 4\n",
    "n_dim_lat = 0  # we want to use the TGL, without latent variables\n",
    "T = 5\n",
    "\n",
    "upper_idx = np.triu_indices(n_dim_obs, 1)\n",
    "n_interactions = len(upper_idx[0])\n",
    "\n",
    "x = np.tile(np.linspace(0, T-1, T), (n_interactions, 1))\n",
    "phase = np.random.rand(n_interactions, 1)\n",
    "freq = np.random.rand(n_interactions, 1) - .70\n",
    "A = np.random.rand(n_interactions, 1)\n",
    "y = A * np.sin(2. * np.pi * freq * x + phase)\n",
    "\n",
    "# threshold\n",
    "y = np.maximum(y, 0)\n",
    "\n",
    "plt.plot(x.T, y.T);"
   ]
  },
  {
   "cell_type": "code",
   "execution_count": null,
   "metadata": {},
   "outputs": [],
   "source": [
    "Y = np.array([squareform(y[:, j]) + np.eye(n_dim_obs) for j in range(y.shape[1])])\n",
    "assert utils.positive_definite(Y)"
   ]
  },
  {
   "cell_type": "code",
   "execution_count": null,
   "metadata": {},
   "outputs": [],
   "source": [
    "from sklearn.gaussian_process import kernels\n",
    "ker = np.array([kernels.RBF(length_scale=.2)(y[:, j][:, None]) for j in range(y.shape[1])])"
   ]
  },
  {
   "cell_type": "markdown",
   "metadata": {},
   "source": [
    "Generate the data starting from the inverse covariance matrices."
   ]
  },
  {
   "cell_type": "code",
   "execution_count": null,
   "metadata": {},
   "outputs": [],
   "source": [
    "np.random.seed(7)\n",
    "\n",
    "n_samples = 1000\n",
    "n_dim_obs = 5\n",
    "T = 10\n",
    "\n",
    "def make_sin(n_dim_obs, n_dim_lat, T, shape='smooth', closeness=1):\n",
    "    upper_idx = np.triu_indices(n_dim_obs, 1)\n",
    "    n_interactions = len(upper_idx[0])\n",
    "    x = np.tile(np.linspace(0, (T-1.) / closeness, T), (n_interactions, 1))\n",
    "    phase = np.random.rand(n_interactions, 1)\n",
    "    freq = np.random.rand(n_interactions, 1) - .50\n",
    "    A = (np.random.rand(n_interactions, 1) + 1) / 2.\n",
    "    \n",
    "    if shape == 'smooth':\n",
    "        y = A * np.sin(2. * np.pi * freq * x + phase)\n",
    "    else:\n",
    "        y = A * signal.square(2 * np.pi * freq * x + phase, duty=.5)\n",
    "\n",
    "    # threshold\n",
    "    y = np.maximum(y, 0)\n",
    "\n",
    "    Y = np.array([squareform(y[:, j]) + 2 * np.eye(n_dim_obs) for j in range(y.shape[1])]) / 2.\n",
    "\n",
    "    assert utils.positive_definite(Y)\n",
    "    return Y, Y, np.zeros_like(Y)\n",
    "\n",
    "data = datasets.make_dataset(n_samples=n_samples, n_dim_obs=n_dim_obs, n_dim_lat=0, T=T,\n",
    "                             time_on_axis='last',\n",
    "                             mode=make_sin, shape='square', closeness=2.4)\n",
    "\n",
    "plt.plot(np.array([squareform(y, checks=None) for y in data.thetas]), '-');"
   ]
  },
  {
   "cell_type": "markdown",
   "metadata": {},
   "source": [
    "### Let's run "
   ]
  },
  {
   "cell_type": "code",
   "execution_count": null,
   "metadata": {},
   "outputs": [],
   "source": [
    "X = data.data\n",
    "X_tr, X_ts = train_test_split(X)"
   ]
  },
  {
   "cell_type": "code",
   "execution_count": null,
   "metadata": {
    "scrolled": true
   },
   "outputs": [],
   "source": [
    "from regain import update_rules; reload(update_rules);\n",
    "from regain.forward_backward import time_graph_lasso_; reload(time_graph_lasso_)\n",
    "tglfb = time_graph_lasso_.TimeGraphLassoForwardBackward(\n",
    "    verbose=1, gamma='max', alpha='max', beta=10, eps=.8, delta=.5,\n",
    "    time_norm=1, max_iter=500, time_on_axis='last').fit(X_tr)"
   ]
  },
  {
   "cell_type": "code",
   "execution_count": null,
   "metadata": {},
   "outputs": [],
   "source": [
    "tglfb.alpha"
   ]
  },
  {
   "cell_type": "code",
   "execution_count": null,
   "metadata": {},
   "outputs": [],
   "source": [
    "utils.structure_error(data.thetas, tglfb.precision_, no_diagonal=0)"
   ]
  },
  {
   "cell_type": "markdown",
   "metadata": {},
   "source": [
    "### BayesOptimisation\n",
    "Since we have lots of hyper-parameters, we rely on a Bayesian optimisation procedure in order to select the best hyper-parameters, treating the scoring function of our algorithm as a black-box for the gaussian process underlying the Bayesian optimisation.\n",
    "\n",
    "Such procedure is performed via the `scikit-optimize` package."
   ]
  },
  {
   "cell_type": "code",
   "execution_count": null,
   "metadata": {
    "scrolled": true
   },
   "outputs": [],
   "source": [
    "from regain import utils; reload(utils)\n",
    "from regain import prox; reload(prox);\n",
    "reload(time_graph_lasso_)\n",
    "\n",
    "from skopt import searchcv; reload(searchcv)\n",
    "data_grid = np.array(data.data)\n",
    "\n",
    "domain = {'alpha': Real(75, 150, prior='uniform'),\n",
    "          'beta': Real(1e0, 1e2, prior='uniform'),\n",
    "#           'time_norm': Categorical([1, 2])\n",
    "         }\n",
    "\n",
    "mdl = time_graph_lasso_.TimeGraphLassoForwardBackward(\n",
    "    verbose=1, tol=1e-4, max_iter=10000, gamma='max', beta=20, alpha=150, time_norm=1,\n",
    "    time_on_axis='last', eps=0.25, choose='gamma')\n",
    "    \n",
    "cv = ShuffleSplit(3, test_size=0.5)\n",
    "    \n",
    "ltgl = searchcv.BayesSearchCV(\n",
    "    mdl, domain, n_iter=50, cv=cv, verbose=2, n_jobs=-1, iid=False, n_points=5)\n",
    "\n",
    "# callback handler\n",
    "def on_step(optim_result):\n",
    "    score = ltgl.best_score_\n",
    "    print(\"best score: %s\" % score)\n",
    "#     if score >= 0.98:\n",
    "#         print('Interrupting!')\n",
    "#         return True\n",
    "\n",
    "\n",
    "# ltgl.fit(data_grid, callback=on_step)\n",
    "mdl.fit(data_grid)"
   ]
  },
  {
   "cell_type": "code",
   "execution_count": null,
   "metadata": {},
   "outputs": [],
   "source": [
    "utils.structure_error(data.thetas, mdl.precision_, no_diagonal=0, thresholding=1, eps=1e-7)"
   ]
  },
  {
   "cell_type": "code",
   "execution_count": null,
   "metadata": {},
   "outputs": [],
   "source": [
    "mdl = ltgl.best_estimator_"
   ]
  },
  {
   "cell_type": "code",
   "execution_count": null,
   "metadata": {},
   "outputs": [],
   "source": [
    "mdl.n_iter_"
   ]
  },
  {
   "cell_type": "code",
   "execution_count": null,
   "metadata": {
    "scrolled": true
   },
   "outputs": [],
   "source": [
    "mdl.score(data_grid)"
   ]
  },
  {
   "cell_type": "code",
   "execution_count": null,
   "metadata": {},
   "outputs": [],
   "source": [
    "ltgl.cv_results_"
   ]
  },
  {
   "cell_type": "code",
   "execution_count": null,
   "metadata": {
    "scrolled": true
   },
   "outputs": [],
   "source": [
    "ltgl.best_params_"
   ]
  },
  {
   "cell_type": "code",
   "execution_count": null,
   "metadata": {},
   "outputs": [],
   "source": [
    "mdl.precision_"
   ]
  },
  {
   "cell_type": "markdown",
   "metadata": {},
   "source": [
    "### GridSearchCV\n",
    "As for the hyper-parameters tuning, one may choose to fix a grid of parameters and select the best ones.\n",
    "For this we can use `GridSearchCV`, from the `scikit-learn` library."
   ]
  },
  {
   "cell_type": "code",
   "execution_count": null,
   "metadata": {
    "scrolled": true
   },
   "outputs": [],
   "source": [
    "# data_grid = np.array(data.data).transpose(1,2,0)\n",
    "param_grid=dict(alpha=np.logspace(-2,0,3), beta=np.logspace(-2,0,3), gamma=np.logspace(-2, 0, 3),\n",
    "               time_norm=[1, 2])\n",
    "\n",
    "mdl = time_graph_lasso_.TimeGraphLassoForwardBackward(\n",
    "    verbose=0, time_on_axis='last')\n",
    "    \n",
    "cv = ShuffleSplit(2, test_size=0.2)\n",
    "ltgl = GridSearchCV(mdl, param_grid, cv=cv, verbose=1)\n",
    "ltgl.fit(data_grid)"
   ]
  }
 ],
 "metadata": {
  "kernelspec": {
   "display_name": "Python 2",
   "language": "python",
   "name": "python2"
  },
  "language_info": {
   "codemirror_mode": {
    "name": "ipython",
    "version": 2
   },
   "file_extension": ".py",
   "mimetype": "text/x-python",
   "name": "python",
   "nbconvert_exporter": "python",
   "pygments_lexer": "ipython2",
   "version": "2.7.14"
  }
 },
 "nbformat": 4,
 "nbformat_minor": 2
}
