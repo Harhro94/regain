{
 "cells": [
  {
   "cell_type": "markdown",
   "metadata": {},
   "source": [
    "# Forward-backward splitting for time-varying graphical lasso\n",
    "This notebook shows how to minimise the time-varying graphical lasso with element-wise penalty norms across time-points.\n",
    "\n",
    "First of all, as always, let's create a bunch of data.\n",
    "For this task, we generate eah variable to change according to a certain behaviour which can be described as evolution via tigonometric functions, such as `sin` and `cos`."
   ]
  },
  {
   "cell_type": "code",
   "execution_count": 1,
   "metadata": {},
   "outputs": [],
   "source": [
    "%matplotlib inline\n",
    "import numpy as np\n",
    "import matplotlib.pyplot as plt\n",
    "\n",
    "from scipy.spatial.distance import squareform\n",
    "from regain import datasets, utils\n",
    "\n",
    "from sklearn.datasets import load_iris\n",
    "from sklearn.svm import SVC \n",
    "from sklearn.model_selection import train_test_split\n",
    "from sklearn.model_selection import GridSearchCV, ShuffleSplit\n",
    "\n",
    "from skopt.searchcv import BayesSearchCV\n",
    "from skopt.space import Real, Categorical, Integer"
   ]
  },
  {
   "cell_type": "code",
   "execution_count": 2,
   "metadata": {},
   "outputs": [],
   "source": [
    "# np.random.seed(7)\n",
    "\n",
    "# fs = 10e3\n",
    "# N = 100\n",
    "# amp = 2*np.sqrt(2)\n",
    "# freq = 1.0\n",
    "# noise_power = 0.001 * fs / 2\n",
    "# time = np.arange(N) / fs\n",
    "# z = amp*np.sin(2*np.pi*freq*time)\n",
    "# z += np.random.normal(scale=np.sqrt(noise_power), size=time.shape)\n",
    "# plt.plot(z);"
   ]
  },
  {
   "cell_type": "code",
   "execution_count": 3,
   "metadata": {},
   "outputs": [],
   "source": [
    "# T = 4\n",
    "\n",
    "# x = np.tile(np.linspace(0, T-1, T), (n_interactions, 1))\n",
    "# zz = amp * signal.square(2 * np.pi * freq * x + phase, duty=.5)\n",
    "# plt.plot(x.T, zz.T);"
   ]
  },
  {
   "cell_type": "markdown",
   "metadata": {},
   "source": [
    "Generate the data starting from the inverse covariance matrices."
   ]
  },
  {
   "cell_type": "code",
   "execution_count": 4,
   "metadata": {},
   "outputs": [],
   "source": [
    "np.random.seed(7)\n",
    "\n",
    "# square\n",
    "n_samples = 100\n",
    "n_dim_obs = 10\n",
    "T = 10\n",
    "\n",
    "reload(datasets)\n",
    "data = datasets.make_dataset(n_samples=n_samples, n_dim_obs=n_dim_obs, n_dim_lat=0, T=T,\n",
    "                             time_on_axis='last',\n",
    "                             mode='sin', shape='square', closeness=2.4, normalize=1)\n",
    "\n",
    "# # smooth\n",
    "# n_samples = 100\n",
    "# n_dim_obs = 10\n",
    "# T = 10\n",
    "\n",
    "# reload(datasets)\n",
    "# data = datasets.make_dataset(n_samples=n_samples, n_dim_obs=n_dim_obs, n_dim_lat=0, T=T,\n",
    "#                              time_on_axis='last',\n",
    "#                              mode='sin', shape='smooth', closeness=2.4, normalize=1)\n",
    "\n",
    "# plt.step(np.array([squareform(y, checks=None) for y in data.thetas]), '-|');\n",
    "# plt.savefig(\"/home/fede/Dropbox/Latent variables networks/forward backward time varying graphical lasso/smooth_signal.pdf\")"
   ]
  },
  {
   "cell_type": "markdown",
   "metadata": {},
   "source": [
    "### Let's run "
   ]
  },
  {
   "cell_type": "code",
   "execution_count": 5,
   "metadata": {},
   "outputs": [],
   "source": [
    "X = data.data\n",
    "X_tr, X_ts = train_test_split(X)"
   ]
  },
  {
   "cell_type": "code",
   "execution_count": 7,
   "metadata": {
    "scrolled": true
   },
   "outputs": [
    {
     "name": "stdout",
     "output_type": "stream",
     "text": [
      "obj: 10816.3431, rnorm: 0.0508305, snorm: 8.7482,eps_pri: 0.2535, eps_dual: 0.0100\n",
      "obj: 10807.3082, rnorm: 0.0571810, snorm: 9.0349,eps_pri: 0.2533, eps_dual: 0.0100\n",
      "obj: 10797.8971, rnorm: 0.0653418, snorm: 9.4111,eps_pri: 0.2531, eps_dual: 0.0100\n",
      "obj: 10788.3819, rnorm: 0.0731711, snorm: 9.5152,eps_pri: 0.2528, eps_dual: 0.0100\n",
      "obj: 10778.6975, rnorm: 0.0823681, snorm: 9.6843,eps_pri: 0.2525, eps_dual: 0.0100\n",
      "obj: 10769.1126, rnorm: 0.0913933, snorm: 9.5849,eps_pri: 0.2522, eps_dual: 0.0100\n",
      "obj: 10759.8130, rnorm: 0.1000273, snorm: 9.2996,eps_pri: 0.2518, eps_dual: 0.0100\n",
      "obj: 10751.4027, rnorm: 0.1092637, snorm: 8.4103,eps_pri: 0.2514, eps_dual: 0.0100\n",
      "obj: 10751.3882, rnorm: 0.1289854, snorm: 0.0145,eps_pri: 0.2509, eps_dual: 0.0100\n",
      "obj: 10748.9953, rnorm: 0.1201356, snorm: 2.3929,eps_pri: 0.2507, eps_dual: 0.0100\n",
      "obj: 10744.5265, rnorm: 0.1015227, snorm: 4.4687,eps_pri: 0.2504, eps_dual: 0.0100\n",
      "obj: 10742.5018, rnorm: 0.0841034, snorm: 2.0247,eps_pri: 0.2504, eps_dual: 0.0100\n",
      "obj: 10740.3573, rnorm: 0.0724110, snorm: 2.1445,eps_pri: 0.2501, eps_dual: 0.0100\n",
      "obj: 10738.6909, rnorm: 0.0620712, snorm: 1.6664,eps_pri: 0.2501, eps_dual: 0.0100\n",
      "obj: 10737.2930, rnorm: 0.0525953, snorm: 1.3979,eps_pri: 0.2498, eps_dual: 0.0100\n",
      "obj: 10737.8459, rnorm: 0.0695544, snorm: 0.5529,eps_pri: 0.2498, eps_dual: 0.0100\n",
      "obj: 10738.8013, rnorm: 0.0860936, snorm: 0.9554,eps_pri: 0.2496, eps_dual: 0.0100\n",
      "obj: 10737.3621, rnorm: 0.0925963, snorm: 1.4392,eps_pri: 0.2496, eps_dual: 0.0100\n",
      "obj: 10735.3771, rnorm: 0.0790874, snorm: 1.9850,eps_pri: 0.2494, eps_dual: 0.0100\n",
      "obj: 10734.0658, rnorm: 0.0667789, snorm: 1.3113,eps_pri: 0.2494, eps_dual: 0.0100\n",
      "obj: 10733.0713, rnorm: 0.0566213, snorm: 0.9945,eps_pri: 0.2492, eps_dual: 0.0100\n",
      "obj: 10733.0044, rnorm: 0.0599445, snorm: 0.0669,eps_pri: 0.2492, eps_dual: 0.0100\n",
      "obj: 10733.8224, rnorm: 0.0695659, snorm: 0.8180,eps_pri: 0.2491, eps_dual: 0.0100\n",
      "obj: 10732.6163, rnorm: 0.0741257, snorm: 1.2061,eps_pri: 0.2491, eps_dual: 0.0100\n",
      "obj: 10731.5949, rnorm: 0.0621325, snorm: 1.0214,eps_pri: 0.2489, eps_dual: 0.0100\n",
      "obj: 10730.6568, rnorm: 0.0526051, snorm: 0.9380,eps_pri: 0.2489, eps_dual: 0.0100\n",
      "obj: 10730.1090, rnorm: 0.0434663, snorm: 0.5479,eps_pri: 0.2487, eps_dual: 0.0100\n",
      "obj: 10729.9585, rnorm: 0.0454607, snorm: 0.1504,eps_pri: 0.2487, eps_dual: 0.0100\n",
      "obj: 10730.3957, rnorm: 0.0518476, snorm: 0.4372,eps_pri: 0.2486, eps_dual: 0.0100\n",
      "obj: 10729.4873, rnorm: 0.0528636, snorm: 0.9084,eps_pri: 0.2486, eps_dual: 0.0100\n",
      "obj: 10729.0458, rnorm: 0.0425542, snorm: 0.4415,eps_pri: 0.2485, eps_dual: 0.0100\n",
      "obj: 10728.9702, rnorm: 0.0441900, snorm: 0.0756,eps_pri: 0.2485, eps_dual: 0.0100\n",
      "obj: 10729.4602, rnorm: 0.0503581, snorm: 0.4900,eps_pri: 0.2483, eps_dual: 0.0100\n",
      "obj: 10728.6170, rnorm: 0.0509111, snorm: 0.8432,eps_pri: 0.2483, eps_dual: 0.0100\n",
      "obj: 10728.2514, rnorm: 0.0406085, snorm: 0.3656,eps_pri: 0.2482, eps_dual: 0.0100\n",
      "obj: 10728.2081, rnorm: 0.0416692, snorm: 0.0433,eps_pri: 0.2482, eps_dual: 0.0100\n",
      "obj: 10728.6905, rnorm: 0.0476968, snorm: 0.4824,eps_pri: 0.2481, eps_dual: 0.0100\n",
      "obj: 10727.9260, rnorm: 0.0477736, snorm: 0.7645,eps_pri: 0.2481, eps_dual: 0.0100\n",
      "obj: 10727.6287, rnorm: 0.0377108, snorm: 0.2973,eps_pri: 0.2480, eps_dual: 0.0100\n",
      "obj: 10727.5974, rnorm: 0.0382010, snorm: 0.0313,eps_pri: 0.2480, eps_dual: 0.0100\n",
      "obj: 10728.0175, rnorm: 0.0437138, snorm: 0.4201,eps_pri: 0.2479, eps_dual: 0.0100\n",
      "obj: 10727.3502, rnorm: 0.0431870, snorm: 0.6673,eps_pri: 0.2479, eps_dual: 0.0100\n",
      "obj: 10727.1247, rnorm: 0.0335546, snorm: 0.2255,eps_pri: 0.2478, eps_dual: 0.0100\n",
      "obj: 10727.0898, rnorm: 0.0335924, snorm: 0.0350,eps_pri: 0.2478, eps_dual: 0.0100\n",
      "obj: 10727.3934, rnorm: 0.0380735, snorm: 0.3036,eps_pri: 0.2478, eps_dual: 0.0100\n",
      "obj: 10726.8522, rnorm: 0.0368260, snorm: 0.5412,eps_pri: 0.2478, eps_dual: 0.0100\n",
      "obj: 10726.6978, rnorm: 0.0278783, snorm: 0.1544,eps_pri: 0.2477, eps_dual: 0.0100\n",
      "obj: 10727.0343, rnorm: 0.0342462, snorm: 0.3365,eps_pri: 0.2477, eps_dual: 0.0100\n",
      "obj: 10728.9042, rnorm: 0.0549067, snorm: 1.8699,eps_pri: 0.2476, eps_dual: 0.0100\n",
      "obj: 10727.9583, rnorm: 0.0650107, snorm: 0.9459,eps_pri: 0.2476, eps_dual: 0.0100\n",
      "obj: 10727.3999, rnorm: 0.0528277, snorm: 0.5584,eps_pri: 0.2475, eps_dual: 0.0100\n",
      "obj: 10726.7979, rnorm: 0.0424560, snorm: 0.6020,eps_pri: 0.2475, eps_dual: 0.0100\n",
      "obj: 10726.5881, rnorm: 0.0337029, snorm: 0.2098,eps_pri: 0.2475, eps_dual: 0.0100\n",
      "obj: 10726.5907, rnorm: 0.0328355, snorm: 0.0026,eps_pri: 0.2475, eps_dual: 0.0100\n",
      "obj: 10726.9347, rnorm: 0.0376699, snorm: 0.3440,eps_pri: 0.2474, eps_dual: 0.0100\n",
      "obj: 10726.4274, rnorm: 0.0361657, snorm: 0.5073,eps_pri: 0.2474, eps_dual: 0.0100\n",
      "obj: 10726.2933, rnorm: 0.0273373, snorm: 0.1341,eps_pri: 0.2474, eps_dual: 0.0100\n",
      "obj: 10726.2735, rnorm: 0.0262630, snorm: 0.0198,eps_pri: 0.2474, eps_dual: 0.0100\n",
      "obj: 10726.4564, rnorm: 0.0295157, snorm: 0.1829,eps_pri: 0.2473, eps_dual: 0.0100\n",
      "obj: 10726.1244, rnorm: 0.0274111, snorm: 0.3320,eps_pri: 0.2473, eps_dual: 0.0100\n",
      "obj: 10726.0458, rnorm: 0.0198655, snorm: 0.0787,eps_pri: 0.2473, eps_dual: 0.0100\n",
      "obj: 10726.1990, rnorm: 0.0234749, snorm: 0.1533,eps_pri: 0.2473, eps_dual: 0.0100\n",
      "obj: 10726.9973, rnorm: 0.0372931, snorm: 0.7983,eps_pri: 0.2473, eps_dual: 0.0100\n",
      "obj: 10726.3982, rnorm: 0.0409188, snorm: 0.5991,eps_pri: 0.2473, eps_dual: 0.0100\n",
      "obj: 10726.2293, rnorm: 0.0307982, snorm: 0.1690,eps_pri: 0.2472, eps_dual: 0.0100\n",
      "obj: 10725.9726, rnorm: 0.0235604, snorm: 0.2567,eps_pri: 0.2472, eps_dual: 0.0100\n",
      "obj: 10725.9099, rnorm: 0.0172776, snorm: 0.0627,eps_pri: 0.2471, eps_dual: 0.0100\n",
      "obj: 10726.0183, rnorm: 0.0200258, snorm: 0.1085,eps_pri: 0.2471, eps_dual: 0.0100\n",
      "obj: 10726.5692, rnorm: 0.0315570, snorm: 0.5509,eps_pri: 0.2471, eps_dual: 0.0100\n",
      "obj: 10726.1097, rnorm: 0.0336673, snorm: 0.4595,eps_pri: 0.2471, eps_dual: 0.0100\n",
      "obj: 10725.9962, rnorm: 0.0244333, snorm: 0.1135,eps_pri: 0.2471, eps_dual: 0.0100\n",
      "obj: 10725.8319, rnorm: 0.0181339, snorm: 0.1643,eps_pri: 0.2471, eps_dual: 0.0100\n",
      "obj: 10725.7937, rnorm: 0.0127678, snorm: 0.0382,eps_pri: 0.2470, eps_dual: 0.0100\n",
      "obj: 10725.8437, rnorm: 0.0146044, snorm: 0.0500,eps_pri: 0.2470, eps_dual: 0.0100\n",
      "obj: 10726.0934, rnorm: 0.0223886, snorm: 0.2497,eps_pri: 0.2470, eps_dual: 0.0100\n",
      "obj: 10725.8496, rnorm: 0.0227157, snorm: 0.2438,eps_pri: 0.2470, eps_dual: 0.0100\n",
      "obj: 10725.7968, rnorm: 0.0155289, snorm: 0.0528,eps_pri: 0.2470, eps_dual: 0.0100\n",
      "obj: 10725.7786, rnorm: 0.0139817, snorm: 0.0182,eps_pri: 0.2470, eps_dual: 0.0100\n",
      "obj: 10725.8094, rnorm: 0.0145999, snorm: 0.0308,eps_pri: 0.2470, eps_dual: 0.0100\n",
      "obj: 10725.7897, rnorm: 0.0156540, snorm: 0.0196,eps_pri: 0.2470, eps_dual: 0.0100\n",
      "obj: 10725.8297, rnorm: 0.0163147, snorm: 0.0400,eps_pri: 0.2470, eps_dual: 0.0100\n",
      "obj: 10725.7274, rnorm: 0.0139617, snorm: 0.1023,eps_pri: 0.2470, eps_dual: 0.0100\n",
      "obj: 10725.7060, rnorm: 0.0089944, snorm: 0.0214,eps_pri: 0.2469, eps_dual: 0.0100\n",
      "obj: 10725.7251, rnorm: 0.0100398, snorm: 0.0191,eps_pri: 0.2469, eps_dual: 0.0100\n",
      "obj: 10725.8249, rnorm: 0.0149419, snorm: 0.0998,eps_pri: 0.2469, eps_dual: 0.0100\n",
      "obj: 10725.7168, rnorm: 0.0143752, snorm: 0.1081,eps_pri: 0.2469, eps_dual: 0.0100\n",
      "obj: 10725.6947, rnorm: 0.0092171, snorm: 0.0221,eps_pri: 0.2469, eps_dual: 0.0100\n",
      "obj: 10725.7153, rnorm: 0.0101571, snorm: 0.0206,eps_pri: 0.2469, eps_dual: 0.0100\n",
      "obj: 10725.8192, rnorm: 0.0151822, snorm: 0.1039,eps_pri: 0.2469, eps_dual: 0.0100\n",
      "obj: 10725.6699, rnorm: 0.0116452, snorm: 0.1493,eps_pri: 0.2469, eps_dual: 0.0100\n",
      "obj: 10725.6565, rnorm: 0.0037067, snorm: 0.0134,eps_pri: 0.2468, eps_dual: 0.0100\n",
      "obj: 10725.6530, rnorm: 0.0027837, snorm: 0.0035,eps_pri: 0.2468, eps_dual: 0.0100\n",
      "obj: 10725.6517, rnorm: 0.0025116, snorm: 0.0013,eps_pri: 0.2468, eps_dual: 0.0100\n",
      "obj: 10725.6551, rnorm: 0.0038982, snorm: 0.0034,eps_pri: 0.2468, eps_dual: 0.0100\n",
      "obj: 10725.6924, rnorm: 0.0076049, snorm: 0.0373,eps_pri: 0.2468, eps_dual: 0.0100\n",
      "obj: 10725.6560, rnorm: 0.0077228, snorm: 0.0364,eps_pri: 0.2468, eps_dual: 0.0100\n",
      "obj: 10725.6493, rnorm: 0.0043525, snorm: 0.0067,eps_pri: 0.2468, eps_dual: 0.0100\n",
      "obj: 10725.6510, rnorm: 0.0045527, snorm: 0.0017,eps_pri: 0.2468, eps_dual: 0.0100\n",
      "obj: 10725.6679, rnorm: 0.0064486, snorm: 0.0169,eps_pri: 0.2468, eps_dual: 0.0100\n",
      "obj: 10725.6573, rnorm: 0.0073096, snorm: 0.0106,eps_pri: 0.2468, eps_dual: 0.0100\n",
      "obj: 10725.6626, rnorm: 0.0069341, snorm: 0.0053,eps_pri: 0.2468, eps_dual: 0.0100\n",
      "obj: 10725.6533, rnorm: 0.0068034, snorm: 0.0093,eps_pri: 0.2468, eps_dual: 0.0100\n",
      "obj: 10725.6579, rnorm: 0.0064446, snorm: 0.0046,eps_pri: 0.2468, eps_dual: 0.0100\n",
      "obj: 10725.6497, rnorm: 0.0063134, snorm: 0.0082,eps_pri: 0.2468, eps_dual: 0.0100\n",
      "obj: 10725.6536, rnorm: 0.0059533, snorm: 0.0039,eps_pri: 0.2468, eps_dual: 0.0100\n",
      "obj: 10725.6463, rnorm: 0.0058112, snorm: 0.0072,eps_pri: 0.2468, eps_dual: 0.0100\n",
      "obj: 10725.6496, rnorm: 0.0054460, snorm: 0.0032,eps_pri: 0.2468, eps_dual: 0.0100\n"
     ]
    },
    {
     "name": "stdout",
     "output_type": "stream",
     "text": [
      "obj: 10725.6433, rnorm: 0.0052906, snorm: 0.0063,eps_pri: 0.2468, eps_dual: 0.0100\n",
      "obj: 10725.6459, rnorm: 0.0049207, snorm: 0.0026,eps_pri: 0.2467, eps_dual: 0.0100\n",
      "obj: 10725.6508, rnorm: 0.0059412, snorm: 0.0049,eps_pri: 0.2467, eps_dual: 0.0100\n",
      "obj: 10725.6829, rnorm: 0.0086201, snorm: 0.0321,eps_pri: 0.2467, eps_dual: 0.0100\n",
      "obj: 10725.6418, rnorm: 0.0032059, snorm: 0.0411,eps_pri: 0.2467, eps_dual: 0.0100\n",
      "obj: 10725.6339, rnorm: 0.0015985, snorm: 0.0079,eps_pri: 0.2467, eps_dual: 0.0100\n",
      "obj: 10725.6328, rnorm: 0.0006555, snorm: 0.0011,eps_pri: 0.2467, eps_dual: 0.0100\n"
     ]
    }
   ],
   "source": [
    "from regain import update_rules; reload(update_rules);\n",
    "from regain.forward_backward import time_graph_lasso_; reload(time_graph_lasso_)\n",
    "\n",
    "tglfb = time_graph_lasso_.TimeGraphLassoForwardBackward(\n",
    "    verbose=2, gamma=1, alpha='max', beta=2.5,\n",
    "    delta=.0001, choose='gamma',\n",
    "    lamda=1, tol=1e-2, eps=0.8,\n",
    "    time_norm=1, max_iter=200, time_on_axis='last').fit(X)"
   ]
  },
  {
   "cell_type": "code",
   "execution_count": 8,
   "metadata": {},
   "outputs": [
    {
     "data": {
      "text/plain": [
       "0.9773705360453293"
      ]
     },
     "execution_count": 8,
     "metadata": {},
     "output_type": "execute_result"
    }
   ],
   "source": [
    "tglfb.alpha"
   ]
  },
  {
   "cell_type": "code",
   "execution_count": 9,
   "metadata": {},
   "outputs": [
    {
     "data": {
      "text/plain": [
       "114"
      ]
     },
     "execution_count": 9,
     "metadata": {},
     "output_type": "execute_result"
    }
   ],
   "source": [
    "tglfb.n_iter_"
   ]
  },
  {
   "cell_type": "code",
   "execution_count": 84,
   "metadata": {},
   "outputs": [
    {
     "data": {
      "text/plain": [
       "{'accuracy': 0.638,\n",
       " 'average_precision': 0.9426096157848678,\n",
       " 'balanced_accuracy': 0.5516666666666666,\n",
       " 'dor': 8.045454545454545,\n",
       " 'f1': 0.7652399481193256,\n",
       " 'fall_out': 0.88,\n",
       " 'false_omission_rate': 0.1724137931034483,\n",
       " 'fdr': 0.37367303609341823,\n",
       " 'fn': 10,\n",
       " 'fp': 352,\n",
       " 'miss_rate': 0.016666666666666666,\n",
       " 'nlr': 0.1388888888888889,\n",
       " 'npv': 0.8275862068965517,\n",
       " 'plr': 1.1174242424242424,\n",
       " 'precision': 0.6263269639065817,\n",
       " 'prevalence': 0.6,\n",
       " 'recall': 0.9833333333333333,\n",
       " 'specificity': 0.12,\n",
       " 'tn': 48,\n",
       " 'tp': 590}"
      ]
     },
     "execution_count": 84,
     "metadata": {},
     "output_type": "execute_result"
    }
   ],
   "source": [
    "utils.structure_error(data.thetas, tglfb.precision_, no_diagonal=0, thresholding=0, eps=1e-5)"
   ]
  },
  {
   "cell_type": "code",
   "execution_count": 32,
   "metadata": {},
   "outputs": [],
   "source": [
    "tglfb = mdl"
   ]
  },
  {
   "cell_type": "code",
   "execution_count": 21,
   "metadata": {
    "scrolled": true
   },
   "outputs": [
    {
     "name": "stdout",
     "output_type": "stream",
     "text": [
      "Use l-1 penalty function\n",
      "10\n",
      "lambda = 0.9773705360453293, beta = 2.5\n"
     ]
    }
   ],
   "source": [
    "import sys; sys.path.append(\"/home/fede/src/TVGL\")\n",
    "import inferGraphL1; reload(inferGraphL1)\n",
    "import TVGL; reload(TVGL)\n",
    "thetaSet, empCovSet, status, gvx = TVGL.TVGL(\n",
    "    np.vstack(X.transpose(2,0,1)), X.shape[0],\n",
    "    lamb=tglfb.alpha, beta=tglfb.beta, indexOfPenalty=1, verbose=False)"
   ]
  },
  {
   "cell_type": "code",
   "execution_count": 22,
   "metadata": {},
   "outputs": [
    {
     "data": {
      "text/plain": [
       "52"
      ]
     },
     "execution_count": 22,
     "metadata": {},
     "output_type": "execute_result"
    }
   ],
   "source": [
    "gvx.n_iter_"
   ]
  },
  {
   "cell_type": "code",
   "execution_count": 24,
   "metadata": {},
   "outputs": [
    {
     "data": {
      "text/plain": [
       "[array([[0.86479843, 0.        , 0.        , 0.        , 0.        ,\n",
       "         0.        , 0.        , 0.        , 0.        , 0.        ],\n",
       "        [0.        , 0.76847489, 0.        , 0.        , 0.        ,\n",
       "         0.        , 0.        , 0.        , 0.        , 0.        ],\n",
       "        [0.        , 0.        , 0.76836952, 0.        , 0.        ,\n",
       "         0.        , 0.        , 0.        , 0.        , 0.        ],\n",
       "        [0.        , 0.        , 0.        , 0.80576534, 0.        ,\n",
       "         0.        , 0.        , 0.        , 0.        , 0.        ],\n",
       "        [0.        , 0.        , 0.        , 0.        , 0.84808489,\n",
       "         0.        , 0.        , 0.        , 0.        , 0.        ],\n",
       "        [0.        , 0.        , 0.        , 0.        , 0.        ,\n",
       "         0.76312566, 0.        , 0.        , 0.        , 0.        ],\n",
       "        [0.        , 0.        , 0.        , 0.        , 0.        ,\n",
       "         0.        , 0.85336229, 0.        , 0.        , 0.        ],\n",
       "        [0.        , 0.        , 0.        , 0.        , 0.        ,\n",
       "         0.        , 0.        , 0.85351819, 0.        , 0.        ],\n",
       "        [0.        , 0.        , 0.        , 0.        , 0.        ,\n",
       "         0.        , 0.        , 0.        , 0.81409348, 0.        ],\n",
       "        [0.        , 0.        , 0.        , 0.        , 0.        ,\n",
       "         0.        , 0.        , 0.        , 0.        , 0.87219413]]),\n",
       " array([[0.86377046, 0.        , 0.        , 0.        , 0.        ,\n",
       "         0.        , 0.        , 0.        , 0.        , 0.        ],\n",
       "        [0.        , 0.76571748, 0.        , 0.        , 0.        ,\n",
       "         0.        , 0.        , 0.        , 0.        , 0.        ],\n",
       "        [0.        , 0.        , 0.76691119, 0.        , 0.        ,\n",
       "         0.        , 0.        , 0.        , 0.        , 0.        ],\n",
       "        [0.        , 0.        , 0.        , 0.80286962, 0.        ,\n",
       "         0.        , 0.        , 0.        , 0.        , 0.        ],\n",
       "        [0.        , 0.        , 0.        , 0.        , 0.84695762,\n",
       "         0.        , 0.        , 0.        , 0.        , 0.        ],\n",
       "        [0.        , 0.        , 0.        , 0.        , 0.        ,\n",
       "         0.76227758, 0.        , 0.        , 0.        , 0.        ],\n",
       "        [0.        , 0.        , 0.        , 0.        , 0.        ,\n",
       "         0.        , 0.85115595, 0.        , 0.        , 0.        ],\n",
       "        [0.        , 0.        , 0.        , 0.        , 0.        ,\n",
       "         0.        , 0.        , 0.85096795, 0.        , 0.        ],\n",
       "        [0.        , 0.        , 0.        , 0.        , 0.        ,\n",
       "         0.        , 0.        , 0.        , 0.81100114, 0.        ],\n",
       "        [0.        , 0.        , 0.        , 0.        , 0.        ,\n",
       "         0.        , 0.        , 0.        , 0.        , 0.8699937 ]]),\n",
       " array([[0.86183773, 0.        , 0.        , 0.        , 0.        ,\n",
       "         0.        , 0.        , 0.        , 0.        , 0.        ],\n",
       "        [0.        , 0.76050648, 0.        , 0.        , 0.        ,\n",
       "         0.        , 0.        , 0.        , 0.        , 0.        ],\n",
       "        [0.        , 0.        , 0.76421071, 0.        , 0.        ,\n",
       "         0.        , 0.        , 0.        , 0.        , 0.        ],\n",
       "        [0.        , 0.        , 0.        , 0.79738579, 0.        ,\n",
       "         0.        , 0.        , 0.        , 0.        , 0.        ],\n",
       "        [0.        , 0.        , 0.        , 0.        , 0.84483893,\n",
       "         0.        , 0.        , 0.        , 0.        , 0.        ],\n",
       "        [0.        , 0.        , 0.        , 0.        , 0.        ,\n",
       "         0.76066832, 0.        , 0.        , 0.        , 0.        ],\n",
       "        [0.        , 0.        , 0.        , 0.        , 0.        ,\n",
       "         0.        , 0.84698255, 0.        , 0.        , 0.        ],\n",
       "        [0.        , 0.        , 0.        , 0.        , 0.        ,\n",
       "         0.        , 0.        , 0.84614289, 0.        , 0.        ],\n",
       "        [0.        , 0.        , 0.        , 0.        , 0.        ,\n",
       "         0.        , 0.        , 0.        , 0.80513349, 0.        ],\n",
       "        [0.        , 0.        , 0.        , 0.        , 0.        ,\n",
       "         0.        , 0.        , 0.        , 0.        , 0.86583873]]),\n",
       " array([[0.85917528, 0.        , 0.        , 0.        , 0.        ,\n",
       "         0.        , 0.        , 0.        , 0.        , 0.        ],\n",
       "        [0.        , 0.75331199, 0.        , 0.        , 0.        ,\n",
       "         0.        , 0.        , 0.        , 0.        , 0.        ],\n",
       "        [0.        , 0.        , 0.76058441, 0.        , 0.        ,\n",
       "         0.        , 0.        , 0.        , 0.        , 0.        ],\n",
       "        [0.        , 0.        , 0.        , 0.78977532, 0.        ,\n",
       "         0.        , 0.        , 0.        , 0.        , 0.        ],\n",
       "        [0.        , 0.        , 0.        , 0.        , 0.84192309,\n",
       "         0.        , 0.        , 0.        , 0.        , 0.        ],\n",
       "        [0.        , 0.        , 0.        , 0.        , 0.        ,\n",
       "         0.75843925, 0.        , 0.        , 0.        , 0.        ],\n",
       "        [0.        , 0.        , 0.        , 0.        , 0.        ,\n",
       "         0.        , 0.84118881, 0.        , 0.        , 0.        ],\n",
       "        [0.        , 0.        , 0.        , 0.        , 0.        ,\n",
       "         0.        , 0.        , 0.83943852, 0.        , 0.        ],\n",
       "        [0.        , 0.        , 0.        , 0.        , 0.        ,\n",
       "         0.        , 0.        , 0.        , 0.79696493, 0.        ],\n",
       "        [0.        , 0.        , 0.        , 0.        , 0.        ,\n",
       "         0.        , 0.        , 0.        , 0.        , 0.86007597]]),\n",
       " array([[0.85602846, 0.        , 0.        , 0.        , 0.        ,\n",
       "         0.        , 0.        , 0.        , 0.        , 0.        ],\n",
       "        [0.        , 0.74479764, 0.        , 0.        , 0.        ,\n",
       "         0.        , 0.        , 0.        , 0.        , 0.        ],\n",
       "        [0.        , 0.        , 0.75644224, 0.        , 0.        ,\n",
       "         0.        , 0.        , 0.        , 0.        , 0.        ],\n",
       "        [0.        , 0.        , 0.        , 0.78070241, 0.        ,\n",
       "         0.        , 0.        , 0.        , 0.        , 0.        ],\n",
       "        [0.        , 0.        , 0.        , 0.        , 0.83848133,\n",
       "         0.        , 0.        , 0.        , 0.        , 0.        ],\n",
       "        [0.        , 0.        , 0.        , 0.        , 0.        ,\n",
       "         0.75579165, 0.        , 0.        , 0.        , 0.        ],\n",
       "        [0.        , 0.        , 0.        , 0.        , 0.        ,\n",
       "         0.        , 0.83427519, 0.        , 0.        , 0.        ],\n",
       "        [0.        , 0.        , 0.        , 0.        , 0.        ,\n",
       "         0.        , 0.        , 0.83142787, 0.        , 0.        ],\n",
       "        [0.        , 0.        , 0.        , 0.        , 0.        ,\n",
       "         0.        , 0.        , 0.        , 0.78718662, 0.        ],\n",
       "        [0.        , 0.        , 0.        , 0.        , 0.        ,\n",
       "         0.        , 0.        , 0.        , 0.        , 0.85320477]]),\n",
       " array([[0.85269377, 0.        , 0.        , 0.        , 0.        ,\n",
       "         0.        , 0.        , 0.        , 0.        , 0.        ],\n",
       "        [0.        , 0.73577103, 0.        , 0.        , 0.        ,\n",
       "         0.        , 0.        , 0.        , 0.        , 0.        ],\n",
       "        [0.        , 0.        , 0.75222815, 0.        , 0.        ,\n",
       "         0.        , 0.        , 0.        , 0.        , 0.        ],\n",
       "        [0.        , 0.        , 0.        , 0.7709974 , 0.        ,\n",
       "         0.        , 0.        , 0.        , 0.        , 0.        ],\n",
       "        [0.        , 0.        , 0.        , 0.        , 0.83483977,\n",
       "         0.        , 0.        , 0.        , 0.        , 0.        ],\n",
       "        [0.        , 0.        , 0.        , 0.        , 0.        ,\n",
       "         0.75297275, 0.        , 0.        , 0.        , 0.        ],\n",
       "        [0.        , 0.        , 0.        , 0.        , 0.        ,\n",
       "         0.        , 0.82686935, 0.        , 0.        , 0.        ],\n",
       "        [0.        , 0.        , 0.        , 0.        , 0.        ,\n",
       "         0.        , 0.        , 0.82283364, 0.        , 0.        ],\n",
       "        [0.        , 0.        , 0.        , 0.        , 0.        ,\n",
       "         0.        , 0.        , 0.        , 0.77667626, 0.        ],\n",
       "        [0.        , 0.        , 0.        , 0.        , 0.        ,\n",
       "         0.        , 0.        , 0.        , 0.        , 0.84584972]]),\n",
       " array([[0.84949322, 0.        , 0.        , 0.        , 0.        ,\n",
       "         0.        , 0.        , 0.        , 0.        , 0.        ],\n",
       "        [0.        , 0.7271133 , 0.        , 0.        , 0.        ,\n",
       "         0.        , 0.        , 0.        , 0.        , 0.        ],\n",
       "        [0.        , 0.        , 0.74835984, 0.        , 0.        ,\n",
       "         0.        , 0.        , 0.        , 0.        , 0.        ],\n",
       "        [0.        , 0.        , 0.        , 0.76159716, 0.        ,\n",
       "         0.        , 0.        , 0.        , 0.        , 0.        ],\n",
       "        [0.        , 0.        , 0.        , 0.        , 0.83135074,\n",
       "         0.        , 0.        , 0.        , 0.        , 0.        ],\n",
       "        [0.        , 0.        , 0.        , 0.        , 0.        ,\n",
       "         0.75025579, 0.        , 0.        , 0.        , 0.        ],\n",
       "        [0.        , 0.        , 0.        , 0.        , 0.        ,\n",
       "         0.        , 0.8196825 , 0.        , 0.        , 0.        ],\n",
       "        [0.        , 0.        , 0.        , 0.        , 0.        ,\n",
       "         0.        , 0.        , 0.81448003, 0.        , 0.        ],\n",
       "        [0.        , 0.        , 0.        , 0.        , 0.        ,\n",
       "         0.        , 0.        , 0.        , 0.76644268, 0.        ],\n",
       "        [0.        , 0.        , 0.        , 0.        , 0.        ,\n",
       "         0.        , 0.        , 0.        , 0.        , 0.83871661]]),\n",
       " array([[0.8467437 , 0.        , 0.        , 0.        , 0.        ,\n",
       "         0.        , 0.        , 0.        , 0.        , 0.        ],\n",
       "        [0.        , 0.71969108, 0.        , 0.        , 0.        ,\n",
       "         0.        , 0.        , 0.        , 0.        , 0.        ],\n",
       "        [0.        , 0.        , 0.74518164, 0.        , 0.        ,\n",
       "         0.        , 0.        , 0.        , 0.        , 0.        ],\n",
       "        [0.        , 0.        , 0.        , 0.75345892, 0.        ,\n",
       "         0.        , 0.        , 0.        , 0.        , 0.        ],\n",
       "        [0.        , 0.        , 0.        , 0.        , 0.82835888,\n",
       "         0.        , 0.        , 0.        , 0.        , 0.        ],\n",
       "        [0.        , 0.        , 0.        , 0.        , 0.        ,\n",
       "         0.74791409, 0.        , 0.        , 0.        , 0.        ],\n",
       "        [0.        , 0.        , 0.        , 0.        , 0.        ,\n",
       "         0.        , 0.81344554, 0.        , 0.        , 0.        ],\n",
       "        [0.        , 0.        , 0.        , 0.        , 0.        ,\n",
       "         0.        , 0.        , 0.80721989, 0.        , 0.        ],\n",
       "        [0.        , 0.        , 0.        , 0.        , 0.        ,\n",
       "         0.        , 0.        , 0.        , 0.75753759, 0.        ],\n",
       "        [0.        , 0.        , 0.        , 0.        , 0.        ,\n",
       "         0.        , 0.        , 0.        , 0.        , 0.83252896]]),\n",
       " array([[0.84472363, 0.        , 0.        , 0.        , 0.        ,\n",
       "         0.        , 0.        , 0.        , 0.        , 0.        ],\n",
       "        [0.        , 0.71426104, 0.        , 0.        , 0.        ,\n",
       "         0.        , 0.        , 0.        , 0.        , 0.        ],\n",
       "        [0.        , 0.        , 0.7429403 , 0.        , 0.        ,\n",
       "         0.        , 0.        , 0.        , 0.        , 0.        ],\n",
       "        [0.        , 0.        , 0.        , 0.74745206, 0.        ,\n",
       "         0.        , 0.        , 0.        , 0.        , 0.        ],\n",
       "        [0.        , 0.        , 0.        , 0.        , 0.82616525,\n",
       "         0.        , 0.        , 0.        , 0.        , 0.        ],\n",
       "        [0.        , 0.        , 0.        , 0.        , 0.        ,\n",
       "         0.74619129, 0.        , 0.        , 0.        , 0.        ],\n",
       "        [0.        , 0.        , 0.        , 0.        , 0.        ,\n",
       "         0.        , 0.80882722, 0.        , 0.        , 0.        ],\n",
       "        [0.        , 0.        , 0.        , 0.        , 0.        ,\n",
       "         0.        , 0.        , 0.80183838, 0.        , 0.        ],\n",
       "        [0.        , 0.        , 0.        , 0.        , 0.        ,\n",
       "         0.        , 0.        , 0.        , 0.75093529, 0.        ],\n",
       "        [0.        , 0.        , 0.        , 0.        , 0.        ,\n",
       "         0.        , 0.        , 0.        , 0.        , 0.82794734]]),\n",
       " array([[0.84364136, 0.        , 0.        , 0.        , 0.        ,\n",
       "         0.        , 0.        , 0.        , 0.        , 0.        ],\n",
       "        [0.        , 0.71138214, 0.        , 0.        , 0.        ,\n",
       "         0.        , 0.        , 0.        , 0.        , 0.        ],\n",
       "        [0.        , 0.        , 0.74178465, 0.        , 0.        ,\n",
       "         0.        , 0.        , 0.        , 0.        , 0.        ],\n",
       "        [0.        , 0.        , 0.        , 0.74424248, 0.        ,\n",
       "         0.        , 0.        , 0.        , 0.        , 0.        ],\n",
       "        [0.        , 0.        , 0.        , 0.        , 0.82499371,\n",
       "         0.        , 0.        , 0.        , 0.        , 0.        ],\n",
       "        [0.        , 0.        , 0.        , 0.        , 0.        ,\n",
       "         0.7452716 , 0.        , 0.        , 0.        , 0.        ],\n",
       "        [0.        , 0.        , 0.        , 0.        , 0.        ,\n",
       "         0.        , 0.80634443, 0.        , 0.        , 0.        ],\n",
       "        [0.        , 0.        , 0.        , 0.        , 0.        ,\n",
       "         0.        , 0.        , 0.79894516, 0.        , 0.        ],\n",
       "        [0.        , 0.        , 0.        , 0.        , 0.        ,\n",
       "         0.        , 0.        , 0.        , 0.74739507, 0.        ],\n",
       "        [0.        , 0.        , 0.        , 0.        , 0.        ,\n",
       "         0.        , 0.        , 0.        , 0.        , 0.82548163]])]"
      ]
     },
     "execution_count": 24,
     "metadata": {},
     "output_type": "execute_result"
    }
   ],
   "source": [
    "thetaSet"
   ]
  },
  {
   "cell_type": "code",
   "execution_count": 23,
   "metadata": {},
   "outputs": [
    {
     "data": {
      "text/plain": [
       "{'accuracy': 0.5,\n",
       " 'average_precision': 0.5555555555555556,\n",
       " 'balanced_accuracy': 0.5833333333333334,\n",
       " 'dor': 0.0,\n",
       " 'f1': 0.2857142857142857,\n",
       " 'fall_out': 0.0,\n",
       " 'false_omission_rate': 0.5555555555555556,\n",
       " 'fdr': 0.0,\n",
       " 'fn': 500,\n",
       " 'fp': 0,\n",
       " 'miss_rate': 0.8333333333333334,\n",
       " 'nlr': 0.8333333333333334,\n",
       " 'npv': 0.4444444444444444,\n",
       " 'plr': 0,\n",
       " 'precision': 1.0,\n",
       " 'prevalence': 0.6,\n",
       " 'recall': 0.16666666666666666,\n",
       " 'specificity': 1.0,\n",
       " 'tn': 400,\n",
       " 'tp': 100}"
      ]
     },
     "execution_count": 23,
     "metadata": {},
     "output_type": "execute_result"
    }
   ],
   "source": [
    "utils.structure_error(data.thetas, np.array(thetaSet), no_diagonal=0, thresholding=0, eps=1e-5)"
   ]
  },
  {
   "cell_type": "code",
   "execution_count": 10,
   "metadata": {
    "scrolled": true
   },
   "outputs": [
    {
     "data": {
      "text/plain": [
       "True"
      ]
     },
     "execution_count": 10,
     "metadata": {},
     "output_type": "execute_result"
    }
   ],
   "source": [
    "from regain.utils import positive_definite\n",
    "positive_definite(tglfb.precision_)"
   ]
  },
  {
   "cell_type": "markdown",
   "metadata": {},
   "source": [
    "### BayesOptimisation\n",
    "Since we have lots of hyper-parameters, we rely on a Bayesian optimisation procedure in order to select the best hyper-parameters, treating the scoring function of our algorithm as a black-box for the gaussian process underlying the Bayesian optimisation.\n",
    "\n",
    "Such procedure is performed via the `scikit-optimize` package."
   ]
  },
  {
   "cell_type": "code",
   "execution_count": 15,
   "metadata": {
    "scrolled": true
   },
   "outputs": [
    {
     "name": "stdout",
     "output_type": "stream",
     "text": [
      "Fitting 5 folds for each of 3 candidates, totalling 15 fits\n"
     ]
    },
    {
     "name": "stderr",
     "output_type": "stream",
     "text": [
      "[Parallel(n_jobs=1)]: Done  15 out of  15 | elapsed:   27.8s finished\n"
     ]
    },
    {
     "name": "stdout",
     "output_type": "stream",
     "text": [
      "best score: -149.86907082331908\n",
      "Fitting 5 folds for each of 3 candidates, totalling 15 fits\n"
     ]
    },
    {
     "name": "stderr",
     "output_type": "stream",
     "text": [
      "[Parallel(n_jobs=1)]: Done  15 out of  15 | elapsed:   21.6s finished\n"
     ]
    },
    {
     "name": "stdout",
     "output_type": "stream",
     "text": [
      "best score: -149.03756300100068\n",
      "Fitting 5 folds for each of 3 candidates, totalling 15 fits\n"
     ]
    },
    {
     "name": "stderr",
     "output_type": "stream",
     "text": [
      "[Parallel(n_jobs=1)]: Done  15 out of  15 | elapsed:   25.1s finished\n"
     ]
    },
    {
     "name": "stdout",
     "output_type": "stream",
     "text": [
      "best score: -149.03756300100068\n",
      "Fitting 5 folds for each of 3 candidates, totalling 15 fits\n"
     ]
    },
    {
     "name": "stderr",
     "output_type": "stream",
     "text": [
      "[Parallel(n_jobs=1)]: Done  15 out of  15 | elapsed:   23.8s finished\n"
     ]
    },
    {
     "name": "stdout",
     "output_type": "stream",
     "text": [
      "best score: -149.03756300100068\n",
      "Fitting 5 folds for each of 3 candidates, totalling 15 fits\n"
     ]
    },
    {
     "name": "stderr",
     "output_type": "stream",
     "text": [
      "[Parallel(n_jobs=1)]: Done  15 out of  15 | elapsed:   29.1s finished\n"
     ]
    },
    {
     "name": "stdout",
     "output_type": "stream",
     "text": [
      "best score: -149.03756300100068\n",
      "Fitting 5 folds for each of 3 candidates, totalling 15 fits\n"
     ]
    },
    {
     "name": "stderr",
     "output_type": "stream",
     "text": [
      "[Parallel(n_jobs=1)]: Done  15 out of  15 | elapsed:   20.3s finished\n"
     ]
    },
    {
     "name": "stdout",
     "output_type": "stream",
     "text": [
      "best score: -149.03756300100068\n",
      "Fitting 5 folds for each of 3 candidates, totalling 15 fits\n"
     ]
    },
    {
     "name": "stderr",
     "output_type": "stream",
     "text": [
      "[Parallel(n_jobs=1)]: Done  15 out of  15 | elapsed:   22.7s finished\n"
     ]
    },
    {
     "name": "stdout",
     "output_type": "stream",
     "text": [
      "best score: -149.03756300100068\n",
      "Fitting 5 folds for each of 3 candidates, totalling 15 fits\n"
     ]
    },
    {
     "name": "stderr",
     "output_type": "stream",
     "text": [
      "[Parallel(n_jobs=1)]: Done  15 out of  15 | elapsed:   28.3s finished\n"
     ]
    },
    {
     "name": "stdout",
     "output_type": "stream",
     "text": [
      "best score: -149.03756300100068\n",
      "Fitting 5 folds for each of 3 candidates, totalling 15 fits\n"
     ]
    },
    {
     "name": "stderr",
     "output_type": "stream",
     "text": [
      "/home/fede/src/slipguru/regain/regain/forward_backward/time_graph_lasso_.py:220: UserWarning: precision is not positive definite.\n",
      "  warnings.warn(\"precision is not positive definite.\")\n",
      "[Parallel(n_jobs=1)]: Done  15 out of  15 | elapsed:   27.0s finished\n"
     ]
    },
    {
     "name": "stdout",
     "output_type": "stream",
     "text": [
      "best score: -145.66565643010628\n",
      "Fitting 5 folds for each of 3 candidates, totalling 15 fits\n"
     ]
    },
    {
     "name": "stderr",
     "output_type": "stream",
     "text": [
      "[Parallel(n_jobs=1)]: Done  15 out of  15 | elapsed:   27.5s finished\n"
     ]
    },
    {
     "name": "stdout",
     "output_type": "stream",
     "text": [
      "best score: -145.66565643010628\n",
      "Fitting 5 folds for each of 3 candidates, totalling 15 fits\n"
     ]
    },
    {
     "name": "stderr",
     "output_type": "stream",
     "text": [
      "[Parallel(n_jobs=1)]: Done  15 out of  15 | elapsed:   30.1s finished\n"
     ]
    },
    {
     "name": "stdout",
     "output_type": "stream",
     "text": [
      "best score: -145.66565643010628\n",
      "Fitting 5 folds for each of 3 candidates, totalling 15 fits\n"
     ]
    },
    {
     "name": "stderr",
     "output_type": "stream",
     "text": [
      "[Parallel(n_jobs=1)]: Done  15 out of  15 | elapsed:   21.6s finished\n"
     ]
    },
    {
     "name": "stdout",
     "output_type": "stream",
     "text": [
      "best score: -145.4031372874342\n",
      "Fitting 5 folds for each of 3 candidates, totalling 15 fits\n"
     ]
    },
    {
     "name": "stderr",
     "output_type": "stream",
     "text": [
      "[Parallel(n_jobs=1)]: Done  15 out of  15 | elapsed:   29.3s finished\n"
     ]
    },
    {
     "name": "stdout",
     "output_type": "stream",
     "text": [
      "best score: -145.4031372874342\n",
      "Fitting 5 folds for each of 3 candidates, totalling 15 fits\n"
     ]
    },
    {
     "name": "stderr",
     "output_type": "stream",
     "text": [
      "[Parallel(n_jobs=1)]: Done  15 out of  15 | elapsed:   30.2s finished\n"
     ]
    },
    {
     "name": "stdout",
     "output_type": "stream",
     "text": [
      "best score: -145.4031372874342\n",
      "Fitting 5 folds for each of 3 candidates, totalling 15 fits\n"
     ]
    },
    {
     "name": "stderr",
     "output_type": "stream",
     "text": [
      "[Parallel(n_jobs=1)]: Done  15 out of  15 | elapsed:   24.2s finished\n"
     ]
    },
    {
     "name": "stdout",
     "output_type": "stream",
     "text": [
      "best score: -145.20749661564454\n",
      "Fitting 5 folds for each of 3 candidates, totalling 15 fits\n"
     ]
    },
    {
     "name": "stderr",
     "output_type": "stream",
     "text": [
      "[Parallel(n_jobs=1)]: Done  15 out of  15 | elapsed:   29.7s finished\n"
     ]
    },
    {
     "name": "stdout",
     "output_type": "stream",
     "text": [
      "best score: -145.20749661564454\n",
      "Fitting 5 folds for each of 3 candidates, totalling 15 fits\n"
     ]
    },
    {
     "name": "stderr",
     "output_type": "stream",
     "text": [
      "[Parallel(n_jobs=1)]: Done  15 out of  15 | elapsed:   28.9s finished\n"
     ]
    },
    {
     "name": "stdout",
     "output_type": "stream",
     "text": [
      "best score: -145.20749661564454\n",
      "Fitting 5 folds for each of 3 candidates, totalling 15 fits\n"
     ]
    },
    {
     "name": "stderr",
     "output_type": "stream",
     "text": [
      "[Parallel(n_jobs=1)]: Done  15 out of  15 | elapsed:   17.3s finished\n"
     ]
    },
    {
     "name": "stdout",
     "output_type": "stream",
     "text": [
      "best score: -142.84519173384504\n",
      "Fitting 5 folds for each of 3 candidates, totalling 15 fits\n"
     ]
    },
    {
     "name": "stderr",
     "output_type": "stream",
     "text": [
      "[Parallel(n_jobs=1)]: Done  15 out of  15 | elapsed:   30.5s finished\n"
     ]
    },
    {
     "name": "stdout",
     "output_type": "stream",
     "text": [
      "best score: -142.84519173384504\n",
      "Fitting 5 folds for each of 3 candidates, totalling 15 fits\n"
     ]
    },
    {
     "name": "stderr",
     "output_type": "stream",
     "text": [
      "[Parallel(n_jobs=1)]: Done  15 out of  15 | elapsed:   28.9s finished\n"
     ]
    },
    {
     "name": "stdout",
     "output_type": "stream",
     "text": [
      "best score: -142.84519173384504\n",
      "Fitting 5 folds for each of 3 candidates, totalling 15 fits\n"
     ]
    },
    {
     "name": "stderr",
     "output_type": "stream",
     "text": [
      "[Parallel(n_jobs=1)]: Done  15 out of  15 | elapsed:   28.3s finished\n"
     ]
    },
    {
     "name": "stdout",
     "output_type": "stream",
     "text": [
      "best score: -142.84519173384504\n",
      "Fitting 5 folds for each of 3 candidates, totalling 15 fits\n"
     ]
    },
    {
     "name": "stderr",
     "output_type": "stream",
     "text": [
      "[Parallel(n_jobs=1)]: Done  15 out of  15 | elapsed:   29.3s finished\n"
     ]
    },
    {
     "name": "stdout",
     "output_type": "stream",
     "text": [
      "best score: -142.84519173384504\n",
      "Fitting 5 folds for each of 3 candidates, totalling 15 fits\n"
     ]
    },
    {
     "name": "stderr",
     "output_type": "stream",
     "text": [
      "[Parallel(n_jobs=1)]: Done  15 out of  15 | elapsed:   30.6s finished\n"
     ]
    },
    {
     "name": "stdout",
     "output_type": "stream",
     "text": [
      "best score: -142.84519173384504\n",
      "Fitting 5 folds for each of 3 candidates, totalling 15 fits\n"
     ]
    },
    {
     "name": "stderr",
     "output_type": "stream",
     "text": [
      "[Parallel(n_jobs=1)]: Done  15 out of  15 | elapsed:   30.4s finished\n"
     ]
    },
    {
     "name": "stdout",
     "output_type": "stream",
     "text": [
      "best score: -142.84519173384504\n",
      "Fitting 5 folds for each of 3 candidates, totalling 15 fits\n"
     ]
    },
    {
     "name": "stderr",
     "output_type": "stream",
     "text": [
      "[Parallel(n_jobs=1)]: Done  15 out of  15 | elapsed:   28.8s finished\n"
     ]
    },
    {
     "name": "stdout",
     "output_type": "stream",
     "text": [
      "best score: -142.84519173384504\n",
      "Fitting 5 folds for each of 3 candidates, totalling 15 fits\n"
     ]
    },
    {
     "name": "stderr",
     "output_type": "stream",
     "text": [
      "[Parallel(n_jobs=1)]: Done  15 out of  15 | elapsed:   22.6s finished\n"
     ]
    },
    {
     "name": "stdout",
     "output_type": "stream",
     "text": [
      "best score: -142.84519173384504\n",
      "Fitting 5 folds for each of 3 candidates, totalling 15 fits\n"
     ]
    },
    {
     "name": "stderr",
     "output_type": "stream",
     "text": [
      "[Parallel(n_jobs=1)]: Done  15 out of  15 | elapsed:   30.1s finished\n"
     ]
    },
    {
     "name": "stdout",
     "output_type": "stream",
     "text": [
      "best score: -142.84519173384504\n",
      "Fitting 5 folds for each of 3 candidates, totalling 15 fits\n"
     ]
    },
    {
     "name": "stderr",
     "output_type": "stream",
     "text": [
      "[Parallel(n_jobs=1)]: Done  15 out of  15 | elapsed:   30.2s finished\n"
     ]
    },
    {
     "name": "stdout",
     "output_type": "stream",
     "text": [
      "best score: -142.84519173384504\n",
      "Fitting 5 folds for each of 3 candidates, totalling 15 fits\n"
     ]
    },
    {
     "name": "stderr",
     "output_type": "stream",
     "text": [
      "[Parallel(n_jobs=1)]: Done  15 out of  15 | elapsed:   29.8s finished\n"
     ]
    },
    {
     "name": "stdout",
     "output_type": "stream",
     "text": [
      "best score: -142.84519173384504\n",
      "Fitting 5 folds for each of 3 candidates, totalling 15 fits\n"
     ]
    },
    {
     "name": "stderr",
     "output_type": "stream",
     "text": [
      "[Parallel(n_jobs=1)]: Done  15 out of  15 | elapsed:   29.8s finished\n"
     ]
    },
    {
     "name": "stdout",
     "output_type": "stream",
     "text": [
      "best score: -142.84519173384504\n",
      "Fitting 5 folds for each of 3 candidates, totalling 15 fits\n"
     ]
    },
    {
     "name": "stderr",
     "output_type": "stream",
     "text": [
      "[Parallel(n_jobs=1)]: Done  15 out of  15 | elapsed:   30.1s finished\n"
     ]
    },
    {
     "name": "stdout",
     "output_type": "stream",
     "text": [
      "best score: -142.84519173384504\n",
      "Fitting 5 folds for each of 3 candidates, totalling 15 fits\n"
     ]
    },
    {
     "name": "stderr",
     "output_type": "stream",
     "text": [
      "[Parallel(n_jobs=1)]: Done  15 out of  15 | elapsed:   30.1s finished\n"
     ]
    },
    {
     "name": "stdout",
     "output_type": "stream",
     "text": [
      "best score: -142.84519173384504\n",
      "Fitting 5 folds for each of 3 candidates, totalling 15 fits\n"
     ]
    },
    {
     "name": "stderr",
     "output_type": "stream",
     "text": [
      "[Parallel(n_jobs=1)]: Done  15 out of  15 | elapsed:   28.8s finished\n"
     ]
    },
    {
     "name": "stdout",
     "output_type": "stream",
     "text": [
      "best score: -142.84519173384504\n",
      "Fitting 5 folds for each of 1 candidates, totalling 5 fits\n"
     ]
    },
    {
     "name": "stderr",
     "output_type": "stream",
     "text": [
      "[Parallel(n_jobs=1)]: Done   5 out of   5 | elapsed:    9.9s finished\n"
     ]
    },
    {
     "name": "stdout",
     "output_type": "stream",
     "text": [
      "best score: -142.84519173384504\n"
     ]
    },
    {
     "data": {
      "text/plain": [
       "BayesSearchCV(cv=ShuffleSplit(n_splits=5, random_state=None, test_size=0.2, train_size=None),\n",
       "       error_score=-300000.0,\n",
       "       estimator=TimeGraphLassoForwardBackward(alpha='max', assume_centered=False, beta=1,\n",
       "               choose='gamma', compute_objective=True, delta=1e-05,\n",
       "               eps=0.9, gamma=1, lamda=1, lamda_criterion='b',\n",
       "               max_iter=200, time_norm=1, time_on_axis='last', tol=0.01,\n",
       "               verbose=0),\n",
       "       fit_params=None, iid=True, n_iter=100, n_jobs=1, n_points=3,\n",
       "       optimizer_kwargs=None, pre_dispatch='2*n_jobs', random_state=None,\n",
       "       refit=True, return_train_score=False, scoring=None,\n",
       "       search_spaces={'beta': Real(low=0.1, high=10.0, prior='log-uniform', transform='identity')},\n",
       "       verbose=1)"
      ]
     },
     "execution_count": 15,
     "metadata": {},
     "output_type": "execute_result"
    }
   ],
   "source": [
    "from regain import utils; reload(utils)\n",
    "from regain import prox; reload(prox);\n",
    "from regain.forward_backward import time_graph_lasso_; reload(time_graph_lasso_)\n",
    "\n",
    "from skopt import searchcv; reload(searchcv)\n",
    "\n",
    "domain = {#'alpha': Real(1e-1, 1, prior='uniform'),\n",
    "          'beta': Real(1e-1, 1e1, prior='log-uniform'),\n",
    "#           'time_norm': Categorical([1, 2])\n",
    "#           'eps': Categorical([0.5, 0.7, 0.8, 0.9])\n",
    "         }\n",
    "\n",
    "mdl = time_graph_lasso_.TimeGraphLassoForwardBackward(\n",
    "    verbose=0, tol=1e-2, max_iter=200, gamma=1, alpha='max', beta=1, time_norm=1,\n",
    "    time_on_axis='last', eps=0.9, delta=1e-5, choose='gamma')\n",
    "    \n",
    "cv = ShuffleSplit(5, test_size=0.2)\n",
    "    \n",
    "bscv = searchcv.BayesSearchCV(\n",
    "    mdl, domain, n_iter=100, cv=cv, verbose=1, n_jobs=1, iid=True, n_points=3,\n",
    "    error_score=-3e5)\n",
    "\n",
    "# callback handler\n",
    "def on_step(optim_result):\n",
    "    score = bscv.best_score_\n",
    "    print(\"best score: %s\" % score)\n",
    "#     if score >= 0.98:\n",
    "#         print('Interrupting!')\n",
    "#         return True\n",
    "\n",
    "bscv.fit(X, callback=on_step)\n",
    "# mdl.fit(data_grid)"
   ]
  },
  {
   "cell_type": "code",
   "execution_count": 19,
   "metadata": {},
   "outputs": [
    {
     "data": {
      "text/plain": [
       "{'beta': 0.5977079011073209}"
      ]
     },
     "execution_count": 19,
     "metadata": {},
     "output_type": "execute_result"
    }
   ],
   "source": [
    "bscv.best_params_"
   ]
  },
  {
   "cell_type": "code",
   "execution_count": 17,
   "metadata": {
    "scrolled": true
   },
   "outputs": [],
   "source": [
    "mdl = bscv.best_estimator_"
   ]
  },
  {
   "cell_type": "code",
   "execution_count": 20,
   "metadata": {},
   "outputs": [
    {
     "data": {
      "text/plain": [
       "{'accuracy': 0.646,\n",
       " 'average_precision': 0.9252520246848773,\n",
       " 'balanced_accuracy': 0.5625,\n",
       " 'dor': 8.309941520467834,\n",
       " 'f1': 0.7686274509803921,\n",
       " 'fall_out': 0.855,\n",
       " 'false_omission_rate': 0.17142857142857143,\n",
       " 'fdr': 0.36774193548387096,\n",
       " 'fn': 12,\n",
       " 'fp': 342,\n",
       " 'miss_rate': 0.02,\n",
       " 'nlr': 0.13793103448275865,\n",
       " 'npv': 0.8285714285714286,\n",
       " 'plr': 1.1461988304093567,\n",
       " 'precision': 0.632258064516129,\n",
       " 'prevalence': 0.6,\n",
       " 'recall': 0.98,\n",
       " 'specificity': 0.145,\n",
       " 'tn': 58,\n",
       " 'tp': 588}"
      ]
     },
     "execution_count": 20,
     "metadata": {},
     "output_type": "execute_result"
    }
   ],
   "source": [
    "utils.structure_error(data.thetas, mdl.precision_, no_diagonal=0, thresholding=1, eps=1e-8)"
   ]
  },
  {
   "cell_type": "code",
   "execution_count": 17,
   "metadata": {
    "scrolled": true
   },
   "outputs": [
    {
     "data": {
      "text/plain": [
       "-35.837641703814484"
      ]
     },
     "execution_count": 17,
     "metadata": {},
     "output_type": "execute_result"
    }
   ],
   "source": [
    "mdl.score(X)"
   ]
  },
  {
   "cell_type": "code",
   "execution_count": 18,
   "metadata": {
    "scrolled": true
   },
   "outputs": [
    {
     "data": {
      "text/plain": [
       "array([[[ 1.10743819,  0.        ,  0.68071616, -0.05748638,\n",
       "          0.94732079,  0.        ,  0.20918433,  0.        ,\n",
       "          1.78611225,  1.85242287],\n",
       "        [ 0.        ,  1.07193912, -0.50367029,  1.92016201,\n",
       "          0.21529756,  1.59502318,  2.31934029,  0.42497577,\n",
       "          0.31269722,  1.75750906],\n",
       "        [ 0.68071616, -0.50367029,  1.06188303,  1.68245203,\n",
       "         -0.72654564,  3.31609044,  0.70047032,  1.23391116,\n",
       "          0.55243893,  1.10080506],\n",
       "        [-0.05748638,  1.92016201,  1.68245203,  1.13201969,\n",
       "          4.03359096,  0.66731923, -0.58454924,  0.        ,\n",
       "          1.06881747,  0.        ],\n",
       "        [ 0.94732079,  0.21529756, -0.72654564,  4.03359096,\n",
       "          1.16540114,  0.77208652,  1.10715018,  0.        ,\n",
       "         -0.14574355,  0.2445326 ],\n",
       "        [ 0.        ,  1.59502318,  3.31609044,  0.66731923,\n",
       "          0.77208652,  1.0764689 ,  0.20839135, -1.00066514,\n",
       "          1.02100579,  1.43229819],\n",
       "        [ 0.20918433,  2.31934029,  0.70047032, -0.58454924,\n",
       "          1.10715018,  0.20839135,  1.08893884,  0.70411904,\n",
       "          1.22353569,  0.05009731],\n",
       "        [ 0.        ,  0.42497577,  1.23391116,  0.        ,\n",
       "          0.        , -1.00066514,  0.70411904,  1.13477299,\n",
       "          1.93562149,  1.90030308],\n",
       "        [ 1.78611225,  0.31269722,  0.55243893,  1.06881747,\n",
       "         -0.14574355,  1.02100579,  1.22353569,  1.93562149,\n",
       "          1.04415995, -0.8069878 ],\n",
       "        [ 1.85242287,  1.75750906,  1.10080506,  0.        ,\n",
       "          0.2445326 ,  1.43229819,  0.05009731,  1.90030308,\n",
       "         -0.8069878 ,  1.20415507]],\n",
       "\n",
       "       [[ 1.10743819,  0.        ,  0.68071616, -0.05748638,\n",
       "          0.94732079,  0.        ,  0.20918433,  0.        ,\n",
       "          1.78611225,  1.85242287],\n",
       "        [ 0.        ,  1.07193912, -0.50367029,  1.92016201,\n",
       "          0.21529756,  1.59502318,  2.31934029,  0.42497577,\n",
       "          0.31269722,  1.75750906],\n",
       "        [ 0.68071616, -0.50367029,  1.06188303,  1.68245203,\n",
       "         -0.72654564,  3.31609044,  0.70047032,  1.23391116,\n",
       "          0.55243893,  1.10080506],\n",
       "        [-0.05748638,  1.92016201,  1.68245203,  1.13201969,\n",
       "          4.03359096,  0.66731923, -0.58454924,  0.        ,\n",
       "          1.06881747,  0.        ],\n",
       "        [ 0.94732079,  0.21529756, -0.72654564,  4.03359096,\n",
       "          1.16540114,  0.77208652,  1.10715018,  0.        ,\n",
       "         -0.14574355,  0.2445326 ],\n",
       "        [ 0.        ,  1.59502318,  3.31609044,  0.66731923,\n",
       "          0.77208652,  1.0764689 ,  0.20839135, -1.00066514,\n",
       "          1.02100579,  1.43229819],\n",
       "        [ 0.20918433,  2.31934029,  0.70047032, -0.58454924,\n",
       "          1.10715018,  0.20839135,  1.08893884,  0.70411904,\n",
       "          1.22353569,  0.05009731],\n",
       "        [ 0.        ,  0.42497577,  1.23391116,  0.        ,\n",
       "          0.        , -1.00066514,  0.70411904,  1.13477299,\n",
       "          1.93562149,  1.90030308],\n",
       "        [ 1.78611225,  0.31269722,  0.55243893,  1.06881747,\n",
       "         -0.14574355,  1.02100579,  1.22353569,  1.93562149,\n",
       "          1.04415995, -0.8069878 ],\n",
       "        [ 1.85242287,  1.75750906,  1.10080506,  0.        ,\n",
       "          0.2445326 ,  1.43229819,  0.05009731,  1.90030308,\n",
       "         -0.8069878 ,  1.20415507]],\n",
       "\n",
       "       [[ 1.10743819,  0.        ,  0.68071616, -0.05748638,\n",
       "          0.94732079,  0.        ,  0.20918433,  0.        ,\n",
       "          1.78611225,  1.85242287],\n",
       "        [ 0.        ,  1.07193912, -0.50367029,  1.92016201,\n",
       "          0.21529756,  1.59502318,  2.31934029,  0.42497577,\n",
       "          0.31269722,  1.75750906],\n",
       "        [ 0.68071616, -0.50367029,  1.06188303,  1.68245203,\n",
       "         -0.72654564,  3.31609044,  0.70047032,  1.23391116,\n",
       "          0.55243893,  1.10080506],\n",
       "        [-0.05748638,  1.92016201,  1.68245203,  1.13201969,\n",
       "          4.03359096,  0.66731923, -0.58454924,  0.        ,\n",
       "          1.06881747,  0.        ],\n",
       "        [ 0.94732079,  0.21529756, -0.72654564,  4.03359096,\n",
       "          1.16540114,  0.77208652,  1.10715018,  0.        ,\n",
       "         -0.14574355,  0.2445326 ],\n",
       "        [ 0.        ,  1.59502318,  3.31609044,  0.66731923,\n",
       "          0.77208652,  1.0764689 ,  0.20839135, -1.00066514,\n",
       "          1.02100579,  1.43229819],\n",
       "        [ 0.20918433,  2.31934029,  0.70047032, -0.58454924,\n",
       "          1.10715018,  0.20839135,  1.08893884,  0.70411904,\n",
       "          1.22353569,  0.05009731],\n",
       "        [ 0.        ,  0.42497577,  1.23391116,  0.        ,\n",
       "          0.        , -1.00066514,  0.70411904,  1.13477299,\n",
       "          1.93562149,  1.90030308],\n",
       "        [ 1.78611225,  0.31269722,  0.55243893,  1.06881747,\n",
       "         -0.14574355,  1.02100579,  1.22353569,  1.93562149,\n",
       "          1.04415995, -0.8069878 ],\n",
       "        [ 1.85242287,  1.75750906,  1.10080506,  0.        ,\n",
       "          0.2445326 ,  1.43229819,  0.05009731,  1.90030308,\n",
       "         -0.8069878 ,  1.20415507]],\n",
       "\n",
       "       [[ 1.10743819,  0.        ,  0.68071616, -0.05748638,\n",
       "          0.94732079,  0.        ,  0.20918433,  0.        ,\n",
       "          1.78611225,  1.85242287],\n",
       "        [ 0.        ,  1.07193912, -0.50367029,  1.92016201,\n",
       "          0.21529756,  1.59502318,  2.31934029,  0.42497577,\n",
       "          0.31269722,  1.75750906],\n",
       "        [ 0.68071616, -0.50367029,  1.06188303,  1.68245203,\n",
       "         -0.72654564,  3.31609044,  0.70047032,  1.23391116,\n",
       "          0.55243893,  1.10080506],\n",
       "        [-0.05748638,  1.92016201,  1.68245203,  1.13201969,\n",
       "          4.03359096,  0.66731923, -0.58454924,  0.        ,\n",
       "          1.06881747,  0.        ],\n",
       "        [ 0.94732079,  0.21529756, -0.72654564,  4.03359096,\n",
       "          1.16540114,  0.77208652,  1.10715018,  0.        ,\n",
       "         -0.14574355,  0.2445326 ],\n",
       "        [ 0.        ,  1.59502318,  3.31609044,  0.66731923,\n",
       "          0.77208652,  1.0764689 ,  0.20839135, -1.00066514,\n",
       "          1.02100579,  1.43229819],\n",
       "        [ 0.20918433,  2.31934029,  0.70047032, -0.58454924,\n",
       "          1.10715018,  0.20839135,  1.08893884,  0.70411904,\n",
       "          1.22353569,  0.05009731],\n",
       "        [ 0.        ,  0.42497577,  1.23391116,  0.        ,\n",
       "          0.        , -1.00066514,  0.70411904,  1.13477299,\n",
       "          1.93562149,  1.90030308],\n",
       "        [ 1.78611225,  0.31269722,  0.55243893,  1.06881747,\n",
       "         -0.14574355,  1.02100579,  1.22353569,  1.93562149,\n",
       "          1.04415995, -0.8069878 ],\n",
       "        [ 1.85242287,  1.75750906,  1.10080506,  0.        ,\n",
       "          0.2445326 ,  1.43229819,  0.05009731,  1.90030308,\n",
       "         -0.8069878 ,  1.20415507]],\n",
       "\n",
       "       [[ 1.10743819,  0.        ,  0.68071616, -0.05748638,\n",
       "          0.94732079,  0.        ,  0.20918433,  0.        ,\n",
       "          1.78611225,  1.85242287],\n",
       "        [ 0.        ,  1.07193912, -0.50367029,  1.92016201,\n",
       "          0.21529756,  1.59502318,  2.31934029,  0.42497577,\n",
       "          0.31269722,  1.75750906],\n",
       "        [ 0.68071616, -0.50367029,  1.06188303,  1.68245203,\n",
       "         -0.72654564,  3.31609044,  0.70047032,  1.23391116,\n",
       "          0.55243893,  1.10080506],\n",
       "        [-0.05748638,  1.92016201,  1.68245203,  1.13201969,\n",
       "          4.03359096,  0.66731923, -0.58454924,  0.        ,\n",
       "          1.06881747,  0.        ],\n",
       "        [ 0.94732079,  0.21529756, -0.72654564,  4.03359096,\n",
       "          1.16540114,  0.77208652,  1.10715018,  0.        ,\n",
       "         -0.14574355,  0.2445326 ],\n",
       "        [ 0.        ,  1.59502318,  3.31609044,  0.66731923,\n",
       "          0.77208652,  1.0764689 ,  0.20839135, -1.00066514,\n",
       "          1.02100579,  1.43229819],\n",
       "        [ 0.20918433,  2.31934029,  0.70047032, -0.58454924,\n",
       "          1.10715018,  0.20839135,  1.08893884,  0.70411904,\n",
       "          1.22353569,  0.05009731],\n",
       "        [ 0.        ,  0.42497577,  1.23391116,  0.        ,\n",
       "          0.        , -1.00066514,  0.70411904,  1.13477299,\n",
       "          1.93562149,  1.90030308],\n",
       "        [ 1.78611225,  0.31269722,  0.55243893,  1.06881747,\n",
       "         -0.14574355,  1.02100579,  1.22353569,  1.93562149,\n",
       "          1.04415995, -0.8069878 ],\n",
       "        [ 1.85242287,  1.75750906,  1.10080506,  0.        ,\n",
       "          0.2445326 ,  1.43229819,  0.05009731,  1.90030308,\n",
       "         -0.8069878 ,  1.20415507]],\n",
       "\n",
       "       [[ 1.10743819,  0.        ,  0.68071616, -0.05748638,\n",
       "          0.94732079,  0.        ,  0.20918433,  0.        ,\n",
       "          1.78611225,  1.85242287],\n",
       "        [ 0.        ,  1.07193912, -0.50367029,  1.92016201,\n",
       "          0.21529756,  1.59502318,  2.31934029,  0.42497577,\n",
       "          0.31269722,  1.75750906],\n",
       "        [ 0.68071616, -0.50367029,  1.06188303,  1.68245203,\n",
       "         -0.72654564,  3.31609044,  0.70047032,  1.23391116,\n",
       "          0.55243893,  1.10080506],\n",
       "        [-0.05748638,  1.92016201,  1.68245203,  1.13201969,\n",
       "          4.03359096,  0.66731923, -0.58454924,  0.        ,\n",
       "          1.06881747,  0.        ],\n",
       "        [ 0.94732079,  0.21529756, -0.72654564,  4.03359096,\n",
       "          1.16540114,  0.77208652,  1.10715018,  0.        ,\n",
       "         -0.14574355,  0.2445326 ],\n",
       "        [ 0.        ,  1.59502318,  3.31609044,  0.66731923,\n",
       "          0.77208652,  1.0764689 ,  0.20839135, -1.00066514,\n",
       "          1.02100579,  1.43229819],\n",
       "        [ 0.20918433,  2.31934029,  0.70047032, -0.58454924,\n",
       "          1.10715018,  0.20839135,  1.08893884,  0.70411904,\n",
       "          1.22353569,  0.05009731],\n",
       "        [ 0.        ,  0.42497577,  1.23391116,  0.        ,\n",
       "          0.        , -1.00066514,  0.70411904,  1.13477299,\n",
       "          1.93562149,  1.90030308],\n",
       "        [ 1.78611225,  0.31269722,  0.55243893,  1.06881747,\n",
       "         -0.14574355,  1.02100579,  1.22353569,  1.93562149,\n",
       "          1.04415995, -0.8069878 ],\n",
       "        [ 1.85242287,  1.75750906,  1.10080506,  0.        ,\n",
       "          0.2445326 ,  1.43229819,  0.05009731,  1.90030308,\n",
       "         -0.8069878 ,  1.20415507]],\n",
       "\n",
       "       [[ 1.10743819,  0.        ,  0.68071616, -0.05748638,\n",
       "          0.94732079,  0.        ,  0.20918433,  0.        ,\n",
       "          1.78611225,  1.85242287],\n",
       "        [ 0.        ,  1.07193912, -0.50367029,  1.92016201,\n",
       "          0.21529756,  1.59502318,  2.31934029,  0.42497577,\n",
       "          0.31269722,  1.75750906],\n",
       "        [ 0.68071616, -0.50367029,  1.06188303,  1.68245203,\n",
       "         -0.72654564,  3.31609044,  0.70047032,  1.23391116,\n",
       "          0.55243893,  1.10080506],\n",
       "        [-0.05748638,  1.92016201,  1.68245203,  1.13201969,\n",
       "          4.03359096,  0.66731923, -0.58454924,  0.        ,\n",
       "          1.06881747,  0.        ],\n",
       "        [ 0.94732079,  0.21529756, -0.72654564,  4.03359096,\n",
       "          1.16540114,  0.77208652,  1.10715018,  0.        ,\n",
       "         -0.14574355,  0.2445326 ],\n",
       "        [ 0.        ,  1.59502318,  3.31609044,  0.66731923,\n",
       "          0.77208652,  1.0764689 ,  0.20839135, -1.00066514,\n",
       "          1.02100579,  1.43229819],\n",
       "        [ 0.20918433,  2.31934029,  0.70047032, -0.58454924,\n",
       "          1.10715018,  0.20839135,  1.08893884,  0.70411904,\n",
       "          1.22353569,  0.05009731],\n",
       "        [ 0.        ,  0.42497577,  1.23391116,  0.        ,\n",
       "          0.        , -1.00066514,  0.70411904,  1.13477299,\n",
       "          1.93562149,  1.90030308],\n",
       "        [ 1.78611225,  0.31269722,  0.55243893,  1.06881747,\n",
       "         -0.14574355,  1.02100579,  1.22353569,  1.93562149,\n",
       "          1.04415995, -0.8069878 ],\n",
       "        [ 1.85242287,  1.75750906,  1.10080506,  0.        ,\n",
       "          0.2445326 ,  1.43229819,  0.05009731,  1.90030308,\n",
       "         -0.8069878 ,  1.20415507]],\n",
       "\n",
       "       [[ 1.10743819,  0.        ,  0.68071616, -0.05748638,\n",
       "          0.94732079,  0.        ,  0.20918433,  0.        ,\n",
       "          1.78611225,  1.85242287],\n",
       "        [ 0.        ,  1.07193912, -0.50367029,  1.92016201,\n",
       "          0.21529756,  1.59502318,  2.31934029,  0.42497577,\n",
       "          0.31269722,  1.75750906],\n",
       "        [ 0.68071616, -0.50367029,  1.06188303,  1.68245203,\n",
       "         -0.72654564,  3.31609044,  0.70047032,  1.23391116,\n",
       "          0.55243893,  1.10080506],\n",
       "        [-0.05748638,  1.92016201,  1.68245203,  1.13201969,\n",
       "          4.03359096,  0.66731923, -0.58454924,  0.        ,\n",
       "          1.06881747,  0.        ],\n",
       "        [ 0.94732079,  0.21529756, -0.72654564,  4.03359096,\n",
       "          1.16540114,  0.77208652,  1.10715018,  0.        ,\n",
       "         -0.14574355,  0.2445326 ],\n",
       "        [ 0.        ,  1.59502318,  3.31609044,  0.66731923,\n",
       "          0.77208652,  1.0764689 ,  0.20839135, -1.00066514,\n",
       "          1.02100579,  1.43229819],\n",
       "        [ 0.20918433,  2.31934029,  0.70047032, -0.58454924,\n",
       "          1.10715018,  0.20839135,  1.08893884,  0.70411904,\n",
       "          1.22353569,  0.05009731],\n",
       "        [ 0.        ,  0.42497577,  1.23391116,  0.        ,\n",
       "          0.        , -1.00066514,  0.70411904,  1.13477299,\n",
       "          1.93562149,  1.90030308],\n",
       "        [ 1.78611225,  0.31269722,  0.55243893,  1.06881747,\n",
       "         -0.14574355,  1.02100579,  1.22353569,  1.93562149,\n",
       "          1.04415995, -0.8069878 ],\n",
       "        [ 1.85242287,  1.75750906,  1.10080506,  0.        ,\n",
       "          0.2445326 ,  1.43229819,  0.05009731,  1.90030308,\n",
       "         -0.8069878 ,  1.20415507]],\n",
       "\n",
       "       [[ 1.10743819,  0.        ,  0.68071616, -0.05748638,\n",
       "          0.94732079,  0.        ,  0.20918433,  0.        ,\n",
       "          1.78611225,  1.85242287],\n",
       "        [ 0.        ,  1.07193912, -0.50367029,  1.92016201,\n",
       "          0.21529756,  1.59502318,  2.31934029,  0.42497577,\n",
       "          0.31269722,  1.75750906],\n",
       "        [ 0.68071616, -0.50367029,  1.06188303,  1.68245203,\n",
       "         -0.72654564,  3.31609044,  0.70047032,  1.23391116,\n",
       "          0.55243893,  1.10080506],\n",
       "        [-0.05748638,  1.92016201,  1.68245203,  1.13201969,\n",
       "          4.03359096,  0.66731923, -0.58454924,  0.        ,\n",
       "          1.06881747,  0.        ],\n",
       "        [ 0.94732079,  0.21529756, -0.72654564,  4.03359096,\n",
       "          1.16540114,  0.77208652,  1.10715018,  0.        ,\n",
       "         -0.14574355,  0.2445326 ],\n",
       "        [ 0.        ,  1.59502318,  3.31609044,  0.66731923,\n",
       "          0.77208652,  1.0764689 ,  0.20839135, -1.00066514,\n",
       "          1.02100579,  1.43229819],\n",
       "        [ 0.20918433,  2.31934029,  0.70047032, -0.58454924,\n",
       "          1.10715018,  0.20839135,  1.08893884,  0.70411904,\n",
       "          1.22353569,  0.05009731],\n",
       "        [ 0.        ,  0.42497577,  1.23391116,  0.        ,\n",
       "          0.        , -1.00066514,  0.70411904,  1.13477299,\n",
       "          1.93562149,  1.90030308],\n",
       "        [ 1.78611225,  0.31269722,  0.55243893,  1.06881747,\n",
       "         -0.14574355,  1.02100579,  1.22353569,  1.93562149,\n",
       "          1.04415995, -0.8069878 ],\n",
       "        [ 1.85242287,  1.75750906,  1.10080506,  0.        ,\n",
       "          0.2445326 ,  1.43229819,  0.05009731,  1.90030308,\n",
       "         -0.8069878 ,  1.20415507]],\n",
       "\n",
       "       [[ 1.10743819,  0.        ,  0.68071616, -0.05748638,\n",
       "          0.94732079,  0.        ,  0.20918433,  0.        ,\n",
       "          1.78611225,  1.85242287],\n",
       "        [ 0.        ,  1.07193912, -0.50367029,  1.92016201,\n",
       "          0.21529756,  1.59502318,  2.31934029,  0.42497577,\n",
       "          0.31269722,  1.75750906],\n",
       "        [ 0.68071616, -0.50367029,  1.06188303,  1.68245203,\n",
       "         -0.72654564,  3.31609044,  0.70047032,  1.23391116,\n",
       "          0.55243893,  1.10080506],\n",
       "        [-0.05748638,  1.92016201,  1.68245203,  1.13201969,\n",
       "          4.03359096,  0.66731923, -0.58454924,  0.        ,\n",
       "          1.06881747,  0.        ],\n",
       "        [ 0.94732079,  0.21529756, -0.72654564,  4.03359096,\n",
       "          1.16540114,  0.77208652,  1.10715018,  0.        ,\n",
       "         -0.14574355,  0.2445326 ],\n",
       "        [ 0.        ,  1.59502318,  3.31609044,  0.66731923,\n",
       "          0.77208652,  1.0764689 ,  0.20839135, -1.00066514,\n",
       "          1.02100579,  1.43229819],\n",
       "        [ 0.20918433,  2.31934029,  0.70047032, -0.58454924,\n",
       "          1.10715018,  0.20839135,  1.08893884,  0.70411904,\n",
       "          1.22353569,  0.05009731],\n",
       "        [ 0.        ,  0.42497577,  1.23391116,  0.        ,\n",
       "          0.        , -1.00066514,  0.70411904,  1.13477299,\n",
       "          1.93562149,  1.90030308],\n",
       "        [ 1.78611225,  0.31269722,  0.55243893,  1.06881747,\n",
       "         -0.14574355,  1.02100579,  1.22353569,  1.93562149,\n",
       "          1.04415995, -0.8069878 ],\n",
       "        [ 1.85242287,  1.75750906,  1.10080506,  0.        ,\n",
       "          0.2445326 ,  1.43229819,  0.05009731,  1.90030308,\n",
       "         -0.8069878 ,  1.20415507]]])"
      ]
     },
     "execution_count": 18,
     "metadata": {},
     "output_type": "execute_result"
    }
   ],
   "source": [
    "mdl.precision_"
   ]
  },
  {
   "cell_type": "markdown",
   "metadata": {},
   "source": [
    "### GridSearchCV\n",
    "As for the hyper-parameters tuning, one may choose to fix a grid of parameters and select the best ones.\n",
    "For this we can use `GridSearchCV`, from the `scikit-learn` library."
   ]
  },
  {
   "cell_type": "code",
   "execution_count": null,
   "metadata": {
    "scrolled": true
   },
   "outputs": [],
   "source": [
    "# data_grid = np.array(data.data).transpose(1,2,0)\n",
    "param_grid=dict(alpha=np.logspace(-2,0,3), beta=np.logspace(-2,0,3), gamma=np.logspace(-2, 0, 3),\n",
    "               time_norm=[1, 2])\n",
    "\n",
    "mdl = time_graph_lasso_.TimeGraphLassoForwardBackward(\n",
    "    verbose=0, time_on_axis='last')\n",
    "    \n",
    "cv = ShuffleSplit(2, test_size=0.2)\n",
    "ltgl = GridSearchCV(mdl, param_grid, cv=cv, verbose=1)\n",
    "ltgl.fit(data_grid)"
   ]
  }
 ],
 "metadata": {
  "kernelspec": {
   "display_name": "Python 2",
   "language": "python",
   "name": "python2"
  },
  "language_info": {
   "codemirror_mode": {
    "name": "ipython",
    "version": 2
   },
   "file_extension": ".py",
   "mimetype": "text/x-python",
   "name": "python",
   "nbconvert_exporter": "python",
   "pygments_lexer": "ipython2",
   "version": "2.7.14"
  }
 },
 "nbformat": 4,
 "nbformat_minor": 2
}
