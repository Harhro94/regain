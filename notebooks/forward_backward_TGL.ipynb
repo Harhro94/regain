{
 "cells": [
  {
   "cell_type": "markdown",
   "metadata": {},
   "source": [
    "# Forward-backward splitting for time-varying graphical lasso\n",
    "This notebook shows how to minimise the time-varying graphical lasso with element-wise penalty norms across time-points.\n",
    "\n",
    "First of all, as always, let's create a bunch of data.\n",
    "For this task, we generate eah variable to change according to a certain behaviour which can be described as evolution via tigonometric functions, such as `sin` and `cos`."
   ]
  },
  {
   "cell_type": "code",
   "execution_count": 1,
   "metadata": {},
   "outputs": [],
   "source": [
    "%matplotlib inline\n",
    "import numpy as np\n",
    "import matplotlib.pyplot as plt\n",
    "\n",
    "from scipy.spatial.distance import squareform\n",
    "from regain import datasets, utils\n",
    "\n",
    "from sklearn.datasets import load_iris\n",
    "from sklearn.svm import SVC \n",
    "from sklearn.model_selection import train_test_split\n",
    "from sklearn.model_selection import GridSearchCV, ShuffleSplit\n",
    "\n",
    "from skopt.searchcv import BayesSearchCV\n",
    "from skopt.space import Real, Categorical, Integer"
   ]
  },
  {
   "cell_type": "code",
   "execution_count": 2,
   "metadata": {},
   "outputs": [],
   "source": [
    "# np.random.seed(7)\n",
    "\n",
    "# fs = 10e3\n",
    "# N = 100\n",
    "# amp = 2*np.sqrt(2)\n",
    "# freq = 1.0\n",
    "# noise_power = 0.001 * fs / 2\n",
    "# time = np.arange(N) / fs\n",
    "# z = amp*np.sin(2*np.pi*freq*time)\n",
    "# z += np.random.normal(scale=np.sqrt(noise_power), size=time.shape)\n",
    "# plt.plot(z);"
   ]
  },
  {
   "cell_type": "code",
   "execution_count": 3,
   "metadata": {},
   "outputs": [],
   "source": [
    "# T = 4\n",
    "\n",
    "# x = np.tile(np.linspace(0, T-1, T), (n_interactions, 1))\n",
    "# zz = amp * signal.square(2 * np.pi * freq * x + phase, duty=.5)\n",
    "# plt.plot(x.T, zz.T);"
   ]
  },
  {
   "cell_type": "markdown",
   "metadata": {},
   "source": [
    "Generate the data starting from the inverse covariance matrices."
   ]
  },
  {
   "cell_type": "code",
   "execution_count": 4,
   "metadata": {
    "scrolled": true
   },
   "outputs": [],
   "source": [
    "np.random.seed(7)\n",
    "\n",
    "# square\n",
    "n_samples = 100\n",
    "n_dim_obs = 20\n",
    "T = 10\n",
    "\n",
    "data = {}\n",
    "data['square'] = datasets.make_dataset(n_samples=n_samples, n_dim_obs=n_dim_obs, n_dim_lat=0, T=T,\n",
    "                             time_on_axis='last',\n",
    "                             mode='sin', shape='square', closeness=2.4, normalize=1)\n",
    "\n",
    "# smooth\n",
    "n_samples = 100\n",
    "n_dim_obs = 20\n",
    "T = 10\n",
    "\n",
    "data['smooth'] = datasets.make_dataset(n_samples=n_samples, n_dim_obs=n_dim_obs, n_dim_lat=0, T=T,\n",
    "                             time_on_axis='last',\n",
    "                             mode='sin', shape='smooth', closeness=2.4, normalize=1)\n",
    "\n",
    "# plt.step(np.array([squareform(y, checks=None) for y in data.thetas]), '-|');\n",
    "# plt.savefig(\"/home/fede/Dropbox/Latent variables networks/forward backward time varying graphical lasso/smooth_signal.pdf\")"
   ]
  },
  {
   "cell_type": "markdown",
   "metadata": {},
   "source": [
    "### Let's run "
   ]
  },
  {
   "cell_type": "code",
   "execution_count": 5,
   "metadata": {},
   "outputs": [],
   "source": [
    "# X = data.data\n",
    "# X_tr, X_ts = train_test_split(X)"
   ]
  },
  {
   "cell_type": "code",
   "execution_count": 561,
   "metadata": {},
   "outputs": [],
   "source": [
    "import pandas as pd\n",
    "from functools import partial\n",
    "from regain import update_rules; reload(update_rules);\n",
    "from regain.forward_backward import time_graph_lasso_; reload(time_graph_lasso_)\n",
    "\n",
    "from sklearn.covariance import GraphLasso, GraphLassoCV\n",
    "import sys; sys.path.append(\"/home/fede/src/TVGL\")\n",
    "import inferGraphL1; reload(inferGraphL1)\n",
    "import TVGL; reload(TVGL)\n",
    "\n",
    "# use:\n",
    "# beta = 2.1, norm = 1\n",
    "# beta = 5.05, norm = 2\n",
    "# prepare dataframe for results\n",
    "\n",
    "methods = ['TGL-FB ($\\ell_{21}$)', 'TGL-FB ($\\ell_1$)', 'GL', 'TVGL ($\\ell_{21}$)', 'TVGL ($\\ell_1$)']\n",
    "\n",
    "scores = sorted(['iter', 'accuracy',  'average_precision',  'balanced_accuracy','f1','false_omission_rate','fdr',\n",
    "                 'fn',  'fp',  'precision',  'prevalence',  'recall',  'specificity',  'tn',  'tp'])\n",
    "evolution = sorted(['square', 'smooth'])\n",
    "\n",
    "rows = methods\n",
    "cols = pd.MultiIndex.from_product([evolution, scores], names=('evolution', 'score'))\n",
    "# rows = pd.MultiIndex.from_product([methods, n_times], names=('method','time'))\n",
    "\n",
    "dff = pd.DataFrame(columns=cols, index=rows)\n",
    "idx = pd.IndexSlice"
   ]
  },
  {
   "cell_type": "code",
   "execution_count": null,
   "metadata": {},
   "outputs": [],
   "source": []
  },
  {
   "cell_type": "code",
   "execution_count": 562,
   "metadata": {},
   "outputs": [],
   "source": [
    "def run_performance(beta=1, alpha=1, evolution='square'):\n",
    "    X = data[evolution].data\n",
    "    \n",
    "    error_function = partial(utils.structure_error, data[evolution].thetas,\n",
    "                             no_diagonal=0, thresholding=1, eps=1e-4)\n",
    "\n",
    "    tglfb = time_graph_lasso_.TimeGraphLassoForwardBackward(\n",
    "        verbose=0, gamma=1, alpha=alpha, beta=beta,\n",
    "        delta=1e-8, choose='lamda', lamda_criterion='c',\n",
    "        lamda=1, tol=1e-5, eps=0.9,\n",
    "        time_norm=2, max_iter=300, time_on_axis='last').fit(X)\n",
    "#     print(tglfb.alpha_max(X))\n",
    "#     return\n",
    "    res = error_function(tglfb.precision_)\n",
    "    res['iter'] = tglfb.n_iter_\n",
    "    dff.loc['TGL-FB ($\\ell_{21}$)', idx[evolution, :]] = [res[x] for x in scores]\n",
    "    \n",
    "    tglfb = tglfb.set_params(time_norm=1).fit(X)\n",
    "    res = error_function(tglfb.precision_)\n",
    "    res['iter'] = tglfb.n_iter_\n",
    "    dff.loc['TGL-FB ($\\ell_1$)', idx[evolution, :]] = [res[x] for x in scores]\n",
    "\n",
    "    gl = GraphLasso(alpha=0.05)\n",
    "#     gl = GraphLassoCV(alphas=list(np.logspace(-1, 0, 100)))\n",
    "    precision_gl = np.array([gl.fit(x).precision_.copy() for x in X.transpose(2,0,1)])\n",
    "    res = error_function(precision_gl)\n",
    "    res['iter'] = gl.n_iter_\n",
    "    dff.loc['GL', idx[evolution, :]] = [res[x] for x in scores]\n",
    "    \n",
    "    thetaSet, empCovSet, status, gvx = TVGL.TVGL(\n",
    "        np.vstack(X.transpose(2,0,1)), X.shape[0],\n",
    "        lamb=gl.alpha, beta=tglfb.beta, indexOfPenalty=2, verbose=False)\n",
    "\n",
    "    res = error_function(np.array(thetaSet))\n",
    "    res['iter'] = gvx.n_iter_\n",
    "    dff.loc['TVGL ($\\ell_{21}$)', idx[evolution, :]] = [res[x] for x in scores]\n",
    "    \n",
    "    thetaSet, empCovSet, status, gvx = TVGL.TVGL(\n",
    "        np.vstack(X.transpose(2,0,1)), X.shape[0],\n",
    "        lamb=gl.alpha, beta=tglfb.beta, indexOfPenalty=1, verbose=False)\n",
    "    res = error_function(np.array(thetaSet))\n",
    "    res['iter'] = gvx.n_iter_\n",
    "    dff.loc['TVGL ($\\ell_1$)', idx[evolution, :]] = [res[x] for x in scores]"
   ]
  },
  {
   "cell_type": "code",
   "execution_count": 563,
   "metadata": {
    "scrolled": true
   },
   "outputs": [
    {
     "name": "stdout",
     "output_type": "stream",
     "text": [
      "Use l-2 penalty function\n",
      "10\n",
      "lambda = 0.05, beta = 1.09\n",
      "Use l-1 penalty function\n",
      "10\n",
      "lambda = 0.05, beta = 1.09\n",
      "Use l-2 penalty function\n",
      "10\n",
      "lambda = 0.05, beta = 5\n",
      "Use l-1 penalty function\n",
      "10\n",
      "lambda = 0.05, beta = 5\n"
     ]
    }
   ],
   "source": [
    "run_performance(beta=1.09, alpha=0.55, evolution='square')\n",
    "run_performance(beta=5, alpha=0.53, evolution='smooth')"
   ]
  },
  {
   "cell_type": "code",
   "execution_count": 564,
   "metadata": {},
   "outputs": [
    {
     "data": {
      "text/html": [
       "<div>\n",
       "<style scoped>\n",
       "    .dataframe tbody tr th:only-of-type {\n",
       "        vertical-align: middle;\n",
       "    }\n",
       "\n",
       "    .dataframe tbody tr th {\n",
       "        vertical-align: top;\n",
       "    }\n",
       "\n",
       "    .dataframe thead th {\n",
       "        text-align: right;\n",
       "    }\n",
       "</style>\n",
       "<table border=\"1\" class=\"dataframe\">\n",
       "  <thead>\n",
       "    <tr style=\"text-align: right;\">\n",
       "      <th>score</th>\n",
       "      <th>accuracy</th>\n",
       "      <th>average_precision</th>\n",
       "      <th>balanced_accuracy</th>\n",
       "      <th>f1</th>\n",
       "      <th>false_omission_rate</th>\n",
       "      <th>fdr</th>\n",
       "      <th>fn</th>\n",
       "      <th>fp</th>\n",
       "      <th>iter</th>\n",
       "      <th>precision</th>\n",
       "      <th>prevalence</th>\n",
       "      <th>recall</th>\n",
       "      <th>specificity</th>\n",
       "      <th>tn</th>\n",
       "      <th>tp</th>\n",
       "    </tr>\n",
       "  </thead>\n",
       "  <tbody>\n",
       "    <tr>\n",
       "      <th>TGL-FB ($\\ell_1$)</th>\n",
       "      <td>0.5895</td>\n",
       "      <td>0.778652</td>\n",
       "      <td>0.500185</td>\n",
       "      <td>0.74158</td>\n",
       "      <td>0.5</td>\n",
       "      <td>0.41041</td>\n",
       "      <td>2</td>\n",
       "      <td>1640</td>\n",
       "      <td>6</td>\n",
       "      <td>0.58959</td>\n",
       "      <td>0.5895</td>\n",
       "      <td>0.999152</td>\n",
       "      <td>0.00121803</td>\n",
       "      <td>2</td>\n",
       "      <td>2356</td>\n",
       "    </tr>\n",
       "    <tr>\n",
       "      <th>TGL-FB ($\\ell_{21}$)</th>\n",
       "      <td>0.588</td>\n",
       "      <td>0.763398</td>\n",
       "      <td>0.498728</td>\n",
       "      <td>0.740554</td>\n",
       "      <td>1</td>\n",
       "      <td>0.411117</td>\n",
       "      <td>6</td>\n",
       "      <td>1642</td>\n",
       "      <td>12</td>\n",
       "      <td>0.588883</td>\n",
       "      <td>0.5895</td>\n",
       "      <td>0.997455</td>\n",
       "      <td>0</td>\n",
       "      <td>0</td>\n",
       "      <td>2352</td>\n",
       "    </tr>\n",
       "    <tr>\n",
       "      <th>GL</th>\n",
       "      <td>0.5935</td>\n",
       "      <td>0.758301</td>\n",
       "      <td>0.562569</td>\n",
       "      <td>0.680801</td>\n",
       "      <td>0.493671</td>\n",
       "      <td>0.366228</td>\n",
       "      <td>624</td>\n",
       "      <td>1002</td>\n",
       "      <td>3</td>\n",
       "      <td>0.633772</td>\n",
       "      <td>0.5895</td>\n",
       "      <td>0.735369</td>\n",
       "      <td>0.389769</td>\n",
       "      <td>640</td>\n",
       "      <td>1734</td>\n",
       "    </tr>\n",
       "    <tr>\n",
       "      <th>TVGL ($\\ell_1$)</th>\n",
       "      <td>0.611</td>\n",
       "      <td>0.707976</td>\n",
       "      <td>0.616246</td>\n",
       "      <td>0.640148</td>\n",
       "      <td>0.478859</td>\n",
       "      <td>0.296033</td>\n",
       "      <td>974</td>\n",
       "      <td>582</td>\n",
       "      <td>36</td>\n",
       "      <td>0.703967</td>\n",
       "      <td>0.5895</td>\n",
       "      <td>0.586938</td>\n",
       "      <td>0.645554</td>\n",
       "      <td>1060</td>\n",
       "      <td>1384</td>\n",
       "    </tr>\n",
       "    <tr>\n",
       "      <th>TVGL ($\\ell_{21}$)</th>\n",
       "      <td>0.5685</td>\n",
       "      <td>0.671896</td>\n",
       "      <td>0.617369</td>\n",
       "      <td>0.484776</td>\n",
       "      <td>0.513963</td>\n",
       "      <td>0.181452</td>\n",
       "      <td>1546</td>\n",
       "      <td>180</td>\n",
       "      <td>22</td>\n",
       "      <td>0.818548</td>\n",
       "      <td>0.5895</td>\n",
       "      <td>0.34436</td>\n",
       "      <td>0.890378</td>\n",
       "      <td>1462</td>\n",
       "      <td>812</td>\n",
       "    </tr>\n",
       "  </tbody>\n",
       "</table>\n",
       "</div>"
      ],
      "text/plain": [
       "score                accuracy average_precision balanced_accuracy        f1  \\\n",
       "TGL-FB ($\\ell_1$)      0.5895          0.778652          0.500185   0.74158   \n",
       "TGL-FB ($\\ell_{21}$)    0.588          0.763398          0.498728  0.740554   \n",
       "GL                     0.5935          0.758301          0.562569  0.680801   \n",
       "TVGL ($\\ell_1$)         0.611          0.707976          0.616246  0.640148   \n",
       "TVGL ($\\ell_{21}$)     0.5685          0.671896          0.617369  0.484776   \n",
       "\n",
       "score                false_omission_rate       fdr    fn    fp  iter  \\\n",
       "TGL-FB ($\\ell_1$)                    0.5   0.41041     2  1640     6   \n",
       "TGL-FB ($\\ell_{21}$)                   1  0.411117     6  1642    12   \n",
       "GL                              0.493671  0.366228   624  1002     3   \n",
       "TVGL ($\\ell_1$)                 0.478859  0.296033   974   582    36   \n",
       "TVGL ($\\ell_{21}$)              0.513963  0.181452  1546   180    22   \n",
       "\n",
       "score                precision prevalence    recall specificity    tn    tp  \n",
       "TGL-FB ($\\ell_1$)      0.58959     0.5895  0.999152  0.00121803     2  2356  \n",
       "TGL-FB ($\\ell_{21}$)  0.588883     0.5895  0.997455           0     0  2352  \n",
       "GL                    0.633772     0.5895  0.735369    0.389769   640  1734  \n",
       "TVGL ($\\ell_1$)       0.703967     0.5895  0.586938    0.645554  1060  1384  \n",
       "TVGL ($\\ell_{21}$)    0.818548     0.5895   0.34436    0.890378  1462   812  "
      ]
     },
     "execution_count": 564,
     "metadata": {},
     "output_type": "execute_result"
    }
   ],
   "source": [
    "ss = ['accuracy', 'average_precision', 'balanced_accuracy', 'f1', 'iter']\n",
    "dff['smooth'].sort_values(\"f1\", ascending=False)#[ss]\n",
    "dff['square'].sort_values(\"f1\", ascending=False)"
   ]
  },
  {
   "cell_type": "code",
   "execution_count": 566,
   "metadata": {},
   "outputs": [],
   "source": [
    "# dff.to_pickle(\"results_25_04_18.pkl\")"
   ]
  },
  {
   "cell_type": "code",
   "execution_count": 294,
   "metadata": {
    "scrolled": true
   },
   "outputs": [
    {
     "ename": "NotFittedError",
     "evalue": "This BayesSearchCV instance is not fitted yet. Call 'fit' with appropriate arguments before using this method.",
     "output_type": "error",
     "traceback": [
      "\u001b[0;31m---------------------------------------------------------------------------\u001b[0m",
      "\u001b[0;31mNotFittedError\u001b[0m                            Traceback (most recent call last)",
      "\u001b[0;32m<ipython-input-294-e7fa56168396>\u001b[0m in \u001b[0;36m<module>\u001b[0;34m()\u001b[0m\n\u001b[1;32m      8\u001b[0m                          no_diagonal=0, thresholding=1, eps=1e-3)\n\u001b[1;32m      9\u001b[0m tglfb = time_graph_lasso_.TimeGraphLassoForwardBackward(\n\u001b[0;32m---> 10\u001b[0;31m     \u001b[0mverbose\u001b[0m\u001b[0;34m=\u001b[0m\u001b[0;36m2\u001b[0m\u001b[0;34m,\u001b[0m \u001b[0mgamma\u001b[0m\u001b[0;34m=\u001b[0m\u001b[0;36m1\u001b[0m\u001b[0;34m,\u001b[0m \u001b[0malpha\u001b[0m\u001b[0;34m=\u001b[0m\u001b[0mbscv\u001b[0m\u001b[0;34m.\u001b[0m\u001b[0mbest_params_\u001b[0m\u001b[0;34m[\u001b[0m\u001b[0;34m'alpha'\u001b[0m\u001b[0;34m]\u001b[0m\u001b[0;34m,\u001b[0m \u001b[0mbeta\u001b[0m\u001b[0;34m=\u001b[0m\u001b[0mbscv\u001b[0m\u001b[0;34m.\u001b[0m\u001b[0mbest_params_\u001b[0m\u001b[0;34m[\u001b[0m\u001b[0;34m'beta'\u001b[0m\u001b[0;34m]\u001b[0m\u001b[0;34m,\u001b[0m\u001b[0;34m\u001b[0m\u001b[0m\n\u001b[0m\u001b[1;32m     11\u001b[0m     \u001b[0mdelta\u001b[0m\u001b[0;34m=\u001b[0m\u001b[0;36m1e-8\u001b[0m\u001b[0;34m,\u001b[0m \u001b[0mchoose\u001b[0m\u001b[0;34m=\u001b[0m\u001b[0;34m'lamda'\u001b[0m\u001b[0;34m,\u001b[0m \u001b[0mlamda_criterion\u001b[0m\u001b[0;34m=\u001b[0m\u001b[0;34m'c'\u001b[0m\u001b[0;34m,\u001b[0m\u001b[0;34m\u001b[0m\u001b[0m\n\u001b[1;32m     12\u001b[0m     \u001b[0mlamda\u001b[0m\u001b[0;34m=\u001b[0m\u001b[0;36m1\u001b[0m\u001b[0;34m,\u001b[0m \u001b[0mtol\u001b[0m\u001b[0;34m=\u001b[0m\u001b[0;36m1e-5\u001b[0m\u001b[0;34m,\u001b[0m \u001b[0meps\u001b[0m\u001b[0;34m=\u001b[0m\u001b[0;36m0.9\u001b[0m\u001b[0;34m,\u001b[0m\u001b[0;34m\u001b[0m\u001b[0m\n",
      "\u001b[0;32m/home/fede/src/scikit-optimize/skopt/searchcv.pyc\u001b[0m in \u001b[0;36mbest_params_\u001b[0;34m(self)\u001b[0m\n\u001b[1;32m    359\u001b[0m     \u001b[0;34m@\u001b[0m\u001b[0mproperty\u001b[0m\u001b[0;34m\u001b[0m\u001b[0m\n\u001b[1;32m    360\u001b[0m     \u001b[0;32mdef\u001b[0m \u001b[0mbest_params_\u001b[0m\u001b[0;34m(\u001b[0m\u001b[0mself\u001b[0m\u001b[0;34m)\u001b[0m\u001b[0;34m:\u001b[0m\u001b[0;34m\u001b[0m\u001b[0m\n\u001b[0;32m--> 361\u001b[0;31m         \u001b[0mcheck_is_fitted\u001b[0m\u001b[0;34m(\u001b[0m\u001b[0mself\u001b[0m\u001b[0;34m,\u001b[0m \u001b[0;34m'cv_results_'\u001b[0m\u001b[0;34m)\u001b[0m\u001b[0;34m\u001b[0m\u001b[0m\n\u001b[0m\u001b[1;32m    362\u001b[0m         \u001b[0;32mreturn\u001b[0m \u001b[0mself\u001b[0m\u001b[0;34m.\u001b[0m\u001b[0mcv_results_\u001b[0m\u001b[0;34m[\u001b[0m\u001b[0;34m'params'\u001b[0m\u001b[0;34m]\u001b[0m\u001b[0;34m[\u001b[0m\u001b[0mself\u001b[0m\u001b[0;34m.\u001b[0m\u001b[0mbest_index_\u001b[0m\u001b[0;34m]\u001b[0m\u001b[0;34m\u001b[0m\u001b[0m\n\u001b[1;32m    363\u001b[0m \u001b[0;34m\u001b[0m\u001b[0m\n",
      "\u001b[0;32m/home/fede/miniconda2/lib/python2.7/site-packages/sklearn/utils/validation.pyc\u001b[0m in \u001b[0;36mcheck_is_fitted\u001b[0;34m(estimator, attributes, msg, all_or_any)\u001b[0m\n\u001b[1;32m    766\u001b[0m \u001b[0;34m\u001b[0m\u001b[0m\n\u001b[1;32m    767\u001b[0m     \u001b[0;32mif\u001b[0m \u001b[0;32mnot\u001b[0m \u001b[0mall_or_any\u001b[0m\u001b[0;34m(\u001b[0m\u001b[0;34m[\u001b[0m\u001b[0mhasattr\u001b[0m\u001b[0;34m(\u001b[0m\u001b[0mestimator\u001b[0m\u001b[0;34m,\u001b[0m \u001b[0mattr\u001b[0m\u001b[0;34m)\u001b[0m \u001b[0;32mfor\u001b[0m \u001b[0mattr\u001b[0m \u001b[0;32min\u001b[0m \u001b[0mattributes\u001b[0m\u001b[0;34m]\u001b[0m\u001b[0;34m)\u001b[0m\u001b[0;34m:\u001b[0m\u001b[0;34m\u001b[0m\u001b[0m\n\u001b[0;32m--> 768\u001b[0;31m         \u001b[0;32mraise\u001b[0m \u001b[0mNotFittedError\u001b[0m\u001b[0;34m(\u001b[0m\u001b[0mmsg\u001b[0m \u001b[0;34m%\u001b[0m \u001b[0;34m{\u001b[0m\u001b[0;34m'name'\u001b[0m\u001b[0;34m:\u001b[0m \u001b[0mtype\u001b[0m\u001b[0;34m(\u001b[0m\u001b[0mestimator\u001b[0m\u001b[0;34m)\u001b[0m\u001b[0;34m.\u001b[0m\u001b[0m__name__\u001b[0m\u001b[0;34m}\u001b[0m\u001b[0;34m)\u001b[0m\u001b[0;34m\u001b[0m\u001b[0m\n\u001b[0m\u001b[1;32m    769\u001b[0m \u001b[0;34m\u001b[0m\u001b[0m\n\u001b[1;32m    770\u001b[0m \u001b[0;34m\u001b[0m\u001b[0m\n",
      "\u001b[0;31mNotFittedError\u001b[0m: This BayesSearchCV instance is not fitted yet. Call 'fit' with appropriate arguments before using this method."
     ]
    }
   ],
   "source": [
    "evolution = 'square'\n",
    "beta = .9\n",
    "from regain import prox; reload(prox)\n",
    "reload(time_graph_lasso_)\n",
    "X = data[evolution].data\n",
    "    \n",
    "error_function = partial(utils.structure_error, data[evolution].thetas,\n",
    "                         no_diagonal=0, thresholding=1, eps=1e-3)\n",
    "tglfb = time_graph_lasso_.TimeGraphLassoForwardBackward(\n",
    "    verbose=2, gamma=1, alpha=bscv.best_params_['alpha'], beta=bscv.best_params_['beta'],\n",
    "    delta=1e-8, choose='lamda', lamda_criterion='c',\n",
    "    lamda=1, tol=1e-5, eps=0.9,\n",
    "    time_norm=1, max_iter=300, time_on_axis='last').fit(X)\n",
    "#     print(tglfb.alpha_max(X))\n",
    "#     return\n",
    "res = error_function(tglfb.precision_)"
   ]
  },
  {
   "cell_type": "code",
   "execution_count": 214,
   "metadata": {},
   "outputs": [
    {
     "data": {
      "text/plain": [
       "{'accuracy': 0.59,\n",
       " 'average_precision': 0.7827281349725472,\n",
       " 'balanced_accuracy': 0.5006090133982948,\n",
       " 'dor': 0,\n",
       " 'f1': 0.7419760855884204,\n",
       " 'fall_out': 0.9987819732034104,\n",
       " 'false_omission_rate': 0.0,\n",
       " 'fdr': 0.4102051025512756,\n",
       " 'fn': 0,\n",
       " 'fp': 1640,\n",
       " 'miss_rate': 0.0,\n",
       " 'nlr': 0.0,\n",
       " 'npv': 1.0,\n",
       " 'plr': 1.001219512195122,\n",
       " 'precision': 0.5897948974487244,\n",
       " 'prevalence': 0.5895,\n",
       " 'recall': 1.0,\n",
       " 'specificity': 0.001218026796589525,\n",
       " 'tn': 2,\n",
       " 'tp': 2358}"
      ]
     },
     "execution_count": 214,
     "metadata": {},
     "output_type": "execute_result"
    }
   ],
   "source": [
    "error_function = partial(utils.structure_error, data[evolution].thetas,\n",
    "                             no_diagonal=0, thresholding=1, eps=1e-4)\n",
    "\n",
    "res = error_function(tglfb.precision_)\n",
    "res"
   ]
  },
  {
   "cell_type": "code",
   "execution_count": 156,
   "metadata": {},
   "outputs": [
    {
     "data": {
      "text/plain": [
       "2"
      ]
     },
     "execution_count": 156,
     "metadata": {},
     "output_type": "execute_result"
    }
   ],
   "source": [
    "tglfb.n_iter_"
   ]
  },
  {
   "cell_type": "code",
   "execution_count": 157,
   "metadata": {
    "scrolled": true
   },
   "outputs": [
    {
     "data": {
      "text/plain": [
       "0.0"
      ]
     },
     "execution_count": 157,
     "metadata": {},
     "output_type": "execute_result"
    }
   ],
   "source": [
    "np.abs(tglfb.precision_).min()"
   ]
  },
  {
   "cell_type": "markdown",
   "metadata": {},
   "source": [
    "### BayesOptimisation\n",
    "Since we have lots of hyper-parameters, we rely on a Bayesian optimisation procedure in order to select the best hyper-parameters, treating the scoring function of our algorithm as a black-box for the gaussian process underlying the Bayesian optimisation.\n",
    "\n",
    "Such procedure is performed via the `scikit-optimize` package."
   ]
  },
  {
   "cell_type": "code",
   "execution_count": 393,
   "metadata": {},
   "outputs": [],
   "source": [
    "from regain import utils; reload(utils)\n",
    "from regain import prox; reload(prox);\n",
    "from regain.forward_backward import time_graph_lasso_; reload(time_graph_lasso_)\n",
    "\n",
    "from skopt import searchcv; reload(searchcv)\n",
    "\n",
    "X = data['square'].data\n",
    "\n",
    "domain = {'alpha': Real(1e-1, 3, prior='uniform'),\n",
    "          'beta': Real(1e-1, 1e1, prior='uniform'),\n",
    "#           'time_norm': Categorical([1, 2])\n",
    "#           'eps': Categorical([0.5, 0.7, 0.8, 0.9])\n",
    "         }\n",
    "\n",
    "mdl = time_graph_lasso_.TimeGraphLassoForwardBackward(\n",
    "    verbose=0, tol=1e-5, max_iter=200, gamma=1, beta=2.1, time_norm=1,\n",
    "    time_on_axis='last', alpha=.77,\n",
    "    delta=1e-8, choose='lamda', lamda_criterion='c', eps=0.9)\n",
    "    \n",
    "cv = ShuffleSplit(5, test_size=0.2)\n",
    "    \n",
    "bscv = searchcv.BayesSearchCV(\n",
    "    mdl, domain, n_iter=100, cv=cv, verbose=0, n_jobs=1, iid=True, n_points=3,\n",
    "    error_score=-3e5)\n",
    "\n",
    "def on_step(optim_result):\n",
    "    score = bscv.best_score_\n",
    "#     print(\"best score: %s\" % score)\n",
    "\n",
    "# bscv.fit(X, callback=on_step)"
   ]
  },
  {
   "cell_type": "code",
   "execution_count": 395,
   "metadata": {},
   "outputs": [
    {
     "data": {
      "text/plain": [
       "{'alpha': 0.5304528578823566, 'beta': 4.9818959588448735}"
      ]
     },
     "execution_count": 395,
     "metadata": {},
     "output_type": "execute_result"
    }
   ],
   "source": [
    "bscv_smooth.best_params_"
   ]
  },
  {
   "cell_type": "code",
   "execution_count": 394,
   "metadata": {},
   "outputs": [
    {
     "data": {
      "text/plain": [
       "BayesSearchCV(cv=ShuffleSplit(n_splits=5, random_state=None, test_size=0.2, train_size=None),\n",
       "       error_score=-300000.0,\n",
       "       estimator=TimeGraphLassoForwardBackward(alpha=0.77, assume_centered=False, beta=2.1,\n",
       "               choose='lamda', compute_objective=True, delta=1e-08,\n",
       "               eps=0.9, gamma=1, lamda=1, lamda_criterion='c',\n",
       "               max_iter=200, time_norm=1, time_on_axis='last', tol=1e-05,\n",
       "               verbose=0),\n",
       "       fit_params=None, iid=True, n_iter=300, n_jobs=1, n_points=3,\n",
       "       optimizer_kwargs=None, pre_dispatch='2*n_jobs', random_state=None,\n",
       "       refit=True, return_train_score=False, scoring=None,\n",
       "       search_spaces={'alpha': Real(low=0.1, high=1, prior='uniform', transform='identity'), 'beta': Real(low=0.5, high=5, prior='uniform', transform='identity')},\n",
       "       verbose=0)"
      ]
     },
     "execution_count": 394,
     "metadata": {},
     "output_type": "execute_result"
    }
   ],
   "source": [
    "# searchCV on smooth data set\n",
    "domain = {'alpha': Real(0.1, 1, prior='uniform'),\n",
    "          'beta': Real(0.5, 5, prior='uniform'),\n",
    "#           'time_norm': Categorical([1, 2])\n",
    "#           'eps': Categorical([0.5, 0.7, 0.8, 0.9])\n",
    "         }\n",
    "bscv_smooth = searchcv.BayesSearchCV(\n",
    "    mdl, domain, n_iter=300, cv=cv, verbose=0, n_jobs=1, iid=True, n_points=3,\n",
    "    error_score=-3e5)\n",
    "\n",
    "def on_step(optim_result):\n",
    "    score = bscv_smooth.best_score_\n",
    "#     print(\"best score: %s\" % score)\n",
    "\n",
    "bscv_smooth.fit(data['smooth'].data, callback=on_step)"
   ]
  },
  {
   "cell_type": "markdown",
   "metadata": {},
   "source": [
    "### GridSearchCV\n",
    "As for the hyper-parameters tuning, one may choose to fix a grid of parameters and select the best ones.\n",
    "For this we can use `GridSearchCV`, from the `scikit-learn` library."
   ]
  },
  {
   "cell_type": "code",
   "execution_count": null,
   "metadata": {
    "scrolled": true
   },
   "outputs": [],
   "source": [
    "param_grid=dict(alpha=np.logspace(-2,0,3), beta=np.logspace(-2,0,3),\n",
    "                time_norm=[1, 2])\n",
    "\n",
    "mdl = time_graph_lasso_.TimeGraphLassoForwardBackward(\n",
    "    verbose=0, time_on_axis='last')\n",
    "    \n",
    "cv = ShuffleSplit(2, test_size=0.2)\n",
    "ltgl = GridSearchCV(mdl, param_grid, cv=cv, verbose=1)\n",
    "ltgl.fit(data_grid)"
   ]
  }
 ],
 "metadata": {
  "kernelspec": {
   "display_name": "Python 2",
   "language": "python",
   "name": "python2"
  },
  "language_info": {
   "codemirror_mode": {
    "name": "ipython",
    "version": 2
   },
   "file_extension": ".py",
   "mimetype": "text/x-python",
   "name": "python",
   "nbconvert_exporter": "python",
   "pygments_lexer": "ipython2",
   "version": "2.7.14"
  }
 },
 "nbformat": 4,
 "nbformat_minor": 2
}
