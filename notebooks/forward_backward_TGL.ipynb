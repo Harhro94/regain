{
 "cells": [
  {
   "cell_type": "markdown",
   "metadata": {},
   "source": [
    "# Forward-backward splitting for time-varying graphical lasso\n",
    "This notebook shows how to minimise the time-varying graphical lasso with element-wise penalty norms across time-points.\n",
    "\n",
    "First of all, as always, let's create a bunch of data.\n",
    "For this task, we generate eah variable to change according to a certain behaviour which can be described as evolution via tigonometric functions, such as `sin` and `cos`."
   ]
  },
  {
   "cell_type": "code",
   "execution_count": 1,
   "metadata": {},
   "outputs": [],
   "source": [
    "%matplotlib inline\n",
    "import numpy as np\n",
    "import matplotlib.pyplot as plt\n",
    "\n",
    "from scipy.spatial.distance import squareform\n",
    "from regain import datasets, utils\n",
    "\n",
    "from sklearn.datasets import load_iris\n",
    "from sklearn.svm import SVC \n",
    "from sklearn.model_selection import train_test_split\n",
    "from sklearn.model_selection import GridSearchCV, ShuffleSplit\n",
    "\n",
    "from skopt.searchcv import BayesSearchCV\n",
    "from skopt.space import Real, Categorical, Integer"
   ]
  },
  {
   "cell_type": "code",
   "execution_count": 2,
   "metadata": {},
   "outputs": [],
   "source": [
    "# np.random.seed(7)\n",
    "\n",
    "# fs = 10e3\n",
    "# N = 100\n",
    "# amp = 2*np.sqrt(2)\n",
    "# freq = 1.0\n",
    "# noise_power = 0.001 * fs / 2\n",
    "# time = np.arange(N) / fs\n",
    "# z = amp*np.sin(2*np.pi*freq*time)\n",
    "# z += np.random.normal(scale=np.sqrt(noise_power), size=time.shape)\n",
    "# plt.plot(z);"
   ]
  },
  {
   "cell_type": "code",
   "execution_count": 3,
   "metadata": {},
   "outputs": [],
   "source": [
    "# T = 4\n",
    "\n",
    "# x = np.tile(np.linspace(0, T-1, T), (n_interactions, 1))\n",
    "# zz = amp * signal.square(2 * np.pi * freq * x + phase, duty=.5)\n",
    "# plt.plot(x.T, zz.T);"
   ]
  },
  {
   "cell_type": "markdown",
   "metadata": {},
   "source": [
    "Generate the data starting from the inverse covariance matrices."
   ]
  },
  {
   "cell_type": "code",
   "execution_count": 4,
   "metadata": {
    "scrolled": true
   },
   "outputs": [],
   "source": [
    "np.random.seed(7)\n",
    "\n",
    "# square\n",
    "n_samples = 100\n",
    "n_dim_obs = 20\n",
    "T = 10\n",
    "\n",
    "data = {}\n",
    "data['square'] = datasets.make_dataset(n_samples=n_samples, n_dim_obs=n_dim_obs, n_dim_lat=0, T=T,\n",
    "                             time_on_axis='last',\n",
    "                             mode='sin', shape='square', closeness=2.4, normalize=1)\n",
    "\n",
    "# smooth\n",
    "n_samples = 100\n",
    "n_dim_obs = 20\n",
    "T = 10\n",
    "\n",
    "data['smooth'] = datasets.make_dataset(n_samples=n_samples, n_dim_obs=n_dim_obs, n_dim_lat=0, T=T,\n",
    "                             time_on_axis='last',\n",
    "                             mode='sin', shape='smooth', closeness=2.4, normalize=1)\n",
    "\n",
    "# plt.step(np.array([squareform(y, checks=None) for y in data.thetas]), '-|');\n",
    "# plt.savefig(\"/home/fede/Dropbox/Latent variables networks/forward backward time varying graphical lasso/smooth_signal.pdf\")"
   ]
  },
  {
   "cell_type": "markdown",
   "metadata": {},
   "source": [
    "### Let's run "
   ]
  },
  {
   "cell_type": "code",
   "execution_count": 5,
   "metadata": {},
   "outputs": [],
   "source": [
    "# X = data.data\n",
    "# X_tr, X_ts = train_test_split(X)"
   ]
  },
  {
   "cell_type": "code",
   "execution_count": 221,
   "metadata": {},
   "outputs": [],
   "source": [
    "import pandas as pd\n",
    "from functools import partial\n",
    "from regain import update_rules; reload(update_rules);\n",
    "from regain.forward_backward import time_graph_lasso_; reload(time_graph_lasso_)\n",
    "\n",
    "from sklearn.covariance import GraphLasso, GraphLassoCV\n",
    "import sys; sys.path.append(\"/home/fede/src/TVGL\")\n",
    "import inferGraphL1; reload(inferGraphL1)\n",
    "import TVGL; reload(TVGL)\n",
    "\n",
    "# use:\n",
    "# beta = 2.1, norm = 1\n",
    "# beta = 5.05, norm = 2\n",
    "# prepare dataframe for results\n",
    "\n",
    "methods = ['TGL-FB ($\\ell_{21}$)', 'TGL-FB ($\\ell_1$)', 'GL', 'TVGL ($\\ell_{21}$)', 'TVGL ($\\ell_1$)']\n",
    "\n",
    "scores = sorted(['iter', 'accuracy',  'average_precision',  'balanced_accuracy',  'dor',  'f1',  'fall_out',  'false_omission_rate',  'fdr',  'fn',  'fp',  'miss_rate',  'nlr',  'npv',  'plr',  'precision',  'prevalence',  'recall',  'specificity',  'tn',  'tp'])\n",
    "evolution = sorted(['square', 'smooth'])\n",
    "\n",
    "rows = methods\n",
    "cols = pd.MultiIndex.from_product([evolution, scores], names=('evolution', 'score'))\n",
    "# rows = pd.MultiIndex.from_product([methods, n_times], names=('method','time'))\n",
    "\n",
    "dff = pd.DataFrame(columns=cols, index=rows)\n",
    "idx = pd.IndexSlice"
   ]
  },
  {
   "cell_type": "code",
   "execution_count": 237,
   "metadata": {},
   "outputs": [],
   "source": [
    "def run_performance(beta=1, evolution='square'):\n",
    "    X = data[evolution].data\n",
    "    \n",
    "    error_function = partial(utils.structure_error, data[evolution].thetas,\n",
    "                             no_diagonal=0, thresholding=0, eps=1e-5)\n",
    "    \n",
    "    tglfb = time_graph_lasso_.TimeGraphLassoForwardBackward(\n",
    "        verbose=0, gamma=1, alpha=1.5, beta=beta,\n",
    "        delta=.0001, choose='lamda',\n",
    "        lamda=1, tol=1e-5, eps=0.7,\n",
    "        time_norm=2, max_iter=300, time_on_axis='last').fit(X)\n",
    "#     print(tglfb.alpha_max(X))\n",
    "#     return\n",
    "    res = error_function(tglfb.precision_)\n",
    "    res['iter'] = tglfb.n_iter_\n",
    "    dff.loc['TGL-FB ($\\ell_{21}$)', idx[evolution, :]] = [res[x] for x in scores]\n",
    "    \n",
    "    tglfb = tglfb.set_params(alpha=1.2, time_norm=1).fit(X)\n",
    "    res = error_function(tglfb.precision_)\n",
    "    res['iter'] = tglfb.n_iter_\n",
    "    dff.loc['TGL-FB ($\\ell_1$)', idx[evolution, :]] = [res[x] for x in scores]\n",
    "\n",
    "    \n",
    "    # gl = GraphLasso(alpha=tglfb.alpha/1.2)\n",
    "    gl = GraphLassoCV(alphas=100)\n",
    "    precision_gl = np.array([gl.fit(x).precision_.copy() for x in X.transpose(2,0,1)])\n",
    "    res = error_function(precision_gl)\n",
    "    res['iter'] = gl.n_iter_\n",
    "    dff.loc['GL', idx[evolution, :]] = [res[x] for x in scores]\n",
    "    \n",
    "    thetaSet, empCovSet, status, gvx = TVGL.TVGL(\n",
    "        np.vstack(X.transpose(2,0,1)), X.shape[0],\n",
    "        lamb=tglfb.alpha, beta=tglfb.beta, indexOfPenalty=2, verbose=False)\n",
    "\n",
    "    res = error_function(np.array(thetaSet))\n",
    "    res['iter'] = gvx.n_iter_\n",
    "    dff.loc['TVGL ($\\ell_{21}$)', idx[evolution, :]] = [res[x] for x in scores]\n",
    "    \n",
    "    thetaSet, empCovSet, status, gvx = TVGL.TVGL(\n",
    "        np.vstack(X.transpose(2,0,1)), X.shape[0],\n",
    "        lamb=tglfb.alpha, beta=tglfb.beta, indexOfPenalty=1, verbose=False)\n",
    "    res = error_function(np.array(thetaSet))\n",
    "    res['iter'] = gvx.n_iter_\n",
    "    dff.loc['TVGL ($\\ell_1$)', idx[evolution, :]] = [res[x] for x in scores]"
   ]
  },
  {
   "cell_type": "code",
   "execution_count": 334,
   "metadata": {
    "scrolled": true
   },
   "outputs": [
    {
     "name": "stdout",
     "output_type": "stream",
     "text": [
      "obj: 19594.2073, rnorm: 0.8285631, snorm: 99.5821,eps_pri: 0.0005, eps_dual: 0.0000\n",
      "obj: 19639.3980, rnorm: 0.5389933, snorm: 45.1906,eps_pri: 0.0005, eps_dual: 0.0000\n",
      "obj: 19619.5707, rnorm: 0.6219477, snorm: 19.8273,eps_pri: 0.0005, eps_dual: 0.0000\n",
      "obj: 19587.2615, rnorm: 0.6087891, snorm: 32.3091,eps_pri: 0.0005, eps_dual: 0.0000\n",
      "obj: 19606.4070, rnorm: 0.5542832, snorm: 19.1455,eps_pri: 0.0005, eps_dual: 0.0000\n",
      "obj: 19563.0715, rnorm: 0.5407609, snorm: 43.3355,eps_pri: 0.0005, eps_dual: 0.0000\n",
      "obj: 19563.5683, rnorm: 0.3953574, snorm: 0.4968,eps_pri: 0.0005, eps_dual: 0.0000\n",
      "obj: 19548.9310, rnorm: 0.3922214, snorm: 14.6373,eps_pri: 0.0005, eps_dual: 0.0000\n",
      "obj: 19544.3264, rnorm: 0.3402495, snorm: 4.6046,eps_pri: 0.0005, eps_dual: 0.0000\n",
      "obj: 19532.8852, rnorm: 0.3228679, snorm: 11.4411,eps_pri: 0.0005, eps_dual: 0.0000\n",
      "obj: 19538.8478, rnorm: 0.3613266, snorm: 5.9626,eps_pri: 0.0005, eps_dual: 0.0000\n",
      "obj: 19519.1613, rnorm: 0.3532623, snorm: 19.6865,eps_pri: 0.0005, eps_dual: 0.0000\n",
      "obj: 19516.7195, rnorm: 0.2643062, snorm: 2.4417,eps_pri: 0.0005, eps_dual: 0.0000\n",
      "obj: 19507.3184, rnorm: 0.2588334, snorm: 9.4012,eps_pri: 0.0005, eps_dual: 0.0000\n",
      "obj: 19513.1113, rnorm: 0.3163188, snorm: 5.7929,eps_pri: 0.0005, eps_dual: 0.0000\n",
      "obj: 19497.6994, rnorm: 0.3199547, snorm: 15.4119,eps_pri: 0.0005, eps_dual: 0.0000\n",
      "obj: 19495.7455, rnorm: 0.2576228, snorm: 1.9539,eps_pri: 0.0005, eps_dual: 0.0000\n",
      "obj: 19487.3202, rnorm: 0.2507145, snorm: 8.4253,eps_pri: 0.0005, eps_dual: 0.0000\n",
      "obj: 19492.4142, rnorm: 0.3035129, snorm: 5.0940,eps_pri: 0.0005, eps_dual: 0.0000\n",
      "obj: 19479.0377, rnorm: 0.3078211, snorm: 13.3765,eps_pri: 0.0005, eps_dual: 0.0000\n",
      "obj: 19477.1160, rnorm: 0.2527027, snorm: 1.9217,eps_pri: 0.0005, eps_dual: 0.0000\n",
      "obj: 19469.4794, rnorm: 0.2449031, snorm: 7.6366,eps_pri: 0.0005, eps_dual: 0.0000\n",
      "obj: 19474.2093, rnorm: 0.2944371, snorm: 4.7299,eps_pri: 0.0005, eps_dual: 0.0000\n",
      "obj: 19462.2437, rnorm: 0.2993005, snorm: 11.9656,eps_pri: 0.0005, eps_dual: 0.0000\n",
      "obj: 19460.4133, rnorm: 0.2484408, snorm: 1.8304,eps_pri: 0.0005, eps_dual: 0.0000\n",
      "obj: 19453.4002, rnorm: 0.2401496, snorm: 7.0130,eps_pri: 0.0005, eps_dual: 0.0000\n",
      "obj: 19457.8513, rnorm: 0.2866426, snorm: 4.4510,eps_pri: 0.0005, eps_dual: 0.0000\n",
      "obj: 19447.0170, rnorm: 0.2920158, snorm: 10.8343,eps_pri: 0.0005, eps_dual: 0.0000\n",
      "obj: 19445.2302, rnorm: 0.2440598, snorm: 1.7869,eps_pri: 0.0005, eps_dual: 0.0000\n",
      "obj: 19438.7608, rnorm: 0.2352382, snorm: 6.4694,eps_pri: 0.0005, eps_dual: 0.0000\n",
      "obj: 19442.8259, rnorm: 0.2782284, snorm: 4.0651,eps_pri: 0.0005, eps_dual: 0.0000\n",
      "obj: 19433.0340, rnorm: 0.2839532, snorm: 9.7919,eps_pri: 0.0005, eps_dual: 0.0000\n",
      "obj: 19431.1502, rnorm: 0.2383441, snorm: 1.8838,eps_pri: 0.0005, eps_dual: 0.0000\n",
      "obj: 19425.2058, rnorm: 0.2287530, snorm: 5.9444,eps_pri: 0.0005, eps_dual: 0.0000\n",
      "obj: 19428.5563, rnorm: 0.2664694, snorm: 3.3505,eps_pri: 0.0005, eps_dual: 0.0000\n",
      "obj: 19419.9867, rnorm: 0.2722461, snorm: 8.5696,eps_pri: 0.0005, eps_dual: 0.0000\n",
      "obj: 19417.7314, rnorm: 0.2279724, snorm: 2.2553,eps_pri: 0.0005, eps_dual: 0.0000\n",
      "obj: 19412.4110, rnorm: 0.2165760, snorm: 5.3205,eps_pri: 0.0005, eps_dual: 0.0000\n",
      "obj: 19414.1474, rnorm: 0.2432644, snorm: 1.7364,eps_pri: 0.0005, eps_dual: 0.0000\n",
      "obj: 19407.3222, rnorm: 0.2479909, snorm: 6.8252,eps_pri: 0.0005, eps_dual: 0.0000\n",
      "obj: 19403.9988, rnorm: 0.2022157, snorm: 3.3234,eps_pri: 0.0005, eps_dual: 0.0000\n",
      "obj: 19399.5508, rnorm: 0.1846532, snorm: 4.4481,eps_pri: 0.0005, eps_dual: 0.0000\n",
      "obj: 19405.3495, rnorm: 0.2600607, snorm: 5.7988,eps_pri: 0.0005, eps_dual: 0.0000\n",
      "obj: 19396.0292, rnorm: 0.2765999, snorm: 9.3204,eps_pri: 0.0005, eps_dual: 0.0000\n",
      "obj: 19393.9407, rnorm: 0.2216981, snorm: 2.0885,eps_pri: 0.0005, eps_dual: 0.0000\n",
      "obj: 19389.2964, rnorm: 0.2108025, snorm: 4.6443,eps_pri: 0.0005, eps_dual: 0.0000\n",
      "obj: 19390.8064, rnorm: 0.2340786, snorm: 1.5100,eps_pri: 0.0005, eps_dual: 0.0000\n",
      "obj: 19384.9351, rnorm: 0.2382175, snorm: 5.8713,eps_pri: 0.0005, eps_dual: 0.0000\n",
      "obj: 19381.5036, rnorm: 0.1914473, snorm: 3.4316,eps_pri: 0.0005, eps_dual: 0.0000\n",
      "obj: 19377.6671, rnorm: 0.1710087, snorm: 3.8365,eps_pri: 0.0005, eps_dual: 0.0000\n",
      "obj: 19380.7223, rnorm: 0.2243396, snorm: 3.0552,eps_pri: 0.0005, eps_dual: 0.0000\n",
      "obj: 19374.2758, rnorm: 0.2390551, snorm: 6.4465,eps_pri: 0.0005, eps_dual: 0.0000\n",
      "obj: 19378.7827, rnorm: 0.2627146, snorm: 4.5069,eps_pri: 0.0005, eps_dual: 0.0000\n",
      "obj: 19371.3328, rnorm: 0.2714905, snorm: 7.4499,eps_pri: 0.0005, eps_dual: 0.0000\n",
      "obj: 19370.1185, rnorm: 0.2314571, snorm: 1.2143,eps_pri: 0.0005, eps_dual: 0.0000\n",
      "obj: 19365.7653, rnorm: 0.2219586, snorm: 4.3532,eps_pri: 0.0005, eps_dual: 0.0000\n",
      "obj: 19369.8582, rnorm: 0.2589216, snorm: 4.0929,eps_pri: 0.0005, eps_dual: 0.0000\n",
      "obj: 19363.0093, rnorm: 0.2658214, snorm: 6.8489,eps_pri: 0.0005, eps_dual: 0.0000\n",
      "obj: 19361.5360, rnorm: 0.2254397, snorm: 1.4733,eps_pri: 0.0005, eps_dual: 0.0000\n",
      "obj: 19357.4476, rnorm: 0.2143857, snorm: 4.0883,eps_pri: 0.0005, eps_dual: 0.0000\n",
      "obj: 19360.3211, rnorm: 0.2424123, snorm: 2.8735,eps_pri: 0.0005, eps_dual: 0.0000\n",
      "obj: 19354.5942, rnorm: 0.2479482, snorm: 5.7269,eps_pri: 0.0005, eps_dual: 0.0000\n",
      "obj: 19352.1349, rnorm: 0.2043889, snorm: 2.4593,eps_pri: 0.0005, eps_dual: 0.0000\n",
      "obj: 19348.6588, rnorm: 0.1880256, snorm: 3.4761,eps_pri: 0.0005, eps_dual: 0.0000\n",
      "obj: 19348.2091, rnorm: 0.1900538, snorm: 0.4497,eps_pri: 0.0005, eps_dual: 0.0000\n",
      "obj: 19344.5299, rnorm: 0.1869573, snorm: 3.6792,eps_pri: 0.0005, eps_dual: 0.0000\n",
      "obj: 19343.6431, rnorm: 0.1810484, snorm: 0.8867,eps_pri: 0.0005, eps_dual: 0.0000\n",
      "obj: 19340.1485, rnorm: 0.1755297, snorm: 3.4947,eps_pri: 0.0005, eps_dual: 0.0000\n",
      "obj: 19344.5158, rnorm: 0.2264891, snorm: 4.3673,eps_pri: 0.0005, eps_dual: 0.0000\n",
      "obj: 19338.5264, rnorm: 0.2418428, snorm: 5.9894,eps_pri: 0.0005, eps_dual: 0.0000\n",
      "obj: 19335.6554, rnorm: 0.1861449, snorm: 2.8710,eps_pri: 0.0005, eps_dual: 0.0000\n",
      "obj: 19332.7085, rnorm: 0.1669235, snorm: 2.9469,eps_pri: 0.0005, eps_dual: 0.0000\n",
      "obj: 19336.0348, rnorm: 0.2127431, snorm: 3.3263,eps_pri: 0.0005, eps_dual: 0.0000\n",
      "obj: 19331.0147, rnorm: 0.2263708, snorm: 5.0200,eps_pri: 0.0005, eps_dual: 0.0000\n",
      "obj: 19334.7492, rnorm: 0.2423549, snorm: 3.7345,eps_pri: 0.0005, eps_dual: 0.0000\n",
      "obj: 19329.4869, rnorm: 0.2503450, snorm: 5.2623,eps_pri: 0.0005, eps_dual: 0.0000\n",
      "obj: 19327.7587, rnorm: 0.2094910, snorm: 1.7282,eps_pri: 0.0005, eps_dual: 0.0000\n",
      "obj: 19324.7117, rnorm: 0.1956977, snorm: 3.0469,eps_pri: 0.0005, eps_dual: 0.0000\n",
      "obj: 19325.7941, rnorm: 0.2083573, snorm: 1.0824,eps_pri: 0.0005, eps_dual: 0.0000\n",
      "obj: 19322.1345, rnorm: 0.2097595, snorm: 3.6597,eps_pri: 0.0005, eps_dual: 0.0000\n",
      "obj: 19324.4715, rnorm: 0.2250037, snorm: 2.3371,eps_pri: 0.0005, eps_dual: 0.0000\n",
      "obj: 19320.1963, rnorm: 0.2298487, snorm: 4.2752,eps_pri: 0.0005, eps_dual: 0.0000\n",
      "obj: 19317.4500, rnorm: 0.1830155, snorm: 2.7464,eps_pri: 0.0005, eps_dual: 0.0000\n",
      "obj: 19314.8830, rnorm: 0.1613074, snorm: 2.5670,eps_pri: 0.0005, eps_dual: 0.0000\n",
      "obj: 19317.7673, rnorm: 0.2007176, snorm: 2.8843,eps_pri: 0.0005, eps_dual: 0.0000\n",
      "obj: 19313.5725, rnorm: 0.2135273, snorm: 4.1948,eps_pri: 0.0005, eps_dual: 0.0000\n",
      "obj: 19315.8704, rnorm: 0.2207240, snorm: 2.2979,eps_pri: 0.0005, eps_dual: 0.0000\n",
      "obj: 19311.8723, rnorm: 0.2256343, snorm: 3.9981,eps_pri: 0.0005, eps_dual: 0.0000\n",
      "obj: 19309.0887, rnorm: 0.1779050, snorm: 2.7835,eps_pri: 0.0005, eps_dual: 0.0000\n",
      "obj: 19306.7064, rnorm: 0.1545911, snorm: 2.3823,eps_pri: 0.0005, eps_dual: 0.0000\n",
      "obj: 19308.4654, rnorm: 0.1827283, snorm: 1.7590,eps_pri: 0.0005, eps_dual: 0.0000\n",
      "obj: 19305.0324, rnorm: 0.1919845, snorm: 3.4330,eps_pri: 0.0005, eps_dual: 0.0000\n",
      "obj: 19304.9782, rnorm: 0.1823899, snorm: 0.0541,eps_pri: 0.0005, eps_dual: 0.0000\n",
      "obj: 19302.0453, rnorm: 0.1776662, snorm: 2.9330,eps_pri: 0.0005, eps_dual: 0.0000\n",
      "obj: 19301.1229, rnorm: 0.1622025, snorm: 0.9224,eps_pri: 0.0005, eps_dual: 0.0000\n",
      "obj: 19308.5001, rnorm: 0.2162009, snorm: 7.3773,eps_pri: 0.0005, eps_dual: 0.0000\n",
      "obj: 19302.9466, rnorm: 0.2527087, snorm: 5.5536,eps_pri: 0.0005, eps_dual: 0.0000\n",
      "obj: 19294.9867, rnorm: 0.1547024, snorm: 7.9599,eps_pri: 0.0005, eps_dual: 0.0000\n",
      "obj: 19293.4558, rnorm: 0.0177283, snorm: 1.5309,eps_pri: 0.0005, eps_dual: 0.0000\n",
      "obj: 19291.4877, rnorm: 0.0241712, snorm: 1.9681,eps_pri: 0.0005, eps_dual: 0.0000\n",
      "obj: 19288.9015, rnorm: 0.0361381, snorm: 2.5862,eps_pri: 0.0005, eps_dual: 0.0000\n",
      "obj: 19286.0392, rnorm: 0.0661248, snorm: 2.8623,eps_pri: 0.0005, eps_dual: 0.0000\n",
      "obj: 19286.0392, rnorm: 0.0000000, snorm: 0.0000,eps_pri: 0.0005, eps_dual: 0.0000\n"
     ]
    }
   ],
   "source": [
    "evolution = 'square'\n",
    "X = data[evolution].data\n",
    "reload(time_graph_lasso_)\n",
    "tglfb = time_graph_lasso_.TimeGraphLassoForwardBackward(\n",
    "    verbose=2, gamma=1, alpha=1.2, beta=2.1,\n",
    "    delta=.00001, choose='lamda', lamda_criterion='c',\n",
    "    lamda=1, tol=1e-5, eps=0.7,\n",
    "    time_norm=1, max_iter=300, time_on_axis='last').fit(X)"
   ]
  },
  {
   "cell_type": "code",
   "execution_count": 332,
   "metadata": {},
   "outputs": [
    {
     "data": {
      "text/plain": [
       "True"
      ]
     },
     "execution_count": 332,
     "metadata": {},
     "output_type": "execute_result"
    }
   ],
   "source": [
    "from regain.utils import positive_definite\n",
    "positive_definite(tglfb.precision_)"
   ]
  },
  {
   "cell_type": "code",
   "execution_count": 335,
   "metadata": {},
   "outputs": [
    {
     "data": {
      "text/plain": [
       "103"
      ]
     },
     "execution_count": 335,
     "metadata": {},
     "output_type": "execute_result"
    }
   ],
   "source": [
    "tglfb.n_iter_"
   ]
  },
  {
   "cell_type": "code",
   "execution_count": 336,
   "metadata": {},
   "outputs": [
    {
     "data": {
      "text/plain": [
       "{'accuracy': 0.5925,\n",
       " 'average_precision': 0.7738527204100978,\n",
       " 'balanced_accuracy': 0.5047636315174506,\n",
       " 'dor': 2.899876390605686,\n",
       " 'f1': 0.7421701993040177,\n",
       " 'fall_out': 0.9853836784409257,\n",
       " 'false_omission_rate': 0.3333333333333333,\n",
       " 'fdr': 0.40817356205852673,\n",
       " 'fn': 12,\n",
       " 'fp': 1618,\n",
       " 'miss_rate': 0.005089058524173028,\n",
       " 'nlr': 0.3481764206955047,\n",
       " 'npv': 0.6666666666666666,\n",
       " 'plr': 1.009668582140487,\n",
       " 'precision': 0.5918264379414733,\n",
       " 'prevalence': 0.5895,\n",
       " 'recall': 0.9949109414758269,\n",
       " 'specificity': 0.014616321559074299,\n",
       " 'tn': 24,\n",
       " 'tp': 2346}"
      ]
     },
     "execution_count": 336,
     "metadata": {},
     "output_type": "execute_result"
    }
   ],
   "source": [
    "error_function = partial(utils.structure_error, data[evolution].thetas,\n",
    "                             no_diagonal=0, thresholding=1, eps=1e-3)\n",
    "\n",
    "res = error_function(tglfb.precision_)\n",
    "res"
   ]
  },
  {
   "cell_type": "code",
   "execution_count": 302,
   "metadata": {},
   "outputs": [
    {
     "data": {
      "text/plain": [
       "{'accuracy': 0.6085,\n",
       " 'average_precision': 0.7884074807058622,\n",
       " 'balanced_accuracy': 0.5383063745468558,\n",
       " 'dor': 2.2901082077867856,\n",
       " 'f1': 0.7369835404769902,\n",
       " 'fall_out': 0.853836784409257,\n",
       " 'false_omission_rate': 0.40594059405940597,\n",
       " 'fdr': 0.38987764182424917,\n",
       " 'fn': 164,\n",
       " 'fp': 1402,\n",
       " 'miss_rate': 0.06955046649703138,\n",
       " 'nlr': 0.47584110828385634,\n",
       " 'npv': 0.594059405940594,\n",
       " 'plr': 1.08972762768322,\n",
       " 'precision': 0.6101223581757509,\n",
       " 'prevalence': 0.5895,\n",
       " 'recall': 0.9304495335029687,\n",
       " 'specificity': 0.146163215590743,\n",
       " 'tn': 240,\n",
       " 'tp': 2194}"
      ]
     },
     "execution_count": 302,
     "metadata": {},
     "output_type": "execute_result"
    }
   ],
   "source": [
    "error_function = partial(utils.structure_error, data[evolution].thetas,\n",
    "                             no_diagonal=0, thresholding=1, eps=1e-3)\n",
    "\n",
    "res = error_function(tglfb.precision_)\n",
    "res"
   ]
  },
  {
   "cell_type": "code",
   "execution_count": 238,
   "metadata": {
    "scrolled": true
   },
   "outputs": [
    {
     "ename": "KeyboardInterrupt",
     "evalue": "",
     "output_type": "error",
     "traceback": [
      "\u001b[0;31m---------------------------------------------------------------------------\u001b[0m",
      "\u001b[0;31mKeyboardInterrupt\u001b[0m                         Traceback (most recent call last)",
      "\u001b[0;32m<ipython-input-238-3b7da4676b14>\u001b[0m in \u001b[0;36m<module>\u001b[0;34m()\u001b[0m\n\u001b[0;32m----> 1\u001b[0;31m \u001b[0mrun_performance\u001b[0m\u001b[0;34m(\u001b[0m\u001b[0mbeta\u001b[0m\u001b[0;34m=\u001b[0m\u001b[0;36m2.1\u001b[0m\u001b[0;34m,\u001b[0m \u001b[0mevolution\u001b[0m\u001b[0;34m=\u001b[0m\u001b[0;34m'square'\u001b[0m\u001b[0;34m)\u001b[0m\u001b[0;34m\u001b[0m\u001b[0m\n\u001b[0m\u001b[1;32m      2\u001b[0m \u001b[0;31m# run_performance(beta=5.05, evolution='smooth')\u001b[0m\u001b[0;34m\u001b[0m\u001b[0;34m\u001b[0m\u001b[0m\n\u001b[1;32m      3\u001b[0m \u001b[0mrun_performance\u001b[0m\u001b[0;34m(\u001b[0m\u001b[0mbeta\u001b[0m\u001b[0;34m=\u001b[0m\u001b[0;36m2.1\u001b[0m\u001b[0;34m,\u001b[0m \u001b[0mevolution\u001b[0m\u001b[0;34m=\u001b[0m\u001b[0;34m'smooth'\u001b[0m\u001b[0;34m)\u001b[0m\u001b[0;34m\u001b[0m\u001b[0m\n\u001b[1;32m      4\u001b[0m \u001b[0mdff\u001b[0m\u001b[0;34m\u001b[0m\u001b[0m\n",
      "\u001b[0;32m<ipython-input-237-bfb42615c919>\u001b[0m in \u001b[0;36mrun_performance\u001b[0;34m(beta, evolution)\u001b[0m\n\u001b[1;32m     24\u001b[0m     \u001b[0;31m# gl = GraphLasso(alpha=tglfb.alpha/1.2)\u001b[0m\u001b[0;34m\u001b[0m\u001b[0;34m\u001b[0m\u001b[0m\n\u001b[1;32m     25\u001b[0m     \u001b[0mgl\u001b[0m \u001b[0;34m=\u001b[0m \u001b[0mGraphLassoCV\u001b[0m\u001b[0;34m(\u001b[0m\u001b[0malphas\u001b[0m\u001b[0;34m=\u001b[0m\u001b[0;36m100\u001b[0m\u001b[0;34m)\u001b[0m\u001b[0;34m\u001b[0m\u001b[0m\n\u001b[0;32m---> 26\u001b[0;31m     \u001b[0mprecision_gl\u001b[0m \u001b[0;34m=\u001b[0m \u001b[0mnp\u001b[0m\u001b[0;34m.\u001b[0m\u001b[0marray\u001b[0m\u001b[0;34m(\u001b[0m\u001b[0;34m[\u001b[0m\u001b[0mgl\u001b[0m\u001b[0;34m.\u001b[0m\u001b[0mfit\u001b[0m\u001b[0;34m(\u001b[0m\u001b[0mx\u001b[0m\u001b[0;34m)\u001b[0m\u001b[0;34m.\u001b[0m\u001b[0mprecision_\u001b[0m\u001b[0;34m.\u001b[0m\u001b[0mcopy\u001b[0m\u001b[0;34m(\u001b[0m\u001b[0;34m)\u001b[0m \u001b[0;32mfor\u001b[0m \u001b[0mx\u001b[0m \u001b[0;32min\u001b[0m \u001b[0mX\u001b[0m\u001b[0;34m.\u001b[0m\u001b[0mtranspose\u001b[0m\u001b[0;34m(\u001b[0m\u001b[0;36m2\u001b[0m\u001b[0;34m,\u001b[0m\u001b[0;36m0\u001b[0m\u001b[0;34m,\u001b[0m\u001b[0;36m1\u001b[0m\u001b[0;34m)\u001b[0m\u001b[0;34m]\u001b[0m\u001b[0;34m)\u001b[0m\u001b[0;34m\u001b[0m\u001b[0m\n\u001b[0m\u001b[1;32m     27\u001b[0m     \u001b[0mres\u001b[0m \u001b[0;34m=\u001b[0m \u001b[0merror_function\u001b[0m\u001b[0;34m(\u001b[0m\u001b[0mprecision_gl\u001b[0m\u001b[0;34m)\u001b[0m\u001b[0;34m\u001b[0m\u001b[0m\n\u001b[1;32m     28\u001b[0m     \u001b[0mres\u001b[0m\u001b[0;34m[\u001b[0m\u001b[0;34m'iter'\u001b[0m\u001b[0;34m]\u001b[0m \u001b[0;34m=\u001b[0m \u001b[0mgl\u001b[0m\u001b[0;34m.\u001b[0m\u001b[0mn_iter_\u001b[0m\u001b[0;34m\u001b[0m\u001b[0m\n",
      "\u001b[0;32m/home/fede/miniconda2/lib/python2.7/site-packages/sklearn/covariance/graph_lasso_.pyc\u001b[0m in \u001b[0;36mfit\u001b[0;34m(self, X, y)\u001b[0m\n\u001b[1;32m    627\u001b[0m                                             \u001b[0mmax_iter\u001b[0m\u001b[0;34m=\u001b[0m\u001b[0mint\u001b[0m\u001b[0;34m(\u001b[0m\u001b[0;36m.1\u001b[0m \u001b[0;34m*\u001b[0m \u001b[0mself\u001b[0m\u001b[0;34m.\u001b[0m\u001b[0mmax_iter\u001b[0m\u001b[0;34m)\u001b[0m\u001b[0;34m,\u001b[0m\u001b[0;34m\u001b[0m\u001b[0m\n\u001b[1;32m    628\u001b[0m                                             verbose=inner_verbose)\n\u001b[0;32m--> 629\u001b[0;31m                   for train, test in cv.split(X, y))\n\u001b[0m\u001b[1;32m    630\u001b[0m \u001b[0;34m\u001b[0m\u001b[0m\n\u001b[1;32m    631\u001b[0m             \u001b[0;31m# Little danse to transform the list in what we need\u001b[0m\u001b[0;34m\u001b[0m\u001b[0;34m\u001b[0m\u001b[0m\n",
      "\u001b[0;32m/home/fede/miniconda2/lib/python2.7/site-packages/sklearn/externals/joblib/parallel.pyc\u001b[0m in \u001b[0;36m__call__\u001b[0;34m(self, iterable)\u001b[0m\n\u001b[1;32m    777\u001b[0m             \u001b[0;31m# was dispatched. In particular this covers the edge\u001b[0m\u001b[0;34m\u001b[0m\u001b[0;34m\u001b[0m\u001b[0m\n\u001b[1;32m    778\u001b[0m             \u001b[0;31m# case of Parallel used with an exhausted iterator.\u001b[0m\u001b[0;34m\u001b[0m\u001b[0;34m\u001b[0m\u001b[0m\n\u001b[0;32m--> 779\u001b[0;31m             \u001b[0;32mwhile\u001b[0m \u001b[0mself\u001b[0m\u001b[0;34m.\u001b[0m\u001b[0mdispatch_one_batch\u001b[0m\u001b[0;34m(\u001b[0m\u001b[0miterator\u001b[0m\u001b[0;34m)\u001b[0m\u001b[0;34m:\u001b[0m\u001b[0;34m\u001b[0m\u001b[0m\n\u001b[0m\u001b[1;32m    780\u001b[0m                 \u001b[0mself\u001b[0m\u001b[0;34m.\u001b[0m\u001b[0m_iterating\u001b[0m \u001b[0;34m=\u001b[0m \u001b[0mTrue\u001b[0m\u001b[0;34m\u001b[0m\u001b[0m\n\u001b[1;32m    781\u001b[0m             \u001b[0;32melse\u001b[0m\u001b[0;34m:\u001b[0m\u001b[0;34m\u001b[0m\u001b[0m\n",
      "\u001b[0;32m/home/fede/miniconda2/lib/python2.7/site-packages/sklearn/externals/joblib/parallel.pyc\u001b[0m in \u001b[0;36mdispatch_one_batch\u001b[0;34m(self, iterator)\u001b[0m\n\u001b[1;32m    623\u001b[0m                 \u001b[0;32mreturn\u001b[0m \u001b[0mFalse\u001b[0m\u001b[0;34m\u001b[0m\u001b[0m\n\u001b[1;32m    624\u001b[0m             \u001b[0;32melse\u001b[0m\u001b[0;34m:\u001b[0m\u001b[0;34m\u001b[0m\u001b[0m\n\u001b[0;32m--> 625\u001b[0;31m                 \u001b[0mself\u001b[0m\u001b[0;34m.\u001b[0m\u001b[0m_dispatch\u001b[0m\u001b[0;34m(\u001b[0m\u001b[0mtasks\u001b[0m\u001b[0;34m)\u001b[0m\u001b[0;34m\u001b[0m\u001b[0m\n\u001b[0m\u001b[1;32m    626\u001b[0m                 \u001b[0;32mreturn\u001b[0m \u001b[0mTrue\u001b[0m\u001b[0;34m\u001b[0m\u001b[0m\n\u001b[1;32m    627\u001b[0m \u001b[0;34m\u001b[0m\u001b[0m\n",
      "\u001b[0;32m/home/fede/miniconda2/lib/python2.7/site-packages/sklearn/externals/joblib/parallel.pyc\u001b[0m in \u001b[0;36m_dispatch\u001b[0;34m(self, batch)\u001b[0m\n\u001b[1;32m    586\u001b[0m         \u001b[0mdispatch_timestamp\u001b[0m \u001b[0;34m=\u001b[0m \u001b[0mtime\u001b[0m\u001b[0;34m.\u001b[0m\u001b[0mtime\u001b[0m\u001b[0;34m(\u001b[0m\u001b[0;34m)\u001b[0m\u001b[0;34m\u001b[0m\u001b[0m\n\u001b[1;32m    587\u001b[0m         \u001b[0mcb\u001b[0m \u001b[0;34m=\u001b[0m \u001b[0mBatchCompletionCallBack\u001b[0m\u001b[0;34m(\u001b[0m\u001b[0mdispatch_timestamp\u001b[0m\u001b[0;34m,\u001b[0m \u001b[0mlen\u001b[0m\u001b[0;34m(\u001b[0m\u001b[0mbatch\u001b[0m\u001b[0;34m)\u001b[0m\u001b[0;34m,\u001b[0m \u001b[0mself\u001b[0m\u001b[0;34m)\u001b[0m\u001b[0;34m\u001b[0m\u001b[0m\n\u001b[0;32m--> 588\u001b[0;31m         \u001b[0mjob\u001b[0m \u001b[0;34m=\u001b[0m \u001b[0mself\u001b[0m\u001b[0;34m.\u001b[0m\u001b[0m_backend\u001b[0m\u001b[0;34m.\u001b[0m\u001b[0mapply_async\u001b[0m\u001b[0;34m(\u001b[0m\u001b[0mbatch\u001b[0m\u001b[0;34m,\u001b[0m \u001b[0mcallback\u001b[0m\u001b[0;34m=\u001b[0m\u001b[0mcb\u001b[0m\u001b[0;34m)\u001b[0m\u001b[0;34m\u001b[0m\u001b[0m\n\u001b[0m\u001b[1;32m    589\u001b[0m         \u001b[0mself\u001b[0m\u001b[0;34m.\u001b[0m\u001b[0m_jobs\u001b[0m\u001b[0;34m.\u001b[0m\u001b[0mappend\u001b[0m\u001b[0;34m(\u001b[0m\u001b[0mjob\u001b[0m\u001b[0;34m)\u001b[0m\u001b[0;34m\u001b[0m\u001b[0m\n\u001b[1;32m    590\u001b[0m \u001b[0;34m\u001b[0m\u001b[0m\n",
      "\u001b[0;32m/home/fede/miniconda2/lib/python2.7/site-packages/sklearn/externals/joblib/_parallel_backends.pyc\u001b[0m in \u001b[0;36mapply_async\u001b[0;34m(self, func, callback)\u001b[0m\n\u001b[1;32m    109\u001b[0m     \u001b[0;32mdef\u001b[0m \u001b[0mapply_async\u001b[0m\u001b[0;34m(\u001b[0m\u001b[0mself\u001b[0m\u001b[0;34m,\u001b[0m \u001b[0mfunc\u001b[0m\u001b[0;34m,\u001b[0m \u001b[0mcallback\u001b[0m\u001b[0;34m=\u001b[0m\u001b[0mNone\u001b[0m\u001b[0;34m)\u001b[0m\u001b[0;34m:\u001b[0m\u001b[0;34m\u001b[0m\u001b[0m\n\u001b[1;32m    110\u001b[0m         \u001b[0;34m\"\"\"Schedule a func to be run\"\"\"\u001b[0m\u001b[0;34m\u001b[0m\u001b[0m\n\u001b[0;32m--> 111\u001b[0;31m         \u001b[0mresult\u001b[0m \u001b[0;34m=\u001b[0m \u001b[0mImmediateResult\u001b[0m\u001b[0;34m(\u001b[0m\u001b[0mfunc\u001b[0m\u001b[0;34m)\u001b[0m\u001b[0;34m\u001b[0m\u001b[0m\n\u001b[0m\u001b[1;32m    112\u001b[0m         \u001b[0;32mif\u001b[0m \u001b[0mcallback\u001b[0m\u001b[0;34m:\u001b[0m\u001b[0;34m\u001b[0m\u001b[0m\n\u001b[1;32m    113\u001b[0m             \u001b[0mcallback\u001b[0m\u001b[0;34m(\u001b[0m\u001b[0mresult\u001b[0m\u001b[0;34m)\u001b[0m\u001b[0;34m\u001b[0m\u001b[0m\n",
      "\u001b[0;32m/home/fede/miniconda2/lib/python2.7/site-packages/sklearn/externals/joblib/_parallel_backends.pyc\u001b[0m in \u001b[0;36m__init__\u001b[0;34m(self, batch)\u001b[0m\n\u001b[1;32m    330\u001b[0m         \u001b[0;31m# Don't delay the application, to avoid keeping the input\u001b[0m\u001b[0;34m\u001b[0m\u001b[0;34m\u001b[0m\u001b[0m\n\u001b[1;32m    331\u001b[0m         \u001b[0;31m# arguments in memory\u001b[0m\u001b[0;34m\u001b[0m\u001b[0;34m\u001b[0m\u001b[0m\n\u001b[0;32m--> 332\u001b[0;31m         \u001b[0mself\u001b[0m\u001b[0;34m.\u001b[0m\u001b[0mresults\u001b[0m \u001b[0;34m=\u001b[0m \u001b[0mbatch\u001b[0m\u001b[0;34m(\u001b[0m\u001b[0;34m)\u001b[0m\u001b[0;34m\u001b[0m\u001b[0m\n\u001b[0m\u001b[1;32m    333\u001b[0m \u001b[0;34m\u001b[0m\u001b[0m\n\u001b[1;32m    334\u001b[0m     \u001b[0;32mdef\u001b[0m \u001b[0mget\u001b[0m\u001b[0;34m(\u001b[0m\u001b[0mself\u001b[0m\u001b[0;34m)\u001b[0m\u001b[0;34m:\u001b[0m\u001b[0;34m\u001b[0m\u001b[0m\n",
      "\u001b[0;32m/home/fede/miniconda2/lib/python2.7/site-packages/sklearn/externals/joblib/parallel.pyc\u001b[0m in \u001b[0;36m__call__\u001b[0;34m(self)\u001b[0m\n\u001b[1;32m    129\u001b[0m \u001b[0;34m\u001b[0m\u001b[0m\n\u001b[1;32m    130\u001b[0m     \u001b[0;32mdef\u001b[0m \u001b[0m__call__\u001b[0m\u001b[0;34m(\u001b[0m\u001b[0mself\u001b[0m\u001b[0;34m)\u001b[0m\u001b[0;34m:\u001b[0m\u001b[0;34m\u001b[0m\u001b[0m\n\u001b[0;32m--> 131\u001b[0;31m         \u001b[0;32mreturn\u001b[0m \u001b[0;34m[\u001b[0m\u001b[0mfunc\u001b[0m\u001b[0;34m(\u001b[0m\u001b[0;34m*\u001b[0m\u001b[0margs\u001b[0m\u001b[0;34m,\u001b[0m \u001b[0;34m**\u001b[0m\u001b[0mkwargs\u001b[0m\u001b[0;34m)\u001b[0m \u001b[0;32mfor\u001b[0m \u001b[0mfunc\u001b[0m\u001b[0;34m,\u001b[0m \u001b[0margs\u001b[0m\u001b[0;34m,\u001b[0m \u001b[0mkwargs\u001b[0m \u001b[0;32min\u001b[0m \u001b[0mself\u001b[0m\u001b[0;34m.\u001b[0m\u001b[0mitems\u001b[0m\u001b[0;34m]\u001b[0m\u001b[0;34m\u001b[0m\u001b[0m\n\u001b[0m\u001b[1;32m    132\u001b[0m \u001b[0;34m\u001b[0m\u001b[0m\n\u001b[1;32m    133\u001b[0m     \u001b[0;32mdef\u001b[0m \u001b[0m__len__\u001b[0m\u001b[0;34m(\u001b[0m\u001b[0mself\u001b[0m\u001b[0;34m)\u001b[0m\u001b[0;34m:\u001b[0m\u001b[0;34m\u001b[0m\u001b[0m\n",
      "\u001b[0;32m/home/fede/miniconda2/lib/python2.7/site-packages/sklearn/covariance/graph_lasso_.pyc\u001b[0m in \u001b[0;36mgraph_lasso_path\u001b[0;34m(X, alphas, cov_init, X_test, mode, tol, enet_tol, max_iter, verbose)\u001b[0m\n\u001b[1;32m    428\u001b[0m             covariance_, precision_ = graph_lasso(\n\u001b[1;32m    429\u001b[0m                 \u001b[0memp_cov\u001b[0m\u001b[0;34m,\u001b[0m \u001b[0malpha\u001b[0m\u001b[0;34m=\u001b[0m\u001b[0malpha\u001b[0m\u001b[0;34m,\u001b[0m \u001b[0mcov_init\u001b[0m\u001b[0;34m=\u001b[0m\u001b[0mcovariance_\u001b[0m\u001b[0;34m,\u001b[0m \u001b[0mmode\u001b[0m\u001b[0;34m=\u001b[0m\u001b[0mmode\u001b[0m\u001b[0;34m,\u001b[0m \u001b[0mtol\u001b[0m\u001b[0;34m=\u001b[0m\u001b[0mtol\u001b[0m\u001b[0;34m,\u001b[0m\u001b[0;34m\u001b[0m\u001b[0m\n\u001b[0;32m--> 430\u001b[0;31m                 enet_tol=enet_tol, max_iter=max_iter, verbose=inner_verbose)\n\u001b[0m\u001b[1;32m    431\u001b[0m             \u001b[0mcovariances_\u001b[0m\u001b[0;34m.\u001b[0m\u001b[0mappend\u001b[0m\u001b[0;34m(\u001b[0m\u001b[0mcovariance_\u001b[0m\u001b[0;34m)\u001b[0m\u001b[0;34m\u001b[0m\u001b[0m\n\u001b[1;32m    432\u001b[0m             \u001b[0mprecisions_\u001b[0m\u001b[0;34m.\u001b[0m\u001b[0mappend\u001b[0m\u001b[0;34m(\u001b[0m\u001b[0mprecision_\u001b[0m\u001b[0;34m)\u001b[0m\u001b[0;34m\u001b[0m\u001b[0m\n",
      "\u001b[0;32m/home/fede/miniconda2/lib/python2.7/site-packages/sklearn/covariance/graph_lasso_.pyc\u001b[0m in \u001b[0;36mgraph_lasso\u001b[0;34m(emp_cov, alpha, cov_init, mode, tol, enet_tol, max_iter, verbose, return_costs, eps, return_n_iter)\u001b[0m\n\u001b[1;32m    213\u001b[0m                         \u001b[0;31m# Use coordinate descent\u001b[0m\u001b[0;34m\u001b[0m\u001b[0;34m\u001b[0m\u001b[0m\n\u001b[1;32m    214\u001b[0m                         coefs = -(precision_[indices != idx, idx]\n\u001b[0;32m--> 215\u001b[0;31m                                   / (precision_[idx, idx] + 1000 * eps))\n\u001b[0m\u001b[1;32m    216\u001b[0m                         coefs, _, _, _ = cd_fast.enet_coordinate_descent_gram(\n\u001b[1;32m    217\u001b[0m                             \u001b[0mcoefs\u001b[0m\u001b[0;34m,\u001b[0m \u001b[0malpha\u001b[0m\u001b[0;34m,\u001b[0m \u001b[0;36m0\u001b[0m\u001b[0;34m,\u001b[0m \u001b[0msub_covariance\u001b[0m\u001b[0;34m,\u001b[0m \u001b[0mrow\u001b[0m\u001b[0;34m,\u001b[0m \u001b[0mrow\u001b[0m\u001b[0;34m,\u001b[0m\u001b[0;34m\u001b[0m\u001b[0m\n",
      "\u001b[0;31mKeyboardInterrupt\u001b[0m: "
     ]
    }
   ],
   "source": [
    "run_performance(beta=2.1, evolution='square')\n",
    "# run_performance(beta=5.05, evolution='smooth')\n",
    "run_performance(beta=2.1, evolution='smooth')\n",
    "dff"
   ]
  },
  {
   "cell_type": "code",
   "execution_count": 232,
   "metadata": {},
   "outputs": [
    {
     "data": {
      "text/plain": [
       "TGL-FB ($\\ell_{21}$)    81\n",
       "TGL-FB ($\\ell_1$)       20\n",
       "GL                       3\n",
       "TVGL ($\\ell_{21}$)      21\n",
       "TVGL ($\\ell_1$)         27\n",
       "Name: iter, dtype: int64"
      ]
     },
     "execution_count": 232,
     "metadata": {},
     "output_type": "execute_result"
    }
   ],
   "source": [
    "dff['smooth'].sort_values(\"f1\", ascending=False)['iter']\n",
    "# dff['square'].sort_values(\"f1\", ascending=False)"
   ]
  },
  {
   "cell_type": "markdown",
   "metadata": {},
   "source": [
    "### BayesOptimisation\n",
    "Since we have lots of hyper-parameters, we rely on a Bayesian optimisation procedure in order to select the best hyper-parameters, treating the scoring function of our algorithm as a black-box for the gaussian process underlying the Bayesian optimisation.\n",
    "\n",
    "Such procedure is performed via the `scikit-optimize` package."
   ]
  },
  {
   "cell_type": "code",
   "execution_count": 337,
   "metadata": {
    "scrolled": true
   },
   "outputs": [
    {
     "name": "stdout",
     "output_type": "stream",
     "text": [
      "Fitting 5 folds for each of 3 candidates, totalling 15 fits\n"
     ]
    },
    {
     "name": "stderr",
     "output_type": "stream",
     "text": [
      "[Parallel(n_jobs=1)]: Done  15 out of  15 | elapsed:   10.9s finished\n"
     ]
    },
    {
     "name": "stdout",
     "output_type": "stream",
     "text": [
      "best score: -2951.806990371971\n",
      "Fitting 5 folds for each of 3 candidates, totalling 15 fits\n"
     ]
    },
    {
     "name": "stderr",
     "output_type": "stream",
     "text": [
      "[Parallel(n_jobs=1)]: Done  15 out of  15 | elapsed:   11.9s finished\n"
     ]
    },
    {
     "name": "stdout",
     "output_type": "stream",
     "text": [
      "best score: -2951.806990371971\n",
      "Fitting 5 folds for each of 3 candidates, totalling 15 fits\n"
     ]
    },
    {
     "name": "stderr",
     "output_type": "stream",
     "text": [
      "[Parallel(n_jobs=1)]: Done  15 out of  15 | elapsed:   13.7s finished\n"
     ]
    },
    {
     "name": "stdout",
     "output_type": "stream",
     "text": [
      "best score: -2941.5014325209604\n",
      "Fitting 5 folds for each of 3 candidates, totalling 15 fits\n"
     ]
    },
    {
     "name": "stderr",
     "output_type": "stream",
     "text": [
      "[Parallel(n_jobs=1)]: Done  15 out of  15 | elapsed:    9.9s finished\n"
     ]
    },
    {
     "name": "stdout",
     "output_type": "stream",
     "text": [
      "best score: -2941.5014325209604\n",
      "Fitting 5 folds for each of 3 candidates, totalling 15 fits\n"
     ]
    },
    {
     "name": "stderr",
     "output_type": "stream",
     "text": [
      "[Parallel(n_jobs=1)]: Done  15 out of  15 | elapsed:   27.6s finished\n"
     ]
    },
    {
     "name": "stdout",
     "output_type": "stream",
     "text": [
      "best score: -2941.5014325209604\n",
      "Fitting 5 folds for each of 3 candidates, totalling 15 fits\n"
     ]
    },
    {
     "name": "stderr",
     "output_type": "stream",
     "text": [
      "[Parallel(n_jobs=1)]: Done  15 out of  15 | elapsed:    8.3s finished\n"
     ]
    },
    {
     "name": "stdout",
     "output_type": "stream",
     "text": [
      "best score: -2924.204655420389\n",
      "Fitting 5 folds for each of 2 candidates, totalling 10 fits\n"
     ]
    },
    {
     "name": "stderr",
     "output_type": "stream",
     "text": [
      "[Parallel(n_jobs=1)]: Done  10 out of  10 | elapsed:    4.7s finished\n"
     ]
    },
    {
     "name": "stdout",
     "output_type": "stream",
     "text": [
      "best score: -2924.204655420389\n"
     ]
    },
    {
     "data": {
      "text/plain": [
       "BayesSearchCV(cv=ShuffleSplit(n_splits=5, random_state=None, test_size=0.1, train_size=None),\n",
       "       error_score=-300000.0,\n",
       "       estimator=TimeGraphLassoForwardBackward(alpha='max', assume_centered=False, beta=2.1,\n",
       "               choose='lamda', compute_objective=True, delta=1e-05,\n",
       "               eps=0.9, gamma=1, lamda=1, lamda_criterion='c',\n",
       "               max_iter=200, time_norm=1, time_on_axis='last', tol=0.01,\n",
       "               verbose=0),\n",
       "       fit_params=None, iid=True, n_iter=20, n_jobs=1, n_points=3,\n",
       "       optimizer_kwargs=None, pre_dispatch='2*n_jobs', random_state=None,\n",
       "       refit=True, return_train_score=False, scoring=None,\n",
       "       search_spaces={'alpha': Real(low=0.1, high=3, prior='uniform', transform='identity'), 'beta': Real(low=0.1, high=10.0, prior='uniform', transform='identity')},\n",
       "       verbose=1)"
      ]
     },
     "execution_count": 337,
     "metadata": {},
     "output_type": "execute_result"
    }
   ],
   "source": [
    "from regain import utils; reload(utils)\n",
    "from regain import prox; reload(prox);\n",
    "from regain.forward_backward import time_graph_lasso_; reload(time_graph_lasso_)\n",
    "\n",
    "from skopt import searchcv; reload(searchcv)\n",
    "\n",
    "X = data['square'].data\n",
    "\n",
    "domain = {'alpha': Real(1e-1, 3, prior='uniform'),\n",
    "          'beta': Real(1e-1, 1e1, prior='uniform'),\n",
    "#           'time_norm': Categorical([1, 2])\n",
    "#           'eps': Categorical([0.5, 0.7, 0.8, 0.9])\n",
    "         }\n",
    "\n",
    "mdl = time_graph_lasso_.TimeGraphLassoForwardBackward(\n",
    "    verbose=0, tol=1e-2, max_iter=200, gamma=1, alpha='max', beta=2.1, time_norm=1,\n",
    "    time_on_axis='last', eps=0.9, delta=1e-5, choose='lamda', lamda_criterion='c')\n",
    "    \n",
    "cv = ShuffleSplit(5, test_size=0.1)\n",
    "    \n",
    "bscv = searchcv.BayesSearchCV(\n",
    "    mdl, domain, n_iter=20, cv=cv, verbose=1, n_jobs=1, iid=True, n_points=3,\n",
    "    error_score=-3e5)\n",
    "\n",
    "def on_step(optim_result):\n",
    "    score = bscv.best_score_\n",
    "    print(\"best score: %s\" % score)\n",
    "\n",
    "bscv.fit(X, callback=on_step)\n",
    "# mdl.fit(data_grid)"
   ]
  },
  {
   "cell_type": "code",
   "execution_count": 93,
   "metadata": {},
   "outputs": [
    {
     "name": "stdout",
     "output_type": "stream",
     "text": [
      "Fitting 5 folds for each of 3 candidates, totalling 15 fits\n"
     ]
    },
    {
     "name": "stderr",
     "output_type": "stream",
     "text": [
      "[Parallel(n_jobs=1)]: Done  15 out of  15 | elapsed:  2.2min finished\n"
     ]
    },
    {
     "name": "stdout",
     "output_type": "stream",
     "text": [
      "best score: -3045.4636277589393\n",
      "Fitting 5 folds for each of 3 candidates, totalling 15 fits\n"
     ]
    },
    {
     "name": "stderr",
     "output_type": "stream",
     "text": [
      "[Parallel(n_jobs=1)]: Done  15 out of  15 | elapsed:  2.8min finished\n"
     ]
    },
    {
     "name": "stdout",
     "output_type": "stream",
     "text": [
      "best score: -3009.3462324672396\n",
      "Fitting 5 folds for each of 3 candidates, totalling 15 fits\n"
     ]
    },
    {
     "name": "stderr",
     "output_type": "stream",
     "text": [
      "[Parallel(n_jobs=1)]: Done  15 out of  15 | elapsed:  2.3min finished\n"
     ]
    },
    {
     "name": "stdout",
     "output_type": "stream",
     "text": [
      "best score: -2994.1235004738123\n",
      "Fitting 5 folds for each of 3 candidates, totalling 15 fits\n"
     ]
    },
    {
     "name": "stderr",
     "output_type": "stream",
     "text": [
      "[Parallel(n_jobs=1)]: Done  15 out of  15 | elapsed:  2.5min finished\n"
     ]
    },
    {
     "name": "stdout",
     "output_type": "stream",
     "text": [
      "best score: -2994.1235004738123\n",
      "Fitting 5 folds for each of 3 candidates, totalling 15 fits\n"
     ]
    },
    {
     "name": "stderr",
     "output_type": "stream",
     "text": [
      "[Parallel(n_jobs=1)]: Done  15 out of  15 | elapsed:  2.9min finished\n"
     ]
    },
    {
     "name": "stdout",
     "output_type": "stream",
     "text": [
      "best score: -2993.918166307855\n",
      "Fitting 5 folds for each of 3 candidates, totalling 15 fits\n"
     ]
    },
    {
     "name": "stderr",
     "output_type": "stream",
     "text": [
      "[Parallel(n_jobs=1)]: Done  15 out of  15 | elapsed:  2.2min finished\n"
     ]
    },
    {
     "name": "stdout",
     "output_type": "stream",
     "text": [
      "best score: -2952.7948977072147\n",
      "Fitting 5 folds for each of 3 candidates, totalling 15 fits\n"
     ]
    },
    {
     "name": "stderr",
     "output_type": "stream",
     "text": [
      "[Parallel(n_jobs=1)]: Done  15 out of  15 | elapsed:  3.0min finished\n"
     ]
    },
    {
     "name": "stdout",
     "output_type": "stream",
     "text": [
      "best score: -2952.7948977072147\n",
      "Fitting 5 folds for each of 3 candidates, totalling 15 fits\n"
     ]
    },
    {
     "name": "stderr",
     "output_type": "stream",
     "text": [
      "[Parallel(n_jobs=1)]: Done  15 out of  15 | elapsed:  3.3min finished\n"
     ]
    },
    {
     "name": "stdout",
     "output_type": "stream",
     "text": [
      "best score: -2952.7948977072147\n",
      "Fitting 5 folds for each of 3 candidates, totalling 15 fits\n"
     ]
    },
    {
     "name": "stderr",
     "output_type": "stream",
     "text": [
      "[Parallel(n_jobs=1)]: Done  15 out of  15 | elapsed:  2.7min finished\n"
     ]
    },
    {
     "name": "stdout",
     "output_type": "stream",
     "text": [
      "best score: -2952.7948977072147\n",
      "Fitting 5 folds for each of 3 candidates, totalling 15 fits\n"
     ]
    },
    {
     "name": "stderr",
     "output_type": "stream",
     "text": [
      "[Parallel(n_jobs=1)]: Done  15 out of  15 | elapsed:  2.2min finished\n"
     ]
    },
    {
     "name": "stdout",
     "output_type": "stream",
     "text": [
      "best score: -2952.7948977072147\n",
      "Fitting 5 folds for each of 3 candidates, totalling 15 fits\n"
     ]
    },
    {
     "name": "stderr",
     "output_type": "stream",
     "text": [
      "[Parallel(n_jobs=1)]: Done  15 out of  15 | elapsed:  2.3min finished\n"
     ]
    },
    {
     "name": "stdout",
     "output_type": "stream",
     "text": [
      "best score: -2952.7948977072147\n",
      "Fitting 5 folds for each of 3 candidates, totalling 15 fits\n"
     ]
    },
    {
     "name": "stderr",
     "output_type": "stream",
     "text": [
      "[Parallel(n_jobs=1)]: Done  15 out of  15 | elapsed:  2.4min finished\n"
     ]
    },
    {
     "name": "stdout",
     "output_type": "stream",
     "text": [
      "best score: -2952.7948977072147\n",
      "Fitting 5 folds for each of 3 candidates, totalling 15 fits\n"
     ]
    },
    {
     "name": "stderr",
     "output_type": "stream",
     "text": [
      "[Parallel(n_jobs=1)]: Done  15 out of  15 | elapsed:  2.2min finished\n"
     ]
    },
    {
     "name": "stdout",
     "output_type": "stream",
     "text": [
      "best score: -2952.7948977072147\n",
      "Fitting 5 folds for each of 3 candidates, totalling 15 fits\n"
     ]
    },
    {
     "name": "stderr",
     "output_type": "stream",
     "text": [
      "[Parallel(n_jobs=1)]: Done  15 out of  15 | elapsed:  2.3min finished\n"
     ]
    },
    {
     "name": "stdout",
     "output_type": "stream",
     "text": [
      "best score: -2952.7948977072147\n",
      "Fitting 5 folds for each of 3 candidates, totalling 15 fits\n"
     ]
    },
    {
     "name": "stderr",
     "output_type": "stream",
     "text": [
      "[Parallel(n_jobs=1)]: Done  15 out of  15 | elapsed:  2.5min finished\n"
     ]
    },
    {
     "name": "stdout",
     "output_type": "stream",
     "text": [
      "best score: -2952.7948977072147\n",
      "Fitting 5 folds for each of 3 candidates, totalling 15 fits\n"
     ]
    },
    {
     "name": "stderr",
     "output_type": "stream",
     "text": [
      "[Parallel(n_jobs=1)]: Done  15 out of  15 | elapsed:  2.2min finished\n"
     ]
    },
    {
     "name": "stdout",
     "output_type": "stream",
     "text": [
      "best score: -2952.7948977072147\n",
      "Fitting 5 folds for each of 3 candidates, totalling 15 fits\n"
     ]
    },
    {
     "name": "stderr",
     "output_type": "stream",
     "text": [
      "[Parallel(n_jobs=1)]: Done  15 out of  15 | elapsed:  2.4min finished\n"
     ]
    },
    {
     "name": "stdout",
     "output_type": "stream",
     "text": [
      "best score: -2952.7948977072147\n",
      "Fitting 5 folds for each of 3 candidates, totalling 15 fits\n"
     ]
    },
    {
     "name": "stderr",
     "output_type": "stream",
     "text": [
      "[Parallel(n_jobs=1)]: Done  15 out of  15 | elapsed:  2.1min finished\n"
     ]
    },
    {
     "name": "stdout",
     "output_type": "stream",
     "text": [
      "best score: -2952.7948977072147\n",
      "Fitting 5 folds for each of 3 candidates, totalling 15 fits\n"
     ]
    },
    {
     "name": "stderr",
     "output_type": "stream",
     "text": [
      "[Parallel(n_jobs=1)]: Done  15 out of  15 | elapsed:  2.0min finished\n"
     ]
    },
    {
     "name": "stdout",
     "output_type": "stream",
     "text": [
      "best score: -2952.7948977072147\n",
      "Fitting 5 folds for each of 3 candidates, totalling 15 fits\n"
     ]
    },
    {
     "name": "stderr",
     "output_type": "stream",
     "text": [
      "[Parallel(n_jobs=1)]: Done  15 out of  15 | elapsed:  2.6min finished\n"
     ]
    },
    {
     "name": "stdout",
     "output_type": "stream",
     "text": [
      "best score: -2952.7948977072147\n",
      "Fitting 5 folds for each of 3 candidates, totalling 15 fits\n"
     ]
    },
    {
     "name": "stderr",
     "output_type": "stream",
     "text": [
      "[Parallel(n_jobs=1)]: Done  15 out of  15 | elapsed:  2.4min finished\n"
     ]
    },
    {
     "name": "stdout",
     "output_type": "stream",
     "text": [
      "best score: -2952.7948977072147\n",
      "Fitting 5 folds for each of 3 candidates, totalling 15 fits\n"
     ]
    },
    {
     "name": "stderr",
     "output_type": "stream",
     "text": [
      "[Parallel(n_jobs=1)]: Done  15 out of  15 | elapsed:  2.2min finished\n"
     ]
    },
    {
     "name": "stdout",
     "output_type": "stream",
     "text": [
      "best score: -2952.7948977072147\n",
      "Fitting 5 folds for each of 3 candidates, totalling 15 fits\n"
     ]
    },
    {
     "name": "stderr",
     "output_type": "stream",
     "text": [
      "[Parallel(n_jobs=1)]: Done  15 out of  15 | elapsed:  1.9min finished\n"
     ]
    },
    {
     "name": "stdout",
     "output_type": "stream",
     "text": [
      "best score: -2952.7948977072147\n",
      "Fitting 5 folds for each of 3 candidates, totalling 15 fits\n"
     ]
    },
    {
     "name": "stderr",
     "output_type": "stream",
     "text": [
      "[Parallel(n_jobs=1)]: Done  15 out of  15 | elapsed:  2.8min finished\n"
     ]
    },
    {
     "name": "stdout",
     "output_type": "stream",
     "text": [
      "best score: -2952.7948977072147\n",
      "Fitting 5 folds for each of 3 candidates, totalling 15 fits\n"
     ]
    },
    {
     "name": "stderr",
     "output_type": "stream",
     "text": [
      "[Parallel(n_jobs=1)]: Done  15 out of  15 | elapsed:  2.5min finished\n"
     ]
    },
    {
     "name": "stdout",
     "output_type": "stream",
     "text": [
      "best score: -2952.7948977072147\n",
      "Fitting 5 folds for each of 3 candidates, totalling 15 fits\n"
     ]
    },
    {
     "name": "stderr",
     "output_type": "stream",
     "text": [
      "[Parallel(n_jobs=1)]: Done  15 out of  15 | elapsed:  2.0min finished\n"
     ]
    },
    {
     "name": "stdout",
     "output_type": "stream",
     "text": [
      "best score: -2952.7948977072147\n",
      "Fitting 5 folds for each of 3 candidates, totalling 15 fits\n"
     ]
    },
    {
     "name": "stderr",
     "output_type": "stream",
     "text": [
      "[Parallel(n_jobs=1)]: Done  15 out of  15 | elapsed:  2.6min finished\n"
     ]
    },
    {
     "name": "stdout",
     "output_type": "stream",
     "text": [
      "best score: -2952.7948977072147\n",
      "Fitting 5 folds for each of 3 candidates, totalling 15 fits\n"
     ]
    },
    {
     "name": "stderr",
     "output_type": "stream",
     "text": [
      "[Parallel(n_jobs=1)]: Done  15 out of  15 | elapsed:  2.0min finished\n"
     ]
    },
    {
     "name": "stdout",
     "output_type": "stream",
     "text": [
      "best score: -2952.7948977072147\n",
      "Fitting 5 folds for each of 3 candidates, totalling 15 fits\n"
     ]
    },
    {
     "name": "stderr",
     "output_type": "stream",
     "text": [
      "[Parallel(n_jobs=1)]: Done  15 out of  15 | elapsed:  2.4min finished\n"
     ]
    },
    {
     "name": "stdout",
     "output_type": "stream",
     "text": [
      "best score: -2952.7948977072147\n",
      "Fitting 5 folds for each of 3 candidates, totalling 15 fits\n"
     ]
    },
    {
     "name": "stderr",
     "output_type": "stream",
     "text": [
      "[Parallel(n_jobs=1)]: Done  15 out of  15 | elapsed:  2.4min finished\n"
     ]
    },
    {
     "name": "stdout",
     "output_type": "stream",
     "text": [
      "best score: -2952.7948977072147\n",
      "Fitting 5 folds for each of 3 candidates, totalling 15 fits\n"
     ]
    },
    {
     "name": "stderr",
     "output_type": "stream",
     "text": [
      "[Parallel(n_jobs=1)]: Done  15 out of  15 | elapsed:  2.0min finished\n"
     ]
    },
    {
     "name": "stdout",
     "output_type": "stream",
     "text": [
      "best score: -2952.7948977072147\n",
      "Fitting 5 folds for each of 3 candidates, totalling 15 fits\n"
     ]
    },
    {
     "name": "stderr",
     "output_type": "stream",
     "text": [
      "[Parallel(n_jobs=1)]: Done  15 out of  15 | elapsed:  2.1min finished\n"
     ]
    },
    {
     "name": "stdout",
     "output_type": "stream",
     "text": [
      "best score: -2952.7948977072147\n",
      "Fitting 5 folds for each of 3 candidates, totalling 15 fits\n"
     ]
    },
    {
     "name": "stderr",
     "output_type": "stream",
     "text": [
      "[Parallel(n_jobs=1)]: Done  15 out of  15 | elapsed:  2.3min finished\n"
     ]
    },
    {
     "name": "stdout",
     "output_type": "stream",
     "text": [
      "best score: -2952.7948977072147\n",
      "Fitting 5 folds for each of 3 candidates, totalling 15 fits\n"
     ]
    },
    {
     "name": "stderr",
     "output_type": "stream",
     "text": [
      "[Parallel(n_jobs=1)]: Done  15 out of  15 | elapsed:  2.5min finished\n"
     ]
    },
    {
     "name": "stdout",
     "output_type": "stream",
     "text": [
      "best score: -2952.7948977072147\n",
      "Fitting 5 folds for each of 3 candidates, totalling 15 fits\n"
     ]
    },
    {
     "name": "stderr",
     "output_type": "stream",
     "text": [
      "[Parallel(n_jobs=1)]: Done  15 out of  15 | elapsed:  2.1min finished\n"
     ]
    },
    {
     "name": "stdout",
     "output_type": "stream",
     "text": [
      "best score: -2952.7948977072147\n",
      "Fitting 5 folds for each of 3 candidates, totalling 15 fits\n"
     ]
    },
    {
     "name": "stderr",
     "output_type": "stream",
     "text": [
      "[Parallel(n_jobs=1)]: Done  15 out of  15 | elapsed:  2.3min finished\n"
     ]
    },
    {
     "name": "stdout",
     "output_type": "stream",
     "text": [
      "best score: -2952.7948977072147\n",
      "Fitting 5 folds for each of 3 candidates, totalling 15 fits\n"
     ]
    },
    {
     "name": "stderr",
     "output_type": "stream",
     "text": [
      "[Parallel(n_jobs=1)]: Done  15 out of  15 | elapsed:  3.4min finished\n"
     ]
    },
    {
     "name": "stdout",
     "output_type": "stream",
     "text": [
      "best score: -2952.7948977072147\n",
      "Fitting 5 folds for each of 3 candidates, totalling 15 fits\n"
     ]
    },
    {
     "name": "stderr",
     "output_type": "stream",
     "text": [
      "[Parallel(n_jobs=1)]: Done  15 out of  15 | elapsed:  2.7min finished\n"
     ]
    },
    {
     "name": "stdout",
     "output_type": "stream",
     "text": [
      "best score: -2952.7948977072147\n",
      "Fitting 5 folds for each of 3 candidates, totalling 15 fits\n"
     ]
    },
    {
     "name": "stderr",
     "output_type": "stream",
     "text": [
      "[Parallel(n_jobs=1)]: Done  15 out of  15 | elapsed:  2.4min finished\n"
     ]
    },
    {
     "name": "stdout",
     "output_type": "stream",
     "text": [
      "best score: -2952.7948977072147\n",
      "Fitting 5 folds for each of 3 candidates, totalling 15 fits\n"
     ]
    },
    {
     "name": "stderr",
     "output_type": "stream",
     "text": [
      "[Parallel(n_jobs=1)]: Done  15 out of  15 | elapsed:  2.1min finished\n"
     ]
    },
    {
     "name": "stdout",
     "output_type": "stream",
     "text": [
      "best score: -2952.7948977072147\n",
      "Fitting 5 folds for each of 3 candidates, totalling 15 fits\n"
     ]
    },
    {
     "name": "stderr",
     "output_type": "stream",
     "text": [
      "[Parallel(n_jobs=1)]: Done  15 out of  15 | elapsed:  2.8min finished\n"
     ]
    },
    {
     "name": "stdout",
     "output_type": "stream",
     "text": [
      "best score: -2952.7948977072147\n",
      "Fitting 5 folds for each of 3 candidates, totalling 15 fits\n"
     ]
    },
    {
     "name": "stderr",
     "output_type": "stream",
     "text": [
      "[Parallel(n_jobs=1)]: Done  15 out of  15 | elapsed:  2.2min finished\n"
     ]
    },
    {
     "name": "stdout",
     "output_type": "stream",
     "text": [
      "best score: -2952.7948977072147\n",
      "Fitting 5 folds for each of 3 candidates, totalling 15 fits\n"
     ]
    },
    {
     "name": "stderr",
     "output_type": "stream",
     "text": [
      "[Parallel(n_jobs=1)]: Done  15 out of  15 | elapsed:  2.3min finished\n"
     ]
    },
    {
     "name": "stdout",
     "output_type": "stream",
     "text": [
      "best score: -2952.7948977072147\n",
      "Fitting 5 folds for each of 3 candidates, totalling 15 fits\n"
     ]
    },
    {
     "name": "stderr",
     "output_type": "stream",
     "text": [
      "[Parallel(n_jobs=1)]: Done  15 out of  15 | elapsed:  2.2min finished\n"
     ]
    },
    {
     "name": "stdout",
     "output_type": "stream",
     "text": [
      "best score: -2952.7948977072147\n",
      "Fitting 5 folds for each of 3 candidates, totalling 15 fits\n"
     ]
    },
    {
     "name": "stderr",
     "output_type": "stream",
     "text": [
      "[Parallel(n_jobs=1)]: Done  15 out of  15 | elapsed:  2.4min finished\n"
     ]
    },
    {
     "name": "stdout",
     "output_type": "stream",
     "text": [
      "best score: -2952.7948977072147\n",
      "Fitting 5 folds for each of 3 candidates, totalling 15 fits\n"
     ]
    },
    {
     "name": "stderr",
     "output_type": "stream",
     "text": [
      "[Parallel(n_jobs=1)]: Done  15 out of  15 | elapsed:  2.1min finished\n"
     ]
    },
    {
     "name": "stdout",
     "output_type": "stream",
     "text": [
      "best score: -2952.7948977072147\n",
      "Fitting 5 folds for each of 3 candidates, totalling 15 fits\n"
     ]
    },
    {
     "name": "stderr",
     "output_type": "stream",
     "text": [
      "[Parallel(n_jobs=1)]: Done  15 out of  15 | elapsed:  2.0min finished\n"
     ]
    },
    {
     "name": "stdout",
     "output_type": "stream",
     "text": [
      "best score: -2952.7948977072147\n",
      "Fitting 5 folds for each of 3 candidates, totalling 15 fits\n"
     ]
    },
    {
     "name": "stderr",
     "output_type": "stream",
     "text": [
      "[Parallel(n_jobs=1)]: Done  15 out of  15 | elapsed:  2.0min finished\n"
     ]
    },
    {
     "name": "stdout",
     "output_type": "stream",
     "text": [
      "best score: -2952.7948977072147\n",
      "Fitting 5 folds for each of 3 candidates, totalling 15 fits\n"
     ]
    },
    {
     "name": "stderr",
     "output_type": "stream",
     "text": [
      "[Parallel(n_jobs=1)]: Done  15 out of  15 | elapsed:  2.1min finished\n"
     ]
    },
    {
     "name": "stdout",
     "output_type": "stream",
     "text": [
      "best score: -2952.7948977072147\n",
      "Fitting 5 folds for each of 3 candidates, totalling 15 fits\n"
     ]
    },
    {
     "name": "stderr",
     "output_type": "stream",
     "text": [
      "[Parallel(n_jobs=1)]: Done  15 out of  15 | elapsed:  2.6min finished\n"
     ]
    },
    {
     "name": "stdout",
     "output_type": "stream",
     "text": [
      "best score: -2952.7948977072147\n",
      "Fitting 5 folds for each of 3 candidates, totalling 15 fits\n"
     ]
    },
    {
     "name": "stderr",
     "output_type": "stream",
     "text": [
      "[Parallel(n_jobs=1)]: Done  15 out of  15 | elapsed:  2.0min finished\n"
     ]
    },
    {
     "name": "stdout",
     "output_type": "stream",
     "text": [
      "best score: -2952.7948977072147\n",
      "Fitting 5 folds for each of 3 candidates, totalling 15 fits\n"
     ]
    },
    {
     "name": "stderr",
     "output_type": "stream",
     "text": [
      "[Parallel(n_jobs=1)]: Done  15 out of  15 | elapsed:  2.1min finished\n"
     ]
    },
    {
     "name": "stdout",
     "output_type": "stream",
     "text": [
      "best score: -2952.7948977072147\n",
      "Fitting 5 folds for each of 3 candidates, totalling 15 fits\n"
     ]
    },
    {
     "name": "stderr",
     "output_type": "stream",
     "text": [
      "[Parallel(n_jobs=1)]: Done  15 out of  15 | elapsed:  2.1min finished\n"
     ]
    },
    {
     "name": "stdout",
     "output_type": "stream",
     "text": [
      "best score: -2952.7948977072147\n",
      "Fitting 5 folds for each of 3 candidates, totalling 15 fits\n"
     ]
    },
    {
     "name": "stderr",
     "output_type": "stream",
     "text": [
      "[Parallel(n_jobs=1)]: Done  15 out of  15 | elapsed:  2.5min finished\n"
     ]
    },
    {
     "name": "stdout",
     "output_type": "stream",
     "text": [
      "best score: -2952.7948977072147\n",
      "Fitting 5 folds for each of 3 candidates, totalling 15 fits\n"
     ]
    },
    {
     "name": "stderr",
     "output_type": "stream",
     "text": [
      "[Parallel(n_jobs=1)]: Done  15 out of  15 | elapsed:  3.3min finished\n"
     ]
    },
    {
     "name": "stdout",
     "output_type": "stream",
     "text": [
      "best score: -2952.7948977072147\n",
      "Fitting 5 folds for each of 3 candidates, totalling 15 fits\n"
     ]
    },
    {
     "name": "stderr",
     "output_type": "stream",
     "text": [
      "[Parallel(n_jobs=1)]: Done  15 out of  15 | elapsed:  2.0min finished\n"
     ]
    },
    {
     "name": "stdout",
     "output_type": "stream",
     "text": [
      "best score: -2952.7948977072147\n",
      "Fitting 5 folds for each of 3 candidates, totalling 15 fits\n"
     ]
    },
    {
     "name": "stderr",
     "output_type": "stream",
     "text": [
      "[Parallel(n_jobs=1)]: Done  15 out of  15 | elapsed:  2.6min finished\n"
     ]
    },
    {
     "name": "stdout",
     "output_type": "stream",
     "text": [
      "best score: -2952.7948977072147\n",
      "Fitting 5 folds for each of 3 candidates, totalling 15 fits\n"
     ]
    },
    {
     "name": "stderr",
     "output_type": "stream",
     "text": [
      "[Parallel(n_jobs=1)]: Done  15 out of  15 | elapsed:  2.4min finished\n"
     ]
    },
    {
     "name": "stdout",
     "output_type": "stream",
     "text": [
      "best score: -2952.7948977072147\n",
      "Fitting 5 folds for each of 3 candidates, totalling 15 fits\n"
     ]
    },
    {
     "name": "stderr",
     "output_type": "stream",
     "text": [
      "[Parallel(n_jobs=1)]: Done  15 out of  15 | elapsed:  2.3min finished\n"
     ]
    },
    {
     "name": "stdout",
     "output_type": "stream",
     "text": [
      "best score: -2952.7948977072147\n",
      "Fitting 5 folds for each of 3 candidates, totalling 15 fits\n"
     ]
    },
    {
     "name": "stderr",
     "output_type": "stream",
     "text": [
      "[Parallel(n_jobs=1)]: Done  15 out of  15 | elapsed:  2.2min finished\n"
     ]
    },
    {
     "name": "stdout",
     "output_type": "stream",
     "text": [
      "best score: -2952.7948977072147\n",
      "Fitting 5 folds for each of 3 candidates, totalling 15 fits\n"
     ]
    },
    {
     "name": "stderr",
     "output_type": "stream",
     "text": [
      "[Parallel(n_jobs=1)]: Done  15 out of  15 | elapsed:  1.9min finished\n"
     ]
    },
    {
     "name": "stdout",
     "output_type": "stream",
     "text": [
      "best score: -2952.7948977072147\n",
      "Fitting 5 folds for each of 3 candidates, totalling 15 fits\n"
     ]
    },
    {
     "name": "stderr",
     "output_type": "stream",
     "text": [
      "[Parallel(n_jobs=1)]: Done  15 out of  15 | elapsed:  2.0min finished\n"
     ]
    },
    {
     "name": "stdout",
     "output_type": "stream",
     "text": [
      "best score: -2952.7948977072147\n",
      "Fitting 5 folds for each of 3 candidates, totalling 15 fits\n"
     ]
    },
    {
     "name": "stderr",
     "output_type": "stream",
     "text": [
      "[Parallel(n_jobs=1)]: Done  15 out of  15 | elapsed:  2.2min finished\n"
     ]
    },
    {
     "name": "stdout",
     "output_type": "stream",
     "text": [
      "best score: -2952.7948977072147\n",
      "Fitting 5 folds for each of 3 candidates, totalling 15 fits\n"
     ]
    },
    {
     "name": "stderr",
     "output_type": "stream",
     "text": [
      "[Parallel(n_jobs=1)]: Done  15 out of  15 | elapsed:  2.4min finished\n"
     ]
    },
    {
     "name": "stdout",
     "output_type": "stream",
     "text": [
      "best score: -2952.7948977072147\n",
      "Fitting 5 folds for each of 3 candidates, totalling 15 fits\n"
     ]
    },
    {
     "name": "stderr",
     "output_type": "stream",
     "text": [
      "[Parallel(n_jobs=1)]: Done  15 out of  15 | elapsed:  2.5min finished\n"
     ]
    },
    {
     "name": "stdout",
     "output_type": "stream",
     "text": [
      "best score: -2952.7948977072147\n",
      "Fitting 5 folds for each of 3 candidates, totalling 15 fits\n"
     ]
    },
    {
     "name": "stderr",
     "output_type": "stream",
     "text": [
      "[Parallel(n_jobs=1)]: Done  15 out of  15 | elapsed:  2.2min finished\n"
     ]
    },
    {
     "name": "stdout",
     "output_type": "stream",
     "text": [
      "best score: -2952.7948977072147\n",
      "Fitting 5 folds for each of 2 candidates, totalling 10 fits\n"
     ]
    },
    {
     "name": "stderr",
     "output_type": "stream",
     "text": [
      "[Parallel(n_jobs=1)]: Done  10 out of  10 | elapsed:  1.3min finished\n"
     ]
    },
    {
     "name": "stdout",
     "output_type": "stream",
     "text": [
      "best score: -2952.7948977072147\n"
     ]
    },
    {
     "data": {
      "text/plain": [
       "BayesSearchCV(cv=ShuffleSplit(n_splits=5, random_state=None, test_size=0.1, train_size=None),\n",
       "       error_score=-300000.0,\n",
       "       estimator=TimeGraphLassoForwardBackward(alpha='max', assume_centered=False, beta=1,\n",
       "               choose='gamma', compute_objective=True, delta=1e-05,\n",
       "               eps=0.9, gamma=1, lamda=1, lamda_criterion='b',\n",
       "               max_iter=200, time_norm=2, time_on_axis='last', tol=0.01,\n",
       "               verbose=0),\n",
       "       fit_params=None, iid=True, n_iter=200, n_jobs=1, n_points=3,\n",
       "       optimizer_kwargs=None, pre_dispatch='2*n_jobs', random_state=None,\n",
       "       refit=True, return_train_score=False, scoring=None,\n",
       "       search_spaces={'beta': Real(low=0.1, high=10.0, prior='log-uniform', transform='identity')},\n",
       "       verbose=1)"
      ]
     },
     "execution_count": 93,
     "metadata": {},
     "output_type": "execute_result"
    }
   ],
   "source": [
    "from regain import utils; reload(utils)\n",
    "from regain import prox; reload(prox);\n",
    "from regain.forward_backward import time_graph_lasso_; reload(time_graph_lasso_)\n",
    "\n",
    "from skopt import searchcv; reload(searchcv)\n",
    "\n",
    "X = data['smooth'].data\n",
    "\n",
    "domain = {#'alpha': Real(1e-1, 1, prior='uniform'),\n",
    "          'beta': Real(1e-1, 1e1, prior='log-uniform'),\n",
    "#           'time_norm': Categorical([1, 2])\n",
    "#           'eps': Categorical([0.5, 0.7, 0.8, 0.9])\n",
    "         }\n",
    "\n",
    "mdl = time_graph_lasso_.TimeGraphLassoForwardBackward(\n",
    "    verbose=0, tol=1e-2, max_iter=200, gamma=1, alpha='max', beta=1, time_norm=2,\n",
    "    time_on_axis='last', eps=0.9, delta=1e-5, choose='gamma')\n",
    "    \n",
    "cv = ShuffleSplit(5, test_size=0.1)\n",
    "    \n",
    "bscv_smooth = searchcv.BayesSearchCV(\n",
    "    mdl, domain, n_iter=20, cv=cv, verbose=1, n_jobs=1, iid=True, n_points=3,\n",
    "    error_score=-3e5)\n",
    "\n",
    "# callback handler\n",
    "def on_step(optim_result):\n",
    "    score = bscv_smooth.best_score_\n",
    "    print(\"best score: %s\" % score)\n",
    "#     if score >= 0.98:\n",
    "#         print('Interrupting!')\n",
    "#         return True\n",
    "\n",
    "bscv_smooth.fit(X, callback=on_step)\n",
    "# mdl.fit(data_grid)"
   ]
  },
  {
   "cell_type": "code",
   "execution_count": 338,
   "metadata": {},
   "outputs": [
    {
     "data": {
      "text/plain": [
       "{'alpha': 3.0, 'beta': 4.986988949178272}"
      ]
     },
     "execution_count": 338,
     "metadata": {},
     "output_type": "execute_result"
    }
   ],
   "source": [
    "bscv.best_params_"
   ]
  },
  {
   "cell_type": "code",
   "execution_count": 34,
   "metadata": {
    "scrolled": true
   },
   "outputs": [],
   "source": [
    "mdl = bscv.best_estimator_"
   ]
  },
  {
   "cell_type": "code",
   "execution_count": 32,
   "metadata": {},
   "outputs": [
    {
     "data": {
      "text/plain": [
       "{'accuracy': 0.648,\n",
       " 'average_precision': 0.945383085898071,\n",
       " 'balanced_accuracy': 0.5616666666666666,\n",
       " 'dor': 22.26436781609195,\n",
       " 'f1': 0.772020725388601,\n",
       " 'fall_out': 0.87,\n",
       " 'false_omission_rate': 0.07142857142857142,\n",
       " 'fdr': 0.3686440677966102,\n",
       " 'fn': 4,\n",
       " 'fp': 348,\n",
       " 'miss_rate': 0.006666666666666667,\n",
       " 'nlr': 0.05128205128205128,\n",
       " 'npv': 0.9285714285714286,\n",
       " 'plr': 1.1417624521072796,\n",
       " 'precision': 0.6313559322033898,\n",
       " 'prevalence': 0.6,\n",
       " 'recall': 0.9933333333333333,\n",
       " 'specificity': 0.13,\n",
       " 'tn': 52,\n",
       " 'tp': 596}"
      ]
     },
     "execution_count": 32,
     "metadata": {},
     "output_type": "execute_result"
    }
   ],
   "source": [
    "utils.structure_error(data.thetas, mdl.precision_, no_diagonal=0, thresholding=1, eps=1e-8)"
   ]
  },
  {
   "cell_type": "code",
   "execution_count": 17,
   "metadata": {
    "scrolled": true
   },
   "outputs": [
    {
     "data": {
      "text/plain": [
       "-35.837641703814484"
      ]
     },
     "execution_count": 17,
     "metadata": {},
     "output_type": "execute_result"
    }
   ],
   "source": [
    "mdl.score(X)"
   ]
  },
  {
   "cell_type": "code",
   "execution_count": 18,
   "metadata": {
    "scrolled": true
   },
   "outputs": [
    {
     "data": {
      "text/plain": [
       "array([[[ 1.10743819,  0.        ,  0.68071616, -0.05748638,\n",
       "          0.94732079,  0.        ,  0.20918433,  0.        ,\n",
       "          1.78611225,  1.85242287],\n",
       "        [ 0.        ,  1.07193912, -0.50367029,  1.92016201,\n",
       "          0.21529756,  1.59502318,  2.31934029,  0.42497577,\n",
       "          0.31269722,  1.75750906],\n",
       "        [ 0.68071616, -0.50367029,  1.06188303,  1.68245203,\n",
       "         -0.72654564,  3.31609044,  0.70047032,  1.23391116,\n",
       "          0.55243893,  1.10080506],\n",
       "        [-0.05748638,  1.92016201,  1.68245203,  1.13201969,\n",
       "          4.03359096,  0.66731923, -0.58454924,  0.        ,\n",
       "          1.06881747,  0.        ],\n",
       "        [ 0.94732079,  0.21529756, -0.72654564,  4.03359096,\n",
       "          1.16540114,  0.77208652,  1.10715018,  0.        ,\n",
       "         -0.14574355,  0.2445326 ],\n",
       "        [ 0.        ,  1.59502318,  3.31609044,  0.66731923,\n",
       "          0.77208652,  1.0764689 ,  0.20839135, -1.00066514,\n",
       "          1.02100579,  1.43229819],\n",
       "        [ 0.20918433,  2.31934029,  0.70047032, -0.58454924,\n",
       "          1.10715018,  0.20839135,  1.08893884,  0.70411904,\n",
       "          1.22353569,  0.05009731],\n",
       "        [ 0.        ,  0.42497577,  1.23391116,  0.        ,\n",
       "          0.        , -1.00066514,  0.70411904,  1.13477299,\n",
       "          1.93562149,  1.90030308],\n",
       "        [ 1.78611225,  0.31269722,  0.55243893,  1.06881747,\n",
       "         -0.14574355,  1.02100579,  1.22353569,  1.93562149,\n",
       "          1.04415995, -0.8069878 ],\n",
       "        [ 1.85242287,  1.75750906,  1.10080506,  0.        ,\n",
       "          0.2445326 ,  1.43229819,  0.05009731,  1.90030308,\n",
       "         -0.8069878 ,  1.20415507]],\n",
       "\n",
       "       [[ 1.10743819,  0.        ,  0.68071616, -0.05748638,\n",
       "          0.94732079,  0.        ,  0.20918433,  0.        ,\n",
       "          1.78611225,  1.85242287],\n",
       "        [ 0.        ,  1.07193912, -0.50367029,  1.92016201,\n",
       "          0.21529756,  1.59502318,  2.31934029,  0.42497577,\n",
       "          0.31269722,  1.75750906],\n",
       "        [ 0.68071616, -0.50367029,  1.06188303,  1.68245203,\n",
       "         -0.72654564,  3.31609044,  0.70047032,  1.23391116,\n",
       "          0.55243893,  1.10080506],\n",
       "        [-0.05748638,  1.92016201,  1.68245203,  1.13201969,\n",
       "          4.03359096,  0.66731923, -0.58454924,  0.        ,\n",
       "          1.06881747,  0.        ],\n",
       "        [ 0.94732079,  0.21529756, -0.72654564,  4.03359096,\n",
       "          1.16540114,  0.77208652,  1.10715018,  0.        ,\n",
       "         -0.14574355,  0.2445326 ],\n",
       "        [ 0.        ,  1.59502318,  3.31609044,  0.66731923,\n",
       "          0.77208652,  1.0764689 ,  0.20839135, -1.00066514,\n",
       "          1.02100579,  1.43229819],\n",
       "        [ 0.20918433,  2.31934029,  0.70047032, -0.58454924,\n",
       "          1.10715018,  0.20839135,  1.08893884,  0.70411904,\n",
       "          1.22353569,  0.05009731],\n",
       "        [ 0.        ,  0.42497577,  1.23391116,  0.        ,\n",
       "          0.        , -1.00066514,  0.70411904,  1.13477299,\n",
       "          1.93562149,  1.90030308],\n",
       "        [ 1.78611225,  0.31269722,  0.55243893,  1.06881747,\n",
       "         -0.14574355,  1.02100579,  1.22353569,  1.93562149,\n",
       "          1.04415995, -0.8069878 ],\n",
       "        [ 1.85242287,  1.75750906,  1.10080506,  0.        ,\n",
       "          0.2445326 ,  1.43229819,  0.05009731,  1.90030308,\n",
       "         -0.8069878 ,  1.20415507]],\n",
       "\n",
       "       [[ 1.10743819,  0.        ,  0.68071616, -0.05748638,\n",
       "          0.94732079,  0.        ,  0.20918433,  0.        ,\n",
       "          1.78611225,  1.85242287],\n",
       "        [ 0.        ,  1.07193912, -0.50367029,  1.92016201,\n",
       "          0.21529756,  1.59502318,  2.31934029,  0.42497577,\n",
       "          0.31269722,  1.75750906],\n",
       "        [ 0.68071616, -0.50367029,  1.06188303,  1.68245203,\n",
       "         -0.72654564,  3.31609044,  0.70047032,  1.23391116,\n",
       "          0.55243893,  1.10080506],\n",
       "        [-0.05748638,  1.92016201,  1.68245203,  1.13201969,\n",
       "          4.03359096,  0.66731923, -0.58454924,  0.        ,\n",
       "          1.06881747,  0.        ],\n",
       "        [ 0.94732079,  0.21529756, -0.72654564,  4.03359096,\n",
       "          1.16540114,  0.77208652,  1.10715018,  0.        ,\n",
       "         -0.14574355,  0.2445326 ],\n",
       "        [ 0.        ,  1.59502318,  3.31609044,  0.66731923,\n",
       "          0.77208652,  1.0764689 ,  0.20839135, -1.00066514,\n",
       "          1.02100579,  1.43229819],\n",
       "        [ 0.20918433,  2.31934029,  0.70047032, -0.58454924,\n",
       "          1.10715018,  0.20839135,  1.08893884,  0.70411904,\n",
       "          1.22353569,  0.05009731],\n",
       "        [ 0.        ,  0.42497577,  1.23391116,  0.        ,\n",
       "          0.        , -1.00066514,  0.70411904,  1.13477299,\n",
       "          1.93562149,  1.90030308],\n",
       "        [ 1.78611225,  0.31269722,  0.55243893,  1.06881747,\n",
       "         -0.14574355,  1.02100579,  1.22353569,  1.93562149,\n",
       "          1.04415995, -0.8069878 ],\n",
       "        [ 1.85242287,  1.75750906,  1.10080506,  0.        ,\n",
       "          0.2445326 ,  1.43229819,  0.05009731,  1.90030308,\n",
       "         -0.8069878 ,  1.20415507]],\n",
       "\n",
       "       [[ 1.10743819,  0.        ,  0.68071616, -0.05748638,\n",
       "          0.94732079,  0.        ,  0.20918433,  0.        ,\n",
       "          1.78611225,  1.85242287],\n",
       "        [ 0.        ,  1.07193912, -0.50367029,  1.92016201,\n",
       "          0.21529756,  1.59502318,  2.31934029,  0.42497577,\n",
       "          0.31269722,  1.75750906],\n",
       "        [ 0.68071616, -0.50367029,  1.06188303,  1.68245203,\n",
       "         -0.72654564,  3.31609044,  0.70047032,  1.23391116,\n",
       "          0.55243893,  1.10080506],\n",
       "        [-0.05748638,  1.92016201,  1.68245203,  1.13201969,\n",
       "          4.03359096,  0.66731923, -0.58454924,  0.        ,\n",
       "          1.06881747,  0.        ],\n",
       "        [ 0.94732079,  0.21529756, -0.72654564,  4.03359096,\n",
       "          1.16540114,  0.77208652,  1.10715018,  0.        ,\n",
       "         -0.14574355,  0.2445326 ],\n",
       "        [ 0.        ,  1.59502318,  3.31609044,  0.66731923,\n",
       "          0.77208652,  1.0764689 ,  0.20839135, -1.00066514,\n",
       "          1.02100579,  1.43229819],\n",
       "        [ 0.20918433,  2.31934029,  0.70047032, -0.58454924,\n",
       "          1.10715018,  0.20839135,  1.08893884,  0.70411904,\n",
       "          1.22353569,  0.05009731],\n",
       "        [ 0.        ,  0.42497577,  1.23391116,  0.        ,\n",
       "          0.        , -1.00066514,  0.70411904,  1.13477299,\n",
       "          1.93562149,  1.90030308],\n",
       "        [ 1.78611225,  0.31269722,  0.55243893,  1.06881747,\n",
       "         -0.14574355,  1.02100579,  1.22353569,  1.93562149,\n",
       "          1.04415995, -0.8069878 ],\n",
       "        [ 1.85242287,  1.75750906,  1.10080506,  0.        ,\n",
       "          0.2445326 ,  1.43229819,  0.05009731,  1.90030308,\n",
       "         -0.8069878 ,  1.20415507]],\n",
       "\n",
       "       [[ 1.10743819,  0.        ,  0.68071616, -0.05748638,\n",
       "          0.94732079,  0.        ,  0.20918433,  0.        ,\n",
       "          1.78611225,  1.85242287],\n",
       "        [ 0.        ,  1.07193912, -0.50367029,  1.92016201,\n",
       "          0.21529756,  1.59502318,  2.31934029,  0.42497577,\n",
       "          0.31269722,  1.75750906],\n",
       "        [ 0.68071616, -0.50367029,  1.06188303,  1.68245203,\n",
       "         -0.72654564,  3.31609044,  0.70047032,  1.23391116,\n",
       "          0.55243893,  1.10080506],\n",
       "        [-0.05748638,  1.92016201,  1.68245203,  1.13201969,\n",
       "          4.03359096,  0.66731923, -0.58454924,  0.        ,\n",
       "          1.06881747,  0.        ],\n",
       "        [ 0.94732079,  0.21529756, -0.72654564,  4.03359096,\n",
       "          1.16540114,  0.77208652,  1.10715018,  0.        ,\n",
       "         -0.14574355,  0.2445326 ],\n",
       "        [ 0.        ,  1.59502318,  3.31609044,  0.66731923,\n",
       "          0.77208652,  1.0764689 ,  0.20839135, -1.00066514,\n",
       "          1.02100579,  1.43229819],\n",
       "        [ 0.20918433,  2.31934029,  0.70047032, -0.58454924,\n",
       "          1.10715018,  0.20839135,  1.08893884,  0.70411904,\n",
       "          1.22353569,  0.05009731],\n",
       "        [ 0.        ,  0.42497577,  1.23391116,  0.        ,\n",
       "          0.        , -1.00066514,  0.70411904,  1.13477299,\n",
       "          1.93562149,  1.90030308],\n",
       "        [ 1.78611225,  0.31269722,  0.55243893,  1.06881747,\n",
       "         -0.14574355,  1.02100579,  1.22353569,  1.93562149,\n",
       "          1.04415995, -0.8069878 ],\n",
       "        [ 1.85242287,  1.75750906,  1.10080506,  0.        ,\n",
       "          0.2445326 ,  1.43229819,  0.05009731,  1.90030308,\n",
       "         -0.8069878 ,  1.20415507]],\n",
       "\n",
       "       [[ 1.10743819,  0.        ,  0.68071616, -0.05748638,\n",
       "          0.94732079,  0.        ,  0.20918433,  0.        ,\n",
       "          1.78611225,  1.85242287],\n",
       "        [ 0.        ,  1.07193912, -0.50367029,  1.92016201,\n",
       "          0.21529756,  1.59502318,  2.31934029,  0.42497577,\n",
       "          0.31269722,  1.75750906],\n",
       "        [ 0.68071616, -0.50367029,  1.06188303,  1.68245203,\n",
       "         -0.72654564,  3.31609044,  0.70047032,  1.23391116,\n",
       "          0.55243893,  1.10080506],\n",
       "        [-0.05748638,  1.92016201,  1.68245203,  1.13201969,\n",
       "          4.03359096,  0.66731923, -0.58454924,  0.        ,\n",
       "          1.06881747,  0.        ],\n",
       "        [ 0.94732079,  0.21529756, -0.72654564,  4.03359096,\n",
       "          1.16540114,  0.77208652,  1.10715018,  0.        ,\n",
       "         -0.14574355,  0.2445326 ],\n",
       "        [ 0.        ,  1.59502318,  3.31609044,  0.66731923,\n",
       "          0.77208652,  1.0764689 ,  0.20839135, -1.00066514,\n",
       "          1.02100579,  1.43229819],\n",
       "        [ 0.20918433,  2.31934029,  0.70047032, -0.58454924,\n",
       "          1.10715018,  0.20839135,  1.08893884,  0.70411904,\n",
       "          1.22353569,  0.05009731],\n",
       "        [ 0.        ,  0.42497577,  1.23391116,  0.        ,\n",
       "          0.        , -1.00066514,  0.70411904,  1.13477299,\n",
       "          1.93562149,  1.90030308],\n",
       "        [ 1.78611225,  0.31269722,  0.55243893,  1.06881747,\n",
       "         -0.14574355,  1.02100579,  1.22353569,  1.93562149,\n",
       "          1.04415995, -0.8069878 ],\n",
       "        [ 1.85242287,  1.75750906,  1.10080506,  0.        ,\n",
       "          0.2445326 ,  1.43229819,  0.05009731,  1.90030308,\n",
       "         -0.8069878 ,  1.20415507]],\n",
       "\n",
       "       [[ 1.10743819,  0.        ,  0.68071616, -0.05748638,\n",
       "          0.94732079,  0.        ,  0.20918433,  0.        ,\n",
       "          1.78611225,  1.85242287],\n",
       "        [ 0.        ,  1.07193912, -0.50367029,  1.92016201,\n",
       "          0.21529756,  1.59502318,  2.31934029,  0.42497577,\n",
       "          0.31269722,  1.75750906],\n",
       "        [ 0.68071616, -0.50367029,  1.06188303,  1.68245203,\n",
       "         -0.72654564,  3.31609044,  0.70047032,  1.23391116,\n",
       "          0.55243893,  1.10080506],\n",
       "        [-0.05748638,  1.92016201,  1.68245203,  1.13201969,\n",
       "          4.03359096,  0.66731923, -0.58454924,  0.        ,\n",
       "          1.06881747,  0.        ],\n",
       "        [ 0.94732079,  0.21529756, -0.72654564,  4.03359096,\n",
       "          1.16540114,  0.77208652,  1.10715018,  0.        ,\n",
       "         -0.14574355,  0.2445326 ],\n",
       "        [ 0.        ,  1.59502318,  3.31609044,  0.66731923,\n",
       "          0.77208652,  1.0764689 ,  0.20839135, -1.00066514,\n",
       "          1.02100579,  1.43229819],\n",
       "        [ 0.20918433,  2.31934029,  0.70047032, -0.58454924,\n",
       "          1.10715018,  0.20839135,  1.08893884,  0.70411904,\n",
       "          1.22353569,  0.05009731],\n",
       "        [ 0.        ,  0.42497577,  1.23391116,  0.        ,\n",
       "          0.        , -1.00066514,  0.70411904,  1.13477299,\n",
       "          1.93562149,  1.90030308],\n",
       "        [ 1.78611225,  0.31269722,  0.55243893,  1.06881747,\n",
       "         -0.14574355,  1.02100579,  1.22353569,  1.93562149,\n",
       "          1.04415995, -0.8069878 ],\n",
       "        [ 1.85242287,  1.75750906,  1.10080506,  0.        ,\n",
       "          0.2445326 ,  1.43229819,  0.05009731,  1.90030308,\n",
       "         -0.8069878 ,  1.20415507]],\n",
       "\n",
       "       [[ 1.10743819,  0.        ,  0.68071616, -0.05748638,\n",
       "          0.94732079,  0.        ,  0.20918433,  0.        ,\n",
       "          1.78611225,  1.85242287],\n",
       "        [ 0.        ,  1.07193912, -0.50367029,  1.92016201,\n",
       "          0.21529756,  1.59502318,  2.31934029,  0.42497577,\n",
       "          0.31269722,  1.75750906],\n",
       "        [ 0.68071616, -0.50367029,  1.06188303,  1.68245203,\n",
       "         -0.72654564,  3.31609044,  0.70047032,  1.23391116,\n",
       "          0.55243893,  1.10080506],\n",
       "        [-0.05748638,  1.92016201,  1.68245203,  1.13201969,\n",
       "          4.03359096,  0.66731923, -0.58454924,  0.        ,\n",
       "          1.06881747,  0.        ],\n",
       "        [ 0.94732079,  0.21529756, -0.72654564,  4.03359096,\n",
       "          1.16540114,  0.77208652,  1.10715018,  0.        ,\n",
       "         -0.14574355,  0.2445326 ],\n",
       "        [ 0.        ,  1.59502318,  3.31609044,  0.66731923,\n",
       "          0.77208652,  1.0764689 ,  0.20839135, -1.00066514,\n",
       "          1.02100579,  1.43229819],\n",
       "        [ 0.20918433,  2.31934029,  0.70047032, -0.58454924,\n",
       "          1.10715018,  0.20839135,  1.08893884,  0.70411904,\n",
       "          1.22353569,  0.05009731],\n",
       "        [ 0.        ,  0.42497577,  1.23391116,  0.        ,\n",
       "          0.        , -1.00066514,  0.70411904,  1.13477299,\n",
       "          1.93562149,  1.90030308],\n",
       "        [ 1.78611225,  0.31269722,  0.55243893,  1.06881747,\n",
       "         -0.14574355,  1.02100579,  1.22353569,  1.93562149,\n",
       "          1.04415995, -0.8069878 ],\n",
       "        [ 1.85242287,  1.75750906,  1.10080506,  0.        ,\n",
       "          0.2445326 ,  1.43229819,  0.05009731,  1.90030308,\n",
       "         -0.8069878 ,  1.20415507]],\n",
       "\n",
       "       [[ 1.10743819,  0.        ,  0.68071616, -0.05748638,\n",
       "          0.94732079,  0.        ,  0.20918433,  0.        ,\n",
       "          1.78611225,  1.85242287],\n",
       "        [ 0.        ,  1.07193912, -0.50367029,  1.92016201,\n",
       "          0.21529756,  1.59502318,  2.31934029,  0.42497577,\n",
       "          0.31269722,  1.75750906],\n",
       "        [ 0.68071616, -0.50367029,  1.06188303,  1.68245203,\n",
       "         -0.72654564,  3.31609044,  0.70047032,  1.23391116,\n",
       "          0.55243893,  1.10080506],\n",
       "        [-0.05748638,  1.92016201,  1.68245203,  1.13201969,\n",
       "          4.03359096,  0.66731923, -0.58454924,  0.        ,\n",
       "          1.06881747,  0.        ],\n",
       "        [ 0.94732079,  0.21529756, -0.72654564,  4.03359096,\n",
       "          1.16540114,  0.77208652,  1.10715018,  0.        ,\n",
       "         -0.14574355,  0.2445326 ],\n",
       "        [ 0.        ,  1.59502318,  3.31609044,  0.66731923,\n",
       "          0.77208652,  1.0764689 ,  0.20839135, -1.00066514,\n",
       "          1.02100579,  1.43229819],\n",
       "        [ 0.20918433,  2.31934029,  0.70047032, -0.58454924,\n",
       "          1.10715018,  0.20839135,  1.08893884,  0.70411904,\n",
       "          1.22353569,  0.05009731],\n",
       "        [ 0.        ,  0.42497577,  1.23391116,  0.        ,\n",
       "          0.        , -1.00066514,  0.70411904,  1.13477299,\n",
       "          1.93562149,  1.90030308],\n",
       "        [ 1.78611225,  0.31269722,  0.55243893,  1.06881747,\n",
       "         -0.14574355,  1.02100579,  1.22353569,  1.93562149,\n",
       "          1.04415995, -0.8069878 ],\n",
       "        [ 1.85242287,  1.75750906,  1.10080506,  0.        ,\n",
       "          0.2445326 ,  1.43229819,  0.05009731,  1.90030308,\n",
       "         -0.8069878 ,  1.20415507]],\n",
       "\n",
       "       [[ 1.10743819,  0.        ,  0.68071616, -0.05748638,\n",
       "          0.94732079,  0.        ,  0.20918433,  0.        ,\n",
       "          1.78611225,  1.85242287],\n",
       "        [ 0.        ,  1.07193912, -0.50367029,  1.92016201,\n",
       "          0.21529756,  1.59502318,  2.31934029,  0.42497577,\n",
       "          0.31269722,  1.75750906],\n",
       "        [ 0.68071616, -0.50367029,  1.06188303,  1.68245203,\n",
       "         -0.72654564,  3.31609044,  0.70047032,  1.23391116,\n",
       "          0.55243893,  1.10080506],\n",
       "        [-0.05748638,  1.92016201,  1.68245203,  1.13201969,\n",
       "          4.03359096,  0.66731923, -0.58454924,  0.        ,\n",
       "          1.06881747,  0.        ],\n",
       "        [ 0.94732079,  0.21529756, -0.72654564,  4.03359096,\n",
       "          1.16540114,  0.77208652,  1.10715018,  0.        ,\n",
       "         -0.14574355,  0.2445326 ],\n",
       "        [ 0.        ,  1.59502318,  3.31609044,  0.66731923,\n",
       "          0.77208652,  1.0764689 ,  0.20839135, -1.00066514,\n",
       "          1.02100579,  1.43229819],\n",
       "        [ 0.20918433,  2.31934029,  0.70047032, -0.58454924,\n",
       "          1.10715018,  0.20839135,  1.08893884,  0.70411904,\n",
       "          1.22353569,  0.05009731],\n",
       "        [ 0.        ,  0.42497577,  1.23391116,  0.        ,\n",
       "          0.        , -1.00066514,  0.70411904,  1.13477299,\n",
       "          1.93562149,  1.90030308],\n",
       "        [ 1.78611225,  0.31269722,  0.55243893,  1.06881747,\n",
       "         -0.14574355,  1.02100579,  1.22353569,  1.93562149,\n",
       "          1.04415995, -0.8069878 ],\n",
       "        [ 1.85242287,  1.75750906,  1.10080506,  0.        ,\n",
       "          0.2445326 ,  1.43229819,  0.05009731,  1.90030308,\n",
       "         -0.8069878 ,  1.20415507]]])"
      ]
     },
     "execution_count": 18,
     "metadata": {},
     "output_type": "execute_result"
    }
   ],
   "source": [
    "mdl.precision_"
   ]
  },
  {
   "cell_type": "markdown",
   "metadata": {},
   "source": [
    "### GridSearchCV\n",
    "As for the hyper-parameters tuning, one may choose to fix a grid of parameters and select the best ones.\n",
    "For this we can use `GridSearchCV`, from the `scikit-learn` library."
   ]
  },
  {
   "cell_type": "code",
   "execution_count": null,
   "metadata": {
    "scrolled": true
   },
   "outputs": [],
   "source": [
    "# data_grid = np.array(data.data).transpose(1,2,0)\n",
    "param_grid=dict(alpha=np.logspace(-2,0,3), beta=np.logspace(-2,0,3), gamma=np.logspace(-2, 0, 3),\n",
    "               time_norm=[1, 2])\n",
    "\n",
    "mdl = time_graph_lasso_.TimeGraphLassoForwardBackward(\n",
    "    verbose=0, time_on_axis='last')\n",
    "    \n",
    "cv = ShuffleSplit(2, test_size=0.2)\n",
    "ltgl = GridSearchCV(mdl, param_grid, cv=cv, verbose=1)\n",
    "ltgl.fit(data_grid)"
   ]
  }
 ],
 "metadata": {
  "kernelspec": {
   "display_name": "Python 2",
   "language": "python",
   "name": "python2"
  },
  "language_info": {
   "codemirror_mode": {
    "name": "ipython",
    "version": 2
   },
   "file_extension": ".py",
   "mimetype": "text/x-python",
   "name": "python",
   "nbconvert_exporter": "python",
   "pygments_lexer": "ipython2",
   "version": "2.7.14"
  }
 },
 "nbformat": 4,
 "nbformat_minor": 2
}
