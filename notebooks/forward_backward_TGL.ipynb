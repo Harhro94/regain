{
 "cells": [
  {
   "cell_type": "markdown",
   "metadata": {},
   "source": [
    "# Forward-backward splitting for time-varying graphical lasso\n",
    "This notebook shows how to minimise the time-varying graphical lasso with element-wise penalty norms across time-points.\n",
    "\n",
    "First of all, as always, let's create a bunch of data.\n",
    "For this task, we generate eah variable to change according to a certain behaviour which can be described as evolution via tigonometric functions, such as `sin` and `cos`."
   ]
  },
  {
   "cell_type": "code",
   "execution_count": 1,
   "metadata": {},
   "outputs": [],
   "source": [
    "%matplotlib inline\n",
    "import numpy as np\n",
    "import matplotlib.pyplot as plt\n",
    "\n",
    "from scipy.spatial.distance import squareform\n",
    "from regain import datasets, utils\n",
    "\n",
    "from sklearn.datasets import load_iris\n",
    "from sklearn.svm import SVC \n",
    "from sklearn.model_selection import train_test_split\n",
    "from sklearn.model_selection import GridSearchCV, ShuffleSplit\n",
    "\n",
    "from skopt.searchcv import BayesSearchCV\n",
    "from skopt.space import Real, Categorical, Integer"
   ]
  },
  {
   "cell_type": "code",
   "execution_count": 2,
   "metadata": {},
   "outputs": [],
   "source": [
    "# np.random.seed(7)\n",
    "\n",
    "# fs = 10e3\n",
    "# N = 100\n",
    "# amp = 2*np.sqrt(2)\n",
    "# freq = 1.0\n",
    "# noise_power = 0.001 * fs / 2\n",
    "# time = np.arange(N) / fs\n",
    "# z = amp*np.sin(2*np.pi*freq*time)\n",
    "# z += np.random.normal(scale=np.sqrt(noise_power), size=time.shape)\n",
    "# plt.plot(z);"
   ]
  },
  {
   "cell_type": "code",
   "execution_count": 3,
   "metadata": {},
   "outputs": [],
   "source": [
    "# T = 4\n",
    "\n",
    "# x = np.tile(np.linspace(0, T-1, T), (n_interactions, 1))\n",
    "# zz = amp * signal.square(2 * np.pi * freq * x + phase, duty=.5)\n",
    "# plt.plot(x.T, zz.T);"
   ]
  },
  {
   "cell_type": "markdown",
   "metadata": {},
   "source": [
    "Generate the data starting from the inverse covariance matrices."
   ]
  },
  {
   "cell_type": "code",
   "execution_count": 4,
   "metadata": {},
   "outputs": [],
   "source": [
    "from regain.datasets import *"
   ]
  },
  {
   "cell_type": "code",
   "execution_count": 755,
   "metadata": {},
   "outputs": [
    {
     "data": {
      "image/png": "[encoded data removed]",
      "text/plain": [
       "<matplotlib.figure.Figure at 0x7fa21a8e9ad0>"
      ]
     },
     "metadata": {},
     "output_type": "display_data"
    }
   ],
   "source": [
    "def make_sin(n_dim_obs, n_dim_lat, T, shape='smooth', closeness=1,\n",
    "             normalize=False, **kwargs):\n",
    "    upper_idx = np.triu_indices(n_dim_obs, 1)\n",
    "    n_interactions = len(upper_idx[0])\n",
    "    x = np.tile(np.linspace(0, (T-1.) / closeness, T), (n_interactions, 1))\n",
    "    phase = np.random.rand(n_interactions, 1)\n",
    "    freq = np.random.rand(n_interactions, 1) - .250\n",
    "    A = (np.random.rand(n_interactions, 1) + 2) / 2.\n",
    "\n",
    "    if shape == 'smooth':\n",
    "        y = A * np.sin(2. * np.pi * freq * x + phase)\n",
    "    else:\n",
    "        A -= 10\n",
    "        y = A * signal.square(2 * np.pi * freq * x + phase, duty=.5)\n",
    "\n",
    "    # threshold\n",
    "    y = np.maximum(y, 0)\n",
    "#     print y\n",
    "\n",
    "    Y = np.array([squareform(y[:, j]) + np.diag(np.sum(squareform(y[:, j]), axis=1))\n",
    "                  for j in range(y.shape[1])])\n",
    "\n",
    "    Y = np.array([y - np.diag(np.diag(y)) for y in Y])\n",
    "    for y in Y:\n",
    "        np.fill_diagonal(y, y.sum(axis=1)+0.5)\n",
    "        \n",
    "    if normalize:\n",
    "        map(normalize_matrix, Y)  # in place\n",
    "        \n",
    "    # XXX\n",
    "    if shape == 'square':\n",
    "        Y = np.array([Y[4]] * T)\n",
    "    \n",
    "    assert positive_definite(Y), Y\n",
    "    \n",
    "\n",
    "    return Y, Y, np.zeros_like(Y)\n",
    "\n",
    "data = {}\n",
    "np.random.seed(7)\n",
    "# square\n",
    "n_samples = 200\n",
    "n_dim_obs = 200\n",
    "T = 10\n",
    "data['square'] = datasets.make_dataset(n_samples=n_samples, n_dim_obs=n_dim_obs, n_dim_lat=0, T=T,\n",
    "                             time_on_axis='last',\n",
    "                             mode=make_sin, shape='square', closeness=5, normalize=0)\n",
    "\n",
    "# smooth\n",
    "np.random.seed(10)\n",
    "n_samples = 200\n",
    "n_dim_obs = 200\n",
    "T = 10\n",
    "\n",
    "data['smooth'] = datasets.make_dataset(n_samples=n_samples, n_dim_obs=n_dim_obs, n_dim_lat=0, T=T,\n",
    "                             time_on_axis='last',\n",
    "                             mode=make_sin, shape='smooth', closeness=6, normalize=0)\n",
    "\n",
    "# plt.plot(np.array([squareform(y, checks=None)[:10] for y in data['smooth'].thetas]), '-|');\n",
    "plt.step(np.array([squareform(y, checks=None)[10:20] for y in data['square'].thetas]), '-|');"
   ]
  },
  {
   "cell_type": "code",
   "execution_count": 706,
   "metadata": {},
   "outputs": [
    {
     "data": {
      "text/plain": [
       "0.66328"
      ]
     },
     "execution_count": 706,
     "metadata": {},
     "output_type": "execute_result"
    }
   ],
   "source": [
    "(data['square'].thetas == 0).sum() / float(data['square'].thetas.size)"
   ]
  },
  {
   "cell_type": "code",
   "execution_count": 7,
   "metadata": {
    "scrolled": true
   },
   "outputs": [],
   "source": [
    "# np.random.seed(7)\n",
    "\n",
    "# # square\n",
    "# n_samples = 100\n",
    "# n_dim_obs = 20\n",
    "# T = 10\n",
    "\n",
    "# data = {}\n",
    "# data['square'] = datasets.make_dataset(n_samples=n_samples, n_dim_obs=n_dim_obs, n_dim_lat=0, T=T,\n",
    "#                              time_on_axis='last',\n",
    "#                              mode='sin', shape='square', closeness=2.4, normalize=1)\n",
    "\n",
    "# # smooth\n",
    "# n_samples = 100\n",
    "# n_dim_obs = 20\n",
    "# T = 10\n",
    "\n",
    "# data['smooth'] = datasets.make_dataset(n_samples=n_samples, n_dim_obs=n_dim_obs, n_dim_lat=0, T=T,\n",
    "#                              time_on_axis='last',\n",
    "#                              mode='sin', shape='smooth', closeness=2.4, normalize=1)\n",
    "\n",
    "# plt.plot(np.array([squareform(y, checks=None)[:10] for y in data['smooth'].thetas]), '-|');\n",
    "# # plt.savefig(\"/home/fede/Dropbox/Latent variables networks/forward backward time varying graphical lasso/smooth_signal.pdf\")"
   ]
  },
  {
   "cell_type": "markdown",
   "metadata": {},
   "source": [
    "## Performance analysis"
   ]
  },
  {
   "cell_type": "code",
   "execution_count": 8,
   "metadata": {},
   "outputs": [],
   "source": [
    "# tglfb = tglfb.set_params(time_norm=1, alpha=np.array(alphas_)[:,None,None], beta=35).fit(X)"
   ]
  },
  {
   "cell_type": "code",
   "execution_count": 9,
   "metadata": {},
   "outputs": [],
   "source": [
    "import pandas as pd\n",
    "from functools import partial\n",
    "from regain import prox; reload(prox)\n",
    "from regain import utils; reload(utils)\n",
    "from regain import update_rules; reload(update_rules);\n",
    "from regain.covariance import time_graph_lasso_ as tgl_admm; reload(tgl_admm)\n",
    "from regain.forward_backward import time_graph_lasso_; reload(time_graph_lasso_)\n",
    "\n",
    "from sklearn.covariance import GraphLasso, GraphLassoCV\n",
    "import sys; sys.path.append(\"/home/fede/src/TVGL\")\n",
    "import inferGraphL1; reload(inferGraphL1)\n",
    "import inferGraphL2; reload(inferGraphL2)\n",
    "import inferGraphLaplacian; reload(inferGraphLaplacian)\n",
    "import TVGL; reload(TVGL)\n",
    "\n",
    "# use:\n",
    "# beta = 2.1, norm = 1\n",
    "# beta = 5.05, norm = 2\n",
    "# prepare dataframe for results\n",
    "\n",
    "methods = ['TGL-FBS ($\\ell_{12}$)', 'TGL-FBS ($\\ell_1$)',\n",
    "           'TGL-ADMM ($\\ell_2^2$)', 'TGL-ADMM ($\\ell_1$)',\n",
    "#            'GL', 'TVGL ($\\ell_2^2$)', 'TVGL ($\\ell_1$)'\n",
    "          ]\n",
    "\n",
    "scores = sorted(['iter', 'accuracy',  'average_precision',  'balanced_accuracy','f1','false_omission_rate','fdr',\n",
    "                 'fn',  'fp',  'precision',  'prevalence',  'recall',  'specificity',  'tn',  'tp', 'mse',\n",
    "                'time'])\n",
    "evolution = sorted(['square', 'smooth'])\n",
    "\n",
    "rows = methods\n",
    "cols = pd.MultiIndex.from_product([evolution, scores], names=('evolution', 'score'))\n",
    "# rows = pd.MultiIndex.from_product([methods, n_times], names=('method','time'))\n",
    "\n",
    "dff = pd.DataFrame(columns=cols, index=rows)\n",
    "idx = pd.IndexSlice\n",
    "\n",
    "ss = ['f1', 'accuracy', 'average_precision', 'mse', 'iter', 'time']"
   ]
  },
  {
   "cell_type": "code",
   "execution_count": 10,
   "metadata": {},
   "outputs": [],
   "source": [
    "# def run_performance(beta_l1=1, beta_l2=1, alpha_l1=1, alpha_l2=1, evolution='square'):\n",
    "# evolution = 'square'\n",
    "evolution = 'square'\n",
    "max_iter = 5000000"
   ]
  },
  {
   "cell_type": "code",
   "execution_count": 11,
   "metadata": {},
   "outputs": [],
   "source": [
    "from sklearn.covariance import empirical_covariance\n",
    "reload(utils)\n",
    "emp_cov = [empirical_covariance(x, assume_centered=False) for x in data[evolution].data.transpose(2,0,1)]\n",
    "alphas = np.array([utils.alpha_heuristic(e, n_samples) for e in emp_cov])[:, None, None]"
   ]
  },
  {
   "cell_type": "code",
   "execution_count": 12,
   "metadata": {
    "scrolled": true
   },
   "outputs": [],
   "source": [
    "import time\n",
    "from itertools import product\n",
    "# for evolution, max_iter in product(['square', 'smooth'], \n",
    "# [50, 100]):\n",
    "X = data[evolution].data\n",
    "\n",
    "error_function = partial(utils.structure_error,\n",
    "                         data[evolution].thetas,\n",
    "                         no_diagonal=0, thresholding=1, eps=1e-3)\n",
    "\n",
    "if evolution == 'smooth':\n",
    "    alpha = .01\n",
    "    beta = 20\n",
    "    eps = 0.7\n",
    "    delta = 0.7\n",
    "    \n",
    "else:\n",
    "    alpha = .2\n",
    "    beta = 50\n",
    "    eps = 0.7\n",
    "    delta = 0.9"
   ]
  },
  {
   "cell_type": "markdown",
   "metadata": {},
   "source": [
    "Find the minimum with the function below ... first generate the plot!\n",
    "And then, the minimum should be in a `mm` variable."
   ]
  },
  {
   "cell_type": "code",
   "execution_count": null,
   "metadata": {},
   "outputs": [],
   "source": [
    "tglfb = time_graph_lasso_.TimeGraphLassoForwardBackward(\n",
    "    verbose=0, gamma=1, alpha=alpha, beta=beta,\n",
    "    return_n_linesearch=True, return_history=True,\n",
    "    delta=delta, choose='lamda',\n",
    "    lamda=1, tol=1e-4, eps=eps, debug=1, vareps=0,\n",
    "    time_norm=1, max_iter=5000000, time_on_axis='last',\n",
    "    stop_at=mm, stop_when=1e-2)\n",
    "\n",
    "tic = time.time()\n",
    "tglfb.fit(X)\n",
    "toc = time.time()\n",
    "res = error_function(tglfb.precision_)\n",
    "\n",
    "res['time'] = toc - tic\n",
    "res['iter'] = \"%d (%d)\" % (tglfb.n_iter_, tglfb.n_linesearch_)\n",
    "res['mse'] = utils.error_norm(data[evolution].thetas, \n",
    "                              tglfb.precision_,\n",
    "                              upper_triangular=True)\n",
    "dff.loc['TGL-FBS lamda ($\\ell_1$)', idx[evolution, :]] = [\n",
    "    res[x] for x in scores]"
   ]
  },
  {
   "cell_type": "code",
   "execution_count": null,
   "metadata": {
    "scrolled": true
   },
   "outputs": [],
   "source": [
    "tglfb2 = time_graph_lasso_.TimeGraphLassoForwardBackward(\n",
    "    verbose=0, gamma=1, alpha=alpha, beta=beta,\n",
    "    return_n_linesearch=True, return_history=True,\n",
    "    delta=delta, choose='both',\n",
    "    lamda=1, tol=1e-4, eps=eps, debug=1, vareps=0,\n",
    "    time_norm=1, max_iter=max_iter, time_on_axis='last',\n",
    "    stop_at=mm, stop_when=1e-2)\n",
    "\n",
    "tic = time.time()\n",
    "tglfb2.fit(X)\n",
    "toc = time.time()\n",
    "res = error_function(tglfb2.precision_)\n",
    "\n",
    "res['time'] = toc - tic\n",
    "res['iter'] = \"%d (%d)\" % (tglfb2.n_iter_, tglfb2.n_linesearch_)\n",
    "res['mse'] = utils.error_norm(data[evolution].thetas, \n",
    "                              tglfb2.precision_,\n",
    "                              upper_triangular=True)\n",
    "dff.loc['TGL-FBS both ($\\ell_1$)', idx[evolution, :]] = [\n",
    "    res[x] for x in scores]\n",
    "\n",
    "\n",
    "tglfb3 = time_graph_lasso_.TimeGraphLassoForwardBackward(\n",
    "    verbose=0, gamma=1, alpha=alpha, beta=beta,\n",
    "    return_n_linesearch=True, return_history=True,\n",
    "    delta=delta, choose='gamma',\n",
    "    lamda=1, tol=1e-4, eps=eps, debug=1, vareps=0,\n",
    "    time_norm=1, max_iter=max_iter, time_on_axis='last',\n",
    "    stop_at=mm, stop_when=1e-2)\n",
    "\n",
    "tic = time.time()\n",
    "tglfb3.fit(X)\n",
    "toc = time.time()\n",
    "res = error_function(tglfb3.precision_)\n",
    "\n",
    "res['time'] = toc - tic\n",
    "res['iter'] = \"%d (%d)\" % (tglfb3.n_iter_, tglfb3.n_linesearch_)\n",
    "res['mse'] = utils.error_norm(data[evolution].thetas, \n",
    "                              tglfb3.precision_,\n",
    "                              upper_triangular=True)\n",
    "dff.loc['TGL-FBS gamma ($\\ell_1$)', idx[evolution, :]] = [\n",
    "    res[x] for x in scores]"
   ]
  },
  {
   "cell_type": "code",
   "execution_count": null,
   "metadata": {
    "scrolled": true
   },
   "outputs": [],
   "source": [
    "tglfb_admm_square = tgl_admm.TimeGraphLasso(\n",
    "    verbose=0, alpha=alpha, beta=beta, tol=-1e-5, rtol=1e-5, return_history=True,\n",
    "    psi='l1', max_iter=max_iter, time_on_axis='last',\n",
    "    stop_at=mm, stop_when=1e-2)\n",
    "tic = time.time()\n",
    "tglfb_admm_square.fit(X)\n",
    "toc = time.time()\n",
    "\n",
    "res = error_function(tglfb_admm_square.precision_)\n",
    "res['time'] = toc - tic\n",
    "res['iter'] = tglfb_admm_square.n_iter_\n",
    "res['mse'] = utils.error_norm(data[evolution].thetas, tglfb_admm_square.precision_,\n",
    "                              upper_triangular=True)\n",
    "dff.loc['TGL-ADMM ($\\ell_1$)', idx[evolution, :]] = [res[x] for x in scores]"
   ]
  },
  {
   "cell_type": "code",
   "execution_count": null,
   "metadata": {},
   "outputs": [],
   "source": [
    "plt.plot([x.obj for x in tglfb.history_], label='TGL-FBS - choice lambda')\n",
    "plt.plot([x.obj for x in tglfb2.history_], label='TGL-FBS - choice both')\n",
    "# plt.plot([x.obj for x in tglfb3.history_], label='TGL-FBS - choice gamma')\n",
    "plt.plot([x.obj for x in tglfb_admm_square.history_], label='TGL-ADMM $\\ell_1$')\n",
    "\n",
    "plt.ylim([-1e7, 2e7])\n",
    "plt.legend()"
   ]
  },
  {
   "cell_type": "code",
   "execution_count": null,
   "metadata": {
    "scrolled": false
   },
   "outputs": [],
   "source": [
    "dff[evolution]"
   ]
  },
  {
   "cell_type": "code",
   "execution_count": null,
   "metadata": {},
   "outputs": [],
   "source": [
    "mm = np.min([np.min([c.obj for c in tglfb.history_]),\n",
    "                 np.min([c.obj for c in tglfb2.history_]),\n",
    "                 np.min([c.obj for c in tglfb_admm_square.history_])])\n",
    "mm\n",
    "\n",
    "f = plt.figure(figsize=(10,3))\n",
    "# plt.title(\"Objective function with %s evolution\" % evolution)\n",
    "# plot = plt.plot \n",
    "plot = plt.loglog\n",
    "plot([abs(x.obj - mm) / abs(mm) for x in tglfb.history_], label='TGL-FBS choice lambda')\n",
    "plot([abs(x.obj - mm) / abs(mm) for x in tglfb2.history_], label='TGL-FBS choice both')\n",
    "plot([abs(x.obj - mm) / abs(mm) for x in tglfb_admm_square.history_], label='TGL-ADMM $\\ell_1$')\n",
    "\n",
    "plt.legend()\n",
    "# plt.ylim([1e-10, 100]);\n",
    "# plt.xlim([0, 50]);\n",
    "\n",
    "plt.xlabel(\"Iteration\")\n",
    "plt.ylabel(\"Objective (relative)\");"
   ]
  },
  {
   "cell_type": "code",
   "execution_count": null,
   "metadata": {
    "scrolled": true
   },
   "outputs": [],
   "source": [
    "tic = time.time()\n",
    "tglfb_square = tglfb.set_params(time_norm=2, beta=beta).fit(X)\n",
    "toc = time.time()\n",
    "\n",
    "res = error_function(tglfb_square.precision_)\n",
    "res['time'] = toc - tic\n",
    "res['iter'] = \"%d (%d)\" % (tglfb_square.n_iter_, tglfb_square.n_linesearch_)\n",
    "res['mse'] = utils.error_norm(data[evolution].thetas, tglfb_square.precision_,\n",
    "                              upper_triangular=True)\n",
    "dff.loc['TGL-FBS ($\\ell_{12}$)', idx[evolution, :]] = [res[x] for x in scores]"
   ]
  },
  {
   "cell_type": "code",
   "execution_count": null,
   "metadata": {},
   "outputs": [],
   "source": [
    "tic = time.time()\n",
    "tglfb_admm = tglfb_admm_square.set_params(psi='laplacian').fit(X)\n",
    "toc = time.time()\n",
    "res = error_function(tglfb_admm.precision_)\n",
    "res['time'] = toc - tic\n",
    "res['iter'] = tglfb_admm.n_iter_\n",
    "res['mse'] = utils.error_norm(data[evolution].thetas, tglfb_admm.precision_,\n",
    "                              upper_triangular=True)\n",
    "dff.loc['TGL-ADMM ($\\ell_2^2$)', idx[evolution, :]] = [res[x] for x in scores]"
   ]
  },
  {
   "cell_type": "code",
   "execution_count": null,
   "metadata": {},
   "outputs": [],
   "source": [
    "tic = time.time()\n",
    "gls = [GraphLasso(alpha=.3 / X.shape[0], tol=-1, max_iter=max_iter) for i in range(X.shape[2])]\n",
    "#     gl = GraphLassoCV(alphas=list(np.logspace(-1, 0, 100)))\n",
    "# precision_gl = np.array([gl.set_params(alpha=a).fit(x).precision_.copy() for x,a \n",
    "#                          in zip(X.transpose(2,0,1), alphas_)])\n",
    "precision_gl = np.array([gl.fit(x).precision_.copy() for x, gl in zip(X.transpose(2,0,1), gls)])"
   ]
  },
  {
   "cell_type": "code",
   "execution_count": null,
   "metadata": {},
   "outputs": [],
   "source": [
    "toc = time.time()\n",
    "res = error_function(precision_gl)\n",
    "res['time'] = toc - tic\n",
    "res['iter'] = max(gl.n_iter_ for gl in gls)\n",
    "res['mse'] = utils.error_norm(data[evolution].thetas, precision_gl,\n",
    "                              upper_triangular=True)\n",
    "dff.loc['GL', idx[evolution, :]] = [res[x] for x in scores]\n",
    "\n",
    "tic = time.time()\n",
    "thetaSet, empCovSet, status, gvx = TVGL.TVGL(\n",
    "    np.vstack(X.transpose(2,0,1)), X.shape[0],\n",
    "    lamb=.3 / X.shape[0], beta=beta, indexOfPenalty=1, verbose=False,\n",
    "    max_iter=max_iter)\n",
    "toc = time.time()\n",
    "res = error_function(np.array(thetaSet))\n",
    "res['time'] = toc - tic\n",
    "res['iter'] = gvx.n_iter_\n",
    "res['mse'] = utils.error_norm(data[evolution].thetas, np.array(thetaSet),\n",
    "                              upper_triangular=True)\n",
    "dff.loc['TVGL ($\\ell_1$)', idx[evolution, :]] = [res[x] for x in scores]\n",
    "\n",
    "tic = time.time()\n",
    "thetaSet, empCovSet, status, gvx = TVGL.TVGL(\n",
    "    np.vstack(X.transpose(2,0,1)), X.shape[0],\n",
    "    lamb=.3 / X.shape[0], beta=beta, indexOfPenalty=3, verbose=False,\n",
    "    max_iter=max_iter)\n",
    "toc = time.time()\n",
    "\n",
    "res = error_function(np.array(thetaSet))\n",
    "res['time'] = toc - tic\n",
    "res['iter'] = gvx.n_iter_\n",
    "res['mse'] = utils.error_norm(data[evolution].thetas, np.array(thetaSet),\n",
    "                              upper_triangular=True)\n",
    "dff.loc['TVGL ($\\ell_2^2$)', idx[evolution, :]] = [res[x] for x in scores]\n",
    "\n",
    "    "
   ]
  },
  {
   "cell_type": "code",
   "execution_count": null,
   "metadata": {},
   "outputs": [],
   "source": [
    "dff[evolution][ss].to_latex(\"{}_3105_{}_iter.tex\".format(evolution, max_iter),\n",
    "                                float_format=lambda x: '%.3f'%x, escape=False)"
   ]
  },
  {
   "cell_type": "code",
   "execution_count": null,
   "metadata": {},
   "outputs": [],
   "source": [
    "dff['square'][ss].to_latex(\"square_3105_100_iter.tex\", float_format=lambda x: '%.3f'%x, escape=False)"
   ]
  },
  {
   "cell_type": "code",
   "execution_count": null,
   "metadata": {},
   "outputs": [],
   "source": [
    "dff['smooth'][ss].to_latex(\"smooth_3105_50_iter.tex\", float_format=lambda x: '%.3f'%x, escape=False)"
   ]
  },
  {
   "cell_type": "markdown",
   "metadata": {},
   "source": [
    "## Convergence\n",
    "We ran all of the algorithms for a fixed number of iterations, in particular 50.\n",
    "Here, we show how the forward-backward splitting procedure is able to reach a very fast convergence in a very small number of iterations."
   ]
  },
  {
   "cell_type": "code",
   "execution_count": 462,
   "metadata": {},
   "outputs": [],
   "source": [
    "reload(prox)\n",
    "reload(utils)\n",
    "reload(tgl_admm)\n",
    "reload(time_graph_lasso_);\n",
    "reload(time_graph_lasso_laplacian);\n",
    "\n",
    "from itertools import product"
   ]
  },
  {
   "cell_type": "code",
   "execution_count": null,
   "metadata": {
    "scrolled": true
   },
   "outputs": [],
   "source": [
    "f = plt.figure(figsize=(10,3))\n",
    "plt.title(\"Objective function with %s evolution\" % evolution)\n",
    "plt.plot([x.obj for x in tglfb_square.history_], label='TGL-FBS $\\ell_1$')\n",
    "plt.plot([x.obj for x in tglfb_admm_square.history_], label='TGL-ADMM $\\ell_1$')\n",
    "\n",
    "plt.legend()\n",
    "# plt.ylim([1e-10, 100]);\n",
    "plt.xlim([0, 50]);\n",
    "\n",
    "plt.xlabel(\"Iteration\")\n",
    "plt.ylabel(\"Objective values\");"
   ]
  },
  {
   "cell_type": "code",
   "execution_count": null,
   "metadata": {},
   "outputs": [],
   "source": [
    "mm = min(np.min([c.obj for c in tglfb_square.history_]), np.min([c.obj for c in tglfb_admm_square.history_]))\n",
    "mm\n",
    "\n",
    "f = plt.figure(figsize=(10,3))\n",
    "# plt.title(\"Objective function with %s evolution\" % evolution)\n",
    "# plot = plt.plot \n",
    "plot = plt.semilogy\n",
    "plot([abs((x.obj - mm) / mm) for x in tglfb_square.history_], label='TGL-FBS $\\ell_1$')\n",
    "plot([abs((x.obj - mm) / mm) for x in tglfb_admm_square.history_], label='TGL-ADMM $\\ell_1$')\n",
    "\n",
    "plt.legend()\n",
    "# plt.ylim([1e-10, 100]);\n",
    "plt.xlim([0, 50]);\n",
    "\n",
    "plt.xlabel(\"Iteration\")\n",
    "plt.ylabel(\"Objective (relative)\");"
   ]
  },
  {
   "cell_type": "code",
   "execution_count": 739,
   "metadata": {},
   "outputs": [],
   "source": [
    "from itertools import product\n",
    "\n",
    "def mapping(k):\n",
    "    if 'both' in k:\n",
    "        return \"FBS-LS($\\gamma$, $\\lambda$)\"\n",
    "    if 'lamda' in k:\n",
    "        return \"FBS-LS($\\lambda$)\"\n",
    "    if 'gamma' in k:\n",
    "        return \"FBS-LS($\\gamma$)\"\n",
    "    if 'admm' in k:\n",
    "        return \"ADMM\"\n",
    "\n",
    "def plotting(A, mm, relative=True, seaborn=False):\n",
    "    if relative:\n",
    "        A = np.abs(A - mm) / np.abs(mm)\n",
    "    if seaborn:\n",
    "        return A\n",
    "    return A.mean(axis=0), A.std(axis=0)"
   ]
  },
  {
   "cell_type": "code",
   "execution_count": 731,
   "metadata": {},
   "outputs": [],
   "source": [
    "evolution = 'square';\n",
    "X = data[evolution].data\n",
    "\n",
    "error_function = partial(utils.structure_error, data[evolution].thetas,\n",
    "                         no_diagonal=0, thresholding=1, eps=1e-4)\n",
    "mse_error = partial(utils.error_norm, data[evolution].thetas, upper_triangular=True)\n",
    "max_iter = 500\n",
    "\n",
    "params = [(0.5623413251903491, 10.0),\n",
    " (1.0, 0.05623413251903491),\n",
    " (0.5623413251903491, 0.05623413251903491),\n",
    " (0.1778279410038923, 10.0),\n",
    " (0.1778279410038923, 1.7782794100389228)]\n",
    "\n",
    "params_smooth = list(product([0.1, 0.5, 1], [0.01, 0.1]))\n",
    "params_square = list(product([0.1, 0.5, 1], [0.1, 5]))\n",
    "# params_square = list(product([0.1], [5]))\n",
    "\n",
    "# [(0.5623413251903491, 10.0),\n",
    "#  (1.0, 0.05623413251903491),\n",
    "#  (0.5623413251903491, 0.05623413251903491),\n",
    "#  (0.1778279410038923, 10.0),\n",
    "#  (0.1778279410038923, 1.7782794100389228)]\n",
    "\n",
    "# params = product(np.logspace(-1,0, 5), np.logspace(-2,1, 5))"
   ]
  },
  {
   "cell_type": "code",
   "execution_count": 732,
   "metadata": {},
   "outputs": [],
   "source": [
    "delta = 0.9\n",
    "mdls = {\n",
    "    'fbs-both l1': time_graph_lasso_.TimeGraphLassoForwardBackward(\n",
    "        verbose=0, gamma=1, delta=delta, choose='both',\n",
    "        lamda=1, tol=1e-4, eps=eps, debug=1, vareps=0,\n",
    "        time_norm=1, max_iter=max_iter, time_on_axis='last'),\n",
    "\n",
    "    'fbs-gamma l1': time_graph_lasso_.TimeGraphLassoForwardBackward(\n",
    "        verbose=0, gamma=1, delta=delta, choose='gamma',\n",
    "        lamda=1, tol=1e-4, eps=eps, debug=1, vareps=0,\n",
    "        time_norm=1, max_iter=max_iter, time_on_axis='last'),\n",
    "\n",
    "    'admm l1': tgl_admm.TimeGraphLasso(\n",
    "        verbose=0, tol=-1e-5, rtol=1e-5, return_history=0,\n",
    "        psi='l1', max_iter=max_iter, time_on_axis='last'),\n",
    "        \n",
    "#     'fbs-both l2': time_graph_lasso_laplacian.TimeGraphLassoForwardBackward(\n",
    "#         verbose=0, gamma=.2, delta=delta, choose='both',\n",
    "#         lamda=1, tol=1e-4, eps=0.9, debug=1, vareps=0,\n",
    "#         time_norm=1, max_iter=max_iter, time_on_axis='last'),\n",
    "\n",
    "#     'fbs-gamma l2': time_graph_lasso_laplacian.TimeGraphLassoForwardBackward(\n",
    "#         verbose=0, gamma=.2, delta=delta, choose='gamma',\n",
    "#         lamda=1, tol=1e-4, eps=0.9, debug=1, vareps=0,\n",
    "#         time_norm=1, max_iter=max_iter, time_on_axis='last'),\n",
    "\n",
    "#     'admm l2': tgl_admm.TimeGraphLasso(\n",
    "#         verbose=0, tol=-1e-5, rtol=1e-5, return_history=0,\n",
    "#         psi='laplacian', max_iter=max_iter, time_on_axis='last')\n",
    "    }"
   ]
  },
  {
   "cell_type": "code",
   "execution_count": 733,
   "metadata": {},
   "outputs": [],
   "source": [
    "import seaborn as sns"
   ]
  },
  {
   "cell_type": "code",
   "execution_count": 734,
   "metadata": {
    "scrolled": true
   },
   "outputs": [
    {
     "name": "stdout",
     "output_type": "stream",
     "text": [
      "0.1 0.1\n",
      "0.1 5\n",
      "0.5 0.1\n",
      "0.5 5\n",
      "1 0.1\n",
      "1 5\n",
      "0.1 0.1\n",
      "0.1 5\n",
      "0.5 0.1\n",
      "0.5 5\n",
      "1 0.1\n",
      "1 5\n",
      "0.1 0.1\n",
      "0.1 5\n",
      "0.5 0.1\n",
      "0.5 5\n",
      "1 0.1\n",
      "1 5\n"
     ]
    }
   ],
   "source": [
    "results_square2 = {}\n",
    "mse_square = {}\n",
    "for k in mdls:\n",
    "    for alpha, beta in params_square:\n",
    "        print alpha, beta\n",
    "        mdls[k].set_params(return_history=True, alpha=alpha, beta=beta).fit(X)\n",
    "        results_square2.setdefault(k, []).append([x.obj for x in mdls[k].history_])\n",
    "        mse_square.setdefault(k, []).append(mse_error(comp_cov=mdls[k].precision_))\n",
    "#         break\n",
    "results_square2 = {k: np.array(v) for k, v in results_square2.iteritems()}"
   ]
  },
  {
   "cell_type": "code",
   "execution_count": 774,
   "metadata": {},
   "outputs": [],
   "source": [
    "%store -r results_square"
   ]
  },
  {
   "cell_type": "code",
   "execution_count": 686,
   "metadata": {},
   "outputs": [],
   "source": [
    "# utils.save_pickle(results_square, \"results_square_0306.pkl\")"
   ]
  },
  {
   "cell_type": "code",
   "execution_count": 780,
   "metadata": {},
   "outputs": [],
   "source": [
    "mm = np.minimum.reduce([xx.min(axis=1) for xx in results_smooth.itervalues()])[:, None]"
   ]
  },
  {
   "cell_type": "code",
   "execution_count": 782,
   "metadata": {},
   "outputs": [
    {
     "data": {
      "image/png": "[encoded data removed]",
      "text/plain": [
       "<matplotlib.figure.Figure at 0x7fa21ab99f50>"
      ]
     },
     "metadata": {},
     "output_type": "display_data"
    }
   ],
   "source": [
    "f = plt.figure(figsize=(10,3))\n",
    "ax = plt.subplot(111)\n",
    "# ax.set_xscale(\"log\", nonposx='clip')\n",
    "ax.set_yscale(\"log\", nonposy='clip')\n",
    "\n",
    "colors = (\"C%d\"%x for x in [1,2,0])\n",
    "\n",
    "for k in sorted(results_smooth.keys())[::-1]: #, key=lambda x: 0 if 'admm' in x else (1 if 'gamma' in x else 2)):\n",
    "    v = results_smooth[k]\n",
    "#     if 'gamma' in k:\n",
    "#         continue\n",
    "#     gg_mean, gg_std = plotting(v[2:], mm[2:])\n",
    "#     plt.errorbar(range(gg_mean.size), gg_mean, yerr=gg_std, errorevery=2, lolims=1, label=mapping(k))\n",
    "#     sns.tsplot(data=plotting(v[results_square['fbs-gamma l1'].min(axis=1) < 0 ],\n",
    "#                              mm[results_square['fbs-gamma l1'].min(axis=1) < 0 ], seaborn=True), ci=100, ax=ax, color=next(colors), err_style=\"unit_traces\",\n",
    "#               legend=True, condition=mapping(k))\n",
    "    sns.tsplot(data=plotting(v, mm, seaborn=True), ci=100, ax=ax, color=next(colors), err_style=\"unit_traces\",\n",
    "              legend=True, condition=mapping(k))\n",
    "    \n",
    "plt.xlabel(\"Iteration\")\n",
    "plt.ylabel(\"Objective (relative)\");\n",
    "plt.xlim([0, 100])\n",
    "plt.ylim([1e-3, None])\n",
    "plt.legend(loc='upper right');"
   ]
  },
  {
   "cell_type": "code",
   "execution_count": 784,
   "metadata": {},
   "outputs": [],
   "source": [
    "f.savefig(\"convergence_100_smooth_0306_d.pdf\", dpi=600, bbox_inches='tight')"
   ]
  },
  {
   "cell_type": "code",
   "execution_count": 511,
   "metadata": {},
   "outputs": [
    {
     "data": {
      "text/plain": [
       "<module 'regain.forward_backward.time_graph_lasso_laplacian' from '/home/fede/src/slipguru/regain/regain/forward_backward/time_graph_lasso_laplacian.pyc'>"
      ]
     },
     "execution_count": 511,
     "metadata": {},
     "output_type": "execute_result"
    }
   ],
   "source": [
    "from regain.forward_backward import time_graph_lasso_laplacian; reload(time_graph_lasso_laplacian)"
   ]
  },
  {
   "cell_type": "code",
   "execution_count": 619,
   "metadata": {},
   "outputs": [],
   "source": [
    "minimums = {(alpha, beta): mm[i][0] for i, (alpha, beta) in enumerate(params_square)}"
   ]
  },
  {
   "cell_type": "code",
   "execution_count": 620,
   "metadata": {},
   "outputs": [
    {
     "data": {
      "text/plain": [
       "{(0.1, 0.1): -2192673.154871444,\n",
       " (0.1, 5): -2192668.35845531,\n",
       " (0.5, 0.1): -2192673.154871444,\n",
       " (0.5, 5): -2192668.3584553106,\n",
       " (1, 0.1): -2192673.154871444,\n",
       " (1, 5): -2192668.358455311}"
      ]
     },
     "execution_count": 620,
     "metadata": {},
     "output_type": "execute_result"
    }
   ],
   "source": [
    "minimums"
   ]
  },
  {
   "cell_type": "code",
   "execution_count": 621,
   "metadata": {},
   "outputs": [],
   "source": [
    "max_iter = 50000\n",
    "precisions = [1e-1, 1e-2, 1e-3]\n",
    "# precisions = [1e-3]\n",
    "\n",
    "methods = sorted(mdls.keys())\n",
    "precisions = sorted(precisions)\n",
    "scores = sorted(['t mean', 't std', 'iter'])\n",
    "\n",
    "rows = methods\n",
    "cols = pd.MultiIndex.from_product([precisions, scores], names=('precisions', 'score'))\n",
    "\n",
    "dff = pd.DataFrame(columns=cols, index=rows)\n",
    "idx = pd.IndexSlice"
   ]
  },
  {
   "cell_type": "code",
   "execution_count": 622,
   "metadata": {
    "scrolled": true
   },
   "outputs": [
    {
     "name": "stdout",
     "output_type": "stream",
     "text": [
      "(0.1, 0.1, 'fbs-gamma l1', 0.001)\n",
      "[26]\n",
      "(0.1, 5, 'fbs-gamma l1', 0.001)\n",
      "[26, 29]\n",
      "(0.5, 0.1, 'fbs-gamma l1', 0.001)\n",
      "[26, 29, 26]\n",
      "(0.5, 5, 'fbs-gamma l1', 0.001)\n",
      "[26, 29, 26, 27]\n",
      "(1, 0.1, 'fbs-gamma l1', 0.001)\n",
      "[26, 29, 26, 27, 26]\n",
      "(1, 5, 'fbs-gamma l1', 0.001)\n",
      "[26, 29, 26, 27, 26, 26]\n",
      "(0.1, 0.1, 'fbs-both l1', 0.001)\n",
      "[26]\n",
      "(0.1, 5, 'fbs-both l1', 0.001)\n",
      "[26, 29]\n",
      "(0.5, 0.1, 'fbs-both l1', 0.001)\n",
      "[26, 29, 26]\n",
      "(0.5, 5, 'fbs-both l1', 0.001)\n",
      "[26, 29, 26, 27]\n",
      "(1, 0.1, 'fbs-both l1', 0.001)\n",
      "[26, 29, 26, 27, 26]\n",
      "(1, 5, 'fbs-both l1', 0.001)\n",
      "[26, 29, 26, 27, 26, 26]\n",
      "(0.1, 0.1, 'admm l1', 0.001)\n",
      "[5000]\n",
      "(0.1, 5, 'admm l1', 0.001)\n",
      "[5000, 5000]\n",
      "(0.5, 0.1, 'admm l1', 0.001)\n",
      "[5000, 5000, 5000]\n",
      "(0.5, 5, 'admm l1', 0.001)\n",
      "[5000, 5000, 5000, 5000]\n",
      "(1, 0.1, 'admm l1', 0.001)\n",
      "[5000, 5000, 5000, 5000, 5000]\n",
      "(1, 5, 'admm l1', 0.001)\n",
      "[5000, 5000, 5000, 5000, 5000, 877]\n",
      "(0.1, 0.1, 'fbs-gamma l1', 0.01)\n",
      "[24]\n",
      "(0.1, 5, 'fbs-gamma l1', 0.01)\n",
      "[24, 27]\n",
      "(0.5, 0.1, 'fbs-gamma l1', 0.01)\n",
      "[24, 27, 24]\n",
      "(0.5, 5, 'fbs-gamma l1', 0.01)\n",
      "[24, 27, 24, 25]\n",
      "(1, 0.1, 'fbs-gamma l1', 0.01)\n",
      "[24, 27, 24, 25, 24]\n",
      "(1, 5, 'fbs-gamma l1', 0.01)\n",
      "[24, 27, 24, 25, 24, 24]\n",
      "(0.1, 0.1, 'fbs-both l1', 0.01)\n",
      "[24]\n",
      "(0.1, 5, 'fbs-both l1', 0.01)\n",
      "[24, 27]\n",
      "(0.5, 0.1, 'fbs-both l1', 0.01)\n",
      "[24, 27, 24]\n",
      "(0.5, 5, 'fbs-both l1', 0.01)\n",
      "[24, 27, 24, 25]\n",
      "(1, 0.1, 'fbs-both l1', 0.01)\n",
      "[24, 27, 24, 25, 24]\n",
      "(1, 5, 'fbs-both l1', 0.01)\n",
      "[24, 27, 24, 25, 24, 24]\n",
      "(0.1, 0.1, 'admm l1', 0.01)\n",
      "[1914]\n",
      "(0.1, 5, 'admm l1', 0.01)\n",
      "[1914, 2200]\n",
      "(0.5, 0.1, 'admm l1', 0.01)\n",
      "[1914, 2200, 5000]\n",
      "(0.5, 5, 'admm l1', 0.01)\n",
      "[1914, 2200, 5000, 857]\n",
      "(1, 0.1, 'admm l1', 0.01)\n",
      "[1914, 2200, 5000, 857, 5000]\n",
      "(1, 5, 'admm l1', 0.01)\n",
      "[1914, 2200, 5000, 857, 5000, 772]\n",
      "(0.1, 0.1, 'fbs-gamma l1', 0.1)\n",
      "[22]\n",
      "(0.1, 5, 'fbs-gamma l1', 0.1)\n",
      "[22, 25]\n",
      "(0.5, 0.1, 'fbs-gamma l1', 0.1)\n",
      "[22, 25, 22]\n",
      "(0.5, 5, 'fbs-gamma l1', 0.1)\n",
      "[22, 25, 22, 23]\n",
      "(1, 0.1, 'fbs-gamma l1', 0.1)\n",
      "[22, 25, 22, 23, 22]\n",
      "(1, 5, 'fbs-gamma l1', 0.1)\n",
      "[22, 25, 22, 23, 22, 22]\n",
      "(0.1, 0.1, 'fbs-both l1', 0.1)\n",
      "[22]\n",
      "(0.1, 5, 'fbs-both l1', 0.1)\n",
      "[22, 25]\n",
      "(0.5, 0.1, 'fbs-both l1', 0.1)\n",
      "[22, 25, 22]\n",
      "(0.5, 5, 'fbs-both l1', 0.1)\n",
      "[22, 25, 22, 23]\n",
      "(1, 0.1, 'fbs-both l1', 0.1)\n",
      "[22, 25, 22, 23, 22]\n",
      "(1, 5, 'fbs-both l1', 0.1)\n",
      "[22, 25, 22, 23, 22, 22]\n",
      "(0.1, 0.1, 'admm l1', 0.1)\n",
      "[1453]\n",
      "(0.1, 5, 'admm l1', 0.1)\n",
      "[1453, 2119]\n",
      "(0.5, 0.1, 'admm l1', 0.1)\n",
      "[1453, 2119, 583]\n",
      "(0.5, 5, 'admm l1', 0.1)\n",
      "[1453, 2119, 583, 830]\n",
      "(1, 0.1, 'admm l1', 0.1)\n",
      "[1453, 2119, 583, 830, 644]\n",
      "(1, 5, 'admm l1', 0.1)\n",
      "[1453, 2119, 583, 830, 644, 734]\n"
     ]
    }
   ],
   "source": [
    "max_iter = 5000\n",
    "for precisione, k in product(precisions, mdls):\n",
    "    tt, ii = [], []\n",
    "#     if not 'admm' in k or precisione!=1e-2:\n",
    "#         continue\n",
    "    for alpha, beta in params_square:\n",
    "        print(alpha, beta, k, precisione)\n",
    "        tic = time.time()\n",
    "        mdls[k].set_params(alpha=alpha, beta=beta, max_iter=max_iter,\n",
    "                           stop_at=minimums[(alpha, beta)],\n",
    "                           stop_when=precisione).fit(X)\n",
    "        toc = time.time()\n",
    "        tt.append(toc-tic)\n",
    "        ii.append(mdls[k].n_iter_)\n",
    "        print ii\n",
    "        \n",
    "#         break\n",
    "\n",
    "    res = {\n",
    "        't mean': np.mean(tt),\n",
    "        't std': np.std(tt),\n",
    "        'iter': \"%d (%d)\" % (np.mean(ii), np.std(ii))\n",
    "    }\n",
    "    \n",
    "    dff.loc[k, idx[precisione, :]] = [res[x] for x in scores]"
   ]
  },
  {
   "cell_type": "code",
   "execution_count": 624,
   "metadata": {
    "scrolled": true
   },
   "outputs": [
    {
     "data": {
      "text/html": [
       "<div>\n",
       "<style scoped>\n",
       "    .dataframe tbody tr th:only-of-type {\n",
       "        vertical-align: middle;\n",
       "    }\n",
       "\n",
       "    .dataframe tbody tr th {\n",
       "        vertical-align: top;\n",
       "    }\n",
       "\n",
       "    .dataframe thead tr th {\n",
       "        text-align: left;\n",
       "    }\n",
       "</style>\n",
       "<table border=\"1\" class=\"dataframe\">\n",
       "  <thead>\n",
       "    <tr>\n",
       "      <th>precisions</th>\n",
       "      <th colspan=\"3\" halign=\"left\">0.001</th>\n",
       "      <th colspan=\"3\" halign=\"left\">0.010</th>\n",
       "      <th colspan=\"3\" halign=\"left\">0.100</th>\n",
       "    </tr>\n",
       "    <tr>\n",
       "      <th>score</th>\n",
       "      <th>iter</th>\n",
       "      <th>t mean</th>\n",
       "      <th>t std</th>\n",
       "      <th>iter</th>\n",
       "      <th>t mean</th>\n",
       "      <th>t std</th>\n",
       "      <th>iter</th>\n",
       "      <th>t mean</th>\n",
       "      <th>t std</th>\n",
       "    </tr>\n",
       "  </thead>\n",
       "  <tbody>\n",
       "    <tr>\n",
       "      <th>admm l1</th>\n",
       "      <td>4312 (1536)</td>\n",
       "      <td>301.571</td>\n",
       "      <td>107.383</td>\n",
       "      <td>2623 (1757)</td>\n",
       "      <td>184.338</td>\n",
       "      <td>122.323</td>\n",
       "      <td>1060 (553)</td>\n",
       "      <td>75.2438</td>\n",
       "      <td>39.7505</td>\n",
       "    </tr>\n",
       "    <tr>\n",
       "      <th>fbs-both l1</th>\n",
       "      <td>26 (1)</td>\n",
       "      <td>5.58449</td>\n",
       "      <td>0.503221</td>\n",
       "      <td>24 (1)</td>\n",
       "      <td>5.4117</td>\n",
       "      <td>0.457091</td>\n",
       "      <td>22 (1)</td>\n",
       "      <td>4.57037</td>\n",
       "      <td>0.693453</td>\n",
       "    </tr>\n",
       "    <tr>\n",
       "      <th>fbs-gamma l1</th>\n",
       "      <td>26 (1)</td>\n",
       "      <td>5.02327</td>\n",
       "      <td>0.334219</td>\n",
       "      <td>24 (1)</td>\n",
       "      <td>5.12</td>\n",
       "      <td>0.366391</td>\n",
       "      <td>22 (1)</td>\n",
       "      <td>4.79651</td>\n",
       "      <td>0.672045</td>\n",
       "    </tr>\n",
       "  </tbody>\n",
       "</table>\n",
       "</div>"
      ],
      "text/plain": [
       "precisions          0.001                           0.010                     \\\n",
       "score                iter   t mean     t std         iter   t mean     t std   \n",
       "admm l1       4312 (1536)  301.571   107.383  2623 (1757)  184.338   122.323   \n",
       "fbs-both l1        26 (1)  5.58449  0.503221       24 (1)   5.4117  0.457091   \n",
       "fbs-gamma l1       26 (1)  5.02327  0.334219       24 (1)     5.12  0.366391   \n",
       "\n",
       "precisions         0.100                     \n",
       "score               iter   t mean     t std  \n",
       "admm l1       1060 (553)  75.2438   39.7505  \n",
       "fbs-both l1       22 (1)  4.57037  0.693453  \n",
       "fbs-gamma l1      22 (1)  4.79651  0.672045  "
      ]
     },
     "execution_count": 624,
     "metadata": {},
     "output_type": "execute_result"
    }
   ],
   "source": [
    "dff"
   ]
  },
  {
   "cell_type": "code",
   "execution_count": 626,
   "metadata": {},
   "outputs": [
    {
     "name": "stdout",
     "output_type": "stream",
     "text": [
      "29.047723390750008\n",
      "29.047723390750008\n",
      "29.047723390750008\n"
     ]
    }
   ],
   "source": [
    "for k in mdls:\n",
    "    print mse_error(comp_cov=mdls[k].precision_)"
   ]
  },
  {
   "cell_type": "code",
   "execution_count": 586,
   "metadata": {},
   "outputs": [
    {
     "data": {
      "text/html": [
       "<div>\n",
       "<style scoped>\n",
       "    .dataframe tbody tr th:only-of-type {\n",
       "        vertical-align: middle;\n",
       "    }\n",
       "\n",
       "    .dataframe tbody tr th {\n",
       "        vertical-align: top;\n",
       "    }\n",
       "\n",
       "    .dataframe thead tr th {\n",
       "        text-align: left;\n",
       "    }\n",
       "</style>\n",
       "<table border=\"1\" class=\"dataframe\">\n",
       "  <thead>\n",
       "    <tr>\n",
       "      <th>precisions</th>\n",
       "      <th colspan=\"3\" halign=\"left\">0.001</th>\n",
       "      <th colspan=\"3\" halign=\"left\">0.010</th>\n",
       "      <th colspan=\"3\" halign=\"left\">0.100</th>\n",
       "    </tr>\n",
       "    <tr>\n",
       "      <th>score</th>\n",
       "      <th>iter</th>\n",
       "      <th>t mean</th>\n",
       "      <th>t std</th>\n",
       "      <th>iter</th>\n",
       "      <th>t mean</th>\n",
       "      <th>t std</th>\n",
       "      <th>iter</th>\n",
       "      <th>t mean</th>\n",
       "      <th>t std</th>\n",
       "    </tr>\n",
       "  </thead>\n",
       "  <tbody>\n",
       "    <tr>\n",
       "      <th>admm l1</th>\n",
       "      <td>2000 (0)</td>\n",
       "      <td>139.38</td>\n",
       "      <td>0.0721087</td>\n",
       "      <td>2000 (0)</td>\n",
       "      <td>139.387</td>\n",
       "      <td>0.0963031</td>\n",
       "      <td>637 (41)</td>\n",
       "      <td>44.9807</td>\n",
       "      <td>2.86207</td>\n",
       "    </tr>\n",
       "    <tr>\n",
       "      <th>fbs-both l1</th>\n",
       "      <td>26 (0)</td>\n",
       "      <td>33.3202</td>\n",
       "      <td>2.0701</td>\n",
       "      <td>24 (0)</td>\n",
       "      <td>29.4436</td>\n",
       "      <td>2.55309</td>\n",
       "      <td>22 (0)</td>\n",
       "      <td>30.266</td>\n",
       "      <td>0.921683</td>\n",
       "    </tr>\n",
       "    <tr>\n",
       "      <th>fbs-gamma l1</th>\n",
       "      <td>26 (0)</td>\n",
       "      <td>35.896</td>\n",
       "      <td>1.67139</td>\n",
       "      <td>24 (0)</td>\n",
       "      <td>31.5906</td>\n",
       "      <td>3.40049</td>\n",
       "      <td>22 (0)</td>\n",
       "      <td>28.847</td>\n",
       "      <td>1.19278</td>\n",
       "    </tr>\n",
       "  </tbody>\n",
       "</table>\n",
       "</div>"
      ],
      "text/plain": [
       "precisions       0.001                         0.010                      \\\n",
       "score             iter   t mean      t std      iter   t mean      t std   \n",
       "admm l1       2000 (0)   139.38  0.0721087  2000 (0)  139.387  0.0963031   \n",
       "fbs-both l1     26 (0)  33.3202     2.0701    24 (0)  29.4436    2.55309   \n",
       "fbs-gamma l1    26 (0)   35.896    1.67139    24 (0)  31.5906    3.40049   \n",
       "\n",
       "precisions       0.100                     \n",
       "score             iter   t mean     t std  \n",
       "admm l1       637 (41)  44.9807   2.86207  \n",
       "fbs-both l1     22 (0)   30.266  0.921683  \n",
       "fbs-gamma l1    22 (0)   28.847   1.19278  "
      ]
     },
     "execution_count": 586,
     "metadata": {},
     "output_type": "execute_result"
    }
   ],
   "source": [
    "dff"
   ]
  },
  {
   "cell_type": "code",
   "execution_count": 585,
   "metadata": {},
   "outputs": [
    {
     "data": {
      "text/html": [
       "<div>\n",
       "<style scoped>\n",
       "    .dataframe tbody tr th:only-of-type {\n",
       "        vertical-align: middle;\n",
       "    }\n",
       "\n",
       "    .dataframe tbody tr th {\n",
       "        vertical-align: top;\n",
       "    }\n",
       "\n",
       "    .dataframe thead tr th {\n",
       "        text-align: left;\n",
       "    }\n",
       "</style>\n",
       "<table border=\"1\" class=\"dataframe\">\n",
       "  <thead>\n",
       "    <tr>\n",
       "      <th>precisions</th>\n",
       "      <th>0.01</th>\n",
       "    </tr>\n",
       "    <tr>\n",
       "      <th>score</th>\n",
       "      <th>t mean</th>\n",
       "    </tr>\n",
       "  </thead>\n",
       "  <tbody>\n",
       "    <tr>\n",
       "      <th>admm l1</th>\n",
       "      <td>139.387</td>\n",
       "    </tr>\n",
       "    <tr>\n",
       "      <th>fbs-both l1</th>\n",
       "      <td>29.4436</td>\n",
       "    </tr>\n",
       "    <tr>\n",
       "      <th>fbs-gamma l1</th>\n",
       "      <td>31.5906</td>\n",
       "    </tr>\n",
       "  </tbody>\n",
       "</table>\n",
       "</div>"
      ],
      "text/plain": [
       "precisions       0.01\n",
       "score          t mean\n",
       "admm l1       139.387\n",
       "fbs-both l1   29.4436\n",
       "fbs-gamma l1  31.5906"
      ]
     },
     "execution_count": 585,
     "metadata": {},
     "output_type": "execute_result"
    }
   ],
   "source": [
    "dff.loc[:, idx[[0.01], 't mean']] "
   ]
  },
  {
   "cell_type": "code",
   "execution_count": 627,
   "metadata": {},
   "outputs": [],
   "source": [
    "dff_square = dff"
   ]
  },
  {
   "cell_type": "code",
   "execution_count": 628,
   "metadata": {},
   "outputs": [
    {
     "name": "stdout",
     "output_type": "stream",
     "text": [
      "Stored 'dff_square' (DataFrame)\n"
     ]
    }
   ],
   "source": [
    "%store dff_square"
   ]
  },
  {
   "cell_type": "code",
   "execution_count": 630,
   "metadata": {},
   "outputs": [],
   "source": [
    "dff.to_latex(\"results_0306_l1_a.tex\", float_format=lambda x: '%.3f'%x, escape=False)"
   ]
  },
  {
   "cell_type": "code",
   "execution_count": null,
   "metadata": {},
   "outputs": [],
   "source": [
    "f.savefig(\"objective_square_errorbar_log.pdf\", dpi=600, bbox_inches='tight')"
   ]
  },
  {
   "cell_type": "code",
   "execution_count": null,
   "metadata": {},
   "outputs": [],
   "source": [
    "# thetaSet, empCovSet, status, gvx_smooth = TVGL.TVGL(\n",
    "#     np.vstack(X.transpose(2,0,1)), X.shape[0],\n",
    "#     lamb=alpha, beta=beta, indexOfPenalty=2, verbose=False, epsAbs=1e-5)\n",
    "thetaSet, empCovSet, status, gvx_square = TVGL.TVGL(\n",
    "    np.vstack(X.transpose(2,0,1)), X.shape[0],\n",
    "    lamb=.3, beta=1.2, indexOfPenalty=1, verbose=False, epsAbs=1e-5)"
   ]
  },
  {
   "cell_type": "code",
   "execution_count": null,
   "metadata": {
    "scrolled": true
   },
   "outputs": [],
   "source": [
    "f = plt.figure(figsize=(10,3))\n",
    "plt.title(\"Convergence with %s evolution\" % evolution)\n",
    "# plt.semilogy([x.rnorm for x in tglfb_smooth.history_], label='TGL-FB $\\ell_{21}$')\n",
    "plt.semilogy([x.rnorm for x in tglfb_square.history_], label='TGL-FB $\\ell_1$')\n",
    "# plt.semilogy([x.snorm for x in tglfb_admm_smooth.history_], label='TGL-ADMM $\\ell_2^2$')\n",
    "plt.semilogy([(x.snorm/tglfb_admm_square.rho)**2/3 for x in tglfb_admm_square.history_], label='TGL-ADMM $\\ell_1$')\n",
    "plt.semilogy([x/3 for x in gvx_square.history_], label='TVGL $\\ell_1$')\n",
    "# plt.semilogy([x for x in gvx_smooth.history_], label='TVGL $\\ell_{21}$')\n",
    "plt.legend()\n",
    "plt.ylim([1e-10, 100]);\n",
    "plt.xlim([0, 50]);\n",
    "\n",
    "plt.xlabel(\"Iteration\")\n",
    "plt.ylabel(\"Difference between iterates\");"
   ]
  },
  {
   "cell_type": "code",
   "execution_count": null,
   "metadata": {},
   "outputs": [],
   "source": [
    "score = 'f1'\n",
    "f = plt.figure(figsize=(10,3))\n",
    "plt.title(r\"$F_1$-score with %s evolution\" % (evolution))\n",
    "# plt.semilogy([x.rnorm for x in tglfb_smooth.history_], label='TGL-FB $\\ell_{21}$')\n",
    "plt.plot([error_function(x.precision)[score]\n",
    "              for x in tglfb_square.history_], label='TGL-FB $\\ell_1$')\n",
    "# plt.semilogy([x.snorm for x in tglfb_admm_smooth.history_], label='TGL-ADMM $\\ell_2^2$')\n",
    "plt.plot([error_function(x.precision)[score]\n",
    "              for x in tglfb_admm_square.history_], label='TGL-ADMM $\\ell_1$')\n",
    "# plt.semilogy([error_function(x.precision)[score]\n",
    "#                for x in gvx_square.history_], label='TVGL $\\ell_1$')\n",
    "# plt.semilogy([x for x in gvx_smooth.history_], label='TVGL $\\ell_{21}$')\n",
    "plt.legend()\n",
    "# plt.ylim([1e-10, 100]);\n",
    "# plt.ylim([0, 1])\n",
    "plt.xlim([0, 50]);\n",
    "\n",
    "plt.ylabel(r\"$F_1$-score\")\n",
    "plt.xlabel(\"Iteration\")"
   ]
  },
  {
   "cell_type": "code",
   "execution_count": null,
   "metadata": {},
   "outputs": [],
   "source": [
    "evolution = 'smooth'; alpha = 0.53; beta = 5\n",
    "X = data[evolution].data\n",
    "\n",
    "tglfb_square2 = time_graph_lasso_.TimeGraphLassoForwardBackward(\n",
    "    verbose=2, gamma=1, alpha=alpha, beta=beta,\n",
    "    delta=1e-8, choose='lamda', lamda_criterion='c',\n",
    "    lamda=1, tol=1e-5, eps=0.9, return_history=True,\n",
    "    time_norm=1, max_iter=300, time_on_axis='last').fit(X)\n",
    "\n",
    "tglfb_smooth2 = time_graph_lasso_.TimeGraphLassoForwardBackward(\n",
    "    verbose=2, gamma=1, alpha=alpha, beta=beta,\n",
    "    delta=1e-8, choose='lamda', lamda_criterion='c',\n",
    "    lamda=1, tol=1e-5, eps=0.9, return_history=True,\n",
    "    time_norm=2, max_iter=300, time_on_axis='last').fit(X)\n",
    "\n",
    "thetaSet, empCovSet, status, gvx_square2 = TVGL.TVGL(\n",
    "    np.vstack(X.transpose(2,0,1)), X.shape[0],\n",
    "    lamb=alpha, beta=beta, indexOfPenalty=2, verbose=False, epsAbs=1e-5)\n",
    "thetaSet, empCovSet, status, gvx_smooth2 = TVGL.TVGL(\n",
    "    np.vstack(X.transpose(2,0,1)), X.shape[0],\n",
    "    lamb=alpha, beta=beta, indexOfPenalty=1, verbose=False, epsAbs=1e-5)"
   ]
  },
  {
   "cell_type": "code",
   "execution_count": null,
   "metadata": {},
   "outputs": [],
   "source": [
    "f = plt.figure()\n",
    "plt.title(\"Evolution: %s\" % evolution)\n",
    "plt.semilogy([x.rnorm for x in tglfb_smooth2.history_], label='TVGL $\\ell_{21}$')\n",
    "plt.semilogy([x.rnorm for x in tglfb_square2.history_], label='TGL-FB $\\ell_1$')\n",
    "plt.semilogy([x for x in gvx_square2.history_], label='TVGL $\\ell_1$')\n",
    "plt.semilogy([x for x in gvx_smooth2.history_], label='TVGL $\\ell_{21}$')\n",
    "plt.legend()\n",
    "plt.ylim([0.01,None]);"
   ]
  },
  {
   "cell_type": "code",
   "execution_count": null,
   "metadata": {
    "scrolled": true
   },
   "outputs": [],
   "source": [
    "error_function = partial(utils.structure_error, data[evolution].thetas,\n",
    "                             no_diagonal=0, thresholding=1, eps=1e-4)\n",
    "\n",
    "res = error_function(tglfb.precision_)\n",
    "res"
   ]
  },
  {
   "cell_type": "markdown",
   "metadata": {},
   "source": [
    "### BayesOptimisation\n",
    "Since we have lots of hyper-parameters, we rely on a Bayesian optimisation procedure in order to select the best hyper-parameters, treating the scoring function of our algorithm as a black-box for the gaussian process underlying the Bayesian optimisation.\n",
    "\n",
    "Such procedure is performed via the `scikit-optimize` package."
   ]
  },
  {
   "cell_type": "code",
   "execution_count": 631,
   "metadata": {
    "scrolled": true
   },
   "outputs": [
    {
     "name": "stdout",
     "output_type": "stream",
     "text": [
      "best score: 100320.53104195614\n",
      "best score: 103277.8272127945\n",
      "best score: 105330.4107068051\n",
      "best score: 105330.4107068051\n",
      "best score: 105330.4107068051\n",
      "best score: 105330.4107068051\n",
      "best score: 106288.09449395214\n",
      "best score: 106288.09449395214\n",
      "best score: 106288.09449395214\n",
      "best score: 106288.09449395214\n"
     ]
    },
    {
     "data": {
      "text/plain": [
       "BayesSearchCV(cv=ShuffleSplit(n_splits=2, random_state=None, test_size=0.3, train_size=None),\n",
       "       error_score=-inf,\n",
       "       estimator=TimeGraphLassoForwardBackward(alpha=0.01, assume_centered=False, beta=1.0,\n",
       "               choose='gamma', compute_objective=True, debug=1, delta=0.9,\n",
       "               eps=0.9, gamma=0.2, lamda=1, lamda_criterion='b',\n",
       "               max_iter=100, return_history=False,\n",
       "               return_n_linesearch=False, stop_at=None, stop_when=0.0001,\n",
       "               time_norm=1, time_on_axis='last', tol=0.0001, vareps=0,\n",
       "               verbose=0),\n",
       "       fit_params=None, iid=True, n_iter=50, n_jobs=1, n_points=5,\n",
       "       optimizer_kwargs=None, pre_dispatch='2*n_jobs', random_state=None,\n",
       "       refit=True, return_train_score=False, scoring=None,\n",
       "       search_spaces={'alpha': Real(low=0.01, high=1, prior='uniform', transform='identity'), 'beta': Real(low=0.001, high=0.1, prior='uniform', transform='identity')},\n",
       "       verbose=0)"
      ]
     },
     "execution_count": 631,
     "metadata": {},
     "output_type": "execute_result"
    }
   ],
   "source": [
    "from skopt import searchcv\n",
    "\n",
    "X = data['smooth'].data\n",
    "\n",
    "domain = {'alpha': Real(1e-2, 1, prior='uniform'),\n",
    "          'beta': Real(1e-3, 1e-1, prior='uniform'),\n",
    "#           'time_norm': Categorical([1, 2])\n",
    "         }\n",
    "\n",
    "mdl = time_graph_lasso_laplacian.TimeGraphLassoForwardBackward(\n",
    "    verbose=0, gamma=.2, delta=delta, choose='gamma',\n",
    "    lamda=1, tol=1e-4, eps=0.9, debug=1, vareps=0, max_iter=100, time_on_axis='last')\n",
    "    \n",
    "cv = ShuffleSplit(2, test_size=0.3)\n",
    "    \n",
    "bscv = searchcv.BayesSearchCV(\n",
    "    mdl, domain, n_iter=50, cv=cv, verbose=0, n_jobs=1, iid=True, n_points=5,\n",
    "    error_score=-np.inf)\n",
    "\n",
    "def on_step(optim_result):\n",
    "    score = bscv.best_score_\n",
    "    print(\"best score: %s\" % score)\n",
    "\n",
    "bscv.fit(X, callback=on_step)"
   ]
  },
  {
   "cell_type": "code",
   "execution_count": 632,
   "metadata": {},
   "outputs": [
    {
     "data": {
      "text/plain": [
       "{'alpha': 0.7890546745267578, 'beta': 0.020163185985406864}"
      ]
     },
     "execution_count": 632,
     "metadata": {},
     "output_type": "execute_result"
    }
   ],
   "source": [
    "bscv.best_params_"
   ]
  },
  {
   "cell_type": "code",
   "execution_count": 738,
   "metadata": {},
   "outputs": [
    {
     "name": "stdout",
     "output_type": "stream",
     "text": [
      "best score: -455065.4067739221\n",
      "best score: -446403.81738803687\n",
      "best score: -436921.1515404107\n",
      "best score: -430382.2188747936\n",
      "best score: -430382.2188747936\n",
      "best score: -430382.2188747936\n",
      "best score: -426486.2715626585\n",
      "best score: -426486.2715626585\n",
      "best score: -426486.2715626585\n",
      "best score: -426486.2715626585\n"
     ]
    },
    {
     "data": {
      "text/plain": [
       "BayesSearchCV(cv=ShuffleSplit(n_splits=2, random_state=None, test_size=0.3, train_size=None),\n",
       "       error_score=-inf,\n",
       "       estimator=TimeGraphLassoForwardBackward(alpha=0.01, assume_centered=False, beta=1.0,\n",
       "               choose='gamma', compute_objective=True, debug=1, delta=0.9,\n",
       "               eps=0.7, gamma=1, lamda=1, lamda_criterion='b', max_iter=50,\n",
       "               return_history=False, return_n_linesearch=False,\n",
       "               stop_at=None, stop_when=0.0001, time_norm=1,\n",
       "               time_on_axis='last', tol=0.0001, vareps=0, verbose=0),\n",
       "       fit_params=None, iid=True, n_iter=50, n_jobs=1, n_points=5,\n",
       "       optimizer_kwargs=None, pre_dispatch='2*n_jobs', random_state=None,\n",
       "       refit=True, return_train_score=False, scoring=None,\n",
       "       search_spaces={'alpha': Real(low=0.01, high=1, prior='uniform', transform='identity'), 'beta': Real(low=0.1, high=5, prior='uniform', transform='identity')},\n",
       "       verbose=0)"
      ]
     },
     "execution_count": 738,
     "metadata": {},
     "output_type": "execute_result"
    }
   ],
   "source": [
    "from skopt import searchcv\n",
    "\n",
    "X = data['square'].data\n",
    "\n",
    "domain = {'alpha': Real(1e-2, 1, prior='uniform'),\n",
    "          'beta': Real(0.1, 5, prior='uniform'),\n",
    "         }\n",
    "\n",
    "mdl_square = time_graph_lasso_.TimeGraphLassoForwardBackward(\n",
    "        verbose=0, gamma=1, delta=delta, choose='gamma',\n",
    "        lamda=1, tol=1e-4, eps=eps, debug=1, vareps=0,\n",
    "        time_norm=1, max_iter=50, time_on_axis='last')\n",
    "    \n",
    "cv = ShuffleSplit(2, test_size=0.3)\n",
    "    \n",
    "bscv_square2 = searchcv.BayesSearchCV(\n",
    "    mdl_square, domain, n_iter=50, cv=cv, verbose=0, n_jobs=1, iid=True, n_points=5,\n",
    "    error_score=-np.inf)\n",
    "\n",
    "def on_step(optim_result):\n",
    "    score = bscv_square2.best_score_\n",
    "    print(\"best score: %s\" % score)\n",
    "\n",
    "bscv_square2.fit(X, callback=on_step)"
   ]
  },
  {
   "cell_type": "code",
   "execution_count": 708,
   "metadata": {},
   "outputs": [
    {
     "data": {
      "text/plain": [
       "{'alpha': 0.8235256537766323, 'beta': 2.054205049247515}"
      ]
     },
     "execution_count": 708,
     "metadata": {},
     "output_type": "execute_result"
    }
   ],
   "source": [
    "bscv_square2.best_params_"
   ]
  },
  {
   "cell_type": "code",
   "execution_count": 764,
   "metadata": {},
   "outputs": [
    {
     "name": "stdout",
     "output_type": "stream",
     "text": [
      "4.9774021691171e-05\n",
      "6.648342281800178e-05\n"
     ]
    }
   ],
   "source": [
    "reload(utils)\n",
    "mse_error = partial(utils.error_norm, data['smooth'].thetas, upper_triangular=True, n=True)\n",
    "print mse_error(comp_cov=bscv.best_estimator_.precision_)\n",
    "\n",
    "mse_error = partial(utils.error_norm, data['square'].thetas, upper_triangular=True, n=True)\n",
    "print mse_error(comp_cov=bscv_square.best_estimator_.precision_)"
   ]
  },
  {
   "cell_type": "code",
   "execution_count": 768,
   "metadata": {
    "scrolled": true
   },
   "outputs": [
    {
     "data": {
      "text/plain": [
       "728758.7659457853"
      ]
     },
     "execution_count": 768,
     "metadata": {},
     "output_type": "execute_result"
    }
   ],
   "source": [
    "bscv_square.best_estimator_.score(data['square'].data)"
   ]
  },
  {
   "cell_type": "code",
   "execution_count": 769,
   "metadata": {},
   "outputs": [
    {
     "data": {
      "text/plain": [
       "358016.5352491819"
      ]
     },
     "execution_count": 769,
     "metadata": {},
     "output_type": "execute_result"
    }
   ],
   "source": [
    "bscv.best_estimator_.score(data['smooth'].data)"
   ]
  },
  {
   "cell_type": "code",
   "execution_count": 723,
   "metadata": {},
   "outputs": [],
   "source": [
    "mmm = time_graph_lasso_.TimeGraphLassoForwardBackward(\n",
    "        verbose=0, gamma=1, delta=delta, choose='both',\n",
    "        lamda=1, tol=1e-4, eps=eps, debug=1, vareps=200, alpha=30, beta=10,\n",
    "        time_norm=1, max_iter=450, time_on_axis='last').fit(data['square'].data)"
   ]
  },
  {
   "cell_type": "code",
   "execution_count": 724,
   "metadata": {},
   "outputs": [
    {
     "name": "stdout",
     "output_type": "stream",
     "text": [
      "29.047723390750008\n"
     ]
    }
   ],
   "source": [
    "print mse_error(comp_cov=mmm.precision_)"
   ]
  },
  {
   "cell_type": "markdown",
   "metadata": {},
   "source": [
    "### GridSearchCV\n",
    "As for the hyper-parameters tuning, one may choose to fix a grid of parameters and select the best ones.\n",
    "For this we can use `GridSearchCV`, from the `scikit-learn` library."
   ]
  },
  {
   "cell_type": "code",
   "execution_count": null,
   "metadata": {
    "scrolled": true
   },
   "outputs": [],
   "source": [
    "param_grid=dict(alpha=np.logspace(-2,0,3), beta=np.logspace(-2,0,3),\n",
    "                time_norm=[1, 2])\n",
    "\n",
    "mdl = time_graph_lasso_.TimeGraphLassoForwardBackward(\n",
    "    verbose=0, time_on_axis='last')\n",
    "    \n",
    "cv = ShuffleSplit(2, test_size=0.2)\n",
    "ltgl = GridSearchCV(mdl, param_grid, cv=cv, verbose=1)\n",
    "ltgl.fit(data_grid)"
   ]
  },
  {
   "cell_type": "markdown",
   "metadata": {},
   "source": [
    "## Memory requirements"
   ]
  },
  {
   "cell_type": "code",
   "execution_count": 785,
   "metadata": {},
   "outputs": [
    {
     "data": {
      "image/png": "[encoded data removed]",
      "text/plain": [
       "<matplotlib.figure.Figure at 0x7fa259f72750>"
      ]
     },
     "metadata": {},
     "output_type": "display_data"
    }
   ],
   "source": [
    "def memory_requirements(n_dim, n_times, alg='admm'):\n",
    "    m = n_dim ** 2 * n_times * 2  # theta + emp_cov\n",
    "    \n",
    "    if alg == 'admm':\n",
    "        m += n_dim ** 2 * n_times * 2 # Z0, U0\n",
    "        m += n_dim ** 2 * (n_times - 1) * 4 # Z1, U1, Z2, U2\n",
    "    return m / 2.\n",
    "\n",
    "\n",
    "from matplotlib.ticker import FuncFormatter\n",
    "def millions(x, pos):\n",
    "    return '%1.0f $\\cdot 10^9$' % (x*1e-9)\n",
    "\n",
    "formatter = FuncFormatter(millions)\n",
    "\n",
    "f, ax = plt.subplots(figsize=(10,3))\n",
    "ax.xaxis.set_major_formatter(formatter)\n",
    "\n",
    "# ax.set_xscale(\"log\", nonposx='clip')\n",
    "# ax.set_yscale(\"log\", nonposy='clip')\n",
    "\n",
    "T = 100\n",
    "n_dims = np.linspace(100, 1e4, 100)\n",
    "unknowns = n_dims * (n_dims - 1) / 2. * T\n",
    "\n",
    "plt.semilogy(unknowns, [memory_requirements(n_dim=dim, n_times=T, alg='admm') for dim in n_dims], label='ADMM')\n",
    "plt.semilogy(unknowns, [memory_requirements(n_dim=dim, n_times=T, alg='fbs') for dim in n_dims], label='FBS', c=\"C2\")\n",
    "\n",
    "plt.axhline(1e9, ls='--', c='k')\n",
    "# plt.axhline(1e10, label=\"80GB\")\n",
    "plt.axhline(1e10, ls='--', c='k')\n",
    "\n",
    "plt.text(45000, 1e9*4, '8GB RAM',\n",
    "         verticalalignment='top',\n",
    "         horizontalalignment='center')\n",
    "\n",
    "plt.text(5000, 1e10*4, '80GB RAM',\n",
    "         verticalalignment='top',\n",
    "         horizontalalignment='center')\n",
    "\n",
    "plt.ylabel(\"Memory complexity\")\n",
    "plt.xlabel(\"Number of unknowns\")\n",
    "\n",
    "plt.legend(loc=4);\n",
    "plt.tight_layout()\n",
    "plt.ylim([1e7, 1e11])\n",
    "\n",
    "f.savefig(\"ram_requirements.pdf\", dpi=600, bbox_inches='tight')"
   ]
  },
  {
   "cell_type": "code",
   "execution_count": null,
   "metadata": {},
   "outputs": [],
   "source": []
  }
 ],
 "metadata": {
  "kernelspec": {
   "display_name": "Python 2",
   "language": "python",
   "name": "python2"
  },
  "language_info": {
   "codemirror_mode": {
    "name": "ipython",
    "version": 2
   },
   "file_extension": ".py",
   "mimetype": "text/x-python",
   "name": "python",
   "nbconvert_exporter": "python",
   "pygments_lexer": "ipython2",
   "version": "2.7.14"
  }
 },
 "nbformat": 4,
 "nbformat_minor": 2
}
