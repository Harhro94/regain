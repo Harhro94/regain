{
 "cells": [
  {
   "cell_type": "code",
   "execution_count": 1,
   "metadata": {
    "collapsed": true
   },
   "outputs": [],
   "source": [
    "import numpy as np\n",
    "\n",
    "from sklearn.covariance import GraphLasso, GraphLassoCV"
   ]
  },
  {
   "cell_type": "markdown",
   "metadata": {},
   "source": [
    "# Graph inference\n",
    "\n",
    "## Graph Lasso (fixed point in time, $t$)"
   ]
  },
  {
   "cell_type": "code",
   "execution_count": 2,
   "metadata": {
    "collapsed": true
   },
   "outputs": [],
   "source": [
    "import numpy as np\n",
    "def sparseinverse_cov(d):\n",
    "    \"\"\"Generate a covariance matrix with Sparse Inverse method.\n",
    "    Sparse graph where each element depends only on a subset of others.\"\"\"\n",
    "    # W is a weight symmetric matrix.\n",
    "    # It has -1 if two vertices are connected, 0 otherwise.\n",
    "    # The diagonal is the sum of rows (or columns).\n",
    "    W = np.zeros((d, d))\n",
    "    for i in range(d):\n",
    "        W[i, i+1:] = np.random.randint(-1, 1, d-i-1)\n",
    "    W += W.T\n",
    "    w = [abs(np.sum(vec)) for vec in W]\n",
    "    laplacian = W + np.diag(w)\n",
    "    return np.linalg.inv(laplacian + np.random.randn() ** 2 * np.eye(d))"
   ]
  },
  {
   "cell_type": "code",
   "execution_count": 3,
   "metadata": {
    "collapsed": true
   },
   "outputs": [],
   "source": [
    "theta_t = sparseinverse_cov(3)"
   ]
  },
  {
   "cell_type": "code",
   "execution_count": 4,
   "metadata": {},
   "outputs": [
    {
     "data": {
      "text/plain": [
       "array([[ 1.44215928,  0.68926196,  0.91547937],\n",
       "       [ 0.68926196,  1.44215928,  0.91547937],\n",
       "       [ 0.91547937,  0.91547937,  1.21594187]])"
      ]
     },
     "execution_count": 4,
     "metadata": {},
     "output_type": "execute_result"
    }
   ],
   "source": [
    "theta_t"
   ]
  },
  {
   "cell_type": "code",
   "execution_count": 5,
   "metadata": {
    "collapsed": true
   },
   "outputs": [],
   "source": [
    "from sklearn.covariance import GraphLasso, GraphLassoCV"
   ]
  },
  {
   "cell_type": "code",
   "execution_count": 6,
   "metadata": {
    "collapsed": true
   },
   "outputs": [],
   "source": [
    "def random_covariance(n):\n",
    "    Sinv = np.eye(n)\n",
    "    idx = np.random.randint(2, size=n*n).reshape(n,n);\n",
    "    for i in range(n):\n",
    "        for j in range(n):\n",
    "            Sinv[i,j] = idx[i,j]\n",
    "    Sinv = Sinv + Sinv.T\n",
    "    if np.min(np.linalg.eigh(Sinv)[0]) < 0:\n",
    "        Sinv = Sinv + 1.1*np.abs(np.min(np.linalg.eigh(Sinv)[0]))*np.eye(n);\n",
    "\n",
    "    S = np.linalg.inv(Sinv);\n",
    "    return S, Sinv"
   ]
  },
  {
   "cell_type": "code",
   "execution_count": 7,
   "metadata": {},
   "outputs": [
    {
     "name": "stdout",
     "output_type": "stream",
     "text": [
      "alpha: 0.429193205258\n"
     ]
    }
   ],
   "source": [
    "n_dim = 10\n",
    "n_samples = 50\n",
    "alpha=2*np.sqrt(np.log(n_dim) / n_samples)\n",
    "print \"alpha:\", alpha\n",
    "\n",
    "# true_covariance = sparseinverse_cov(n_dim)\n",
    "# true_covariance /= np.diag(true_covariance)[0]\n",
    "true_covariance, Sinv = random_covariance(n_dim)\n",
    "X = np.random.multivariate_normal(np.zeros(n_dim), true_covariance, n_samples)"
   ]
  },
  {
   "cell_type": "code",
   "execution_count": 33,
   "metadata": {},
   "outputs": [
    {
     "data": {
      "text/plain": [
       "GraphLassoCV(alphas=20, assume_centered=False, cv=None, enet_tol=0.0001,\n",
       "       max_iter=500, mode='cd', n_jobs=1, n_refinements=4, tol=0.0001,\n",
       "       verbose=0)"
      ]
     },
     "execution_count": 33,
     "metadata": {},
     "output_type": "execute_result"
    }
   ],
   "source": [
    "gl = GraphLasso(mode='cd', alpha=alpha, verbose=0, max_iter=200)\n",
    "gl = GraphLassoCV(verbose=0, max_iter=500, alphas=20)\n",
    "gl.fit(X)"
   ]
  },
  {
   "cell_type": "code",
   "execution_count": 26,
   "metadata": {
    "collapsed": true
   },
   "outputs": [],
   "source": [
    "from rgi import admm_covariance; reload(admm_covariance)\n",
    "\n",
    "Cov, Z, hist = admm_covariance.covsel(X, .05,rho=2,alpha=alpha, verbose=0)\n",
    "\n",
    "# print gl.error_norm(true_covariance)\n",
    "# print np.linalg.norm(gl.covariance_ - true_covariance)"
   ]
  },
  {
   "cell_type": "code",
   "execution_count": 27,
   "metadata": {},
   "outputs": [
    {
     "name": "stdout",
     "output_type": "stream",
     "text": [
      "12.0589140965\n"
     ]
    }
   ],
   "source": [
    "print(np.linalg.norm(Sinv - Cov))"
   ]
  },
  {
   "cell_type": "code",
   "execution_count": 34,
   "metadata": {},
   "outputs": [
    {
     "name": "stdout",
     "output_type": "stream",
     "text": [
      "7.33373554946\n"
     ]
    }
   ],
   "source": [
    "print(np.linalg.norm(gl.precision_ - Sinv))"
   ]
  },
  {
   "cell_type": "code",
   "execution_count": 29,
   "metadata": {},
   "outputs": [
    {
     "data": {
      "text/plain": [
       "array([[ 5.1,  0. ,  0. ,  0. ,  0. ,  0. ,  0.4,  0. ,  0. ,  0. ],\n",
       "       [ 0. ,  4. ,  0.7, -0.3,  0. , -0.3,  0.9,  0. ,  0.4,  0. ],\n",
       "       [ 0. ,  0.7,  3.2,  1. ,  0. ,  1.2,  0. ,  0. ,  0. ,  0. ],\n",
       "       [ 0. , -0.3,  1. ,  2.6,  1.1, -0.1,  0.9,  0. , -0. ,  0. ],\n",
       "       [ 0. ,  0. ,  0. ,  1.1,  4. ,  0.7,  0. ,  0. ,  0. , -0.1],\n",
       "       [ 0. , -0.3,  1.2, -0.1,  0.7,  3.1,  0.4,  0. ,  0.3,  0.1],\n",
       "       [ 0.4,  0.9,  0. ,  0.9,  0. ,  0.4,  2.6,  0. , -0.1, -0.3],\n",
       "       [ 0. ,  0. ,  0. ,  0. ,  0. ,  0. ,  0. ,  3.7,  0. ,  0. ],\n",
       "       [ 0. ,  0.4,  0. , -0. ,  0. ,  0.3, -0.1,  0. ,  4. ,  0. ],\n",
       "       [ 0. ,  0. ,  0. ,  0. , -0.1,  0.1, -0.3,  0. ,  0. ,  4.5]])"
      ]
     },
     "execution_count": 29,
     "metadata": {},
     "output_type": "execute_result"
    }
   ],
   "source": [
    "Z"
   ]
  },
  {
   "cell_type": "code",
   "execution_count": 30,
   "metadata": {
    "collapsed": true
   },
   "outputs": [],
   "source": [
    "np.set_printoptions(precision=1, suppress=True)"
   ]
  },
  {
   "cell_type": "code",
   "execution_count": 35,
   "metadata": {},
   "outputs": [
    {
     "data": {
      "text/plain": [
       "array([[ 8.8,  0. , -0.6, -0.9, -0. ,  1.3,  1.2,  1.2,  1.4,  0. ],\n",
       "       [ 0. ,  6.6,  1.7, -0.4, -0. , -0. ,  1.7, -0.1,  1.5,  0.3],\n",
       "       [-0.6,  1.7,  5.4,  1.9, -0. ,  2.4,  0.5,  0. ,  0. ,  0.8],\n",
       "       [-0.9, -0.4,  1.9,  4. ,  1.8, -0. ,  1.5,  0.2, -1. ,  0.1],\n",
       "       [-0. , -0. , -0. ,  1.8,  6.7,  1.7,  0. ,  0.6,  1.4, -0.9],\n",
       "       [ 1.3, -0. ,  2.4, -0. ,  1.7,  5.3,  0.7, -0. ,  1.7,  0.4],\n",
       "       [ 1.2,  1.7,  0.5,  1.5,  0. ,  0.7,  4. ,  0.1, -0.4, -0.5],\n",
       "       [ 1.2, -0.1,  0. ,  0.2,  0.6, -0. ,  0.1,  4.9, -0. ,  0.6],\n",
       "       [ 1.4,  1.5,  0. , -1. ,  1.4,  1.7, -0.4, -0. ,  6.6, -0.8],\n",
       "       [ 0. ,  0.3,  0.8,  0.1, -0.9,  0.4, -0.5,  0.6, -0.8,  6.7]])"
      ]
     },
     "execution_count": 35,
     "metadata": {},
     "output_type": "execute_result"
    }
   ],
   "source": [
    "gl.precision_"
   ]
  },
  {
   "cell_type": "code",
   "execution_count": 31,
   "metadata": {},
   "outputs": [
    {
     "data": {
      "text/plain": [
       "array([[ 6.5,  1. ,  0. ,  0. ,  0. ,  1. ,  2. ,  2. ,  1. ,  1. ],\n",
       "       [ 1. ,  6.5,  2. ,  0. ,  1. ,  1. ,  2. ,  0. ,  1. ,  1. ],\n",
       "       [ 0. ,  2. ,  6.5,  2. ,  0. ,  2. ,  0. ,  1. ,  1. ,  2. ],\n",
       "       [ 0. ,  0. ,  2. ,  4.5,  2. ,  0. ,  2. ,  1. ,  0. ,  1. ],\n",
       "       [ 0. ,  1. ,  0. ,  2. ,  6.5,  2. ,  1. ,  1. ,  2. ,  0. ],\n",
       "       [ 1. ,  1. ,  2. ,  0. ,  2. ,  4.5,  1. ,  1. ,  2. ,  1. ],\n",
       "       [ 2. ,  2. ,  0. ,  2. ,  1. ,  1. ,  4.5,  1. ,  0. ,  0. ],\n",
       "       [ 2. ,  0. ,  1. ,  1. ,  1. ,  1. ,  1. ,  6.5,  0. ,  2. ],\n",
       "       [ 1. ,  1. ,  1. ,  0. ,  2. ,  2. ,  0. ,  0. ,  6.5,  0. ],\n",
       "       [ 1. ,  1. ,  2. ,  1. ,  0. ,  1. ,  0. ,  2. ,  0. ,  6.5]])"
      ]
     },
     "execution_count": 31,
     "metadata": {},
     "output_type": "execute_result"
    }
   ],
   "source": [
    "Sinv"
   ]
  },
  {
   "cell_type": "code",
   "execution_count": 32,
   "metadata": {},
   "outputs": [
    {
     "data": {
      "text/plain": [
       "array([[ 5.1,  0. , -0. ,  0. , -0. ,  0. ,  0.4,  0. , -0. , -0. ],\n",
       "       [ 0. ,  4. ,  0.7, -0.3, -0. , -0.3,  0.9,  0. ,  0.4, -0. ],\n",
       "       [-0. ,  0.7,  3.2,  1. ,  0. ,  1.2,  0. , -0. ,  0. ,  0. ],\n",
       "       [ 0. , -0.3,  1. ,  2.6,  1.1, -0.1,  0.9,  0. , -0. ,  0. ],\n",
       "       [-0. , -0. ,  0. ,  1.1,  4. ,  0.7,  0. ,  0. ,  0. , -0.1],\n",
       "       [ 0. , -0.3,  1.2, -0.1,  0.7,  3.1,  0.4,  0. ,  0.3,  0.1],\n",
       "       [ 0.4,  0.9,  0. ,  0.9,  0. ,  0.4,  2.6, -0. , -0.1, -0.3],\n",
       "       [ 0. ,  0. , -0. ,  0. ,  0. ,  0. , -0. ,  3.7, -0. , -0. ],\n",
       "       [-0. ,  0.4,  0. , -0. ,  0. ,  0.3, -0.1, -0. ,  4. ,  0. ],\n",
       "       [-0. , -0. ,  0. ,  0. , -0.1,  0.1, -0.3, -0. ,  0. ,  4.5]])"
      ]
     },
     "execution_count": 32,
     "metadata": {},
     "output_type": "execute_result"
    }
   ],
   "source": [
    "Cov"
   ]
  },
  {
   "cell_type": "code",
   "execution_count": 28,
   "metadata": {
    "collapsed": true
   },
   "outputs": [],
   "source": [
    "import pandas as pd\n",
    "import numpy as np\n",
    "from sklearn.covariance import GraphLasso, GraphLassoCV, empirical_covariance\n",
    "\n",
    "df_x = pd.read_csv(\"/home/fede/projects_local/kdvs/\", delimiter='\\t', comment='#')\n",
    "df_y = pd.read_csv(\"/home/fede/projects_local/petretto/data/fmf_labels.txt\", delimiter='\\t')\n",
    "\n",
    "X = df_x.values\n",
    "y = df_y.values.ravel()"
   ]
  },
  {
   "cell_type": "code",
   "execution_count": 33,
   "metadata": {},
   "outputs": [
    {
     "data": {
      "text/plain": [
       "array([[ 25.69016,  25.48889,  25.51938, ...,  26.62533,  25.77399,\n",
       "         25.82825],\n",
       "       [ 20.96733,  21.09571,  16.70307, ...,  24.32992,  23.06976,\n",
       "         22.20353],\n",
       "       [ 25.31748,  25.55324,  25.10913, ...,  24.79872,  25.27302,\n",
       "         25.17329],\n",
       "       ..., \n",
       "       [ 20.97036,  19.91314,  20.00703, ...,  17.62372,  20.86982,\n",
       "         20.09159],\n",
       "       [ 21.64689,  21.6591 ,  22.15527, ...,  21.91561,  22.12682,\n",
       "         22.4864 ],\n",
       "       [ 22.84217,  23.94699,  23.8261 , ...,  23.58451,  23.27881,\n",
       "         22.5633 ]])"
      ]
     },
     "execution_count": 33,
     "metadata": {},
     "output_type": "execute_result"
    }
   ],
   "source": [
    "df_x.loc[:, df_x.columns.str.startswith(\"FMF_C\")].values"
   ]
  },
  {
   "cell_type": "code",
   "execution_count": 18,
   "metadata": {
    "collapsed": true
   },
   "outputs": [],
   "source": [
    "emp_cov = empirical_covariance(X[y=='A'], assume_centered=False)"
   ]
  },
  {
   "cell_type": "code",
   "execution_count": 37,
   "metadata": {},
   "outputs": [
    {
     "name": "stdout",
     "output_type": "stream",
     "text": [
      "[graph_lasso] Iteration   0, cost  6.99e+03, dual gap -6.170e+03\n",
      "[graph_lasso] Iteration   1, cost  nan, dual gap nan\n"
     ]
    },
    {
     "ename": "FloatingPointError",
     "evalue": "Non SPD result: the system is too ill-conditioned for this solver. The system is too ill-conditioned for this solver",
     "output_type": "error",
     "traceback": [
      "\u001b[0;31m---------------------------------------------------------------------------\u001b[0m",
      "\u001b[0;31mFloatingPointError\u001b[0m                        Traceback (most recent call last)",
      "\u001b[0;32m<ipython-input-37-f616bb891290>\u001b[0m in \u001b[0;36m<module>\u001b[0;34m()\u001b[0m\n\u001b[1;32m      1\u001b[0m \u001b[0mgl\u001b[0m \u001b[0;34m=\u001b[0m \u001b[0mGraphLasso\u001b[0m\u001b[0;34m(\u001b[0m\u001b[0mverbose\u001b[0m\u001b[0;34m=\u001b[0m\u001b[0;36m1\u001b[0m\u001b[0;34m,\u001b[0m \u001b[0mmax_iter\u001b[0m\u001b[0;34m=\u001b[0m\u001b[0;36m200\u001b[0m\u001b[0;34m)\u001b[0m\u001b[0;34m\u001b[0m\u001b[0m\n\u001b[0;32m----> 2\u001b[0;31m \u001b[0mgl\u001b[0m\u001b[0;34m.\u001b[0m\u001b[0mfit\u001b[0m\u001b[0;34m(\u001b[0m\u001b[0mdf_x\u001b[0m\u001b[0;34m.\u001b[0m\u001b[0mloc\u001b[0m\u001b[0;34m[\u001b[0m\u001b[0;34m:\u001b[0m\u001b[0;34m,\u001b[0m \u001b[0mdf_x\u001b[0m\u001b[0;34m.\u001b[0m\u001b[0mcolumns\u001b[0m\u001b[0;34m.\u001b[0m\u001b[0mstr\u001b[0m\u001b[0;34m.\u001b[0m\u001b[0mstartswith\u001b[0m\u001b[0;34m(\u001b[0m\u001b[0;34m\"FMF_C\"\u001b[0m\u001b[0;34m)\u001b[0m\u001b[0;34m]\u001b[0m\u001b[0;34m.\u001b[0m\u001b[0mvalues\u001b[0m\u001b[0;34m.\u001b[0m\u001b[0mT\u001b[0m\u001b[0;34m)\u001b[0m\u001b[0;34m\u001b[0m\u001b[0m\n\u001b[0m",
      "\u001b[0;32m/home/fede/miniconda2/lib/python2.7/site-packages/sklearn/covariance/graph_lasso_.pyc\u001b[0m in \u001b[0;36mfit\u001b[0;34m(self, X, y)\u001b[0m\n\u001b[1;32m    350\u001b[0m             \u001b[0memp_cov\u001b[0m\u001b[0;34m,\u001b[0m \u001b[0malpha\u001b[0m\u001b[0;34m=\u001b[0m\u001b[0mself\u001b[0m\u001b[0;34m.\u001b[0m\u001b[0malpha\u001b[0m\u001b[0;34m,\u001b[0m \u001b[0mmode\u001b[0m\u001b[0;34m=\u001b[0m\u001b[0mself\u001b[0m\u001b[0;34m.\u001b[0m\u001b[0mmode\u001b[0m\u001b[0;34m,\u001b[0m \u001b[0mtol\u001b[0m\u001b[0;34m=\u001b[0m\u001b[0mself\u001b[0m\u001b[0;34m.\u001b[0m\u001b[0mtol\u001b[0m\u001b[0;34m,\u001b[0m\u001b[0;34m\u001b[0m\u001b[0m\n\u001b[1;32m    351\u001b[0m             \u001b[0menet_tol\u001b[0m\u001b[0;34m=\u001b[0m\u001b[0mself\u001b[0m\u001b[0;34m.\u001b[0m\u001b[0menet_tol\u001b[0m\u001b[0;34m,\u001b[0m \u001b[0mmax_iter\u001b[0m\u001b[0;34m=\u001b[0m\u001b[0mself\u001b[0m\u001b[0;34m.\u001b[0m\u001b[0mmax_iter\u001b[0m\u001b[0;34m,\u001b[0m\u001b[0;34m\u001b[0m\u001b[0m\n\u001b[0;32m--> 352\u001b[0;31m             verbose=self.verbose, return_n_iter=True)\n\u001b[0m\u001b[1;32m    353\u001b[0m         \u001b[0;32mreturn\u001b[0m \u001b[0mself\u001b[0m\u001b[0;34m\u001b[0m\u001b[0m\n\u001b[1;32m    354\u001b[0m \u001b[0;34m\u001b[0m\u001b[0m\n",
      "\u001b[0;32m/home/fede/miniconda2/lib/python2.7/site-packages/sklearn/covariance/graph_lasso_.pyc\u001b[0m in \u001b[0;36mgraph_lasso\u001b[0;34m(emp_cov, alpha, cov_init, mode, tol, enet_tol, max_iter, verbose, return_costs, eps, return_n_iter)\u001b[0m\n\u001b[1;32m    254\u001b[0m         e.args = (e.args[0]\n\u001b[1;32m    255\u001b[0m                   + '. The system is too ill-conditioned for this solver',)\n\u001b[0;32m--> 256\u001b[0;31m         \u001b[0;32mraise\u001b[0m \u001b[0me\u001b[0m\u001b[0;34m\u001b[0m\u001b[0m\n\u001b[0m\u001b[1;32m    257\u001b[0m \u001b[0;34m\u001b[0m\u001b[0m\n\u001b[1;32m    258\u001b[0m     \u001b[0;32mif\u001b[0m \u001b[0mreturn_costs\u001b[0m\u001b[0;34m:\u001b[0m\u001b[0;34m\u001b[0m\u001b[0m\n",
      "\u001b[0;31mFloatingPointError\u001b[0m: Non SPD result: the system is too ill-conditioned for this solver. The system is too ill-conditioned for this solver"
     ]
    }
   ],
   "source": [
    "gl = GraphLasso(verbose=1, max_iter=200)\n",
    "gl.fit(df_x.loc[:, df_x.columns.str.startswith(\"FMF_C\")].values.T)"
   ]
  },
  {
   "cell_type": "code",
   "execution_count": null,
   "metadata": {
    "collapsed": true
   },
   "outputs": [],
   "source": []
  },
  {
   "cell_type": "code",
   "execution_count": 28,
   "metadata": {
    "collapsed": true
   },
   "outputs": [],
   "source": [
    "n, d = 400, 10\n",
    "\n",
    "X = np.random.randn(n, d)\n",
    "beta = np.ones(d); beta[:d//2] = 0\n",
    "\n",
    "y = X.dot(beta) + np.random.randn(n) * 0.1"
   ]
  },
  {
   "cell_type": "code",
   "execution_count": 29,
   "metadata": {},
   "outputs": [
    {
     "data": {
      "text/plain": [
       "array([ 0.,  0.,  0.,  0.,  0.,  1.,  1.,  1.,  1.,  1.])"
      ]
     },
     "execution_count": 29,
     "metadata": {},
     "output_type": "execute_result"
    }
   ],
   "source": [
    "beta"
   ]
  },
  {
   "cell_type": "code",
   "execution_count": 30,
   "metadata": {
    "collapsed": true
   },
   "outputs": [],
   "source": [
    "from sklearn.linear_model import Lasso\n",
    "\n",
    "beta_lasso = Lasso(alpha=0.1).fit(X, y).coef_"
   ]
  },
  {
   "cell_type": "code",
   "execution_count": 31,
   "metadata": {},
   "outputs": [
    {
     "data": {
      "text/plain": [
       "array([ 0.        ,  0.        ,  0.        , -0.        ,  0.        ,\n",
       "        0.87164806,  0.87821874,  0.90753309,  0.90732306,  0.88892157])"
      ]
     },
     "execution_count": 31,
     "metadata": {},
     "output_type": "execute_result"
    }
   ],
   "source": [
    "beta_lasso"
   ]
  },
  {
   "cell_type": "code",
   "execution_count": 32,
   "metadata": {
    "collapsed": true
   },
   "outputs": [],
   "source": [
    "from rgi import admm_lasso as lasso; reload(lasso)\n",
    "\n",
    "z = lasso.lasso(X, y, lamda=0.1, rho=1, alpha=1)"
   ]
  },
  {
   "cell_type": "code",
   "execution_count": 33,
   "metadata": {},
   "outputs": [
    {
     "data": {
      "text/plain": [
       "array([ 0.        ,  0.        ,  0.        ,  0.        ,  0.        ,\n",
       "        0.99724445,  1.0013197 ,  1.00083042,  1.00506278,  0.995881  ])"
      ]
     },
     "execution_count": 33,
     "metadata": {},
     "output_type": "execute_result"
    }
   ],
   "source": [
    "z"
   ]
  },
  {
   "cell_type": "code",
   "execution_count": null,
   "metadata": {
    "collapsed": true
   },
   "outputs": [],
   "source": []
  },
  {
   "cell_type": "code",
   "execution_count": 34,
   "metadata": {
    "collapsed": true
   },
   "outputs": [],
   "source": [
    "from rgi import admm_group_lasso as grouplasso; reload(grouplasso)\n",
    "\n",
    "z_group = grouplasso.group_lasso(X, y, lamda=0.1, p=[[i] for i in range(10)],\n",
    "                                 rho=1, alpha=1)"
   ]
  },
  {
   "cell_type": "code",
   "execution_count": 35,
   "metadata": {},
   "outputs": [
    {
     "data": {
      "text/plain": [
       "array([-0.        , -0.        ,  0.        , -0.        ,  0.        ,\n",
       "        0.99692236,  1.00100604,  1.00058324,  1.00481119,  0.99559972])"
      ]
     },
     "execution_count": 35,
     "metadata": {},
     "output_type": "execute_result"
    }
   ],
   "source": [
    "z_group"
   ]
  },
  {
   "cell_type": "code",
   "execution_count": 36,
   "metadata": {},
   "outputs": [
    {
     "name": "stdout",
     "output_type": "stream",
     "text": [
      "Error skle: 0.247\n",
      "Error admm: 0.007\n",
      "Error admm_group: 0.007\n"
     ]
    }
   ],
   "source": [
    "print \"Error skle: %.3f\" % np.linalg.norm(beta_lasso - beta)\n",
    "print \"Error admm: %.3f\" % np.linalg.norm(z - beta)\n",
    "print \"Error admm_group: %.3f\" % np.linalg.norm(z_group - beta)"
   ]
  },
  {
   "cell_type": "code",
   "execution_count": null,
   "metadata": {
    "collapsed": true
   },
   "outputs": [],
   "source": []
  },
  {
   "cell_type": "code",
   "execution_count": 42,
   "metadata": {
    "collapsed": true
   },
   "outputs": [],
   "source": [
    "from rgi import admm_group_lasso_overlap as grouplassooverlap; reload(grouplassooverlap)\n",
    "\n",
    "z_group = grouplassooverlap.GroupLassoOverlap(\n",
    "        alpha=2, rho=2, groups=[[0,1,2,3,4], [3,4,5], [5,6,7,8,9]], verbose=0, max_iter=1000, tol=1e-6).fit(\n",
    "X, y).coef_"
   ]
  },
  {
   "cell_type": "code",
   "execution_count": 43,
   "metadata": {},
   "outputs": [
    {
     "name": "stdout",
     "output_type": "stream",
     "text": [
      "Error admm_group_overlap: 0.016\n"
     ]
    }
   ],
   "source": [
    "print \"Error admm_group_overlap: %.3f\" % np.linalg.norm(z_group - beta)"
   ]
  },
  {
   "cell_type": "code",
   "execution_count": 10,
   "metadata": {},
   "outputs": [
    {
     "name": "stderr",
     "output_type": "stream",
     "text": [
      "/home/fede/miniconda2/lib/python2.7/site-packages/rpy2/rinterface/__init__.py:186: RRuntimeWarning: During startup - \n",
      "  warnings.warn(x, RRuntimeWarning)\n",
      "/home/fede/miniconda2/lib/python2.7/site-packages/rpy2/rinterface/__init__.py:186: RRuntimeWarning: Warning messages:\n",
      "\n",
      "  warnings.warn(x, RRuntimeWarning)\n",
      "/home/fede/miniconda2/lib/python2.7/site-packages/rpy2/rinterface/__init__.py:186: RRuntimeWarning: 1: package ‘methods’ was built under R version 3.3.3 \n",
      "\n",
      "  warnings.warn(x, RRuntimeWarning)\n",
      "/home/fede/miniconda2/lib/python2.7/site-packages/rpy2/rinterface/__init__.py:186: RRuntimeWarning: 2: package ‘datasets’ was built under R version 3.3.3 \n",
      "\n",
      "  warnings.warn(x, RRuntimeWarning)\n",
      "/home/fede/miniconda2/lib/python2.7/site-packages/rpy2/rinterface/__init__.py:186: RRuntimeWarning: 3: package ‘utils’ was built under R version 3.3.3 \n",
      "\n",
      "  warnings.warn(x, RRuntimeWarning)\n",
      "/home/fede/miniconda2/lib/python2.7/site-packages/rpy2/rinterface/__init__.py:186: RRuntimeWarning: 4: package ‘grDevices’ was built under R version 3.3.3 \n",
      "\n",
      "  warnings.warn(x, RRuntimeWarning)\n",
      "/home/fede/miniconda2/lib/python2.7/site-packages/rpy2/rinterface/__init__.py:186: RRuntimeWarning: 5: package ‘graphics’ was built under R version 3.3.3 \n",
      "\n",
      "  warnings.warn(x, RRuntimeWarning)\n",
      "/home/fede/miniconda2/lib/python2.7/site-packages/rpy2/rinterface/__init__.py:186: RRuntimeWarning: 6: package ‘stats’ was built under R version 3.3.3 \n",
      "\n",
      "  warnings.warn(x, RRuntimeWarning)\n"
     ]
    }
   ],
   "source": [
    "%load_ext rpy2.ipython"
   ]
  },
  {
   "cell_type": "code",
   "execution_count": 11,
   "metadata": {},
   "outputs": [
    {
     "name": "stderr",
     "output_type": "stream",
     "text": [
      "/home/fede/miniconda2/lib/python2.7/site-packages/rpy2/rinterface/__init__.py:186: RRuntimeWarning: Installing package into ‘/home/fede/R/x86_64-pc-linux-gnu-library/3.3’\n",
      "(as ‘lib’ is unspecified)\n",
      "\n",
      "  warnings.warn(x, RRuntimeWarning)\n",
      "/home/fede/miniconda2/lib/python2.7/site-packages/rpy2/rinterface/__init__.py:186: RRuntimeWarning: also installing the dependencies ‘nloptr’, ‘RcppEigen’, ‘lme4’, ‘arm’, ‘mi’, ‘rjson’, ‘whisker’, ‘ellipse’, ‘lavaan’, ‘sem’, ‘jpeg’, ‘png’, ‘sna’, ‘huge’, ‘fdrtool’, ‘d3Network’, ‘ggm’, ‘gtools’\n",
      "\n",
      "\n",
      "  warnings.warn(x, RRuntimeWarning)\n",
      "/home/fede/miniconda2/lib/python2.7/site-packages/rpy2/rinterface/__init__.py:186: RRuntimeWarning: trying URL 'https://cran.stat.unipd.it/src/contrib/nloptr_1.0.4.tar.gz'\n",
      "\n",
      "  warnings.warn(x, RRuntimeWarning)\n",
      "/home/fede/miniconda2/lib/python2.7/site-packages/rpy2/rinterface/__init__.py:186: RRuntimeWarning: Content type 'application/octet-stream'\n",
      "  warnings.warn(x, RRuntimeWarning)\n",
      "/home/fede/miniconda2/lib/python2.7/site-packages/rpy2/rinterface/__init__.py:186: RRuntimeWarning:  length 353942 bytes (345 KB)\n",
      "\n",
      "  warnings.warn(x, RRuntimeWarning)\n",
      "/home/fede/miniconda2/lib/python2.7/site-packages/rpy2/rinterface/__init__.py:186: RRuntimeWarning: =\n",
      "  warnings.warn(x, RRuntimeWarning)\n",
      "/home/fede/miniconda2/lib/python2.7/site-packages/rpy2/rinterface/__init__.py:186: RRuntimeWarning: \n",
      "\n",
      "  warnings.warn(x, RRuntimeWarning)\n",
      "/home/fede/miniconda2/lib/python2.7/site-packages/rpy2/rinterface/__init__.py:186: RRuntimeWarning: downloaded 345 KB\n",
      "\n",
      "\n",
      "  warnings.warn(x, RRuntimeWarning)\n",
      "/home/fede/miniconda2/lib/python2.7/site-packages/rpy2/rinterface/__init__.py:186: RRuntimeWarning: trying URL 'https://cran.stat.unipd.it/src/contrib/RcppEigen_0.3.3.3.0.tar.gz'\n",
      "\n",
      "  warnings.warn(x, RRuntimeWarning)\n",
      "/home/fede/miniconda2/lib/python2.7/site-packages/rpy2/rinterface/__init__.py:186: RRuntimeWarning:  length 1634023 bytes (1.6 MB)\n",
      "\n",
      "  warnings.warn(x, RRuntimeWarning)\n",
      "/home/fede/miniconda2/lib/python2.7/site-packages/rpy2/rinterface/__init__.py:186: RRuntimeWarning: downloaded 1.6 MB\n",
      "\n",
      "\n",
      "  warnings.warn(x, RRuntimeWarning)\n",
      "/home/fede/miniconda2/lib/python2.7/site-packages/rpy2/rinterface/__init__.py:186: RRuntimeWarning: trying URL 'https://cran.stat.unipd.it/src/contrib/lme4_1.1-13.tar.gz'\n",
      "\n",
      "  warnings.warn(x, RRuntimeWarning)\n",
      "/home/fede/miniconda2/lib/python2.7/site-packages/rpy2/rinterface/__init__.py:186: RRuntimeWarning:  length 3624472 bytes (3.5 MB)\n",
      "\n",
      "  warnings.warn(x, RRuntimeWarning)\n",
      "/home/fede/miniconda2/lib/python2.7/site-packages/rpy2/rinterface/__init__.py:186: RRuntimeWarning: downloaded 3.5 MB\n",
      "\n",
      "\n",
      "  warnings.warn(x, RRuntimeWarning)\n",
      "/home/fede/miniconda2/lib/python2.7/site-packages/rpy2/rinterface/__init__.py:186: RRuntimeWarning: trying URL 'https://cran.stat.unipd.it/src/contrib/arm_1.9-3.tar.gz'\n",
      "\n",
      "  warnings.warn(x, RRuntimeWarning)\n",
      "/home/fede/miniconda2/lib/python2.7/site-packages/rpy2/rinterface/__init__.py:186: RRuntimeWarning:  length 77648 bytes (75 KB)\n",
      "\n",
      "  warnings.warn(x, RRuntimeWarning)\n",
      "/home/fede/miniconda2/lib/python2.7/site-packages/rpy2/rinterface/__init__.py:186: RRuntimeWarning: downloaded 75 KB\n",
      "\n",
      "\n",
      "  warnings.warn(x, RRuntimeWarning)\n",
      "/home/fede/miniconda2/lib/python2.7/site-packages/rpy2/rinterface/__init__.py:186: RRuntimeWarning: trying URL 'https://cran.stat.unipd.it/src/contrib/mi_1.0.tar.gz'\n",
      "\n",
      "  warnings.warn(x, RRuntimeWarning)\n",
      "/home/fede/miniconda2/lib/python2.7/site-packages/rpy2/rinterface/__init__.py:186: RRuntimeWarning:  length 793313 bytes (774 KB)\n",
      "\n",
      "  warnings.warn(x, RRuntimeWarning)\n",
      "/home/fede/miniconda2/lib/python2.7/site-packages/rpy2/rinterface/__init__.py:186: RRuntimeWarning: downloaded 774 KB\n",
      "\n",
      "\n",
      "  warnings.warn(x, RRuntimeWarning)\n",
      "/home/fede/miniconda2/lib/python2.7/site-packages/rpy2/rinterface/__init__.py:186: RRuntimeWarning: trying URL 'https://cran.stat.unipd.it/src/contrib/rjson_0.2.15.tar.gz'\n",
      "\n",
      "  warnings.warn(x, RRuntimeWarning)\n",
      "/home/fede/miniconda2/lib/python2.7/site-packages/rpy2/rinterface/__init__.py:186: RRuntimeWarning:  length 98905 bytes (96 KB)\n",
      "\n",
      "  warnings.warn(x, RRuntimeWarning)\n",
      "/home/fede/miniconda2/lib/python2.7/site-packages/rpy2/rinterface/__init__.py:186: RRuntimeWarning: downloaded 96 KB\n",
      "\n",
      "\n",
      "  warnings.warn(x, RRuntimeWarning)\n",
      "/home/fede/miniconda2/lib/python2.7/site-packages/rpy2/rinterface/__init__.py:186: RRuntimeWarning: trying URL 'https://cran.stat.unipd.it/src/contrib/whisker_0.3-2.tar.gz'\n",
      "\n",
      "  warnings.warn(x, RRuntimeWarning)\n",
      "/home/fede/miniconda2/lib/python2.7/site-packages/rpy2/rinterface/__init__.py:186: RRuntimeWarning:  length 27707 bytes (27 KB)\n",
      "\n",
      "  warnings.warn(x, RRuntimeWarning)\n",
      "/home/fede/miniconda2/lib/python2.7/site-packages/rpy2/rinterface/__init__.py:186: RRuntimeWarning: downloaded 27 KB\n",
      "\n",
      "\n",
      "  warnings.warn(x, RRuntimeWarning)\n",
      "/home/fede/miniconda2/lib/python2.7/site-packages/rpy2/rinterface/__init__.py:186: RRuntimeWarning: trying URL 'https://cran.stat.unipd.it/src/contrib/ellipse_0.3-8.tar.gz'\n",
      "\n",
      "  warnings.warn(x, RRuntimeWarning)\n",
      "/home/fede/miniconda2/lib/python2.7/site-packages/rpy2/rinterface/__init__.py:186: RRuntimeWarning:  length 10939 bytes (10 KB)\n",
      "\n",
      "  warnings.warn(x, RRuntimeWarning)\n",
      "/home/fede/miniconda2/lib/python2.7/site-packages/rpy2/rinterface/__init__.py:186: RRuntimeWarning: downloaded 10 KB\n",
      "\n",
      "\n",
      "  warnings.warn(x, RRuntimeWarning)\n",
      "/home/fede/miniconda2/lib/python2.7/site-packages/rpy2/rinterface/__init__.py:186: RRuntimeWarning: trying URL 'https://cran.stat.unipd.it/src/contrib/lavaan_0.5-23.1097.tar.gz'\n",
      "\n",
      "  warnings.warn(x, RRuntimeWarning)\n",
      "/home/fede/miniconda2/lib/python2.7/site-packages/rpy2/rinterface/__init__.py:186: RRuntimeWarning:  length 453823 bytes (443 KB)\n",
      "\n",
      "  warnings.warn(x, RRuntimeWarning)\n",
      "/home/fede/miniconda2/lib/python2.7/site-packages/rpy2/rinterface/__init__.py:186: RRuntimeWarning: downloaded 443 KB\n",
      "\n",
      "\n",
      "  warnings.warn(x, RRuntimeWarning)\n",
      "/home/fede/miniconda2/lib/python2.7/site-packages/rpy2/rinterface/__init__.py:186: RRuntimeWarning: trying URL 'https://cran.stat.unipd.it/src/contrib/sem_3.1-9.tar.gz'\n",
      "\n",
      "  warnings.warn(x, RRuntimeWarning)\n",
      "/home/fede/miniconda2/lib/python2.7/site-packages/rpy2/rinterface/__init__.py:186: RRuntimeWarning:  length 155278 bytes (151 KB)\n",
      "\n",
      "  warnings.warn(x, RRuntimeWarning)\n",
      "/home/fede/miniconda2/lib/python2.7/site-packages/rpy2/rinterface/__init__.py:186: RRuntimeWarning: downloaded 151 KB\n",
      "\n",
      "\n",
      "  warnings.warn(x, RRuntimeWarning)\n",
      "/home/fede/miniconda2/lib/python2.7/site-packages/rpy2/rinterface/__init__.py:186: RRuntimeWarning: trying URL 'https://cran.stat.unipd.it/src/contrib/jpeg_0.1-8.tar.gz'\n",
      "\n",
      "  warnings.warn(x, RRuntimeWarning)\n",
      "/home/fede/miniconda2/lib/python2.7/site-packages/rpy2/rinterface/__init__.py:186: RRuntimeWarning:  length 18046 bytes (17 KB)\n",
      "\n",
      "  warnings.warn(x, RRuntimeWarning)\n",
      "/home/fede/miniconda2/lib/python2.7/site-packages/rpy2/rinterface/__init__.py:186: RRuntimeWarning: downloaded 17 KB\n",
      "\n",
      "\n",
      "  warnings.warn(x, RRuntimeWarning)\n",
      "/home/fede/miniconda2/lib/python2.7/site-packages/rpy2/rinterface/__init__.py:186: RRuntimeWarning: trying URL 'https://cran.stat.unipd.it/src/contrib/png_0.1-7.tar.gz'\n",
      "\n",
      "  warnings.warn(x, RRuntimeWarning)\n",
      "/home/fede/miniconda2/lib/python2.7/site-packages/rpy2/rinterface/__init__.py:186: RRuntimeWarning:  length 24990 bytes (24 KB)\n",
      "\n",
      "  warnings.warn(x, RRuntimeWarning)\n",
      "/home/fede/miniconda2/lib/python2.7/site-packages/rpy2/rinterface/__init__.py:186: RRuntimeWarning: downloaded 24 KB\n",
      "\n",
      "\n",
      "  warnings.warn(x, RRuntimeWarning)\n",
      "/home/fede/miniconda2/lib/python2.7/site-packages/rpy2/rinterface/__init__.py:186: RRuntimeWarning: trying URL 'https://cran.stat.unipd.it/src/contrib/sna_2.4.tar.gz'\n",
      "\n",
      "  warnings.warn(x, RRuntimeWarning)\n",
      "/home/fede/miniconda2/lib/python2.7/site-packages/rpy2/rinterface/__init__.py:186: RRuntimeWarning:  length 293944 bytes (287 KB)\n",
      "\n",
      "  warnings.warn(x, RRuntimeWarning)\n",
      "/home/fede/miniconda2/lib/python2.7/site-packages/rpy2/rinterface/__init__.py:186: RRuntimeWarning: downloaded 287 KB\n",
      "\n",
      "\n",
      "  warnings.warn(x, RRuntimeWarning)\n",
      "/home/fede/miniconda2/lib/python2.7/site-packages/rpy2/rinterface/__init__.py:186: RRuntimeWarning: trying URL 'https://cran.stat.unipd.it/src/contrib/huge_1.2.7.tar.gz'\n",
      "\n",
      "  warnings.warn(x, RRuntimeWarning)\n",
      "/home/fede/miniconda2/lib/python2.7/site-packages/rpy2/rinterface/__init__.py:186: RRuntimeWarning:  length 2946819 bytes (2.8 MB)\n",
      "\n",
      "  warnings.warn(x, RRuntimeWarning)\n",
      "/home/fede/miniconda2/lib/python2.7/site-packages/rpy2/rinterface/__init__.py:186: RRuntimeWarning: downloaded 2.8 MB\n",
      "\n",
      "\n",
      "  warnings.warn(x, RRuntimeWarning)\n"
     ]
    },
    {
     "name": "stderr",
     "output_type": "stream",
     "text": [
      "/home/fede/miniconda2/lib/python2.7/site-packages/rpy2/rinterface/__init__.py:186: RRuntimeWarning: trying URL 'https://cran.stat.unipd.it/src/contrib/fdrtool_1.2.15.tar.gz'\n",
      "\n",
      "  warnings.warn(x, RRuntimeWarning)\n",
      "/home/fede/miniconda2/lib/python2.7/site-packages/rpy2/rinterface/__init__.py:186: RRuntimeWarning:  length 58387 bytes (57 KB)\n",
      "\n",
      "  warnings.warn(x, RRuntimeWarning)\n",
      "/home/fede/miniconda2/lib/python2.7/site-packages/rpy2/rinterface/__init__.py:186: RRuntimeWarning: downloaded 57 KB\n",
      "\n",
      "\n",
      "  warnings.warn(x, RRuntimeWarning)\n",
      "/home/fede/miniconda2/lib/python2.7/site-packages/rpy2/rinterface/__init__.py:186: RRuntimeWarning: trying URL 'https://cran.stat.unipd.it/src/contrib/d3Network_0.5.2.1.tar.gz'\n",
      "\n",
      "  warnings.warn(x, RRuntimeWarning)\n",
      "/home/fede/miniconda2/lib/python2.7/site-packages/rpy2/rinterface/__init__.py:186: RRuntimeWarning:  length 22813 bytes (22 KB)\n",
      "\n",
      "  warnings.warn(x, RRuntimeWarning)\n",
      "/home/fede/miniconda2/lib/python2.7/site-packages/rpy2/rinterface/__init__.py:186: RRuntimeWarning: downloaded 22 KB\n",
      "\n",
      "\n",
      "  warnings.warn(x, RRuntimeWarning)\n",
      "/home/fede/miniconda2/lib/python2.7/site-packages/rpy2/rinterface/__init__.py:186: RRuntimeWarning: trying URL 'https://cran.stat.unipd.it/src/contrib/ggm_2.3.tar.gz'\n",
      "\n",
      "  warnings.warn(x, RRuntimeWarning)\n",
      "/home/fede/miniconda2/lib/python2.7/site-packages/rpy2/rinterface/__init__.py:186: RRuntimeWarning:  length 527275 bytes (514 KB)\n",
      "\n",
      "  warnings.warn(x, RRuntimeWarning)\n",
      "/home/fede/miniconda2/lib/python2.7/site-packages/rpy2/rinterface/__init__.py:186: RRuntimeWarning: downloaded 514 KB\n",
      "\n",
      "\n",
      "  warnings.warn(x, RRuntimeWarning)\n",
      "/home/fede/miniconda2/lib/python2.7/site-packages/rpy2/rinterface/__init__.py:186: RRuntimeWarning: trying URL 'https://cran.stat.unipd.it/src/contrib/gtools_3.5.0.tar.gz'\n",
      "\n",
      "  warnings.warn(x, RRuntimeWarning)\n",
      "/home/fede/miniconda2/lib/python2.7/site-packages/rpy2/rinterface/__init__.py:186: RRuntimeWarning:  length 64855 bytes (63 KB)\n",
      "\n",
      "  warnings.warn(x, RRuntimeWarning)\n",
      "/home/fede/miniconda2/lib/python2.7/site-packages/rpy2/rinterface/__init__.py:186: RRuntimeWarning: downloaded 63 KB\n",
      "\n",
      "\n",
      "  warnings.warn(x, RRuntimeWarning)\n",
      "/home/fede/miniconda2/lib/python2.7/site-packages/rpy2/rinterface/__init__.py:186: RRuntimeWarning: trying URL 'https://cran.stat.unipd.it/src/contrib/qgraph_1.4.3.tar.gz'\n",
      "\n",
      "  warnings.warn(x, RRuntimeWarning)\n",
      "/home/fede/miniconda2/lib/python2.7/site-packages/rpy2/rinterface/__init__.py:186: RRuntimeWarning:  length 229218 bytes (223 KB)\n",
      "\n",
      "  warnings.warn(x, RRuntimeWarning)\n",
      "/home/fede/miniconda2/lib/python2.7/site-packages/rpy2/rinterface/__init__.py:186: RRuntimeWarning: downloaded 223 KB\n",
      "\n",
      "\n",
      "  warnings.warn(x, RRuntimeWarning)\n",
      "/home/fede/miniconda2/lib/python2.7/site-packages/rpy2/rinterface/__init__.py:186: RRuntimeWarning: \n",
      "  warnings.warn(x, RRuntimeWarning)\n",
      "/home/fede/miniconda2/lib/python2.7/site-packages/rpy2/rinterface/__init__.py:186: RRuntimeWarning: The downloaded source packages are in\n",
      "\t‘/tmp/RtmpuPdhyw/downloaded_packages’\n",
      "  warnings.warn(x, RRuntimeWarning)\n"
     ]
    },
    {
     "data": {
      "text/plain": [
       "--- Please select a CRAN mirror for use in this session ---\n"
      ]
     },
     "metadata": {},
     "output_type": "display_data"
    }
   ],
   "source": [
    "%%R\n",
    "# install.packages(\"psych\")\n",
    "# install.packages(\"matrixcalc\")\n",
    "# install.packages(\"corpcor\")\n",
    "# install.packages(\"Matrix\")\n",
    "# install.packages(\"glasso\")\n",
    "install.packages(\"qgraph\")"
   ]
  },
  {
   "cell_type": "code",
   "execution_count": 12,
   "metadata": {},
   "outputs": [
    {
     "name": "stdout",
     "output_type": "stream",
     "text": [
      "\n",
      "Error in library(qgraph) : there is no package called ‘qgraph’\n"
     ]
    },
    {
     "name": "stderr",
     "output_type": "stream",
     "text": [
      "/home/fede/miniconda2/lib/python2.7/site-packages/rpy2/rinterface/__init__.py:186: RRuntimeWarning: Error in library(qgraph) : there is no package called ‘qgraph’\n",
      "\n",
      "  warnings.warn(x, RRuntimeWarning)\n",
      "/home/fede/miniconda2/lib/python2.7/site-packages/rpy2/rinterface/__init__.py:186: RRuntimeWarning: In addition: \n",
      "  warnings.warn(x, RRuntimeWarning)\n",
      "/home/fede/miniconda2/lib/python2.7/site-packages/rpy2/rinterface/__init__.py:186: RRuntimeWarning: There were 12 warnings (use warnings() to see them)\n",
      "  warnings.warn(x, RRuntimeWarning)\n"
     ]
    }
   ],
   "source": [
    "%%R\n",
    "\n",
    "library(psych)\n",
    "library(matrixcalc)\n",
    "library(Matrix)\n",
    "library(glasso)\n",
    "library(qgraph)\n",
    "# E-step in the optimization algorithm:\n",
    "Estep <- function(\n",
    "  S, # Sample covariance\n",
    "  Kcur, # Current estimate for K\n",
    "  obs # Logical indicating observed\n",
    ")\n",
    "{\n",
    "  stopifnot(require(\"Matrix\"))\n",
    "  stopifnot(isSymmetric(S))\n",
    "  if (missing(Kcur))\n",
    "  {\n",
    "    if (missing(obs)) \n",
    "    {\n",
    "      Kcur <- diag(nrow(S)) \n",
    "    } else \n",
    "    {\n",
    "      Kcur <- diag(length(obs))\n",
    "    }\n",
    "  }\n",
    "  stopifnot(isSymmetric(Kcur))\n",
    "  if (missing(obs)) obs <- 1:nrow(Kcur) %in% 1:nrow(S)\n",
    "  \n",
    "  # To make life easier:\n",
    "  H <- !obs\n",
    "  O <- obs\n",
    "  \n",
    "  \n",
    "  # Current estimate of S:\n",
    "  library(corpcor)\n",
    "  Scur <- pseudoinverse(Kcur)\n",
    "  \n",
    "  # Expected Sigma_OH:\n",
    "  Sigma_OH <- S %*% pseudoinverse(Scur[O,O]) %*% Scur[O, H]\n",
    "  #   Sigma_OH\n",
    "  \n",
    "  # Expected Sigma_H:\n",
    "  Sigma_H <- Scur[H, H] - Scur[H,O] %*% pseudoinverse(Scur[O,O]) %*% Scur[O,H] + Scur[H,O] %*% pseudoinverse(Scur[O,O]) %*% S %*% pseudoinverse(Scur[O,O]) %*% Scur[O, H]\n",
    "  \n",
    "  # Construct expected sigma:\n",
    "  Sigma_Exp <- rbind(cbind(S,Sigma_OH),cbind(t(Sigma_OH), Sigma_H))  \n",
    "  \n",
    "  return(Sigma_Exp)\n",
    "}\n",
    "\n",
    "# M-step in the optimization algorithm:\n",
    "Mstep <- function(\n",
    "  Sexp, # Expected full S\n",
    "  obs, # Logica indiating oberved variables\n",
    "  rho = 0,\n",
    "  lambda\n",
    ")\n",
    "{\n",
    "  if (!is.positive.definite(Sexp))\n",
    "  {\n",
    "    Sexp <- as.matrix(nearPD(Sexp)$mat)\n",
    "    warning(\"Expected covariance matrix is not positive definite\")\n",
    "  }\n",
    "  # Rho matrix:\n",
    "  n <- nrow(Sexp)\n",
    "  RhoMat <- matrix(rho, n, n)\n",
    "  RhoMat[!obs,] <- 0\n",
    "  RhoMat[,!obs] <- 0\n",
    "  \n",
    "  # Lambda:\n",
    "  zeroes <- which(!lambda, arr.ind = TRUE)\n",
    "  zeroes[,2] <- which(!obs)[zeroes[,2]]\n",
    "  \n",
    "  if (nrow(zeroes) > 0){\n",
    "    K <- glasso(Sexp, RhoMat, penalize.diagonal=FALSE, zero = zeroes)$wi \n",
    "  } else {\n",
    "    K <- glasso(Sexp, RhoMat, penalize.diagonal=FALSE)$wi\n",
    "  }\n",
    "  \n",
    "  return(K)  \n",
    "}\n",
    "\n",
    "### Main lvglasso function\n",
    "lvglasso <- function(\n",
    "  S, # Sample cov\n",
    "  nLatents, # Number of latents\n",
    "  rho = 0, # Penalty\n",
    "  thr = 1.0e-4, # Threshold for convergence (sum absolute diff)\n",
    "  maxit = 1e4, # Maximum number of iterations\n",
    "  lambda, # Logical matrix indicating the free factor loadings. Defaults to full TRUE matrix.\n",
    "  ... # qgraph arguments\n",
    ")\n",
    "{\n",
    "  if (missing(nLatents)){\n",
    "    stop(\"'nLatents' must be specified\")\n",
    "  }\n",
    "  \n",
    "  nobs <- nrow(S)\n",
    "  ntot <- nobs + nLatents\n",
    "  \n",
    "  if (missing(lambda) || is.null(lambda)){\n",
    "    lambda <- matrix(TRUE, nobs, nLatents)\n",
    "  }\n",
    "  \n",
    "  if (nrow(lambda) != nobs | ncol(lambda) != nLatents) stop(\"Dimensions of 'lambda' are wrong.\")\n",
    "  \n",
    "  # PCA prior for K:\n",
    "  efaRes <- principal(S, nfactors = nLatents)\n",
    "  \n",
    "#   # If sampleSizeis missing, set to 1000. Is only used for prior anyway.\n",
    "# #   if (missing(sampleSize)){\n",
    "#     sampleSize <- 1000\n",
    "# #   }\n",
    "# \n",
    "#   #   Get prior for K:\n",
    "#   efaRes <- fa(S, n.obs= sampleSize, nfactors=nLatents)\n",
    "  resid <- residuals(efaRes)\n",
    "  class(resid) <- \"matrix\"\n",
    "  load <- loadings(efaRes)\n",
    "  class(load) <- \"matrix\"\n",
    "  r <- efaRes$r.scores\n",
    "  class(r) <- \"matrix\"\n",
    "  r <- diag(diag(r))\n",
    "#   \n",
    "#   # Stupid nonanalytic way to get prior:\n",
    "#   # Simulate N random variales:\n",
    "#   #   eta <- rmvnorm(10000, rep(0, nLatents), r)\n",
    "#   # \n",
    "#   #   # Simulate oserved scores:\n",
    "#   #   Y <- eta %*% t(load) + rmvnorm(10000, rep(0, nobs), diag(diag(resid)\n",
    "  # RAM FRAMEWORK:\n",
    "  \n",
    "  Sym <- rbind(cbind(diag( efaRes$uniquenesses),matrix(0,nobs,nLatents) ),cbind(t(matrix(0,nobs,nLatents) ),r))\n",
    "  As <- matrix(0, ntot, ntot)\n",
    "  if (nLatents > 0) As[1:nobs, (nobs+1):ntot] <- load\n",
    "  \n",
    "  Sigma <- solve(diag(ntot) - As) %*% Sym %*% t(solve(diag(ntot) - As))\n",
    "  \n",
    "  # Compute K:\n",
    "# browser()\n",
    "  K <- solve(cor2cov(cov2cor(Sigma),c(sqrt(diag(S)), rep(1, nLatents) )))\n",
    "  #  K <- K  \n",
    "#   K <- cov2cor(K)\n",
    "      K=round(K,10)\n",
    "  if (!is.positive.definite(K))\n",
    "  {\n",
    "    K <- as.matrix(nearPD(K)$mat)\n",
    "#     warning(\"Expected covariance matrix is not positive definite\")\n",
    "  }\n",
    "\n",
    "# browser()\n",
    "\n",
    "  #   K <- matrix(-0.5,ntot,ntot)\n",
    "  #   K[1:nobs,1:nobs] <- 0\n",
    "  #   diag(K) <- 1\n",
    "  \n",
    "  #   K <- round(K,2)\n",
    "  \n",
    "  #   K <- EBICglasso(cov(cbind(Y,eta)), sampleSize)\n",
    "  #   K <- as.matrix(forceSymmetric(cbind(rbind(pseudoinverse(resid),t(-load)), rbind(-load,pseudoinverse(r)))))\n",
    "  \n",
    "  # K <- as.matrix(forceSymmetric(cbind(rbind(pseudoinverse(resid),-0.5), rbind(rep(-0.5,nobs),1))))\n",
    "  #   K <- as.matrix(forceSymmetric(cbind(rbind(diag(nrow(S)),t(-load)), rbind(-load,pseudoinverse(r)))))\n",
    "  # browser()\n",
    "  #   K <- matrix(-0.5,ntot,ntot)\n",
    "  #   K[1:nobs,1:nobs] <- 0\n",
    "  #   diag(K) <- 1\n",
    "  #   obs <- c(rep(TRUE,nrow(S)), rep(FALSE,nLatents))\n",
    "  # \n",
    "  #   K <- rbind(cbind(2*diag(nobs),-load),cbind(t(-load), 2*diag(ntot - nobs)))\n",
    "  # rownames(K) <- colnames(K) <- NULL\n",
    "  # \n",
    "  # diag(K) <- diag(K) - min(eigen(pseudoinverse(K))$values)\n",
    "  \n",
    "  # #   K[1:nobs,1:nobs] <- 0\n",
    "  #   diag(K) <- 1\n",
    "  obs <- c(rep(TRUE,nrow(S)), rep(FALSE,nLatents))\n",
    "# \n",
    "# # Stupid prior:\n",
    "# K <- matrix(0, ntot, ntot)\n",
    "# diag(K) <- 1\n",
    "# if (nLatents > 0) K[1:nobs, (nobs+1):ntot] <- K[ (nobs+1):ntot, 1:nobs] <- -1/nobs\n",
    "  \n",
    "  #   is.positive.definite(as.matrix(forceSymmetric(Estep(S, K, obs))))\n",
    "  ### EM ###\n",
    "it <- 1\n",
    "Kold <- K\n",
    "  repeat\n",
    "  {\n",
    "    Sexp <- as.matrix(forceSymmetric(Estep(S, K, obs)))\n",
    "    #     Sexp <- cor2cov(cov2cor(Sexp),ifelse(obs,sqrt(diag(Sexp)),1))\n",
    "    K <- as.matrix(forceSymmetric(Mstep(Sexp, obs, rho, lambda)))\n",
    "    #     qgraph(wi2net(K), layout = \"spring\")\n",
    "    \n",
    "    # Check for convergence:\n",
    "    if (sum(abs(cov2cor(pseudoinverse(Kold)[obs,obs]) - cov2cor(pseudoinverse(K)[obs,obs]))) < thr){\n",
    "      break\n",
    "    } else {\n",
    "      it <- it + 1\n",
    "      if (it > maxit){\n",
    "        warning(\"Algorithm did not converge!\")\n",
    "        break\n",
    "      } else {\n",
    "        Kold <- K\n",
    "      }\n",
    "    }\n",
    "  }\n",
    "\n",
    "  if (!is.null(colnames(S)))\n",
    "  {\n",
    "    colnames(K) <- c(colnames(S),rep(paste0(\"F\",seq_len(nLatents)))) \n",
    "  }\n",
    "  \n",
    "  if (is.null(rownames(S)))\n",
    "  {\n",
    "#       print(c(rep(paste0(\"N\",seq_len(dim(K)[1] - nLatents))),rep(paste0(\"F\",seq_len(nLatents)))) )\n",
    "    rownames(K) <-c(rep(paste0(\"N\",seq_len(dim(K)[1] - nLatents))),rep(paste0(\"F\",seq_len(nLatents)))) \n",
    "  }\n",
    "\n",
    "  # Partial correlations:\n",
    "  pc <- qgraph:::wi2net(K)\n",
    "  diag(pc) <- 1\n",
    "  \n",
    "rownames(pc) <- colnames(pc) <- rownames(K) <- colnames(K)\n",
    "\n",
    "# Compute psychometric matrices:\n",
    "Theta <- solve(K[obs, obs])\n",
    "Lambda <- -Theta %*% K[obs,!obs]\n",
    "Psi <- solve(K[!obs, !obs] - t(Lambda) %*% K[obs, obs] %*% Lambda)\n",
    "\n",
    "# Return list mimics glasso:\n",
    "Res <- list(\n",
    "  w = pseudoinverse(K), # Estimated covariance matrix\n",
    "  wi = K, # Estimated precision matrix\n",
    "  pcor = pc, # Estimated partial correlation matrix\n",
    "  observed = obs, # observed and latents indicator\n",
    "  niter = it, # Number of iterations used in the algorithm\n",
    "  lambda = Lambda,\n",
    "  theta = Theta,\n",
    "  psi = Psi\n",
    "    )\n",
    "\n",
    "  class(Res) <- \"lvglasso\"\n",
    "\n",
    "  return(Res)\n",
    "}"
   ]
  },
  {
   "cell_type": "code",
   "execution_count": 44,
   "metadata": {
    "collapsed": true
   },
   "outputs": [],
   "source": [
    "from sklearn.covariance import empirical_covariance\n",
    "\n",
    "covariance = empirical_covariance(X)"
   ]
  },
  {
   "cell_type": "code",
   "execution_count": 13,
   "metadata": {},
   "outputs": [
    {
     "ename": "NameError",
     "evalue": "name 'covariance' is not defined",
     "output_type": "error",
     "traceback": [
      "\u001b[0;31m---------------------------------------------------------------------------\u001b[0m",
      "\u001b[0;31mNameError\u001b[0m                                 Traceback (most recent call last)",
      "\u001b[0;32m<ipython-input-13-7af6b4242bc8>\u001b[0m in \u001b[0;36m<module>\u001b[0;34m()\u001b[0m\n\u001b[0;32m----> 1\u001b[0;31m \u001b[0mget_ipython\u001b[0m\u001b[0;34m(\u001b[0m\u001b[0;34m)\u001b[0m\u001b[0;34m.\u001b[0m\u001b[0mrun_cell_magic\u001b[0m\u001b[0;34m(\u001b[0m\u001b[0;34mu'R'\u001b[0m\u001b[0;34m,\u001b[0m \u001b[0;34mu'-i covariance -o Res'\u001b[0m\u001b[0;34m,\u001b[0m \u001b[0;34mu'\\nRes <- lvglasso(covariance, 3)'\u001b[0m\u001b[0;34m)\u001b[0m\u001b[0;34m\u001b[0m\u001b[0m\n\u001b[0m",
      "\u001b[0;32m/home/fede/miniconda2/lib/python2.7/site-packages/IPython/core/interactiveshell.pyc\u001b[0m in \u001b[0;36mrun_cell_magic\u001b[0;34m(self, magic_name, line, cell)\u001b[0m\n\u001b[1;32m   2113\u001b[0m             \u001b[0mmagic_arg_s\u001b[0m \u001b[0;34m=\u001b[0m \u001b[0mself\u001b[0m\u001b[0;34m.\u001b[0m\u001b[0mvar_expand\u001b[0m\u001b[0;34m(\u001b[0m\u001b[0mline\u001b[0m\u001b[0;34m,\u001b[0m \u001b[0mstack_depth\u001b[0m\u001b[0;34m)\u001b[0m\u001b[0;34m\u001b[0m\u001b[0m\n\u001b[1;32m   2114\u001b[0m             \u001b[0;32mwith\u001b[0m \u001b[0mself\u001b[0m\u001b[0;34m.\u001b[0m\u001b[0mbuiltin_trap\u001b[0m\u001b[0;34m:\u001b[0m\u001b[0;34m\u001b[0m\u001b[0m\n\u001b[0;32m-> 2115\u001b[0;31m                 \u001b[0mresult\u001b[0m \u001b[0;34m=\u001b[0m \u001b[0mfn\u001b[0m\u001b[0;34m(\u001b[0m\u001b[0mmagic_arg_s\u001b[0m\u001b[0;34m,\u001b[0m \u001b[0mcell\u001b[0m\u001b[0;34m)\u001b[0m\u001b[0;34m\u001b[0m\u001b[0m\n\u001b[0m\u001b[1;32m   2116\u001b[0m             \u001b[0;32mreturn\u001b[0m \u001b[0mresult\u001b[0m\u001b[0;34m\u001b[0m\u001b[0m\n\u001b[1;32m   2117\u001b[0m \u001b[0;34m\u001b[0m\u001b[0m\n",
      "\u001b[0;32m<decorator-gen-126>\u001b[0m in \u001b[0;36mR\u001b[0;34m(self, line, cell, local_ns)\u001b[0m\n",
      "\u001b[0;32m/home/fede/miniconda2/lib/python2.7/site-packages/IPython/core/magic.pyc\u001b[0m in \u001b[0;36m<lambda>\u001b[0;34m(f, *a, **k)\u001b[0m\n\u001b[1;32m    186\u001b[0m     \u001b[0;31m# but it's overkill for just that one bit of state.\u001b[0m\u001b[0;34m\u001b[0m\u001b[0;34m\u001b[0m\u001b[0m\n\u001b[1;32m    187\u001b[0m     \u001b[0;32mdef\u001b[0m \u001b[0mmagic_deco\u001b[0m\u001b[0;34m(\u001b[0m\u001b[0marg\u001b[0m\u001b[0;34m)\u001b[0m\u001b[0;34m:\u001b[0m\u001b[0;34m\u001b[0m\u001b[0m\n\u001b[0;32m--> 188\u001b[0;31m         \u001b[0mcall\u001b[0m \u001b[0;34m=\u001b[0m \u001b[0;32mlambda\u001b[0m \u001b[0mf\u001b[0m\u001b[0;34m,\u001b[0m \u001b[0;34m*\u001b[0m\u001b[0ma\u001b[0m\u001b[0;34m,\u001b[0m \u001b[0;34m**\u001b[0m\u001b[0mk\u001b[0m\u001b[0;34m:\u001b[0m \u001b[0mf\u001b[0m\u001b[0;34m(\u001b[0m\u001b[0;34m*\u001b[0m\u001b[0ma\u001b[0m\u001b[0;34m,\u001b[0m \u001b[0;34m**\u001b[0m\u001b[0mk\u001b[0m\u001b[0;34m)\u001b[0m\u001b[0;34m\u001b[0m\u001b[0m\n\u001b[0m\u001b[1;32m    189\u001b[0m \u001b[0;34m\u001b[0m\u001b[0m\n\u001b[1;32m    190\u001b[0m         \u001b[0;32mif\u001b[0m \u001b[0mcallable\u001b[0m\u001b[0;34m(\u001b[0m\u001b[0marg\u001b[0m\u001b[0;34m)\u001b[0m\u001b[0;34m:\u001b[0m\u001b[0;34m\u001b[0m\u001b[0m\n",
      "\u001b[0;32m/home/fede/miniconda2/lib/python2.7/site-packages/rpy2/ipython/rmagic.pyc\u001b[0m in \u001b[0;36mR\u001b[0;34m(self, line, cell, local_ns)\u001b[0m\n\u001b[1;32m    657\u001b[0m                         \u001b[0mval\u001b[0m \u001b[0;34m=\u001b[0m \u001b[0mself\u001b[0m\u001b[0;34m.\u001b[0m\u001b[0mshell\u001b[0m\u001b[0;34m.\u001b[0m\u001b[0muser_ns\u001b[0m\u001b[0;34m[\u001b[0m\u001b[0minput\u001b[0m\u001b[0;34m]\u001b[0m\u001b[0;34m\u001b[0m\u001b[0m\n\u001b[1;32m    658\u001b[0m                     \u001b[0;32mexcept\u001b[0m \u001b[0mKeyError\u001b[0m\u001b[0;34m:\u001b[0m\u001b[0;34m\u001b[0m\u001b[0m\n\u001b[0;32m--> 659\u001b[0;31m                         \u001b[0;32mraise\u001b[0m \u001b[0mNameError\u001b[0m\u001b[0;34m(\u001b[0m\u001b[0;34m\"name '%s' is not defined\"\u001b[0m \u001b[0;34m%\u001b[0m \u001b[0minput\u001b[0m\u001b[0;34m)\u001b[0m\u001b[0;34m\u001b[0m\u001b[0m\n\u001b[0m\u001b[1;32m    660\u001b[0m                 \u001b[0;32mif\u001b[0m \u001b[0margs\u001b[0m\u001b[0;34m.\u001b[0m\u001b[0mconverter\u001b[0m \u001b[0;32mis\u001b[0m \u001b[0mNone\u001b[0m\u001b[0;34m:\u001b[0m\u001b[0;34m\u001b[0m\u001b[0m\n\u001b[1;32m    661\u001b[0m                     \u001b[0mro\u001b[0m\u001b[0;34m.\u001b[0m\u001b[0mr\u001b[0m\u001b[0;34m.\u001b[0m\u001b[0massign\u001b[0m\u001b[0;34m(\u001b[0m\u001b[0minput\u001b[0m\u001b[0;34m,\u001b[0m \u001b[0mself\u001b[0m\u001b[0;34m.\u001b[0m\u001b[0mpyconverter\u001b[0m\u001b[0;34m(\u001b[0m\u001b[0mval\u001b[0m\u001b[0;34m)\u001b[0m\u001b[0;34m)\u001b[0m\u001b[0;34m\u001b[0m\u001b[0m\n",
      "\u001b[0;31mNameError\u001b[0m: name 'covariance' is not defined"
     ]
    }
   ],
   "source": [
    "%%R -i covariance -o Res\n",
    "\n",
    "Res <- lvglasso(covariance, 3)"
   ]
  },
  {
   "cell_type": "code",
   "execution_count": null,
   "metadata": {
    "collapsed": true
   },
   "outputs": [],
   "source": []
  }
 ],
 "metadata": {
  "anaconda-cloud": {},
  "kernelspec": {
   "display_name": "Python 2",
   "language": "python",
   "name": "python2"
  },
  "language_info": {
   "codemirror_mode": {
    "name": "ipython",
    "version": 2
   },
   "file_extension": ".py",
   "mimetype": "text/x-python",
   "name": "python",
   "nbconvert_exporter": "python",
   "pygments_lexer": "ipython2",
   "version": "2.7.13"
  }
 },
 "nbformat": 4,
 "nbformat_minor": 2
}
