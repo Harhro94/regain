{
 "cells": [
  {
   "cell_type": "markdown",
   "metadata": {},
   "source": [
    "# Real data comparison"
   ]
  },
  {
   "cell_type": "code",
   "execution_count": 17,
   "metadata": {},
   "outputs": [],
   "source": [
    "%matplotlib inline\n",
    "\n",
    "import numpy as np\n",
    "import scipy.sparse\n",
    "import pandas as pd\n",
    "import matplotlib.pyplot as plt\n",
    "from scipy.io import loadmat\n",
    "from sklearn.datasets import make_sparse_spd_matrix\n",
    "from sklearn.model_selection import GridSearchCV, ShuffleSplit\n",
    "from sklearn.utils.extmath import squared_norm\n",
    "from sklearn.covariance import empirical_covariance\n",
    "\n",
    "from regain import model_selection; reload(model_selection)\n",
    "from regain.admm import latent_time_graph_lasso_; reload(latent_time_graph_lasso_)\n",
    "from regain.utils import error_norm"
   ]
  },
  {
   "cell_type": "code",
   "execution_count": 19,
   "metadata": {},
   "outputs": [],
   "source": [
    "df = pd.read_excel(\"/home/fede/Desktop/inline-supplementary-material-2.xls\", skiprows=1, index_col=0)\n",
    "best_dims = pd.read_csv(\"/home/fede/Desktop/inline-supplementary-material-3.txt\", delimiter=\"\\t\",\n",
    "                            skiprows=[0,2], skipinitialspace=True)"
   ]
  },
  {
   "cell_type": "code",
   "execution_count": 20,
   "metadata": {},
   "outputs": [],
   "source": [
    "df.columns = df.columns.str.lower()"
   ]
  },
  {
   "cell_type": "code",
   "execution_count": 21,
   "metadata": {},
   "outputs": [],
   "source": [
    "best_dims['sum_abs_diff_stress'] = (np.abs(best_dims['cold_2'] - best_dims['cold_3']) + \n",
    "    np.abs(best_dims['heat_2'] - best_dims['heat_3']) +\n",
    "    np.abs(best_dims['oxidative_2'] - best_dims['oxidative_3']))"
   ]
  },
  {
   "cell_type": "code",
   "execution_count": 22,
   "metadata": {},
   "outputs": [],
   "source": [
    "dims = best_dims.sort_values(\"sum_abs_diff_stress\", ascending=False).head(10)['condition_timepoint'].tolist()"
   ]
  },
  {
   "cell_type": "code",
   "execution_count": 23,
   "metadata": {},
   "outputs": [],
   "source": [
    "for x in ['shikimic acid-3-phosphate', \"methionine\", '2-ketobutyric acid']:\n",
    "    try:\n",
    "        dims.remove(x)\n",
    "    except:\n",
    "        pass"
   ]
  },
  {
   "cell_type": "code",
   "execution_count": 24,
   "metadata": {
    "scrolled": true
   },
   "outputs": [],
   "source": [
    "df_reduced = df.loc[:,['time point', 'stress'] + dims].fillna(1)"
   ]
  },
  {
   "cell_type": "code",
   "execution_count": 25,
   "metadata": {},
   "outputs": [],
   "source": [
    "df_reduced = df_reduced[df_reduced.stress.isin(['cold stress', 'heat stress', 'oxidative stress'])]"
   ]
  },
  {
   "cell_type": "code",
   "execution_count": 26,
   "metadata": {},
   "outputs": [],
   "source": [
    "a3d = np.array(list(df.groupby(\"time point\").apply(pd.DataFrame.as_matrix)))\n",
    "\n",
    "df_group = df_reduced.groupby(\"time point\")\n",
    "max_timepoints = 12\n",
    "# df_group = df_group.fillna(0)\n",
    "min_size = int(np.min([g[dims].values.shape[0] for n, g in df_group if n < max_timepoints]))\n",
    "X = np.array([group[dims].values[:min_size] for name, group in df_group if name < max_timepoints], dtype=float)\n",
    "# for name, group in df_group:\n",
    "#     print group.values.astype(float)"
   ]
  },
  {
   "cell_type": "code",
   "execution_count": 27,
   "metadata": {},
   "outputs": [],
   "source": [
    "data_list = np.log(X.copy())\n",
    "data_grid = data_list.transpose(1,2,0)"
   ]
  },
  {
   "cell_type": "code",
   "execution_count": 28,
   "metadata": {},
   "outputs": [
    {
     "data": {
      "text/plain": [
       "(11, 26, 7)"
      ]
     },
     "execution_count": 28,
     "metadata": {},
     "output_type": "execute_result"
    }
   ],
   "source": [
    "X.shape"
   ]
  },
  {
   "cell_type": "code",
   "execution_count": 33,
   "metadata": {},
   "outputs": [],
   "source": [
    "mdl = latent_time_graph_lasso_.LatentTimeGraphLasso(\n",
    "    alpha=0.2,\n",
    "    bypass_transpose=False, assume_centered=0, verbose=0, rtol=1e-4, tol=1e-4, psi='l2', phi='l2',\n",
    "    max_iter=350, rho=1./ np.sqrt(np.array(data_list).shape[1]))\n",
    "\n",
    "# alpha=np.linspace(0.01, 0.2, 5)\n",
    "# tau=np.linspace(0.01, 0.8, 5)\n",
    "# beta=np.linspace(0.01, 0.8, 2)\n",
    "# eta=np.linspace(0.01, 0.8, 2)\n",
    "# params = dict(tau=tau, eta=eta, alpha=alpha, beta=beta)\n",
    "\n",
    "# ltgl = GridSearchCV(mdl, params, cv=ShuffleSplit(3, test_size=.5), verbose=True).fit(data_grid)\n",
    "\n",
    "domain = [\n",
    "    {'name': 'tau', 'type': 'continuous', 'domain': (-2, -1)},\n",
    "#     {'name': 'alpha', 'type': 'continuous', 'domain': (-2.,np.log10(.5))},\n",
    "    {'name': 'beta', 'type': 'continuous', 'domain': (-2.,np.log10(.5))},\n",
    "    {'name': 'eta', 'type': 'continuous', 'domain': (-2.,np.log10(.5))},\n",
    "]\n",
    "ltgl = model_selection.BayesianOptimization(\n",
    "    mdl, domain=domain, n_jobs=2, acquisition_weight=1, acquisition_jitter=.01,\n",
    "    acquisition_type='EI', max_iter=200, cv=ShuffleSplit(5, test_size=.1)).fit(data_grid)\n",
    "\n",
    "# alpha = ltgl.best_params_['alpha']\n",
    "tau = ltgl.best_params_['tau']\n",
    "beta = ltgl.best_params_['beta']\n",
    "eta = ltgl.best_params_['eta']"
   ]
  },
  {
   "cell_type": "code",
   "execution_count": 34,
   "metadata": {
    "scrolled": true
   },
   "outputs": [],
   "source": [
    "import time\n",
    "tic = time.time()\n",
    "# ll = ltgl.best_estimator_.fit(data_grid)\n",
    "ll = mdl.set_params(**ltgl.best_params_).set_params(max_iter=500).fit(data_grid)\n",
    "tac = time.time()"
   ]
  },
  {
   "cell_type": "code",
   "execution_count": 35,
   "metadata": {},
   "outputs": [
    {
     "data": {
      "image/png": "[encoded data removed]",
      "text/plain": [
       "<matplotlib.figure.Figure at 0x7fe89be90190>"
      ]
     },
     "metadata": {},
     "output_type": "display_data"
    }
   ],
   "source": [
    "prec = ll.precision_\n",
    "late = ll.latent_\n",
    "f = plt.figure()\n",
    "plt.plot([np.linalg.norm(prec[i+1] - prec[i]) for i in range(prec.shape[0]-1)],\n",
    "         label=r'$\\|\\|\\Theta_{i+1} - \\Theta_i\\|\\|_F$')\n",
    "plt.plot([np.linalg.norm(late[i+1] - late[i]) for i in range(late.shape[0]-1)],\n",
    "         label=r'$\\|\\|L_{i+1} - L_i\\|\\|_F$')\n",
    "plt.axvline(1, ls=':', c='k')\n",
    "plt.ylabel(\"temporal deviation\");\n",
    "plt.xlabel(\"time\");\n",
    "plt.xticks(np.arange(prec.shape[0]-1),\n",
    "           [r'$t_{%d/%d}$'%(i,i+1) for i in range(prec.shape[0]-1)])\n",
    "plt.legend();"
   ]
  },
  {
   "cell_type": "code",
   "execution_count": 90,
   "metadata": {
    "collapsed": true
   },
   "outputs": [],
   "source": [
    "f.savefig(\"/home/fede/Dropbox/Latent variables networks/paper formatted/real_data_temporal_deviation.pdf\")"
   ]
  },
  {
   "cell_type": "code",
   "execution_count": null,
   "metadata": {
    "collapsed": true
   },
   "outputs": [],
   "source": []
  },
  {
   "cell_type": "code",
   "execution_count": null,
   "metadata": {
    "collapsed": true
   },
   "outputs": [],
   "source": []
  },
  {
   "cell_type": "code",
   "execution_count": 2,
   "metadata": {},
   "outputs": [],
   "source": [
    "data = pd.read_csv(\"../regain/data/finance.csv\", header=0, index_col=0)"
   ]
  },
  {
   "cell_type": "code",
   "execution_count": 3,
   "metadata": {},
   "outputs": [],
   "source": [
    "n = 8\n",
    "data_list = np.array([data.loc[:,['AMZN', 'IBM', 'GOOG', 'MSFT','APOL']][i:i+n].values \n",
    "             for i in range(1, data.shape[0], n)][:-1])"
   ]
  },
  {
   "cell_type": "code",
   "execution_count": 4,
   "metadata": {},
   "outputs": [
    {
     "data": {
      "text/plain": [
       "'2009-08'"
      ]
     },
     "execution_count": 4,
     "metadata": {},
     "output_type": "execute_result"
    }
   ],
   "source": [
    "import datetime\n",
    "datetime.datetime.strptime('20090824', '%Y%m%d').strftime(\"%Y-%m\")"
   ]
  },
  {
   "cell_type": "code",
   "execution_count": 5,
   "metadata": {},
   "outputs": [],
   "source": [
    "gg = [data.loc[:,['AMZN', 'IBM', 'GOOG', 'MSFT','APOL']][i:i+n].index \n",
    "             for i in range(1, data.shape[0], n)][:-1]\n",
    "timestamps = [\"/\".join(np.unique([datetime.datetime.strptime(\"%d\"%x, '%Y%m%d').strftime(\"%Y-%m\") for x in g]).tolist())\n",
    "              for g in gg]"
   ]
  },
  {
   "cell_type": "code",
   "execution_count": 6,
   "metadata": {},
   "outputs": [],
   "source": [
    "data_grid = data_list.transpose(1,2,0)"
   ]
  },
  {
   "cell_type": "code",
   "execution_count": 12,
   "metadata": {
    "scrolled": true
   },
   "outputs": [
    {
     "name": "stdout",
     "output_type": "stream",
     "text": [
      "obj: 154.5959, rnorm: 12.7516, snorm: 4.5462,eps_pri: 0.0007, eps_dual: 0.0006\n",
      "obj: 177.4233, rnorm: 7.1418, snorm: 1.7799,eps_pri: 0.0007, eps_dual: 0.0007\n",
      "obj: 185.1320, rnorm: 4.1057, snorm: 1.5066,eps_pri: 0.0007, eps_dual: 0.0007\n",
      "obj: 185.3228, rnorm: 2.8963, snorm: 1.3602,eps_pri: 0.0007, eps_dual: 0.0007\n",
      "obj: 182.2167, rnorm: 2.8649, snorm: 1.0045,eps_pri: 0.0008, eps_dual: 0.0007\n",
      "obj: 178.7290, rnorm: 2.8290, snorm: 0.6066,eps_pri: 0.0008, eps_dual: 0.0007\n",
      "obj: 176.6659, rnorm: 2.4084, snorm: 0.3564,eps_pri: 0.0008, eps_dual: 0.0007\n",
      "obj: 176.3013, rnorm: 1.9383, snorm: 0.2885,eps_pri: 0.0008, eps_dual: 0.0007\n",
      "obj: 177.1572, rnorm: 1.5764, snorm: 0.2864,eps_pri: 0.0008, eps_dual: 0.0007\n",
      "obj: 178.4253, rnorm: 1.3851, snorm: 0.2411,eps_pri: 0.0008, eps_dual: 0.0007\n",
      "obj: 179.8978, rnorm: 1.2256, snorm: 0.1885,eps_pri: 0.0008, eps_dual: 0.0007\n",
      "obj: 181.4060, rnorm: 1.0804, snorm: 0.1591,eps_pri: 0.0008, eps_dual: 0.0007\n",
      "obj: 182.6557, rnorm: 0.9632, snorm: 0.1244,eps_pri: 0.0008, eps_dual: 0.0007\n",
      "obj: 183.5607, rnorm: 0.8770, snorm: 0.0939,eps_pri: 0.0008, eps_dual: 0.0007\n",
      "obj: 184.2434, rnorm: 0.8059, snorm: 0.0812,eps_pri: 0.0008, eps_dual: 0.0007\n",
      "obj: 184.7556, rnorm: 0.7281, snorm: 0.0799,eps_pri: 0.0008, eps_dual: 0.0007\n",
      "obj: 185.1660, rnorm: 0.6607, snorm: 0.0806,eps_pri: 0.0008, eps_dual: 0.0007\n",
      "obj: 185.4990, rnorm: 0.6080, snorm: 0.0695,eps_pri: 0.0008, eps_dual: 0.0007\n",
      "obj: 185.8061, rnorm: 0.5656, snorm: 0.0562,eps_pri: 0.0008, eps_dual: 0.0007\n",
      "obj: 186.2303, rnorm: 0.4952, snorm: 0.0933,eps_pri: 0.0008, eps_dual: 0.0007\n",
      "obj: 186.6895, rnorm: 0.4230, snorm: 0.1136,eps_pri: 0.0008, eps_dual: 0.0007\n",
      "obj: 187.1432, rnorm: 0.3650, snorm: 0.1062,eps_pri: 0.0008, eps_dual: 0.0007\n",
      "obj: 187.5005, rnorm: 0.3210, snorm: 0.0896,eps_pri: 0.0008, eps_dual: 0.0007\n",
      "obj: 187.7690, rnorm: 0.2862, snorm: 0.0743,eps_pri: 0.0008, eps_dual: 0.0007\n",
      "obj: 187.9932, rnorm: 0.2578, snorm: 0.0554,eps_pri: 0.0008, eps_dual: 0.0007\n",
      "obj: 188.1846, rnorm: 0.2328, snorm: 0.0454,eps_pri: 0.0008, eps_dual: 0.0007\n",
      "obj: 188.3450, rnorm: 0.2093, snorm: 0.0391,eps_pri: 0.0008, eps_dual: 0.0007\n",
      "obj: 188.4639, rnorm: 0.1853, snorm: 0.0433,eps_pri: 0.0008, eps_dual: 0.0007\n",
      "obj: 188.5730, rnorm: 0.1642, snorm: 0.0422,eps_pri: 0.0008, eps_dual: 0.0007\n",
      "obj: 188.6705, rnorm: 0.1494, snorm: 0.0347,eps_pri: 0.0008, eps_dual: 0.0007\n",
      "obj: 188.7561, rnorm: 0.1383, snorm: 0.0267,eps_pri: 0.0008, eps_dual: 0.0007\n",
      "obj: 188.8306, rnorm: 0.1255, snorm: 0.0228,eps_pri: 0.0008, eps_dual: 0.0007\n",
      "obj: 188.9052, rnorm: 0.1118, snorm: 0.0233,eps_pri: 0.0008, eps_dual: 0.0007\n",
      "obj: 188.9798, rnorm: 0.0996, snorm: 0.0233,eps_pri: 0.0008, eps_dual: 0.0007\n",
      "obj: 189.0439, rnorm: 0.0905, snorm: 0.0201,eps_pri: 0.0008, eps_dual: 0.0007\n",
      "obj: 189.1033, rnorm: 0.0830, snorm: 0.0175,eps_pri: 0.0008, eps_dual: 0.0007\n",
      "obj: 189.1513, rnorm: 0.0765, snorm: 0.0136,eps_pri: 0.0008, eps_dual: 0.0007\n",
      "obj: 189.1893, rnorm: 0.0709, snorm: 0.0111,eps_pri: 0.0008, eps_dual: 0.0007\n",
      "obj: 189.2206, rnorm: 0.0660, snorm: 0.0092,eps_pri: 0.0008, eps_dual: 0.0007\n",
      "obj: 189.2478, rnorm: 0.0616, snorm: 0.0077,eps_pri: 0.0008, eps_dual: 0.0007\n",
      "obj: 189.2726, rnorm: 0.0576, snorm: 0.0068,eps_pri: 0.0008, eps_dual: 0.0007\n",
      "obj: 189.2954, rnorm: 0.0537, snorm: 0.0062,eps_pri: 0.0008, eps_dual: 0.0007\n",
      "obj: 189.3160, rnorm: 0.0501, snorm: 0.0059,eps_pri: 0.0008, eps_dual: 0.0007\n",
      "obj: 189.3338, rnorm: 0.0471, snorm: 0.0053,eps_pri: 0.0008, eps_dual: 0.0007\n",
      "obj: 189.3512, rnorm: 0.0436, snorm: 0.0056,eps_pri: 0.0008, eps_dual: 0.0007\n",
      "obj: 189.3690, rnorm: 0.0402, snorm: 0.0066,eps_pri: 0.0008, eps_dual: 0.0007\n",
      "obj: 189.3854, rnorm: 0.0373, snorm: 0.0061,eps_pri: 0.0008, eps_dual: 0.0007\n",
      "obj: 189.3996, rnorm: 0.0350, snorm: 0.0052,eps_pri: 0.0008, eps_dual: 0.0007\n",
      "obj: 189.4099, rnorm: 0.0326, snorm: 0.0056,eps_pri: 0.0008, eps_dual: 0.0007\n",
      "obj: 189.4204, rnorm: 0.0303, snorm: 0.0048,eps_pri: 0.0008, eps_dual: 0.0007\n",
      "obj: 189.4297, rnorm: 0.0284, snorm: 0.0042,eps_pri: 0.0008, eps_dual: 0.0007\n",
      "obj: 189.4378, rnorm: 0.0269, snorm: 0.0035,eps_pri: 0.0008, eps_dual: 0.0007\n",
      "obj: 189.4451, rnorm: 0.0255, snorm: 0.0028,eps_pri: 0.0008, eps_dual: 0.0007\n",
      "obj: 189.4518, rnorm: 0.0241, snorm: 0.0024,eps_pri: 0.0008, eps_dual: 0.0007\n",
      "obj: 189.4607, rnorm: 0.0309, snorm: 0.0327,eps_pri: 0.0008, eps_dual: 0.0007\n",
      "obj: 189.4537, rnorm: 0.0241, snorm: 0.0210,eps_pri: 0.0008, eps_dual: 0.0007\n",
      "obj: 189.4751, rnorm: 0.0188, snorm: 0.0153,eps_pri: 0.0008, eps_dual: 0.0007\n",
      "obj: 189.4877, rnorm: 0.0159, snorm: 0.0090,eps_pri: 0.0008, eps_dual: 0.0007\n",
      "obj: 189.4973, rnorm: 0.0140, snorm: 0.0069,eps_pri: 0.0008, eps_dual: 0.0007\n",
      "obj: 189.5039, rnorm: 0.0124, snorm: 0.0055,eps_pri: 0.0008, eps_dual: 0.0007\n",
      "obj: 189.5088, rnorm: 0.0112, snorm: 0.0045,eps_pri: 0.0008, eps_dual: 0.0007\n",
      "obj: 189.5124, rnorm: 0.0101, snorm: 0.0039,eps_pri: 0.0008, eps_dual: 0.0007\n",
      "obj: 189.5157, rnorm: 0.0092, snorm: 0.0034,eps_pri: 0.0008, eps_dual: 0.0007\n",
      "obj: 189.5186, rnorm: 0.0083, snorm: 0.0029,eps_pri: 0.0008, eps_dual: 0.0007\n",
      "obj: 189.5213, rnorm: 0.0076, snorm: 0.0025,eps_pri: 0.0008, eps_dual: 0.0007\n",
      "obj: 189.5237, rnorm: 0.0070, snorm: 0.0022,eps_pri: 0.0008, eps_dual: 0.0007\n",
      "obj: 189.5260, rnorm: 0.0064, snorm: 0.0020,eps_pri: 0.0008, eps_dual: 0.0007\n",
      "obj: 189.5281, rnorm: 0.0059, snorm: 0.0017,eps_pri: 0.0008, eps_dual: 0.0007\n",
      "obj: 189.5296, rnorm: 0.0055, snorm: 0.0016,eps_pri: 0.0008, eps_dual: 0.0007\n",
      "obj: 189.5311, rnorm: 0.0050, snorm: 0.0014,eps_pri: 0.0008, eps_dual: 0.0007\n",
      "obj: 189.5325, rnorm: 0.0047, snorm: 0.0013,eps_pri: 0.0008, eps_dual: 0.0007\n",
      "obj: 189.5336, rnorm: 0.0043, snorm: 0.0012,eps_pri: 0.0008, eps_dual: 0.0007\n",
      "obj: 189.5345, rnorm: 0.0040, snorm: 0.0011,eps_pri: 0.0008, eps_dual: 0.0007\n",
      "obj: 189.5355, rnorm: 0.0037, snorm: 0.0010,eps_pri: 0.0008, eps_dual: 0.0007\n",
      "obj: 189.5364, rnorm: 0.0035, snorm: 0.0009,eps_pri: 0.0008, eps_dual: 0.0007\n",
      "obj: 189.5369, rnorm: 0.0033, snorm: 0.0008,eps_pri: 0.0008, eps_dual: 0.0007\n",
      "obj: 189.5375, rnorm: 0.0030, snorm: 0.0008,eps_pri: 0.0008, eps_dual: 0.0007\n",
      "obj: 189.5381, rnorm: 0.0028, snorm: 0.0007,eps_pri: 0.0008, eps_dual: 0.0007\n",
      "obj: 189.5386, rnorm: 0.0026, snorm: 0.0006,eps_pri: 0.0008, eps_dual: 0.0007\n",
      "obj: 189.5389, rnorm: 0.0025, snorm: 0.0006,eps_pri: 0.0008, eps_dual: 0.0007\n",
      "obj: 189.5394, rnorm: 0.0023, snorm: 0.0006,eps_pri: 0.0008, eps_dual: 0.0007\n",
      "obj: 189.5397, rnorm: 0.0022, snorm: 0.0005,eps_pri: 0.0008, eps_dual: 0.0007\n",
      "obj: 189.5401, rnorm: 0.0020, snorm: 0.0005,eps_pri: 0.0008, eps_dual: 0.0007\n",
      "obj: 189.5405, rnorm: 0.0019, snorm: 0.0005,eps_pri: 0.0008, eps_dual: 0.0007\n",
      "obj: 189.5408, rnorm: 0.0018, snorm: 0.0004,eps_pri: 0.0008, eps_dual: 0.0007\n",
      "obj: 189.5408, rnorm: 0.0017, snorm: 0.0004,eps_pri: 0.0008, eps_dual: 0.0007\n",
      "obj: 189.5410, rnorm: 0.0016, snorm: 0.0004,eps_pri: 0.0008, eps_dual: 0.0007\n",
      "obj: 189.5413, rnorm: 0.0015, snorm: 0.0004,eps_pri: 0.0008, eps_dual: 0.0007\n",
      "obj: 189.5417, rnorm: 0.0014, snorm: 0.0003,eps_pri: 0.0008, eps_dual: 0.0007\n",
      "obj: 189.5416, rnorm: 0.0013, snorm: 0.0003,eps_pri: 0.0008, eps_dual: 0.0007\n",
      "obj: 189.5419, rnorm: 0.0012, snorm: 0.0003,eps_pri: 0.0008, eps_dual: 0.0007\n",
      "obj: 189.5420, rnorm: 0.0012, snorm: 0.0003,eps_pri: 0.0008, eps_dual: 0.0007\n",
      "obj: 189.5421, rnorm: 0.0011, snorm: 0.0002,eps_pri: 0.0008, eps_dual: 0.0007\n",
      "obj: 189.5421, rnorm: 0.0010, snorm: 0.0002,eps_pri: 0.0008, eps_dual: 0.0007\n",
      "obj: 189.5424, rnorm: 0.0010, snorm: 0.0002,eps_pri: 0.0008, eps_dual: 0.0007\n",
      "obj: 189.5424, rnorm: 0.0009, snorm: 0.0002,eps_pri: 0.0008, eps_dual: 0.0007\n",
      "obj: 189.5425, rnorm: 0.0009, snorm: 0.0002,eps_pri: 0.0008, eps_dual: 0.0007\n",
      "obj: 189.5426, rnorm: 0.0008, snorm: 0.0002,eps_pri: 0.0008, eps_dual: 0.0007\n",
      "obj: 189.5427, rnorm: 0.0008, snorm: 0.0002,eps_pri: 0.0008, eps_dual: 0.0007\n",
      "obj: 189.5427, rnorm: 0.0008, snorm: 0.0002,eps_pri: 0.0008, eps_dual: 0.0007\n"
     ]
    }
   ],
   "source": [
    "from sklearn.model_selection import GridSearchCV, ShuffleSplit\n",
    "from regain import utils; reload(utils)\n",
    "from regain.admm import time_graph_lasso_; reload(time_graph_lasso_)\n",
    "from regain.admm import latent_time_graph_lasso_; reload(latent_time_graph_lasso_);\n",
    "\n",
    "mdl = latent_time_graph_lasso_.LatentTimeGraphLasso(\n",
    "    alpha=0.5, tau=.2,\n",
    "    bypass_transpose=False, assume_centered=0, verbose=1, rtol=1e-5, tol=1e-5, psi='node',\n",
    "    max_iter=500, rho=1. / np.sqrt(np.array(data_list).shape[1])).fit(data_grid)\n",
    "\n",
    "# ltgl = GridSearchCV(mdl, dict(#tau=[0.25, 0.2, 0.1],\n",
    "#                              tau=np.linspace(0.01, 0.3, 20),\n",
    "#                              eta=np.linspace(0.01, 0.3, 5), beta=np.linspace(0.2, 0.5, 5),\n",
    "#                              #alpha=[0.05, 0.1, 1],\n",
    "#                              alpha=np.linspace(0.01, 0.2, 5)),\n",
    "#                     cv=ShuffleSplit(1, test_size=.5), n_jobs=-1).fit(data_grid)"
   ]
  },
  {
   "cell_type": "code",
   "execution_count": 13,
   "metadata": {},
   "outputs": [
    {
     "data": {
      "text/plain": [
       "99"
      ]
     },
     "execution_count": 13,
     "metadata": {},
     "output_type": "execute_result"
    }
   ],
   "source": [
    "mdl.n_iter_"
   ]
  },
  {
   "cell_type": "code",
   "execution_count": 14,
   "metadata": {
    "scrolled": true
   },
   "outputs": [
    {
     "ename": "AttributeError",
     "evalue": "'LatentTimeGraphLasso' object has no attribute 'best_estimator_'",
     "output_type": "error",
     "traceback": [
      "\u001b[0;31m---------------------------------------------------------------------------\u001b[0m",
      "\u001b[0;31mAttributeError\u001b[0m                            Traceback (most recent call last)",
      "\u001b[0;32m<ipython-input-14-9551ee0c05d9>\u001b[0m in \u001b[0;36m<module>\u001b[0;34m()\u001b[0m\n\u001b[0;32m----> 1\u001b[0;31m \u001b[0mll\u001b[0m \u001b[0;34m=\u001b[0m \u001b[0mmdl\u001b[0m\u001b[0;34m.\u001b[0m\u001b[0mbest_estimator_\u001b[0m\u001b[0;34m\u001b[0m\u001b[0m\n\u001b[0m",
      "\u001b[0;31mAttributeError\u001b[0m: 'LatentTimeGraphLasso' object has no attribute 'best_estimator_'"
     ]
    }
   ],
   "source": [
    "ll = ltgl.best_estimator_"
   ]
  },
  {
   "cell_type": "code",
   "execution_count": 15,
   "metadata": {},
   "outputs": [],
   "source": [
    "ll = mdl"
   ]
  },
  {
   "cell_type": "code",
   "execution_count": 18,
   "metadata": {},
   "outputs": [
    {
     "data": {
      "image/png": "[encoded data removed]",
      "text/plain": [
       "<matplotlib.figure.Figure at 0x7fe89beb1250>"
      ]
     },
     "metadata": {},
     "output_type": "display_data"
    }
   ],
   "source": [
    "prec = ll.precision_\n",
    "late = ll.latent_\n",
    "f = plt.figure()\n",
    "plt.plot([np.linalg.norm(prec[i+1] - prec[i]) for i in range(prec.shape[0]-1)],\n",
    "         label=r'$\\|\\|\\Theta_{i+1} - \\Theta_i\\|\\|_F$')\n",
    "plt.plot([np.linalg.norm(late[i+1] - late[i]) for i in range(late.shape[0]-1)],\n",
    "         label=r'$\\|\\|L_{i+1} - L_i\\|\\|_F$')\n",
    "plt.ylabel(\"temporal deviation\");\n",
    "plt.xlabel(\"time\");\n",
    "plt.xticks(np.arange(prec.shape[0]-1),\n",
    "           timestamps[:-1], rotation='vertical')\n",
    "plt.legend();"
   ]
  },
  {
   "cell_type": "code",
   "execution_count": null,
   "metadata": {
    "collapsed": true
   },
   "outputs": [],
   "source": []
  },
  {
   "cell_type": "code",
   "execution_count": null,
   "metadata": {
    "collapsed": true
   },
   "outputs": [],
   "source": []
  }
 ],
 "metadata": {
  "kernelspec": {
   "display_name": "Python 2",
   "language": "python",
   "name": "python2"
  },
  "language_info": {
   "codemirror_mode": {
    "name": "ipython",
    "version": 2
   },
   "file_extension": ".py",
   "mimetype": "text/x-python",
   "name": "python",
   "nbconvert_exporter": "python",
   "pygments_lexer": "ipython2",
   "version": "2.7.14"
  }
 },
 "nbformat": 4,
 "nbformat_minor": 2
}
