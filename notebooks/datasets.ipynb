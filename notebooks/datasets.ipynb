{
 "cells": [
  {
   "cell_type": "code",
   "execution_count": 47,
   "metadata": {},
   "outputs": [
    {
     "name": "stdout",
     "output_type": "stream",
     "text": [
      "Populating the interactive namespace from numpy and matplotlib\n"
     ]
    }
   ],
   "source": [
    "%pylab inline\n",
    "%matplotlib inline\n",
    "import regain\n",
    "reload(regain)\n",
    "from regain.datasets import is_pos_def, is_pos_semidef\n",
    "from regain.datasets import generate_ma_xue_zou\n",
    "from regain.plot import plot_graph_with_latent_variables\n",
    "from sklearn.datasets import make_sparse_spd_matrix\n",
    "import networkx as nx\n",
    "import scipy.sparse"
   ]
  },
  {
   "cell_type": "code",
   "execution_count": 49,
   "metadata": {
    "collapsed": true
   },
   "outputs": [],
   "source": [
    "n_dim_latent = 2\n",
    "n_dim_observed = 10"
   ]
  },
  {
   "cell_type": "code",
   "execution_count": 327,
   "metadata": {},
   "outputs": [
    {
     "data": {
      "text/plain": [
       "True"
      ]
     },
     "execution_count": 35,
     "metadata": {},
     "output_type": "execute_result"
    }
   ],
   "source": [
    "A = np.eye(5)\n",
    "from regain.datasets import is_pos_def\n",
    "\n",
    "is_pos_def(A)"
   ]
  },
  {
   "cell_type": "code",
   "execution_count": 44,
   "metadata": {},
   "outputs": [],
   "source": [
    "K_HO = np.zeros((n_dim_latent, n_dim_observed))\n",
    "for i in range(n_dim_latent):\n",
    "    percentage = int(n_dim_observed * 0.8)\n",
    "    indices = np.random.randint(0, high=n_dim_observed, size=percentage)\n",
    "    K_HO[i, indices] = np.random.rand(percentage)#*0.12"
   ]
  },
  {
   "cell_type": "code",
   "execution_count": 328,
   "metadata": {},
   "outputs": [
    {
     "data": {
      "text/plain": [
       "2"
      ]
     },
     "execution_count": 328,
     "metadata": {},
     "output_type": "execute_result"
    }
   ],
   "source": [
    "L = K_HO.T.dot(K_HO)\n",
    "np.linalg.matrix_rank(L)\n",
    "#u, s, v = np.linalg.svd(L)\n",
    "#s_new = np.maximum(s, np.zeros(s.shape))\n",
    "#L_new = u.dot(np.diag(s_new)).dot(v.T)"
   ]
  },
  {
   "cell_type": "code",
   "execution_count": 329,
   "metadata": {},
   "outputs": [
    {
     "data": {
      "text/plain": [
       "False"
      ]
     },
     "execution_count": 329,
     "metadata": {},
     "output_type": "execute_result"
    }
   ],
   "source": [
    "is_pos_semidef(L_new)"
   ]
  },
  {
   "cell_type": "code",
   "execution_count": 330,
   "metadata": {},
   "outputs": [
    {
     "data": {
      "text/plain": [
       "array([[ 0.77956858,  0.76103752,  0.        ,  0.        ,  0.        ,\n",
       "         0.7692454 ,  0.        ,  0.78063216,  0.        ,  0.1435951 ],\n",
       "       [ 0.76103752,  0.87232496,  0.        ,  0.3083947 ,  0.26275728,\n",
       "         0.75095973,  0.11415563,  0.76207582,  0.10937663,  0.49592646],\n",
       "       [ 0.        ,  0.        ,  0.        ,  0.        ,  0.        ,\n",
       "         0.        ,  0.        ,  0.        ,  0.        ,  0.        ],\n",
       "       [ 0.        ,  0.3083947 ,  0.        ,  0.73511173,  0.6263271 ,\n",
       "         0.        ,  0.27210955,  0.        ,  0.26071798,  0.84797872],\n",
       "       [ 0.        ,  0.26275728,  0.        ,  0.6263271 ,  0.53364083,\n",
       "         0.        ,  0.23184174,  0.        ,  0.22213594,  0.7224916 ],\n",
       "       [ 0.7692454 ,  0.75095973,  0.        ,  0.        ,  0.        ,\n",
       "         0.75905892,  0.        ,  0.7702949 ,  0.        ,  0.14169358],\n",
       "       [ 0.        ,  0.11415563,  0.        ,  0.27210955,  0.23184174,\n",
       "         0.        ,  0.10072429,  0.        ,  0.09650758,  0.31388849],\n",
       "       [ 0.78063216,  0.76207582,  0.        ,  0.        ,  0.        ,\n",
       "         0.7702949 ,  0.        ,  0.7816972 ,  0.        ,  0.14379101],\n",
       "       [ 0.        ,  0.10937663,  0.        ,  0.26071798,  0.22213594,\n",
       "         0.        ,  0.09650758,  0.        ,  0.09246739,  0.30074788],\n",
       "       [ 0.1435951 ,  0.49592646,  0.        ,  0.84797872,  0.7224916 ,\n",
       "         0.14169358,  0.31388849,  0.14379101,  0.30074788,  1.00462493]])"
      ]
     },
     "execution_count": 330,
     "metadata": {},
     "output_type": "execute_result"
    }
   ],
   "source": [
    "L"
   ]
  },
  {
   "cell_type": "code",
   "execution_count": 350,
   "metadata": {},
   "outputs": [],
   "source": [
    "theta = np.diag(np.ones(n_dim_observed))\n",
    "for i in range(n_dim_observed-1):\n",
    "    l = list(np.arange(i+1,n_dim_observed))\n",
    "    indices = np.random.choice(l, 2)\n",
    "    theta[i, indices] = 0.25\n",
    "    theta[indices, i] = 0.25\n",
    "    "
   ]
  },
  {
   "cell_type": "code",
   "execution_count": 351,
   "metadata": {},
   "outputs": [
    {
     "data": {
      "text/plain": [
       "<module 'regain.prox' from '/home/fede/src/slipguru/regain/regain/prox.pyc'>"
      ]
     },
     "execution_count": 6,
     "metadata": {},
     "output_type": "execute_result"
    }
   ],
   "source": [
    "theta += np.diag(np.sum(L, axis=1))"
   ]
  },
  {
   "cell_type": "code",
   "execution_count": 352,
   "metadata": {},
   "outputs": [
    {
     "name": "stdout",
     "output_type": "stream",
     "text": [
      "[[ 4.23407875  0.          0.25        0.          0.          0.          0.\n",
      "   0.          0.25        0.        ]\n",
      " [ 0.          5.43700872  0.          0.25        0.          0.          0.\n",
      "   0.          0.          0.25      ]\n",
      " [ 0.25        0.          1.          0.          0.25        0.          0.\n",
      "   0.          0.          0.25      ]\n",
      " [ 0.          0.25        0.          4.05063978  0.          0.          0.\n",
      "   0.25        0.          0.25      ]\n",
      " [ 0.          0.          0.25        0.          3.59919448  0.          0.\n",
      "   0.          0.25        0.25      ]\n",
      " [ 0.          0.          0.          0.          0.          4.19125252\n",
      "   0.          0.          0.25        0.        ]\n",
      " [ 0.          0.          0.          0.          0.          0.\n",
      "   2.12922728  0.25        0.25        0.        ]\n",
      " [ 0.          0.          0.          0.25        0.          0.          0.25\n",
      "   4.23849109  0.25        0.25      ]\n",
      " [ 0.25        0.          0.          0.          0.25        0.25        0.25\n",
      "   0.25        2.08195339  0.25      ]\n",
      " [ 0.          0.25        0.25        0.25        0.25        0.          0.\n",
      "   0.25        0.25        5.11473776]]\n"
     ]
    }
   ],
   "source": [
    "print theta"
   ]
  },
  {
   "cell_type": "code",
   "execution_count": 353,
   "metadata": {},
   "outputs": [
    {
     "data": {
      "text/plain": [
       "array([[ 3.45451017, -0.76103752,  0.25      ,  0.        ,  0.        ,\n",
       "        -0.7692454 ,  0.        , -0.78063216,  0.25      , -0.1435951 ],\n",
       "       [-0.76103752,  4.56468376,  0.        , -0.0583947 , -0.26275728,\n",
       "        -0.75095973, -0.11415563, -0.76207582, -0.10937663, -0.24592646],\n",
       "       [ 0.25      ,  0.        ,  1.        ,  0.        ,  0.25      ,\n",
       "         0.        ,  0.        ,  0.        ,  0.        ,  0.25      ],\n",
       "       [ 0.        , -0.0583947 ,  0.        ,  3.31552805, -0.6263271 ,\n",
       "         0.        , -0.27210955,  0.25      , -0.26071798, -0.59797872],\n",
       "       [ 0.        , -0.26275728,  0.25      , -0.6263271 ,  3.06555365,\n",
       "         0.        , -0.23184174,  0.        ,  0.02786406, -0.4724916 ],\n",
       "       [-0.7692454 , -0.75095973,  0.        ,  0.        ,  0.        ,\n",
       "         3.43219361,  0.        , -0.7702949 ,  0.25      , -0.14169358],\n",
       "       [ 0.        , -0.11415563,  0.        , -0.27210955, -0.23184174,\n",
       "         0.        ,  2.02850299,  0.25      ,  0.15349242, -0.31388849],\n",
       "       [-0.78063216, -0.76207582,  0.        ,  0.25      ,  0.        ,\n",
       "        -0.7702949 ,  0.25      ,  3.45679389,  0.25      ,  0.10620899],\n",
       "       [ 0.25      , -0.10937663,  0.        , -0.26071798,  0.02786406,\n",
       "         0.25      ,  0.15349242,  0.25      ,  1.989486  , -0.05074788],\n",
       "       [-0.1435951 , -0.24592646,  0.25      , -0.59797872, -0.4724916 ,\n",
       "        -0.14169358, -0.31388849,  0.10620899, -0.05074788,  4.11011283]])"
      ]
     },
     "execution_count": 353,
     "metadata": {},
     "output_type": "execute_result"
    }
   ],
   "source": [
    "theta_observed = theta -  L #? che si fa\n",
    "theta_observed"
   ]
  },
  {
   "cell_type": "code",
   "execution_count": 354,
   "metadata": {},
   "outputs": [
    {
     "data": {
      "text/plain": [
       "True"
      ]
     },
     "execution_count": 354,
     "metadata": {},
     "output_type": "execute_result"
    }
   ],
   "source": [
    "is_pos_def(theta_observed)"
   ]
  },
  {
   "cell_type": "code",
   "execution_count": 355,
   "metadata": {},
   "outputs": [
    {
     "data": {
      "text/plain": [
       "True"
      ]
     },
     "execution_count": 355,
     "metadata": {},
     "output_type": "execute_result"
    }
   ],
   "source": [
    "is_pos_def(theta)"
   ]
  },
  {
   "cell_type": "code",
   "execution_count": 356,
   "metadata": {
    "collapsed": true
   },
   "outputs": [],
   "source": [
    "d = np.diag(theta_observed).reshape(1, theta_observed.shape[0])\n",
    "d = 1. / np.sqrt(d)\n",
    "\n",
    "theta_observed *= d\n",
    "theta_observed *= d.T"
   ]
  },
  {
   "cell_type": "code",
   "execution_count": 358,
   "metadata": {},
   "outputs": [
    {
     "data": {
      "text/plain": [
       "array([[  1.39350751e+00,   4.80672025e-01,  -2.12680786e-01,\n",
       "         -2.19806023e-02,   7.76393328e-02,   5.50976163e-01,\n",
       "          4.64497213e-04,   5.49700903e-01,  -2.21663429e-01,\n",
       "          1.14809553e-01],\n",
       "       [  4.80672025e-01,   1.28425693e+00,  -1.00081154e-01,\n",
       "          2.87146054e-02,   1.32755955e-01,   4.66780295e-01,\n",
       "          4.14708561e-02,   4.57838265e-01,  -8.69104478e-02,\n",
       "          1.33572867e-01],\n",
       "       [ -2.12680786e-01,  -1.00081154e-01,   1.08151420e+00,\n",
       "         -6.91627732e-02,  -2.05121918e-01,  -9.34220461e-02,\n",
       "         -4.58855315e-02,  -7.59922407e-02,   2.82317687e-02,\n",
       "         -1.91530986e-01],\n",
       "       [ -2.19806023e-02,   2.87146054e-02,  -6.91627732e-02,\n",
       "          1.13787760e+00,   2.84544081e-01,  -2.95076523e-02,\n",
       "          1.77277345e-01,  -1.25571200e-01,   1.21218594e-01,\n",
       "          2.55367377e-01],\n",
       "       [  7.76393328e-02,   1.32755955e-01,  -2.05121918e-01,\n",
       "          2.84544081e-01,   1.14395990e+00,   5.47780877e-02,\n",
       "          1.67840092e-01,   1.13577686e-02,  -1.24506519e-03,\n",
       "          2.54126507e-01],\n",
       "       [  5.50976163e-01,   4.66780295e-01,  -9.34220461e-02,\n",
       "         -2.95076523e-02,   5.47780877e-02,   1.35639248e+00,\n",
       "         -4.48969608e-03,   5.38136123e-01,  -2.18286616e-01,\n",
       "          9.31768606e-02],\n",
       "       [  4.64497213e-04,   4.14708561e-02,  -4.58855315e-02,\n",
       "          1.77277345e-01,   1.67840092e-01,  -4.48969608e-03,\n",
       "          1.06899120e+00,  -1.07154190e-01,  -5.03240279e-02,\n",
       "          1.77253226e-01],\n",
       "       [  5.49700903e-01,   4.57838265e-01,  -7.59922407e-02,\n",
       "         -1.25571200e-01,   1.13577686e-02,   5.38136123e-01,\n",
       "         -1.07154190e-01,   1.37288680e+00,  -2.22792049e-01,\n",
       "          3.49976269e-03],\n",
       "       [ -2.21663429e-01,  -8.69104478e-02,   2.82317687e-02,\n",
       "          1.21218594e-01,  -1.24506519e-03,  -2.18286616e-01,\n",
       "         -5.03240279e-02,  -2.22792049e-01,   1.07652462e+00,\n",
       "          1.42840091e-02],\n",
       "       [  1.14809553e-01,   1.33572867e-01,  -1.91530986e-01,\n",
       "          2.55367377e-01,   2.54126507e-01,   9.31768606e-02,\n",
       "          1.77253226e-01,   3.49976269e-03,   1.42840091e-02,\n",
       "          1.13370978e+00]])"
      ]
     },
     "execution_count": 358,
     "metadata": {},
     "output_type": "execute_result"
    }
   ],
   "source": [
    "np.linalg.inv(theta_observed)"
   ]
  },
  {
   "cell_type": "code",
   "execution_count": null,
   "metadata": {},
   "outputs": [],
   "source": []
  }
 ],
 "metadata": {
  "kernelspec": {
   "display_name": "Python 2",
   "language": "python",
   "name": "python2"
  },
  "language_info": {
   "codemirror_mode": {
    "name": "ipython",
    "version": 2
   },
   "file_extension": ".py",
   "mimetype": "text/x-python",
   "name": "python",
   "nbconvert_exporter": "python",
   "pygments_lexer": "ipython2",
   "version": "2.7.13"
  }
 },
 "nbformat": 4,
 "nbformat_minor": 2
}
