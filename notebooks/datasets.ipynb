{
 "cells": [
  {
   "cell_type": "code",
   "execution_count": 1,
   "metadata": {},
   "outputs": [
    {
     "name": "stdout",
     "output_type": "stream",
     "text": [
      "Populating the interactive namespace from numpy and matplotlib\n"
     ]
    }
   ],
   "source": [
    "%pylab inline\n",
    "\n",
    "import networkx as nx\n",
    "import scipy.sparse\n",
    "from sklearn.datasets import make_sparse_spd_matrix\n",
    "\n",
    "import regain; reload(regain)\n",
    "from regain.datasets import is_pos_def, is_pos_semidef\n",
    "from regain.datasets import generate_ma_xue_zou\n",
    "from regain.plot import plot_graph_with_latent_variables"
   ]
  },
  {
   "cell_type": "code",
   "execution_count": 2,
   "metadata": {},
   "outputs": [],
   "source": [
    "n_dim_latent = 2\n",
    "n_dim_observed = 10"
   ]
  },
  {
   "cell_type": "code",
   "execution_count": 3,
   "metadata": {},
   "outputs": [
    {
     "data": {
      "text/plain": [
       "True"
      ]
     },
     "execution_count": 3,
     "metadata": {},
     "output_type": "execute_result"
    }
   ],
   "source": [
    "A = np.eye(5)\n",
    "is_pos_def(A)"
   ]
  },
  {
   "cell_type": "code",
   "execution_count": 4,
   "metadata": {},
   "outputs": [],
   "source": [
    "K_HO = np.zeros((n_dim_latent, n_dim_observed))\n",
    "for i in range(n_dim_latent):\n",
    "    percentage = int(n_dim_observed * 0.8)\n",
    "    indices = np.random.randint(0, high=n_dim_observed, size=percentage)\n",
    "    K_HO[i, indices] = np.random.rand(percentage)#*0.12"
   ]
  },
  {
   "cell_type": "code",
   "execution_count": 5,
   "metadata": {},
   "outputs": [],
   "source": [
    "eigs, U = np.linalg.eigh(K_HO.T.dot(K_HO))\n",
    "L = np.linalg.multi_dot((U, np.diag(1.0 + np.random.rand(n_dim_observed)), U.T))\n",
    "# d = np.diag(L).reshape(1, L.shape[0])\n",
    "# d = 1. / np.sqrt(d)\n",
    "\n",
    "# L *= d\n",
    "# L *= d.T"
   ]
  },
  {
   "cell_type": "code",
   "execution_count": 6,
   "metadata": {},
   "outputs": [
    {
     "data": {
      "text/plain": [
       "True"
      ]
     },
     "execution_count": 6,
     "metadata": {},
     "output_type": "execute_result"
    }
   ],
   "source": [
    "is_pos_semidef(L)"
   ]
  },
  {
   "cell_type": "code",
   "execution_count": 7,
   "metadata": {},
   "outputs": [
    {
     "data": {
      "text/plain": [
       "array([ 1.06137459,  1.08110023,  1.29312782,  1.78184825,  1.966272  ,\n",
       "        1.91343537,  1.88577284,  1.90138111,  1.59554238,  1.37976814])"
      ]
     },
     "execution_count": 7,
     "metadata": {},
     "output_type": "execute_result"
    }
   ],
   "source": [
    "np.linalg.eigvals(L)"
   ]
  },
  {
   "cell_type": "code",
   "execution_count": 8,
   "metadata": {},
   "outputs": [
    {
     "data": {
      "text/plain": [
       "array([[  1.11203300e+00,  -9.48605711e-02,  -7.94080688e-03,\n",
       "         -1.71521013e-17,  -5.70773313e-17,  -5.70398703e-03,\n",
       "          1.62446921e-01,   2.40116117e-01,   1.62014764e-01,\n",
       "         -6.81054323e-02],\n",
       "       [ -9.48605711e-02,   1.55145364e+00,   3.71996507e-02,\n",
       "         -2.02140257e-16,   1.34893946e-16,  -7.09394784e-03,\n",
       "          1.61819965e-01,   1.56052549e-03,   2.16523735e-02,\n",
       "         -1.71731640e-01],\n",
       "       [ -7.94080688e-03,   3.71996507e-02,   1.28848622e+00,\n",
       "          7.80072573e-18,   2.50000000e-01,  -2.64222990e-02,\n",
       "          2.15824699e-01,  -2.36623579e-01,  -5.44088405e-02,\n",
       "          3.38849560e-02],\n",
       "       [ -1.71521013e-17,  -2.02140257e-16,   7.80072573e-18,\n",
       "          1.00184308e+00,  -1.84308462e-03,  -1.72542104e-17,\n",
       "          9.89961748e-17,   2.50000000e-01,   2.50000000e-01,\n",
       "         -5.35126892e-17],\n",
       "       [ -5.70773313e-17,   1.34893946e-16,   2.50000000e-01,\n",
       "         -1.84308462e-03,   1.00184308e+00,   1.90795272e-17,\n",
       "          1.82866753e-16,  -8.89249635e-17,   2.50000000e-01,\n",
       "         -4.76992727e-16],\n",
       "       [ -5.70398703e-03,  -7.09394784e-03,  -2.64222990e-02,\n",
       "         -1.72542104e-17,   1.90795272e-17,   9.14479466e-01,\n",
       "          4.00432625e-02,   3.44037277e-01,  -2.39248572e-02,\n",
       "          2.64585085e-01],\n",
       "       [  1.62446921e-01,   1.61819965e-01,   2.15824699e-01,\n",
       "          9.89961748e-17,   1.82866753e-16,   4.00432625e-02,\n",
       "          9.05855383e-01,   3.80392166e-01,   1.19692302e-01,\n",
       "          2.63925302e-01],\n",
       "       [  2.40116117e-01,   1.56052549e-03,  -2.36623579e-01,\n",
       "          2.50000000e-01,  -8.89249635e-17,   3.44037277e-01,\n",
       "          3.80392166e-01,   1.11928381e+00,   3.22718475e-03,\n",
       "          1.48006495e-01],\n",
       "       [  1.62014764e-01,   2.16523735e-02,  -5.44088405e-02,\n",
       "          2.50000000e-01,   2.50000000e-01,  -2.39248572e-02,\n",
       "          1.19692302e-01,   3.22718475e-03,   1.42038762e+00,\n",
       "          1.01359452e-01],\n",
       "       [ -6.81054323e-02,  -1.71731640e-01,   3.38849560e-02,\n",
       "         -5.35126892e-17,  -4.76992727e-16,   2.64585085e-01,\n",
       "          2.63925302e-01,   1.48006495e-01,   1.01359452e-01,\n",
       "          1.17807578e+00]])"
      ]
     },
     "execution_count": 8,
     "metadata": {},
     "output_type": "execute_result"
    }
   ],
   "source": [
    "theta = np.diag(np.ones(n_dim_observed))\n",
    "for i in range(n_dim_observed-1):\n",
    "    l = list(np.arange(i+1,n_dim_observed))\n",
    "    indices = np.random.choice(l, 2)\n",
    "    theta[i, indices] = 0.25\n",
    "    theta[indices, i] = 0.25\n",
    "    \n",
    "\n",
    "theta += np.diag(np.sum(L, axis=1))\n",
    "\n",
    "theta_observed = theta -  L #? che si fa\n",
    "theta_observed"
   ]
  },
  {
   "cell_type": "code",
   "execution_count": 9,
   "metadata": {},
   "outputs": [],
   "source": [
    "# d = np.diag(theta_observed).reshape(1, theta_observed.shape[0])\n",
    "# d = 1. / np.sqrt(d)\n",
    "\n",
    "# theta_observed *= d\n",
    "# theta_observed *= d.T"
   ]
  },
  {
   "cell_type": "code",
   "execution_count": 10,
   "metadata": {},
   "outputs": [
    {
     "data": {
      "text/plain": [
       "True"
      ]
     },
     "execution_count": 10,
     "metadata": {},
     "output_type": "execute_result"
    }
   ],
   "source": [
    "is_pos_def(theta_observed)"
   ]
  },
  {
   "cell_type": "code",
   "execution_count": 11,
   "metadata": {},
   "outputs": [
    {
     "data": {
      "text/plain": [
       "array([[  1.00322494e+00,   8.93236985e-02,  -4.10707857e-02,\n",
       "          9.66461244e-02,   4.55988289e-02,   6.32286053e-02,\n",
       "         -1.03110479e-01,  -2.46012644e-01,  -1.40948192e-01,\n",
       "          1.24133334e-01],\n",
       "       [  8.93236985e-02,   6.88420590e-01,   1.92986895e-02,\n",
       "         -9.51622677e-03,  -1.66318022e-03,  -4.93959420e-02,\n",
       "         -2.06848545e-01,   5.08266664e-02,  -1.27038639e-02,\n",
       "          1.57103701e-01],\n",
       "       [ -4.10707857e-02,   1.92986895e-02,   9.84721937e-01,\n",
       "         -1.44687816e-01,  -2.83151861e-01,  -1.18549927e-01,\n",
       "         -4.33720059e-01,   4.28824149e-01,   1.48906311e-01,\n",
       "          2.92207104e-02],\n",
       "       [  9.66461244e-02,  -9.51622677e-03,  -1.44687816e-01,\n",
       "          1.17047667e+00,   1.02237693e-01,   1.42163590e-01,\n",
       "          2.27876662e-01,  -4.33394569e-01,  -2.56387537e-01,\n",
       "          1.88982615e-03],\n",
       "       [  4.55988289e-02,  -1.66318022e-03,  -2.83151861e-01,\n",
       "          1.02237693e-01,   1.13028716e+00,   3.49465597e-02,\n",
       "          1.53270551e-01,  -1.55795722e-01,  -2.45575922e-01,\n",
       "          9.05408661e-03],\n",
       "       [  6.32286053e-02,  -4.93959420e-02,  -1.18549927e-01,\n",
       "          1.42163590e-01,   3.49465597e-02,   1.37077547e+00,\n",
       "          2.86184605e-01,  -5.48998927e-01,  -2.04458715e-02,\n",
       "         -3.01381195e-01],\n",
       "       [ -1.03110479e-01,  -2.06848545e-01,  -4.33720059e-01,\n",
       "          2.27876662e-01,   1.53270551e-01,   2.86184605e-01,\n",
       "          1.68592756e+00,  -7.33244544e-01,  -1.78812124e-01,\n",
       "         -3.58107780e-01],\n",
       "       [ -2.46012644e-01,   5.08266664e-02,   4.28824149e-01,\n",
       "         -4.33394569e-01,  -1.55795722e-01,  -5.48998927e-01,\n",
       "         -7.33244544e-01,   1.54331265e+00,   1.92312185e-01,\n",
       "          5.79833870e-02],\n",
       "       [ -1.40948192e-01,  -1.27038639e-02,   1.48906311e-01,\n",
       "         -2.56387537e-01,  -2.45575922e-01,  -2.04458715e-02,\n",
       "         -1.78812124e-01,   1.92312185e-01,   8.33317669e-01,\n",
       "         -6.54898742e-02],\n",
       "       [  1.24133334e-01,   1.57103701e-01,   2.92207104e-02,\n",
       "          1.88982615e-03,   9.05408661e-03,  -3.01381195e-01,\n",
       "         -3.58107780e-01,   5.79833870e-02,  -6.54898742e-02,\n",
       "          1.02434366e+00]])"
      ]
     },
     "execution_count": 11,
     "metadata": {},
     "output_type": "execute_result"
    }
   ],
   "source": [
    "np.linalg.inv(theta_observed)"
   ]
  },
  {
   "cell_type": "code",
   "execution_count": 12,
   "metadata": {
    "scrolled": false
   },
   "outputs": [],
   "source": [
    "from regain import datasets; reload(datasets)\n",
    "thetas, thetas_obs, ells = datasets.generate2()"
   ]
  },
  {
   "cell_type": "code",
   "execution_count": 13,
   "metadata": {},
   "outputs": [
    {
     "data": {
      "text/plain": [
       "[array([[ 2.1410214 ,  0.25      ,  0.25      ],\n",
       "        [ 0.25      ,  2.13022589,  0.25      ],\n",
       "        [ 0.25      ,  0.25      ,  2.54737567]]),\n",
       " array([[ 2.37989616,  0.83997409, -0.80848635],\n",
       "        [ 0.83997409,  2.11011604, -0.80071044],\n",
       "        [-0.80848635, -0.80071044,  2.36353512]]),\n",
       " array([[ 3.66995761, -0.75662653, -0.75794589],\n",
       "        [-0.75662653,  3.50658168,  0.64841009],\n",
       "        [-0.75794589,  0.64841009,  3.672023  ]]),\n",
       " array([[ 3.09640672,  0.77307485,  0.21886604],\n",
       "        [ 0.77307485,  2.36730331,  0.37505435],\n",
       "        [ 0.21886604,  0.37505435,  3.04274355]]),\n",
       " array([[ 2.75334949, -0.75748817,  0.44984055],\n",
       "        [-0.75748817,  3.45084319, -0.43239645],\n",
       "        [ 0.44984055, -0.43239645,  2.86002152]]),\n",
       " array([[ 3.73254183,  0.68695161, -0.65336949],\n",
       "        [ 0.68695161,  3.70352177, -0.62783152],\n",
       "        [-0.65336949, -0.62783152,  3.75162239]]),\n",
       " array([[ 3.80758932, -0.77290174,  0.10270662],\n",
       "        [-0.77290174,  3.56207847, -0.2477283 ],\n",
       "        [ 0.10270662, -0.2477283 ,  3.62923926]]),\n",
       " array([[ 3.98309069, -0.84082312,  0.55619052],\n",
       "        [-0.84082312,  3.96034404, -0.56285862],\n",
       "        [ 0.55619052, -0.56285862,  3.96646446]]),\n",
       " array([[ 3.9985337 ,  0.75644938,  0.11800483],\n",
       "        [ 0.75644938,  3.99655252, -0.00772933],\n",
       "        [ 0.11800483, -0.00772933,  3.99708428]]),\n",
       " array([[ 3.59026632,  0.83498417,  0.25956247],\n",
       "        [ 0.83498417,  3.72729377,  0.2453327 ],\n",
       "        [ 0.25956247,  0.2453327 ,  3.83194831]]),\n",
       " array([[ 3.45313551,  0.83297842,  0.68505277],\n",
       "        [ 0.83297842,  3.72722649,  0.69009613],\n",
       "        [ 0.68505277,  0.69009613,  3.47165004]])]"
      ]
     },
     "execution_count": 13,
     "metadata": {},
     "output_type": "execute_result"
    }
   ],
   "source": [
    "thetas"
   ]
  },
  {
   "cell_type": "code",
   "execution_count": 14,
   "metadata": {},
   "outputs": [],
   "source": [
    "b = np.random.rand(1, 5)\n",
    "es, Q = np.linalg.eigh(b.T.dot(b))  # Q random\n",
    "\n",
    "b = np.random.rand(1, 5)\n",
    "es, R = np.linalg.eigh(b.T.dot(b))  # Q random"
   ]
  },
  {
   "cell_type": "code",
   "execution_count": 65,
   "metadata": {},
   "outputs": [
    {
     "name": "stdout",
     "output_type": "stream",
     "text": [
      "[ 0.  0.  0.  0.  0.]\n",
      "[ 0.  0.  0.  0.  0.]\n",
      "[ 0.          0.          0.          0.          0.53780231]\n",
      "[ 0.  0.  0.  0.  0.]\n"
     ]
    }
   ],
   "source": [
    "start_sigma = np.random.rand(5) + 1\n",
    "start_lamda = np.zeros(5)\n",
    "idx = np.random.randint(5, size=2)\n",
    "start_lamda[idx] = np.random.rand(2)\n",
    "\n",
    "Ks = []\n",
    "Ls = []\n",
    "Kobs = []\n",
    "\n",
    "for i in range(4):\n",
    "    K = np.linalg.multi_dot((Q, np.diag(start_sigma), Q.T))\n",
    "    L = np.linalg.multi_dot((R, np.diag(start_lamda), R.T))\n",
    "    \n",
    "    K[np.abs(K) < 1e-1] = 0\n",
    " \n",
    "    assert is_pos_def(K - L)\n",
    "    assert is_pos_semidef(L)\n",
    "    \n",
    "    start_sigma += 1 + np.random.rand(5)\n",
    "    start_lamda[idx] += np.random.rand(2) * 2 - 1\n",
    "    start_lamda = np.maximum(start_lamda, 0)\n",
    "\n",
    "    print start_lamda\n",
    "    \n",
    "    Ks.append(K)\n",
    "    Ls.append(L)\n",
    "    Kobs.append(K - L)"
   ]
  },
  {
   "cell_type": "code",
   "execution_count": 66,
   "metadata": {},
   "outputs": [
    {
     "data": {
      "text/plain": [
       "<module 'regain.datasets' from '/home/fede/src/slipguru/regain/regain/datasets.pyc'>"
      ]
     },
     "execution_count": 66,
     "metadata": {},
     "output_type": "execute_result"
    }
   ],
   "source": [
    "reload(datasets)"
   ]
  },
  {
   "cell_type": "code",
   "execution_count": 72,
   "metadata": {},
   "outputs": [],
   "source": [
    "ll = map(np.linalg.inv, Kobs)\n",
    "map(datasets.normalize_matrix, ll);"
   ]
  },
  {
   "cell_type": "code",
   "execution_count": 62,
   "metadata": {},
   "outputs": [],
   "source": [
    "data_list = [np.random.multivariate_normal(np.zeros(5), l, size=50) for l in ll]"
   ]
  },
  {
   "cell_type": "code",
   "execution_count": 63,
   "metadata": {},
   "outputs": [
    {
     "name": "stdout",
     "output_type": "stream",
     "text": [
      "obj: 861.9435, rnorm: 2.8564, snorm: 5.7362,eps_pri: 0.0588, eps_dual: 0.0300\n",
      "obj: 862.0042, rnorm: 1.1571, snorm: 1.5526,eps_pri: 0.0649, eps_dual: 0.0401\n",
      "obj: 861.8951, rnorm: 0.8003, snorm: 1.1858,eps_pri: 0.0719, eps_dual: 0.0437\n",
      "obj: 861.9060, rnorm: 0.7054, snorm: 1.0267,eps_pri: 0.0781, eps_dual: 0.0462\n",
      "obj: 862.0081, rnorm: 0.7179, snorm: 0.9220,eps_pri: 0.0841, eps_dual: 0.0481\n",
      "obj: 862.1194, rnorm: 0.8520, snorm: 0.7651,eps_pri: 0.0907, eps_dual: 0.0494\n",
      "obj: 862.1972, rnorm: 1.0243, snorm: 0.5380,eps_pri: 0.0963, eps_dual: 0.0509\n",
      "obj: 862.5128, rnorm: 1.1295, snorm: 0.2723,eps_pri: 0.0993, eps_dual: 0.0539\n",
      "obj: 863.4442, rnorm: 1.0765, snorm: 0.2402,eps_pri: 0.0992, eps_dual: 0.0581\n",
      "obj: 865.0322, rnorm: 0.8493, snorm: 0.3843,eps_pri: 0.0961, eps_dual: 0.0621\n",
      "obj: 866.5272, rnorm: 0.5217, snorm: 0.4783,eps_pri: 0.0915, eps_dual: 0.0649\n",
      "obj: 867.2723, rnorm: 0.2940, snorm: 0.4671,eps_pri: 0.0866, eps_dual: 0.0662\n",
      "obj: 867.4627, rnorm: 0.3265, snorm: 0.3654,eps_pri: 0.0844, eps_dual: 0.0672\n",
      "obj: 867.3731, rnorm: 0.3581, snorm: 0.2619,eps_pri: 0.0828, eps_dual: 0.0684\n",
      "obj: 867.1910, rnorm: 0.3444, snorm: 0.1889,eps_pri: 0.0819, eps_dual: 0.0700\n",
      "obj: 867.0525, rnorm: 0.3193, snorm: 0.1471,eps_pri: 0.0813, eps_dual: 0.0719\n",
      "obj: 866.9956, rnorm: 0.2950, snorm: 0.1319,eps_pri: 0.0810, eps_dual: 0.0739\n",
      "obj: 867.0568, rnorm: 0.2698, snorm: 0.1286,eps_pri: 0.0810, eps_dual: 0.0758\n",
      "obj: 867.2370, rnorm: 0.2415, snorm: 0.1248,eps_pri: 0.0812, eps_dual: 0.0776\n",
      "obj: 867.6053, rnorm: 0.2129, snorm: 0.1228,eps_pri: 0.0816, eps_dual: 0.0792\n",
      "obj: 867.9200, rnorm: 0.1830, snorm: 0.1152,eps_pri: 0.0820, eps_dual: 0.0806\n",
      "obj: 868.2014, rnorm: 0.1668, snorm: 0.1049,eps_pri: 0.0825, eps_dual: 0.0817\n",
      "obj: 868.5657, rnorm: 0.1541, snorm: 0.0976,eps_pri: 0.0829, eps_dual: 0.0827\n",
      "obj: 868.8626, rnorm: 0.1378, snorm: 0.0922,eps_pri: 0.0834, eps_dual: 0.0834\n",
      "obj: 869.1035, rnorm: 0.1260, snorm: 0.0886,eps_pri: 0.0838, eps_dual: 0.0841\n",
      "obj: 869.3155, rnorm: 0.1088, snorm: 0.0901,eps_pri: 0.0841, eps_dual: 0.0846\n",
      "obj: 869.4545, rnorm: 0.0928, snorm: 0.0873,eps_pri: 0.0844, eps_dual: 0.0851\n",
      "obj: 869.5564, rnorm: 0.0842, snorm: 0.0831,eps_pri: 0.0847, eps_dual: 0.0855\n"
     ]
    }
   ],
   "source": [
    "from regain.admm import latent_time_graph_lasso_, time_graph_lasso_\n",
    "K, L, S = latent_time_graph_lasso_.time_latent_graph_lasso(data_list, verbose=1)\n",
    "# K, S = time_graph_lasso_.time_graph_lasso(data_list, verbose=1)"
   ]
  },
  {
   "cell_type": "code",
   "execution_count": 57,
   "metadata": {},
   "outputs": [],
   "source": [
    "K[np.abs(K) < 1e-2] = 0"
   ]
  },
  {
   "cell_type": "code",
   "execution_count": 58,
   "metadata": {},
   "outputs": [
    {
     "data": {
      "text/plain": [
       "1.0537628406557296"
      ]
     },
     "execution_count": 58,
     "metadata": {},
     "output_type": "execute_result"
    }
   ],
   "source": [
    "Kcopy = K.copy()\n",
    "Kcopy[:, np.arange(K.shape[1]), np.arange(K.shape[1])] = 0\n",
    "Kscopy = np.array(Ks).copy()\n",
    "Kscopy[:, np.arange(K.shape[1]), np.arange(K.shape[1])] = 0\n",
    "\n",
    "np.linalg.norm(np.array(Kscopy) - Kcopy)"
   ]
  },
  {
   "cell_type": "code",
   "execution_count": null,
   "metadata": {},
   "outputs": [],
   "source": []
  }
 ],
 "metadata": {
  "kernelspec": {
   "display_name": "Python 2",
   "language": "python",
   "name": "python2"
  },
  "language_info": {
   "codemirror_mode": {
    "name": "ipython",
    "version": 2
   },
   "file_extension": ".py",
   "mimetype": "text/x-python",
   "name": "python",
   "nbconvert_exporter": "python",
   "pygments_lexer": "ipython2",
   "version": "2.7.13"
  }
 },
 "nbformat": 4,
 "nbformat_minor": 2
}
