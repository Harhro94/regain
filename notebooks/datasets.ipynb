{
 "cells": [
  {
   "cell_type": "code",
   "execution_count": 1,
   "metadata": {},
   "outputs": [
    {
     "name": "stdout",
     "output_type": "stream",
     "text": [
      "Populating the interactive namespace from numpy and matplotlib\n"
     ]
    }
   ],
   "source": [
    "%pylab inline\n",
    "\n",
    "import networkx as nx\n",
    "import scipy.sparse\n",
    "from sklearn.datasets import make_sparse_spd_matrix\n",
    "\n",
    "import regain; reload(regain)\n",
    "from regain.datasets import is_pos_def, is_pos_semidef\n",
    "from regain.datasets import generate_ma_xue_zou\n",
    "from regain.plot import plot_graph_with_latent_variables"
   ]
  },
  {
   "cell_type": "code",
   "execution_count": 12,
   "metadata": {
    "scrolled": false
   },
   "outputs": [],
   "source": [
    "from regain import datasets; reload(datasets)\n",
    "thetas, thetas_obs, ells = datasets.generate2()"
   ]
  },
  {
   "cell_type": "code",
   "execution_count": null,
   "metadata": {},
   "outputs": [],
   "source": []
  },
  {
   "cell_type": "code",
   "execution_count": 92,
   "metadata": {},
   "outputs": [],
   "source": [
    "data_list, Kobs, Ks, Ls = datasets.generate_dataset_fede(n_dim_obs=12, eps=1e-1)"
   ]
  },
  {
   "cell_type": "code",
   "execution_count": 99,
   "metadata": {},
   "outputs": [
    {
     "name": "stdout",
     "output_type": "stream",
     "text": [
      "obj: 5103.3814, rnorm: 8.6829, snorm: 16.2863,eps_pri: 0.1682, eps_dual: 0.0922\n",
      "obj: 5105.9553, rnorm: 4.1696, snorm: 4.1226,eps_pri: 0.1825, eps_dual: 0.1292\n",
      "obj: 5106.6840, rnorm: 3.3627, snorm: 3.1360,eps_pri: 0.1981, eps_dual: 0.1502\n",
      "obj: 5109.1559, rnorm: 3.1758, snorm: 2.6910,eps_pri: 0.2115, eps_dual: 0.1703\n",
      "obj: 5113.3326, rnorm: 3.0374, snorm: 2.4569,eps_pri: 0.2242, eps_dual: 0.1908\n",
      "obj: 5118.3021, rnorm: 3.0869, snorm: 2.1011,eps_pri: 0.2395, eps_dual: 0.2103\n",
      "obj: 5124.3845, rnorm: 3.2681, snorm: 1.6195,eps_pri: 0.2544, eps_dual: 0.2289\n",
      "obj: 5137.6059, rnorm: 3.3361, snorm: 1.2494,eps_pri: 0.2644, eps_dual: 0.2471\n",
      "obj: 5156.8760, rnorm: 2.9265, snorm: 1.1544,eps_pri: 0.2671, eps_dual: 0.2629\n",
      "obj: 5175.1058, rnorm: 2.1709, snorm: 1.1653,eps_pri: 0.2638, eps_dual: 0.2749\n",
      "obj: 5189.5554, rnorm: 1.5343, snorm: 1.0832,eps_pri: 0.2583, eps_dual: 0.2839\n",
      "obj: 5200.0692, rnorm: 1.2510, snorm: 0.8650,eps_pri: 0.2542, eps_dual: 0.2913\n",
      "obj: 5207.6422, rnorm: 1.1557, snorm: 0.6200,eps_pri: 0.2532, eps_dual: 0.2979\n",
      "obj: 5212.6626, rnorm: 1.0532, snorm: 0.4426,eps_pri: 0.2527, eps_dual: 0.3042\n",
      "obj: 5216.3171, rnorm: 0.9405, snorm: 0.3673,eps_pri: 0.2527, eps_dual: 0.3104\n",
      "obj: 5219.4908, rnorm: 0.8441, snorm: 0.3443,eps_pri: 0.2527, eps_dual: 0.3164\n",
      "obj: 5222.6728, rnorm: 0.7660, snorm: 0.3337,eps_pri: 0.2527, eps_dual: 0.3220\n",
      "obj: 5225.9840, rnorm: 0.6962, snorm: 0.3204,eps_pri: 0.2526, eps_dual: 0.3271\n",
      "obj: 5229.1169, rnorm: 0.6312, snorm: 0.2965,eps_pri: 0.2524, eps_dual: 0.3317\n",
      "obj: 5232.1350, rnorm: 0.5728, snorm: 0.2713,eps_pri: 0.2521, eps_dual: 0.3358\n",
      "obj: 5235.1319, rnorm: 0.5193, snorm: 0.2460,eps_pri: 0.2518, eps_dual: 0.3395\n",
      "obj: 5237.9077, rnorm: 0.4723, snorm: 0.2184,eps_pri: 0.2516, eps_dual: 0.3428\n",
      "obj: 5240.2561, rnorm: 0.4332, snorm: 0.1921,eps_pri: 0.2514, eps_dual: 0.3457\n",
      "obj: 5242.2076, rnorm: 0.4012, snorm: 0.1704,eps_pri: 0.2512, eps_dual: 0.3484\n",
      "obj: 5243.9219, rnorm: 0.3730, snorm: 0.1538,eps_pri: 0.2511, eps_dual: 0.3509\n",
      "obj: 5245.6374, rnorm: 0.3460, snorm: 0.1431,eps_pri: 0.2511, eps_dual: 0.3531\n",
      "obj: 5247.1297, rnorm: 0.3200, snorm: 0.1327,eps_pri: 0.2511, eps_dual: 0.3552\n",
      "obj: 5248.3966, rnorm: 0.2990, snorm: 0.1204,eps_pri: 0.2511, eps_dual: 0.3570\n",
      "obj: 5249.7280, rnorm: 0.2805, snorm: 0.1116,eps_pri: 0.2511, eps_dual: 0.3588\n",
      "obj: 5250.8630, rnorm: 0.2611, snorm: 0.1020,eps_pri: 0.2512, eps_dual: 0.3603\n",
      "obj: 5251.8635, rnorm: 0.2454, snorm: 0.0927,eps_pri: 0.2513, eps_dual: 0.3618\n"
     ]
    }
   ],
   "source": [
    "from regain.admm import latent_time_graph_lasso_, time_graph_lasso_\n",
    "K, L, S = latent_time_graph_lasso_.time_latent_graph_lasso(data_list, verbose=1)\n",
    "# K, S = time_graph_lasso_.time_graph_lasso(data_list, verbose=1)"
   ]
  },
  {
   "cell_type": "code",
   "execution_count": 100,
   "metadata": {},
   "outputs": [],
   "source": [
    "K[np.abs(K) < 1e-2] = 0"
   ]
  },
  {
   "cell_type": "code",
   "execution_count": 101,
   "metadata": {},
   "outputs": [
    {
     "data": {
      "text/plain": [
       "0.55800693980604188"
      ]
     },
     "execution_count": 101,
     "metadata": {},
     "output_type": "execute_result"
    }
   ],
   "source": [
    "Kcopy = K.copy()\n",
    "Kcopy[:, np.arange(K.shape[1]), np.arange(K.shape[1])] = 0\n",
    "Kscopy = np.array(Ks).copy()\n",
    "Kscopy[:, np.arange(K.shape[1]), np.arange(K.shape[1])] = 0\n",
    "\n",
    "np.linalg.norm(np.array(Kscopy) - Kcopy) / np.sqrt(Kcopy.shape[0] * Kcopy.shape[1])"
   ]
  },
  {
   "cell_type": "code",
   "execution_count": 98,
   "metadata": {},
   "outputs": [
    {
     "data": {
      "text/plain": [
       "array([[[ 0.        , -0.38854562, -0.15665569, ..., -0.2528776 ,\n",
       "          0.09833598, -0.15901467],\n",
       "        [-0.38854562,  0.        , -0.07450907, ...,  0.10916989,\n",
       "         -0.03158137, -0.08057411],\n",
       "        [-0.15665569, -0.07450907,  0.        , ...,  0.08967044,\n",
       "         -0.16349396,  0.        ],\n",
       "        ..., \n",
       "        [-0.2528776 ,  0.10916989,  0.08967044, ...,  0.        ,\n",
       "         -0.10407768, -0.03976733],\n",
       "        [ 0.09833598, -0.03158137, -0.16349396, ..., -0.10407768,\n",
       "          0.        ,  0.        ],\n",
       "        [-0.15901467, -0.08057411,  0.        , ..., -0.03976733,\n",
       "          0.        ,  0.        ]],\n",
       "\n",
       "       [[ 0.        , -0.11551399, -0.18098224, ...,  0.05953233,\n",
       "         -0.07071484, -0.11143963],\n",
       "        [-0.11551399,  0.        ,  0.        , ...,  0.09765615,\n",
       "          0.        ,  0.02511551],\n",
       "        [-0.18098224,  0.        ,  0.        , ...,  0.01704563,\n",
       "         -0.02235748, -0.10728623],\n",
       "        ..., \n",
       "        [ 0.05953233,  0.09765615,  0.01704563, ...,  0.        ,\n",
       "          0.01579119, -0.02145152],\n",
       "        [-0.07071484,  0.        , -0.02235748, ...,  0.01579119,\n",
       "          0.        , -0.23020971],\n",
       "        [-0.11143963,  0.02511551, -0.10728623, ..., -0.02145152,\n",
       "         -0.23020971,  0.        ]],\n",
       "\n",
       "       [[ 0.        ,  0.06537383, -0.21858492, ...,  0.02241077,\n",
       "         -0.04907798, -0.03114147],\n",
       "        [ 0.06537383,  0.        ,  0.35596028, ..., -0.09687894,\n",
       "          0.        ,  0.06493514],\n",
       "        [-0.21858492,  0.35596028,  0.        , ..., -0.02544259,\n",
       "         -0.27428254,  0.06836891],\n",
       "        ..., \n",
       "        [ 0.02241077, -0.09687894, -0.02544259, ...,  0.        ,\n",
       "         -0.12001303,  0.07927267],\n",
       "        [-0.04907798,  0.        , -0.27428254, ..., -0.12001303,\n",
       "          0.        , -0.13440721],\n",
       "        [-0.03114147,  0.06493514,  0.06836891, ...,  0.07927267,\n",
       "         -0.13440721,  0.        ]],\n",
       "\n",
       "       ..., \n",
       "       [[ 0.        , -0.15666708, -0.10851695, ..., -0.01975815,\n",
       "          0.0678355 ,  0.07585596],\n",
       "        [-0.15666708,  0.        ,  0.13077311, ...,  0.07969368,\n",
       "         -0.29000736,  0.04702765],\n",
       "        [-0.10851695,  0.13077311,  0.        , ..., -0.07499418,\n",
       "          0.        ,  0.0106777 ],\n",
       "        ..., \n",
       "        [-0.01975815,  0.07969368, -0.07499418, ...,  0.        ,\n",
       "         -0.03918345,  0.03199192],\n",
       "        [ 0.0678355 , -0.29000736,  0.        , ..., -0.03918345,\n",
       "          0.        , -0.04552451],\n",
       "        [ 0.07585596,  0.04702765,  0.0106777 , ...,  0.03199192,\n",
       "         -0.04552451,  0.        ]],\n",
       "\n",
       "       [[ 0.        , -0.02974432, -0.12878388, ...,  0.        ,\n",
       "          0.        , -0.02650096],\n",
       "        [-0.02974432,  0.        ,  0.18806944, ..., -0.21485228,\n",
       "         -0.18638039, -0.02983161],\n",
       "        [-0.12878388,  0.18806944,  0.        , ...,  0.13879829,\n",
       "         -0.02477158,  0.17234087],\n",
       "        ..., \n",
       "        [ 0.        , -0.21485228,  0.13879829, ...,  0.        ,\n",
       "         -0.25232339, -0.24139485],\n",
       "        [ 0.        , -0.18638039, -0.02477158, ..., -0.25232339,\n",
       "          0.        , -0.10143577],\n",
       "        [-0.02650096, -0.02983161,  0.17234087, ..., -0.24139485,\n",
       "         -0.10143577,  0.        ]],\n",
       "\n",
       "       [[ 0.        , -0.02737396,  0.09180182, ...,  0.        ,\n",
       "          0.10354608, -0.04036093],\n",
       "        [-0.02737396,  0.        , -0.21208274, ...,  0.09602222,\n",
       "         -0.12098372, -0.0810608 ],\n",
       "        [ 0.09180182, -0.21208274,  0.        , ...,  0.15793221,\n",
       "          0.11908222, -0.01359487],\n",
       "        ..., \n",
       "        [ 0.        ,  0.09602222,  0.15793221, ...,  0.        ,\n",
       "         -0.11929872,  0.10880445],\n",
       "        [ 0.10354608, -0.12098372,  0.11908222, ..., -0.11929872,\n",
       "          0.        ,  0.04232586],\n",
       "        [-0.04036093, -0.0810608 , -0.01359487, ...,  0.10880445,\n",
       "          0.04232586,  0.        ]]])"
      ]
     },
     "execution_count": 98,
     "metadata": {},
     "output_type": "execute_result"
    }
   ],
   "source": [
    "np.array(Kcopy)"
   ]
  },
  {
   "cell_type": "code",
   "execution_count": null,
   "metadata": {},
   "outputs": [],
   "source": []
  }
 ],
 "metadata": {
  "kernelspec": {
   "display_name": "Python 2",
   "language": "python",
   "name": "python2"
  },
  "language_info": {
   "codemirror_mode": {
    "name": "ipython",
    "version": 2
   },
   "file_extension": ".py",
   "mimetype": "text/x-python",
   "name": "python",
   "nbconvert_exporter": "python",
   "pygments_lexer": "ipython2",
   "version": "2.7.13"
  }
 },
 "nbformat": 4,
 "nbformat_minor": 2
}
