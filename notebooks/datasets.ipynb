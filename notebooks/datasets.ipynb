{
 "cells": [
  {
   "cell_type": "code",
   "execution_count": 4,
   "metadata": {},
   "outputs": [
    {
     "name": "stdout",
     "output_type": "stream",
     "text": [
      "Populating the interactive namespace from numpy and matplotlib\n"
     ]
    }
   ],
   "source": [
    "%pylab inline\n",
    "\n",
    "import networkx as nx\n",
    "import scipy.sparse\n",
    "from sklearn.datasets import make_sparse_spd_matrix\n",
    "\n",
    "import regain; reload(regain)\n",
    "from regain.datasets import is_pos_def, is_pos_semidef\n",
    "from regain.datasets import generate_ma_xue_zou\n",
    "from regain.plot import plot_graph_with_latent_variables"
   ]
  },
  {
   "cell_type": "code",
   "execution_count": 5,
   "metadata": {
    "scrolled": false
   },
   "outputs": [],
   "source": [
    "from regain import datasets; reload(datasets)\n",
    "thetas, thetas_obs, ells = datasets.generate2()"
   ]
  },
  {
   "cell_type": "code",
   "execution_count": null,
   "metadata": {},
   "outputs": [],
   "source": []
  },
  {
   "cell_type": "code",
   "execution_count": 6,
   "metadata": {},
   "outputs": [],
   "source": [
    "data_list, Kobs, Ks, Ls = datasets.generate_dataset_fede(n_dim_obs=12, eps=1e-1)"
   ]
  },
  {
   "cell_type": "code",
   "execution_count": null,
   "metadata": {},
   "outputs": [],
   "source": []
  },
  {
   "cell_type": "code",
   "execution_count": 7,
   "metadata": {
    "scrolled": true
   },
   "outputs": [
    {
     "name": "stdout",
     "output_type": "stream",
     "text": [
      "obj: 4979.4694, rnorm: 9.0606, snorm: 16.8871,eps_pri: 0.1742, eps_dual: 0.0960\n",
      "obj: 4982.7916, rnorm: 4.3878, snorm: 4.2548,eps_pri: 0.1886, eps_dual: 0.1350\n",
      "obj: 4983.7804, rnorm: 3.5541, snorm: 3.2330,eps_pri: 0.2046, eps_dual: 0.1575\n",
      "obj: 4986.6948, rnorm: 3.3627, snorm: 2.7723,eps_pri: 0.2181, eps_dual: 0.1794\n",
      "obj: 4991.7074, rnorm: 3.2125, snorm: 2.5326,eps_pri: 0.2310, eps_dual: 0.2016\n",
      "obj: 4997.6813, rnorm: 3.2470, snorm: 2.1651,eps_pri: 0.2465, eps_dual: 0.2226\n",
      "obj: 5004.2004, rnorm: 3.4263, snorm: 1.6529,eps_pri: 0.2619, eps_dual: 0.2427\n",
      "obj: 5020.0000, rnorm: 3.4837, snorm: 1.3266,eps_pri: 0.2722, eps_dual: 0.2623\n",
      "obj: 5041.8486, rnorm: 2.9785, snorm: 1.2677,eps_pri: 0.2748, eps_dual: 0.2787\n",
      "obj: 5061.2553, rnorm: 2.1620, snorm: 1.2492,eps_pri: 0.2716, eps_dual: 0.2909\n",
      "obj: 5078.9016, rnorm: 1.5602, snorm: 1.1384,eps_pri: 0.2670, eps_dual: 0.3001\n",
      "obj: 5090.6029, rnorm: 1.2810, snorm: 0.9040,eps_pri: 0.2642, eps_dual: 0.3073\n",
      "obj: 5097.5383, rnorm: 1.1971, snorm: 0.6278,eps_pri: 0.2641, eps_dual: 0.3139\n",
      "obj: 5102.4711, rnorm: 1.0903, snorm: 0.4713,eps_pri: 0.2647, eps_dual: 0.3203\n",
      "obj: 5106.8850, rnorm: 0.9605, snorm: 0.4251,eps_pri: 0.2655, eps_dual: 0.3266\n",
      "obj: 5111.0793, rnorm: 0.8510, snorm: 0.4073,eps_pri: 0.2663, eps_dual: 0.3324\n",
      "obj: 5115.1502, rnorm: 0.7634, snorm: 0.3877,eps_pri: 0.2669, eps_dual: 0.3377\n",
      "obj: 5119.2953, rnorm: 0.6776, snorm: 0.3662,eps_pri: 0.2673, eps_dual: 0.3423\n",
      "obj: 5123.0522, rnorm: 0.6051, snorm: 0.3320,eps_pri: 0.2677, eps_dual: 0.3464\n",
      "obj: 5126.3554, rnorm: 0.5507, snorm: 0.2897,eps_pri: 0.2680, eps_dual: 0.3499\n",
      "obj: 5129.2194, rnorm: 0.5043, snorm: 0.2486,eps_pri: 0.2682, eps_dual: 0.3530\n",
      "obj: 5131.8208, rnorm: 0.4631, snorm: 0.2141,eps_pri: 0.2685, eps_dual: 0.3558\n",
      "obj: 5133.8786, rnorm: 0.4261, snorm: 0.1854,eps_pri: 0.2687, eps_dual: 0.3582\n",
      "obj: 5135.5007, rnorm: 0.3960, snorm: 0.1647,eps_pri: 0.2687, eps_dual: 0.3604\n",
      "obj: 5136.9492, rnorm: 0.3689, snorm: 0.1528,eps_pri: 0.2686, eps_dual: 0.3624\n",
      "obj: 5138.1838, rnorm: 0.3396, snorm: 0.1436,eps_pri: 0.2684, eps_dual: 0.3643\n",
      "obj: 5139.2654, rnorm: 0.3166, snorm: 0.1338,eps_pri: 0.2682, eps_dual: 0.3661\n",
      "obj: 5140.1615, rnorm: 0.2980, snorm: 0.1234,eps_pri: 0.2680, eps_dual: 0.3678\n",
      "obj: 5140.9373, rnorm: 0.2813, snorm: 0.1136,eps_pri: 0.2678, eps_dual: 0.3693\n",
      "obj: 5141.7235, rnorm: 0.2655, snorm: 0.1053,eps_pri: 0.2676, eps_dual: 0.3708\n"
     ]
    },
    {
     "ename": "ValueError",
     "evalue": "too many values to unpack",
     "output_type": "error",
     "traceback": [
      "\u001b[0;31m---------------------------------------------------------------------------\u001b[0m",
      "\u001b[0;31mValueError\u001b[0m                                Traceback (most recent call last)",
      "\u001b[0;32m<ipython-input-7-33608711cc33>\u001b[0m in \u001b[0;36m<module>\u001b[0;34m()\u001b[0m\n\u001b[1;32m      1\u001b[0m \u001b[0;32mfrom\u001b[0m \u001b[0mregain\u001b[0m\u001b[0;34m.\u001b[0m\u001b[0madmm\u001b[0m \u001b[0;32mimport\u001b[0m \u001b[0mlatent_time_graph_lasso_\u001b[0m\u001b[0;34m,\u001b[0m \u001b[0mtime_graph_lasso_\u001b[0m\u001b[0;34m;\u001b[0m \u001b[0mreload\u001b[0m\u001b[0;34m(\u001b[0m\u001b[0mtime_graph_lasso_\u001b[0m\u001b[0;34m)\u001b[0m\u001b[0;34m\u001b[0m\u001b[0m\n\u001b[0;32m----> 2\u001b[0;31m \u001b[0mK\u001b[0m\u001b[0;34m,\u001b[0m \u001b[0mL\u001b[0m\u001b[0;34m,\u001b[0m \u001b[0mS\u001b[0m \u001b[0;34m=\u001b[0m \u001b[0mlatent_time_graph_lasso_\u001b[0m\u001b[0;34m.\u001b[0m\u001b[0mtime_latent_graph_lasso\u001b[0m\u001b[0;34m(\u001b[0m\u001b[0mdata_list\u001b[0m\u001b[0;34m,\u001b[0m \u001b[0mverbose\u001b[0m\u001b[0;34m=\u001b[0m\u001b[0;36m1\u001b[0m\u001b[0;34m)\u001b[0m\u001b[0;34m\u001b[0m\u001b[0m\n\u001b[0m\u001b[1;32m      3\u001b[0m \u001b[0;31m# K, S = time_graph_lasso_.time_graph_lasso(data_list, verbose=1)\u001b[0m\u001b[0;34m\u001b[0m\u001b[0;34m\u001b[0m\u001b[0m\n",
      "\u001b[0;31mValueError\u001b[0m: too many values to unpack"
     ]
    }
   ],
   "source": [
    "from regain.admm import latent_time_graph_lasso_, time_graph_lasso_; reload(time_graph_lasso_)\n",
    "K, L, S = latent_time_graph_lasso_.time_latent_graph_lasso(data_list, verbose=1)\n",
    "# K, S = time_graph_lasso_.time_graph_lasso(data_list, verbose=1)"
   ]
  },
  {
   "cell_type": "code",
   "execution_count": 8,
   "metadata": {},
   "outputs": [
    {
     "name": "stdout",
     "output_type": "stream",
     "text": [
      "obj: 4979.4694, rnorm: 9.0606, snorm: 16.8871,eps_pri: 0.1742, eps_dual: 0.0960\n",
      "obj: 4982.7916, rnorm: 4.3878, snorm: 4.2548,eps_pri: 0.1886, eps_dual: 0.1350\n",
      "obj: 4983.7804, rnorm: 3.5541, snorm: 3.2330,eps_pri: 0.2046, eps_dual: 0.1575\n",
      "obj: 4986.6948, rnorm: 3.3627, snorm: 2.7723,eps_pri: 0.2181, eps_dual: 0.1794\n",
      "obj: 4991.7074, rnorm: 3.2125, snorm: 2.5326,eps_pri: 0.2310, eps_dual: 0.2016\n",
      "obj: 4997.6813, rnorm: 3.2470, snorm: 2.1651,eps_pri: 0.2465, eps_dual: 0.2226\n",
      "obj: 5004.2004, rnorm: 3.4263, snorm: 1.6529,eps_pri: 0.2619, eps_dual: 0.2427\n",
      "obj: 5020.0000, rnorm: 3.4837, snorm: 1.3266,eps_pri: 0.2722, eps_dual: 0.2623\n",
      "obj: 5041.8486, rnorm: 2.9785, snorm: 1.2677,eps_pri: 0.2748, eps_dual: 0.2787\n",
      "obj: 5061.2553, rnorm: 2.1620, snorm: 1.2492,eps_pri: 0.2716, eps_dual: 0.2909\n",
      "obj: 5078.9016, rnorm: 1.5602, snorm: 1.1384,eps_pri: 0.2670, eps_dual: 0.3001\n",
      "obj: 5090.6029, rnorm: 1.2810, snorm: 0.9040,eps_pri: 0.2642, eps_dual: 0.3073\n",
      "obj: 5097.5383, rnorm: 1.1971, snorm: 0.6278,eps_pri: 0.2641, eps_dual: 0.3139\n",
      "obj: 5102.4711, rnorm: 1.0903, snorm: 0.4713,eps_pri: 0.2647, eps_dual: 0.3203\n",
      "obj: 5106.8850, rnorm: 0.9605, snorm: 0.4251,eps_pri: 0.2655, eps_dual: 0.3266\n",
      "obj: 5111.0793, rnorm: 0.8510, snorm: 0.4073,eps_pri: 0.2663, eps_dual: 0.3324\n",
      "obj: 5115.1502, rnorm: 0.7634, snorm: 0.3877,eps_pri: 0.2669, eps_dual: 0.3377\n",
      "obj: 5119.2953, rnorm: 0.6776, snorm: 0.3662,eps_pri: 0.2673, eps_dual: 0.3423\n",
      "obj: 5123.0522, rnorm: 0.6051, snorm: 0.3320,eps_pri: 0.2677, eps_dual: 0.3464\n",
      "obj: 5126.3554, rnorm: 0.5507, snorm: 0.2897,eps_pri: 0.2680, eps_dual: 0.3499\n",
      "obj: 5129.2194, rnorm: 0.5043, snorm: 0.2486,eps_pri: 0.2682, eps_dual: 0.3530\n",
      "obj: 5131.8208, rnorm: 0.4631, snorm: 0.2141,eps_pri: 0.2685, eps_dual: 0.3558\n",
      "obj: 5133.8786, rnorm: 0.4261, snorm: 0.1854,eps_pri: 0.2687, eps_dual: 0.3582\n",
      "obj: 5135.5007, rnorm: 0.3960, snorm: 0.1647,eps_pri: 0.2687, eps_dual: 0.3604\n",
      "obj: 5136.9492, rnorm: 0.3689, snorm: 0.1528,eps_pri: 0.2686, eps_dual: 0.3624\n",
      "obj: 5138.1838, rnorm: 0.3396, snorm: 0.1436,eps_pri: 0.2684, eps_dual: 0.3643\n",
      "obj: 5139.2654, rnorm: 0.3166, snorm: 0.1338,eps_pri: 0.2682, eps_dual: 0.3661\n",
      "obj: 5140.1615, rnorm: 0.2980, snorm: 0.1234,eps_pri: 0.2680, eps_dual: 0.3678\n",
      "obj: 5140.9373, rnorm: 0.2813, snorm: 0.1136,eps_pri: 0.2678, eps_dual: 0.3693\n",
      "obj: 5141.7235, rnorm: 0.2655, snorm: 0.1053,eps_pri: 0.2676, eps_dual: 0.3708\n"
     ]
    }
   ],
   "source": [
    "reload(latent_time_graph_lasso_)\n",
    "lt = latent_time_graph_lasso_.LatentTimeGraphLasso(verbose=True, assume_centered=False, rtol=1e-2,\n",
    "                                                   max_iter=500).fit(np.array(data_list))"
   ]
  },
  {
   "cell_type": "code",
   "execution_count": 69,
   "metadata": {},
   "outputs": [
    {
     "data": {
      "text/plain": [
       "28"
      ]
     },
     "execution_count": 69,
     "metadata": {},
     "output_type": "execute_result"
    }
   ],
   "source": [
    "lt.n_iter_"
   ]
  },
  {
   "cell_type": "code",
   "execution_count": 33,
   "metadata": {},
   "outputs": [],
   "source": [
    "K[np.abs(K) < 1e-1] = 0"
   ]
  },
  {
   "cell_type": "code",
   "execution_count": 34,
   "metadata": {},
   "outputs": [
    {
     "data": {
      "text/plain": [
       "0.59605588545272103"
      ]
     },
     "execution_count": 34,
     "metadata": {},
     "output_type": "execute_result"
    }
   ],
   "source": [
    "Kcopy = K.copy()\n",
    "Kcopy[:, np.arange(K.shape[1]), np.arange(K.shape[1])] = 0\n",
    "Kscopy = np.array(Ks).copy()\n",
    "Kscopy[:, np.arange(K.shape[1]), np.arange(K.shape[1])] = 0\n",
    "\n",
    "np.linalg.norm(np.array(Kscopy) - Kcopy) / Kcopy.shape[0]"
   ]
  },
  {
   "cell_type": "code",
   "execution_count": 35,
   "metadata": {
    "scrolled": true
   },
   "outputs": [],
   "source": [
    "Kcopy = np.array(Kcopy)"
   ]
  },
  {
   "cell_type": "code",
   "execution_count": 37,
   "metadata": {},
   "outputs": [
    {
     "data": {
      "text/plain": [
       "52"
      ]
     },
     "execution_count": 37,
     "metadata": {},
     "output_type": "execute_result"
    }
   ],
   "source": [
    "# equal structure at each timestamp - nostro vs hallac\n",
    "((Kcopy == 0).astype(int) + (Kscopy == 0).astype(int) == 1)[0].sum()\n",
    "\n",
    "# low norm of difference, nostro vs hallac\n",
    "\n",
    "# test score\n",
    "\n",
    "# rank of L (nostro vs Chandrasekaran)\n",
    "\n",
    "# degenerate case: with T = 1, perform equal to chandrasekaran\n",
    "\n",
    "# comparison con chandrasekaran quando n e' grande o piccolo"
   ]
  },
  {
   "cell_type": "code",
   "execution_count": 48,
   "metadata": {},
   "outputs": [
    {
     "data": {
      "text/plain": [
       "12"
      ]
     },
     "execution_count": 48,
     "metadata": {},
     "output_type": "execute_result"
    }
   ],
   "source": [
    "np.linalg.matrix_rank(L[9])"
   ]
  }
 ],
 "metadata": {
  "kernelspec": {
   "display_name": "Python 2",
   "language": "python",
   "name": "python2"
  },
  "language_info": {
   "codemirror_mode": {
    "name": "ipython",
    "version": 2
   },
   "file_extension": ".py",
   "mimetype": "text/x-python",
   "name": "python",
   "nbconvert_exporter": "python",
   "pygments_lexer": "ipython2",
   "version": "2.7.13"
  }
 },
 "nbformat": 4,
 "nbformat_minor": 2
}
