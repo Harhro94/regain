{
 "cells": [
  {
   "cell_type": "markdown",
   "metadata": {},
   "source": [
    "# Real data comparison"
   ]
  },
  {
   "cell_type": "code",
   "execution_count": 1,
   "metadata": {},
   "outputs": [
    {
     "name": "stdout",
     "output_type": "stream",
     "text": [
      "Populating the interactive namespace from numpy and matplotlib\n"
     ]
    }
   ],
   "source": [
    "%pylab inline\n",
    "\n",
    "import scipy.sparse\n",
    "import pandas as pd\n",
    "from scipy.io import loadmat\n",
    "from sklearn.datasets import make_sparse_spd_matrix\n",
    "from sklearn.model_selection import GridSearchCV, ShuffleSplit\n",
    "from sklearn.utils.extmath import squared_norm\n",
    "from sklearn.covariance import empirical_covariance\n",
    "\n",
    "from regain import datasets; reload(datasets)\n",
    "from regain import model_selection; reload(model_selection)\n",
    "from regain.plot import plot_graph_with_latent_variables\n",
    "from regain.admm import latent_time_graph_lasso_; reload(latent_time_graph_lasso_)\n",
    "from regain.utils import error_norm"
   ]
  },
  {
   "cell_type": "code",
   "execution_count": 2,
   "metadata": {},
   "outputs": [],
   "source": [
    "df = pd.read_excel(\"/home/fede/Desktop/inline-supplementary-material-2.xls\", skiprows=1, index_col=0)\n",
    "best_dims = pd.read_csv(\"/home/fede/Desktop/inline-supplementary-material-3.txt\", delimiter=\"\\t\",\n",
    "                            skiprows=[0,2], skipinitialspace=True)"
   ]
  },
  {
   "cell_type": "code",
   "execution_count": 3,
   "metadata": {},
   "outputs": [],
   "source": [
    "df.columns = df.columns.str.lower()"
   ]
  },
  {
   "cell_type": "code",
   "execution_count": 4,
   "metadata": {},
   "outputs": [],
   "source": [
    "best_dims['sum_abs_diff_stress'] = (np.abs(best_dims['cold_2'] - best_dims['cold_3']) + \n",
    "    np.abs(best_dims['heat_2'] - best_dims['heat_3']) +\n",
    "    np.abs(best_dims['oxidative_2'] - best_dims['oxidative_3']))"
   ]
  },
  {
   "cell_type": "code",
   "execution_count": 5,
   "metadata": {},
   "outputs": [],
   "source": [
    "dims = best_dims.sort_values(\"sum_abs_diff_stress\", ascending=False).head(10)['condition_timepoint'].tolist()"
   ]
  },
  {
   "cell_type": "code",
   "execution_count": 6,
   "metadata": {},
   "outputs": [],
   "source": [
    "for x in ['shikimic acid-3-phosphate', \"methionine\", '2-ketobutyric acid']:\n",
    "    try:\n",
    "        dims.remove(x)\n",
    "    except:\n",
    "        pass"
   ]
  },
  {
   "cell_type": "code",
   "execution_count": 7,
   "metadata": {
    "scrolled": true
   },
   "outputs": [],
   "source": [
    "df_reduced = df.loc[:,['time point', 'stress'] + dims].fillna(1)"
   ]
  },
  {
   "cell_type": "code",
   "execution_count": 8,
   "metadata": {},
   "outputs": [],
   "source": [
    "df_reduced = df_reduced[df_reduced.stress.isin(['cold stress', 'heat stress', 'oxidative stress'])]"
   ]
  },
  {
   "cell_type": "code",
   "execution_count": 9,
   "metadata": {},
   "outputs": [],
   "source": [
    "a3d = np.array(list(df.groupby(\"time point\").apply(pd.DataFrame.as_matrix)))\n",
    "\n",
    "df_group = df_reduced.groupby(\"time point\")\n",
    "max_timepoints = 12\n",
    "# df_group = df_group.fillna(0)\n",
    "min_size = int(np.min([g[dims].values.shape[0] for n, g in df_group if n < max_timepoints]))\n",
    "X = np.array([group[dims].values[:min_size] for name, group in df_group if name < max_timepoints], dtype=float)\n",
    "# for name, group in df_group:\n",
    "#     print group.values.astype(float)"
   ]
  },
  {
   "cell_type": "code",
   "execution_count": 11,
   "metadata": {},
   "outputs": [],
   "source": [
    "data_list = np.log(X.copy())\n",
    "data_grid = data_list.transpose(1,2,0)"
   ]
  },
  {
   "cell_type": "code",
   "execution_count": 49,
   "metadata": {},
   "outputs": [
    {
     "data": {
      "text/plain": [
       "(6, 26, 7)"
      ]
     },
     "execution_count": 49,
     "metadata": {},
     "output_type": "execute_result"
    }
   ],
   "source": [
    "X.shape"
   ]
  },
  {
   "cell_type": "code",
   "execution_count": 31,
   "metadata": {
    "scrolled": true
   },
   "outputs": [],
   "source": [
    "mdl = latent_time_graph_lasso_.LatentTimeGraphLasso(\n",
    "    bypass_transpose=False, assume_centered=0, verbose=0, rtol=1e-4, tol=1e-4, psi='node', phi='node',\n",
    "    max_iter=350, rho=1./ np.sqrt(np.array(data_list).shape[1]))\n",
    "\n",
    "# alpha=np.linspace(0.01, 0.2, 5)\n",
    "# tau=np.linspace(0.01, 0.8, 5)\n",
    "# beta=np.linspace(0.01, 0.8, 2)\n",
    "# eta=np.linspace(0.01, 0.8, 2)\n",
    "# params = dict(tau=tau, eta=eta, alpha=alpha, beta=beta)\n",
    "\n",
    "# ltgl = GridSearchCV(mdl, params, cv=ShuffleSplit(3, test_size=.5), verbose=True).fit(data_grid)\n",
    "\n",
    "domain = [\n",
    "    {'name': 'tau', 'type': 'continuous', 'domain': (-1,0)},\n",
    "    {'name': 'alpha', 'type': 'continuous', 'domain': (-2.,np.log10(.5))},\n",
    "    {'name': 'beta', 'type': 'continuous', 'domain': (-2.,np.log10(.5))},\n",
    "    {'name': 'eta', 'type': 'continuous', 'domain': (-2.,np.log10(.5))},\n",
    "]\n",
    "ltgl = model_selection.BayesianOptimization(\n",
    "    mdl, domain=domain, n_jobs=2, acquisition_weight=1, acquisition_jitter=.01,\n",
    "    acquisition_type='EI', max_iter=200, cv=ShuffleSplit(5, test_size=.1)).fit(data_grid)\n",
    "\n",
    "alpha = ltgl.best_params_['alpha']\n",
    "tau = ltgl.best_params_['tau']\n",
    "beta = ltgl.best_params_['beta']\n",
    "eta = ltgl.best_params_['eta']\n",
    "\n",
    "tic = time.time()\n",
    "# ll = ltgl.best_estimator_.fit(data_grid)\n",
    "ll = mdl.set_params(**ltgl.best_params_).set_params(max_iter=500).fit(data_grid)\n",
    "tac = time.time()"
   ]
  },
  {
   "cell_type": "code",
   "execution_count": 75,
   "metadata": {},
   "outputs": [
    {
     "data": {
      "text/plain": [
       "([<matplotlib.axis.XTick at 0x7f55d75f7c50>,\n",
       "  <matplotlib.axis.XTick at 0x7f55d7608a10>,\n",
       "  <matplotlib.axis.XTick at 0x7f55d75bcc50>,\n",
       "  <matplotlib.axis.XTick at 0x7f55d76ccb90>,\n",
       "  <matplotlib.axis.XTick at 0x7f55d76cc250>],\n",
       " <a list of 5 Text xticklabel objects>)"
      ]
     },
     "execution_count": 75,
     "metadata": {},
     "output_type": "execute_result"
    },
    {
     "data": {
      "image/png": "[encoded data removed]",
      "text/plain": [
       "<matplotlib.figure.Figure at 0x7f55d746a550>"
      ]
     },
     "metadata": {},
     "output_type": "display_data"
    }
   ],
   "source": [
    "mat = ll.precision_\n",
    "f = plt.figure()\n",
    "plt.plot([np.linalg.norm(mat[i+1] - mat[i]) for i in range(mat.shape[0]-1)])\n",
    "plt.axvline(1, ls=':', c='k')\n",
    "plt.ylabel(\"temporal deviation\");\n",
    "plt.xlabel(\"time\");\n",
    "plt.xticks(np.arange(mat.shape[0]-1),\n",
    "           [r'$t_{%d/%d}$'%(i,i+1) for i in range(mat.shape[0]-1)])\n",
    "# plt.xticks()"
   ]
  },
  {
   "cell_type": "code",
   "execution_count": 76,
   "metadata": {},
   "outputs": [],
   "source": [
    "f.savefig(\"/home/fede/Dropbox/Latent variables networks/paper formatted/real_data_temporal_deviation.pdf\")"
   ]
  },
  {
   "cell_type": "code",
   "execution_count": null,
   "metadata": {},
   "outputs": [],
   "source": []
  },
  {
   "cell_type": "code",
   "execution_count": null,
   "metadata": {},
   "outputs": [],
   "source": []
  },
  {
   "cell_type": "code",
   "execution_count": 2,
   "metadata": {},
   "outputs": [],
   "source": [
    "data = pd.read_csv(\"/home/fede/src/slipguru/regain/regain/data/finance.csv\", header=0, index_col=0)"
   ]
  },
  {
   "cell_type": "code",
   "execution_count": 16,
   "metadata": {},
   "outputs": [
    {
     "data": {
      "text/html": [
       "<div>\n",
       "<style>\n",
       "    .dataframe thead tr:only-child th {\n",
       "        text-align: right;\n",
       "    }\n",
       "\n",
       "    .dataframe thead th {\n",
       "        text-align: left;\n",
       "    }\n",
       "\n",
       "    .dataframe tbody tr th {\n",
       "        vertical-align: top;\n",
       "    }\n",
       "</style>\n",
       "<table border=\"1\" class=\"dataframe\">\n",
       "  <thead>\n",
       "    <tr style=\"text-align: right;\">\n",
       "      <th></th>\n",
       "      <th>A</th>\n",
       "      <th>AA</th>\n",
       "    </tr>\n",
       "  </thead>\n",
       "  <tbody>\n",
       "    <tr>\n",
       "      <th>20090904</th>\n",
       "      <td>1.22</td>\n",
       "      <td>0.38</td>\n",
       "    </tr>\n",
       "    <tr>\n",
       "      <th>20090909</th>\n",
       "      <td>3.87</td>\n",
       "      <td>4.05</td>\n",
       "    </tr>\n",
       "  </tbody>\n",
       "</table>\n",
       "</div>"
      ],
      "text/plain": [
       "             A    AA\n",
       "20090904  1.22  0.38\n",
       "20090909  3.87  4.05"
      ]
     },
     "execution_count": 16,
     "metadata": {},
     "output_type": "execute_result"
    }
   ],
   "source": [
    "data.loc[:, ['A', 'AA']][10:12]"
   ]
  },
  {
   "cell_type": "code",
   "execution_count": 48,
   "metadata": {},
   "outputs": [],
   "source": [
    "n = 30\n",
    "data_list = np.array([data.loc[:,['AMZN', 'IBM', 'GOOG', 'MSFT','APOL']][i:i+n].values \n",
    "             for i in range(1, data.shape[0], n)][:-1])"
   ]
  },
  {
   "cell_type": "code",
   "execution_count": 60,
   "metadata": {},
   "outputs": [
    {
     "data": {
      "text/plain": [
       "[          AMZN   IBM  GOOG  MSFT  APOL\n",
       " 20090824 -0.62 -0.52  0.72  0.91 -0.47\n",
       " 20090825 -0.68 -0.73  0.25 -0.32  1.43\n",
       " 20090826 -0.27  0.49 -0.76 -0.41  0.88\n",
       " 20090827 -0.02 -0.42 -0.80  0.18  0.97\n",
       " 20090828 -1.46 -0.63  0.10  0.34  0.92\n",
       " 20090831 -1.39  0.36 -0.16  0.38 -3.52\n",
       " 20090901 -0.55  0.80  0.68 -0.68  0.09\n",
       " 20090902 -0.97 -0.19 -0.28 -0.26  1.37\n",
       " 20090903 -0.28 -0.48  0.31  0.36  1.77\n",
       " 20090904 -0.51 -0.06 -0.21  1.08 -1.50\n",
       " 20090909  3.15 -1.72 -0.54 -0.47  0.49\n",
       " 20090910  1.12 -0.06  0.66  0.05  0.16\n",
       " 20090911  1.05  0.55  0.48 -0.33 -1.90\n",
       " 20090914 -1.03  0.48  0.41  0.34  0.89\n",
       " 20090915 -0.96 -0.19 -0.08  0.21  1.06\n",
       " 20090916  7.44  0.95  1.13 -1.12 -1.50\n",
       " 20090917 -0.21  0.13  0.78  0.48  2.79\n",
       " 20090918 -0.55 -0.18 -0.42 -0.53 -0.73\n",
       " 20090921  0.73 -0.02  1.55  0.58  8.71\n",
       " 20090922  3.00 -0.49 -0.11  1.34 -5.10\n",
       " 20090923 -0.63  0.18  0.71  0.59 -0.31\n",
       " 20090924  0.13  0.52  0.08  1.32  0.42\n",
       " 20090925 -1.29  0.55 -0.43 -1.07  0.63\n",
       " 20090928  0.58 -2.73 -0.06 -0.19 -0.69\n",
       " 20090929 -0.05  0.05  0.48  0.17  2.65\n",
       " 20090930  2.10  0.98 -0.23  0.19  1.77\n",
       " 20091001 -0.39  0.66  0.35 -1.18  0.33\n",
       " 20091002 -1.08  1.18 -0.31  0.55 -1.67\n",
       " 20091005 -2.49 -0.57 -0.37 -2.46 -1.22\n",
       " 20091006  1.16 -0.03  0.72  0.54 -0.82,\n",
       "            AMZN   IBM  GOOG  MSFT   APOL\n",
       " 20091007   3.42  1.24  3.83  0.02   2.50\n",
       " 20091008   0.70 -1.03 -1.28  1.64   0.92\n",
       " 20091009  -0.28  2.18 -0.40 -1.27  -1.17\n",
       " 20091012  -2.42  0.67  1.30  0.45  -0.82\n",
       " 20091013   1.46  0.13  0.54  0.50   0.11\n",
       " 20091014   1.31 -0.42  0.28 -0.89   1.05\n",
       " 20091015  -1.96 -0.76 -1.48  2.42  -1.43\n",
       " 20091016  -0.05 -4.29  4.43 -0.12  -0.16\n",
       " 20091019  -1.63  0.20 -0.56 -1.49  -1.06\n",
       " 20091020   0.82  0.31  0.44  0.54   2.68\n",
       " 20091021  -0.73 -0.67  0.81  1.71   0.75\n",
       " 20091022  -1.29  0.18 -0.78 -1.29  -2.10\n",
       " 20091023  27.88 -0.82  1.01  6.46   0.04\n",
       " 20091026   6.24  0.84  1.14  3.40  -0.08\n",
       " 20091027  -2.21  0.31 -1.21 -0.46  -0.46\n",
       " 20091028   0.86  1.91 -0.25 -0.78 -16.48\n",
       " 20091105  -3.34 -1.17 -0.95 -0.89  -8.47\n",
       " 20091106   4.46  0.14  0.27  0.00  -1.02\n",
       " 20091109  -1.66  0.00  0.04 -0.38  -2.23\n",
       " 20091110   2.55  0.53  0.56 -0.13  -2.65\n",
       " 20091111  -0.62 -0.21  0.24 -0.05  -0.08\n",
       " 20091112   0.00  0.18  0.00  0.00   0.00\n",
       " 20091113   0.00 -0.11  0.00  0.00   0.00\n",
       " 20091116  -2.37 -0.40 -0.59 -1.63   4.50\n",
       " 20091117  -0.55  0.03 -0.08  1.26  -1.36\n",
       " 20091118   0.14 -0.27 -0.04  0.47  -0.18\n",
       " 20091119  -0.85  0.42  0.27 -0.20  -1.02\n",
       " 20091120   0.66 -0.32 -0.39 -0.40   0.05\n",
       " 20091123   1.29 -0.31  0.89 -0.21  -0.43\n",
       " 20091124   0.12 -0.05  0.29  0.06   0.60,\n",
       "           AMZN   IBM  GOOG  MSFT  APOL\n",
       " 20091125  0.53 -0.80  0.16 -0.70 -0.62\n",
       " 20091127 -0.23  0.23  0.46 -0.44  1.71\n",
       " 20091130  2.83  0.18  0.22  0.31  2.01\n",
       " 20091201  0.68  0.03 -0.05  0.81 -3.43\n",
       " 20091202  2.89 -0.39 -0.22 -0.59  1.24\n",
       " 20091203  0.07  1.10  0.53  1.00 -2.28\n",
       " 20091204 -2.76 -0.45 -0.34  0.28 -0.02\n",
       " 20091207 -2.46 -0.18  0.20 -0.65 -0.83\n",
       " 20091208  0.93  0.81  1.14  0.26  1.67\n",
       " 20091209 -2.58  0.76 -0.16 -0.02  0.73\n",
       " 20091210  2.43  0.07 -0.24 -0.13  0.33\n",
       " 20091211 -1.54 -0.37 -0.80 -0.70  0.60\n",
       " 20091214 -2.35 -0.09  0.60  0.59  9.40\n",
       " 20091215 -0.41 -0.64  0.03  0.17 -1.35\n",
       " 20091216 -1.33  0.28  0.88  0.37 -0.68\n",
       " 20091217  0.14  0.25  0.63 -0.39 -3.81\n",
       " 20091218  1.04  0.20  0.22  2.37  1.58\n",
       " 20091221  2.53 -0.25 -0.45 -0.30 -1.80\n",
       " 20091222  0.24  0.51 -0.08  0.50 -0.45\n",
       " 20091223  3.87  0.04  1.74  0.31  1.01\n",
       " 20091224 -0.85 -0.07  0.60 -0.25  0.91\n",
       " 20091228  0.35  1.08  0.45  0.29  3.73\n",
       " 20091229  0.09 -0.33 -0.54  0.72 -0.97\n",
       " 20091230 -2.12  0.52  0.51 -1.40  0.30\n",
       " 20091231 -0.30 -0.12  0.70 -0.41  0.10\n",
       " 20100104 -1.96 -0.31 -0.40  0.05  0.27\n",
       " 20100105  0.70 -1.10 -0.33  0.15  0.28\n",
       " 20100106 -1.83 -0.67 -2.54 -0.63  3.14\n",
       " 20100107 -2.02 -0.66 -2.64 -1.35  0.06\n",
       " 20100108  2.60  0.90  1.23  0.58 -5.49,\n",
       "           AMZN   IBM  GOOG  MSFT  APOL\n",
       " 20100111 -2.84 -1.48 -0.58 -1.70 -1.31\n",
       " 20100112 -1.93  1.14 -1.42 -0.32 -0.19\n",
       " 20100113  0.88 -0.72 -1.08  0.43  0.00\n",
       " 20100114 -1.64  1.32  0.19  1.73  0.20\n",
       " 20100115  0.78  0.54 -0.73  0.62  1.16\n",
       " 20100119 -0.72  0.70  0.22 -0.31 -1.27\n",
       " 20100120 -0.29 -1.76 -0.09 -0.52 -0.40\n",
       " 20100121  2.68  1.05  2.45  0.13  4.66\n",
       " 20100122 -2.01 -0.63 -3.57 -1.41  2.56\n",
       " 20100125 -1.16  0.26 -2.05  1.01 -0.71\n",
       " 20100126 -0.66 -0.27  0.47  0.64  1.63\n",
       " 20100127  2.33  0.05 -0.47  0.17  3.26\n",
       " 20100128  3.80 -0.91 -0.31 -0.59 -1.52\n",
       " 20100129  0.03 -0.57 -0.29 -2.84 -2.45\n",
       " 20100201 -6.39  0.69 -0.59 -0.36 -1.82\n",
       " 20100202 -1.72 -0.40 -1.45 -0.92 -0.78\n",
       " 20100203  1.09  0.36  2.08  0.85  1.40\n",
       " 20100204 -0.04  0.50  0.02 -0.15  1.52\n",
       " 20100205  1.15  0.32  0.76  0.55 -0.90\n",
       " 20100208  0.56 -0.29  1.45 -0.03 -0.05\n",
       " 20100209 -0.49 -0.43 -0.96 -0.47 -1.23\n",
       " 20100210 -0.37 -0.12 -0.17  0.13  0.22\n",
       " 20100211  1.27 -0.30 -0.69 -0.59 -3.00\n",
       " 20100212  0.09  0.66 -0.17 -0.23  2.02\n",
       " 20100216 -3.46 -0.69 -0.15 -0.18 -0.09\n",
       " 20100217 -1.43  0.48 -0.97  0.45  0.12\n",
       " 20100218  0.71  0.36  0.12  0.51  0.81\n",
       " 20100219 -0.57 -0.58 -0.54 -0.78 -7.46\n",
       " 20100222  0.60 -0.08  0.56  0.04  1.90\n",
       " 20100223  0.32  0.66 -0.45 -0.42  2.53,\n",
       "           AMZN   IBM  GOOG  MSFT  APOL\n",
       " 20100224  1.22  0.00 -1.57  0.17  0.37\n",
       " 20100225 -0.76  0.10 -0.44  0.41  0.76\n",
       " 20100226  0.13  0.03  0.03  0.20  0.29\n",
       " 20100301  4.43  0.35  0.36  0.46 -0.56\n",
       " 20100302  0.77 -0.92  1.55 -1.95 -0.89\n",
       " 20100303  0.38 -0.34  0.88  0.09  2.53\n",
       " 20100304  1.64 -0.58  1.24  0.14 -0.06\n",
       " 20100305 -0.87 -0.75  0.57 -1.32  0.83\n",
       " 20100308  1.06 -0.53 -0.18  0.28 -0.09\n",
       " 20100309 -1.10 -0.79 -0.52  0.48 -0.31\n",
       " 20100310  1.28  0.03  2.87  0.56  1.96\n",
       " 20100311  1.93  1.15  0.39  0.30 -0.30\n",
       " 20100312 -1.44  0.15 -0.40  0.19 -0.78\n",
       " 20100315 -0.69 -0.25 -2.99 -0.10  0.14\n",
       " 20100316  0.09  0.25 -0.05 -0.14  1.87\n",
       " 20100317 -0.79 -1.15 -0.38  0.44 -1.44\n",
       " 20100318  0.66  0.06 -0.28 -0.49  0.54\n",
       " 20100319 -1.47 -0.18 -0.78  0.28 -0.06\n",
       " 20100322 -0.32 -0.20 -0.86 -0.37 -0.25\n",
       " 20100323 -1.88  0.13 -2.48 -0.01 -1.73\n",
       " 20100324 -0.46 -0.17  2.00 -0.29 -0.61\n",
       " 20100325  5.18  0.51  0.95  1.17 -1.37\n",
       " 20100326  0.16 -0.07 -0.12 -1.25 -1.93\n",
       " 20100329 -0.37 -0.94 -0.46 -0.66  2.65\n",
       " 20100330  0.97  0.03  0.65  0.50 -1.50\n",
       " 20100331 -0.13  0.06  0.54 -1.16 -1.12\n",
       " 20100401 -3.57 -0.65 -0.35 -1.08 -0.31\n",
       " 20100405 -0.67  0.43 -0.04 -0.05  1.30\n",
       " 20100406  3.13 -0.29 -0.46  0.20  1.95\n",
       " 20100407  0.15  0.31 -0.16  0.76  1.77,\n",
       "           AMZN   IBM  GOOG  MSFT  APOL\n",
       " 20100408  4.24 -0.95  0.43  1.67 -2.55\n",
       " 20100409 -1.28  0.26 -0.87  0.76 -0.42\n",
       " 20100412  0.74 -0.39  1.07 -0.14 -0.98\n",
       " 20100413 -0.86  0.40  2.33  0.31  3.57\n",
       " 20100414  2.00  0.78 -0.56  0.27 -2.54\n",
       " 20100415  0.87 -0.47  0.88 -0.03  0.09\n",
       " 20100416 -1.37  0.93 -6.46  0.48  2.05\n",
       " 20100419 -0.48  0.56 -0.67  0.54  0.12\n",
       " 20100420  1.02 -2.15  0.67  0.81 -0.61\n",
       " 20100421  1.48 -0.61 -0.20 -0.16  1.27\n",
       " 20100422  2.42  0.02 -1.39  0.10 -1.39\n",
       " 20100423 -4.93  0.04 -1.01 -2.00 -2.71\n",
       " 20100426  2.42  0.56 -2.46  0.48 -1.23\n",
       " 20100427 -1.56  0.44  1.42  1.05  0.56\n",
       " 20100428 -2.36  0.51 -0.46 -0.27 -1.15\n",
       " 20100429  0.60 -0.83 -0.57 -0.80 -7.24\n",
       " 20100430 -1.85  0.30  0.24 -0.09  0.87\n",
       " 20100503 -1.02 -0.84 -0.37 -0.24  0.28\n",
       " 20100504 -3.55  0.88 -2.55 -0.35 -1.79\n",
       " 20100505  1.38  0.02  1.21 -0.39  2.12\n",
       " 20100506  1.50  0.42  1.02  0.29 -0.26\n",
       " 20100507 -1.57 -0.14  0.22 -1.33  0.22\n",
       " 20100510  1.15 -0.48  1.88 -1.31 -2.37\n",
       " 20100511 -0.29  0.83 -2.07  0.13 -1.61\n",
       " 20100512  1.23  3.18 -2.10  0.56  1.53\n",
       " 20100513 -0.75  0.14  2.13  0.37 -0.98\n",
       " 20100514 -0.72  1.29  0.85  0.45 -1.84\n",
       " 20100517  0.24 -0.63  0.03 -0.02  9.55\n",
       " 20100518 -0.96  0.71 -0.81 -0.10 -4.68\n",
       " 20100519 -0.70 -0.21 -0.16 -0.62  3.68,\n",
       "           AMZN   IBM  GOOG  MSFT  APOL\n",
       " 20100520 -0.31 -0.32 -0.32 -0.40  2.59\n",
       " 20100521  1.27  0.06 -1.87 -2.24 -1.44\n",
       " 20100524  0.76  0.47  2.33 -0.88  0.45\n",
       " 20100525  2.47  0.28  0.21 -0.53  0.23\n",
       " 20100526 -0.63 -0.35  0.35 -3.38 -2.32\n",
       " 20100527 -0.02 -0.29  0.30  1.11 -3.26\n",
       " 20100528  0.21  0.30  0.21  0.42  1.16\n",
       " 20100601 -0.66  0.38  0.44  1.46 -2.20\n",
       " 20100602  0.24  0.22  0.03 -0.05 -2.11\n",
       " 20100603  1.88  0.38  2.42  1.46  2.63\n",
       " 20100604 -1.50  1.06  1.79 -0.83  0.57\n",
       " 20100607  0.54  0.24 -1.48 -0.78 -2.18\n",
       " 20100608 -3.86 -1.59 -1.41 -1.97  0.11\n",
       " 20100609 -0.37  0.56 -1.81 -0.86 -0.40\n",
       " 20100610  1.73  0.29 -0.02 -1.91 -2.30\n",
       " 20100611 -0.52  0.22 -0.07  2.26  1.29\n",
       " 20100614  0.85  0.24 -0.89 -0.45 -6.65\n",
       " 20100615  0.33 -1.09  0.96  2.17 -0.63\n",
       " 20100616  0.00  0.39  0.61 -1.03  2.15\n",
       " 20100617 -1.03  0.25 -0.47 -0.05 -1.82\n",
       " 20100618 -0.21 -0.79 -0.17  0.11 -0.55\n",
       " 20100621 -2.53  0.46 -2.22 -1.77 -0.71\n",
       " 20100622  1.23  0.39  0.95  0.73 -1.62\n",
       " 20100623 -0.75  0.58 -0.91 -1.84 -0.52\n",
       " 20100624 -1.15 -0.06 -0.03  0.20  0.64\n",
       " 20100625  2.34 -0.75 -0.42 -1.78 -4.74\n",
       " 20100628 -2.59  1.52 -0.07 -0.85  1.79\n",
       " 20100629 -5.16 -0.37 -1.13 -1.47 -0.45\n",
       " 20100630  1.57 -0.31 -1.07 -0.31 -0.55\n",
       " 20100701  1.98 -0.31 -0.80  1.08  2.47,\n",
       "           AMZN   IBM  GOOG  MSFT  APOL\n",
       " 20100702 -1.17 -0.11 -0.20  0.95 -2.94\n",
       " 20100706  0.25  0.72 -0.70  1.77  0.39\n",
       " 20100707  0.24  0.05  0.42 -0.80 -1.16\n",
       " 20100708  1.25 -0.44  0.21  0.00  1.33\n",
       " 20100709  0.31 -0.59  1.81  0.00  0.28\n",
       " 20100712  1.74  0.38  1.61  2.13 -1.46\n",
       " 20100713  2.03 -0.03  1.37 -0.23 -1.32\n",
       " 20100714 -0.32  0.15  0.40  1.20  1.72\n",
       " 20100715 -0.93  0.07  0.62  0.35  0.27\n",
       " 20100716 -0.40  0.47 -4.44  0.09  4.29\n",
       " 20100719  0.66  0.81  0.87  0.81  4.84\n",
       " 20100720 -0.61 -3.24  2.56  0.25 -0.64\n",
       " 20100721 -1.15  0.06  0.22 -0.34 -0.97\n",
       " 20100722  0.25 -0.24 -0.46  0.87 -3.65\n",
       " 20100723 -1.99 -0.28  0.09 -1.11  5.38\n",
       " 20100726 -1.36 -0.94 -1.19  0.16 -2.90\n",
       " 20100727 -1.19  0.05  0.63  0.11 -1.28\n",
       " 20100728  0.38  0.22 -1.30 -0.42  0.48\n",
       " 20100729  0.06 -0.03  0.42  0.60 -1.26\n",
       " 20100730  0.89  0.31 -0.02 -0.83 -1.99\n",
       " 20100802  0.00 -0.15 -0.84  0.02  0.20\n",
       " 20100803  0.00  0.06  0.00 -0.29 -4.59\n",
       " 20100804  3.80  0.28  0.00 -2.06 -0.53\n",
       " 20100805  0.25  0.48  0.40 -1.35 -4.26\n",
       " 20100806  0.58 -1.08 -1.35  0.91 -0.59\n",
       " 20100809 -0.03  1.01  0.60 -0.19 -0.24\n",
       " 20100810  1.42  0.39  0.18 -1.60 -1.21\n",
       " 20100811 -0.67  0.97  0.12  1.66  1.20\n",
       " 20100812  1.10 -0.61  0.62  0.00 -1.44\n",
       " 20100813 -1.31 -0.17 -0.99  0.00 -3.62]"
      ]
     },
     "execution_count": 60,
     "metadata": {},
     "output_type": "execute_result"
    }
   ],
   "source": [
    "[data.loc[:,['AMZN', 'IBM', 'GOOG', 'MSFT','APOL']][i:i+n] \n",
    "             for i in range(1, data.shape[0], n)][:-1]"
   ]
  },
  {
   "cell_type": "code",
   "execution_count": 55,
   "metadata": {},
   "outputs": [],
   "source": [
    "data_grid = data_list.transpose(1,2,0)"
   ]
  },
  {
   "cell_type": "code",
   "execution_count": 56,
   "metadata": {},
   "outputs": [],
   "source": [
    "from sklearn.model_selection import GridSearchCV, ShuffleSplit\n",
    "from regain import utils; reload(utils)\n",
    "from regain.admm import time_graph_lasso_; reload(time_graph_lasso_)\n",
    "from regain.admm import latent_time_graph_lasso_; reload(latent_time_graph_lasso_);\n",
    "from regain.admm import latent_time_graph_lasso_v3_; reload(latent_time_graph_lasso_v3_);\n",
    "\n",
    "mdl = latent_time_graph_lasso_v3_.LatentTimeGraphLasso(\n",
    "    bypass_transpose=False, assume_centered=0, verbose=0, rtol=1e-5, tol=1e-5,\n",
    "    max_iter=500, rho=1. / np.array(data_list).shape[1])\n",
    "\n",
    "ltgl = GridSearchCV(mdl, dict(#tau=[0.25, 0.2, 0.1],\n",
    "                             tau=np.linspace(0.01, 0.8, 20),\n",
    "                             eta=[0], beta=[0],\n",
    "                             #alpha=[0.05, 0.1, 1],\n",
    "                             alpha=np.linspace(0.01, 0.2, 5)),\n",
    "                    cv=ShuffleSplit(1, test_size=.5)).fit(data_grid)"
   ]
  },
  {
   "cell_type": "code",
   "execution_count": 58,
   "metadata": {
    "scrolled": false
   },
   "outputs": [
    {
     "data": {
      "text/plain": [
       "array([[[ 0.2663739 , -0.        , -0.        , -0.        ,  0.        ],\n",
       "        [-0.        ,  0.98324308, -0.        , -0.        ,  0.        ],\n",
       "        [-0.        , -0.        ,  1.41211198, -0.        , -0.01293394],\n",
       "        [-0.        , -0.        , -0.        ,  0.96868926, -0.        ],\n",
       "        [ 0.        ,  0.        , -0.01293394, -0.        ,  0.17808471]],\n",
       "\n",
       "       [[ 0.06496547, -0.        , -0.        , -0.09513111,  0.        ],\n",
       "        [-0.        ,  0.58114476,  0.        ,  0.        ,  0.        ],\n",
       "        [-0.        ,  0.        ,  0.49464878,  0.        , -0.        ],\n",
       "        [-0.09513111,  0.        ,  0.        ,  0.53323127, -0.        ],\n",
       "        [ 0.        ,  0.        , -0.        , -0.        ,  0.08861144]],\n",
       "\n",
       "       [[ 0.27226079, -0.        , -0.        , -0.        ,  0.        ],\n",
       "        [-0.        ,  1.10773215, -0.        , -0.        ,  0.        ],\n",
       "        [-0.        , -0.        ,  0.72082331, -0.        ,  0.        ],\n",
       "        [-0.        , -0.        , -0.        ,  0.88959173, -0.        ],\n",
       "        [ 0.        ,  0.        ,  0.        , -0.        ,  0.14753404]],\n",
       "\n",
       "       [[ 0.26556038,  0.        , -0.        , -0.        , -0.        ],\n",
       "        [ 0.        ,  0.90446217, -0.        , -0.        , -0.        ],\n",
       "        [-0.        , -0.        ,  0.57481545, -0.        , -0.        ],\n",
       "        [-0.        , -0.        , -0.        ,  0.78307775, -0.        ],\n",
       "        [-0.        , -0.        , -0.        , -0.        ,  0.22571906]],\n",
       "\n",
       "       [[ 0.2740245 , -0.        , -0.01614799, -0.        , -0.        ],\n",
       "        [-0.        ,  1.19229437, -0.        , -0.        ,  0.        ],\n",
       "        [-0.01614799, -0.        ,  0.52233024,  0.        , -0.        ],\n",
       "        [-0.        , -0.        ,  0.        ,  0.93417079, -0.        ],\n",
       "        [-0.        ,  0.        , -0.        , -0.        ,  0.45899639]],\n",
       "\n",
       "       [[ 0.24591539,  0.        , -0.        , -0.00346838,  0.        ],\n",
       "        [ 0.        ,  0.70645205,  0.        , -0.        , -0.        ],\n",
       "        [-0.        ,  0.        ,  0.28386988,  0.        , -0.        ],\n",
       "        [-0.00346838, -0.        ,  0.        ,  0.88821053, -0.        ],\n",
       "        [ 0.        , -0.        , -0.        , -0.        ,  0.11387348]],\n",
       "\n",
       "       [[ 0.28542531, -0.        , -0.        , -0.        ,  0.        ],\n",
       "        [-0.        ,  1.03442555, -0.        ,  0.        , -0.        ],\n",
       "        [-0.        , -0.        ,  0.56581195, -0.        , -0.        ],\n",
       "        [-0.        ,  0.        , -0.        ,  0.44552866, -0.        ],\n",
       "        [ 0.        , -0.        , -0.        , -0.        ,  0.21008568]],\n",
       "\n",
       "       [[ 0.56397358, -0.        , -0.        ,  0.        ,  0.        ],\n",
       "        [-0.        ,  1.01087429,  0.        , -0.        , -0.        ],\n",
       "        [-0.        ,  0.        ,  0.53804733, -0.        ,  0.        ],\n",
       "        [ 0.        , -0.        , -0.        ,  0.77050997, -0.        ],\n",
       "        [ 0.        , -0.        ,  0.        , -0.        ,  0.17124642]]])"
      ]
     },
     "execution_count": 58,
     "metadata": {},
     "output_type": "execute_result"
    }
   ],
   "source": [
    "ltgl.best_estimator_.precision_"
   ]
  },
  {
   "cell_type": "code",
   "execution_count": null,
   "metadata": {},
   "outputs": [],
   "source": [
    "['AMZN', 'IBM', 'GOOG', 'MSFT','APOL']"
   ]
  },
  {
   "cell_type": "code",
   "execution_count": null,
   "metadata": {},
   "outputs": [],
   "source": []
  },
  {
   "cell_type": "code",
   "execution_count": null,
   "metadata": {},
   "outputs": [],
   "source": []
  },
  {
   "cell_type": "code",
   "execution_count": null,
   "metadata": {},
   "outputs": [],
   "source": []
  }
 ],
 "metadata": {
  "kernelspec": {
   "display_name": "Python 2",
   "language": "python",
   "name": "python2"
  },
  "language_info": {
   "codemirror_mode": {
    "name": "ipython",
    "version": 2
   },
   "file_extension": ".py",
   "mimetype": "text/x-python",
   "name": "python",
   "nbconvert_exporter": "python",
   "pygments_lexer": "ipython2",
   "version": "2.7.14"
  }
 },
 "nbformat": 4,
 "nbformat_minor": 2
}
