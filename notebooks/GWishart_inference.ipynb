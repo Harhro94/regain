{
 "cells": [
  {
   "cell_type": "markdown",
   "metadata": {},
   "source": [
    "# G-Wishart Inference\n",
    "\n",
    "## 1. Static Inference"
   ]
  },
  {
   "cell_type": "code",
   "execution_count": 1,
   "metadata": {},
   "outputs": [],
   "source": [
    "import numpy as np\n",
    "import scipy as sp\n",
    "from sklearn.covariance import GraphLasso\n",
    "from sklearn.datasets import make_spd_matrix, make_sparse_spd_matrix\n",
    "from sklearn.linear_model import LassoLars"
   ]
  },
  {
   "cell_type": "code",
   "execution_count": 15,
   "metadata": {
    "scrolled": true
   },
   "outputs": [],
   "source": [
    "tol = 1e-8\n",
    "\n",
    "n_dim = 5\n",
    "n_samples = 100\n",
    "\n",
    "np.random.seed(0)\n",
    "K = make_sparse_spd_matrix(n_dim, alpha=0.75)\n",
    "Sigma = sp.linalg.pinvh(K)\n",
    "\n",
    "X = np.random.multivariate_normal(np.zeros(n_dim), Sigma, size=n_samples)"
   ]
  },
  {
   "cell_type": "code",
   "execution_count": 40,
   "metadata": {},
   "outputs": [],
   "source": [
    "from regain.bayesian import gwishart_inference; reload(gwishart_inference)\n",
    "from regain.bayesian.gwishart_inference import *\n",
    "n_samples, n_dim = X.shape\n",
    "alphas = np.logspace(-2, 0, 20)\n",
    "\n",
    "# get a series of Markov blankets for vaiours alphas\n",
    "mdl = GraphLasso(verbose=False)\n",
    "precisions = [\n",
    "    mdl.set_params(alpha=a).fit(X).precision_\n",
    "    for a in alphas]\n",
    "mblankets = markov_blankets(precisions, tol=tol, unique=1)"
   ]
  },
  {
   "cell_type": "code",
   "execution_count": 41,
   "metadata": {},
   "outputs": [
    {
     "name": "stderr",
     "output_type": "stream",
     "text": [
      "/home/fede/src/slipguru/regain/regain/covariance/graph_lasso_.py:29: RuntimeWarning: invalid value encountered in multiply\n",
      "  return - logl(emp_cov, x) + alpha * l1_od_norm(z)\n"
     ]
    },
    {
     "data": {
      "text/plain": [
       "array([[ 1.44138885, -0.3483094 ,  0.        , -0.20833079, -0.18698579],\n",
       "       [-0.3483094 ,  1.78180266,  0.        ,  0.36705774, -0.72877985],\n",
       "       [ 0.        ,  0.        ,  1.06835627, -0.67003014, -0.        ],\n",
       "       [-0.20833079,  0.36705774, -0.67003014,  1.32137037, -0.36714678],\n",
       "       [-0.18698579, -0.72877985, -0.        , -0.36714678,  0.88313276]])"
      ]
     },
     "execution_count": 41,
     "metadata": {},
     "output_type": "execute_result"
    }
   ],
   "source": [
    "normalized_scores = score_blankets(mblankets, X=X, alphas=[0.01, 0.5, 1])\n",
    "\n",
    "graphs = get_graphs(mblankets, normalized_scores, n_dim=n_dim,\n",
    "                    n_resampling=200)\n",
    "\n",
    "nonzeros_all = [np.triu(g, 1) + np.eye(n_dim, dtype=bool) for g in graphs]\n",
    "\n",
    "# Roverato'02: convert from HIW to G-Wishart (delta + |V| - 1)\n",
    "d0 = 3 + n_dim - 1\n",
    "S0 = np.eye(n_dim)  # same as Roverato'02\n",
    "\n",
    "# Find non-zero elements of upper triangle of G\n",
    "# make sure diagonal is non-zero\n",
    "# G = nonzeros_all[1] # probably can discard if all zeros?\n",
    "res = [GWishartScore(X, G, d0=d0, S0=S0, mode='gl', score_method='diaglaplace')\n",
    "       for G in nonzeros_all]\n",
    "\n",
    "sorted(res, key=lambda x: x.score)[::-1][0].P"
   ]
  },
  {
   "cell_type": "code",
   "execution_count": 28,
   "metadata": {
    "collapsed": true
   },
   "outputs": [
    {
     "data": {
      "text/plain": [
       "{'P': array([[ 1.35070391, -0.        , -0.        , -0.        , -0.36534647],\n",
       "        [-0.        ,  1.6976581 ,  0.        ,  0.31677492, -0.77396794],\n",
       "        [-0.        ,  0.        ,  1.07389427, -0.64721128, -0.05316221],\n",
       "        [-0.        ,  0.31677492, -0.64721128,  1.26110472, -0.3620955 ],\n",
       "        [-0.36534647, -0.77396794, -0.05316221, -0.3620955 ,  0.96030893]]),\n",
       " 'Sn': array([[  95.63168712,   38.92732937,   17.34233222,   33.21556347,\n",
       "           66.16544327],\n",
       "        [  38.92732937,  105.177767  ,   -3.44426863,    5.85229871,\n",
       "           97.51113208],\n",
       "        [  17.34233222,   -3.44426863,  158.2395313 ,   95.61213921,\n",
       "           57.46866504],\n",
       "        [  33.21556347,    5.85229871,   95.61213921,  152.45186962,\n",
       "           75.25193746],\n",
       "        [  66.16544327,   97.51113208,   57.46866504,   75.25193746,\n",
       "          244.63117262]]),\n",
       " 'dn': 107,\n",
       " 'dof': 11,\n",
       " 'logdetP': -0.1529988144828649,\n",
       " 'loglik': -726.3915189859091,\n",
       " 'lognormconst': 232.57604644891282,\n",
       " 'num_edges': 6,\n",
       " 'score': -238.91676754888752}"
      ]
     },
     "execution_count": 28,
     "metadata": {},
     "output_type": "execute_result"
    }
   ],
   "source": [
    "res[0]"
   ]
  },
  {
   "cell_type": "code",
   "execution_count": 32,
   "metadata": {},
   "outputs": [
    {
     "data": {
      "text/plain": [
       "array([[ 1.18639041, -0.43172955,  0.        , -0.11503184,  0.        ],\n",
       "       [-0.43172955,  1.73228262,  0.        ,  0.39784861, -0.85573513],\n",
       "       [ 0.        ,  0.        ,  1.        , -0.55474716,  0.        ],\n",
       "       [-0.11503184,  0.39784861, -0.55474716,  1.53712759, -0.46492027],\n",
       "       [ 0.        , -0.85573513,  0.        , -0.46492027,  1.        ]])"
      ]
     },
     "execution_count": 32,
     "metadata": {},
     "output_type": "execute_result"
    }
   ],
   "source": [
    "K"
   ]
  },
  {
   "cell_type": "markdown",
   "metadata": {},
   "source": [
    "## Use GL with fixed graph. Time comparison"
   ]
  },
  {
   "cell_type": "code",
   "execution_count": 14,
   "metadata": {},
   "outputs": [],
   "source": [
    "from sklearn.utils import Bunch\n",
    "GWprior = Bunch(d0=d0, S0=S0, lognormconst=0, lognormconstDiag=0)"
   ]
  },
  {
   "cell_type": "code",
   "execution_count": 15,
   "metadata": {},
   "outputs": [
    {
     "name": "stdout",
     "output_type": "stream",
     "text": [
      "100 loops, best of 3: 5.9 ms per loop\n"
     ]
    }
   ],
   "source": [
    "%timeit gwishart.GWishartFit(X, G, GWprior, mode='covsel')"
   ]
  },
  {
   "cell_type": "code",
   "execution_count": 16,
   "metadata": {},
   "outputs": [
    {
     "name": "stdout",
     "output_type": "stream",
     "text": [
      "100 loops, best of 3: 2.58 ms per loop\n"
     ]
    }
   ],
   "source": [
    "%timeit gwishart.GWishartFit(X, G, GWprior, mode='gl')"
   ]
  },
  {
   "cell_type": "markdown",
   "metadata": {},
   "source": [
    "## Plotting of 2-d covariance matrices"
   ]
  },
  {
   "cell_type": "code",
   "execution_count": 43,
   "metadata": {},
   "outputs": [
    {
     "data": {
      "text/plain": [
       "array([[ 2.54606348, -0.46852035],\n",
       "       [-0.46852035,  0.69198188]])"
      ]
     },
     "execution_count": 43,
     "metadata": {},
     "output_type": "execute_result"
    }
   ],
   "source": [
    "from scipy import linalg\n",
    "\n",
    "Cov = make_spd_matrix(2)\n",
    "Cov"
   ]
  },
  {
   "cell_type": "code",
   "execution_count": 44,
   "metadata": {},
   "outputs": [],
   "source": [
    "import matplotlib.pyplot as plt\n",
    "%matplotlib inline\n",
    "\n",
    "def show2d(means, C, sdwidth=1.0, npts=50, ax=None):\n",
    "    tt = np.linspace(0,2*np.pi, 100)\n",
    "    ap = np.array([np.cos(tt), np.sin(tt)])\n",
    "\n",
    "    d, v = linalg.eigh(Cov)\n",
    "    d = sdwidth * np.sqrt(d)\n",
    "\n",
    "    bp = (v.dot(np.diag(d)).dot(ap)) + means.ravel()[:,None]\n",
    "    plt.plot(bp[0], bp[1])"
   ]
  },
  {
   "cell_type": "code",
   "execution_count": 45,
   "metadata": {},
   "outputs": [],
   "source": [
    "import numpy as np\n",
    "import sklearn\n",
    "import math\n",
    "from scipy.stats import chi2\n",
    "import matplotlib.pyplot as plt\n",
    "import matplotlib.mlab as mlab\n",
    "from random import *\n",
    "from matplotlib.patches import Ellipse\n",
    "from numpy.linalg import cholesky\n",
    "\n",
    "def plot_cov_ellipse(cov, pos, nstd=2, ax=None, **kwargs):\n",
    "    \"\"\"\n",
    "    Plots an `nstd` sigma error ellipse based on the specified covariance\n",
    "    matrix (`cov`). Additional keyword arguments are passed on to the \n",
    "    ellipse patch artist.\n",
    "    Parameters\n",
    "    ----------\n",
    "        cov : The 2x2 covariance matrix to base the ellipse on\n",
    "        pos : The location of the center of the ellipse. Expects a 2-element\n",
    "            sequence of [x0, y0].\n",
    "        nstd : The radius of the ellipse in numbers of standard deviations.\n",
    "            Defaults to 2 standard deviations.\n",
    "        ax : The axis that the ellipse will be plotted on. Defaults to the \n",
    "            current axis.\n",
    "        Additional keyword arguments are pass on to the ellipse patch.\n",
    "    Returns\n",
    "    -------\n",
    "        A matplotlib ellipse artist\n",
    "    \"\"\"\n",
    "    def eigsorted(cov):\n",
    "        vals, vecs = np.linalg.eigh(cov)\n",
    "        order = vals.argsort()[::-1]\n",
    "        return vals[order], vecs[:,order]\n",
    "\n",
    "    if ax is None:\n",
    "        ax = plt.gca()\n",
    "\n",
    "    vals, vecs = eigsorted(cov)\n",
    "    theta = np.degrees(np.arctan2(*vecs[:,0][::-1]))\n",
    "\n",
    "    # Width and height are \"full\" widths, not radius\n",
    "    width, height = 2 * nstd * np.sqrt(vals)\n",
    "    ellip = Ellipse(xy=pos, width=width, height=height, angle=theta, **kwargs)\n",
    "    \n",
    "    ax.add_artist(ellip)\n",
    "    ax.set_ylim([2, 6])\n",
    "    ax.set_xlim([0, 7])\n",
    "    return ellip"
   ]
  },
  {
   "cell_type": "code",
   "execution_count": 48,
   "metadata": {
    "scrolled": false
   },
   "outputs": [
    {
     "data": {
      "image/png": "[encoded data removed]",
      "text/plain": [
       "<Figure size 432x288 with 1 Axes>"
      ]
     },
     "metadata": {},
     "output_type": "display_data"
    }
   ],
   "source": [
    "show2d(np.array([2,4]), Cov, sdwidth=2)"
   ]
  },
  {
   "cell_type": "code",
   "execution_count": 47,
   "metadata": {},
   "outputs": [
    {
     "data": {
      "text/plain": [
       "<matplotlib.patches.Ellipse at 0x7fdc7a2c3350>"
      ]
     },
     "execution_count": 47,
     "metadata": {},
     "output_type": "execute_result"
    },
    {
     "data": {
      "image/png": "[encoded data removed]",
      "text/plain": [
       "<Figure size 432x288 with 1 Axes>"
      ]
     },
     "metadata": {},
     "output_type": "display_data"
    }
   ],
   "source": [
    "plot_cov_ellipse(Cov, [2,4])"
   ]
  },
  {
   "cell_type": "code",
   "execution_count": null,
   "metadata": {},
   "outputs": [],
   "source": []
  }
 ],
 "metadata": {
  "kernelspec": {
   "display_name": "Python 2",
   "language": "python",
   "name": "python2"
  },
  "language_info": {
   "codemirror_mode": {
    "name": "ipython",
    "version": 2
   },
   "file_extension": ".py",
   "mimetype": "text/x-python",
   "name": "python",
   "nbconvert_exporter": "python",
   "pygments_lexer": "ipython2",
   "version": "2.7.14"
  }
 },
 "nbformat": 4,
 "nbformat_minor": 2
}
