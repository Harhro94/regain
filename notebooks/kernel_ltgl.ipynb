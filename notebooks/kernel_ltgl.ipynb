{
 "cells": [
  {
   "cell_type": "markdown",
   "metadata": {},
   "source": [
    "# Kernel Latent Variable Time-varying Graphical Lasso\n",
    "More than 1-Markovian!"
   ]
  },
  {
   "cell_type": "code",
   "execution_count": 21,
   "metadata": {},
   "outputs": [],
   "source": [
    "%matplotlib inline\n",
    "from __future__ import print_function, division\n",
    "\n",
    "import numpy as np\n",
    "import matplotlib.pyplot as plt\n",
    "import pandas as pd\n",
    "\n",
    "from itertools import product\n",
    "from functools import partial\n",
    "from sklearn.datasets import make_sparse_spd_matrix\n",
    "from sklearn.datasets.base import Bunch\n",
    "from sklearn.utils.extmath import squared_norm\n",
    "from sklearn.covariance import GraphLasso, empirical_covariance\n",
    "from sklearn.datasets.base import Bunch\n",
    "from sklearn.model_selection import GridSearchCV, ShuffleSplit\n",
    "from sklearn.gaussian_process import kernels\n",
    "\n",
    "from regain import prox; reload(prox)\n",
    "from regain.covariance import time_graph_lasso_; reload(time_graph_lasso_);\n",
    "from regain.covariance import latent_time_graph_lasso_; reload(latent_time_graph_lasso_);\n",
    "import time\n",
    "\n",
    "from regainpr.bayesian import wishart_process_; reload(wishart_process_)\n",
    "from regain.bayesian import stats; reload(stats)\n",
    "\n",
    "from regainpr.covariance import kernel_time_graphical_lasso_;\n",
    "reload(kernel_time_graphical_lasso_);\n",
    "from regainpr.covariance import kernel_latent_time_graphical_lasso_;\n",
    "reload(kernel_latent_time_graphical_lasso_);\n",
    "\n",
    "from regainpr import datasets; reload(datasets);\n",
    "from regainpr import utils; reload(utils);"
   ]
  },
  {
   "cell_type": "code",
   "execution_count": 30,
   "metadata": {},
   "outputs": [],
   "source": [
    "import seaborn as sns\n",
    "# kernel used to generate data\n",
    "sns.heatmap(kernels.ExpSineSquared(periodicity=np.pi,\n",
    "                                      length_scale=2)(np.arange(10)[:,None]))"
   ]
  },
  {
   "cell_type": "code",
   "execution_count": 90,
   "metadata": {},
   "outputs": [],
   "source": [
    "# setting 1\n",
    "n_samples = 100\n",
    "T = 10\n",
    "n_dim_obs = 5\n",
    "\n",
    "k = (n_dim_obs, T)\n",
    "\n",
    "np.random.seed(0)\n",
    "\n",
    "reload(datasets)\n",
    "data = {(dim, T) : datasets.make_dataset(\n",
    "    mode='sin', shape='smooth',\n",
    "    update_theta='l2', normalize_starting_matrices=False,\n",
    "    n_samples=n_samples, n_dim_lat=0, n_dim_obs=dim,  T=T, epsilon=1e-1,\n",
    "    proportional=True, degree=2, keep_sparsity=True)\n",
    "    for dim in [n_dim_obs]}"
   ]
  },
  {
   "cell_type": "code",
   "execution_count": 246,
   "metadata": {},
   "outputs": [
    {
     "name": "stdout",
     "output_type": "stream",
     "text": [
      "0.992%\n",
      "0.996%\n",
      "0.9984%\n",
      "0.9896%\n",
      "0.9912%\n",
      "0.9832%\n",
      "0.9976%\n",
      "0.996%\n",
      "0.9952%\n",
      "0.9904%\n"
     ]
    }
   ],
   "source": [
    "# setting 2 - sample from GPs\n",
    "n_samples = 100\n",
    "T = 10\n",
    "n_dim = 50\n",
    "\n",
    "np.random.seed(2)   \n",
    "\n",
    "reload(datasets)\n",
    "data = [datasets.make_dataset(\n",
    "    mode='gp', n_samples=n_samples, n_dim_lat=10, n_dim_obs=n_dim,  T=T, epsilon=0.4)\n",
    "    for i in range(10)]"
   ]
  },
  {
   "cell_type": "code",
   "execution_count": 216,
   "metadata": {
    "scrolled": false
   },
   "outputs": [
    {
     "name": "stdout",
     "output_type": "stream",
     "text": [
      "Percentual of non-zero components at each time: [0.68, 0.7, 0.72, 0.7, 0.7, 0.76, 0.74, 0.72, 0.7, 0.76]\n",
      "Percentual of total non-zero components: 0.718\n"
     ]
    }
   ],
   "source": [
    "# info on the data set\n",
    "K = data[0].thetas\n",
    "print (\"Percentual of non-zero components at each time: {}\".format(\n",
    "    [(i!=0).sum() / i.size for i in K]))\n",
    "\n",
    "print (\"Percentual of total non-zero components: {}\".format(\n",
    "    (K != 0).sum() / (n_dim_obs ** 2 * T)))"
   ]
  },
  {
   "cell_type": "code",
   "execution_count": 247,
   "metadata": {},
   "outputs": [],
   "source": [
    "# prepare dataframe for results\n",
    "n_dims = range(10)\n",
    "n_times = [T]\n",
    "methods = ['TGL', 'KTGL-exp', 'KTGL-rbf', 'LTGL', 'KLTGL-exp', 'KLTGL-rbf', 'WP']\n",
    "scores = sorted([\n",
    "    \"MSE_precision\", \"MSE_observed\", \"MSE_latent\", 'estimator', \"mean_rank_error\",\n",
    "    'time', 'iterations', 'precision', 'recall', 'accuracy', 'balanced_accuracy',\n",
    "    'f1', 'npv', 'prevalence', 'miss_rate', 'likelihood',\n",
    "    'specificity', 'plr', 'nlr'])\n",
    "\n",
    "cols = pd.MultiIndex.from_product([scores, n_dims], names=('score', 'dim'))\n",
    "rows = pd.MultiIndex.from_product([methods, n_times], names=('method', 'time'))\n",
    "\n",
    "dff = pd.DataFrame(columns=cols, index=rows)\n",
    "idx = pd.IndexSlice"
   ]
  },
  {
   "cell_type": "code",
   "execution_count": null,
   "metadata": {},
   "outputs": [],
   "source": []
  },
  {
   "cell_type": "code",
   "execution_count": 248,
   "metadata": {},
   "outputs": [],
   "source": [
    "%run kltgl_performance.py"
   ]
  },
  {
   "cell_type": "code",
   "execution_count": 249,
   "metadata": {},
   "outputs": [],
   "source": [
    "# beta = 0.5\n",
    "# rng = np.full(T-1, 1000)\n",
    "# kernel_phi = np.diag(rng,1) +np.diag(rng,-1) + np.eye(T)\n",
    "# kernel_phi = np.full((T ,T), 1000)\n",
    "\n",
    "from kltgl_performance import *"
   ]
  },
  {
   "cell_type": "code",
   "execution_count": null,
   "metadata": {
    "scrolled": true
   },
   "outputs": [
    {
     "name": "stdout",
     "output_type": "stream",
     "text": [
      "Start with: dim=50, T=10 (it 0)\n",
      "starting KTGL - exp...\r"
     ]
    },
    {
     "name": "stderr",
     "output_type": "stream",
     "text": [
      "/home/fede/src/fdtomasi/regain-private/regainpr/covariance/kernel_time_graphical_lasso_.py:234: UserWarning: Objective did not converge.\n",
      "  warnings.warn(\"Objective did not converge.\")\n"
     ]
    },
    {
     "name": "stdout",
     "output_type": "stream",
     "text": [
      "starting KLTGL - exp ...\r"
     ]
    }
   ],
   "source": [
    "run_results(data, dff, scores)"
   ]
  },
  {
   "cell_type": "code",
   "execution_count": null,
   "metadata": {},
   "outputs": [],
   "source": [
    "dff.estimator.loc[\"KLTGL-rbf\", 0][10].get_params()"
   ]
  },
  {
   "cell_type": "code",
   "execution_count": null,
   "metadata": {},
   "outputs": [],
   "source": [
    "dff_mean_std = pd.DataFrame()\n",
    "for s in scores:\n",
    "    dff_mean_std[\"%s_mean\" % s] = dff[s].mean(axis=1)\n",
    "    dff_mean_std[\"%s_std\" % s] = dff[s].std(axis=1)"
   ]
  },
  {
   "cell_type": "code",
   "execution_count": null,
   "metadata": {},
   "outputs": [],
   "source": [
    "dff_mean_std"
   ]
  },
  {
   "cell_type": "code",
   "execution_count": null,
   "metadata": {
    "scrolled": true
   },
   "outputs": [],
   "source": [
    "# mm = dff.xs(n_dim_obs, level='dim', axis=1).xs(T, level='time')\n",
    "mm = dff_mean_std.xs(T, level='time')\n",
    "# mm['likelihood']\n",
    "mm"
   ]
  },
  {
   "cell_type": "code",
   "execution_count": null,
   "metadata": {},
   "outputs": [],
   "source": [
    "tmp = mm[[\"f1_mean\", \"accuracy_mean\", \"mean_rank_error_mean\", \"MSE_precision_mean\", \"time_mean\"]]"
   ]
  },
  {
   "cell_type": "code",
   "execution_count": null,
   "metadata": {
    "scrolled": true
   },
   "outputs": [],
   "source": [
    "import os\n",
    "from decimal import Decimal\n",
    "def highlight_max(s):\n",
    "    '''\n",
    "    highlight the maximum in a Series yellow.\n",
    "    '''\n",
    "    print(s.name, any([s.name.startswith(i) for i in [\"f1\",\"accuracy\"]]))\n",
    "    \n",
    "    m = s.max() if any([s.name.startswith(i) for i in [\"f1\",\"accuracy\"]]) else s.min()\n",
    "    is_max = s == m\n",
    "\n",
    "    s_ = s.copy()\n",
    "    s_[is_max] = '\\textbf{%s}' % ('%.3f' % Decimal(m) if isinstance(m, float) else m)\n",
    "    return s_\n",
    "\n",
    "path = \"/home/fede/Dropbox (DIBRIS)/projects/graphical models in time/kernel LTGL/exps\"\n",
    "tmp.apply(highlight_max).fillna(\"-\").to_latex(\n",
    "    os.path.join(path, \"results_mean.tex\"), float_format=lambda x: '%.3f' % x,\n",
    "    escape=False)"
   ]
  },
  {
   "cell_type": "code",
   "execution_count": 151,
   "metadata": {},
   "outputs": [
    {
     "data": {
      "text/html": [
       "<div>\n",
       "<style scoped>\n",
       "    .dataframe tbody tr th:only-of-type {\n",
       "        vertical-align: middle;\n",
       "    }\n",
       "\n",
       "    .dataframe tbody tr th {\n",
       "        vertical-align: top;\n",
       "    }\n",
       "\n",
       "    .dataframe thead th {\n",
       "        text-align: right;\n",
       "    }\n",
       "</style>\n",
       "<table border=\"1\" class=\"dataframe\">\n",
       "  <thead>\n",
       "    <tr style=\"text-align: right;\">\n",
       "      <th></th>\n",
       "      <th>f1_mean</th>\n",
       "      <th>accuracy_mean</th>\n",
       "      <th>mean_rank_error_mean</th>\n",
       "      <th>MSE_precision_mean</th>\n",
       "      <th>time_mean</th>\n",
       "    </tr>\n",
       "    <tr>\n",
       "      <th>method</th>\n",
       "      <th></th>\n",
       "      <th></th>\n",
       "      <th></th>\n",
       "      <th></th>\n",
       "      <th></th>\n",
       "    </tr>\n",
       "  </thead>\n",
       "  <tbody>\n",
       "    <tr>\n",
       "      <th>TGL</th>\n",
       "      <td>0.840677</td>\n",
       "      <td>0.7340</td>\n",
       "      <td>NaN</td>\n",
       "      <td>0.246265</td>\n",
       "      <td>185.066961</td>\n",
       "    </tr>\n",
       "    <tr>\n",
       "      <th>KTGL-exp</th>\n",
       "      <td>0.842785</td>\n",
       "      <td>0.7338</td>\n",
       "      <td>NaN</td>\n",
       "      <td>0.145503</td>\n",
       "      <td>846.195786</td>\n",
       "    </tr>\n",
       "    <tr>\n",
       "      <th>KTGL-rbf</th>\n",
       "      <td>0.837572</td>\n",
       "      <td>0.7272</td>\n",
       "      <td>NaN</td>\n",
       "      <td>0.226018</td>\n",
       "      <td>824.218011</td>\n",
       "    </tr>\n",
       "    <tr>\n",
       "      <th>LTGL</th>\n",
       "      <td>0.772805</td>\n",
       "      <td>0.6788</td>\n",
       "      <td>3.97</td>\n",
       "      <td>0.569576</td>\n",
       "      <td>392.617439</td>\n",
       "    </tr>\n",
       "    <tr>\n",
       "      <th>KLTGL-exp</th>\n",
       "      <td>0.822098</td>\n",
       "      <td>0.7064</td>\n",
       "      <td>4.13</td>\n",
       "      <td>0.322114</td>\n",
       "      <td>1867.071245</td>\n",
       "    </tr>\n",
       "    <tr>\n",
       "      <th>KLTGL-rbf</th>\n",
       "      <td>0.800986</td>\n",
       "      <td>0.6874</td>\n",
       "      <td>5.47</td>\n",
       "      <td>0.501341</td>\n",
       "      <td>1957.718554</td>\n",
       "    </tr>\n",
       "    <tr>\n",
       "      <th>WP</th>\n",
       "      <td>NaN</td>\n",
       "      <td>NaN</td>\n",
       "      <td>NaN</td>\n",
       "      <td>NaN</td>\n",
       "      <td>NaN</td>\n",
       "    </tr>\n",
       "  </tbody>\n",
       "</table>\n",
       "</div>"
      ],
      "text/plain": [
       "            f1_mean  accuracy_mean  mean_rank_error_mean  MSE_precision_mean  \\\n",
       "method                                                                         \n",
       "TGL        0.840677         0.7340                   NaN            0.246265   \n",
       "KTGL-exp   0.842785         0.7338                   NaN            0.145503   \n",
       "KTGL-rbf   0.837572         0.7272                   NaN            0.226018   \n",
       "LTGL       0.772805         0.6788                  3.97            0.569576   \n",
       "KLTGL-exp  0.822098         0.7064                  4.13            0.322114   \n",
       "KLTGL-rbf  0.800986         0.6874                  5.47            0.501341   \n",
       "WP              NaN            NaN                   NaN                 NaN   \n",
       "\n",
       "             time_mean  \n",
       "method                  \n",
       "TGL         185.066961  \n",
       "KTGL-exp    846.195786  \n",
       "KTGL-rbf    824.218011  \n",
       "LTGL        392.617439  \n",
       "KLTGL-exp  1867.071245  \n",
       "KLTGL-rbf  1957.718554  \n",
       "WP                 NaN  "
      ]
     },
     "execution_count": 151,
     "metadata": {},
     "output_type": "execute_result"
    }
   ],
   "source": [
    "tmp"
   ]
  },
  {
   "cell_type": "code",
   "execution_count": 30,
   "metadata": {},
   "outputs": [
    {
     "data": {
      "text/plain": [
       "-6648.427421079336"
      ]
     },
     "execution_count": 30,
     "metadata": {},
     "output_type": "execute_result"
    }
   ],
   "source": [
    "mdl = kernel_time_graph_lasso_.KernelTimeGraphLasso(\n",
    "    time_on_axis='last', assume_centered=0, verbose=0, rtol=1e-5, tol=1e-5,\n",
    "    max_iter=500, rho=1./ np.sqrt(data_grid.shape[0]), update_rho_options=dict(mu=5))\n",
    "mdl.fit(data_grid)\n",
    "mdl.score(data_grid)"
   ]
  },
  {
   "cell_type": "code",
   "execution_count": 31,
   "metadata": {},
   "outputs": [],
   "source": [
    "X = np.vstack(data_list)\n",
    "y = np.array([np.ones(x.shape[0]) *i for i, x in enumerate(data_list)]).flatten().astype(int)"
   ]
  },
  {
   "cell_type": "code",
   "execution_count": 37,
   "metadata": {
    "scrolled": true
   },
   "outputs": [
    {
     "data": {
      "text/plain": [
       "-6664.273982392405"
      ]
     },
     "execution_count": 37,
     "metadata": {},
     "output_type": "execute_result"
    }
   ],
   "source": [
    "reload(prox)\n",
    "reload(time_graph_lasso_)\n",
    "reload(kernel_time_graph_lasso_);\n",
    "\n",
    "from functools import partial\n",
    "\n",
    "from sklearn.model_selection import StratifiedKFold\n",
    "\n",
    "from skopt.optimizer import optimizer; reload(optimizer)\n",
    "from skopt import searchcv; reload(searchcv)\n",
    "from skopt.space import Categorical\n",
    "# include below until https://github.com/scikit-optimize/scikit-optimize/issues/718 is resolved\n",
    "class BayesSearchCV(searchcv.BayesSearchCV):\n",
    "    def _run_search(self, x): raise BaseException('Use newer skopt')\n",
    "\n",
    "mdl = kernel_time_graph_lasso_.NewKernelTimeGraphLasso(\n",
    "    alpha=0.5, psi='laplacian',\n",
    "    assume_centered=0, verbose=0, rtol=1e-5, tol=1e-5,\n",
    "    max_iter=500, rho=1./ np.sqrt(data_grid.shape[0]), update_rho_options=dict(mu=5),\n",
    "    kernel=partial(kernels.ExpSineSquared, periodicity=np.pi), length_scale=2)\n",
    "\n",
    "bscv = BayesSearchCV(mdl, search_spaces={\n",
    "        'alpha': (1e-4, 1e+1, 'log-uniform'),  \n",
    "        'length_scale': (1e-4, 1e+1, 'log-uniform'),\n",
    "#         'kernel': Categorical([partial(kernels.ExpSineSquared, periodicity=np.pi),\n",
    "#                                kernels.RBF]),  # categorical parameter\n",
    "    },\n",
    "    n_iter=50, n_points=3, cv=StratifiedKFold(3))\n",
    "\n",
    "bscv.fit(X, y)\n",
    "bscv.score(X, y)"
   ]
  },
  {
   "cell_type": "code",
   "execution_count": 38,
   "metadata": {},
   "outputs": [
    {
     "data": {
      "text/plain": [
       "{'alpha': 0.5792194050871016, 'length_scale': 0.38781388320536275}"
      ]
     },
     "execution_count": 38,
     "metadata": {},
     "output_type": "execute_result"
    }
   ],
   "source": [
    "bscv.best_params_"
   ]
  },
  {
   "cell_type": "code",
   "execution_count": null,
   "metadata": {
    "scrolled": true
   },
   "outputs": [],
   "source": [
    "reload(wishart_process_)\n",
    "wp = wishart_process_.WishartProcess(time_on_axis='first', verbose=True).fit(data_list)\n",
    "\n",
    "wp.likelihood(wp.D_map)\n",
    "\n",
    "wp.loglikes_after_burnin.max()\n",
    "\n",
    "wp.store_precision = True\n",
    "\n",
    "wp.score(data_list)"
   ]
  },
  {
   "cell_type": "code",
   "execution_count": null,
   "metadata": {},
   "outputs": [],
   "source": [
    "mm = dff.xs(n_dim_obs, level='dim', axis=1).xs(T, level='time')\n",
    "mm"
   ]
  },
  {
   "cell_type": "code",
   "execution_count": null,
   "metadata": {
    "scrolled": true
   },
   "outputs": [],
   "source": [
    "np.abs(dff.estimator[100]['TGL'][10].precision_ - dff.estimator[100]['KTGL'][10].precision_)"
   ]
  },
  {
   "cell_type": "code",
   "execution_count": null,
   "metadata": {},
   "outputs": [],
   "source": [
    "from decimal import Decimal\n",
    "' & '.join(['%.3f' % Decimal(i) for i in mm['MSE_precision']])"
   ]
  },
  {
   "cell_type": "code",
   "execution_count": null,
   "metadata": {},
   "outputs": [],
   "source": [
    "dff[[s for s in scores if s != 'estimator']].to_pickle(\"dff_setting_1.pkl\")"
   ]
  },
  {
   "cell_type": "code",
   "execution_count": null,
   "metadata": {},
   "outputs": [],
   "source": [
    "l1 = ([np.linalg.matrix_rank(r) for r in mm.estimator['LTGL ($\\ell_2^2$)'].latent_])\n",
    "l2 = ([np.linalg.matrix_rank(r) for r in mm.estimator['LTGL ($\\ell_1$)'].latent_])\n",
    "l3 = ([np.linalg.matrix_rank(r) for r in mm.estimator['LVGLASSO'].L])\n",
    "\n",
    "l4 = ([np.linalg.matrix_rank(r) for r in mm.estimator['LTGL ($\\ell_2^2$)'].latent_])\n",
    "l5 = ([np.linalg.matrix_rank(r) for r in mm.estimator['LTGL ($\\ell_1$)'].latent_])\n",
    "l6 = ([np.linalg.matrix_rank(r) for r in mm.estimator['LVGLASSO'].L])"
   ]
  },
  {
   "cell_type": "code",
   "execution_count": null,
   "metadata": {},
   "outputs": [],
   "source": [
    "l1,l2,l3,l4,l5,l6 = utils.load_pickle(filename=\"ells.pkl\")"
   ]
  },
  {
   "cell_type": "code",
   "execution_count": null,
   "metadata": {},
   "outputs": [],
   "source": [
    "import collections\n",
    "import matplotlib.pyplot as plt\n",
    "\n",
    "f, (ax1, ax2) = plt.subplots(2,1, sharey=False, figsize=(10,5), dpi=600)\n",
    "\n",
    "colors = ['white', 'lightblue', 'C7']\n",
    "alpha = 0.95\n",
    "\n",
    "counter=collections.Counter(l1)\n",
    "ax1.bar(counter.keys(), np.array(counter.values())/len(l1), \n",
    "        alpha=alpha, width=0.24, label='LTGL ($\\ell_2^2$)', color=colors[0], edgecolor='k')\n",
    "counter=collections.Counter(l2)\n",
    "ax1.bar(np.array(counter.keys())+0.25, np.array(counter.values())/len(l1), \n",
    "        alpha=alpha, width=0.24, label='LTGL ($\\ell_1$)', color=colors[1], edgecolor='k')\n",
    "counter=collections.Counter(l3)\n",
    "ax1.bar(np.array(counter.keys())-0.25, np.array(counter.values())/len(l1), \n",
    "        alpha=alpha, width=0.24, label='LVGLASSO', color=colors[2], edgecolor='k')\n",
    "\n",
    "ax1.set_xticks(range(0,30, 2))\n",
    "#ax1.set_ylim(0,5)\n",
    "ax1.axvline(20, c='r', ls='--')\n",
    "ax1.set_xlabel(r'ranks of L obtained with ($p_2$)')\n",
    "ax1.set_ylabel('frequency')\n",
    "# ax1.set_xscale(\"log\")\n",
    "# ax1.set_xlim([10, 100])\n",
    "ax1.xaxis.label.set_size(15)\n",
    "ax1.yaxis.label.set_size(15)\n",
    "\n",
    "#ax1.legend()\n",
    "# ax0.legend(prop={'size': 10})\n",
    "# ax0.set_title('bars with legend')\n",
    "\n",
    "\n",
    "counter=collections.Counter(l4)\n",
    "ax2.bar(counter.keys(), np.array(counter.values())/len(l4), \n",
    "        alpha=alpha, width=0.24, label='LTGL ($\\ell_2^2$)', color=colors[0], edgecolor='k')\n",
    "counter=collections.Counter(l5)\n",
    "ax2.bar(np.array(counter.keys())+0.25,  \n",
    "        np.array(counter.values())/len(l4), alpha=alpha, width=0.24, label='LTGL ($\\ell_1$)', color=colors[1],\n",
    "        edgecolor='k')\n",
    "counter=collections.Counter(l6)\n",
    "ax2.bar(np.array(counter.keys())-0.25,  \n",
    "        np.array(counter.values())/len(l4), alpha=alpha, width=0.24, label='LVGLASSO', color=colors[2],\n",
    "       edgecolor='k')\n",
    "\n",
    "ax2.set_xticks(range(0,30,2))\n",
    "# ax2.set_xlim(2.5,6.7)\n",
    "ax2.set_xlabel(r'ranks of L obtained with ($p_1$)')\n",
    "ax2.set_ylabel('frequency')\n",
    "ax2.xaxis.label.set_size(15)\n",
    "ax2.yaxis.label.set_size(15)\n",
    "ax2.axvline(5, c='r', ls='--')\n",
    "ax1.legend(loc='upper left', fontsize='x-large')\n",
    "plt.tight_layout()\n",
    "plt.show()"
   ]
  },
  {
   "cell_type": "code",
   "execution_count": null,
   "metadata": {},
   "outputs": [],
   "source": [
    "import matplotlib\n",
    "f.savefig(\"ranks_distribution_vertical.pdf\", dpi=600, transparent=True, bbox_inches='tight')"
   ]
  },
  {
   "cell_type": "code",
   "execution_count": null,
   "metadata": {},
   "outputs": [],
   "source": [
    "import collections\n",
    "import matplotlib.pyplot as plt\n",
    "\n",
    "f, (ax1, ax2) = plt.subplots(1, 2, sharey=True, figsize=(10,2.6), dpi=600)\n",
    "\n",
    "colors = ['white', 'lightblue', 'C7']\n",
    "alpha = 0.5\n",
    "\n",
    "counter=collections.Counter(l1)\n",
    "ax1.plot(range(len(l1)), l1, \n",
    "        alpha=alpha, label='LTGL ($\\ell_2^2$)', color=colors[0])\n",
    "counter=collections.Counter(l2)\n",
    "ax1.plot(np.arange(len(l1))+.2, l2, \n",
    "        alpha=alpha,  label='LTGL ($\\ell_1$)', color=colors[1])\n",
    "counter=collections.Counter(l3)\n",
    "ax1.plot(np.arange(len(l1))+.4, l3,\n",
    "        alpha=alpha, label='LVGLASSO', color=colors[2])\n",
    "\n",
    "# ax1.set_xticks(range(15,25, 1))\n",
    "#ax1.set_ylim(0,5)\n",
    "ax1.axhline(20, c='r', ls='--')\n",
    "ax1.set_xlabel(r'ranks of L obtained with ($p_2$)')\n",
    "ax1.set_ylabel('frequency')\n",
    "ax1.xaxis.label.set_size(15)\n",
    "ax1.yaxis.label.set_size(15)\n",
    "\n",
    "#ax1.legend()\n",
    "# ax0.legend(prop={'size': 10})\n",
    "# ax0.set_title('bars with legend')\n",
    "\n",
    "\n",
    "counter=collections.Counter(l4)\n",
    "ax2.plot(range(len(l4)), l4, \n",
    "        alpha=alpha,label='LTGL ($\\ell_2^2$)', color=colors[0])\n",
    "counter=collections.Counter(l5)\n",
    "ax2.plot(np.arange(len(l4))+.2, l5,\n",
    "        alpha=alpha,  label='LTGL ($\\ell_1$)', color=colors[1])\n",
    "counter=collections.Counter(l6)\n",
    "ax2.plot(np.arange(len(l4))+.4, l6, alpha=alpha,label='LVGLASSO', color=colors[2])\n",
    "\n",
    "# ax2.set_xticks(range(10))\n",
    "# ax2.set_xlim(2.5,6.7)\n",
    "ax2.set_xlabel(r'ranks of L obtained with ($p_1$)')\n",
    "ax2.xaxis.label.set_size(15)\n",
    "ax2.axhline(5, c='r', ls='--')\n",
    "ax1.legend(loc='best', fontsize='large')\n",
    "plt.tight_layout()\n",
    "plt.show()"
   ]
  }
 ],
 "metadata": {
  "kernelspec": {
   "display_name": "Python 2",
   "language": "python",
   "name": "python2"
  },
  "language_info": {
   "codemirror_mode": {
    "name": "ipython",
    "version": 2
   },
   "file_extension": ".py",
   "mimetype": "text/x-python",
   "name": "python",
   "nbconvert_exporter": "python",
   "pygments_lexer": "ipython2",
   "version": "2.7.15"
  },
  "varInspector": {
   "cols": {
    "lenName": 16,
    "lenType": 16,
    "lenVar": 40
   },
   "kernels_config": {
    "python": {
     "delete_cmd_postfix": "",
     "delete_cmd_prefix": "del ",
     "library": "var_list.py",
     "varRefreshCmd": "print(var_dic_list())"
    },
    "r": {
     "delete_cmd_postfix": ") ",
     "delete_cmd_prefix": "rm(",
     "library": "var_list.r",
     "varRefreshCmd": "cat(var_dic_list()) "
    }
   },
   "types_to_exclude": [
    "module",
    "function",
    "builtin_function_or_method",
    "instance",
    "_Feature"
   ],
   "window_display": false
  }
 },
 "nbformat": 4,
 "nbformat_minor": 2
}
