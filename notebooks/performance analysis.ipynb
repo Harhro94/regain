{
 "cells": [
  {
   "cell_type": "code",
   "execution_count": null,
   "metadata": {},
   "outputs": [],
   "source": [
    "%pylab inline\n",
    "\n",
    "import networkx as nx\n",
    "import scipy.sparse\n",
    "import pandas as pd\n",
    "from scipy.io import loadmat\n",
    "from sklearn.datasets import make_sparse_spd_matrix\n",
    "from sklearn.utils.extmath import squared_norm\n",
    "from sklearn.covariance import empirical_covariance\n",
    "from sklearn.model_selection import GridSearchCV, ShuffleSplit\n",
    "\n",
    "from regain import datasets_v2 as datasets; reload(datasets)\n",
    "from regain.datasets_v2 import is_pos_def, is_pos_semidef\n",
    "from regain.plot import plot_graph_with_latent_variables\n",
    "from regain.admm import latent_time_graph_lasso_v3_; reload(latent_time_graph_lasso_v3_)\n",
    "from regain.admm import time_graph_lasso_; reload(time_graph_lasso_);\n",
    "from regain.admm import latent_graph_lasso_; reload(latent_graph_lasso_);\n",
    "import regain.utils; reload(regain.utils)\n",
    "from regain.utils import error_norm, structure_error, error_rank\n",
    "import time"
   ]
  },
  {
   "cell_type": "markdown",
   "metadata": {},
   "source": [
    "# Generation of tables for results"
   ]
  },
  {
   "cell_type": "code",
   "execution_count": null,
   "metadata": {
    "collapsed": true
   },
   "outputs": [],
   "source": [
    "ours = pd.DataFrame(columns=[\"n_dim_obs\", \"time\", \"iterations\", \"F1score\", \"MSE_precision\", \"MSE_observed\",\n",
    "                             \"MSE_latent\",\"mean_rank_error\"])\n",
    "hallac = pd.DataFrame(columns=ours.columns)\n",
    "chandresekeran = pd.DataFrame(columns=ours.columns)\n",
    "friedman = pd.DataFrame(columns=ours.columns)"
   ]
  },
  {
   "cell_type": "code",
   "execution_count": 3,
   "metadata": {},
   "outputs": [
    {
     "name": "stdout",
     "output_type": "stream",
     "text": [
      "Starting MATLAB on ZMQ socket ipc:///tmp/pymatbridge-795851ca-5de0-4ba5-9717-4fef20170b6c\n",
      "Send 'exit' command to kill the server\n",
      "........MATLAB started and connected!\n"
     ]
    }
   ],
   "source": [
    "%load_ext pymatbridge\n",
    "#%matlab cd /home/fede/Downloads/lvglasso-pub/\n",
    "%matlab cd /home/veronica/src/lvglasso-pub/"
   ]
  },
  {
   "cell_type": "markdown",
   "metadata": {},
   "source": [
    "# Performances of the different algorithms"
   ]
  },
  {
   "cell_type": "code",
   "execution_count": 4,
   "metadata": {},
   "outputs": [],
   "source": [
    "def ltgl_results(data_grid, dataframe, K, K_obs, ells, tau=np.linspace(0.01, 0.8, 10), eta=np.linspace(0.01, 0.8, 10),\n",
    "                   beta=np.linspace(0.01, 0.8, 10), alpha=np.linspace(0.01, 0.2, 10)):\n",
    "    \n",
    "    mdl = latent_time_graph_lasso_v3_.LatentTimeGraphLasso(\n",
    "        bypass_transpose=True, assume_centered=0, verbose=0, rtol=1e-5, tol=1e-5,\n",
    "        max_iter=500, rho=1./ np.sqrt(np.array(data_list).shape[1]))\n",
    "    params = {'tau': tau,\n",
    "              'eta':eta,\n",
    "              'alpha':alpha, \n",
    "              'beta':beta}\n",
    "    ltgl = GridSearchCV(mdl, params, cv=ShuffleSplit(3, test_size=.5)).fit(data_grid)\n",
    "    alpha = ltgl.best_params_['alpha']\n",
    "    tau = ltgl.best_params_['tau']\n",
    "    beta = ltgl.best_params_['beta']\n",
    "    eta = ltgl.best_params_['eta']\n",
    "    \n",
    "    start_time = time.time()\n",
    "    ll = latent_time_graph_lasso_v3_.LatentTimeGraphLasso(\n",
    "        bypass_transpose=False, assume_centered=True, verbose=0, rtol=1e-5, tol=1e-5, max_iter=500,\n",
    "        rho=1. / np.array(data_list).shape[1], eta=eta, beta=beta, tau=tau, alpha=alpha).fit(data_grid)\n",
    "    time = time.time() - start_time()\n",
    "    iterations = ll.n_iter_\n",
    "    F1score = structure_error(K, ll.precision_)['F1score']\n",
    "    MSE_observed = error_norm(K_obs, ll.precision_ - ll.latent_)\n",
    "    MSE_precision = error_norm(K, ll.precision_)\n",
    "    MSE_latent = error_norm(ells, ll.latent_)\n",
    "    mean_rank_error = error_rank(ells, ll.latent_)\n",
    "\n",
    "    res = pd.DataFrame([K.shape[0], time, iterations, F1score,\n",
    "                        MSE_precision, MSE_observed, MSE_latent, \n",
    "                        mean_rank_error], columns=ours.columns.values)\n",
    "    dataframe = dataframe.append(res, ignore_index=True)\n",
    "    return dataframe, alpha, tau, beta, eta"
   ]
  },
  {
   "cell_type": "code",
   "execution_count": 5,
   "metadata": {},
   "outputs": [],
   "source": [
    "def hallac_results(data_grid, dataframe, K, K_obs, ells, tau, eta, beta, alpha):\n",
    "        return None"
   ]
  },
  {
   "cell_type": "code",
   "execution_count": 6,
   "metadata": {},
   "outputs": [],
   "source": [
    "from sklearn.covariance import GraphLasso\n",
    "def glasso_results(data_grid, dataframe, K, K_obs, ells, alpha):\n",
    "    gl = GraphLasso(alpha=alpha, mode='cd',assume_centered=True)\n",
    "    \n",
    "    start_time = time.time()\n",
    "    iters = []\n",
    "    precisions = []\n",
    "    for d in data_grid.transpose(2,0,1):\n",
    "        gl.fit(d)\n",
    "        iters.append(gl.n_iter_)\n",
    "        precisions.append(gl.precision_)\n",
    "    time = time.time() - start_time()\n",
    "    iterations = np.max(iters)\n",
    "    \n",
    "    F1score = structure_error(K, precisions)['F1score']\n",
    "    MSE_observed = None\n",
    "    MSE_precision = error_norm(K, precisions)\n",
    "    MSE_latent = None\n",
    "    mean_rank_error = None\n",
    "\n",
    "    res = pd.DataFrame([K.shape[0], time, iterations, F1score,\n",
    "                        MSE_precision, MSE_observed, MSE_latent, \n",
    "                        mean_rank_error], columns=ours.columns.values)\n",
    "    dataframe = dataframe.append(res, ignore_index=True)\n",
    "    return dataframe"
   ]
  },
  {
   "cell_type": "code",
   "execution_count": null,
   "metadata": {},
   "outputs": [],
   "source": [
    "from pymatbridge import Matlab\n",
    "def chandresekeran_results(data_grid, dataframe, K, K_obs, ells, tau, alpha):\n",
    "   \n",
    "    emp_list = np.array([empirical_covariance(x, assume_centered=True)\n",
    "                        for x in data_grid.transpose(2,0,1)])\n",
    "    start_time = time.time()\n",
    "    \n",
    "    mlab = Matlab()\n",
    "    mlab.start()\n",
    "    results = mlab.run_code('a=1;')\n",
    "    mlab.stop()\n",
    "    "
   ]
  },
  {
   "cell_type": "markdown",
   "metadata": {},
   "source": [
    "# Run experiments"
   ]
  },
  {
   "cell_type": "code",
   "execution_count": null,
   "metadata": {},
   "outputs": [],
   "source": [
    "data = []\n",
    "taus = []\n",
    "alphas = []\n",
    "for n_dim_obs in np.logspace(1,5,1):\n",
    "    n_samples = 100\n",
    "    n_dim_lat = 7\n",
    "    T=10\n",
    "\n",
    "    res = datasets.generate_dataset(\n",
    "         mode='fixed', n_samples=n_samples, n_dim_lat=n_dim_lat, n_dim_obs=n_dim_obs,  T=T, epsilon=1e-2)\n",
    "    data_list = res[\"data_list\"]\n",
    "    K = res[\"thetas\"]\n",
    "    K_obs = res[\"thetas_observed\"]\n",
    "    ells = res[\"ells\"]\n",
    "    data_grid = np.array(data_list).transpose(1,2,0)  # to use it later for grid search\n",
    "    data.append(data_grid)\n",
    "    ours, alpha, tau, beta, eta = ltgl_results(data_grid, ours, K, K_obs, ells)\n",
    "    taus.append(tau)\n",
    "    alhpas.append(alpha)\n",
    "    friedman = glasso_results(data_grid, friedman,  K, K_obs, ells, tau, eta, beta, alpha)\n",
    "    #hallac = hallac_results(data_grid, hallac, K, K_obs, ells, tau, eta, beta, alpha)\n",
    "    "
   ]
  },
  {
   "cell_type": "markdown",
   "metadata": {
    "collapsed": true
   },
   "source": [
    "# Results chandresekeran"
   ]
  },
  {
   "cell_type": "code",
   "execution_count": null,
   "metadata": {
    "collapsed": true
   },
   "outputs": [],
   "source": [
    "emps = []\n",
    "for d in data:\n",
    "    emp_list = np.array([empirical_covariance(x, assume_centered=True)\n",
    "                        for x in d.transpose(2,0,1)])\n",
    "    emps.append(emp_list)"
   ]
  },
  {
   "cell_type": "code",
   "execution_count": null,
   "metadata": {
    "collapsed": true
   },
   "outputs": [],
   "source": [
    "%%matlab -i emps,alpha,tau -o R,S,L,obj,res,iter\n",
    "%alpha = 0.05;\n",
    "%beta = 0.25;\n",
    "opts.continuation = 1; opts.num_continuation = 0;\n",
    "opts.eta = sqrt(100); opts.muf = 1e-6;\n",
    "opts.maxiter = 500; opts.stoptol = 1e-5; \n",
    "opts.over_relax_par = 1;\n",
    "\n",
    "R = cell(1, size(emp_list,3));\n",
    "S = cell(1, size(emp_list,3));\n",
    "L = cell(1, size(emp_list,3));\n",
    "obj = cell(1, size(emp_list,3));\n",
    "res = cell(1, size(emp_list,3));\n",
    "iter = cell(1, size(emp_list,3));\n",
    "for i=1:size(emp_list,3)\n",
    "    cov = emp_list{i};\n",
    "    n = size(cov,1);opts.mu = n;\n",
    "    tic; out_B = ADMM_B(cov,alpha,tau,opts); solve_B = toc;\n",
    "    %%fprintf('ADMM_B: obj: %e, iter: %d, cpu: %3.1f \\n',out_B.obj,out_B.iter,solve_B);\n",
    "    R{i} = out_B.R;\n",
    "    S{i} = out_B.S;\n",
    "    L{i} = out_B.L;\n",
    "    obj{i} = out_B.obj;\n",
    "    res{i} = out_B.resid;\n",
    "    iter{i} = out_B.iter;\n",
    "end"
   ]
  },
  {
   "cell_type": "code",
   "execution_count": null,
   "metadata": {
    "collapsed": true
   },
   "outputs": [],
   "source": [
    "   \n",
    "R = np.array(R)\n",
    "L = np.array(L)\n",
    "iters = np.arrau(iter)\n",
    "R_ar = np.array([R[i*R.shape[1]:(i+1)*R.shape[1]] for i in range(R.shape[0]/R.shape[1])])\n",
    "L_ar = np.array([L[i*L.shape[1]:(i+1)*L.shape[1]] for i in range(L.shape[0]/L.shape[1])])\n",
    "iters_ar = np.array([iters[i*iters.shape[1]:(i+1)*iters.shape[1]]\n",
    "                     for i in range(iters.shape[0]/iters.shape[1])])\n",
    "print(iters_ar)\n",
    "iterations = np.max(iters_ar)\n",
    "F1score = structure_error(K, R_ar+L_ar)['F1score']\n",
    "MSE_observed = error_norm(K_obs, R_ar)\n",
    "MSE_precision = error_norm(K, R_ar+L_ar)\n",
    "MSE_latent = error_norm(ells, L_ar)\n",
    "mean_rank_error = error_rank(ells, L_ar)\n",
    "\n",
    "res = pd.DataFrame([K.shape[0], time, iterations, F1score,\n",
    "                    MSE_precision, MSE_observed, MSE_latent, \n",
    "                    mean_rank_error], columns=ours.columns.values)\n",
    "dataframe = dataframe.append(res, ignore_index=True)\n",
    "return dataframe"
   ]
  },
  {
   "cell_type": "code",
   "execution_count": null,
   "metadata": {
    "collapsed": true
   },
   "outputs": [],
   "source": [
    "print(ours)\n",
    "print(friedman)"
   ]
  }
 ],
 "metadata": {
  "kernelspec": {
   "display_name": "Python 2",
   "language": "python",
   "name": "python2"
  },
  "language_info": {
   "codemirror_mode": {
    "name": "ipython",
    "version": 2
   },
   "file_extension": ".py",
   "mimetype": "text/x-python",
   "name": "python",
   "nbconvert_exporter": "python",
   "pygments_lexer": "ipython2",
   "version": "2.7.13"
  }
 },
 "nbformat": 4,
 "nbformat_minor": 2
}
