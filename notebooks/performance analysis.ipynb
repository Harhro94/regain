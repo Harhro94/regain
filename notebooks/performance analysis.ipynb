{
 "cells": [
  {
   "cell_type": "code",
   "execution_count": 1,
   "metadata": {},
   "outputs": [
    {
     "name": "stdout",
     "output_type": "stream",
     "text": [
      "Populating the interactive namespace from numpy and matplotlib\n"
     ]
    }
   ],
   "source": [
    "%pylab inline\n",
    "\n",
    "import networkx as nx\n",
    "import scipy.sparse\n",
    "import pandas as pd\n",
    "from scipy.io import loadmat\n",
    "from sklearn.datasets import make_sparse_spd_matrix\n",
    "from sklearn.datasets.base import Bunch\n",
    "from sklearn.utils.extmath import squared_norm\n",
    "from sklearn.covariance import empirical_covariance\n",
    "from sklearn.model_selection import GridSearchCV, ShuffleSplit\n",
    "\n",
    "from regain import datasets; reload(datasets)\n",
    "from regain.datasets import is_pos_def, is_pos_semidef\n",
    "from regain.plot import plot_graph_with_latent_variables\n",
    "from regain.admm import latent_time_graph_lasso_v3_; reload(latent_time_graph_lasso_v3_)\n",
    "from regain.admm import time_graph_lasso_; reload(time_graph_lasso_);\n",
    "from regain.admm import latent_graph_lasso_; reload(latent_graph_lasso_);\n",
    "from regain import utils; reload(utils)\n",
    "import time"
   ]
  },
  {
   "cell_type": "code",
   "execution_count": 2,
   "metadata": {},
   "outputs": [],
   "source": [
    "# %load_ext pymatbridge\n",
    "# %matlab cd /home/fede/Downloads/lvglasso-pub/\n",
    "# # %matlab cd /home/veronica/src/lvglasso-pub/"
   ]
  },
  {
   "cell_type": "markdown",
   "metadata": {},
   "source": [
    "# Generation of tables for results"
   ]
  },
  {
   "cell_type": "code",
   "execution_count": 3,
   "metadata": {},
   "outputs": [],
   "source": [
    "ours = pd.DataFrame(columns=[\"n_dim_obs\", \"time\", \"iterations\", \"F1score\", \"MSE_precision\", \"MSE_observed\",\n",
    "                             \"MSE_latent\",\"mean_rank_error\", \"note\"])\n",
    "hallac = pd.DataFrame(columns=ours.columns)\n",
    "chandresekeran = pd.DataFrame(columns=ours.columns)\n",
    "friedman = pd.DataFrame(columns=ours.columns)"
   ]
  },
  {
   "cell_type": "markdown",
   "metadata": {},
   "source": [
    "# Performances of the different algorithms"
   ]
  },
  {
   "cell_type": "code",
   "execution_count": 4,
   "metadata": {},
   "outputs": [],
   "source": [
    "def ltgl_results(data_grid, dataframe, K, K_obs, ells,\n",
    "                 alpha=np.linspace(0.01, 0.2, 5), tau=np.linspace(0.01, 0.8, 5),\n",
    "                 beta=np.linspace(0.01, 0.8, 1), eta=np.linspace(0.01, 0.8, 2)):\n",
    "    \n",
    "    mdl = latent_time_graph_lasso_v3_.LatentTimeGraphLasso(\n",
    "        bypass_transpose=False, assume_centered=0, verbose=0, rtol=1e-5, tol=1e-5,\n",
    "        max_iter=500, rho=1./ np.sqrt(np.array(data_list).shape[1]))\n",
    "    params = dict(tau=tau, eta=eta, alpha=alpha, beta=beta)\n",
    "    \n",
    "    ltgl = GridSearchCV(mdl, params, cv=ShuffleSplit(3, test_size=.5), verbose=True).fit(data_grid)\n",
    "    alpha = ltgl.best_params_['alpha']\n",
    "    tau = ltgl.best_params_['tau']\n",
    "    beta = ltgl.best_params_['beta']\n",
    "    eta = ltgl.best_params_['eta']\n",
    "    \n",
    "    tic = time.time()\n",
    "    # ll = ltgl.best_estimator_.fit(data_grid)\n",
    "    ll = mdl.set_params(**ltgl.best_params_).fit(data_grid)\n",
    "    tac = time.time()\n",
    "    iterations = ll.n_iter_\n",
    "    F1score = utils.structure_error(K, ll.precision_)['f1']\n",
    "    MSE_observed = utils.error_norm(K_obs, ll.precision_ - ll.latent_)\n",
    "    MSE_precision = utils.error_norm(K, ll.precision_)\n",
    "    MSE_latent = utils.error_norm(ells, ll.latent_)\n",
    "    mean_rank_error = utils.error_rank(ells, ll.latent_)\n",
    "    \n",
    "    res = dict(n_dim_obs=K.shape[0],\n",
    "               time=tac-tic,\n",
    "               iterations=iterations,\n",
    "               F1score=F1score,\n",
    "               MSE_precision=MSE_precision,\n",
    "               MSE_observed=MSE_observed,\n",
    "               MSE_latent=MSE_latent,\n",
    "               mean_rank_error=mean_rank_error,\n",
    "               note=None,\n",
    "               estimator=ll)\n",
    "    dataframe = dataframe.append(res, ignore_index=True)\n",
    "    return dataframe, alpha, tau, beta, eta"
   ]
  },
  {
   "cell_type": "code",
   "execution_count": 5,
   "metadata": {},
   "outputs": [],
   "source": [
    "import sys\n",
    "sys.path.append(\"/home/fede/src/TVGL/\")\n",
    "import TVGL; reload(TVGL)\n",
    "import inferGraphL2; reload(inferGraphL2)\n",
    "from TVGL import tvgl_hallac\n",
    "\n",
    "def hallac_results(data_grid, dataframe, K, K_obs, ells, beta, alpha):\n",
    "    tic = time.time()\n",
    "    thetaSet, empCovSet, status, gvx = tvgl_hallac(\n",
    "        data_grid.transpose(2,0,1), lamb=alpha, beta=beta, indexOfPenalty=2)\n",
    "    tac = time.time()\n",
    "\n",
    "    if status != \"Optimal\":\n",
    "        print \"not converged\"\n",
    "    precisions = np.array(thetaSet)\n",
    "    F1score = utils.structure_error(K, precisions)['f1']\n",
    "    MSE_observed = None\n",
    "    MSE_precision = utils.error_norm(K, precisions)\n",
    "    MSE_latent = None\n",
    "    mean_rank_error = None\n",
    "\n",
    "    res = dict(n_dim_obs=K.shape[0],\n",
    "               time=tac-tic,\n",
    "               iterations=gvx.n_iter_,\n",
    "               F1score=F1score,\n",
    "               MSE_precision=MSE_precision,\n",
    "               MSE_observed=MSE_observed,\n",
    "               MSE_latent=MSE_latent,\n",
    "               mean_rank_error=mean_rank_error,\n",
    "               note=status,\n",
    "               estimator=gvx)\n",
    "\n",
    "    dataframe = dataframe.append(res, ignore_index=True)\n",
    "    return dataframe"
   ]
  },
  {
   "cell_type": "code",
   "execution_count": 6,
   "metadata": {},
   "outputs": [],
   "source": [
    "from sklearn.covariance import GraphLasso\n",
    "def glasso_results(data_grid, dataframe, K, K_obs, ells, alpha):\n",
    "    gl = GraphLasso(alpha=alpha, mode='cd', assume_centered=False)\n",
    "    \n",
    "    tic = time.time()\n",
    "    iters = []\n",
    "    precisions = []\n",
    "    for d in data_grid.transpose(2,0,1):\n",
    "        gl.fit(d)\n",
    "        iters.append(gl.n_iter_)\n",
    "        precisions.append(gl.precision_)\n",
    "    tac = time.time()\n",
    "    iterations = np.max(iters)\n",
    "    precisions = np.array(precisions)\n",
    "    F1score = utils.structure_error(K, precisions)['f1']\n",
    "    MSE_observed = None\n",
    "    MSE_precision = utils.error_norm(K, precisions)\n",
    "    MSE_latent = None\n",
    "    mean_rank_error = None\n",
    " \n",
    "    res = dict(n_dim_obs=K.shape[0],\n",
    "               time=tac-tic,\n",
    "               iterations=iterations,\n",
    "               F1score=F1score,\n",
    "               MSE_precision=MSE_precision,\n",
    "               MSE_observed=MSE_observed,\n",
    "               MSE_latent=MSE_latent,\n",
    "               mean_rank_error=mean_rank_error,\n",
    "               note=None,\n",
    "               estimator=gl)\n",
    " \n",
    "    dataframe = dataframe.append(res, ignore_index=True)\n",
    "    return dataframe"
   ]
  },
  {
   "cell_type": "code",
   "execution_count": 7,
   "metadata": {},
   "outputs": [
    {
     "name": "stderr",
     "output_type": "stream",
     "text": [
      "/home/fede/miniconda2/lib/python2.7/site-packages/IPython/nbformat.py:13: ShimWarning: The `IPython.nbformat` package has been deprecated since IPython 4.0. You should import from nbformat instead.\n",
      "  \"You should import from nbformat instead.\", ShimWarning)\n"
     ]
    }
   ],
   "source": [
    "from pymatbridge import Matlab\n",
    "def chandresekeran_results(data_grid, dataframe, K, K_obs, ells, tau, alpha):\n",
    "   \n",
    "    emp_list = np.array([empirical_covariance(x, assume_centered=True)\n",
    "                        for x in data_grid.transpose(2,0,1)]).transpose(1,2,0)\n",
    "    \n",
    "    n_samples = emp_list.shape[0]\n",
    "    opts = dict(continuation=1, num_continuation=0,eta=np.sqrt(100),muf=1e-6,\n",
    "                maxiter=500,stoptol=1e-5,over_relax_par=1, mu=n_samples)\n",
    "#     start_time = time.time()\n",
    "    \n",
    "    mlab = Matlab()\n",
    "    mlab.start()\n",
    "\n",
    "    # single run of ADMM_B\n",
    "    # result = mlab.run_func('/home/fede/Downloads/lvglasso-pub/ADMM_B.m', emp_list[...,0], alpha, tau, opts)\n",
    "\n",
    "    # insert the ADMM_B.m function in the path\n",
    "    mlab.run_code(\"addpath(genpath('/home/fede/Downloads/lvglasso-pub/'))\")\n",
    "\n",
    "    result = mlab.run_func(\"/home/fede/src/slipguru/regain/regain/wrapper/ADMMMA.m\",\n",
    "                           emp_list, alpha, tau)\n",
    "    mlab.stop()\n",
    "\n",
    "    ma_output = Bunch(**result['result'])\n",
    "    ma_output.R = np.array(ma_output.R)\n",
    "    ma_output.S = np.array(ma_output.S)\n",
    "    ma_output.L = np.array(ma_output.L)\n",
    "    \n",
    "    F1score = utils.structure_error(K, ma_output.R + ma_output.L)['f1']\n",
    "    MSE_observed = utils.error_norm(K_obs, ma_output.R)\n",
    "    MSE_precision = utils.error_norm(K, ma_output.R + ma_output.L)\n",
    "    MSE_latent = utils.error_norm(ells, ma_output.L)\n",
    "    mean_rank_error = utils.error_rank(ells, ma_output.L)\n",
    "    \n",
    "    res = dict(n_dim_obs=K.shape[0],\n",
    "               time=ma_output.elapsed_time,\n",
    "               iterations=np.max(ma_output.iter),\n",
    "               F1score=F1score,\n",
    "               MSE_precision=MSE_precision,\n",
    "               MSE_observed=MSE_observed,\n",
    "               MSE_latent=MSE_latent,\n",
    "               mean_rank_error=mean_rank_error,\n",
    "               note=None, estimator=ma_output)\n",
    " \n",
    "    dataframe = dataframe.append(res, ignore_index=True)\n",
    "    return dataframe"
   ]
  },
  {
   "cell_type": "code",
   "execution_count": null,
   "metadata": {},
   "outputs": [],
   "source": [
    "n_samples = 100\n",
    "n_dim_obs = 10\n",
    "n_dim_lat = 7\n",
    "T=2\n",
    "\n",
    "res = datasets.generate_dataset(\n",
    "     mode='fixed', n_samples=n_samples, n_dim_lat=n_dim_lat, n_dim_obs=n_dim_obs,  T=T, epsilon=1e-2)\n",
    "data_list = res.data\n",
    "K = res.thetas\n",
    "K_obs = res.thetas_observed\n",
    "ells = res.ells\n",
    "data_grid = np.array(data_list).transpose(1,2,0)  # to use it later for grid search"
   ]
  },
  {
   "cell_type": "markdown",
   "metadata": {},
   "source": [
    "# Run experiments"
   ]
  },
  {
   "cell_type": "code",
   "execution_count": null,
   "metadata": {
    "scrolled": true
   },
   "outputs": [
    {
     "name": "stdout",
     "output_type": "stream",
     "text": [
      "Start with dimensions: 10\n",
      "Cross Validating parameters ...\n",
      "Fitting 3 folds for each of 50 candidates, totalling 150 fits\n"
     ]
    },
    {
     "name": "stderr",
     "output_type": "stream",
     "text": [
      "[Parallel(n_jobs=1)]: Done 150 out of 150 | elapsed:  1.1min finished\n"
     ]
    },
    {
     "name": "stdout",
     "output_type": "stream",
     "text": [
      "starting Graph Lasso\n",
      "starting hallac\n",
      "Use l-2 penalty function\n",
      "starting chandresekeran\n",
      "Starting MATLAB on ZMQ socket ipc:///tmp/pymatbridge-f79a9974-cd4e-4717-8da2-706367017808\n",
      "Send 'exit' command to kill the server\n",
      "..........MATLAB started and connected!\n",
      "MATLAB closed\n",
      "Start with dimensions: 100\n",
      "Cross Validating parameters ...\n",
      "Fitting 3 folds for each of 50 candidates, totalling 150 fits\n"
     ]
    }
   ],
   "source": [
    "reload(datasets)\n",
    "data = []\n",
    "taus, betas, alphas = [], [], []\n",
    "for n_dim_obs in [10,100,1000]:\n",
    "    print(\"Start with dimensions: %d\" % n_dim_obs)\n",
    "    n_samples = 100\n",
    "    n_dim_lat = 7\n",
    "    T=10\n",
    "\n",
    "    res = datasets.generate_dataset(\n",
    "         mode='fixed', n_samples=n_samples, n_dim_lat=n_dim_lat, n_dim_obs=n_dim_obs,  T=T, epsilon=1e-2)\n",
    "    data_list = res.data\n",
    "    K = res.thetas\n",
    "    K_obs = res.thetas_observed\n",
    "    ells = res.ells\n",
    "    data_grid = np.array(data_list).transpose(1,2,0)  # to use it later for grid search\n",
    "    data.append(data_grid)\n",
    "    print(\"Cross Validating parameters ...\")\n",
    "    ours, alpha, tau, beta, eta = ltgl_results(data_grid, ours, K, K_obs, ells)\n",
    "    taus.append(tau)\n",
    "    alphas.append(alpha)\n",
    "    betas.append(beta)\n",
    "    \n",
    "    print(\"starting Graph Lasso\")\n",
    "    friedman = glasso_results(data_grid, friedman,  K, K_obs, ells, alpha=alphas[-1])\n",
    "    print(\"starting hallac\")\n",
    "    hallac = hallac_results(data_grid, hallac, K, K_obs, ells, beta=betas[-1], alpha=alphas[-1])\n",
    "    print(\"starting chandresekeran\")\n",
    "    chandresekeran = chandresekeran_results(data_grid, chandresekeran, K, K_obs, ells, taus[-1], alphas[-1])"
   ]
  },
  {
   "cell_type": "markdown",
   "metadata": {
    "collapsed": true
   },
   "source": [
    "# Results chandresekeran"
   ]
  },
  {
   "cell_type": "code",
   "execution_count": null,
   "metadata": {},
   "outputs": [],
   "source": [
    "emps = []\n",
    "for d in data:\n",
    "    emp_list = np.array([empirical_covariance(x, assume_centered=True)\n",
    "                        for x in d.transpose(2,0,1)])\n",
    "    emps.append(emp_list)"
   ]
  },
  {
   "cell_type": "code",
   "execution_count": 11,
   "metadata": {
    "scrolled": true
   },
   "outputs": [
    {
     "data": {
      "text/plain": [
       "\n",
       "elapsed_time =\n",
       "\n",
       "    0.4038\n",
       "\n"
      ]
     },
     "metadata": {},
     "output_type": "display_data"
    }
   ],
   "source": [
    "%%matlab -i emp_list,alpha,tau -o R,S,L,obj,res,iter,elapsed_time\n",
    "%alpha = 0.05;\n",
    "%beta = 0.25;\n",
    "opts.continuation = 1; opts.num_continuation = 0;\n",
    "opts.eta = sqrt(100); opts.muf = 1e-6;\n",
    "opts.maxiter = 500; opts.stoptol = 1e-5; \n",
    "opts.over_relax_par = 1;\n",
    "\n",
    "R = cell(1, size(emp_list,3));\n",
    "S = cell(1, size(emp_list,3));\n",
    "L = cell(1, size(emp_list,3));\n",
    "obj = cell(1, size(emp_list,3));\n",
    "res = cell(1, size(emp_list,3));\n",
    "iter = cell(1, size(emp_list,3));\n",
    "tic\n",
    "for i=1:size(emp_list,3)\n",
    "    cov = emp_list(:,:,i);  %time is the last dimension\n",
    "    n = size(cov,1);opts.mu = n;\n",
    "    out_B = ADMM_B(cov,alpha,tau,opts);\n",
    "    %%fprintf('ADMM_B: obj: %e, iter: %d, cpu: %3.1f \\n',out_B.obj,out_B.iter,solve_B);\n",
    "    R{i} = out_B.R;\n",
    "    S{i} = out_B.S;\n",
    "    L{i} = out_B.L;\n",
    "    obj{i} = out_B.obj;\n",
    "    res{i} = out_B.resid;\n",
    "    iter{i} = out_B.iter;\n",
    "end\n",
    "elapsed_time = toc"
   ]
  },
  {
   "cell_type": "code",
   "execution_count": null,
   "metadata": {},
   "outputs": [],
   "source": [
    "   \n",
    "R = np.array(R)\n",
    "L = np.array(L)\n",
    "iters = np.arrau(iter)\n",
    "R_ar = np.array([R[i*R.shape[1]:(i+1)*R.shape[1]] for i in range(R.shape[0]/R.shape[1])])\n",
    "L_ar = np.array([L[i*L.shape[1]:(i+1)*L.shape[1]] for i in range(L.shape[0]/L.shape[1])])\n",
    "iters_ar = np.array([iters[i*iters.shape[1]:(i+1)*iters.shape[1]]\n",
    "                     for i in range(iters.shape[0]/iters.shape[1])])\n",
    "print(iters_ar)\n",
    "iterations = np.max(iters_ar)\n",
    "F1score = structure_error(K, R_ar+L_ar)['F1score']\n",
    "MSE_observed = error_norm(K_obs, R_ar)\n",
    "MSE_precision = error_norm(K, R_ar+L_ar)\n",
    "MSE_latent = error_norm(ells, L_ar)\n",
    "mean_rank_error = error_rank(ells, L_ar)\n",
    "\n",
    "res = pd.DataFrame([K.shape[0], time, iterations, F1score,\n",
    "                    MSE_precision, MSE_observed, MSE_latent, \n",
    "                    mean_rank_error], columns=ours.columns.values)\n",
    "dataframe = dataframe.append(res, ignore_index=True)\n",
    "return dataframe"
   ]
  },
  {
   "cell_type": "code",
   "execution_count": null,
   "metadata": {},
   "outputs": [],
   "source": [
    "print(ours)\n",
    "print(friedman)"
   ]
  }
 ],
 "metadata": {
  "kernelspec": {
   "display_name": "Python 2",
   "language": "python",
   "name": "python2"
  },
  "language_info": {
   "codemirror_mode": {
    "name": "ipython",
    "version": 2
   },
   "file_extension": ".py",
   "mimetype": "text/x-python",
   "name": "python",
   "nbconvert_exporter": "python",
   "pygments_lexer": "ipython2",
   "version": "2.7.13"
  }
 },
 "nbformat": 4,
 "nbformat_minor": 2
}
