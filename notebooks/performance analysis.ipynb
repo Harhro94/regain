{
 "cells": [
  {
   "cell_type": "code",
   "execution_count": 1,
   "metadata": {},
   "outputs": [],
   "source": [
    "%matplotlib inline\n",
    "\n",
    "import numpy as np\n",
    "import matplotlib.pyplot as plt\n",
    "import matlab.engine\n",
    "import matlab\n",
    "import scipy.sparse\n",
    "import pandas as pd\n",
    "from itertools import product\n",
    "from scipy.io import loadmat\n",
    "from sklearn.datasets import make_sparse_spd_matrix\n",
    "from sklearn.datasets.base import Bunch\n",
    "from sklearn.utils.extmath import squared_norm\n",
    "from sklearn.covariance import empirical_covariance\n",
    "from sklearn.model_selection import GridSearchCV, ShuffleSplit\n",
    "\n",
    "from regain import datasets; reload(datasets)\n",
    "from regain.admm import graph_lasso_; reload(graph_lasso_);\n",
    "from regain.admm import time_graph_lasso_; reload(time_graph_lasso_);\n",
    "from regain.admm import latent_graph_lasso_; reload(latent_graph_lasso_);\n",
    "from regain.admm import latent_time_graph_lasso_; reload(latent_time_graph_lasso_);\n",
    "from regain import utils; reload(utils)\n",
    "import time"
   ]
  },
  {
   "cell_type": "markdown",
   "metadata": {},
   "source": [
    "# Run experiments\n",
    "\n",
    "### Prepare datasets"
   ]
  },
  {
   "cell_type": "code",
   "execution_count": 9,
   "metadata": {},
   "outputs": [],
   "source": [
    "n_dims = np.sqrt(np.logspace(2,5,10)).astype(int)\n",
    "n_times = [20,50,100]"
   ]
  },
  {
   "cell_type": "code",
   "execution_count": 394,
   "metadata": {},
   "outputs": [],
   "source": [
    "n_samples = 1000\n",
    "n_dim_lat = 3\n",
    "\n",
    "np.random.seed(42)\n",
    "data = {(dim,T) : datasets.generate_dataset(\n",
    "    mode='fixed', n_samples=n_samples, n_dim_lat=dim / 10., n_dim_obs=dim,  T=T, epsilon=1e-2)\n",
    "    for dim, T in (product(n_dims, [2]))}"
   ]
  },
  {
   "cell_type": "markdown",
   "metadata": {},
   "source": [
    "### Cross validate"
   ]
  },
  {
   "cell_type": "code",
   "execution_count": 20,
   "metadata": {
    "collapsed": true
   },
   "outputs": [],
   "source": [
    "def cross_validate(data_grid, model='bo', **kwargs):\n",
    "    mdl = latent_time_graph_lasso_.LatentTimeGraphLasso(\n",
    "        eta=1000, alpha=0.1, beta=0.5,\n",
    "        bypass_transpose=False, assume_centered=0, verbose=0, rtol=1e-5, tol=1e-5,\n",
    "        max_iter=250, rho=1./ np.sqrt(data_grid.shape[0]))\n",
    "    cv = ShuffleSplit()\n",
    "    if model == 'gs':\n",
    "        ltgl = GridSearchCV(mdl, kwargs['param_grid'], cv=cv, verbose=True)\n",
    "    else:\n",
    "        domain = [\n",
    "            {'name': 'tau', 'type': 'continuous', 'domain': (-2, -1)},\n",
    "            # {'name': 'alpha', 'type': 'continuous', 'domain': (-2.,np.log10(.5))},\n",
    "            # {'name': 'beta', 'type': 'continuous', 'domain': (-2.,np.log10(.5))},\n",
    "            # {'name': 'eta', 'type': 'continuous', 'domain': (-2.,np.log10(.5))},\n",
    "        ]\n",
    "        ltgl = model_selection.BayesianOptimization(\n",
    "            mdl, domain=domain, n_jobs=2, acquisition_weight=1, acquisition_jitter=.01,\n",
    "            acquisition_type='EI', max_iter=200, cv=cv)\n",
    "\n",
    "    ltgl.fit(data_grid)\n",
    "    return ltgl.best_params_"
   ]
  },
  {
   "cell_type": "code",
   "execution_count": null,
   "metadata": {
    "scrolled": true
   },
   "outputs": [
    {
     "name": "stdout",
     "output_type": "stream",
     "text": [
      "CV start with: dim=100, T=100\n",
      "Fitting 10 folds for each of 20 candidates, totalling 200 fits\n"
     ]
    }
   ],
   "source": [
    "best_params_ = {}\n",
    "for k, res in data.items():\n",
    "    print(\"CV start with: dim=%d, T=%d\" % k)\n",
    "    data_grid = np.array(res.data).transpose(1,2,0)  # to use it later for grid search\n",
    "    best_params_[k] = cross_validate(\n",
    "        data_grid, model='gs',param_grid=dict(alpha=[.1], beta=[.5], tau=np.logspace(-2, -1, 20)))"
   ]
  },
  {
   "cell_type": "code",
   "execution_count": 289,
   "metadata": {},
   "outputs": [],
   "source": [
    "import cPickle as pkl\n",
    "# with open(\"best_params_seed_42_rho.pkl\", 'wb') as f:\n",
    "#     pkl.dump(best_params_, f)\n",
    "with open(\"best_params_seed_42.pkl\", 'rb') as f:\n",
    "    best_params = pkl.load(f)"
   ]
  },
  {
   "cell_type": "markdown",
   "metadata": {},
   "source": [
    "# Performances of the different algorithms"
   ]
  },
  {
   "cell_type": "code",
   "execution_count": 10,
   "metadata": {},
   "outputs": [],
   "source": [
    "def gl_results(data_grid, K, K_obs, ells, **params):\n",
    "    \n",
    "    mdl = graph_lasso_.GraphLasso(\n",
    "        assume_centered=0, verbose=0, rtol=1e-5, tol=1e-5,\n",
    "        max_iter=500, rho=1./ np.sqrt(np.array(data_list).shape[1]))\n",
    "    \n",
    "    tic = time.time()\n",
    "    iters = []\n",
    "    precisions = []\n",
    "    for d in data_grid.transpose(2,0,1):\n",
    "        mdl.set_params(**params).fit(d)\n",
    "        iters.append(mdl.n_iter_)\n",
    "        precisions.append(mdl.precision_)\n",
    "    tac = time.time()\n",
    "    iterations = np.max(iters)\n",
    "    precisions = np.array(precisions)\n",
    "\n",
    "    F1score = utils.structure_error(K, precisions)['f1']\n",
    "    MSE_observed = None # utils.error_norm(K_obs, precisions - latents)\n",
    "    MSE_precision = utils.error_norm(K, precisions)\n",
    "    MSE_latent = None#utils.error_norm(ells, latents)\n",
    "    mean_rank_error = None#utils.error_rank(ells, latents)\n",
    "    \n",
    "    res = dict(n_dim_obs=K.shape[1],\n",
    "               time=tac-tic,\n",
    "               iterations=iterations,\n",
    "               F1score=F1score,\n",
    "               MSE_precision=MSE_precision,\n",
    "               MSE_observed=MSE_observed,\n",
    "               MSE_latent=MSE_latent,\n",
    "               mean_rank_error=mean_rank_error,\n",
    "               note=None,\n",
    "               estimator=mdl)\n",
    "    return res\n",
    "\n",
    "def lgl_results(data_grid, K, K_obs, ells, **params):\n",
    "    \n",
    "    mdl = latent_graph_lasso_.LatentGraphLasso(\n",
    "        assume_centered=0, verbose=0, rtol=1e-5, tol=1e-5,\n",
    "        max_iter=500, rho=1./ np.sqrt(np.array(data_list).shape[1]))\n",
    "    \n",
    "    tic = time.time()\n",
    "    iters = []\n",
    "    precisions, latents = [], []\n",
    "    for d in data_grid.transpose(2,0,1):\n",
    "        mdl.set_params(**params).fit(d)\n",
    "        iters.append(mdl.n_iter_)\n",
    "        precisions.append(mdl.precision_)\n",
    "        latents.append(mdl.latent_)\n",
    "    tac = time.time()\n",
    "    iterations = np.max(iters)\n",
    "    precisions = np.array(precisions)\n",
    "    latents = np.array(latents)\n",
    "\n",
    "    F1score = utils.structure_error(K, precisions)['f1']\n",
    "    MSE_observed = utils.error_norm(K_obs, precisions - latents)\n",
    "    MSE_precision = utils.error_norm(K, precisions)\n",
    "    MSE_latent = utils.error_norm(ells, latents)\n",
    "    mean_rank_error = utils.error_rank(ells, latents)\n",
    "    \n",
    "    res = dict(n_dim_obs=K.shape[1],\n",
    "               time=tac-tic,\n",
    "               iterations=iterations,\n",
    "               F1score=F1score,\n",
    "               MSE_precision=MSE_precision,\n",
    "               MSE_observed=MSE_observed,\n",
    "               MSE_latent=MSE_latent,\n",
    "               mean_rank_error=mean_rank_error,\n",
    "               note=None,\n",
    "               estimator=mdl)\n",
    "    return res\n",
    "\n",
    "def tgl_results(data_grid, K, K_obs, ells, **params):\n",
    "    \n",
    "    mdl = time_graph_lasso_.TimeGraphLasso(\n",
    "        bypass_transpose=False, assume_centered=0, verbose=0, rtol=1e-5, tol=1e-5,\n",
    "        max_iter=500, rho=1./ np.sqrt(np.array(data_list).shape[1]))\n",
    "    \n",
    "    tic = time.time()\n",
    "    ll = mdl.set_params(**params).fit(data_grid)\n",
    "    tac = time.time()\n",
    "    iterations = ll.n_iter_\n",
    "    F1score = utils.structure_error(K, ll.precision_)['f1']\n",
    "    MSE_observed = None # utils.error_norm(K_obs, ll.precision_ - ll.latent_)\n",
    "    MSE_precision = utils.error_norm(K, ll.precision_)\n",
    "    MSE_latent = None # utils.error_norm(ells, ll.latent_)\n",
    "    mean_rank_error = None # utils.error_rank(ells, ll.latent_)\n",
    "    \n",
    "    res = dict(n_dim_obs=K.shape[1],\n",
    "               time=tac-tic,\n",
    "               iterations=iterations,\n",
    "               F1score=F1score,\n",
    "               MSE_precision=MSE_precision,\n",
    "               MSE_observed=MSE_observed,\n",
    "               MSE_latent=MSE_latent,\n",
    "               mean_rank_error=mean_rank_error,\n",
    "               note=None,\n",
    "               estimator=ll)\n",
    "    return res\n",
    "\n",
    "def ltgl_results(data_grid, K, K_obs, ells, **params):\n",
    "    \n",
    "    mdl = latent_time_graph_lasso_.LatentTimeGraphLasso(\n",
    "        eta=1000,\n",
    "        bypass_transpose=False, assume_centered=0, verbose=0, rtol=1e-5, tol=1e-5,\n",
    "        max_iter=500, rho=1./ np.sqrt(np.array(data_list).shape[1]))\n",
    "    \n",
    "    tic = time.time()\n",
    "    ll = mdl.set_params(**params).fit(data_grid)\n",
    "    tac = time.time()\n",
    "    iterations = ll.n_iter_\n",
    "    F1score = utils.structure_error(K, ll.precision_)['f1']\n",
    "    MSE_observed = utils.error_norm(K_obs, ll.precision_ - ll.latent_)\n",
    "    MSE_precision = utils.error_norm(K, ll.precision_)\n",
    "    MSE_latent = utils.error_norm(ells, ll.latent_)\n",
    "    mean_rank_error = utils.error_rank(ells, ll.latent_)\n",
    "    \n",
    "    res = dict(n_dim_obs=K.shape[1],\n",
    "               time=tac-tic,\n",
    "               iterations=iterations,\n",
    "               F1score=F1score,\n",
    "               MSE_precision=MSE_precision,\n",
    "               MSE_observed=MSE_observed,\n",
    "               MSE_latent=MSE_latent,\n",
    "               mean_rank_error=mean_rank_error,\n",
    "               note=None,\n",
    "               estimator=ll)\n",
    "    return res"
   ]
  },
  {
   "cell_type": "code",
   "execution_count": 25,
   "metadata": {},
   "outputs": [],
   "source": [
    "from sklearn.covariance import GraphLasso\n",
    "def glasso_results(data_grid, K, K_obs, ells, alpha):\n",
    "    gl = GraphLasso(alpha=alpha, mode='cd', assume_centered=False, max_iter=300)\n",
    "    \n",
    "    tic = time.time()\n",
    "    iters = []\n",
    "    precisions = []\n",
    "    for d in data_grid.transpose(2,0,1):\n",
    "        gl.fit(d)\n",
    "        iters.append(gl.n_iter_)\n",
    "        precisions.append(gl.precision_)\n",
    "    tac = time.time()\n",
    "    iterations = np.max(iters)\n",
    "    precisions = np.array(precisions)\n",
    "    F1score = utils.structure_error(K, precisions)['f1']\n",
    "    MSE_observed = None\n",
    "    MSE_precision = utils.error_norm(K, precisions)\n",
    "    MSE_latent = None\n",
    "    mean_rank_error = None\n",
    " \n",
    "    res = dict(n_dim_obs=K.shape[1],\n",
    "               time=tac-tic,\n",
    "               iterations=iterations,\n",
    "               F1score=F1score,\n",
    "               MSE_precision=MSE_precision,\n",
    "               MSE_observed=MSE_observed,\n",
    "               MSE_latent=MSE_latent,\n",
    "               mean_rank_error=mean_rank_error,\n",
    "               note=None,\n",
    "               estimator=gl)\n",
    " \n",
    "    return res\n",
    "\n",
    "from rpy2.robjects.packages import importr\n",
    "glasso = importr('glasso').glasso\n",
    "\n",
    "def friedman_results(data_grid, K, K_obs, ells, alpha):\n",
    "    tic = time.time()\n",
    "    iters = []\n",
    "    precisions = []\n",
    "    for d in data_grid.transpose(2,0,1):\n",
    "        emp_cov = empirical_covariance(d)\n",
    "        out = glasso(emp_cov, alpha)\n",
    "        iters.append(int(out[-1][0]))\n",
    "        precisions.append(np.array(out[1]))\n",
    "    tac = time.time()\n",
    "    iterations = np.max(iters)\n",
    "    precisions = np.array(precisions)\n",
    "    F1score = utils.structure_error(K, precisions)['f1']\n",
    "    MSE_observed = None\n",
    "    MSE_precision = utils.error_norm(K, precisions)\n",
    "    MSE_latent = None\n",
    "    mean_rank_error = None\n",
    " \n",
    "    res = dict(n_dim_obs=K.shape[1],\n",
    "               time=tac-tic,\n",
    "               iterations=iterations,\n",
    "               F1score=F1score,\n",
    "               MSE_precision=MSE_precision,\n",
    "               MSE_observed=MSE_observed,\n",
    "               MSE_latent=MSE_latent,\n",
    "               mean_rank_error=mean_rank_error,\n",
    "               note=None,\n",
    "               estimator=None)\n",
    " \n",
    "    return res"
   ]
  },
  {
   "cell_type": "code",
   "execution_count": 13,
   "metadata": {},
   "outputs": [],
   "source": [
    "import sys\n",
    "sys.path.append(\"/home/fede/src/TVGL\")\n",
    "import TVGL; reload(TVGL)\n",
    "import inferGraphL2; reload(inferGraphL2)\n",
    "from TVGL import tvgl_hallac\n",
    "\n",
    "def hallac_results(data_grid, K, K_obs, ells, beta, alpha):\n",
    "    tic = time.time()\n",
    "    thetaSet, empCovSet, status, gvx = tvgl_hallac(\n",
    "        data_grid.transpose(2,0,1), lamb=alpha, beta=beta, indexOfPenalty=2)\n",
    "    tac = time.time()\n",
    "\n",
    "    if status != \"Optimal\":\n",
    "        print \"not converged\"\n",
    "    precisions = np.array(thetaSet)\n",
    "    F1score = utils.structure_error(K, precisions)['f1']\n",
    "    MSE_observed = None\n",
    "    MSE_precision = utils.error_norm(K, precisions)\n",
    "    MSE_latent = None\n",
    "    mean_rank_error = None\n",
    "\n",
    "    res = dict(n_dim_obs=K.shape[1],\n",
    "               time=tac-tic,\n",
    "               iterations=gvx.n_iter_,\n",
    "               F1score=F1score,\n",
    "               MSE_precision=MSE_precision,\n",
    "               MSE_observed=MSE_observed,\n",
    "               MSE_latent=MSE_latent,\n",
    "               mean_rank_error=mean_rank_error,\n",
    "               note=status,\n",
    "               estimator=gvx)\n",
    "\n",
    "    return res"
   ]
  },
  {
   "cell_type": "code",
   "execution_count": 6,
   "metadata": {},
   "outputs": [],
   "source": [
    "eng = matlab.engine.start_matlab()\n",
    "eng.addpath(r'/home/fede/src/slipguru/regain/regain/wrapper/lvglasso/',nargout=0)\n",
    "\n",
    "def chandresekeran_results(data_grid, K, K_obs, ells, tau, alpha, **whatever):\n",
    "   \n",
    "    emp_list = np.array([empirical_covariance(x, assume_centered=True)\n",
    "                        for x in data_grid.transpose(2,0,1)]).transpose(1,2,0)\n",
    "    \n",
    "    n_samples = emp_list.shape[0]\n",
    "    rho = 1./ np.sqrt(np.array(data_list).shape[1])\n",
    "    opts = dict(continuation=1, num_continuation=0,eta=np.sqrt(100),muf=1e-6,\n",
    "                maxiter=500,stoptol=1e-5,over_relax_par=1, mu=n_samples)\n",
    "#     start_time = time.time()\n",
    "\n",
    "    # 1. SCIPY\n",
    "    # from scipy.io import loadmat, savemat\n",
    "    # savemat(\"/home/fede/Desktop/details.mat\", {'emp_list':emp_list, 'tau':taus[-1], 'alpha':alphas[-1]})\n",
    "    # loadmat(\"/home/fede/Desktop/output.mat\")\n",
    "    \n",
    "    # 2. pymatbridge\n",
    "    # mlab = Matlab()\n",
    "    # mlab.start()\n",
    "\n",
    "    # # single run of ADMM_B\n",
    "    # # result = mlab.run_func('/home/fede/Downloads/lvglasso-pub/ADMM_B.m', emp_list[...,0], alpha, tau, opts)\n",
    "\n",
    "    # # insert the ADMM_B.m function in the path\n",
    "    # mlab.run_code(\"addpath(genpath('/home/fede/Downloads/lvglasso-pub/'))\")\n",
    "\n",
    "    # result = mlab.run_func(\"/home/fede/src/slipguru/regain/regain/wrapper/ADMMMA.m\",\n",
    "    #                       emp_list, alpha, tau)\n",
    "    # mlab.stop()\n",
    "    # ma_output = Bunch(**result['result'])\n",
    "    \n",
    "    # 3. Matlab engine\n",
    "    result = eng.LVGLASSO(matlab.double(emp_list.tolist()),float(alpha),float(tau),float(rho))\n",
    "    ma_output = Bunch(**result)\n",
    "\n",
    "    ma_output.R = np.array(ma_output.R)\n",
    "    ma_output.S = np.array(ma_output.S)\n",
    "    ma_output.L = np.array(ma_output.L)\n",
    "    \n",
    "    F1score = utils.structure_error(K, ma_output.R + ma_output.L)['f1']\n",
    "    MSE_observed = utils.error_norm(K_obs, ma_output.R)\n",
    "    MSE_precision = utils.error_norm(K, ma_output.R + ma_output.L)\n",
    "    MSE_latent = utils.error_norm(ells, ma_output.L)\n",
    "    mean_rank_error = utils.error_rank(ells, ma_output.L)\n",
    "    \n",
    "    res = dict(n_dim_obs=K.shape[1],\n",
    "               time=ma_output.elapsed_time,\n",
    "               iterations=np.max(ma_output.iter),\n",
    "               F1score=F1score,\n",
    "               MSE_precision=MSE_precision,\n",
    "               MSE_observed=MSE_observed,\n",
    "               MSE_latent=MSE_latent,\n",
    "               mean_rank_error=mean_rank_error,\n",
    "               note=None, estimator=ma_output)\n",
    " \n",
    "    return res"
   ]
  },
  {
   "cell_type": "code",
   "execution_count": 72,
   "metadata": {},
   "outputs": [],
   "source": [
    "# eng.quit()    "
   ]
  },
  {
   "cell_type": "code",
   "execution_count": 21,
   "metadata": {
    "scrolled": true
   },
   "outputs": [],
   "source": [
    "import cPickle as pkl\n",
    "# with open(\"best_params_seed_42.pkl\", 'wb') as f:\n",
    "#     pkl.dump(best_params_, f)\n",
    "with open(\"best_params_seed_42.pkl\", 'rb') as f:\n",
    "    best_params = pkl.load(f)"
   ]
  },
  {
   "cell_type": "markdown",
   "metadata": {},
   "source": [
    "### Comparison"
   ]
  },
  {
   "cell_type": "code",
   "execution_count": 14,
   "metadata": {},
   "outputs": [],
   "source": [
    "# prepare dataframe for results\n",
    "scores = sorted([\"F1score\", \"MSE_precision\", \"MSE_observed\", \"MSE_latent\",\"mean_rank_error\",'time','iterations'])\n",
    "cols = pd.MultiIndex.from_product([scores, n_dims], names=('score','dim'))\n",
    "rows = pd.MultiIndex.from_product([['LTGL', 'GL', 'LVGLASSO', 'TVGL'], n_times], names=('method','time'))\n",
    "\n",
    "dff = pd.DataFrame(columns=cols, index=rows)\n",
    "idx = pd.IndexSlice"
   ]
  },
  {
   "cell_type": "code",
   "execution_count": 15,
   "metadata": {},
   "outputs": [],
   "source": [
    "dff_ours = dff.copy()"
   ]
  },
  {
   "cell_type": "code",
   "execution_count": 16,
   "metadata": {},
   "outputs": [
    {
     "data": {
      "text/plain": [
       "array([ 10,  14,  21,  31,  46,  68, 100, 146, 215, 316])"
      ]
     },
     "execution_count": 16,
     "metadata": {},
     "output_type": "execute_result"
    }
   ],
   "source": [
    "n_dims"
   ]
  },
  {
   "cell_type": "code",
   "execution_count": 514,
   "metadata": {},
   "outputs": [],
   "source": [
    "n_samples = 10\n",
    "n_dim_lat = 10 # int(np.sqrt(n_samples))\n",
    "\n",
    "np.random.seed(40)\n",
    "reload(datasets)\n",
    "data = {(dim, T) : datasets.generate_dataset(\n",
    "    mode='fixedl1', n_samples=n_samples, n_dim_lat=n_dim_lat, n_dim_obs=dim,  T=T, epsilon=1e-3)\n",
    "    for dim, T in (product(n_dims, [20]))}"
   ]
  },
  {
   "cell_type": "code",
   "execution_count": 229,
   "metadata": {},
   "outputs": [],
   "source": [
    "data_grid = np.array(data[(n_dims[2],50)].data).transpose(1,2,0)\n",
    "K = data[(n_dims[2],50)].thetas\n",
    "K_obs = data[(n_dims[2],50)].thetas_observed\n",
    "ells = data[(n_dims[2],50)].ells"
   ]
  },
  {
   "cell_type": "code",
   "execution_count": 582,
   "metadata": {},
   "outputs": [],
   "source": [
    "# prepare dataframe for results\n",
    "scores = sorted([\"F1score\", \"MSE_precision\", \"MSE_observed\", \"MSE_latent\",\"mean_rank_error\",'time','iterations'])\n",
    "cols = pd.MultiIndex.from_product([scores, n_dims], names=('score','dim'))\n",
    "rows = pd.MultiIndex.from_product([['LTGL', 'GL', 'TGL', 'LGL'], n_times], names=('method','time'))\n",
    "\n",
    "dff = pd.DataFrame(columns=cols, index=rows)\n",
    "idx = pd.IndexSlice"
   ]
  },
  {
   "cell_type": "code",
   "execution_count": 578,
   "metadata": {},
   "outputs": [],
   "source": [
    "alpha = 0.5\n",
    "tau = 1.\n",
    "beta = 0.5\n",
    "eta = 0.5"
   ]
  },
  {
   "cell_type": "code",
   "execution_count": 575,
   "metadata": {
    "scrolled": true
   },
   "outputs": [
    {
     "name": "stdout",
     "output_type": "stream",
     "text": [
      "Start with: dim=100, T=20 (it 1)\n",
      "starting GL ....sekeran\r"
     ]
    }
   ],
   "source": [
    "from __future__ import print_function\n",
    "ltgl_res, lgl_res, tgl_res, gl_res = [],[],[],[]\n",
    "for i, (k, res) in enumerate(data.items()):\n",
    "    if k[0] != 100:# or k[1] != 50:\n",
    "        continue\n",
    "    print(\"Start with: dim=%d, T=%d (it %d)\" % (k[0],k[1], i))\n",
    "    data_list = res.data\n",
    "    K = res.thetas\n",
    "    K_obs = res.thetas_observed\n",
    "    ells = res.ells\n",
    "    data_grid = np.array(data_list).transpose(1,2,0)  # to use it later for grid search\n",
    "    params = best_params.get(k, dict(alpha=0.2,beta=0.5,tau=0.1))\n",
    "\n",
    "    print(\"starting LTGL ...\\r\", end='')\n",
    "    res = ltgl_results(data_grid, K, K_obs, ells, \n",
    "                       alpha=alpha,#max(params['alpha'], 0.2),\n",
    "                       beta=beta,#max(params['beta'], 0.2),\n",
    "                       eta=eta,\n",
    "                       tau=tau,#min(params['tau'], 0.1),\n",
    "                       psi='l1')\n",
    "    dff.loc[idx['LTGL', k[1]], idx[:, k[0]]] = [res[x] for x in scores]\n",
    "    ltgl_res.append(res)\n",
    "    \n",
    "    print(\"starting chandresekeran\\r\", end='')\n",
    "    res = chandresekeran_results(data_grid, K, K_obs, ells,\n",
    "                                 tau=1,#min(params['tau'], 0.1),\n",
    "                                 alpha=.5)#max(params['alpha'], 0.2))\n",
    "    dff.loc[idx['LGL', k[1]], idx[:, k[0]]] = [res[x] for x in scores]\n",
    "    \n",
    "#     print(\"starting LGL ...\\r\", end='')\n",
    "#     res = lgl_results(data_grid, K, K_obs, ells, \n",
    "#                        alpha=.5,#max(params['alpha'], 0.2),\n",
    "#                        tau=1)#min(params['tau'], 0.1))\n",
    "#     dff.loc[idx['LGL', k[1]], idx[:, k[0]]] = [res[x] for x in scores]\n",
    "    lgl_res.append(res)\n",
    "    print(\"starting TGL ...\\r\", end='')\n",
    "    res = tgl_results(data_grid, K, K_obs, ells, \n",
    "                       alpha=max(params['alpha'], 0.2),\n",
    "                       beta=max(params['beta'], 0.2)\n",
    "                     )\n",
    "    dff.loc[idx['TGL', k[1]], idx[:, k[0]]] = [res[x] for x in scores]\n",
    "    tgl_res.append(res)\n",
    "    print(\"starting GL ...\\r\", end='')\n",
    "    res = gl_results(data_grid, K, K_obs, ells, \n",
    "                       alpha=max(params['alpha'], 0.2))\n",
    "    dff.loc[idx['GL', k[1]], idx[:, k[0]]] = [res[x] for x in scores]\n",
    "    gl_res.append(res)"
   ]
  },
  {
   "cell_type": "code",
   "execution_count": 577,
   "metadata": {},
   "outputs": [
    {
     "data": {
      "text/plain": [
       "<matplotlib.legend.Legend at 0x7faf2ca60e90>"
      ]
     },
     "execution_count": 577,
     "metadata": {},
     "output_type": "execute_result"
    },
    {
     "data": {
      "image/png": "[encoded data removed]",
      "text/plain": [
       "<matplotlib.figure.Figure at 0x7faf2c803810>"
      ]
     },
     "metadata": {},
     "output_type": "display_data"
    }
   ],
   "source": [
    "mm = dff.xs(\"F1score\", level='score', axis=1).xs(20, level='time')\n",
    "for x in mm.index:\n",
    "    plt.plot(mm.xs(x))\n",
    "# plt.xscale('log')\n",
    "plt.legend()\n",
    "# plt.ylim([0.597,0.600])"
   ]
  },
  {
   "cell_type": "code",
   "execution_count": 65,
   "metadata": {},
   "outputs": [],
   "source": [
    "# setting 1\n",
    "alpha = 0.75\n",
    "tau = 1.\n",
    "beta = 0.75\n",
    "eta = 0.5\n",
    "\n",
    "n_samples = 10\n",
    "n_dim_lat = 10\n",
    "T = 20\n",
    "n_dims = np.sqrt(np.logspace(2,5,10)).astype(int)\n",
    "\n",
    "np.random.seed(40)\n",
    "reload(datasets)\n",
    "data = {(dim, T) : datasets.generate_dataset(\n",
    "    mode='fixed', n_samples=n_samples, n_dim_lat=n_dim_lat, n_dim_obs=dim,  T=T, epsilon=1e-3, degree=3)\n",
    "    for dim in n_dims}"
   ]
  },
  {
   "cell_type": "code",
   "execution_count": 86,
   "metadata": {},
   "outputs": [],
   "source": [
    "# setting 2\n",
    "alpha = 0.75\n",
    "tau = 1.\n",
    "beta = 0.75\n",
    "eta = 0.5\n",
    "\n",
    "n_samples = 50\n",
    "n_dim_lat = 2\n",
    "T = 100\n",
    "n_dims = np.sqrt(np.logspace(2,5,10)).astype(int)\n",
    "\n",
    "np.random.seed(42)\n",
    "reload(datasets)\n",
    "data = {(dim, T) : datasets.generate_dataset(\n",
    "    mode='fixedl1', n_samples=n_samples, n_dim_lat=n_dim_lat, n_dim_obs=dim,  T=T, epsilon=1e-3, degree=3)\n",
    "    for dim in n_dims}"
   ]
  },
  {
   "cell_type": "code",
   "execution_count": 87,
   "metadata": {},
   "outputs": [],
   "source": [
    "# n_samples = 10\n",
    "# n_dim_lat = 10 # int(np.sqrt(n_samples))\n",
    "\n",
    "# np.random.seed(40)\n",
    "# reload(datasets)\n",
    "# data = {(dim, T) : datasets.generate_dataset(\n",
    "#     mode='fixed', n_samples=n_samples, n_dim_lat=n_dim_lat, n_dim_obs=dim,  T=T, epsilon=1e-3, degree=3)\n",
    "#     for dim, T in (product(n_dims, [10, 20, 50]))}"
   ]
  },
  {
   "cell_type": "code",
   "execution_count": 88,
   "metadata": {
    "scrolled": true
   },
   "outputs": [
    {
     "name": "stdout",
     "output_type": "stream",
     "text": [
      "Start with: dim=215, T=100 (it 0)\n",
      "starting LTGL ...\n",
      "starting Graph Lasso\n",
      "starting chandresekeran\n",
      "the MATLAB function has been cancelled\n"
     ]
    },
    {
     "ename": "TypeError",
     "evalue": "type object argument after ** must be a mapping, not NoneType",
     "output_type": "error",
     "traceback": [
      "\u001b[0;31m---------------------------------------------------------------------------\u001b[0m",
      "\u001b[0;31mTypeError\u001b[0m                                 Traceback (most recent call last)",
      "\u001b[0;32m<ipython-input-88-2ffab2489efc>\u001b[0m in \u001b[0;36m<module>\u001b[0;34m()\u001b[0m\n\u001b[1;32m     29\u001b[0m     \u001b[0;32mprint\u001b[0m\u001b[0;34m(\u001b[0m\u001b[0;34m\"starting chandresekeran\"\u001b[0m\u001b[0;34m)\u001b[0m\u001b[0;34m\u001b[0m\u001b[0m\n\u001b[1;32m     30\u001b[0m     res = chandresekeran_results(data_grid, K, K_obs, ells,\n\u001b[0;32m---> 31\u001b[0;31m                                             tau=tau, alpha=alpha_)\n\u001b[0m\u001b[1;32m     32\u001b[0m     \u001b[0mdff\u001b[0m\u001b[0;34m.\u001b[0m\u001b[0mloc\u001b[0m\u001b[0;34m[\u001b[0m\u001b[0midx\u001b[0m\u001b[0;34m[\u001b[0m\u001b[0;34m'LVGLASSO'\u001b[0m\u001b[0;34m,\u001b[0m \u001b[0mk\u001b[0m\u001b[0;34m[\u001b[0m\u001b[0;36m1\u001b[0m\u001b[0;34m]\u001b[0m\u001b[0;34m]\u001b[0m\u001b[0;34m,\u001b[0m \u001b[0midx\u001b[0m\u001b[0;34m[\u001b[0m\u001b[0;34m:\u001b[0m\u001b[0;34m,\u001b[0m \u001b[0mk\u001b[0m\u001b[0;34m[\u001b[0m\u001b[0;36m0\u001b[0m\u001b[0;34m]\u001b[0m\u001b[0;34m]\u001b[0m\u001b[0;34m]\u001b[0m \u001b[0;34m=\u001b[0m \u001b[0;34m[\u001b[0m\u001b[0mres\u001b[0m\u001b[0;34m[\u001b[0m\u001b[0mx\u001b[0m\u001b[0;34m]\u001b[0m \u001b[0;32mfor\u001b[0m \u001b[0mx\u001b[0m \u001b[0;32min\u001b[0m \u001b[0mscores\u001b[0m\u001b[0;34m]\u001b[0m\u001b[0;34m\u001b[0m\u001b[0m\n",
      "\u001b[0;32m<ipython-input-6-a4a3c0f6fe97>\u001b[0m in \u001b[0;36mchandresekeran_results\u001b[0;34m(data_grid, K, K_obs, ells, tau, alpha, **whatever)\u001b[0m\n\u001b[1;32m     35\u001b[0m     \u001b[0;31m# 3. Matlab engine\u001b[0m\u001b[0;34m\u001b[0m\u001b[0;34m\u001b[0m\u001b[0m\n\u001b[1;32m     36\u001b[0m     \u001b[0mresult\u001b[0m \u001b[0;34m=\u001b[0m \u001b[0meng\u001b[0m\u001b[0;34m.\u001b[0m\u001b[0mLVGLASSO\u001b[0m\u001b[0;34m(\u001b[0m\u001b[0mmatlab\u001b[0m\u001b[0;34m.\u001b[0m\u001b[0mdouble\u001b[0m\u001b[0;34m(\u001b[0m\u001b[0memp_list\u001b[0m\u001b[0;34m.\u001b[0m\u001b[0mtolist\u001b[0m\u001b[0;34m(\u001b[0m\u001b[0;34m)\u001b[0m\u001b[0;34m)\u001b[0m\u001b[0;34m,\u001b[0m\u001b[0mfloat\u001b[0m\u001b[0;34m(\u001b[0m\u001b[0malpha\u001b[0m\u001b[0;34m)\u001b[0m\u001b[0;34m,\u001b[0m\u001b[0mfloat\u001b[0m\u001b[0;34m(\u001b[0m\u001b[0mtau\u001b[0m\u001b[0;34m)\u001b[0m\u001b[0;34m,\u001b[0m\u001b[0mfloat\u001b[0m\u001b[0;34m(\u001b[0m\u001b[0mrho\u001b[0m\u001b[0;34m)\u001b[0m\u001b[0;34m)\u001b[0m\u001b[0;34m\u001b[0m\u001b[0m\n\u001b[0;32m---> 37\u001b[0;31m     \u001b[0mma_output\u001b[0m \u001b[0;34m=\u001b[0m \u001b[0mBunch\u001b[0m\u001b[0;34m(\u001b[0m\u001b[0;34m**\u001b[0m\u001b[0mresult\u001b[0m\u001b[0;34m)\u001b[0m\u001b[0;34m\u001b[0m\u001b[0m\n\u001b[0m\u001b[1;32m     38\u001b[0m \u001b[0;34m\u001b[0m\u001b[0m\n\u001b[1;32m     39\u001b[0m     \u001b[0mma_output\u001b[0m\u001b[0;34m.\u001b[0m\u001b[0mR\u001b[0m \u001b[0;34m=\u001b[0m \u001b[0mnp\u001b[0m\u001b[0;34m.\u001b[0m\u001b[0marray\u001b[0m\u001b[0;34m(\u001b[0m\u001b[0mma_output\u001b[0m\u001b[0;34m.\u001b[0m\u001b[0mR\u001b[0m\u001b[0;34m)\u001b[0m\u001b[0;34m\u001b[0m\u001b[0m\n",
      "\u001b[0;31mTypeError\u001b[0m: type object argument after ** must be a mapping, not NoneType"
     ]
    }
   ],
   "source": [
    "for i, (k, res) in enumerate(data.items()):\n",
    "    if k[0] > 320:# or k[1] != 50:\n",
    "        continue\n",
    "    print(\"Start with: dim=%d, T=%d (it %d)\" % (k[0],k[1], i))\n",
    "    data_list = res.data\n",
    "    K = res.thetas\n",
    "    K_obs = res.thetas_observed\n",
    "    ells = res.ells\n",
    "    data_grid = np.array(data_list).transpose(1,2,0)  # to use it later for grid search\n",
    "    dim = k[0]\n",
    "    \n",
    "    alpha_ = alpha / 4\n",
    "    print(\"starting LTGL ...\")\n",
    "    res = ltgl_results(data_grid, K, K_obs, ells, \n",
    "                       alpha=alpha_, beta=beta,\n",
    "                       tau=tau, eta=eta, psi='l1')\n",
    "    dff.loc[idx['LTGL', k[1]], idx[:, k[0]]] = [res[x] for x in scores]\n",
    "    print(\"starting Graph Lasso\")\n",
    "    try:\n",
    "        res = glasso_results(data_grid, K, K_obs, ells, alpha=alpha_)\n",
    "        \n",
    "#     res = friedman_results(data_grid, K, K_obs, ells, alpha=max(params['alpha'], 0.2))\n",
    "        dff.loc[idx['GL', k[1]], idx[:, k[0]]] = [res[x] for x in scores]\n",
    "    except:\n",
    "        pass\n",
    "#     print(\"starting hallac\")\n",
    "#     res = hallac_results(data_grid, K, K_obs, ells, beta=beta, alpha=alpha)\n",
    "#     dff.loc[idx['TVGL', k[1]], idx[:, k[0]]] = [res[x] for x in scores]\n",
    "    print(\"starting chandresekeran\")\n",
    "    res = chandresekeran_results(data_grid, K, K_obs, ells,\n",
    "                                            tau=tau, alpha=alpha_)\n",
    "    dff.loc[idx['LVGLASSO', k[1]], idx[:, k[0]]] = [res[x] for x in scores]"
   ]
  },
  {
   "cell_type": "code",
   "execution_count": 85,
   "metadata": {},
   "outputs": [],
   "source": [
    "dff.to_pickle(\"dff_setting_2_no_hallac.pkl\")"
   ]
  },
  {
   "cell_type": "code",
   "execution_count": 79,
   "metadata": {},
   "outputs": [
    {
     "data": {
      "text/html": [
       "<div>\n",
       "<style scoped>\n",
       "    .dataframe tbody tr th:only-of-type {\n",
       "        vertical-align: middle;\n",
       "    }\n",
       "\n",
       "    .dataframe tbody tr th {\n",
       "        vertical-align: top;\n",
       "    }\n",
       "\n",
       "    .dataframe thead th {\n",
       "        text-align: right;\n",
       "    }\n",
       "</style>\n",
       "<table border=\"1\" class=\"dataframe\">\n",
       "  <thead>\n",
       "    <tr style=\"text-align: right;\">\n",
       "      <th>dim</th>\n",
       "      <th>10</th>\n",
       "      <th>14</th>\n",
       "      <th>21</th>\n",
       "      <th>31</th>\n",
       "      <th>46</th>\n",
       "      <th>68</th>\n",
       "      <th>100</th>\n",
       "      <th>146</th>\n",
       "      <th>215</th>\n",
       "      <th>316</th>\n",
       "    </tr>\n",
       "    <tr>\n",
       "      <th>method</th>\n",
       "      <th></th>\n",
       "      <th></th>\n",
       "      <th></th>\n",
       "      <th></th>\n",
       "      <th></th>\n",
       "      <th></th>\n",
       "      <th></th>\n",
       "      <th></th>\n",
       "      <th></th>\n",
       "      <th></th>\n",
       "    </tr>\n",
       "  </thead>\n",
       "  <tbody>\n",
       "    <tr>\n",
       "      <th>LTGL</th>\n",
       "      <td>8.7</td>\n",
       "      <td>7.55</td>\n",
       "      <td>6.05</td>\n",
       "      <td>3.35</td>\n",
       "      <td>1.15</td>\n",
       "      <td>1</td>\n",
       "      <td>0.35</td>\n",
       "      <td>3.45</td>\n",
       "      <td>NaN</td>\n",
       "      <td>NaN</td>\n",
       "    </tr>\n",
       "    <tr>\n",
       "      <th>GL</th>\n",
       "      <td>None</td>\n",
       "      <td>None</td>\n",
       "      <td>None</td>\n",
       "      <td>None</td>\n",
       "      <td>None</td>\n",
       "      <td>None</td>\n",
       "      <td>None</td>\n",
       "      <td>None</td>\n",
       "      <td>NaN</td>\n",
       "      <td>NaN</td>\n",
       "    </tr>\n",
       "    <tr>\n",
       "      <th>LVGLASSO</th>\n",
       "      <td>9.4</td>\n",
       "      <td>8.2</td>\n",
       "      <td>6.3</td>\n",
       "      <td>3.35</td>\n",
       "      <td>0.55</td>\n",
       "      <td>0</td>\n",
       "      <td>0</td>\n",
       "      <td>0</td>\n",
       "      <td>NaN</td>\n",
       "      <td>NaN</td>\n",
       "    </tr>\n",
       "    <tr>\n",
       "      <th>TVGL</th>\n",
       "      <td>NaN</td>\n",
       "      <td>NaN</td>\n",
       "      <td>NaN</td>\n",
       "      <td>NaN</td>\n",
       "      <td>NaN</td>\n",
       "      <td>NaN</td>\n",
       "      <td>NaN</td>\n",
       "      <td>NaN</td>\n",
       "      <td>NaN</td>\n",
       "      <td>NaN</td>\n",
       "    </tr>\n",
       "  </tbody>\n",
       "</table>\n",
       "</div>"
      ],
      "text/plain": [
       "dim        10    14    21    31    46    68    100   146  215  316\n",
       "method                                                            \n",
       "LTGL       8.7  7.55  6.05  3.35  1.15     1  0.35  3.45  NaN  NaN\n",
       "GL        None  None  None  None  None  None  None  None  NaN  NaN\n",
       "LVGLASSO   9.4   8.2   6.3  3.35  0.55     0     0     0  NaN  NaN\n",
       "TVGL       NaN   NaN   NaN   NaN   NaN   NaN   NaN   NaN  NaN  NaN"
      ]
     },
     "execution_count": 79,
     "metadata": {},
     "output_type": "execute_result"
    }
   ],
   "source": [
    "dff.xs(\"mean_rank_error\", level='score', axis=1).xs(20, level='time')"
   ]
  },
  {
   "cell_type": "code",
   "execution_count": 80,
   "metadata": {},
   "outputs": [
    {
     "data": {
      "text/html": [
       "<div>\n",
       "<style scoped>\n",
       "    .dataframe tbody tr th:only-of-type {\n",
       "        vertical-align: middle;\n",
       "    }\n",
       "\n",
       "    .dataframe tbody tr th {\n",
       "        vertical-align: top;\n",
       "    }\n",
       "\n",
       "    .dataframe thead th {\n",
       "        text-align: right;\n",
       "    }\n",
       "</style>\n",
       "<table border=\"1\" class=\"dataframe\">\n",
       "  <thead>\n",
       "    <tr style=\"text-align: right;\">\n",
       "      <th>dim</th>\n",
       "      <th>10</th>\n",
       "      <th>14</th>\n",
       "      <th>21</th>\n",
       "      <th>31</th>\n",
       "      <th>46</th>\n",
       "      <th>68</th>\n",
       "      <th>100</th>\n",
       "      <th>146</th>\n",
       "      <th>215</th>\n",
       "      <th>316</th>\n",
       "    </tr>\n",
       "    <tr>\n",
       "      <th>method</th>\n",
       "      <th></th>\n",
       "      <th></th>\n",
       "      <th></th>\n",
       "      <th></th>\n",
       "      <th></th>\n",
       "      <th></th>\n",
       "      <th></th>\n",
       "      <th></th>\n",
       "      <th></th>\n",
       "      <th></th>\n",
       "    </tr>\n",
       "  </thead>\n",
       "  <tbody>\n",
       "    <tr>\n",
       "      <th>LTGL</th>\n",
       "      <td>0.877849</td>\n",
       "      <td>0.815644</td>\n",
       "      <td>0.688227</td>\n",
       "      <td>0.636249</td>\n",
       "      <td>1.2268</td>\n",
       "      <td>5.17541</td>\n",
       "      <td>18.0011</td>\n",
       "      <td>52.7838</td>\n",
       "      <td>NaN</td>\n",
       "      <td>NaN</td>\n",
       "    </tr>\n",
       "    <tr>\n",
       "      <th>GL</th>\n",
       "      <td>11.7531</td>\n",
       "      <td>13.592</td>\n",
       "      <td>23.9552</td>\n",
       "      <td>43.2643</td>\n",
       "      <td>55.2402</td>\n",
       "      <td>106.545</td>\n",
       "      <td>154.058</td>\n",
       "      <td>248.539</td>\n",
       "      <td>NaN</td>\n",
       "      <td>NaN</td>\n",
       "    </tr>\n",
       "    <tr>\n",
       "      <th>LVGLASSO</th>\n",
       "      <td>1.44832</td>\n",
       "      <td>1.58721</td>\n",
       "      <td>1.73919</td>\n",
       "      <td>2.90371</td>\n",
       "      <td>8.72638</td>\n",
       "      <td>32.7755</td>\n",
       "      <td>86.9854</td>\n",
       "      <td>184.705</td>\n",
       "      <td>NaN</td>\n",
       "      <td>NaN</td>\n",
       "    </tr>\n",
       "    <tr>\n",
       "      <th>TVGL</th>\n",
       "      <td>NaN</td>\n",
       "      <td>NaN</td>\n",
       "      <td>NaN</td>\n",
       "      <td>NaN</td>\n",
       "      <td>NaN</td>\n",
       "      <td>NaN</td>\n",
       "      <td>NaN</td>\n",
       "      <td>NaN</td>\n",
       "      <td>NaN</td>\n",
       "      <td>NaN</td>\n",
       "    </tr>\n",
       "  </tbody>\n",
       "</table>\n",
       "</div>"
      ],
      "text/plain": [
       "dim            10        14        21        31       46       68       100  \\\n",
       "method                                                                        \n",
       "LTGL      0.877849  0.815644  0.688227  0.636249   1.2268  5.17541  18.0011   \n",
       "GL         11.7531    13.592   23.9552   43.2643  55.2402  106.545  154.058   \n",
       "LVGLASSO   1.44832   1.58721   1.73919   2.90371  8.72638  32.7755  86.9854   \n",
       "TVGL           NaN       NaN       NaN       NaN      NaN      NaN      NaN   \n",
       "\n",
       "dim           146  215  316  \n",
       "method                       \n",
       "LTGL      52.7838  NaN  NaN  \n",
       "GL        248.539  NaN  NaN  \n",
       "LVGLASSO  184.705  NaN  NaN  \n",
       "TVGL          NaN  NaN  NaN  "
      ]
     },
     "execution_count": 80,
     "metadata": {},
     "output_type": "execute_result"
    }
   ],
   "source": [
    "dff.xs(\"MSE_precision\", level='score', axis=1).xs(20, level='time')"
   ]
  },
  {
   "cell_type": "code",
   "execution_count": 81,
   "metadata": {},
   "outputs": [
    {
     "data": {
      "text/plain": [
       "<matplotlib.legend.Legend at 0x7f7c24754150>"
      ]
     },
     "execution_count": 81,
     "metadata": {},
     "output_type": "execute_result"
    },
    {
     "data": {
      "image/png": "[encoded data removed]",
      "text/plain": [
       "<matplotlib.figure.Figure at 0x7f7c24738490>"
      ]
     },
     "metadata": {},
     "output_type": "display_data"
    }
   ],
   "source": [
    "mm = dff.xs(\"F1score\", level='score', axis=1).xs(100, level='time')\n",
    "for x in mm.index:\n",
    "    plt.plot(mm.xs(x))\n",
    "# plt.xscale('log')\n",
    "plt.legend()\n",
    "# plt.ylim([0.597,0.600])"
   ]
  },
  {
   "cell_type": "code",
   "execution_count": 82,
   "metadata": {},
   "outputs": [
    {
     "data": {
      "text/html": [
       "<div>\n",
       "<style scoped>\n",
       "    .dataframe tbody tr th:only-of-type {\n",
       "        vertical-align: middle;\n",
       "    }\n",
       "\n",
       "    .dataframe tbody tr th {\n",
       "        vertical-align: top;\n",
       "    }\n",
       "\n",
       "    .dataframe thead th {\n",
       "        text-align: right;\n",
       "    }\n",
       "</style>\n",
       "<table border=\"1\" class=\"dataframe\">\n",
       "  <thead>\n",
       "    <tr style=\"text-align: right;\">\n",
       "      <th>dim</th>\n",
       "      <th>10</th>\n",
       "      <th>14</th>\n",
       "      <th>21</th>\n",
       "      <th>31</th>\n",
       "      <th>46</th>\n",
       "      <th>68</th>\n",
       "      <th>100</th>\n",
       "      <th>146</th>\n",
       "      <th>215</th>\n",
       "      <th>316</th>\n",
       "    </tr>\n",
       "    <tr>\n",
       "      <th>method</th>\n",
       "      <th></th>\n",
       "      <th></th>\n",
       "      <th></th>\n",
       "      <th></th>\n",
       "      <th></th>\n",
       "      <th></th>\n",
       "      <th></th>\n",
       "      <th></th>\n",
       "      <th></th>\n",
       "      <th></th>\n",
       "    </tr>\n",
       "  </thead>\n",
       "  <tbody>\n",
       "    <tr>\n",
       "      <th>LTGL</th>\n",
       "      <td>0.498252</td>\n",
       "      <td>0.455931</td>\n",
       "      <td>0.433133</td>\n",
       "      <td>0.411031</td>\n",
       "      <td>0.39111</td>\n",
       "      <td>0.368304</td>\n",
       "      <td>0.342053</td>\n",
       "      <td>0.336448</td>\n",
       "      <td>NaN</td>\n",
       "      <td>NaN</td>\n",
       "    </tr>\n",
       "    <tr>\n",
       "      <th>GL</th>\n",
       "      <td>0.485333</td>\n",
       "      <td>0.425253</td>\n",
       "      <td>0.374195</td>\n",
       "      <td>0.300771</td>\n",
       "      <td>0.237664</td>\n",
       "      <td>0.183672</td>\n",
       "      <td>0.139813</td>\n",
       "      <td>0.107458</td>\n",
       "      <td>NaN</td>\n",
       "      <td>NaN</td>\n",
       "    </tr>\n",
       "    <tr>\n",
       "      <th>LVGLASSO</th>\n",
       "      <td>0.498047</td>\n",
       "      <td>0.390937</td>\n",
       "      <td>0.28251</td>\n",
       "      <td>0.201183</td>\n",
       "      <td>0.140058</td>\n",
       "      <td>0.0975891</td>\n",
       "      <td>0.0678121</td>\n",
       "      <td>0.0471126</td>\n",
       "      <td>NaN</td>\n",
       "      <td>NaN</td>\n",
       "    </tr>\n",
       "    <tr>\n",
       "      <th>TVGL</th>\n",
       "      <td>NaN</td>\n",
       "      <td>NaN</td>\n",
       "      <td>NaN</td>\n",
       "      <td>NaN</td>\n",
       "      <td>NaN</td>\n",
       "      <td>NaN</td>\n",
       "      <td>NaN</td>\n",
       "      <td>NaN</td>\n",
       "      <td>NaN</td>\n",
       "      <td>NaN</td>\n",
       "    </tr>\n",
       "  </tbody>\n",
       "</table>\n",
       "</div>"
      ],
      "text/plain": [
       "dim            10        14        21        31        46         68   \\\n",
       "method                                                                  \n",
       "LTGL      0.498252  0.455931  0.433133  0.411031   0.39111   0.368304   \n",
       "GL        0.485333  0.425253  0.374195  0.300771  0.237664   0.183672   \n",
       "LVGLASSO  0.498047  0.390937   0.28251  0.201183  0.140058  0.0975891   \n",
       "TVGL           NaN       NaN       NaN       NaN       NaN        NaN   \n",
       "\n",
       "dim             100        146  215  316  \n",
       "method                                    \n",
       "LTGL       0.342053   0.336448  NaN  NaN  \n",
       "GL         0.139813   0.107458  NaN  NaN  \n",
       "LVGLASSO  0.0678121  0.0471126  NaN  NaN  \n",
       "TVGL            NaN        NaN  NaN  NaN  "
      ]
     },
     "execution_count": 82,
     "metadata": {},
     "output_type": "execute_result"
    }
   ],
   "source": [
    "mm"
   ]
  },
  {
   "cell_type": "code",
   "execution_count": null,
   "metadata": {},
   "outputs": [],
   "source": []
  },
  {
   "cell_type": "code",
   "execution_count": 163,
   "metadata": {
    "collapsed": true
   },
   "outputs": [],
   "source": [
    "dff.T.to_latex(\"arr.tex\", float_format='%.2f', na_rep='-')"
   ]
  },
  {
   "cell_type": "code",
   "execution_count": 178,
   "metadata": {},
   "outputs": [
    {
     "data": {
      "image/png": "[encoded data removed]",
      "text/plain": [
       "<matplotlib.figure.Figure at 0x7f80981067d0>"
      ]
     },
     "metadata": {},
     "output_type": "display_data"
    }
   ],
   "source": [
    "for ff in ['ours', 'friedman', 'chandresekeran', 'hallac']:\n",
    "    arr = locals()[ff]\n",
    "    plt.plot(arr.time, label=ff)\n",
    "plt.yscale('log')\n",
    "plt.xlabel(\"dimensions\")\n",
    "plt.ylabel(\"seconds\")\n",
    "plt.xticks(range(4), ours.n_dim_obs)\n",
    "plt.legend()\n",
    "plt.savefig(\"/home/fede/Dropbox/Latent variables networks/paper formatted/speedup.pdf\")"
   ]
  },
  {
   "cell_type": "code",
   "execution_count": 60,
   "metadata": {
    "collapsed": true
   },
   "outputs": [],
   "source": [
    "dff.sort_index(level=['score','dim'], axis=1, ascending=[1, 1], inplace=True)"
   ]
  },
  {
   "cell_type": "code",
   "execution_count": 50,
   "metadata": {},
   "outputs": [],
   "source": [
    "# df_better.to_pickle(\"dataframe_results.pkl\")\n",
    "# df_better.to_csv(\"dataframe_results.csv\")"
   ]
  },
  {
   "cell_type": "code",
   "execution_count": null,
   "metadata": {},
   "outputs": [],
   "source": []
  },
  {
   "cell_type": "code",
   "execution_count": null,
   "metadata": {},
   "outputs": [],
   "source": []
  },
  {
   "cell_type": "code",
   "execution_count": 44,
   "metadata": {},
   "outputs": [
    {
     "data": {
      "image/png": "[encoded data removed]",
      "text/plain": [
       "<matplotlib.figure.Figure at 0x7faf1ec7c110>"
      ]
     },
     "metadata": {},
     "output_type": "display_data"
    }
   ],
   "source": [
    "f, ax = plt.subplots(3,1)\n",
    "for i, tt in enumerate(n_times):\n",
    "    mm = dff.xs('F1score', level='score', axis=1).xs(tt, level='time')\n",
    "    for x in mm.index:\n",
    "        ax[i].plot(mm.xs(x).index ** 2, mm.xs(x).values, label=x)\n",
    "#     ax[i].legend()\n",
    "    ax[i].set_yscale(\"log\")\n",
    "    ax[i].set_xscale(\"log\")\n",
    "    ax[i].set_xlabel(\"dim\")\n",
    "    ax[i].set_ylabel(\"time\")\n",
    "    ax[i].set_title(\"T = {}\".format(tt))\n",
    "\n",
    "f.tight_layout()"
   ]
  },
  {
   "cell_type": "code",
   "execution_count": 84,
   "metadata": {},
   "outputs": [
    {
     "data": {
      "text/plain": [
       "F1score            0\n",
       "MSE_precision      1\n",
       "MSE_observed       2\n",
       "MSE_latent         3\n",
       "mean_rank_error    4\n",
       "dtype: int64"
      ]
     },
     "execution_count": 84,
     "metadata": {},
     "output_type": "execute_result"
    }
   ],
   "source": [
    "pd.Series(np.arange(5), index=[\"F1score\", \"MSE_precision\", \"MSE_observed\",\n",
    "                             \"MSE_latent\",\"mean_rank_error\"])"
   ]
  },
  {
   "cell_type": "code",
   "execution_count": 95,
   "metadata": {
    "collapsed": true
   },
   "outputs": [],
   "source": [
    "idx = pd.IndexSlice\n",
    "dff.loc[idx['ours', k[1]], idx[:, k[0]]] = 2#[res[x] for x in scores]"
   ]
  },
  {
   "cell_type": "code",
   "execution_count": 85,
   "metadata": {},
   "outputs": [
    {
     "data": {
      "text/plain": [
       "['F1score', 'MSE_latent', 'MSE_observed', 'MSE_precision', 'mean_rank_error']"
      ]
     },
     "execution_count": 85,
     "metadata": {},
     "output_type": "execute_result"
    }
   ],
   "source": [
    "sorted([\"F1score\", \"MSE_precision\", \"MSE_observed\",\n",
    "                             \"MSE_latent\",\"mean_rank_error\"])"
   ]
  }
 ],
 "metadata": {
  "kernelspec": {
   "display_name": "Python 2",
   "language": "python",
   "name": "python2"
  },
  "language_info": {
   "codemirror_mode": {
    "name": "ipython",
    "version": 2
   },
   "file_extension": ".py",
   "mimetype": "text/x-python",
   "name": "python",
   "nbconvert_exporter": "python",
   "pygments_lexer": "ipython2",
   "version": "2.7.14"
  }
 },
 "nbformat": 4,
 "nbformat_minor": 2
}
