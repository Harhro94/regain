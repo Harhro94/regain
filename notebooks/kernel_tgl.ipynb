{
 "cells": [
  {
   "cell_type": "markdown",
   "metadata": {},
   "source": [
    "# Kernel Time-varying Graphical Lasso\n",
    "More than 1-Markovian!"
   ]
  },
  {
   "cell_type": "code",
   "execution_count": 1,
   "metadata": {},
   "outputs": [],
   "source": [
    "%matplotlib inline\n",
    "from __future__ import print_function, division\n",
    "\n",
    "import numpy as np\n",
    "import matplotlib.pyplot as plt\n",
    "import pandas as pd\n",
    "\n",
    "from itertools import product\n",
    "from sklearn.datasets import make_sparse_spd_matrix\n",
    "from sklearn.datasets.base import Bunch\n",
    "from sklearn.utils.extmath import squared_norm\n",
    "from sklearn.covariance import GraphLasso, empirical_covariance\n",
    "from sklearn.datasets.base import Bunch\n",
    "from sklearn.model_selection import GridSearchCV, ShuffleSplit\n",
    "\n",
    "from regain import prox; reload(prox)\n",
    "from regain.covariance import time_graph_lasso_; reload(time_graph_lasso_);\n",
    "from regain import utils; reload(utils)\n",
    "import time"
   ]
  },
  {
   "cell_type": "code",
   "execution_count": 29,
   "metadata": {},
   "outputs": [],
   "source": [
    "from regainpr.covariance import time_graph_lasso_kernel_; reload(time_graph_lasso_kernel_);\n",
    "from regainpr import datasets; reload(datasets);"
   ]
  },
  {
   "cell_type": "code",
   "execution_count": 30,
   "metadata": {},
   "outputs": [],
   "source": [
    "def tgl_results(data_grid, K, **params):\n",
    "    mdl = time_graph_lasso_.TimeGraphLasso(\n",
    "        time_on_axis='last', assume_centered=0, verbose=0, rtol=1e-5, tol=1e-5,\n",
    "        max_iter=500, rho=1./ np.sqrt(data_grid.shape[0]))\n",
    "\n",
    "    tic = time.time()\n",
    "    ll = mdl.set_params(**params).fit(data_grid)\n",
    "    tac = time.time()\n",
    "    iterations = ll.n_iter_\n",
    "    F1score = utils.structure_error(K, ll.precision_)['f1']\n",
    "    MSE_precision = utils.error_norm(K, ll.precision_)\n",
    "    ss = utils.structure_error(K, ll.precision_)#, thresholding=1, eps=1e-5)\n",
    "\n",
    "    res = dict(n_dim_obs=K.shape[1],\n",
    "               time=tac-tic,\n",
    "               iterations=iterations,\n",
    "               F1score=F1score,\n",
    "               MSE_precision=MSE_precision,\n",
    "               likelihood=mdl.score(data_grid),\n",
    "               estimator=ll)\n",
    "    res = dict(res, **ss)\n",
    "    return res\n",
    "\n",
    "def ktgl_results(data_grid, K, **params):\n",
    "    mdl = time_graph_lasso_kernel_.KernelTimeGraphLasso(\n",
    "        time_on_axis='last', assume_centered=0, verbose=0, rtol=1e-5, tol=1e-5,\n",
    "        max_iter=500, rho=1./ np.sqrt(data_grid.shape[0]))\n",
    "\n",
    "    tic = time.time()\n",
    "    ll = mdl.set_params(**params).fit(data_grid)\n",
    "    tac = time.time()\n",
    "    iterations = ll.n_iter_\n",
    "    F1score = utils.structure_error(K, ll.precision_)['f1']\n",
    "    MSE_precision = utils.error_norm(K, ll.precision_)\n",
    "    ss = utils.structure_error(K, ll.precision_)#, thresholding=1, eps=1e-5)\n",
    "\n",
    "    res = dict(n_dim_obs=K.shape[1],\n",
    "               time=tac-tic,\n",
    "               iterations=iterations,\n",
    "               F1score=F1score,\n",
    "               MSE_precision=MSE_precision,\n",
    "               likelihood=mdl.score(data_grid),\n",
    "               estimator=ll)\n",
    "    res = dict(res, **ss)\n",
    "    return res"
   ]
  },
  {
   "cell_type": "code",
   "execution_count": 106,
   "metadata": {},
   "outputs": [],
   "source": [
    "# setting 1\n",
    "alpha = 0.45 #0.0025\n",
    "beta = 0 # 1000\n",
    "\n",
    "n_samples = 100\n",
    "T = 10\n",
    "n_dim_obs = 100\n",
    "\n",
    "k = (n_dim_obs, T)\n",
    "\n",
    "np.random.seed(20)\n",
    "\n",
    "reload(datasets)\n",
    "data = {(dim, T) : datasets.make_dataset(\n",
    "    mode='sin', shape='smooth',\n",
    "    update_theta='l2', normalize_starting_matrices=True,\n",
    "    n_samples=n_samples, n_dim_lat=0, n_dim_obs=dim,  T=T, epsilon=1e-1,\n",
    "    proportional=True, degree=2, keep_sparsity=True)\n",
    "    for dim in [n_dim_obs]}"
   ]
  },
  {
   "cell_type": "code",
   "execution_count": 107,
   "metadata": {
    "scrolled": false
   },
   "outputs": [
    {
     "name": "stdout",
     "output_type": "stream",
     "text": [
      "[10000, 5106, 4972, 5048, 5134, 4994, 4912, 4996, 5070, 5200]\n"
     ]
    }
   ],
   "source": [
    "K = data[k].thetas\n",
    "print ([(i!=0).sum() for i in K])"
   ]
  },
  {
   "cell_type": "code",
   "execution_count": 108,
   "metadata": {},
   "outputs": [
    {
     "data": {
      "text/plain": [
       "0.44568"
      ]
     },
     "execution_count": 108,
     "metadata": {},
     "output_type": "execute_result"
    }
   ],
   "source": [
    "(data[k].thetas == 0).sum() / (n_dim_obs ** 2 * T)"
   ]
  },
  {
   "cell_type": "code",
   "execution_count": 109,
   "metadata": {
    "scrolled": true
   },
   "outputs": [
    {
     "name": "stdout",
     "output_type": "stream",
     "text": [
      "[115.44399798966451, 55.128466561447375, 59.296173686679275, 59.85789530108375, 55.22963873244967, 57.10405247602085, 55.72819632858591, 54.09089441118835, 59.503866410997915]\n",
      "[0.0, 0.0, 0.0, 0.0, 0.0, 0.0, 0.0, 0.0, 0.0]\n"
     ]
    }
   ],
   "source": [
    "print([np.linalg.norm(data[k].thetas[i] - data[k].thetas[i+1]) for i in range(T-1)])\n",
    "print([np.linalg.norm(data[k].ells[i] - data[k].ells[i+1]) for i in range(T-1)])"
   ]
  },
  {
   "cell_type": "code",
   "execution_count": 110,
   "metadata": {},
   "outputs": [],
   "source": [
    "# prepare dataframe for results\n",
    "n_dims = [n_dim_obs]\n",
    "n_times = [T]\n",
    "methods = ['TGL', 'KTGL']\n",
    "scores = sorted([\n",
    "    \"MSE_precision\", 'estimator',\n",
    "    'time', 'iterations', 'precision', 'recall', 'accuracy', 'balanced_accuracy',\n",
    "    'f1', 'npv', 'prevalence', 'miss_rate', 'likelihood',\n",
    "    'specificity', 'plr', 'nlr'])\n",
    "\n",
    "cols = pd.MultiIndex.from_product([scores, n_dims], names=('score', 'dim'))\n",
    "rows = pd.MultiIndex.from_product([methods, n_times], names=('method', 'time'))\n",
    "\n",
    "dff = pd.DataFrame(columns=cols, index=rows)\n",
    "idx = pd.IndexSlice"
   ]
  },
  {
   "cell_type": "code",
   "execution_count": 113,
   "metadata": {},
   "outputs": [
    {
     "data": {
      "text/plain": [
       "array([[1. , 0.5, 0. , 0. , 0. , 0. , 0. , 0. , 0. , 0. ],\n",
       "       [0.5, 1. , 0.5, 0. , 0. , 0. , 0. , 0. , 0. , 0. ],\n",
       "       [0. , 0.5, 1. , 0.5, 0. , 0. , 0. , 0. , 0. , 0. ],\n",
       "       [0. , 0. , 0.5, 1. , 0.5, 0. , 0. , 0. , 0. , 0. ],\n",
       "       [0. , 0. , 0. , 0.5, 1. , 0.5, 0. , 0. , 0. , 0. ],\n",
       "       [0. , 0. , 0. , 0. , 0.5, 1. , 0.5, 0. , 0. , 0. ],\n",
       "       [0. , 0. , 0. , 0. , 0. , 0.5, 1. , 0.5, 0. , 0. ],\n",
       "       [0. , 0. , 0. , 0. , 0. , 0. , 0.5, 1. , 0.5, 0. ],\n",
       "       [0. , 0. , 0. , 0. , 0. , 0. , 0. , 0.5, 1. , 0.5],\n",
       "       [0. , 0. , 0. , 0. , 0. , 0. , 0. , 0. , 0.5, 1. ]])"
      ]
     },
     "execution_count": 113,
     "metadata": {},
     "output_type": "execute_result"
    }
   ],
   "source": [
    "beta = 0.5\n",
    "rng = np.full(T-1, beta)\n",
    "\n",
    "kernel = np.diag(rng,1) +np.diag(rng,-1) + np.eye(T)\n",
    "\n",
    "kernel"
   ]
  },
  {
   "cell_type": "code",
   "execution_count": 141,
   "metadata": {},
   "outputs": [
    {
     "data": {
      "text/plain": [
       "array([[1.00000000e+00, 1.35335283e-01, 3.35462628e-04, 1.52299797e-08,\n",
       "        1.26641655e-14, 1.92874985e-22, 5.38018616e-32, 2.74878501e-43,\n",
       "        2.57220937e-56, 4.40853133e-71],\n",
       "       [1.35335283e-01, 1.00000000e+00, 1.35335283e-01, 3.35462628e-04,\n",
       "        1.52299797e-08, 1.26641655e-14, 1.92874985e-22, 5.38018616e-32,\n",
       "        2.74878501e-43, 2.57220937e-56],\n",
       "       [3.35462628e-04, 1.35335283e-01, 1.00000000e+00, 1.35335283e-01,\n",
       "        3.35462628e-04, 1.52299797e-08, 1.26641655e-14, 1.92874985e-22,\n",
       "        5.38018616e-32, 2.74878501e-43],\n",
       "       [1.52299797e-08, 3.35462628e-04, 1.35335283e-01, 1.00000000e+00,\n",
       "        1.35335283e-01, 3.35462628e-04, 1.52299797e-08, 1.26641655e-14,\n",
       "        1.92874985e-22, 5.38018616e-32],\n",
       "       [1.26641655e-14, 1.52299797e-08, 3.35462628e-04, 1.35335283e-01,\n",
       "        1.00000000e+00, 1.35335283e-01, 3.35462628e-04, 1.52299797e-08,\n",
       "        1.26641655e-14, 1.92874985e-22],\n",
       "       [1.92874985e-22, 1.26641655e-14, 1.52299797e-08, 3.35462628e-04,\n",
       "        1.35335283e-01, 1.00000000e+00, 1.35335283e-01, 3.35462628e-04,\n",
       "        1.52299797e-08, 1.26641655e-14],\n",
       "       [5.38018616e-32, 1.92874985e-22, 1.26641655e-14, 1.52299797e-08,\n",
       "        3.35462628e-04, 1.35335283e-01, 1.00000000e+00, 1.35335283e-01,\n",
       "        3.35462628e-04, 1.52299797e-08],\n",
       "       [2.74878501e-43, 5.38018616e-32, 1.92874985e-22, 1.26641655e-14,\n",
       "        1.52299797e-08, 3.35462628e-04, 1.35335283e-01, 1.00000000e+00,\n",
       "        1.35335283e-01, 3.35462628e-04],\n",
       "       [2.57220937e-56, 2.74878501e-43, 5.38018616e-32, 1.92874985e-22,\n",
       "        1.26641655e-14, 1.52299797e-08, 3.35462628e-04, 1.35335283e-01,\n",
       "        1.00000000e+00, 1.35335283e-01],\n",
       "       [4.40853133e-71, 2.57220937e-56, 2.74878501e-43, 5.38018616e-32,\n",
       "        1.92874985e-22, 1.26641655e-14, 1.52299797e-08, 3.35462628e-04,\n",
       "        1.35335283e-01, 1.00000000e+00]])"
      ]
     },
     "execution_count": 141,
     "metadata": {},
     "output_type": "execute_result"
    }
   ],
   "source": [
    "from sklearn.gaussian_process import kernels\n",
    "rbf = kernels.RBF(length_scale=0.5)\n",
    "expsin = kernels.ExpSineSquared(periodicity=5)\n",
    "kernel = rbf(np.arange(T)[:,None])\n",
    "kernel"
   ]
  },
  {
   "cell_type": "code",
   "execution_count": 142,
   "metadata": {
    "scrolled": true
   },
   "outputs": [
    {
     "name": "stdout",
     "output_type": "stream",
     "text": [
      "Start with: dim=100, T=10 (it 0)\n",
      "starting KTGL ...\r"
     ]
    }
   ],
   "source": [
    "# setting 1\n",
    "alpha = 0.361 #289 #0.0025\n",
    "# beta = kernel[0,1]\n",
    "\n",
    "for i, (k, res) in enumerate(sorted(data.items())[:5]):\n",
    "    dim = k[0]\n",
    "    print(\"Start with: dim=%d, T=%d (it %d)\" % (k[0],k[1], i))\n",
    "    data_list = res.data\n",
    "    K = res.thetas\n",
    "    data_grid = np.array(data_list).transpose(1,2,0)  # to use it later for grid search\n",
    "\n",
    "    print(\"starting TGL ...\\r\", end='')\n",
    "    res = tgl_results(data_grid, K, beta=beta, alpha=alpha)\n",
    "    dff.loc[idx['TGL', k[1]], idx[:, k[0]]] = [res[x] for x in scores]\n",
    "    \n",
    "    print(\"starting KTGL ...\\r\", end='')\n",
    "    res = ktgl_results(data_grid, K, kernel=kernel, alpha=alpha)\n",
    "    dff.loc[idx['KTGL', k[1]], idx[:, k[0]]] = [res[x] for x in scores]"
   ]
  },
  {
   "cell_type": "code",
   "execution_count": 143,
   "metadata": {
    "scrolled": false
   },
   "outputs": [
    {
     "data": {
      "text/html": [
       "<div>\n",
       "<style scoped>\n",
       "    .dataframe tbody tr th:only-of-type {\n",
       "        vertical-align: middle;\n",
       "    }\n",
       "\n",
       "    .dataframe tbody tr th {\n",
       "        vertical-align: top;\n",
       "    }\n",
       "\n",
       "    .dataframe thead th {\n",
       "        text-align: right;\n",
       "    }\n",
       "</style>\n",
       "<table border=\"1\" class=\"dataframe\">\n",
       "  <thead>\n",
       "    <tr style=\"text-align: right;\">\n",
       "      <th>score</th>\n",
       "      <th>MSE_precision</th>\n",
       "      <th>accuracy</th>\n",
       "      <th>balanced_accuracy</th>\n",
       "      <th>estimator</th>\n",
       "      <th>f1</th>\n",
       "      <th>iterations</th>\n",
       "      <th>likelihood</th>\n",
       "      <th>miss_rate</th>\n",
       "      <th>nlr</th>\n",
       "      <th>npv</th>\n",
       "      <th>plr</th>\n",
       "      <th>precision</th>\n",
       "      <th>prevalence</th>\n",
       "      <th>recall</th>\n",
       "      <th>specificity</th>\n",
       "      <th>time</th>\n",
       "    </tr>\n",
       "    <tr>\n",
       "      <th>method</th>\n",
       "      <th></th>\n",
       "      <th></th>\n",
       "      <th></th>\n",
       "      <th></th>\n",
       "      <th></th>\n",
       "      <th></th>\n",
       "      <th></th>\n",
       "      <th></th>\n",
       "      <th></th>\n",
       "      <th></th>\n",
       "      <th></th>\n",
       "      <th></th>\n",
       "      <th></th>\n",
       "      <th></th>\n",
       "      <th></th>\n",
       "      <th></th>\n",
       "    </tr>\n",
       "  </thead>\n",
       "  <tbody>\n",
       "    <tr>\n",
       "      <th>TGL</th>\n",
       "      <td>0.372024</td>\n",
       "      <td>0.48406</td>\n",
       "      <td>0.491796</td>\n",
       "      <td>TimeGraphLasso(alpha=0.361, assume_centered=0,...</td>\n",
       "      <td>0.474721</td>\n",
       "      <td>74</td>\n",
       "      <td>18700.2</td>\n",
       "      <td>0.579413</td>\n",
       "      <td>1.02914</td>\n",
       "      <td>0.438595</td>\n",
       "      <td>0.962453</td>\n",
       "      <td>0.544847</td>\n",
       "      <td>0.55432</td>\n",
       "      <td>0.420587</td>\n",
       "      <td>0.563005</td>\n",
       "      <td>1.67161</td>\n",
       "    </tr>\n",
       "    <tr>\n",
       "      <th>KTGL</th>\n",
       "      <td>0.381939</td>\n",
       "      <td>0.48186</td>\n",
       "      <td>0.491997</td>\n",
       "      <td>KernelTimeGraphLasso(alpha=0.361, assume_cente...</td>\n",
       "      <td>0.46035</td>\n",
       "      <td>163</td>\n",
       "      <td>21768.8</td>\n",
       "      <td>0.601313</td>\n",
       "      <td>1.02735</td>\n",
       "      <td>0.439025</td>\n",
       "      <td>0.961404</td>\n",
       "      <td>0.544576</td>\n",
       "      <td>0.55432</td>\n",
       "      <td>0.398687</td>\n",
       "      <td>0.585308</td>\n",
       "      <td>5.81972</td>\n",
       "    </tr>\n",
       "  </tbody>\n",
       "</table>\n",
       "</div>"
      ],
      "text/plain": [
       "score  MSE_precision accuracy balanced_accuracy  \\\n",
       "method                                            \n",
       "TGL         0.372024  0.48406          0.491796   \n",
       "KTGL        0.381939  0.48186          0.491997   \n",
       "\n",
       "score                                           estimator        f1  \\\n",
       "method                                                                \n",
       "TGL     TimeGraphLasso(alpha=0.361, assume_centered=0,...  0.474721   \n",
       "KTGL    KernelTimeGraphLasso(alpha=0.361, assume_cente...   0.46035   \n",
       "\n",
       "score   iterations likelihood miss_rate      nlr       npv       plr  \\\n",
       "method                                                                 \n",
       "TGL             74    18700.2  0.579413  1.02914  0.438595  0.962453   \n",
       "KTGL           163    21768.8  0.601313  1.02735  0.439025  0.961404   \n",
       "\n",
       "score  precision prevalence    recall specificity     time  \n",
       "method                                                      \n",
       "TGL     0.544847    0.55432  0.420587    0.563005  1.67161  \n",
       "KTGL    0.544576    0.55432  0.398687    0.585308  5.81972  "
      ]
     },
     "execution_count": 143,
     "metadata": {},
     "output_type": "execute_result"
    }
   ],
   "source": [
    "mm = dff.xs(n_dim_obs, level='dim', axis=1).xs(T, level='time')\n",
    "# mm['likelihood']\n",
    "mm"
   ]
  },
  {
   "cell_type": "code",
   "execution_count": 137,
   "metadata": {},
   "outputs": [
    {
     "data": {
      "text/html": [
       "<div>\n",
       "<style scoped>\n",
       "    .dataframe tbody tr th:only-of-type {\n",
       "        vertical-align: middle;\n",
       "    }\n",
       "\n",
       "    .dataframe tbody tr th {\n",
       "        vertical-align: top;\n",
       "    }\n",
       "\n",
       "    .dataframe thead th {\n",
       "        text-align: right;\n",
       "    }\n",
       "</style>\n",
       "<table border=\"1\" class=\"dataframe\">\n",
       "  <thead>\n",
       "    <tr style=\"text-align: right;\">\n",
       "      <th>score</th>\n",
       "      <th>MSE_precision</th>\n",
       "      <th>accuracy</th>\n",
       "      <th>balanced_accuracy</th>\n",
       "      <th>estimator</th>\n",
       "      <th>f1</th>\n",
       "      <th>iterations</th>\n",
       "      <th>likelihood</th>\n",
       "      <th>miss_rate</th>\n",
       "      <th>nlr</th>\n",
       "      <th>npv</th>\n",
       "      <th>plr</th>\n",
       "      <th>precision</th>\n",
       "      <th>prevalence</th>\n",
       "      <th>recall</th>\n",
       "      <th>specificity</th>\n",
       "      <th>time</th>\n",
       "    </tr>\n",
       "    <tr>\n",
       "      <th>method</th>\n",
       "      <th></th>\n",
       "      <th></th>\n",
       "      <th></th>\n",
       "      <th></th>\n",
       "      <th></th>\n",
       "      <th></th>\n",
       "      <th></th>\n",
       "      <th></th>\n",
       "      <th></th>\n",
       "      <th></th>\n",
       "      <th></th>\n",
       "      <th></th>\n",
       "      <th></th>\n",
       "      <th></th>\n",
       "      <th></th>\n",
       "      <th></th>\n",
       "    </tr>\n",
       "  </thead>\n",
       "  <tbody>\n",
       "    <tr>\n",
       "      <th>TGL</th>\n",
       "      <td>0.372024</td>\n",
       "      <td>0.48406</td>\n",
       "      <td>0.491796</td>\n",
       "      <td>TimeGraphLasso(alpha=0.361, assume_centered=0,...</td>\n",
       "      <td>0.474721</td>\n",
       "      <td>74</td>\n",
       "      <td>18700.2</td>\n",
       "      <td>0.579413</td>\n",
       "      <td>1.02914</td>\n",
       "      <td>0.438595</td>\n",
       "      <td>0.962453</td>\n",
       "      <td>0.544847</td>\n",
       "      <td>0.55432</td>\n",
       "      <td>0.420587</td>\n",
       "      <td>0.563005</td>\n",
       "      <td>1.61532</td>\n",
       "    </tr>\n",
       "    <tr>\n",
       "      <th>KTGL</th>\n",
       "      <td>0.409282</td>\n",
       "      <td>0.48508</td>\n",
       "      <td>0.493618</td>\n",
       "      <td>KernelTimeGraphLasso(alpha=0.361, assume_cente...</td>\n",
       "      <td>0.471899</td>\n",
       "      <td>291</td>\n",
       "      <td>16292.8</td>\n",
       "      <td>0.584969</td>\n",
       "      <td>1.02231</td>\n",
       "      <td>0.440236</td>\n",
       "      <td>0.970162</td>\n",
       "      <td>0.546824</td>\n",
       "      <td>0.55432</td>\n",
       "      <td>0.415031</td>\n",
       "      <td>0.572204</td>\n",
       "      <td>10.5538</td>\n",
       "    </tr>\n",
       "  </tbody>\n",
       "</table>\n",
       "</div>"
      ],
      "text/plain": [
       "score  MSE_precision accuracy balanced_accuracy  \\\n",
       "method                                            \n",
       "TGL         0.372024  0.48406          0.491796   \n",
       "KTGL        0.409282  0.48508          0.493618   \n",
       "\n",
       "score                                           estimator        f1  \\\n",
       "method                                                                \n",
       "TGL     TimeGraphLasso(alpha=0.361, assume_centered=0,...  0.474721   \n",
       "KTGL    KernelTimeGraphLasso(alpha=0.361, assume_cente...  0.471899   \n",
       "\n",
       "score   iterations likelihood miss_rate      nlr       npv       plr  \\\n",
       "method                                                                 \n",
       "TGL             74    18700.2  0.579413  1.02914  0.438595  0.962453   \n",
       "KTGL           291    16292.8  0.584969  1.02231  0.440236  0.970162   \n",
       "\n",
       "score  precision prevalence    recall specificity     time  \n",
       "method                                                      \n",
       "TGL     0.544847    0.55432  0.420587    0.563005  1.61532  \n",
       "KTGL    0.546824    0.55432  0.415031    0.572204  10.5538  "
      ]
     },
     "execution_count": 137,
     "metadata": {},
     "output_type": "execute_result"
    }
   ],
   "source": [
    "mm = dff.xs(n_dim_obs, level='dim', axis=1).xs(T, level='time')\n",
    "# mm['likelihood']\n",
    "mm"
   ]
  },
  {
   "cell_type": "code",
   "execution_count": 116,
   "metadata": {
    "scrolled": true
   },
   "outputs": [
    {
     "data": {
      "text/plain": [
       "array([[[1.60467172e-04, 9.30880732e-05, 0.00000000e+00, ...,\n",
       "         0.00000000e+00, 0.00000000e+00, 0.00000000e+00],\n",
       "        [9.30880732e-05, 8.69734202e-05, 0.00000000e+00, ...,\n",
       "         0.00000000e+00, 0.00000000e+00, 1.44305388e-05],\n",
       "        [0.00000000e+00, 0.00000000e+00, 3.56359988e-05, ...,\n",
       "         0.00000000e+00, 3.57162634e-05, 0.00000000e+00],\n",
       "        ...,\n",
       "        [0.00000000e+00, 0.00000000e+00, 0.00000000e+00, ...,\n",
       "         4.14561803e-05, 0.00000000e+00, 0.00000000e+00],\n",
       "        [0.00000000e+00, 0.00000000e+00, 3.57162634e-05, ...,\n",
       "         0.00000000e+00, 1.01959259e-02, 0.00000000e+00],\n",
       "        [0.00000000e+00, 1.44305388e-05, 0.00000000e+00, ...,\n",
       "         0.00000000e+00, 0.00000000e+00, 8.49314712e-05]],\n",
       "\n",
       "       [[1.58632815e-04, 8.41340905e-05, 0.00000000e+00, ...,\n",
       "         1.91419917e-06, 0.00000000e+00, 0.00000000e+00],\n",
       "        [8.41340905e-05, 7.66552793e-05, 0.00000000e+00, ...,\n",
       "         0.00000000e+00, 0.00000000e+00, 0.00000000e+00],\n",
       "        [0.00000000e+00, 0.00000000e+00, 4.42718764e-05, ...,\n",
       "         0.00000000e+00, 0.00000000e+00, 0.00000000e+00],\n",
       "        ...,\n",
       "        [1.91419917e-06, 0.00000000e+00, 0.00000000e+00, ...,\n",
       "         4.39105251e-05, 0.00000000e+00, 0.00000000e+00],\n",
       "        [0.00000000e+00, 0.00000000e+00, 0.00000000e+00, ...,\n",
       "         0.00000000e+00, 9.81807028e-03, 0.00000000e+00],\n",
       "        [0.00000000e+00, 0.00000000e+00, 0.00000000e+00, ...,\n",
       "         0.00000000e+00, 0.00000000e+00, 8.15765619e-05]],\n",
       "\n",
       "       [[1.37099370e-04, 8.01356181e-05, 2.02876618e-05, ...,\n",
       "         9.86221306e-07, 9.06786899e-06, 0.00000000e+00],\n",
       "        [8.01356181e-05, 6.80646458e-05, 0.00000000e+00, ...,\n",
       "         0.00000000e+00, 1.37519681e-05, 0.00000000e+00],\n",
       "        [2.02876618e-05, 0.00000000e+00, 5.64297819e-05, ...,\n",
       "         0.00000000e+00, 1.73865939e-05, 0.00000000e+00],\n",
       "        ...,\n",
       "        [9.86221306e-07, 0.00000000e+00, 0.00000000e+00, ...,\n",
       "         4.75645732e-05, 2.00919601e-04, 0.00000000e+00],\n",
       "        [9.06786899e-06, 1.37519681e-05, 1.73865939e-05, ...,\n",
       "         2.00919601e-04, 9.50288521e-03, 7.94628284e-06],\n",
       "        [0.00000000e+00, 0.00000000e+00, 0.00000000e+00, ...,\n",
       "         0.00000000e+00, 7.94628284e-06, 7.28809734e-05]],\n",
       "\n",
       "       ...,\n",
       "\n",
       "       [[5.22147649e-05, 1.07582340e-04, 0.00000000e+00, ...,\n",
       "         0.00000000e+00, 0.00000000e+00, 2.72609621e-05],\n",
       "        [1.07582340e-04, 3.34658601e-05, 0.00000000e+00, ...,\n",
       "         0.00000000e+00, 0.00000000e+00, 3.90474494e-06],\n",
       "        [0.00000000e+00, 0.00000000e+00, 1.23937751e-04, ...,\n",
       "         0.00000000e+00, 0.00000000e+00, 8.36344907e-06],\n",
       "        ...,\n",
       "        [0.00000000e+00, 0.00000000e+00, 0.00000000e+00, ...,\n",
       "         6.50345934e-05, 0.00000000e+00, 0.00000000e+00],\n",
       "        [0.00000000e+00, 0.00000000e+00, 0.00000000e+00, ...,\n",
       "         0.00000000e+00, 9.82462292e-03, 9.30146642e-06],\n",
       "        [2.72609621e-05, 3.90474494e-06, 8.36344907e-06, ...,\n",
       "         0.00000000e+00, 9.30146642e-06, 3.21626952e-05]],\n",
       "\n",
       "       [[7.13796688e-05, 0.00000000e+00, 3.68232424e-05, ...,\n",
       "         0.00000000e+00, 0.00000000e+00, 0.00000000e+00],\n",
       "        [0.00000000e+00, 2.99215983e-05, 1.23190297e-06, ...,\n",
       "         4.67954442e-05, 0.00000000e+00, 2.77994493e-06],\n",
       "        [3.68232424e-05, 1.23190297e-06, 1.25877551e-04, ...,\n",
       "         1.89161943e-05, 0.00000000e+00, 1.33479483e-05],\n",
       "        ...,\n",
       "        [0.00000000e+00, 4.67954442e-05, 1.89161943e-05, ...,\n",
       "         7.34091363e-05, 4.09164037e-05, 0.00000000e+00],\n",
       "        [0.00000000e+00, 0.00000000e+00, 0.00000000e+00, ...,\n",
       "         4.09164037e-05, 1.00741395e-02, 0.00000000e+00],\n",
       "        [0.00000000e+00, 2.77994493e-06, 1.33479483e-05, ...,\n",
       "         0.00000000e+00, 0.00000000e+00, 3.59045385e-05]],\n",
       "\n",
       "       [[8.08286244e-05, 0.00000000e+00, 4.47833917e-05, ...,\n",
       "         1.66972917e-05, 0.00000000e+00, 0.00000000e+00],\n",
       "        [0.00000000e+00, 3.09710603e-05, 0.00000000e+00, ...,\n",
       "         5.78508304e-05, 9.63375288e-06, 0.00000000e+00],\n",
       "        [4.47833917e-05, 0.00000000e+00, 1.22291454e-04, ...,\n",
       "         0.00000000e+00, 0.00000000e+00, 1.36874549e-05],\n",
       "        ...,\n",
       "        [1.66972917e-05, 5.78508304e-05, 0.00000000e+00, ...,\n",
       "         8.22166613e-05, 4.44153079e-05, 2.04850086e-05],\n",
       "        [0.00000000e+00, 9.63375288e-06, 0.00000000e+00, ...,\n",
       "         4.44153079e-05, 1.03648401e-02, 5.88054860e-05],\n",
       "        [0.00000000e+00, 0.00000000e+00, 1.36874549e-05, ...,\n",
       "         2.04850086e-05, 5.88054860e-05, 4.38167985e-05]]])"
      ]
     },
     "execution_count": 116,
     "metadata": {},
     "output_type": "execute_result"
    }
   ],
   "source": [
    "np.abs(dff.estimator[100]['TGL'][10].precision_ - dff.estimator[100]['KTGL'][10].precision_)"
   ]
  },
  {
   "cell_type": "code",
   "execution_count": 105,
   "metadata": {},
   "outputs": [
    {
     "data": {
      "text/plain": [
       "'0.116 & 0.116'"
      ]
     },
     "execution_count": 105,
     "metadata": {},
     "output_type": "execute_result"
    }
   ],
   "source": [
    "from decimal import Decimal\n",
    "' & '.join(['%.3f' % Decimal(i) for i in mm['MSE_precision']])"
   ]
  },
  {
   "cell_type": "code",
   "execution_count": null,
   "metadata": {
    "collapsed": true
   },
   "outputs": [],
   "source": [
    "dff[[s for s in scores if s != 'estimator']].to_pickle(\"dff_setting_1.pkl\")"
   ]
  },
  {
   "cell_type": "code",
   "execution_count": null,
   "metadata": {
    "collapsed": true
   },
   "outputs": [],
   "source": [
    "l1 = ([np.linalg.matrix_rank(r) for r in mm.estimator['LTGL ($\\ell_2^2$)'].latent_])\n",
    "l2 = ([np.linalg.matrix_rank(r) for r in mm.estimator['LTGL ($\\ell_1$)'].latent_])\n",
    "l3 = ([np.linalg.matrix_rank(r) for r in mm.estimator['LVGLASSO'].L])\n",
    "\n",
    "l4 = ([np.linalg.matrix_rank(r) for r in mm.estimator['LTGL ($\\ell_2^2$)'].latent_])\n",
    "l5 = ([np.linalg.matrix_rank(r) for r in mm.estimator['LTGL ($\\ell_1$)'].latent_])\n",
    "l6 = ([np.linalg.matrix_rank(r) for r in mm.estimator['LVGLASSO'].L])"
   ]
  },
  {
   "cell_type": "code",
   "execution_count": null,
   "metadata": {
    "collapsed": true
   },
   "outputs": [],
   "source": [
    "l1,l2,l3,l4,l5,l6 = utils.load_pickle(filename=\"ells.pkl\")"
   ]
  },
  {
   "cell_type": "code",
   "execution_count": null,
   "metadata": {},
   "outputs": [],
   "source": [
    "import collections\n",
    "import matplotlib.pyplot as plt\n",
    "\n",
    "f, (ax1, ax2) = plt.subplots(2,1, sharey=False, figsize=(10,5), dpi=600)\n",
    "\n",
    "colors = ['white', 'lightblue', 'C7']\n",
    "alpha = 0.95\n",
    "\n",
    "counter=collections.Counter(l1)\n",
    "ax1.bar(counter.keys(), np.array(counter.values())/len(l1), \n",
    "        alpha=alpha, width=0.24, label='LTGL ($\\ell_2^2$)', color=colors[0], edgecolor='k')\n",
    "counter=collections.Counter(l2)\n",
    "ax1.bar(np.array(counter.keys())+0.25, np.array(counter.values())/len(l1), \n",
    "        alpha=alpha, width=0.24, label='LTGL ($\\ell_1$)', color=colors[1], edgecolor='k')\n",
    "counter=collections.Counter(l3)\n",
    "ax1.bar(np.array(counter.keys())-0.25, np.array(counter.values())/len(l1), \n",
    "        alpha=alpha, width=0.24, label='LVGLASSO', color=colors[2], edgecolor='k')\n",
    "\n",
    "ax1.set_xticks(range(0,30, 2))\n",
    "#ax1.set_ylim(0,5)\n",
    "ax1.axvline(20, c='r', ls='--')\n",
    "ax1.set_xlabel(r'ranks of L obtained with ($p_2$)')\n",
    "ax1.set_ylabel('frequency')\n",
    "# ax1.set_xscale(\"log\")\n",
    "# ax1.set_xlim([10, 100])\n",
    "ax1.xaxis.label.set_size(15)\n",
    "ax1.yaxis.label.set_size(15)\n",
    "\n",
    "#ax1.legend()\n",
    "# ax0.legend(prop={'size': 10})\n",
    "# ax0.set_title('bars with legend')\n",
    "\n",
    "\n",
    "counter=collections.Counter(l4)\n",
    "ax2.bar(counter.keys(), np.array(counter.values())/len(l4), \n",
    "        alpha=alpha, width=0.24, label='LTGL ($\\ell_2^2$)', color=colors[0], edgecolor='k')\n",
    "counter=collections.Counter(l5)\n",
    "ax2.bar(np.array(counter.keys())+0.25,  \n",
    "        np.array(counter.values())/len(l4), alpha=alpha, width=0.24, label='LTGL ($\\ell_1$)', color=colors[1],\n",
    "        edgecolor='k')\n",
    "counter=collections.Counter(l6)\n",
    "ax2.bar(np.array(counter.keys())-0.25,  \n",
    "        np.array(counter.values())/len(l4), alpha=alpha, width=0.24, label='LVGLASSO', color=colors[2],\n",
    "       edgecolor='k')\n",
    "\n",
    "ax2.set_xticks(range(0,30,2))\n",
    "# ax2.set_xlim(2.5,6.7)\n",
    "ax2.set_xlabel(r'ranks of L obtained with ($p_1$)')\n",
    "ax2.set_ylabel('frequency')\n",
    "ax2.xaxis.label.set_size(15)\n",
    "ax2.yaxis.label.set_size(15)\n",
    "ax2.axvline(5, c='r', ls='--')\n",
    "ax1.legend(loc='upper left', fontsize='x-large')\n",
    "plt.tight_layout()\n",
    "plt.show()"
   ]
  },
  {
   "cell_type": "code",
   "execution_count": null,
   "metadata": {
    "collapsed": true
   },
   "outputs": [],
   "source": [
    "import matplotlib\n",
    "f.savefig(\"ranks_distribution_vertical.pdf\", dpi=600, transparent=True, bbox_inches='tight')"
   ]
  },
  {
   "cell_type": "code",
   "execution_count": null,
   "metadata": {},
   "outputs": [],
   "source": [
    "import collections\n",
    "import matplotlib.pyplot as plt\n",
    "\n",
    "f, (ax1, ax2) = plt.subplots(1, 2, sharey=True, figsize=(10,2.6), dpi=600)\n",
    "\n",
    "colors = ['white', 'lightblue', 'C7']\n",
    "alpha = 0.5\n",
    "\n",
    "counter=collections.Counter(l1)\n",
    "ax1.plot(range(len(l1)), l1, \n",
    "        alpha=alpha, label='LTGL ($\\ell_2^2$)', color=colors[0])\n",
    "counter=collections.Counter(l2)\n",
    "ax1.plot(np.arange(len(l1))+.2, l2, \n",
    "        alpha=alpha,  label='LTGL ($\\ell_1$)', color=colors[1])\n",
    "counter=collections.Counter(l3)\n",
    "ax1.plot(np.arange(len(l1))+.4, l3,\n",
    "        alpha=alpha, label='LVGLASSO', color=colors[2])\n",
    "\n",
    "# ax1.set_xticks(range(15,25, 1))\n",
    "#ax1.set_ylim(0,5)\n",
    "ax1.axhline(20, c='r', ls='--')\n",
    "ax1.set_xlabel(r'ranks of L obtained with ($p_2$)')\n",
    "ax1.set_ylabel('frequency')\n",
    "ax1.xaxis.label.set_size(15)\n",
    "ax1.yaxis.label.set_size(15)\n",
    "\n",
    "#ax1.legend()\n",
    "# ax0.legend(prop={'size': 10})\n",
    "# ax0.set_title('bars with legend')\n",
    "\n",
    "\n",
    "counter=collections.Counter(l4)\n",
    "ax2.plot(range(len(l4)), l4, \n",
    "        alpha=alpha,label='LTGL ($\\ell_2^2$)', color=colors[0])\n",
    "counter=collections.Counter(l5)\n",
    "ax2.plot(np.arange(len(l4))+.2, l5,\n",
    "        alpha=alpha,  label='LTGL ($\\ell_1$)', color=colors[1])\n",
    "counter=collections.Counter(l6)\n",
    "ax2.plot(np.arange(len(l4))+.4, l6, alpha=alpha,label='LVGLASSO', color=colors[2])\n",
    "\n",
    "# ax2.set_xticks(range(10))\n",
    "# ax2.set_xlim(2.5,6.7)\n",
    "ax2.set_xlabel(r'ranks of L obtained with ($p_1$)')\n",
    "ax2.xaxis.label.set_size(15)\n",
    "ax2.axhline(5, c='r', ls='--')\n",
    "ax1.legend(loc='best', fontsize='large')\n",
    "plt.tight_layout()\n",
    "plt.show()"
   ]
  }
 ],
 "metadata": {
  "kernelspec": {
   "display_name": "Python 2",
   "language": "python",
   "name": "python2"
  },
  "language_info": {
   "codemirror_mode": {
    "name": "ipython",
    "version": 2
   },
   "file_extension": ".py",
   "mimetype": "text/x-python",
   "name": "python",
   "nbconvert_exporter": "python",
   "pygments_lexer": "ipython2",
   "version": "2.7.15"
  },
  "varInspector": {
   "cols": {
    "lenName": 16,
    "lenType": 16,
    "lenVar": 40
   },
   "kernels_config": {
    "python": {
     "delete_cmd_postfix": "",
     "delete_cmd_prefix": "del ",
     "library": "var_list.py",
     "varRefreshCmd": "print(var_dic_list())"
    },
    "r": {
     "delete_cmd_postfix": ") ",
     "delete_cmd_prefix": "rm(",
     "library": "var_list.r",
     "varRefreshCmd": "cat(var_dic_list()) "
    }
   },
   "types_to_exclude": [
    "module",
    "function",
    "builtin_function_or_method",
    "instance",
    "_Feature"
   ],
   "window_display": false
  }
 },
 "nbformat": 4,
 "nbformat_minor": 2
}
