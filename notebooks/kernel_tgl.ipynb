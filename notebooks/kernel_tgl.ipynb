{
 "cells": [
  {
   "cell_type": "markdown",
   "metadata": {},
   "source": [
    "# Kernel Time-varying Graphical Lasso\n",
    "More than 1-Markovian!"
   ]
  },
  {
   "cell_type": "code",
   "execution_count": 1,
   "metadata": {},
   "outputs": [],
   "source": [
    "%matplotlib inline\n",
    "from __future__ import print_function, division\n",
    "\n",
    "import numpy as np\n",
    "import matplotlib.pyplot as plt\n",
    "import pandas as pd\n",
    "\n",
    "from itertools import product\n",
    "from sklearn.datasets import make_sparse_spd_matrix\n",
    "from sklearn.datasets.base import Bunch\n",
    "from sklearn.utils.extmath import squared_norm\n",
    "from sklearn.covariance import GraphLasso, empirical_covariance\n",
    "from sklearn.datasets.base import Bunch\n",
    "from sklearn.model_selection import GridSearchCV, ShuffleSplit\n",
    "\n",
    "from regain import prox; reload(prox)\n",
    "from regain.covariance import time_graph_lasso_; reload(time_graph_lasso_);\n",
    "from regain import utils; reload(utils)\n",
    "import time"
   ]
  },
  {
   "cell_type": "code",
   "execution_count": 29,
   "metadata": {},
   "outputs": [],
   "source": [
    "from regainpr.covariance import time_graph_lasso_kernel_; reload(time_graph_lasso_kernel_);\n",
    "from regainpr import datasets; reload(datasets);"
   ]
  },
  {
   "cell_type": "code",
   "execution_count": 30,
   "metadata": {},
   "outputs": [],
   "source": [
    "def tgl_results(data_grid, K, **params):\n",
    "    mdl = time_graph_lasso_.TimeGraphLasso(\n",
    "        time_on_axis='last', assume_centered=0, verbose=0, rtol=1e-5, tol=1e-5,\n",
    "        max_iter=500, rho=1./ np.sqrt(data_grid.shape[0]))\n",
    "\n",
    "    tic = time.time()\n",
    "    ll = mdl.set_params(**params).fit(data_grid)\n",
    "    tac = time.time()\n",
    "    iterations = ll.n_iter_\n",
    "    F1score = utils.structure_error(K, ll.precision_)['f1']\n",
    "    MSE_precision = utils.error_norm(K, ll.precision_)\n",
    "    ss = utils.structure_error(K, ll.precision_)#, thresholding=1, eps=1e-5)\n",
    "\n",
    "    res = dict(n_dim_obs=K.shape[1],\n",
    "               time=tac-tic,\n",
    "               iterations=iterations,\n",
    "               F1score=F1score,\n",
    "               MSE_precision=MSE_precision,\n",
    "               likelihood=mdl.score(data_grid),\n",
    "               estimator=ll)\n",
    "    res = dict(res, **ss)\n",
    "    return res\n",
    "\n",
    "def ktgl_results(data_grid, K, **params):\n",
    "    mdl = time_graph_lasso_kernel_.KernelTimeGraphLasso(\n",
    "        time_on_axis='last', assume_centered=0, verbose=0, rtol=1e-5, tol=1e-5,\n",
    "        max_iter=500, rho=1./ np.sqrt(data_grid.shape[0]))\n",
    "\n",
    "    tic = time.time()\n",
    "    ll = mdl.set_params(**params).fit(data_grid)\n",
    "    tac = time.time()\n",
    "    iterations = ll.n_iter_\n",
    "    F1score = utils.structure_error(K, ll.precision_)['f1']\n",
    "    MSE_precision = utils.error_norm(K, ll.precision_)\n",
    "    ss = utils.structure_error(K, ll.precision_)#, thresholding=1, eps=1e-5)\n",
    "\n",
    "    res = dict(n_dim_obs=K.shape[1],\n",
    "               time=tac-tic,\n",
    "               iterations=iterations,\n",
    "               F1score=F1score,\n",
    "               MSE_precision=MSE_precision,\n",
    "               likelihood=mdl.score(data_grid),\n",
    "               estimator=ll)\n",
    "    res = dict(res, **ss)\n",
    "    return res"
   ]
  },
  {
   "cell_type": "code",
   "execution_count": 31,
   "metadata": {},
   "outputs": [],
   "source": [
    "# setting 1\n",
    "alpha = 0.45 #0.0025\n",
    "beta = 0 # 1000\n",
    "\n",
    "n_samples = 100\n",
    "T = 10\n",
    "n_dim_obs = 100\n",
    "\n",
    "k = (n_dim_obs, T)\n",
    "\n",
    "np.random.seed(20)\n",
    "\n",
    "reload(datasets)\n",
    "data = {(dim, T) : datasets.make_dataset(\n",
    "    update_theta='l2', normalize_starting_matrices=True,\n",
    "    n_samples=n_samples, n_dim_lat=0, n_dim_obs=dim,  T=T, epsilon=1e-1,\n",
    "    proportional=True, degree=2, keep_sparsity=True)\n",
    "    for dim in [n_dim_obs]}"
   ]
  },
  {
   "cell_type": "code",
   "execution_count": 32,
   "metadata": {
    "scrolled": false
   },
   "outputs": [
    {
     "name": "stdout",
     "output_type": "stream",
     "text": [
      "[480, 480, 480, 480, 480, 480, 480, 480, 480, 480]\n"
     ]
    }
   ],
   "source": [
    "K = data[k].thetas\n",
    "print ([(i!=0).sum() for i in K])"
   ]
  },
  {
   "cell_type": "code",
   "execution_count": 33,
   "metadata": {},
   "outputs": [
    {
     "data": {
      "text/plain": [
       "0.952"
      ]
     },
     "execution_count": 33,
     "metadata": {},
     "output_type": "execute_result"
    }
   ],
   "source": [
    "(data[k].thetas == 0).sum() / (n_dim_obs ** 2 * T)"
   ]
  },
  {
   "cell_type": "code",
   "execution_count": 34,
   "metadata": {
    "scrolled": true
   },
   "outputs": [
    {
     "name": "stdout",
     "output_type": "stream",
     "text": [
      "[0.08693145744887006, 0.0911228876833933, 0.0913770764418117, 0.08856328541201983, 0.08873366888607306, 0.09016180776209934, 0.08849098911088601, 0.08821535520955946, 0.0874366725232461]\n",
      "[0.0, 0.0, 0.0, 0.0, 0.0, 0.0, 0.0, 0.0, 0.0]\n"
     ]
    }
   ],
   "source": [
    "print([np.linalg.norm(data[k].thetas[i] - data[k].thetas[i+1]) for i in range(T-1)])\n",
    "print([np.linalg.norm(data[k].ells[i] - data[k].ells[i+1]) for i in range(T-1)])"
   ]
  },
  {
   "cell_type": "code",
   "execution_count": 35,
   "metadata": {},
   "outputs": [],
   "source": [
    "# prepare dataframe for results\n",
    "n_dims = [n_dim_obs]\n",
    "n_times = [T]\n",
    "methods = ['TGL', 'KTGL']\n",
    "scores = sorted([\n",
    "    \"MSE_precision\", 'estimator',\n",
    "    'time', 'iterations', 'precision', 'recall', 'accuracy', 'balanced_accuracy',\n",
    "    'f1', 'npv', 'prevalence', 'miss_rate', 'likelihood',\n",
    "    'specificity', 'plr', 'nlr'])\n",
    "\n",
    "cols = pd.MultiIndex.from_product([scores, n_dims], names=('score', 'dim'))\n",
    "rows = pd.MultiIndex.from_product([methods, n_times], names=('method', 'time'))\n",
    "\n",
    "dff = pd.DataFrame(columns=cols, index=rows)\n",
    "idx = pd.IndexSlice"
   ]
  },
  {
   "cell_type": "code",
   "execution_count": 72,
   "metadata": {},
   "outputs": [
    {
     "data": {
      "text/plain": [
       "array([[1.00000000e+00, 1.35335283e-01, 3.35462628e-04, 1.52299797e-08,\n",
       "        1.26641655e-14, 1.92874985e-22, 5.38018616e-32, 2.74878501e-43,\n",
       "        2.57220937e-56, 4.40853133e-71],\n",
       "       [1.35335283e-01, 1.00000000e+00, 1.35335283e-01, 3.35462628e-04,\n",
       "        1.52299797e-08, 1.26641655e-14, 1.92874985e-22, 5.38018616e-32,\n",
       "        2.74878501e-43, 2.57220937e-56],\n",
       "       [3.35462628e-04, 1.35335283e-01, 1.00000000e+00, 1.35335283e-01,\n",
       "        3.35462628e-04, 1.52299797e-08, 1.26641655e-14, 1.92874985e-22,\n",
       "        5.38018616e-32, 2.74878501e-43],\n",
       "       [1.52299797e-08, 3.35462628e-04, 1.35335283e-01, 1.00000000e+00,\n",
       "        1.35335283e-01, 3.35462628e-04, 1.52299797e-08, 1.26641655e-14,\n",
       "        1.92874985e-22, 5.38018616e-32],\n",
       "       [1.26641655e-14, 1.52299797e-08, 3.35462628e-04, 1.35335283e-01,\n",
       "        1.00000000e+00, 1.35335283e-01, 3.35462628e-04, 1.52299797e-08,\n",
       "        1.26641655e-14, 1.92874985e-22],\n",
       "       [1.92874985e-22, 1.26641655e-14, 1.52299797e-08, 3.35462628e-04,\n",
       "        1.35335283e-01, 1.00000000e+00, 1.35335283e-01, 3.35462628e-04,\n",
       "        1.52299797e-08, 1.26641655e-14],\n",
       "       [5.38018616e-32, 1.92874985e-22, 1.26641655e-14, 1.52299797e-08,\n",
       "        3.35462628e-04, 1.35335283e-01, 1.00000000e+00, 1.35335283e-01,\n",
       "        3.35462628e-04, 1.52299797e-08],\n",
       "       [2.74878501e-43, 5.38018616e-32, 1.92874985e-22, 1.26641655e-14,\n",
       "        1.52299797e-08, 3.35462628e-04, 1.35335283e-01, 1.00000000e+00,\n",
       "        1.35335283e-01, 3.35462628e-04],\n",
       "       [2.57220937e-56, 2.74878501e-43, 5.38018616e-32, 1.92874985e-22,\n",
       "        1.26641655e-14, 1.52299797e-08, 3.35462628e-04, 1.35335283e-01,\n",
       "        1.00000000e+00, 1.35335283e-01],\n",
       "       [4.40853133e-71, 2.57220937e-56, 2.74878501e-43, 5.38018616e-32,\n",
       "        1.92874985e-22, 1.26641655e-14, 1.52299797e-08, 3.35462628e-04,\n",
       "        1.35335283e-01, 1.00000000e+00]])"
      ]
     },
     "execution_count": 72,
     "metadata": {},
     "output_type": "execute_result"
    }
   ],
   "source": [
    "from sklearn.gaussian_process import kernels\n",
    "rbf = kernels.RBF(length_scale=0.5)\n",
    "kernel = rbf(np.arange(T)[:,None])\n",
    "kernel"
   ]
  },
  {
   "cell_type": "code",
   "execution_count": 92,
   "metadata": {},
   "outputs": [
    {
     "data": {
      "text/plain": [
       "array([[1. , 0.5, 0. , 0. , 0. , 0. , 0. , 0. , 0. , 0. ],\n",
       "       [0.5, 1. , 0.5, 0. , 0. , 0. , 0. , 0. , 0. , 0. ],\n",
       "       [0. , 0.5, 1. , 0.5, 0. , 0. , 0. , 0. , 0. , 0. ],\n",
       "       [0. , 0. , 0.5, 1. , 0.5, 0. , 0. , 0. , 0. , 0. ],\n",
       "       [0. , 0. , 0. , 0.5, 1. , 0.5, 0. , 0. , 0. , 0. ],\n",
       "       [0. , 0. , 0. , 0. , 0.5, 1. , 0.5, 0. , 0. , 0. ],\n",
       "       [0. , 0. , 0. , 0. , 0. , 0.5, 1. , 0.5, 0. , 0. ],\n",
       "       [0. , 0. , 0. , 0. , 0. , 0. , 0.5, 1. , 0.5, 0. ],\n",
       "       [0. , 0. , 0. , 0. , 0. , 0. , 0. , 0.5, 1. , 0.5],\n",
       "       [0. , 0. , 0. , 0. , 0. , 0. , 0. , 0. , 0.5, 1. ]])"
      ]
     },
     "execution_count": 92,
     "metadata": {},
     "output_type": "execute_result"
    }
   ],
   "source": [
    "beta = 0.5\n",
    "rng = np.full(T-1, beta)\n",
    "\n",
    "kernel = np.diag(rng,1) +np.diag(rng,-1) + np.eye(T)\n",
    "\n",
    "kernel"
   ]
  },
  {
   "cell_type": "code",
   "execution_count": 93,
   "metadata": {
    "scrolled": true
   },
   "outputs": [
    {
     "name": "stdout",
     "output_type": "stream",
     "text": [
      "Start with: dim=100, T=10 (it 0)\n",
      "starting KTGL ...\r"
     ]
    }
   ],
   "source": [
    "# setting 1\n",
    "alpha = 0.361 #289 #0.0025\n",
    "# beta = kernel[0,1]\n",
    "\n",
    "for i, (k, res) in enumerate(sorted(data.items())[:5]):\n",
    "    dim = k[0]\n",
    "    print(\"Start with: dim=%d, T=%d (it %d)\" % (k[0],k[1], i))\n",
    "    data_list = res.data\n",
    "    K = res.thetas\n",
    "    data_grid = np.array(data_list).transpose(1,2,0)  # to use it later for grid search\n",
    "\n",
    "    print(\"starting TGL ...\\r\", end='')\n",
    "    res = tgl_results(data_grid, K, beta=beta, alpha=alpha)\n",
    "    dff.loc[idx['TGL', k[1]], idx[:, k[0]]] = [res[x] for x in scores]\n",
    "    \n",
    "    print(\"starting KTGL ...\\r\", end='')\n",
    "    res = ktgl_results(data_grid, K, kernel=kernel, alpha=alpha)\n",
    "    dff.loc[idx['KTGL', k[1]], idx[:, k[0]]] = [res[x] for x in scores]"
   ]
  },
  {
   "cell_type": "code",
   "execution_count": 94,
   "metadata": {
    "scrolled": false
   },
   "outputs": [
    {
     "data": {
      "text/html": [
       "<div>\n",
       "<style scoped>\n",
       "    .dataframe tbody tr th:only-of-type {\n",
       "        vertical-align: middle;\n",
       "    }\n",
       "\n",
       "    .dataframe tbody tr th {\n",
       "        vertical-align: top;\n",
       "    }\n",
       "\n",
       "    .dataframe thead th {\n",
       "        text-align: right;\n",
       "    }\n",
       "</style>\n",
       "<table border=\"1\" class=\"dataframe\">\n",
       "  <thead>\n",
       "    <tr style=\"text-align: right;\">\n",
       "      <th>score</th>\n",
       "      <th>MSE_precision</th>\n",
       "      <th>accuracy</th>\n",
       "      <th>balanced_accuracy</th>\n",
       "      <th>estimator</th>\n",
       "      <th>f1</th>\n",
       "      <th>iterations</th>\n",
       "      <th>likelihood</th>\n",
       "      <th>miss_rate</th>\n",
       "      <th>nlr</th>\n",
       "      <th>npv</th>\n",
       "      <th>plr</th>\n",
       "      <th>precision</th>\n",
       "      <th>prevalence</th>\n",
       "      <th>recall</th>\n",
       "      <th>specificity</th>\n",
       "      <th>time</th>\n",
       "    </tr>\n",
       "    <tr>\n",
       "      <th>method</th>\n",
       "      <th></th>\n",
       "      <th></th>\n",
       "      <th></th>\n",
       "      <th></th>\n",
       "      <th></th>\n",
       "      <th></th>\n",
       "      <th></th>\n",
       "      <th></th>\n",
       "      <th></th>\n",
       "      <th></th>\n",
       "      <th></th>\n",
       "      <th></th>\n",
       "      <th></th>\n",
       "      <th></th>\n",
       "      <th></th>\n",
       "      <th></th>\n",
       "    </tr>\n",
       "  </thead>\n",
       "  <tbody>\n",
       "    <tr>\n",
       "      <th>TGL</th>\n",
       "      <td>0.116255</td>\n",
       "      <td>0.12632</td>\n",
       "      <td>0.538563</td>\n",
       "      <td>TimeGraphLasso(alpha=0.361, assume_centered=0,...</td>\n",
       "      <td>0.0985183</td>\n",
       "      <td>106</td>\n",
       "      <td>-91038</td>\n",
       "      <td>0.00541667</td>\n",
       "      <td>0.0656231</td>\n",
       "      <td>0.996702</td>\n",
       "      <td>1.08406</td>\n",
       "      <td>0.051826</td>\n",
       "      <td>0.048</td>\n",
       "      <td>0.994583</td>\n",
       "      <td>0.082542</td>\n",
       "      <td>2.17929</td>\n",
       "    </tr>\n",
       "    <tr>\n",
       "      <th>KTGL</th>\n",
       "      <td>0.116254</td>\n",
       "      <td>0.1266</td>\n",
       "      <td>0.53871</td>\n",
       "      <td>KernelTimeGraphLasso(alpha=0.361, assume_cente...</td>\n",
       "      <td>0.0985468</td>\n",
       "      <td>119</td>\n",
       "      <td>-91038.1</td>\n",
       "      <td>0.00541667</td>\n",
       "      <td>0.0653901</td>\n",
       "      <td>0.996714</td>\n",
       "      <td>1.08441</td>\n",
       "      <td>0.0518417</td>\n",
       "      <td>0.048</td>\n",
       "      <td>0.994583</td>\n",
       "      <td>0.0828361</td>\n",
       "      <td>4.08452</td>\n",
       "    </tr>\n",
       "  </tbody>\n",
       "</table>\n",
       "</div>"
      ],
      "text/plain": [
       "score  MSE_precision accuracy balanced_accuracy  \\\n",
       "method                                            \n",
       "TGL         0.116255  0.12632          0.538563   \n",
       "KTGL        0.116254   0.1266           0.53871   \n",
       "\n",
       "score                                           estimator         f1  \\\n",
       "method                                                                 \n",
       "TGL     TimeGraphLasso(alpha=0.361, assume_centered=0,...  0.0985183   \n",
       "KTGL    KernelTimeGraphLasso(alpha=0.361, assume_cente...  0.0985468   \n",
       "\n",
       "score   iterations likelihood   miss_rate        nlr       npv      plr  \\\n",
       "method                                                                    \n",
       "TGL            106     -91038  0.00541667  0.0656231  0.996702  1.08406   \n",
       "KTGL           119   -91038.1  0.00541667  0.0653901  0.996714  1.08441   \n",
       "\n",
       "score   precision prevalence    recall specificity     time  \n",
       "method                                                       \n",
       "TGL      0.051826      0.048  0.994583    0.082542  2.17929  \n",
       "KTGL    0.0518417      0.048  0.994583   0.0828361  4.08452  "
      ]
     },
     "execution_count": 94,
     "metadata": {},
     "output_type": "execute_result"
    }
   ],
   "source": [
    "mm = dff.xs(n_dim_obs, level='dim', axis=1).xs(T, level='time')\n",
    "# mm['likelihood']\n",
    "mm"
   ]
  },
  {
   "cell_type": "code",
   "execution_count": 104,
   "metadata": {
    "scrolled": true
   },
   "outputs": [
    {
     "data": {
      "text/plain": [
       "array([[[7.67158676e-06, 5.10945376e-06, 1.63747381e-05, ...,\n",
       "         2.45893531e-05, 6.87941458e-06, 1.74204470e-05],\n",
       "        [5.10945376e-06, 3.24269850e-06, 0.00000000e+00, ...,\n",
       "         5.57347990e-05, 2.97723100e-05, 2.35970008e-06],\n",
       "        [1.63747381e-05, 0.00000000e+00, 3.73031631e-06, ...,\n",
       "         3.08820034e-05, 5.78244088e-06, 2.52879074e-05],\n",
       "        ...,\n",
       "        [2.45893531e-05, 5.57347990e-05, 3.08820034e-05, ...,\n",
       "         2.35548626e-05, 2.48699872e-05, 4.15581528e-07],\n",
       "        [6.87941458e-06, 2.97723100e-05, 5.78244088e-06, ...,\n",
       "         2.48699872e-05, 1.44069894e-05, 4.90696665e-07],\n",
       "        [1.74204470e-05, 2.35970008e-06, 2.52879074e-05, ...,\n",
       "         4.15581528e-07, 4.90696665e-07, 2.34622589e-05]],\n",
       "\n",
       "       [[6.48759374e-06, 3.99265242e-06, 4.90111504e-06, ...,\n",
       "         2.35680591e-05, 2.05623719e-05, 1.91715804e-06],\n",
       "        [3.99265242e-06, 7.21150680e-06, 3.80772351e-05, ...,\n",
       "         1.85119035e-05, 1.94628003e-05, 1.80587662e-05],\n",
       "        [4.90111504e-06, 3.80772351e-05, 9.14301766e-06, ...,\n",
       "         2.25958295e-05, 3.47254291e-05, 2.16533466e-05],\n",
       "        ...,\n",
       "        [2.35680591e-05, 1.85119035e-05, 2.25958295e-05, ...,\n",
       "         4.38302370e-05, 5.93404207e-06, 2.00001152e-05],\n",
       "        [2.05623719e-05, 1.94628003e-05, 3.47254291e-05, ...,\n",
       "         5.93404207e-06, 1.51355413e-05, 1.78307090e-05],\n",
       "        [1.91715804e-06, 1.80587662e-05, 2.16533466e-05, ...,\n",
       "         2.00001152e-05, 1.78307090e-05, 2.57511413e-05]],\n",
       "\n",
       "       [[4.50297482e-05, 3.26740929e-05, 2.01136849e-05, ...,\n",
       "         2.85023590e-05, 1.42000477e-06, 5.85351174e-05],\n",
       "        [3.26740929e-05, 6.71769339e-06, 2.96396772e-05, ...,\n",
       "         1.49466015e-06, 2.37387257e-05, 1.30711081e-05],\n",
       "        [2.01136849e-05, 2.96396772e-05, 2.58942155e-05, ...,\n",
       "         1.00782444e-06, 4.75852287e-06, 1.60745673e-05],\n",
       "        ...,\n",
       "        [2.85023590e-05, 1.49466015e-06, 1.00782444e-06, ...,\n",
       "         1.13399647e-05, 1.85592045e-06, 1.34562819e-05],\n",
       "        [1.42000477e-06, 2.37387257e-05, 4.75852287e-06, ...,\n",
       "         1.85592045e-06, 6.21397523e-06, 2.08736716e-05],\n",
       "        [5.85351174e-05, 1.30711081e-05, 1.60745673e-05, ...,\n",
       "         1.34562819e-05, 2.08736716e-05, 1.59939394e-05]],\n",
       "\n",
       "       ...,\n",
       "\n",
       "       [[3.56974414e-06, 1.20549335e-05, 4.35908538e-06, ...,\n",
       "         9.22606317e-06, 5.17491028e-06, 4.67329945e-05],\n",
       "        [1.20549335e-05, 1.72375165e-05, 3.55267346e-05, ...,\n",
       "         8.53056785e-06, 7.21648812e-06, 3.23065117e-05],\n",
       "        [4.35908538e-06, 3.55267346e-05, 2.81965660e-05, ...,\n",
       "         9.41035464e-06, 8.22558390e-05, 5.91338402e-05],\n",
       "        ...,\n",
       "        [9.22606317e-06, 8.53056785e-06, 9.41035464e-06, ...,\n",
       "         6.30872176e-06, 1.11781394e-05, 0.00000000e+00],\n",
       "        [5.17491028e-06, 7.21648812e-06, 8.22558390e-05, ...,\n",
       "         1.11781394e-05, 5.40601703e-06, 1.78283029e-05],\n",
       "        [4.67329945e-05, 3.23065117e-05, 5.91338402e-05, ...,\n",
       "         0.00000000e+00, 1.78283029e-05, 1.68216373e-05]],\n",
       "\n",
       "       [[2.24133375e-05, 3.45265115e-05, 1.99020075e-06, ...,\n",
       "         3.77862447e-05, 1.35081561e-05, 1.89945467e-05],\n",
       "        [3.45265115e-05, 7.31005199e-06, 5.68209034e-06, ...,\n",
       "         1.54511142e-05, 3.40107914e-05, 9.29326741e-06],\n",
       "        [1.99020075e-06, 5.68209034e-06, 5.85061444e-06, ...,\n",
       "         1.70043460e-05, 5.69371524e-05, 1.58189847e-05],\n",
       "        ...,\n",
       "        [3.77862447e-05, 1.54511142e-05, 1.70043460e-05, ...,\n",
       "         1.51842865e-05, 8.42704449e-06, 2.07493567e-05],\n",
       "        [1.35081561e-05, 3.40107914e-05, 5.69371524e-05, ...,\n",
       "         8.42704449e-06, 4.19283148e-06, 1.57609868e-05],\n",
       "        [1.89945467e-05, 9.29326741e-06, 1.58189847e-05, ...,\n",
       "         2.07493567e-05, 1.57609868e-05, 3.91804960e-05]],\n",
       "\n",
       "       [[2.66926607e-05, 8.17155997e-06, 7.68007923e-07, ...,\n",
       "         3.30954621e-05, 2.50747356e-05, 1.70678213e-05],\n",
       "        [8.17155997e-06, 7.29150612e-06, 1.43142020e-06, ...,\n",
       "         1.26834155e-05, 1.54468921e-05, 3.45029656e-05],\n",
       "        [7.68007923e-07, 1.43142020e-06, 6.61098357e-07, ...,\n",
       "         7.64775814e-06, 3.56807783e-07, 2.02352909e-05],\n",
       "        ...,\n",
       "        [3.30954621e-05, 1.26834155e-05, 7.64775814e-06, ...,\n",
       "         1.78388280e-05, 3.55205832e-06, 3.76818089e-05],\n",
       "        [2.50747356e-05, 1.54468921e-05, 3.56807783e-07, ...,\n",
       "         3.55205832e-06, 2.82642292e-05, 1.43550948e-05],\n",
       "        [1.70678213e-05, 3.45029656e-05, 2.02352909e-05, ...,\n",
       "         3.76818089e-05, 1.43550948e-05, 7.67224709e-06]]])"
      ]
     },
     "execution_count": 104,
     "metadata": {},
     "output_type": "execute_result"
    }
   ],
   "source": [
    "np.abs(dff.estimator[100]['TGL'][10].precision_ - dff.estimator[100]['KTGL'][10].precision_)"
   ]
  },
  {
   "cell_type": "code",
   "execution_count": null,
   "metadata": {},
   "outputs": [],
   "source": [
    "from decimal import Decimal\n",
    "' & '.join(['%.3f' % Decimal(i) for i in mm['MSE_precision']])"
   ]
  },
  {
   "cell_type": "code",
   "execution_count": null,
   "metadata": {
    "collapsed": true
   },
   "outputs": [],
   "source": [
    "dff[[s for s in scores if s != 'estimator']].to_pickle(\"dff_setting_1.pkl\")"
   ]
  },
  {
   "cell_type": "code",
   "execution_count": null,
   "metadata": {
    "collapsed": true
   },
   "outputs": [],
   "source": [
    "l1 = ([np.linalg.matrix_rank(r) for r in mm.estimator['LTGL ($\\ell_2^2$)'].latent_])\n",
    "l2 = ([np.linalg.matrix_rank(r) for r in mm.estimator['LTGL ($\\ell_1$)'].latent_])\n",
    "l3 = ([np.linalg.matrix_rank(r) for r in mm.estimator['LVGLASSO'].L])\n",
    "\n",
    "l4 = ([np.linalg.matrix_rank(r) for r in mm.estimator['LTGL ($\\ell_2^2$)'].latent_])\n",
    "l5 = ([np.linalg.matrix_rank(r) for r in mm.estimator['LTGL ($\\ell_1$)'].latent_])\n",
    "l6 = ([np.linalg.matrix_rank(r) for r in mm.estimator['LVGLASSO'].L])"
   ]
  },
  {
   "cell_type": "code",
   "execution_count": null,
   "metadata": {
    "collapsed": true
   },
   "outputs": [],
   "source": [
    "l1,l2,l3,l4,l5,l6 = utils.load_pickle(filename=\"ells.pkl\")"
   ]
  },
  {
   "cell_type": "code",
   "execution_count": null,
   "metadata": {},
   "outputs": [],
   "source": [
    "import collections\n",
    "import matplotlib.pyplot as plt\n",
    "\n",
    "f, (ax1, ax2) = plt.subplots(2,1, sharey=False, figsize=(10,5), dpi=600)\n",
    "\n",
    "colors = ['white', 'lightblue', 'C7']\n",
    "alpha = 0.95\n",
    "\n",
    "counter=collections.Counter(l1)\n",
    "ax1.bar(counter.keys(), np.array(counter.values())/len(l1), \n",
    "        alpha=alpha, width=0.24, label='LTGL ($\\ell_2^2$)', color=colors[0], edgecolor='k')\n",
    "counter=collections.Counter(l2)\n",
    "ax1.bar(np.array(counter.keys())+0.25, np.array(counter.values())/len(l1), \n",
    "        alpha=alpha, width=0.24, label='LTGL ($\\ell_1$)', color=colors[1], edgecolor='k')\n",
    "counter=collections.Counter(l3)\n",
    "ax1.bar(np.array(counter.keys())-0.25, np.array(counter.values())/len(l1), \n",
    "        alpha=alpha, width=0.24, label='LVGLASSO', color=colors[2], edgecolor='k')\n",
    "\n",
    "ax1.set_xticks(range(0,30, 2))\n",
    "#ax1.set_ylim(0,5)\n",
    "ax1.axvline(20, c='r', ls='--')\n",
    "ax1.set_xlabel(r'ranks of L obtained with ($p_2$)')\n",
    "ax1.set_ylabel('frequency')\n",
    "# ax1.set_xscale(\"log\")\n",
    "# ax1.set_xlim([10, 100])\n",
    "ax1.xaxis.label.set_size(15)\n",
    "ax1.yaxis.label.set_size(15)\n",
    "\n",
    "#ax1.legend()\n",
    "# ax0.legend(prop={'size': 10})\n",
    "# ax0.set_title('bars with legend')\n",
    "\n",
    "\n",
    "counter=collections.Counter(l4)\n",
    "ax2.bar(counter.keys(), np.array(counter.values())/len(l4), \n",
    "        alpha=alpha, width=0.24, label='LTGL ($\\ell_2^2$)', color=colors[0], edgecolor='k')\n",
    "counter=collections.Counter(l5)\n",
    "ax2.bar(np.array(counter.keys())+0.25,  \n",
    "        np.array(counter.values())/len(l4), alpha=alpha, width=0.24, label='LTGL ($\\ell_1$)', color=colors[1],\n",
    "        edgecolor='k')\n",
    "counter=collections.Counter(l6)\n",
    "ax2.bar(np.array(counter.keys())-0.25,  \n",
    "        np.array(counter.values())/len(l4), alpha=alpha, width=0.24, label='LVGLASSO', color=colors[2],\n",
    "       edgecolor='k')\n",
    "\n",
    "ax2.set_xticks(range(0,30,2))\n",
    "# ax2.set_xlim(2.5,6.7)\n",
    "ax2.set_xlabel(r'ranks of L obtained with ($p_1$)')\n",
    "ax2.set_ylabel('frequency')\n",
    "ax2.xaxis.label.set_size(15)\n",
    "ax2.yaxis.label.set_size(15)\n",
    "ax2.axvline(5, c='r', ls='--')\n",
    "ax1.legend(loc='upper left', fontsize='x-large')\n",
    "plt.tight_layout()\n",
    "plt.show()"
   ]
  },
  {
   "cell_type": "code",
   "execution_count": null,
   "metadata": {
    "collapsed": true
   },
   "outputs": [],
   "source": [
    "import matplotlib\n",
    "f.savefig(\"ranks_distribution_vertical.pdf\", dpi=600, transparent=True, bbox_inches='tight')"
   ]
  },
  {
   "cell_type": "code",
   "execution_count": null,
   "metadata": {},
   "outputs": [],
   "source": [
    "import collections\n",
    "import matplotlib.pyplot as plt\n",
    "\n",
    "f, (ax1, ax2) = plt.subplots(1, 2, sharey=True, figsize=(10,2.6), dpi=600)\n",
    "\n",
    "colors = ['white', 'lightblue', 'C7']\n",
    "alpha = 0.5\n",
    "\n",
    "counter=collections.Counter(l1)\n",
    "ax1.plot(range(len(l1)), l1, \n",
    "        alpha=alpha, label='LTGL ($\\ell_2^2$)', color=colors[0])\n",
    "counter=collections.Counter(l2)\n",
    "ax1.plot(np.arange(len(l1))+.2, l2, \n",
    "        alpha=alpha,  label='LTGL ($\\ell_1$)', color=colors[1])\n",
    "counter=collections.Counter(l3)\n",
    "ax1.plot(np.arange(len(l1))+.4, l3,\n",
    "        alpha=alpha, label='LVGLASSO', color=colors[2])\n",
    "\n",
    "# ax1.set_xticks(range(15,25, 1))\n",
    "#ax1.set_ylim(0,5)\n",
    "ax1.axhline(20, c='r', ls='--')\n",
    "ax1.set_xlabel(r'ranks of L obtained with ($p_2$)')\n",
    "ax1.set_ylabel('frequency')\n",
    "ax1.xaxis.label.set_size(15)\n",
    "ax1.yaxis.label.set_size(15)\n",
    "\n",
    "#ax1.legend()\n",
    "# ax0.legend(prop={'size': 10})\n",
    "# ax0.set_title('bars with legend')\n",
    "\n",
    "\n",
    "counter=collections.Counter(l4)\n",
    "ax2.plot(range(len(l4)), l4, \n",
    "        alpha=alpha,label='LTGL ($\\ell_2^2$)', color=colors[0])\n",
    "counter=collections.Counter(l5)\n",
    "ax2.plot(np.arange(len(l4))+.2, l5,\n",
    "        alpha=alpha,  label='LTGL ($\\ell_1$)', color=colors[1])\n",
    "counter=collections.Counter(l6)\n",
    "ax2.plot(np.arange(len(l4))+.4, l6, alpha=alpha,label='LVGLASSO', color=colors[2])\n",
    "\n",
    "# ax2.set_xticks(range(10))\n",
    "# ax2.set_xlim(2.5,6.7)\n",
    "ax2.set_xlabel(r'ranks of L obtained with ($p_1$)')\n",
    "ax2.xaxis.label.set_size(15)\n",
    "ax2.axhline(5, c='r', ls='--')\n",
    "ax1.legend(loc='best', fontsize='large')\n",
    "plt.tight_layout()\n",
    "plt.show()"
   ]
  }
 ],
 "metadata": {
  "kernelspec": {
   "display_name": "Python 2",
   "language": "python",
   "name": "python2"
  },
  "language_info": {
   "codemirror_mode": {
    "name": "ipython",
    "version": 2
   },
   "file_extension": ".py",
   "mimetype": "text/x-python",
   "name": "python",
   "nbconvert_exporter": "python",
   "pygments_lexer": "ipython2",
   "version": "2.7.15"
  },
  "varInspector": {
   "cols": {
    "lenName": 16,
    "lenType": 16,
    "lenVar": 40
   },
   "kernels_config": {
    "python": {
     "delete_cmd_postfix": "",
     "delete_cmd_prefix": "del ",
     "library": "var_list.py",
     "varRefreshCmd": "print(var_dic_list())"
    },
    "r": {
     "delete_cmd_postfix": ") ",
     "delete_cmd_prefix": "rm(",
     "library": "var_list.r",
     "varRefreshCmd": "cat(var_dic_list()) "
    }
   },
   "types_to_exclude": [
    "module",
    "function",
    "builtin_function_or_method",
    "instance",
    "_Feature"
   ],
   "window_display": false
  }
 },
 "nbformat": 4,
 "nbformat_minor": 2
}
