{
 "cells": [
  {
   "cell_type": "code",
   "execution_count": 5,
   "metadata": {},
   "outputs": [
    {
     "name": "stdout",
     "output_type": "stream",
     "text": [
      "Populating the interactive namespace from numpy and matplotlib\n"
     ]
    }
   ],
   "source": [
    "%pylab inline\n",
    "\n",
    "import networkx as nx\n",
    "import scipy.sparse\n",
    "from scipy.io import loadmat\n",
    "from sklearn.datasets import make_sparse_spd_matrix\n",
    "from sklearn.utils.extmath import squared_norm\n",
    "from sklearn.covariance import empirical_covariance\n",
    "\n",
    "from regain import datasets\n",
    "from regain.datasets import is_pos_def, is_pos_semidef\n",
    "from regain.plot import plot_graph_with_latent_variables\n",
    "from regain.admm import latent_time_graph_lasso_; reload(latent_time_graph_lasso_)\n",
    "from regain.admm import latent_time_graph_lasso_v2_; reload(latent_time_graph_lasso_v2_)\n",
    "from regain.admm import time_graph_lasso_; reload(time_graph_lasso_);\n",
    "from regain.admm import latent_graph_lasso_; reload(latent_graph_lasso_);\n",
    "from regain.utils import error_norm"
   ]
  },
  {
   "cell_type": "code",
   "execution_count": 6,
   "metadata": {
    "collapsed": true
   },
   "outputs": [],
   "source": [
    "import pandas as pd\n",
    "#data = pd.read_csv(\"/home/fede/src/slipguru/regain/regain/data/gene_chandrasekaran.csv\").values.T\n",
    "#data = pd.read_csv(\"../regain/data/gene_chandrasekaran.csv\").values.T"
   ]
  },
  {
   "cell_type": "code",
   "execution_count": 7,
   "metadata": {
    "collapsed": true
   },
   "outputs": [],
   "source": [
    "# C = loadmat(\"../regain/data/X_output_chandra.mat\")['X1']\n",
    "# C2 = loadmat(\"../regain/data/X2_output_chandra.mat\")['X2']\n",
    "# out_B = loadmat(\"../regain/data/out_B.mat\")\n",
    "# Sigma0 = loadmat(\"../regain/data/Sigma0.mat\")['SigmaO']"
   ]
  },
  {
   "cell_type": "code",
   "execution_count": 8,
   "metadata": {},
   "outputs": [
    {
     "name": "stdout",
     "output_type": "stream",
     "text": [
      "2\n"
     ]
    }
   ],
   "source": [
    "# config\n",
    "n_samples = 100\n",
    "n_dim_obs = 10\n",
    "n_dim_lat = 2\n",
    "T = 10\n",
    "\n",
    "data_list, K, K_obs, ells = datasets.generate_dataset(\n",
    "        mode='fixed', n_samples=n_samples, n_dim_lat=n_dim_lat,\n",
    "        n_dim_obs=n_dim_obs, T=1)\n",
    "print(np.linalg.matrix_rank(ells))"
   ]
  },
  {
   "cell_type": "markdown",
   "metadata": {},
   "source": [
    "## 1. Single timestamp\n",
    "Check if, with only one timestamp, the method behave the same as Chandrasekaran/Ma."
   ]
  },
  {
   "cell_type": "code",
   "execution_count": 9,
   "metadata": {
    "collapsed": true
   },
   "outputs": [],
   "source": [
    "emp_cov = empirical_covariance(data_list[0], assume_centered=False)"
   ]
  },
  {
   "cell_type": "markdown",
   "metadata": {},
   "source": [
    "### 1.1 Do we behave as ourselves with the same functional as Ma?\n",
    "The following is the latent time graphical model inference with only one covariance matrix."
   ]
  },
  {
   "cell_type": "code",
   "execution_count": 10,
   "metadata": {
    "collapsed": true,
    "scrolled": true
   },
   "outputs": [],
   "source": [
    "# results_time = latent_time_graph_lasso_.latent_time_graph_lasso(\n",
    "#         np.array([emp_cov]), alpha=0.05, tau=0.25,\n",
    "#         tol=1e-5, rtol=1e-5, rho=1./ emp_cov.shape[0],\n",
    "#         verbose=0, max_iter=500)"
   ]
  },
  {
   "cell_type": "markdown",
   "metadata": {},
   "source": [
    "We compare it with the code for the latent graphical model inference (without time). <br>\n",
    "Since there is only one covariance matrix, we expect to obtain the same results."
   ]
  },
  {
   "cell_type": "code",
   "execution_count": 11,
   "metadata": {
    "collapsed": true,
    "scrolled": true
   },
   "outputs": [],
   "source": [
    "# results_static = latent_graph_lasso_.latent_graph_lasso(\n",
    "#     emp_cov, alpha=0.05, tau=0.25, tol=1e-5, rtol=1e-5, rho=1. / emp_cov.shape[0],\n",
    "#     verbose=0, max_iter=500)"
   ]
  },
  {
   "cell_type": "code",
   "execution_count": 12,
   "metadata": {},
   "outputs": [],
   "source": [
    "# assert np.all([np.allclose(x, y) for x, y in zip(results_static, results_time)])"
   ]
  },
  {
   "cell_type": "code",
   "execution_count": 13,
   "metadata": {},
   "outputs": [],
   "source": [
    "# assert np.linalg.matrix_rank(results_static[1]) == np.linalg.matrix_rank(results_time[1][0])"
   ]
  },
  {
   "cell_type": "markdown",
   "metadata": {},
   "source": [
    "Now we check if the result is the same as the Chandrasekaran/Ma Matlab algorithm. To do that, we load `pymatbridge`, to run Matlab code directly from Jupyter notebook."
   ]
  },
  {
   "cell_type": "code",
   "execution_count": 14,
   "metadata": {
    "scrolled": true
   },
   "outputs": [
    {
     "name": "stdout",
     "output_type": "stream",
     "text": [
      "Starting MATLAB on ZMQ socket ipc:///tmp/pymatbridge-8b0ce3bc-28e7-48f1-b921-de6234715a0c\n",
      "Send 'exit' command to kill the server\n",
      ".......MATLAB started and connected!\n"
     ]
    }
   ],
   "source": [
    "%load_ext pymatbridge\n",
    "#%matlab cd /home/fede/Downloads/lvglasso-pub/\n",
    "%matlab cd /home/veronica/src/lvglasso-pub/"
   ]
  },
  {
   "cell_type": "code",
   "execution_count": 15,
   "metadata": {
    "collapsed": true
   },
   "outputs": [],
   "source": [
    "# %%matlab -i emp_cov -o R,S,L,obj,res,iter\n",
    "# alpha = 0.05;\n",
    "# beta = 0.25; %beta here is tau\n",
    "\n",
    "# opts.continuation = 1; opts.num_continuation = 10;\n",
    "# opts.eta = 1; opts.muf = 1e-6;\n",
    "# opts.maxiter = 500; opts.stoptol = 1e-5; \n",
    "# opts.over_relax_par = 1;\n",
    "# n = size(emp_cov,1); opts.mu = n;\n",
    "\n",
    "# tic; out_B = ADMM_B(emp_cov,alpha,beta,opts); solve_B = toc;\n",
    "# %%fprintf('ADMM_B: obj: %e, iter: %d, cpu: %3.1f \\n',out_B.obj,out_B.iter,solve_B);\n",
    "\n",
    "# R = out_B.R;\n",
    "# S = out_B.S;\n",
    "# L = out_B.L;\n",
    "# obj = out_B.obj;\n",
    "# res = out_B.resid;\n",
    "# iter = out_B.iter;"
   ]
  },
  {
   "cell_type": "code",
   "execution_count": 16,
   "metadata": {
    "collapsed": true
   },
   "outputs": [],
   "source": [
    "# assert np.all([np.allclose(x, y, atol=1e-4) for x, y in zip(results_static[:-1], (S, L))])"
   ]
  },
  {
   "cell_type": "code",
   "execution_count": 17,
   "metadata": {},
   "outputs": [],
   "source": [
    "# assert np.linalg.matrix_rank(L) == np.linalg.matrix_rank(results_time[1][0])"
   ]
  },
  {
   "cell_type": "markdown",
   "metadata": {},
   "source": [
    "## 2. Time-varying vs separate for each time\n",
    "This is to justify the choice of the additional penalties which constrain subsequent matrices in time to behave similarly."
   ]
  },
  {
   "cell_type": "code",
   "execution_count": 80,
   "metadata": {},
   "outputs": [],
   "source": [
    "# config\n",
    "n_samples = 100\n",
    "n_dim_obs = 10\n",
    "n_dim_lat = 2\n",
    "T = 10\n",
    "\n",
    "data_list, K, K_obs, ells = datasets.generate_dataset(\n",
    "    mode='fixed', n_samples=n_samples, n_dim_lat=n_dim_lat, n_dim_obs=n_dim_obs, T=T)\n",
    "\n",
    "data_grid = np.array(data_list).transpose(1,2,0)  # to use it later for grid search"
   ]
  },
  {
   "cell_type": "markdown",
   "metadata": {},
   "source": [
    "First, we check again if the results are the same with beta and eta is 0."
   ]
  },
  {
   "cell_type": "code",
   "execution_count": 19,
   "metadata": {
    "collapsed": true
   },
   "outputs": [],
   "source": [
    "# emp_cov = np.array([empirical_covariance(data, assume_centered=False) for data in data_list])\n",
    "# emp_list = np.array(emp_cov).transpose(1,2,0)"
   ]
  },
  {
   "cell_type": "code",
   "execution_count": 20,
   "metadata": {
    "collapsed": true,
    "scrolled": true
   },
   "outputs": [],
   "source": [
    "# reload(latent_time_graph_lasso_)\n",
    "# results_time = latent_time_graph_lasso_.latent_time_graph_lasso(\n",
    "#     emp_cov, alpha=0.05, tau=0.25, tol=1e-5, rtol=1e-5, rho=1./ emp_cov.shape[0],\n",
    "#     beta=0, eta=0,\n",
    "#     verbose=0, max_iter=500)"
   ]
  },
  {
   "cell_type": "code",
   "execution_count": 21,
   "metadata": {
    "collapsed": true
   },
   "outputs": [],
   "source": [
    "# results_static = [latent_graph_lasso_.latent_graph_lasso(\n",
    "#     x, alpha=0.05, tau=0.25, tol=1e-5, rtol=1e-5, rho=1. / emp_cov.shape[0],\n",
    "#     verbose=0, max_iter=500) for x in emp_cov]"
   ]
  },
  {
   "cell_type": "code",
   "execution_count": 22,
   "metadata": {},
   "outputs": [],
   "source": [
    "# np.all([np.allclose(results_static[i][0], results_time[0][i], atol=1e-4) for i in range(10)])"
   ]
  },
  {
   "cell_type": "code",
   "execution_count": 23,
   "metadata": {},
   "outputs": [],
   "source": [
    "# np.all([np.linalg.matrix_rank(results_static[i][1]) == np.linalg.matrix_rank(results_time[1][i])\n",
    "#         for i in range(10)])"
   ]
  },
  {
   "cell_type": "code",
   "execution_count": null,
   "metadata": {},
   "outputs": [],
   "source": []
  },
  {
   "cell_type": "code",
   "execution_count": 24,
   "metadata": {},
   "outputs": [],
   "source": [
    "# %%matlab -i emp_list -o R,S,L,obj,res,iter\n",
    "# alpha = 0.05;\n",
    "# beta = 0.25;\n",
    "# opts.continuation = 1; opts.num_continuation = 0;\n",
    "# opts.eta = 1; opts.muf = 1e-6;\n",
    "# opts.maxiter = 500; opts.stoptol = 1e-5; \n",
    "# opts.over_relax_par = 1;\n",
    "\n",
    "# R = cell(1, size(emp_list,3));\n",
    "# S = cell(1, size(emp_list,3));\n",
    "# L = cell(1, size(emp_list,3));\n",
    "# obj = cell(1, size(emp_list,3));\n",
    "# res = cell(1, size(emp_list,3));\n",
    "# iter = cell(1, size(emp_list,3));\n",
    "# for i=1:size(emp_list,3)\n",
    "#     cov = emp_list(:,:,i);\n",
    "#     n = size(cov,1);opts.mu = n;\n",
    "#     tic; out_B = ADMM_B(cov,alpha,beta,opts); solve_B = toc;\n",
    "#     %%fprintf('ADMM_B: obj: %e, iter: %d, cpu: %3.1f \\n',out_B.obj,out_B.iter,solve_B);\n",
    "#     R{i} = out_B.R;\n",
    "#     S{i} = out_B.S;\n",
    "#     L{i} = out_B.L;\n",
    "#     obj{i} = out_B.obj;\n",
    "#     res{i} = out_B.resid;\n",
    "#     iter{i} = out_B.iter;\n",
    "# end"
   ]
  },
  {
   "cell_type": "code",
   "execution_count": 25,
   "metadata": {
    "collapsed": true
   },
   "outputs": [],
   "source": [
    "# RR = results_time[0]\n",
    "# # R = np.array(R)"
   ]
  },
  {
   "cell_type": "code",
   "execution_count": 26,
   "metadata": {
    "collapsed": true
   },
   "outputs": [],
   "source": [
    "# RR[np.abs(RR)<1e-4] = 0\n",
    "# R[np.abs(R)<1e-4] = 0"
   ]
  },
  {
   "cell_type": "code",
   "execution_count": 27,
   "metadata": {},
   "outputs": [],
   "source": [
    "# np.allclose(R, RR, atol=1e-4)"
   ]
  },
  {
   "cell_type": "code",
   "execution_count": 28,
   "metadata": {
    "collapsed": true
   },
   "outputs": [],
   "source": [
    "# L = np.array(L)\n",
    "# LL = results_time[1]"
   ]
  },
  {
   "cell_type": "code",
   "execution_count": 29,
   "metadata": {},
   "outputs": [],
   "source": [
    "# ranks_ma = [np.linalg.matrix_rank(l)for l in L]\n",
    "# ranks_ours = [np.linalg.matrix_rank(l)for l in LL]\n",
    "# print(ranks_ma)\n",
    "# print(ranks_ours)\n",
    "# np.all([np.linalg.matrix_rank(l) == np.linalg.matrix_rank(ll) for l, ll in zip(L, LL)])"
   ]
  },
  {
   "cell_type": "markdown",
   "metadata": {},
   "source": [
    "# Real shit\n",
    "\n",
    "We now checked that in the limit case of one time and in the case in which we do not consider the penalties that involve time we perform equivalentely (w.r.t. to a tollerance of 1e-4). Now, with CV on the parameters on synhtetic data generated with norm2 we want to see if our method performs better than the one of Chandresekeran applied on different time stamps. "
   ]
  },
  {
   "cell_type": "code",
   "execution_count": 99,
   "metadata": {},
   "outputs": [],
   "source": [
    "from sklearn.model_selection import GridSearchCV, ShuffleSplit\n",
    "from regain import utils; reload(utils)\n",
    "from regain.admm import latent_time_graph_lasso_; reload(latent_time_graph_lasso_);\n",
    "from regain.admm.latent_time_graph_lasso_ import LatentTimeGraphLasso\n",
    "\n",
    "ltgl = GridSearchCV(LatentTimeGraphLasso(bypass_transpose=False, assume_centered=False),\n",
    "                    dict(tau=np.logspace(5,10,5), eta=np.logspace(-1,0,2),\n",
    "                         alpha=np.logspace(-1,2,5), beta=np.logspace(-1,1,2)),\n",
    "                    cv=ShuffleSplit(10)).fit(data_grid)"
   ]
  },
  {
   "cell_type": "code",
   "execution_count": 100,
   "metadata": {},
   "outputs": [],
   "source": [
    "# from palladio import plotting; reload(plotting);\n",
    "# plotting.score_surfaces_gridsearch(ltgl, indep_vars=['tau','eta'], logspace=['tau','eta'])"
   ]
  },
  {
   "cell_type": "code",
   "execution_count": 101,
   "metadata": {},
   "outputs": [],
   "source": [
    "emp_list = list(ltgl.best_estimator_.covariance_)\n",
    "alpha = ltgl.best_params_['alpha']\n",
    "beta = ltgl.best_params_['beta']\n",
    "tau = ltgl.best_params_['tau']\n",
    "#print(tau)"
   ]
  },
  {
   "cell_type": "code",
   "execution_count": 102,
   "metadata": {},
   "outputs": [],
   "source": [
    "%%matlab -i emp_list,alpha,beta,tau -o R,S,L,obj,res,iter\n",
    "%alpha = 0.05;\n",
    "%beta = 0.25*100;\n",
    "opts.continuation = 1; opts.num_continuation = 10;\n",
    "opts.eta = 1; opts.muf = 1e-6;\n",
    "opts.maxiter = 500; opts.stoptol = 1e-5; \n",
    "opts.over_relax_par = 1;\n",
    "\n",
    "R = []; S = []; L=[];obj=[];res=[];iter=[];\n",
    "for i=1:size(emp_list,3)\n",
    "    cov = emp_list(:,:,i);\n",
    "    n = size(cov,1);opts.mu = n;\n",
    "    tic; out_B = ADMM_B(cov,alpha,tau,opts); solve_B = toc;\n",
    "    %%fprintf('ADMM_B: obj: %e, iter: %d, cpu: %3.1f \\n',out_B.obj,out_B.iter,solve_B);\n",
    "    R = [R; out_B.R];\n",
    "    S = [S; out_B.R];\n",
    "    L = [L; out_B.R];\n",
    "    obj = [obj; out_B.R];\n",
    "    res = [res; out_B.resid];\n",
    "    iter = [iter; out_B.iter];\n",
    "end"
   ]
  },
  {
   "cell_type": "code",
   "execution_count": 103,
   "metadata": {
    "collapsed": true
   },
   "outputs": [],
   "source": [
    "R_ar = np.array([R[i*R.shape[1]:(i+1)*R.shape[1]] for i in range(R.shape[0]/R.shape[1])])\n",
    "L_ar = np.array([L[i*L.shape[1]:(i+1)*L.shape[1]] for i in range(L.shape[0]/L.shape[1])])\n",
    "K_obs = np.array(K_obs) # K_obs is the matrix of observed samples\n",
    "K = np.array(K) # K is the real precision matrix\n",
    "ells = np.array(ells) # the latent matrices"
   ]
  },
  {
   "cell_type": "markdown",
   "metadata": {},
   "source": [
    "### Error obtained w.r.t. the observed data"
   ]
  },
  {
   "cell_type": "code",
   "execution_count": 104,
   "metadata": {},
   "outputs": [
    {
     "data": {
      "text/plain": [
       "0.20635931151276293"
      ]
     },
     "execution_count": 104,
     "metadata": {},
     "output_type": "execute_result"
    }
   ],
   "source": [
    "\n",
    "error_norm(ltgl.best_estimator_.precision_, K_obs)"
   ]
  },
  {
   "cell_type": "code",
   "execution_count": 105,
   "metadata": {
    "scrolled": true
   },
   "outputs": [
    {
     "data": {
      "text/plain": [
       "0.4189939497319296"
      ]
     },
     "execution_count": 105,
     "metadata": {},
     "output_type": "execute_result"
    }
   ],
   "source": [
    "error_norm(R_ar, K_obs)\n",
    "#print(ells)"
   ]
  },
  {
   "cell_type": "markdown",
   "metadata": {},
   "source": [
    "### Error obtained w.r.t. the real data"
   ]
  },
  {
   "cell_type": "code",
   "execution_count": 106,
   "metadata": {},
   "outputs": [
    {
     "name": "stdout",
     "output_type": "stream",
     "text": [
      "0.206177002564\n",
      "0.0136856917139\n"
     ]
    }
   ],
   "source": [
    "print(error_norm(ltgl.best_estimator_.precision_, K))\n",
    "print(error_norm(ltgl.best_estimator_.latent_, ells))"
   ]
  },
  {
   "cell_type": "code",
   "execution_count": 107,
   "metadata": {},
   "outputs": [
    {
     "name": "stdout",
     "output_type": "stream",
     "text": [
      "0.423528523636\n",
      "9.38696017898\n"
     ]
    }
   ],
   "source": [
    "print(error_norm(R_ar, K))\n",
    "print(error_norm(L_ar, ells))"
   ]
  },
  {
   "cell_type": "markdown",
   "metadata": {
    "collapsed": true
   },
   "source": [
    "### Error in ranks"
   ]
  },
  {
   "cell_type": "code",
   "execution_count": 108,
   "metadata": {},
   "outputs": [
    {
     "name": "stdout",
     "output_type": "stream",
     "text": [
      "[10, 10, 10, 10, 10, 10, 10, 10, 10, 10]\n",
      "[10, 10, 10, 10, 10, 10, 10, 10, 10, 10]\n",
      "2\n"
     ]
    }
   ],
   "source": [
    "ells_estimated = ltgl.best_estimator_.latent_\n",
    "print [np.linalg.matrix_rank(ells_estimated[i]) for i in range(ells_estimated.shape[0])]\n",
    "print [np.linalg.matrix_rank(L_ar[i]) for i in range(ells_estimated.shape[0])]\n",
    "print np.linalg.matrix_rank(ells)"
   ]
  },
  {
   "cell_type": "code",
   "execution_count": 109,
   "metadata": {
    "collapsed": true
   },
   "outputs": [],
   "source": [
    "es, Q = np.linalg.eigh(ells_estimated[0])"
   ]
  },
  {
   "cell_type": "markdown",
   "metadata": {
    "scrolled": false
   },
   "source": [
    "### Error in structure"
   ]
  },
  {
   "cell_type": "code",
   "execution_count": 110,
   "metadata": {},
   "outputs": [
    {
     "name": "stdout",
     "output_type": "stream",
     "text": [
      "44\n",
      "40\n",
      "64\n",
      "48\n",
      "48\n",
      "44\n",
      "48\n",
      "54\n",
      "48\n",
      "42\n"
     ]
    }
   ],
   "source": [
    "for true, predict in zip(K.copy(), ltgl.best_estimator_.precision_.copy()):\n",
    "    predict[np.abs(predict)<1e-2] = 0\n",
    "    true[true != 0] = 1\n",
    "    predict[predict != 0] = 1\n",
    "    res = true+predict\n",
    "    #print(res)\n",
    "    #print(res==1)\n",
    "    print np.count_nonzero((res==1).astype(int))"
   ]
  },
  {
   "cell_type": "code",
   "execution_count": null,
   "metadata": {
    "collapsed": true
   },
   "outputs": [],
   "source": []
  }
 ],
 "metadata": {
  "kernelspec": {
   "display_name": "Python 2",
   "language": "python",
   "name": "python2"
  },
  "language_info": {
   "codemirror_mode": {
    "name": "ipython",
    "version": 2
   },
   "file_extension": ".py",
   "mimetype": "text/x-python",
   "name": "python",
   "nbconvert_exporter": "python",
   "pygments_lexer": "ipython2",
   "version": "2.7.13"
  }
 },
 "nbformat": 4,
 "nbformat_minor": 2
}
