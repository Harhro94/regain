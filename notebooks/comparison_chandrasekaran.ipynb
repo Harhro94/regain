{
 "cells": [
  {
   "cell_type": "code",
   "execution_count": 22,
   "metadata": {},
   "outputs": [],
   "source": [
    "import numpy as np\n",
    "from sklearn.covariance import empirical_covariance\n",
    "\n",
    "from regain import datasets\n",
    "from regain.admm import latent_time_graph_lasso_; reload(latent_time_graph_lasso_)\n",
    "from regain.admm import latent_graph_lasso_; reload(latent_graph_lasso_);"
   ]
  },
  {
   "cell_type": "code",
   "execution_count": 23,
   "metadata": {},
   "outputs": [],
   "source": [
    "# config\n",
    "n_samples = 100\n",
    "n_dim_obs = 10\n",
    "n_dim_lat = 2\n",
    "T = 10\n",
    "\n",
    "dataset = datasets.generate_dataset(\n",
    "        mode='fixed', n_samples=n_samples, n_dim_lat=n_dim_lat,\n",
    "        n_dim_obs=n_dim_obs, T=T)\n",
    "\n",
    "# assert np.linalg.matrix_rank(ells) == n_dim_lat"
   ]
  },
  {
   "cell_type": "markdown",
   "metadata": {},
   "source": [
    "## 1. Single timestamp\n",
    "Check if, with only one timestamp, the method behave the same as Chandrasekaran/Ma."
   ]
  },
  {
   "cell_type": "code",
   "execution_count": 24,
   "metadata": {},
   "outputs": [],
   "source": [
    "emp_cov = empirical_covariance(dataset.data[0], assume_centered=False)"
   ]
  },
  {
   "cell_type": "markdown",
   "metadata": {},
   "source": [
    "### 1.1 Do we behave as ourselves with the same functional as Ma?\n",
    "The following is the latent time graphical model inference with only one covariance matrix."
   ]
  },
  {
   "cell_type": "code",
   "execution_count": 25,
   "metadata": {
    "scrolled": true
   },
   "outputs": [],
   "source": [
    "results_time = latent_time_graph_lasso_.latent_time_graph_lasso(\n",
    "    np.array([emp_cov]), alpha=0.05, tau=0.25,\n",
    "    tol=1e-5, rtol=1e-5, rho=1./ emp_cov.shape[0],\n",
    "    verbose=0, max_iter=500)"
   ]
  },
  {
   "cell_type": "markdown",
   "metadata": {},
   "source": [
    "We compare it with the code for the latent graphical model inference (without time). <br>\n",
    "Since there is only one covariance matrix, we expect to obtain the same results."
   ]
  },
  {
   "cell_type": "code",
   "execution_count": 26,
   "metadata": {
    "scrolled": true
   },
   "outputs": [],
   "source": [
    "results_static = latent_graph_lasso_.latent_graph_lasso(\n",
    "    emp_cov, alpha=0.05, tau=0.25, \n",
    "    tol=1e-5, rtol=1e-5, rho=1. / emp_cov.shape[0],\n",
    "    verbose=0, max_iter=500)"
   ]
  },
  {
   "cell_type": "code",
   "execution_count": 30,
   "metadata": {},
   "outputs": [],
   "source": [
    "assert np.all([np.allclose(x, y) for x, y in zip(results_static, results_time)])"
   ]
  },
  {
   "cell_type": "code",
   "execution_count": 31,
   "metadata": {},
   "outputs": [],
   "source": [
    "assert np.linalg.matrix_rank(results_static[1]) == np.linalg.matrix_rank(results_time[1][0])"
   ]
  },
  {
   "cell_type": "markdown",
   "metadata": {},
   "source": [
    "Now we check if the result is the same as the Chandrasekaran/Ma Matlab algorithm. To do that, we load `matlab.engine`, to run Matlab code directly from Python. It requires Matlab 2016 or higher installed."
   ]
  },
  {
   "cell_type": "code",
   "execution_count": 43,
   "metadata": {},
   "outputs": [],
   "source": [
    "import matlab.engine\n",
    "eng = matlab.engine.start_matlab()\n",
    "eng.addpath(r'/home/fede/src/slipguru/regain/regain/wrapper/lvglasso/',nargout=0)"
   ]
  },
  {
   "cell_type": "code",
   "execution_count": 44,
   "metadata": {},
   "outputs": [],
   "source": [
    "from sklearn.datasets.base import Bunch\n",
    "result = eng.ADMM_MA_single_time(matlab.double(emp_cov.tolist()),0.05,0.25)\n",
    "ma_output = Bunch(**result)\n",
    "\n",
    "ma_output.R = np.array(ma_output.R)\n",
    "ma_output.S = np.array(ma_output.S)\n",
    "ma_output.L = np.array(ma_output.L)"
   ]
  },
  {
   "cell_type": "code",
   "execution_count": 46,
   "metadata": {},
   "outputs": [],
   "source": [
    "assert np.all([np.allclose(x, y, atol=1e-4) for x, y in zip(results_static[:-1], (ma_output.S, ma_output.L))])"
   ]
  },
  {
   "cell_type": "code",
   "execution_count": 48,
   "metadata": {},
   "outputs": [],
   "source": [
    "assert np.linalg.matrix_rank(ma_output.L) == np.linalg.matrix_rank(results_time[1][0])"
   ]
  },
  {
   "cell_type": "markdown",
   "metadata": {},
   "source": [
    "## 2. Time-varying vs separate for each time\n",
    "This is to justify the choice of the additional penalties which constrain subsequent matrices in time to behave similarly."
   ]
  },
  {
   "cell_type": "code",
   "execution_count": 49,
   "metadata": {},
   "outputs": [],
   "source": [
    "reload(datasets)\n",
    "# config\n",
    "n_samples = 100\n",
    "n_dim_obs = 10\n",
    "n_dim_lat = 2\n",
    "T = 10\n",
    "\n",
    "dataset = datasets.generate_dataset(\n",
    "    mode='fixed', n_samples=n_samples, n_dim_lat=n_dim_lat, n_dim_obs=n_dim_obs, T=T)\n",
    "\n",
    "data_grid = np.array(dataset.data).transpose(1,2,0)  # to use it later for grid search"
   ]
  },
  {
   "cell_type": "markdown",
   "metadata": {},
   "source": [
    "First, we check again if the results are the same with beta and eta is 0."
   ]
  },
  {
   "cell_type": "code",
   "execution_count": 50,
   "metadata": {},
   "outputs": [],
   "source": [
    "emp_cov = np.array([empirical_covariance(data, assume_centered=False) for data in dataset.data])\n",
    "emp_list = np.array(emp_cov).transpose(1,2,0)"
   ]
  },
  {
   "cell_type": "code",
   "execution_count": 51,
   "metadata": {
    "scrolled": true
   },
   "outputs": [],
   "source": [
    "reload(latent_time_graph_lasso_)\n",
    "results_time = latent_time_graph_lasso_.latent_time_graph_lasso(\n",
    "    emp_cov, alpha=0.05, tau=0.25, tol=1e-5, rtol=1e-5, rho=1./ emp_cov.shape[0],\n",
    "    beta=0, eta=0,\n",
    "    verbose=0, max_iter=500)"
   ]
  },
  {
   "cell_type": "code",
   "execution_count": 53,
   "metadata": {},
   "outputs": [],
   "source": [
    "results_static = [latent_graph_lasso_.latent_graph_lasso(\n",
    "    x, alpha=0.05, tau=0.25, tol=1e-5, rtol=1e-5, rho=1. / emp_cov.shape[0],\n",
    "    verbose=0, max_iter=500) for x in emp_cov]"
   ]
  },
  {
   "cell_type": "code",
   "execution_count": 54,
   "metadata": {},
   "outputs": [
    {
     "data": {
      "text/plain": [
       "True"
      ]
     },
     "execution_count": 54,
     "metadata": {},
     "output_type": "execute_result"
    }
   ],
   "source": [
    "np.all([np.allclose(results_static[i][0], results_time[0][i], atol=1e-4) for i in range(10)])"
   ]
  },
  {
   "cell_type": "code",
   "execution_count": 55,
   "metadata": {},
   "outputs": [
    {
     "data": {
      "text/plain": [
       "True"
      ]
     },
     "execution_count": 55,
     "metadata": {},
     "output_type": "execute_result"
    }
   ],
   "source": [
    "np.all([np.linalg.matrix_rank(results_static[i][1]) == np.linalg.matrix_rank(results_time[1][i])\n",
    "        for i in range(10)])"
   ]
  },
  {
   "cell_type": "code",
   "execution_count": 57,
   "metadata": {},
   "outputs": [],
   "source": [
    "result = eng.ADMMMA(matlab.double(emp_list.tolist()),float(0.05),float(0.25))\n",
    "ma_output = Bunch(**result)\n",
    "\n",
    "ma_output.R = np.array(ma_output.R)\n",
    "ma_output.S = np.array(ma_output.S)\n",
    "ma_output.L = np.array(ma_output.L)"
   ]
  },
  {
   "cell_type": "code",
   "execution_count": 59,
   "metadata": {},
   "outputs": [],
   "source": [
    "RR = results_time[0]\n",
    "R = np.array(ma_output.R)"
   ]
  },
  {
   "cell_type": "code",
   "execution_count": 60,
   "metadata": {},
   "outputs": [],
   "source": [
    "RR[np.abs(RR)<1e-4] = 0\n",
    "R[np.abs(R)<1e-4] = 0"
   ]
  },
  {
   "cell_type": "code",
   "execution_count": 62,
   "metadata": {},
   "outputs": [
    {
     "data": {
      "text/plain": [
       "True"
      ]
     },
     "execution_count": 62,
     "metadata": {},
     "output_type": "execute_result"
    }
   ],
   "source": [
    "np.allclose(R, RR, atol=1e-3)"
   ]
  },
  {
   "cell_type": "code",
   "execution_count": 63,
   "metadata": {},
   "outputs": [],
   "source": [
    "L = np.array(ma_output.L)\n",
    "LL = results_time[1]"
   ]
  },
  {
   "cell_type": "code",
   "execution_count": 64,
   "metadata": {},
   "outputs": [
    {
     "name": "stdout",
     "output_type": "stream",
     "text": [
      "[0, 0, 0, 0, 0, 0, 0, 0, 0, 0]\n",
      "[0, 0, 0, 0, 0, 0, 0, 0, 0, 0]\n"
     ]
    },
    {
     "data": {
      "text/plain": [
       "True"
      ]
     },
     "execution_count": 64,
     "metadata": {},
     "output_type": "execute_result"
    }
   ],
   "source": [
    "ranks_ma = [np.linalg.matrix_rank(l)for l in L]\n",
    "ranks_ours = [np.linalg.matrix_rank(l)for l in LL]\n",
    "print(ranks_ma)\n",
    "print(ranks_ours)\n",
    "np.all([np.linalg.matrix_rank(l) == np.linalg.matrix_rank(ll) for l, ll in zip(L, LL)])"
   ]
  },
  {
   "cell_type": "code",
   "execution_count": null,
   "metadata": {},
   "outputs": [],
   "source": []
  },
  {
   "cell_type": "code",
   "execution_count": null,
   "metadata": {},
   "outputs": [],
   "source": []
  },
  {
   "cell_type": "code",
   "execution_count": null,
   "metadata": {},
   "outputs": [],
   "source": []
  },
  {
   "cell_type": "markdown",
   "metadata": {},
   "source": [
    "# Real shit\n",
    "\n",
    "We now checked that in the limit case of one time and in the case in which we do not consider the penalties that involve time we perform equivalentely (w.r.t. to a tolerance of 1e-4). Now, with CV on the parameters on synhtetic data generated with norm2 we want to see if our method performs better than the one of Chandresekeran applied on different time stamps. "
   ]
  },
  {
   "cell_type": "code",
   "execution_count": 249,
   "metadata": {
    "scrolled": false
   },
   "outputs": [],
   "source": [
    "from sklearn.model_selection import GridSearchCV, ShuffleSplit\n",
    "from regain import utils; reload(utils)\n",
    "from regain.admm import latent_time_graph_lasso_; reload(latent_time_graph_lasso_);\n",
    "from regain.admm.latent_time_graph_lasso_ import LatentTimeGraphLasso\n",
    "\n",
    "ltgl = GridSearchCV(LatentTimeGraphLasso(bypass_transpose=False, assume_centered=False),\n",
    "                    dict(tau=np.logspace(-1,0,2), eta=[0],\n",
    "                         alpha=np.logspace(-1,2,2), beta=[0]),\n",
    "                    cv=ShuffleSplit(10)).fit(data_grid)"
   ]
  },
  {
   "cell_type": "code",
   "execution_count": 196,
   "metadata": {},
   "outputs": [
    {
     "data": {
      "image/png": "[encoded data removed]",
      "text/plain": [
       "<matplotlib.figure.Figure at 0x7fe120b8c810>"
      ]
     },
     "metadata": {},
     "output_type": "display_data"
    }
   ],
   "source": [
    "from palladio import plotting; reload(plotting);\n",
    "plotting.score_surfaces_gridsearch(ltgl, indep_vars=['tau','eta'], logspace=['tau','eta'])"
   ]
  },
  {
   "cell_type": "code",
   "execution_count": 166,
   "metadata": {},
   "outputs": [],
   "source": [
    "emp_list = list(ltgl.best_estimator_.covariance_)\n",
    "alpha = ltgl.best_params_['alpha']\n",
    "beta = ltgl.best_params_['beta']\n",
    "tau = ltgl.best_params_['tau']"
   ]
  },
  {
   "cell_type": "code",
   "execution_count": 153,
   "metadata": {},
   "outputs": [],
   "source": [
    "from regain.admm import latent_graph_lasso_; reload(latent_graph_lasso_)\n",
    "precs = []\n",
    "lats = []\n",
    "covss = []\n",
    "for i in range(len(data_list)):\n",
    "    lgl = latent_graph_lasso_.LatentGraphLasso(tau=tau, alpha=alpha, assume_centered=False).fit(data_list[i])\n",
    "    precs.append(lgl.precision_)\n",
    "    lats.append(lgl.latent_)\n",
    "    covss.append(lgl.covariance_)"
   ]
  },
  {
   "cell_type": "code",
   "execution_count": 160,
   "metadata": {},
   "outputs": [
    {
     "data": {
      "text/plain": [
       "True"
      ]
     },
     "execution_count": 160,
     "metadata": {},
     "output_type": "execute_result"
    }
   ],
   "source": [
    "np.allclose(np.array(precs), R_ar + L_ar, atol=1e-2)"
   ]
  },
  {
   "cell_type": "code",
   "execution_count": 129,
   "metadata": {},
   "outputs": [],
   "source": [
    "%%matlab -i emp_list,alpha,beta,tau -o R,S,L,obj,res,iter\n",
    "%alpha = 0.05;\n",
    "%beta = 0.25*100;\n",
    "opts.continuation = 1; opts.num_continuation = 10;\n",
    "opts.eta = 1; opts.muf = 1e-6;\n",
    "opts.maxiter = 500; opts.stoptol = 1e-5; \n",
    "opts.over_relax_par = 1;\n",
    "\n",
    "R = []; S = []; L=[];obj=[];res=[];iter=[];\n",
    "for i=1:size(emp_list,3)\n",
    "    cov = emp_list(:,:,i);\n",
    "    n = size(cov,1);opts.mu = n;\n",
    "    tic; out_B = ADMM_B(cov,alpha,tau,opts); solve_B = toc;\n",
    "    %%fprintf('ADMM_B: obj: %e, iter: %d, cpu: %3.1f \\n',out_B.obj,out_B.iter,solve_B);\n",
    "    R = [R; out_B.R];\n",
    "    S = [S; out_B.S];\n",
    "    L = [L; out_B.L];\n",
    "    obj = [obj; out_B.obj];\n",
    "    res = [res; out_B.resid];\n",
    "    iter = [iter; out_B.iter];\n",
    "end"
   ]
  },
  {
   "cell_type": "code",
   "execution_count": 130,
   "metadata": {},
   "outputs": [],
   "source": [
    "R_ar = np.array([R[i*R.shape[1]:(i+1)*R.shape[1]] for i in range(R.shape[0]/R.shape[1])])\n",
    "L_ar = np.array([L[i*L.shape[1]:(i+1)*L.shape[1]] for i in range(L.shape[0]/L.shape[1])])\n",
    "K_obs = np.array(K_obs) # K_obs is the matrix of observed samples\n",
    "K = np.array(K) # K is the real precision matrix\n",
    "ells = np.array(ells) # the latent matrices"
   ]
  },
  {
   "cell_type": "markdown",
   "metadata": {},
   "source": [
    "### Error obtained w.r.t. the observed data"
   ]
  },
  {
   "cell_type": "code",
   "execution_count": 131,
   "metadata": {},
   "outputs": [
    {
     "name": "stdout",
     "output_type": "stream",
     "text": [
      "Error norm time with observed precision: \n",
      " Ours: 0.055\n",
      " Ma: 0.049\n"
     ]
    }
   ],
   "source": [
    "print(\"Error norm time with observed precision: \\n Ours: {:.3f}\\n Ma: {:.3f}\".format(\n",
    "      error_norm_time(ltgl.best_estimator_.precision_, K_obs),\n",
    "      error_norm_time(R_ar + L_ar, K_obs)))"
   ]
  },
  {
   "cell_type": "markdown",
   "metadata": {},
   "source": [
    "### Error obtained w.r.t. the real data"
   ]
  },
  {
   "cell_type": "code",
   "execution_count": 169,
   "metadata": {},
   "outputs": [
    {
     "name": "stdout",
     "output_type": "stream",
     "text": [
      "Error norm time of ours: \n",
      " Precision: 0.061\n",
      " Latent: 0.010\n",
      "\n",
      "Error norm time of Ma: \n",
      " Precision: 0.049\n",
      " Latent: 0.020\n"
     ]
    }
   ],
   "source": [
    "print(\"Error norm time of ours: \\n Precision: {:.3f}\\n Latent: {:.3f}\\n\".format(\n",
    "      error_norm_time(ltgl.best_estimator_.precision_, K),\n",
    "      error_norm_time(ltgl.best_estimator_.latent_, ells)))\n",
    "\n",
    "print(\"Error norm time of Ma: \\n Precision: {:.3f}\\n Latent: {:.3f}\".format(\n",
    "      error_norm_time(R_ar + L_ar, K),\n",
    "      error_norm_time(L_ar, ells)))"
   ]
  },
  {
   "cell_type": "markdown",
   "metadata": {
    "collapsed": true
   },
   "source": [
    "### Error in ranks"
   ]
  },
  {
   "cell_type": "code",
   "execution_count": 253,
   "metadata": {},
   "outputs": [
    {
     "name": "stdout",
     "output_type": "stream",
     "text": [
      "[10, 10, 10, 10, 10, 10, 10, 10, 9, 10]\n",
      "[3, 3, 3, 4, 3, 3, 3, 2, 2, 3]\n",
      "[3, 3, 3, 4, 3, 3, 3, 2, 2, 3]\n",
      "[2 2 2 2 2 2 2 2 2 2]\n"
     ]
    }
   ],
   "source": [
    "ltgl.best_estimator_.set_params(beta=1e12,eta=1e12).fit(data_grid)\n",
    "print [np.linalg.matrix_rank(i) for i in ltgl.best_estimator_.latent_]\n",
    "print [np.linalg.matrix_rank(i) for i in L_ar]\n",
    "print [np.linalg.matrix_rank(i) for i in lats]\n",
    "print np.linalg.matrix_rank(ells)"
   ]
  },
  {
   "cell_type": "code",
   "execution_count": 277,
   "metadata": {},
   "outputs": [
    {
     "data": {
      "text/plain": [
       "0.10000000000000001"
      ]
     },
     "execution_count": 277,
     "metadata": {},
     "output_type": "execute_result"
    }
   ],
   "source": [
    "ltgl.best_params_['tau']"
   ]
  },
  {
   "cell_type": "code",
   "execution_count": 291,
   "metadata": {},
   "outputs": [
    {
     "name": "stdout",
     "output_type": "stream",
     "text": [
      "[4, 4, 4, 4, 3, 3, 4, 2, 4]\n"
     ]
    }
   ],
   "source": [
    "reload(latent_time_graph_lasso_)\n",
    "results_time = latent_time_graph_lasso_.latent_time_graph_lasso(\n",
    "    emp_cov, alpha=0.05, tau=.05, tol=1e-5, rtol=1e-5, rho=1./ emp_cov.shape[0],\n",
    "    beta=0, eta=0,\n",
    "    verbose=0, max_iter=500)\n",
    "\n",
    "print [np.linalg.matrix_rank(i) for i in results_time[3]]"
   ]
  },
  {
   "cell_type": "code",
   "execution_count": 294,
   "metadata": {},
   "outputs": [
    {
     "name": "stdout",
     "output_type": "stream",
     "text": [
      "[3, 2, 3, 2, 3, 2, 2, 1, 2, 3]\n"
     ]
    }
   ],
   "source": [
    "from regain.admm import latent_time_graph_lasso_v3_\n",
    "reload(latent_time_graph_lasso_v3_)\n",
    "results_time = latent_time_graph_lasso_v3_.latent_time_graph_lasso(\n",
    "    emp_cov, alpha=0.05, tau=.05, tol=1e-5, rtol=1e-5, rho=1./ emp_cov.shape[0],\n",
    "    beta=0, eta=1e-16,\n",
    "    verbose=0, max_iter=500)\n",
    "\n",
    "print [np.linalg.matrix_rank(i) for i in results_time[1]]"
   ]
  },
  {
   "cell_type": "code",
   "execution_count": 135,
   "metadata": {},
   "outputs": [],
   "source": [
    "es, Q = np.linalg.eigh(ells_estimated[0])"
   ]
  },
  {
   "cell_type": "markdown",
   "metadata": {
    "scrolled": false
   },
   "source": [
    "### Error in structure"
   ]
  },
  {
   "cell_type": "code",
   "execution_count": 138,
   "metadata": {},
   "outputs": [
    {
     "name": "stdout",
     "output_type": "stream",
     "text": [
      "46\n",
      "56\n",
      "66\n",
      "64\n",
      "58\n",
      "64\n",
      "52\n",
      "54\n",
      "60\n",
      "64\n"
     ]
    }
   ],
   "source": [
    "for true, predict in zip(K.copy(), ltgl.best_estimator_.precision_.copy()):\n",
    "    predict[np.abs(predict)<1e-2] = 0\n",
    "    true[true != 0] = 1\n",
    "    predict[predict != 0] = 1\n",
    "    res = true+predict\n",
    "    #print(res)\n",
    "    #print(res==1)\n",
    "    print np.count_nonzero((res==1).astype(int))"
   ]
  }
 ],
 "metadata": {
  "kernelspec": {
   "display_name": "Python 2",
   "language": "python",
   "name": "python2"
  },
  "language_info": {
   "codemirror_mode": {
    "name": "ipython",
    "version": 2
   },
   "file_extension": ".py",
   "mimetype": "text/x-python",
   "name": "python",
   "nbconvert_exporter": "python",
   "pygments_lexer": "ipython2",
   "version": "2.7.14"
  }
 },
 "nbformat": 4,
 "nbformat_minor": 2
}
