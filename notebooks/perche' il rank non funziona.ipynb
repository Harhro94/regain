{
 "cells": [
  {
   "cell_type": "code",
   "execution_count": 1,
   "metadata": {},
   "outputs": [
    {
     "name": "stdout",
     "output_type": "stream",
     "text": [
      "Populating the interactive namespace from numpy and matplotlib\n"
     ]
    }
   ],
   "source": [
    "%pylab inline\n",
    "\n",
    "import networkx as nx\n",
    "import scipy.sparse\n",
    "import pandas as pd\n",
    "from scipy.io import loadmat\n",
    "from sklearn.datasets import make_sparse_spd_matrix\n",
    "from sklearn.utils.extmath import squared_norm\n",
    "from sklearn.covariance import empirical_covariance\n",
    "\n",
    "from regain import datasets; reload(datasets)\n",
    "from regain.datasets import is_pos_def, is_pos_semidef\n",
    "from regain.plot import plot_graph_with_latent_variables\n",
    "from regain.admm import latent_time_graph_lasso_; reload(latent_time_graph_lasso_)\n",
    "from regain.admm import latent_time_graph_lasso_v2_; reload(latent_time_graph_lasso_v2_)\n",
    "from regain.admm import latent_time_graph_lasso_v3_; reload(latent_time_graph_lasso_v3_)\n",
    "from regain.admm import time_graph_lasso_; reload(time_graph_lasso_);\n",
    "from regain.admm import latent_graph_lasso_; reload(latent_graph_lasso_);\n",
    "from regain.utils import error_norm"
   ]
  },
  {
   "cell_type": "code",
   "execution_count": 2,
   "metadata": {},
   "outputs": [
    {
     "name": "stderr",
     "output_type": "stream",
     "text": [
      "/home/fede/miniconda2/lib/python2.7/site-packages/IPython/nbformat.py:13: ShimWarning: The `IPython.nbformat` package has been deprecated since IPython 4.0. You should import from nbformat instead.\n",
      "  \"You should import from nbformat instead.\", ShimWarning)\n"
     ]
    },
    {
     "name": "stdout",
     "output_type": "stream",
     "text": [
      "Starting MATLAB on ZMQ socket ipc:///tmp/pymatbridge-7c3fcd0a-69fe-4b9b-a3b0-1d82cb892ab2\n",
      "Send 'exit' command to kill the server\n",
      "........MATLAB started and connected!\n"
     ]
    }
   ],
   "source": [
    "%load_ext pymatbridge\n",
    "%matlab cd /home/fede/Downloads/lvglasso-pub/\n",
    "# %matlab cd /home/veronica/src/lvglasso-pub/"
   ]
  },
  {
   "cell_type": "code",
   "execution_count": 3,
   "metadata": {},
   "outputs": [],
   "source": [
    "#data = pd.read_csv(\"../regain/data/gene_chandrasekaran.csv\").values.T"
   ]
  },
  {
   "cell_type": "code",
   "execution_count": 4,
   "metadata": {},
   "outputs": [],
   "source": [
    "#admat(\"../regain/data/X_output_chandra.mat\")['X1']\n",
    "# C2 = loadmat(\"../regain/data/X2_output_chandra.mat\")['X2']\n",
    "# out_B = loadmat(\"../regain/data/out_B.mat\")\n",
    "# SigmaO = loadmat(\"../regain/data/SigmaO.mat\")"
   ]
  },
  {
   "cell_type": "code",
   "execution_count": 5,
   "metadata": {},
   "outputs": [],
   "source": [
    "#emp_cov = empirical_covariance(data_list[0], assume_centered=False)"
   ]
  },
  {
   "cell_type": "code",
   "execution_count": null,
   "metadata": {},
   "outputs": [],
   "source": [
    "# data_list.shape\n",
    "# data_grid = np.array(data_list).transpose(1,2,0)\n",
    "data_list, K, K_obs, ells = datasets.generate_dataset(\n",
    "     mode='fixed', n_samples=n_samples, n_dim_lat=n_dim_lat, n_dim_obs=input_dim, T=T)"
   ]
  },
  {
   "cell_type": "code",
   "execution_count": 6,
   "metadata": {},
   "outputs": [
    {
     "name": "stdout",
     "output_type": "stream",
     "text": [
      "5\n"
     ]
    }
   ],
   "source": [
    "# config\n",
    "reload(datasets)\n",
    "# n_samples = 200\n",
    "input_dim = 100\n",
    "n_dim_lat = 7\n",
    "T = 1\n",
    "data, Kobs, K, ells = datasets.generate_ma_xue_zou(input_dim, sparsity=.025)\n",
    "data_list = np.array([data])"
   ]
  },
  {
   "cell_type": "code",
   "execution_count": 7,
   "metadata": {},
   "outputs": [
    {
     "data": {
      "text/plain": [
       "5"
      ]
     },
     "execution_count": 7,
     "metadata": {},
     "output_type": "execute_result"
    }
   ],
   "source": [
    "np.linalg.matrix_rank(ells)"
   ]
  },
  {
   "cell_type": "code",
   "execution_count": 8,
   "metadata": {},
   "outputs": [
    {
     "data": {
      "text/plain": [
       "array([[  7.46045816e-02,   2.39775709e-03,   7.12838612e-02, ...,\n",
       "         -2.86283767e-02,   7.24685474e-02,  -2.03481522e-03],\n",
       "       [  2.39775709e-03,   2.33486032e-02,   2.11838060e-02, ...,\n",
       "         -7.71385591e-05,  -2.12924631e-02,   1.30454906e-02],\n",
       "       [  7.12838612e-02,   2.11838060e-02,   1.26941393e-01, ...,\n",
       "          7.10679358e-04,   4.39280387e-02,   1.61515700e-02],\n",
       "       ..., \n",
       "       [ -2.86283767e-02,  -7.71385591e-05,   7.10679358e-04, ...,\n",
       "          3.05325999e-02,  -2.95727456e-02,   1.03360781e-02],\n",
       "       [  7.24685474e-02,  -2.12924631e-02,   4.39280387e-02, ...,\n",
       "         -2.95727456e-02,   2.22116668e-01,  -2.55399926e-02],\n",
       "       [ -2.03481522e-03,   1.30454906e-02,   1.61515700e-02, ...,\n",
       "          1.03360781e-02,  -2.55399926e-02,   1.89740060e-02]])"
      ]
     },
     "execution_count": 8,
     "metadata": {},
     "output_type": "execute_result"
    }
   ],
   "source": [
    "ells"
   ]
  },
  {
   "cell_type": "code",
   "execution_count": 9,
   "metadata": {},
   "outputs": [],
   "source": [
    "data_grid = np.array(data_list).transpose(1,2,0)  # to use it later for grid search"
   ]
  },
  {
   "cell_type": "markdown",
   "metadata": {},
   "source": [
    "## GridSearch optimisation"
   ]
  },
  {
   "cell_type": "code",
   "execution_count": 10,
   "metadata": {
    "scrolled": true
   },
   "outputs": [
    {
     "name": "stderr",
     "output_type": "stream",
     "text": [
      "/home/fede/src/slipguru/regain/regain/admm/latent_time_graph_lasso_v3_.py:213: UserWarning: Objective did not converge.\n",
      "  warnings.warn(\"Objective did not converge.\")\n"
     ]
    }
   ],
   "source": [
    "from sklearn.model_selection import GridSearchCV, ShuffleSplit\n",
    "from regain import utils; reload(utils)\n",
    "from regain.admm import time_graph_lasso_; reload(time_graph_lasso_)\n",
    "from regain.admm import latent_time_graph_lasso_; reload(latent_time_graph_lasso_);\n",
    "from regain.admm import latent_time_graph_lasso_v3_; reload(latent_time_graph_lasso_v3_);\n",
    "\n",
    "mdl = LatentTimeGraphLasso(\n",
    "    bypass_transpose=False, assume_centered=0, verbose=0, rtol=1e-5, tol=1e-5,\n",
    "    max_iter=500, rho=1. / np.array(data_list).shape[1])\n",
    "\n",
    "ltgl = GridSearchCV(mdl, dict(#tau=[0.25, 0.2, 0.1],\n",
    "                             tau=np.linspace(0.01, 0.8, 20),\n",
    "                             eta=[0], beta=[0],\n",
    "                             #alpha=[0.05, 0.1, 1],\n",
    "                             alpha=np.linspace(0.01, 0.2, 5)),\n",
    "                    cv=ShuffleSplit(1, test_size=.5)).fit(data_grid)"
   ]
  },
  {
   "cell_type": "code",
   "execution_count": 11,
   "metadata": {},
   "outputs": [
    {
     "name": "stdout",
     "output_type": "stream",
     "text": [
      "0.134736842105\n",
      "0.01\n"
     ]
    }
   ],
   "source": [
    "emp_list = list(ltgl.best_estimator_.covariance_)\n",
    "alpha = ltgl.best_params_['alpha']\n",
    "beta = ltgl.best_params_['beta']\n",
    "tau = ltgl.best_params_['tau']\n",
    "print(tau) #0.25\n",
    "print(alpha)# 0.05"
   ]
  },
  {
   "cell_type": "code",
   "execution_count": 128,
   "metadata": {},
   "outputs": [
    {
     "data": {
      "text/plain": [
       "{'alpha': 0.01, 'beta': 0, 'eta': 0, 'tau': 0.13473684210526318}"
      ]
     },
     "execution_count": 128,
     "metadata": {},
     "output_type": "execute_result"
    }
   ],
   "source": [
    "ltgl.best_params_"
   ]
  },
  {
   "cell_type": "markdown",
   "metadata": {},
   "source": [
    "## Bayesian optimisation (GPyOpt)"
   ]
  },
  {
   "cell_type": "code",
   "execution_count": 130,
   "metadata": {},
   "outputs": [
    {
     "data": {
      "image/png": "[encoded data removed]",
      "text/plain": [
       "<matplotlib.figure.Figure at 0x7f7d9404dcd0>"
      ]
     },
     "metadata": {},
     "output_type": "display_data"
    }
   ],
   "source": [
    "mdl = latent_time_graph_lasso_v3_.LatentTimeGraphLasso(\n",
    "    bypass_transpose=False, assume_centered=0, verbose=0, rtol=1e-5, tol=1e-5,\n",
    "    max_iter=500, rho=1. / np.array(data_list).shape[1], eta=0, beta=0)\n",
    "\n",
    "import GPyOpt\n",
    "from sklearn.model_selection import cross_val_score\n",
    "domain = [{'name': 'tau', 'type': 'continuous', 'domain': (-2.,np.log(.25))},\n",
    "          {'name': 'alpha', 'type': 'continuous', 'domain': (-2.,0.)}]\n",
    "    \n",
    "def fit_svc_val(x, mdl=None, cv=None, X=None, y=None):\n",
    "    x = np.atleast_2d(np.exp(x))\n",
    "    fs = np.zeros((x.shape[0], 1))\n",
    "    for i, params in enumerate(x):\n",
    "        dict_params = dict(zip([el['name'] for el in domain], params))\n",
    "#         if 'kernel' in dict_params:\n",
    "#             dict_params['kernel'] = 'rbf' if dict_params['kernel'] == 0 else 'poly'\n",
    "        mdl.set_params(**dict_params)\n",
    "        fs[i] = np.mean(cross_val_score(mdl, X, y, cv=cv))\n",
    "    return fs\n",
    "\n",
    "from functools import partial\n",
    "opt = GPyOpt.methods.BayesianOptimization(\n",
    "    f=partial(fit_svc_val, mdl=mdl, X=data_grid),  # function to optimize       \n",
    "    domain = domain,         # box-constrains of the problem\n",
    "    acquisition_type ='EI',       # LCB acquisition\n",
    "    maximize=True,\n",
    "    acquisition_weight = 0.75)   # Exploration exploitation\n",
    "opt.run_optimization(max_iter=50)\n",
    "opt.plot_convergence()"
   ]
  },
  {
   "cell_type": "code",
   "execution_count": 137,
   "metadata": {},
   "outputs": [],
   "source": [
    "opt = GPyOpt.methods.BayesianOptimization(\n",
    "    f=partial(fit_svc_val, mdl=mdl, X=data_grid),  # function to optimize       \n",
    "    domain = domain,         # box-constrains of the problem\n",
    "    acquisition_type ='EI',       # LCB acquisition\n",
    "    maximize=True,\n",
    "    acquisition_weight = 0.75) "
   ]
  },
  {
   "cell_type": "code",
   "execution_count": 278,
   "metadata": {
    "scrolled": true
   },
   "outputs": [],
   "source": [
    "from regain import model_selection; reload(model_selection)\n",
    "mdl = latent_time_graph_lasso_v3_.LatentTimeGraphLasso(\n",
    "    bypass_transpose=False, assume_centered=0, verbose=0, rtol=1e-5, tol=1e-5,\n",
    "    max_iter=500, rho=1. / np.array(data_list).shape[1], eta=0, beta=0)\n",
    "domain = [{'name': 'tau', 'type': 'continuous', 'domain': (-3,np.log10(.25))},\n",
    "          {'name': 'alpha', 'type': 'continuous', 'domain': (-2.,0.)}]\n",
    "bo = model_selection.BayesianOptimization(mdl, domain=domain, n_jobs=2, acquisition_weight=1,\n",
    "                                          acquisition_jitter=.01,\n",
    "                                          acquisition_type='EI', max_iter=5)\n",
    "bo.fit(data_grid)"
   ]
  },
  {
   "cell_type": "code",
   "execution_count": 279,
   "metadata": {},
   "outputs": [
    {
     "data": {
      "text/plain": [
       "-76.862661861241179"
      ]
     },
     "execution_count": 279,
     "metadata": {},
     "output_type": "execute_result"
    }
   ],
   "source": [
    "bo.score(data_grid)"
   ]
  },
  {
   "cell_type": "code",
   "execution_count": 280,
   "metadata": {},
   "outputs": [
    {
     "data": {
      "image/png": "[encoded data removed]",
      "text/plain": [
       "<matplotlib.figure.Figure at 0x7f7d95798310>"
      ]
     },
     "metadata": {},
     "output_type": "display_data"
    }
   ],
   "source": [
    "bo.plot_convergence()"
   ]
  },
  {
   "cell_type": "code",
   "execution_count": 281,
   "metadata": {
    "scrolled": true
   },
   "outputs": [
    {
     "data": {
      "image/png": "[encoded data removed]",
      "text/plain": [
       "<matplotlib.figure.Figure at 0x7f7dc7809290>"
      ]
     },
     "metadata": {},
     "output_type": "display_data"
    }
   ],
   "source": [
    "bo.plot_acquisition()"
   ]
  },
  {
   "cell_type": "code",
   "execution_count": 282,
   "metadata": {},
   "outputs": [
    {
     "name": "stdout",
     "output_type": "stream",
     "text": [
      "0.0913458697528\n",
      "0.0148933669576\n"
     ]
    }
   ],
   "source": [
    "emp_list = list(bo.best_estimator_.covariance_)\n",
    "alpha = bo.best_params_['alpha']\n",
    "tau = bo.best_params_['tau']\n",
    "print(tau) #0.25\n",
    "print(alpha)# 0.05"
   ]
  },
  {
   "cell_type": "code",
   "execution_count": 283,
   "metadata": {},
   "outputs": [],
   "source": [
    "ll = latent_time_graph_lasso_v3_.LatentTimeGraphLasso(\n",
    "    bypass_transpose=False, assume_centered=False, verbose=0, rtol=1e-5, tol=1e-5, max_iter=500,\n",
    "    rho=1. / np.array(data_list).shape[1], eta=0, beta=0, tau=tau, alpha=alpha).fit(data_grid[:500])"
   ]
  },
  {
   "cell_type": "code",
   "execution_count": 284,
   "metadata": {},
   "outputs": [
    {
     "data": {
      "text/plain": [
       "-75.146472297517164"
      ]
     },
     "execution_count": 284,
     "metadata": {},
     "output_type": "execute_result"
    }
   ],
   "source": [
    "ll.score(data_grid[:500])"
   ]
  },
  {
   "cell_type": "code",
   "execution_count": 285,
   "metadata": {
    "scrolled": true
   },
   "outputs": [
    {
     "data": {
      "text/plain": [
       "{'mean_fit_time': array([ 1.04907298,  2.04871583,  2.05285311,  2.04176998,  2.03286505,\n",
       "         1.92109013,  1.92519593,  1.91583014,  1.91314411,  2.01721191,\n",
       "         1.94536185,  1.95790291,  1.92288208,  1.92165804,  1.92161989,\n",
       "         1.92434001,  1.92421794,  1.91817689,  1.92809105,  1.92591619,\n",
       "         2.0011611 ,  1.99434686,  1.99682593,  2.02080917,  2.00298691,\n",
       "         2.00209594,  1.98763514,  1.99815893,  1.97188687,  1.95722914,\n",
       "         1.94451308,  1.93879509,  1.93506384,  1.91581297,  1.89094305,\n",
       "         1.89130282,  1.88761401,  1.88780904,  1.89406705,  1.88755608,\n",
       "         2.00282502,  1.99446511,  1.99594593,  1.99102688,  1.99013495,\n",
       "         1.98376298,  1.97321391,  1.96827412,  1.9455719 ,  1.93628192,\n",
       "         1.92420793,  1.90982103,  1.8968451 ,  1.891608  ,  1.89577508,\n",
       "         1.89282393,  1.88867593,  1.8893342 ,  1.89616895,  1.8960259 ,\n",
       "         2.00560999,  1.99746299,  1.99796605,  1.98003983,  1.97023296,\n",
       "         1.95821214,  1.95370007,  1.94207215,  1.919662  ,  1.90934992,\n",
       "         1.89655304,  1.88905001,  1.89171696,  1.89968896,  1.8933301 ,\n",
       "         1.88929105,  1.88670421,  1.89800406,  1.8895371 ,  1.89003181,\n",
       "         1.99383998,  2.0298121 ,  2.02081084,  2.06701517,  1.98838687,\n",
       "         1.96445608,  1.97585106,  1.99547696,  1.90044308,  1.88615203,\n",
       "         1.89341712,  1.88828611,  1.8858099 ,  1.89116693,  1.88972902,\n",
       "         1.88393283,  1.88647389,  1.8930521 ,  1.89202118,  1.89505601]),\n",
       " 'mean_score_time': array([ 0.0006001 ,  0.00064707,  0.00052404,  0.00052094,  0.00051594,\n",
       "         0.00049686,  0.00050497,  0.00050402,  0.00051594,  0.00068998,\n",
       "         0.00054622,  0.00050998,  0.00050998,  0.00050497,  0.00050402,\n",
       "         0.00051713,  0.00051212,  0.00051594,  0.00050688,  0.00050092,\n",
       "         0.00050807,  0.00050521,  0.00051212,  0.00051188,  0.00050402,\n",
       "         0.00050998,  0.00051093,  0.00050902,  0.00052214,  0.00050688,\n",
       "         0.00050783,  0.00050902,  0.00050998,  0.00050688,  0.00050688,\n",
       "         0.00050402,  0.00050807,  0.00050187,  0.00050616,  0.00050402,\n",
       "         0.00050497,  0.00051379,  0.00051117,  0.00050712,  0.00051308,\n",
       "         0.00050807,  0.00050712,  0.00050783,  0.00050306,  0.00053501,\n",
       "         0.00050712,  0.00051188,  0.00050688,  0.0005331 ,  0.00050402,\n",
       "         0.00050998,  0.00050497,  0.00052285,  0.00058794,  0.00058722,\n",
       "         0.00050497,  0.00050807,  0.00050902,  0.00050998,  0.000525  ,\n",
       "         0.00051093,  0.00051284,  0.00054002,  0.00053096,  0.00050402,\n",
       "         0.00050998,  0.00051212,  0.00052118,  0.00050402,  0.00050497,\n",
       "         0.00053501,  0.00050688,  0.00050402,  0.00049996,  0.00050712,\n",
       "         0.00050616,  0.00053787,  0.00052905,  0.00054288,  0.0005331 ,\n",
       "         0.00052214,  0.00051498,  0.00053096,  0.00050998,  0.00051308,\n",
       "         0.00050902,  0.00050402,  0.00051308,  0.00050402,  0.00050902,\n",
       "         0.00051212,  0.00051308,  0.00051188,  0.000525  ,  0.00051093]),\n",
       " 'mean_test_score': array([-80.94980289, -79.37811002, -79.0620636 , -79.02553522,\n",
       "        -79.05673432, -79.08226041, -79.08226041, -79.08226041,\n",
       "        -79.08226041, -79.08226041, -79.08226041, -79.08226041,\n",
       "        -79.08226041, -79.08226041, -79.08226041, -79.08226041,\n",
       "        -79.08226041, -79.08226041, -79.08226041, -79.08226041,\n",
       "        -80.46936294, -80.6066334 , -80.74976916, -80.84585223,\n",
       "        -80.8843683 , -80.92513534, -80.97233314, -81.01301179,\n",
       "        -81.05322205, -81.09188219, -81.14210181, -81.20511996,\n",
       "        -81.22772963, -81.25629813, -81.29357287, -81.42557885,\n",
       "        -81.42557885, -81.42557885, -81.42557885, -81.42557885,\n",
       "        -81.97254218, -82.17267021, -82.33190977, -82.47171459,\n",
       "        -82.59996638, -82.69667103, -82.80186609, -82.88993394,\n",
       "        -82.94156669, -83.02180489, -83.1077628 , -83.13471094,\n",
       "        -83.16642441, -83.34247208, -83.34247208, -83.34247208,\n",
       "        -83.34247208, -83.34247208, -83.34247208, -83.34247208,\n",
       "        -83.95626767, -84.10873426, -84.24647912, -84.35997607,\n",
       "        -84.48275516, -84.57527706, -84.6244579 , -84.71040699,\n",
       "        -84.80143168, -84.82438399, -84.85048098, -85.01697805,\n",
       "        -85.01697805, -85.01697805, -85.01697805, -85.01697805,\n",
       "        -85.01697805, -85.01697805, -85.01697805, -85.01697805,\n",
       "        -86.08273883, -86.20294953, -86.31665525, -86.43540478,\n",
       "        -86.47851706, -86.56208176, -86.64818585, -86.66805701,\n",
       "        -86.842218  , -86.842218  , -86.842218  , -86.842218  ,\n",
       "        -86.842218  , -86.842218  , -86.842218  , -86.842218  ,\n",
       "        -86.842218  , -86.842218  , -86.842218  , -86.842218  ]),\n",
       " 'mean_train_score': array([-72.80072607, -73.91718396, -74.21497442, -74.24635121,\n",
       "        -74.23102703, -74.22214817, -74.22214817, -74.22214817,\n",
       "        -74.22214817, -74.22214817, -74.22214817, -74.22214817,\n",
       "        -74.22214817, -74.22214817, -74.22214817, -74.22214817,\n",
       "        -74.22214817, -74.22214817, -74.22214817, -74.22214817,\n",
       "        -76.42547561, -77.54211395, -78.35504241, -78.92518232,\n",
       "        -79.3407285 , -79.64572763, -79.87622075, -80.0642054 ,\n",
       "        -80.19164098, -80.29369463, -80.41410881, -80.53896377,\n",
       "        -80.5756829 , -80.61959553, -80.67531946, -80.86183843,\n",
       "        -80.86183843, -80.86183843, -80.86183843, -80.86183843,\n",
       "        -79.59128594, -80.29215667, -80.81102938, -81.24462584,\n",
       "        -81.57425466, -81.79773445, -82.03885138, -82.23745149,\n",
       "        -82.33900998, -82.49164981, -82.65168819, -82.69041696,\n",
       "        -82.73533626, -82.97933715, -82.97933715, -82.97933715,\n",
       "        -82.97933715, -82.97933715, -82.97933715, -82.97933715,\n",
       "        -82.4374782 , -82.86920658, -83.2480495 , -83.50751769,\n",
       "        -83.7677281 , -83.9889423 , -84.07632087, -84.23736218,\n",
       "        -84.41014054, -84.44239979, -84.47881577, -84.71219425,\n",
       "        -84.71219425, -84.71219425, -84.71219425, -84.71219425,\n",
       "        -84.71219425, -84.71219425, -84.71219425, -84.71219425,\n",
       "        -85.068621  , -85.38347238, -85.61975936, -85.90026232,\n",
       "        -85.97347687, -86.13097651, -86.29776389, -86.32510803,\n",
       "        -86.57123818, -86.57123818, -86.57123818, -86.57123818,\n",
       "        -86.57123818, -86.57123818, -86.57123818, -86.57123818,\n",
       "        -86.57123818, -86.57123818, -86.57123818, -86.57123818]),\n",
       " 'param_alpha': masked_array(data = [0.01 0.01 0.01 0.01 0.01 0.01 0.01 0.01 0.01 0.01 0.01 0.01 0.01 0.01 0.01\n",
       "  0.01 0.01 0.01 0.01 0.01 0.057500000000000002 0.057500000000000002\n",
       "  0.057500000000000002 0.057500000000000002 0.057500000000000002\n",
       "  0.057500000000000002 0.057500000000000002 0.057500000000000002\n",
       "  0.057500000000000002 0.057500000000000002 0.057500000000000002\n",
       "  0.057500000000000002 0.057500000000000002 0.057500000000000002\n",
       "  0.057500000000000002 0.057500000000000002 0.057500000000000002\n",
       "  0.057500000000000002 0.057500000000000002 0.057500000000000002 0.105 0.105\n",
       "  0.105 0.105 0.105 0.105 0.105 0.105 0.105 0.105 0.105 0.105 0.105 0.105\n",
       "  0.105 0.105 0.105 0.105 0.105 0.105 0.15250000000000002\n",
       "  0.15250000000000002 0.15250000000000002 0.15250000000000002\n",
       "  0.15250000000000002 0.15250000000000002 0.15250000000000002\n",
       "  0.15250000000000002 0.15250000000000002 0.15250000000000002\n",
       "  0.15250000000000002 0.15250000000000002 0.15250000000000002\n",
       "  0.15250000000000002 0.15250000000000002 0.15250000000000002\n",
       "  0.15250000000000002 0.15250000000000002 0.15250000000000002\n",
       "  0.15250000000000002 0.20000000000000001 0.20000000000000001\n",
       "  0.20000000000000001 0.20000000000000001 0.20000000000000001\n",
       "  0.20000000000000001 0.20000000000000001 0.20000000000000001\n",
       "  0.20000000000000001 0.20000000000000001 0.20000000000000001\n",
       "  0.20000000000000001 0.20000000000000001 0.20000000000000001\n",
       "  0.20000000000000001 0.20000000000000001 0.20000000000000001\n",
       "  0.20000000000000001 0.20000000000000001 0.20000000000000001],\n",
       "              mask = [False False False False False False False False False False False False\n",
       "  False False False False False False False False False False False False\n",
       "  False False False False False False False False False False False False\n",
       "  False False False False False False False False False False False False\n",
       "  False False False False False False False False False False False False\n",
       "  False False False False False False False False False False False False\n",
       "  False False False False False False False False False False False False\n",
       "  False False False False False False False False False False False False\n",
       "  False False False False],\n",
       "        fill_value = ?),\n",
       " 'param_beta': masked_array(data = [0 0 0 0 0 0 0 0 0 0 0 0 0 0 0 0 0 0 0 0 0 0 0 0 0 0 0 0 0 0 0 0 0 0 0 0 0\n",
       "  0 0 0 0 0 0 0 0 0 0 0 0 0 0 0 0 0 0 0 0 0 0 0 0 0 0 0 0 0 0 0 0 0 0 0 0 0\n",
       "  0 0 0 0 0 0 0 0 0 0 0 0 0 0 0 0 0 0 0 0 0 0 0 0 0 0],\n",
       "              mask = [False False False False False False False False False False False False\n",
       "  False False False False False False False False False False False False\n",
       "  False False False False False False False False False False False False\n",
       "  False False False False False False False False False False False False\n",
       "  False False False False False False False False False False False False\n",
       "  False False False False False False False False False False False False\n",
       "  False False False False False False False False False False False False\n",
       "  False False False False False False False False False False False False\n",
       "  False False False False],\n",
       "        fill_value = ?),\n",
       " 'param_eta': masked_array(data = [0 0 0 0 0 0 0 0 0 0 0 0 0 0 0 0 0 0 0 0 0 0 0 0 0 0 0 0 0 0 0 0 0 0 0 0 0\n",
       "  0 0 0 0 0 0 0 0 0 0 0 0 0 0 0 0 0 0 0 0 0 0 0 0 0 0 0 0 0 0 0 0 0 0 0 0 0\n",
       "  0 0 0 0 0 0 0 0 0 0 0 0 0 0 0 0 0 0 0 0 0 0 0 0 0 0],\n",
       "              mask = [False False False False False False False False False False False False\n",
       "  False False False False False False False False False False False False\n",
       "  False False False False False False False False False False False False\n",
       "  False False False False False False False False False False False False\n",
       "  False False False False False False False False False False False False\n",
       "  False False False False False False False False False False False False\n",
       "  False False False False False False False False False False False False\n",
       "  False False False False False False False False False False False False\n",
       "  False False False False],\n",
       "        fill_value = ?),\n",
       " 'param_tau': masked_array(data = [0.01 0.051578947368421058 0.093157894736842106 0.13473684210526318\n",
       "  0.17631578947368423 0.21789473684210528 0.25947368421052636\n",
       "  0.3010526315789474 0.34263157894736845 0.3842105263157895\n",
       "  0.42578947368421055 0.4673684210526316 0.5089473684210527\n",
       "  0.55052631578947375 0.5921052631578948 0.63368421052631585\n",
       "  0.6752631578947369 0.71684210526315795 0.758421052631579\n",
       "  0.80000000000000004 0.01 0.051578947368421058 0.093157894736842106\n",
       "  0.13473684210526318 0.17631578947368423 0.21789473684210528\n",
       "  0.25947368421052636 0.3010526315789474 0.34263157894736845\n",
       "  0.3842105263157895 0.42578947368421055 0.4673684210526316\n",
       "  0.5089473684210527 0.55052631578947375 0.5921052631578948\n",
       "  0.63368421052631585 0.6752631578947369 0.71684210526315795\n",
       "  0.758421052631579 0.80000000000000004 0.01 0.051578947368421058\n",
       "  0.093157894736842106 0.13473684210526318 0.17631578947368423\n",
       "  0.21789473684210528 0.25947368421052636 0.3010526315789474\n",
       "  0.34263157894736845 0.3842105263157895 0.42578947368421055\n",
       "  0.4673684210526316 0.5089473684210527 0.55052631578947375\n",
       "  0.5921052631578948 0.63368421052631585 0.6752631578947369\n",
       "  0.71684210526315795 0.758421052631579 0.80000000000000004 0.01\n",
       "  0.051578947368421058 0.093157894736842106 0.13473684210526318\n",
       "  0.17631578947368423 0.21789473684210528 0.25947368421052636\n",
       "  0.3010526315789474 0.34263157894736845 0.3842105263157895\n",
       "  0.42578947368421055 0.4673684210526316 0.5089473684210527\n",
       "  0.55052631578947375 0.5921052631578948 0.63368421052631585\n",
       "  0.6752631578947369 0.71684210526315795 0.758421052631579\n",
       "  0.80000000000000004 0.01 0.051578947368421058 0.093157894736842106\n",
       "  0.13473684210526318 0.17631578947368423 0.21789473684210528\n",
       "  0.25947368421052636 0.3010526315789474 0.34263157894736845\n",
       "  0.3842105263157895 0.42578947368421055 0.4673684210526316\n",
       "  0.5089473684210527 0.55052631578947375 0.5921052631578948\n",
       "  0.63368421052631585 0.6752631578947369 0.71684210526315795\n",
       "  0.758421052631579 0.80000000000000004],\n",
       "              mask = [False False False False False False False False False False False False\n",
       "  False False False False False False False False False False False False\n",
       "  False False False False False False False False False False False False\n",
       "  False False False False False False False False False False False False\n",
       "  False False False False False False False False False False False False\n",
       "  False False False False False False False False False False False False\n",
       "  False False False False False False False False False False False False\n",
       "  False False False False False False False False False False False False\n",
       "  False False False False],\n",
       "        fill_value = ?),\n",
       " 'params': [{'alpha': 0.01, 'beta': 0, 'eta': 0, 'tau': 0.01},\n",
       "  {'alpha': 0.01, 'beta': 0, 'eta': 0, 'tau': 0.051578947368421058},\n",
       "  {'alpha': 0.01, 'beta': 0, 'eta': 0, 'tau': 0.093157894736842106},\n",
       "  {'alpha': 0.01, 'beta': 0, 'eta': 0, 'tau': 0.13473684210526318},\n",
       "  {'alpha': 0.01, 'beta': 0, 'eta': 0, 'tau': 0.17631578947368423},\n",
       "  {'alpha': 0.01, 'beta': 0, 'eta': 0, 'tau': 0.21789473684210528},\n",
       "  {'alpha': 0.01, 'beta': 0, 'eta': 0, 'tau': 0.25947368421052636},\n",
       "  {'alpha': 0.01, 'beta': 0, 'eta': 0, 'tau': 0.3010526315789474},\n",
       "  {'alpha': 0.01, 'beta': 0, 'eta': 0, 'tau': 0.34263157894736845},\n",
       "  {'alpha': 0.01, 'beta': 0, 'eta': 0, 'tau': 0.3842105263157895},\n",
       "  {'alpha': 0.01, 'beta': 0, 'eta': 0, 'tau': 0.42578947368421055},\n",
       "  {'alpha': 0.01, 'beta': 0, 'eta': 0, 'tau': 0.4673684210526316},\n",
       "  {'alpha': 0.01, 'beta': 0, 'eta': 0, 'tau': 0.5089473684210527},\n",
       "  {'alpha': 0.01, 'beta': 0, 'eta': 0, 'tau': 0.55052631578947375},\n",
       "  {'alpha': 0.01, 'beta': 0, 'eta': 0, 'tau': 0.5921052631578948},\n",
       "  {'alpha': 0.01, 'beta': 0, 'eta': 0, 'tau': 0.63368421052631585},\n",
       "  {'alpha': 0.01, 'beta': 0, 'eta': 0, 'tau': 0.6752631578947369},\n",
       "  {'alpha': 0.01, 'beta': 0, 'eta': 0, 'tau': 0.71684210526315795},\n",
       "  {'alpha': 0.01, 'beta': 0, 'eta': 0, 'tau': 0.758421052631579},\n",
       "  {'alpha': 0.01, 'beta': 0, 'eta': 0, 'tau': 0.80000000000000004},\n",
       "  {'alpha': 0.057500000000000002, 'beta': 0, 'eta': 0, 'tau': 0.01},\n",
       "  {'alpha': 0.057500000000000002,\n",
       "   'beta': 0,\n",
       "   'eta': 0,\n",
       "   'tau': 0.051578947368421058},\n",
       "  {'alpha': 0.057500000000000002,\n",
       "   'beta': 0,\n",
       "   'eta': 0,\n",
       "   'tau': 0.093157894736842106},\n",
       "  {'alpha': 0.057500000000000002,\n",
       "   'beta': 0,\n",
       "   'eta': 0,\n",
       "   'tau': 0.13473684210526318},\n",
       "  {'alpha': 0.057500000000000002,\n",
       "   'beta': 0,\n",
       "   'eta': 0,\n",
       "   'tau': 0.17631578947368423},\n",
       "  {'alpha': 0.057500000000000002,\n",
       "   'beta': 0,\n",
       "   'eta': 0,\n",
       "   'tau': 0.21789473684210528},\n",
       "  {'alpha': 0.057500000000000002,\n",
       "   'beta': 0,\n",
       "   'eta': 0,\n",
       "   'tau': 0.25947368421052636},\n",
       "  {'alpha': 0.057500000000000002,\n",
       "   'beta': 0,\n",
       "   'eta': 0,\n",
       "   'tau': 0.3010526315789474},\n",
       "  {'alpha': 0.057500000000000002,\n",
       "   'beta': 0,\n",
       "   'eta': 0,\n",
       "   'tau': 0.34263157894736845},\n",
       "  {'alpha': 0.057500000000000002,\n",
       "   'beta': 0,\n",
       "   'eta': 0,\n",
       "   'tau': 0.3842105263157895},\n",
       "  {'alpha': 0.057500000000000002,\n",
       "   'beta': 0,\n",
       "   'eta': 0,\n",
       "   'tau': 0.42578947368421055},\n",
       "  {'alpha': 0.057500000000000002,\n",
       "   'beta': 0,\n",
       "   'eta': 0,\n",
       "   'tau': 0.4673684210526316},\n",
       "  {'alpha': 0.057500000000000002,\n",
       "   'beta': 0,\n",
       "   'eta': 0,\n",
       "   'tau': 0.5089473684210527},\n",
       "  {'alpha': 0.057500000000000002,\n",
       "   'beta': 0,\n",
       "   'eta': 0,\n",
       "   'tau': 0.55052631578947375},\n",
       "  {'alpha': 0.057500000000000002,\n",
       "   'beta': 0,\n",
       "   'eta': 0,\n",
       "   'tau': 0.5921052631578948},\n",
       "  {'alpha': 0.057500000000000002,\n",
       "   'beta': 0,\n",
       "   'eta': 0,\n",
       "   'tau': 0.63368421052631585},\n",
       "  {'alpha': 0.057500000000000002,\n",
       "   'beta': 0,\n",
       "   'eta': 0,\n",
       "   'tau': 0.6752631578947369},\n",
       "  {'alpha': 0.057500000000000002,\n",
       "   'beta': 0,\n",
       "   'eta': 0,\n",
       "   'tau': 0.71684210526315795},\n",
       "  {'alpha': 0.057500000000000002,\n",
       "   'beta': 0,\n",
       "   'eta': 0,\n",
       "   'tau': 0.758421052631579},\n",
       "  {'alpha': 0.057500000000000002,\n",
       "   'beta': 0,\n",
       "   'eta': 0,\n",
       "   'tau': 0.80000000000000004},\n",
       "  {'alpha': 0.105, 'beta': 0, 'eta': 0, 'tau': 0.01},\n",
       "  {'alpha': 0.105, 'beta': 0, 'eta': 0, 'tau': 0.051578947368421058},\n",
       "  {'alpha': 0.105, 'beta': 0, 'eta': 0, 'tau': 0.093157894736842106},\n",
       "  {'alpha': 0.105, 'beta': 0, 'eta': 0, 'tau': 0.13473684210526318},\n",
       "  {'alpha': 0.105, 'beta': 0, 'eta': 0, 'tau': 0.17631578947368423},\n",
       "  {'alpha': 0.105, 'beta': 0, 'eta': 0, 'tau': 0.21789473684210528},\n",
       "  {'alpha': 0.105, 'beta': 0, 'eta': 0, 'tau': 0.25947368421052636},\n",
       "  {'alpha': 0.105, 'beta': 0, 'eta': 0, 'tau': 0.3010526315789474},\n",
       "  {'alpha': 0.105, 'beta': 0, 'eta': 0, 'tau': 0.34263157894736845},\n",
       "  {'alpha': 0.105, 'beta': 0, 'eta': 0, 'tau': 0.3842105263157895},\n",
       "  {'alpha': 0.105, 'beta': 0, 'eta': 0, 'tau': 0.42578947368421055},\n",
       "  {'alpha': 0.105, 'beta': 0, 'eta': 0, 'tau': 0.4673684210526316},\n",
       "  {'alpha': 0.105, 'beta': 0, 'eta': 0, 'tau': 0.5089473684210527},\n",
       "  {'alpha': 0.105, 'beta': 0, 'eta': 0, 'tau': 0.55052631578947375},\n",
       "  {'alpha': 0.105, 'beta': 0, 'eta': 0, 'tau': 0.5921052631578948},\n",
       "  {'alpha': 0.105, 'beta': 0, 'eta': 0, 'tau': 0.63368421052631585},\n",
       "  {'alpha': 0.105, 'beta': 0, 'eta': 0, 'tau': 0.6752631578947369},\n",
       "  {'alpha': 0.105, 'beta': 0, 'eta': 0, 'tau': 0.71684210526315795},\n",
       "  {'alpha': 0.105, 'beta': 0, 'eta': 0, 'tau': 0.758421052631579},\n",
       "  {'alpha': 0.105, 'beta': 0, 'eta': 0, 'tau': 0.80000000000000004},\n",
       "  {'alpha': 0.15250000000000002, 'beta': 0, 'eta': 0, 'tau': 0.01},\n",
       "  {'alpha': 0.15250000000000002,\n",
       "   'beta': 0,\n",
       "   'eta': 0,\n",
       "   'tau': 0.051578947368421058},\n",
       "  {'alpha': 0.15250000000000002,\n",
       "   'beta': 0,\n",
       "   'eta': 0,\n",
       "   'tau': 0.093157894736842106},\n",
       "  {'alpha': 0.15250000000000002,\n",
       "   'beta': 0,\n",
       "   'eta': 0,\n",
       "   'tau': 0.13473684210526318},\n",
       "  {'alpha': 0.15250000000000002,\n",
       "   'beta': 0,\n",
       "   'eta': 0,\n",
       "   'tau': 0.17631578947368423},\n",
       "  {'alpha': 0.15250000000000002,\n",
       "   'beta': 0,\n",
       "   'eta': 0,\n",
       "   'tau': 0.21789473684210528},\n",
       "  {'alpha': 0.15250000000000002,\n",
       "   'beta': 0,\n",
       "   'eta': 0,\n",
       "   'tau': 0.25947368421052636},\n",
       "  {'alpha': 0.15250000000000002,\n",
       "   'beta': 0,\n",
       "   'eta': 0,\n",
       "   'tau': 0.3010526315789474},\n",
       "  {'alpha': 0.15250000000000002,\n",
       "   'beta': 0,\n",
       "   'eta': 0,\n",
       "   'tau': 0.34263157894736845},\n",
       "  {'alpha': 0.15250000000000002,\n",
       "   'beta': 0,\n",
       "   'eta': 0,\n",
       "   'tau': 0.3842105263157895},\n",
       "  {'alpha': 0.15250000000000002,\n",
       "   'beta': 0,\n",
       "   'eta': 0,\n",
       "   'tau': 0.42578947368421055},\n",
       "  {'alpha': 0.15250000000000002,\n",
       "   'beta': 0,\n",
       "   'eta': 0,\n",
       "   'tau': 0.4673684210526316},\n",
       "  {'alpha': 0.15250000000000002,\n",
       "   'beta': 0,\n",
       "   'eta': 0,\n",
       "   'tau': 0.5089473684210527},\n",
       "  {'alpha': 0.15250000000000002,\n",
       "   'beta': 0,\n",
       "   'eta': 0,\n",
       "   'tau': 0.55052631578947375},\n",
       "  {'alpha': 0.15250000000000002,\n",
       "   'beta': 0,\n",
       "   'eta': 0,\n",
       "   'tau': 0.5921052631578948},\n",
       "  {'alpha': 0.15250000000000002,\n",
       "   'beta': 0,\n",
       "   'eta': 0,\n",
       "   'tau': 0.63368421052631585},\n",
       "  {'alpha': 0.15250000000000002,\n",
       "   'beta': 0,\n",
       "   'eta': 0,\n",
       "   'tau': 0.6752631578947369},\n",
       "  {'alpha': 0.15250000000000002,\n",
       "   'beta': 0,\n",
       "   'eta': 0,\n",
       "   'tau': 0.71684210526315795},\n",
       "  {'alpha': 0.15250000000000002,\n",
       "   'beta': 0,\n",
       "   'eta': 0,\n",
       "   'tau': 0.758421052631579},\n",
       "  {'alpha': 0.15250000000000002,\n",
       "   'beta': 0,\n",
       "   'eta': 0,\n",
       "   'tau': 0.80000000000000004},\n",
       "  {'alpha': 0.20000000000000001, 'beta': 0, 'eta': 0, 'tau': 0.01},\n",
       "  {'alpha': 0.20000000000000001,\n",
       "   'beta': 0,\n",
       "   'eta': 0,\n",
       "   'tau': 0.051578947368421058},\n",
       "  {'alpha': 0.20000000000000001,\n",
       "   'beta': 0,\n",
       "   'eta': 0,\n",
       "   'tau': 0.093157894736842106},\n",
       "  {'alpha': 0.20000000000000001,\n",
       "   'beta': 0,\n",
       "   'eta': 0,\n",
       "   'tau': 0.13473684210526318},\n",
       "  {'alpha': 0.20000000000000001,\n",
       "   'beta': 0,\n",
       "   'eta': 0,\n",
       "   'tau': 0.17631578947368423},\n",
       "  {'alpha': 0.20000000000000001,\n",
       "   'beta': 0,\n",
       "   'eta': 0,\n",
       "   'tau': 0.21789473684210528},\n",
       "  {'alpha': 0.20000000000000001,\n",
       "   'beta': 0,\n",
       "   'eta': 0,\n",
       "   'tau': 0.25947368421052636},\n",
       "  {'alpha': 0.20000000000000001,\n",
       "   'beta': 0,\n",
       "   'eta': 0,\n",
       "   'tau': 0.3010526315789474},\n",
       "  {'alpha': 0.20000000000000001,\n",
       "   'beta': 0,\n",
       "   'eta': 0,\n",
       "   'tau': 0.34263157894736845},\n",
       "  {'alpha': 0.20000000000000001,\n",
       "   'beta': 0,\n",
       "   'eta': 0,\n",
       "   'tau': 0.3842105263157895},\n",
       "  {'alpha': 0.20000000000000001,\n",
       "   'beta': 0,\n",
       "   'eta': 0,\n",
       "   'tau': 0.42578947368421055},\n",
       "  {'alpha': 0.20000000000000001,\n",
       "   'beta': 0,\n",
       "   'eta': 0,\n",
       "   'tau': 0.4673684210526316},\n",
       "  {'alpha': 0.20000000000000001,\n",
       "   'beta': 0,\n",
       "   'eta': 0,\n",
       "   'tau': 0.5089473684210527},\n",
       "  {'alpha': 0.20000000000000001,\n",
       "   'beta': 0,\n",
       "   'eta': 0,\n",
       "   'tau': 0.55052631578947375},\n",
       "  {'alpha': 0.20000000000000001,\n",
       "   'beta': 0,\n",
       "   'eta': 0,\n",
       "   'tau': 0.5921052631578948},\n",
       "  {'alpha': 0.20000000000000001,\n",
       "   'beta': 0,\n",
       "   'eta': 0,\n",
       "   'tau': 0.63368421052631585},\n",
       "  {'alpha': 0.20000000000000001,\n",
       "   'beta': 0,\n",
       "   'eta': 0,\n",
       "   'tau': 0.6752631578947369},\n",
       "  {'alpha': 0.20000000000000001,\n",
       "   'beta': 0,\n",
       "   'eta': 0,\n",
       "   'tau': 0.71684210526315795},\n",
       "  {'alpha': 0.20000000000000001,\n",
       "   'beta': 0,\n",
       "   'eta': 0,\n",
       "   'tau': 0.758421052631579},\n",
       "  {'alpha': 0.20000000000000001,\n",
       "   'beta': 0,\n",
       "   'eta': 0,\n",
       "   'tau': 0.80000000000000004}],\n",
       " 'rank_test_score': array([26, 19,  3,  1,  2,  4,  4,  4,  4,  4,  4,  4,  4,  4,  4,  4,  4,\n",
       "         4,  4,  4, 20, 21, 22, 23, 24, 25, 27, 28, 29, 30, 31, 32, 33, 34,\n",
       "        35, 36, 36, 36, 36, 36, 41, 42, 43, 44, 45, 46, 47, 48, 49, 50, 51,\n",
       "        52, 53, 54, 54, 54, 54, 54, 54, 54, 61, 62, 63, 64, 65, 66, 67, 68,\n",
       "        69, 70, 71, 72, 72, 72, 72, 72, 72, 72, 72, 72, 81, 82, 83, 84, 85,\n",
       "        86, 87, 88, 89, 89, 89, 89, 89, 89, 89, 89, 89, 89, 89, 89], dtype=int32),\n",
       " 'split0_test_score': array([-80.94980289, -79.37811002, -79.0620636 , -79.02553522,\n",
       "        -79.05673432, -79.08226041, -79.08226041, -79.08226041,\n",
       "        -79.08226041, -79.08226041, -79.08226041, -79.08226041,\n",
       "        -79.08226041, -79.08226041, -79.08226041, -79.08226041,\n",
       "        -79.08226041, -79.08226041, -79.08226041, -79.08226041,\n",
       "        -80.46936294, -80.6066334 , -80.74976916, -80.84585223,\n",
       "        -80.8843683 , -80.92513534, -80.97233314, -81.01301179,\n",
       "        -81.05322205, -81.09188219, -81.14210181, -81.20511996,\n",
       "        -81.22772963, -81.25629813, -81.29357287, -81.42557885,\n",
       "        -81.42557885, -81.42557885, -81.42557885, -81.42557885,\n",
       "        -81.97254218, -82.17267021, -82.33190977, -82.47171459,\n",
       "        -82.59996638, -82.69667103, -82.80186609, -82.88993394,\n",
       "        -82.94156669, -83.02180489, -83.1077628 , -83.13471094,\n",
       "        -83.16642441, -83.34247208, -83.34247208, -83.34247208,\n",
       "        -83.34247208, -83.34247208, -83.34247208, -83.34247208,\n",
       "        -83.95626767, -84.10873426, -84.24647912, -84.35997607,\n",
       "        -84.48275516, -84.57527706, -84.6244579 , -84.71040699,\n",
       "        -84.80143168, -84.82438399, -84.85048098, -85.01697805,\n",
       "        -85.01697805, -85.01697805, -85.01697805, -85.01697805,\n",
       "        -85.01697805, -85.01697805, -85.01697805, -85.01697805,\n",
       "        -86.08273883, -86.20294953, -86.31665525, -86.43540478,\n",
       "        -86.47851706, -86.56208176, -86.64818585, -86.66805701,\n",
       "        -86.842218  , -86.842218  , -86.842218  , -86.842218  ,\n",
       "        -86.842218  , -86.842218  , -86.842218  , -86.842218  ,\n",
       "        -86.842218  , -86.842218  , -86.842218  , -86.842218  ]),\n",
       " 'split0_train_score': array([-72.80072607, -73.91718396, -74.21497442, -74.24635121,\n",
       "        -74.23102703, -74.22214817, -74.22214817, -74.22214817,\n",
       "        -74.22214817, -74.22214817, -74.22214817, -74.22214817,\n",
       "        -74.22214817, -74.22214817, -74.22214817, -74.22214817,\n",
       "        -74.22214817, -74.22214817, -74.22214817, -74.22214817,\n",
       "        -76.42547561, -77.54211395, -78.35504241, -78.92518232,\n",
       "        -79.3407285 , -79.64572763, -79.87622075, -80.0642054 ,\n",
       "        -80.19164098, -80.29369463, -80.41410881, -80.53896377,\n",
       "        -80.5756829 , -80.61959553, -80.67531946, -80.86183843,\n",
       "        -80.86183843, -80.86183843, -80.86183843, -80.86183843,\n",
       "        -79.59128594, -80.29215667, -80.81102938, -81.24462584,\n",
       "        -81.57425466, -81.79773445, -82.03885138, -82.23745149,\n",
       "        -82.33900998, -82.49164981, -82.65168819, -82.69041696,\n",
       "        -82.73533626, -82.97933715, -82.97933715, -82.97933715,\n",
       "        -82.97933715, -82.97933715, -82.97933715, -82.97933715,\n",
       "        -82.4374782 , -82.86920658, -83.2480495 , -83.50751769,\n",
       "        -83.7677281 , -83.9889423 , -84.07632087, -84.23736218,\n",
       "        -84.41014054, -84.44239979, -84.47881577, -84.71219425,\n",
       "        -84.71219425, -84.71219425, -84.71219425, -84.71219425,\n",
       "        -84.71219425, -84.71219425, -84.71219425, -84.71219425,\n",
       "        -85.068621  , -85.38347238, -85.61975936, -85.90026232,\n",
       "        -85.97347687, -86.13097651, -86.29776389, -86.32510803,\n",
       "        -86.57123818, -86.57123818, -86.57123818, -86.57123818,\n",
       "        -86.57123818, -86.57123818, -86.57123818, -86.57123818,\n",
       "        -86.57123818, -86.57123818, -86.57123818, -86.57123818]),\n",
       " 'std_fit_time': array([ 0.,  0.,  0.,  0.,  0.,  0.,  0.,  0.,  0.,  0.,  0.,  0.,  0.,\n",
       "         0.,  0.,  0.,  0.,  0.,  0.,  0.,  0.,  0.,  0.,  0.,  0.,  0.,\n",
       "         0.,  0.,  0.,  0.,  0.,  0.,  0.,  0.,  0.,  0.,  0.,  0.,  0.,\n",
       "         0.,  0.,  0.,  0.,  0.,  0.,  0.,  0.,  0.,  0.,  0.,  0.,  0.,\n",
       "         0.,  0.,  0.,  0.,  0.,  0.,  0.,  0.,  0.,  0.,  0.,  0.,  0.,\n",
       "         0.,  0.,  0.,  0.,  0.,  0.,  0.,  0.,  0.,  0.,  0.,  0.,  0.,\n",
       "         0.,  0.,  0.,  0.,  0.,  0.,  0.,  0.,  0.,  0.,  0.,  0.,  0.,\n",
       "         0.,  0.,  0.,  0.,  0.,  0.,  0.,  0.,  0.]),\n",
       " 'std_score_time': array([ 0.,  0.,  0.,  0.,  0.,  0.,  0.,  0.,  0.,  0.,  0.,  0.,  0.,\n",
       "         0.,  0.,  0.,  0.,  0.,  0.,  0.,  0.,  0.,  0.,  0.,  0.,  0.,\n",
       "         0.,  0.,  0.,  0.,  0.,  0.,  0.,  0.,  0.,  0.,  0.,  0.,  0.,\n",
       "         0.,  0.,  0.,  0.,  0.,  0.,  0.,  0.,  0.,  0.,  0.,  0.,  0.,\n",
       "         0.,  0.,  0.,  0.,  0.,  0.,  0.,  0.,  0.,  0.,  0.,  0.,  0.,\n",
       "         0.,  0.,  0.,  0.,  0.,  0.,  0.,  0.,  0.,  0.,  0.,  0.,  0.,\n",
       "         0.,  0.,  0.,  0.,  0.,  0.,  0.,  0.,  0.,  0.,  0.,  0.,  0.,\n",
       "         0.,  0.,  0.,  0.,  0.,  0.,  0.,  0.,  0.]),\n",
       " 'std_test_score': array([  0.00000000e+00,   0.00000000e+00,   0.00000000e+00,\n",
       "          0.00000000e+00,   1.42108547e-14,   0.00000000e+00,\n",
       "          0.00000000e+00,   0.00000000e+00,   0.00000000e+00,\n",
       "          0.00000000e+00,   0.00000000e+00,   0.00000000e+00,\n",
       "          0.00000000e+00,   0.00000000e+00,   0.00000000e+00,\n",
       "          0.00000000e+00,   0.00000000e+00,   0.00000000e+00,\n",
       "          0.00000000e+00,   0.00000000e+00,   0.00000000e+00,\n",
       "          0.00000000e+00,   0.00000000e+00,   0.00000000e+00,\n",
       "          0.00000000e+00,   0.00000000e+00,   0.00000000e+00,\n",
       "          0.00000000e+00,   0.00000000e+00,   0.00000000e+00,\n",
       "          0.00000000e+00,   0.00000000e+00,   0.00000000e+00,\n",
       "          0.00000000e+00,   0.00000000e+00,   0.00000000e+00,\n",
       "          0.00000000e+00,   0.00000000e+00,   0.00000000e+00,\n",
       "          0.00000000e+00,   0.00000000e+00,   0.00000000e+00,\n",
       "          1.42108547e-14,   0.00000000e+00,   0.00000000e+00,\n",
       "          0.00000000e+00,   0.00000000e+00,   0.00000000e+00,\n",
       "          0.00000000e+00,   0.00000000e+00,   0.00000000e+00,\n",
       "          0.00000000e+00,   0.00000000e+00,   0.00000000e+00,\n",
       "          0.00000000e+00,   0.00000000e+00,   0.00000000e+00,\n",
       "          0.00000000e+00,   0.00000000e+00,   0.00000000e+00,\n",
       "          0.00000000e+00,   0.00000000e+00,   0.00000000e+00,\n",
       "          0.00000000e+00,   0.00000000e+00,   0.00000000e+00,\n",
       "          0.00000000e+00,   0.00000000e+00,   0.00000000e+00,\n",
       "          0.00000000e+00,   0.00000000e+00,   0.00000000e+00,\n",
       "          0.00000000e+00,   0.00000000e+00,   0.00000000e+00,\n",
       "          0.00000000e+00,   0.00000000e+00,   0.00000000e+00,\n",
       "          0.00000000e+00,   0.00000000e+00,   0.00000000e+00,\n",
       "          0.00000000e+00,   0.00000000e+00,   0.00000000e+00,\n",
       "          0.00000000e+00,   0.00000000e+00,   0.00000000e+00,\n",
       "          0.00000000e+00,   0.00000000e+00,   0.00000000e+00,\n",
       "          0.00000000e+00,   0.00000000e+00,   0.00000000e+00,\n",
       "          0.00000000e+00,   0.00000000e+00,   0.00000000e+00,\n",
       "          0.00000000e+00,   0.00000000e+00,   0.00000000e+00,\n",
       "          0.00000000e+00]),\n",
       " 'std_train_score': array([ 0.,  0.,  0.,  0.,  0.,  0.,  0.,  0.,  0.,  0.,  0.,  0.,  0.,\n",
       "         0.,  0.,  0.,  0.,  0.,  0.,  0.,  0.,  0.,  0.,  0.,  0.,  0.,\n",
       "         0.,  0.,  0.,  0.,  0.,  0.,  0.,  0.,  0.,  0.,  0.,  0.,  0.,\n",
       "         0.,  0.,  0.,  0.,  0.,  0.,  0.,  0.,  0.,  0.,  0.,  0.,  0.,\n",
       "         0.,  0.,  0.,  0.,  0.,  0.,  0.,  0.,  0.,  0.,  0.,  0.,  0.,\n",
       "         0.,  0.,  0.,  0.,  0.,  0.,  0.,  0.,  0.,  0.,  0.,  0.,  0.,\n",
       "         0.,  0.,  0.,  0.,  0.,  0.,  0.,  0.,  0.,  0.,  0.,  0.,  0.,\n",
       "         0.,  0.,  0.,  0.,  0.,  0.,  0.,  0.,  0.])}"
      ]
     },
     "execution_count": 285,
     "metadata": {},
     "output_type": "execute_result"
    }
   ],
   "source": [
    "ltgl.cv_results_"
   ]
  },
  {
   "cell_type": "code",
   "execution_count": 286,
   "metadata": {
    "scrolled": true
   },
   "outputs": [
    {
     "name": "stdout",
     "output_type": "stream",
     "text": [
      "obj: -27.8911, rnorm: 9.3096, snorm: 0.9379,eps_pri: 0.0003, eps_dual: 0.0002\n",
      "obj: -29.4469, rnorm: 6.1944, snorm: 0.1207,eps_pri: 0.0003, eps_dual: 0.0002\n",
      "obj: -28.9781, rnorm: 4.3097, snorm: 0.0815,eps_pri: 0.0003, eps_dual: 0.0002\n",
      "obj: -28.3611, rnorm: 2.9521, snorm: 0.0499,eps_pri: 0.0003, eps_dual: 0.0002\n",
      "obj: -27.7975, rnorm: 1.9591, snorm: 0.0291,eps_pri: 0.0003, eps_dual: 0.0002\n",
      "obj: -27.4279, rnorm: 1.2892, snorm: 0.0184,eps_pri: 0.0003, eps_dual: 0.0002\n",
      "obj: -27.1923, rnorm: 0.8797, snorm: 0.0117,eps_pri: 0.0003, eps_dual: 0.0002\n",
      "obj: -27.0701, rnorm: 0.6414, snorm: 0.0081,eps_pri: 0.0003, eps_dual: 0.0002\n",
      "obj: -26.9760, rnorm: 0.4512, snorm: 0.0055,eps_pri: 0.0003, eps_dual: 0.0002\n",
      "obj: -26.9127, rnorm: 0.3255, snorm: 0.0037,eps_pri: 0.0003, eps_dual: 0.0002\n",
      "obj: -26.8723, rnorm: 0.2428, snorm: 0.0027,eps_pri: 0.0003, eps_dual: 0.0002\n",
      "obj: -26.8419, rnorm: 0.1813, snorm: 0.0019,eps_pri: 0.0003, eps_dual: 0.0002\n",
      "obj: -26.8178, rnorm: 0.1344, snorm: 0.0014,eps_pri: 0.0003, eps_dual: 0.0002\n",
      "obj: -26.8017, rnorm: 0.1004, snorm: 0.0010,eps_pri: 0.0003, eps_dual: 0.0002\n",
      "obj: -26.7907, rnorm: 0.0763, snorm: 0.0007,eps_pri: 0.0003, eps_dual: 0.0002\n",
      "obj: -26.7834, rnorm: 0.0588, snorm: 0.0006,eps_pri: 0.0003, eps_dual: 0.0002\n",
      "obj: -26.7781, rnorm: 0.0455, snorm: 0.0004,eps_pri: 0.0003, eps_dual: 0.0002\n",
      "obj: -26.7741, rnorm: 0.0354, snorm: 0.0003,eps_pri: 0.0003, eps_dual: 0.0002\n",
      "obj: -26.7711, rnorm: 0.0277, snorm: 0.0002,eps_pri: 0.0003, eps_dual: 0.0002\n",
      "obj: -26.7688, rnorm: 0.0218, snorm: 0.0002,eps_pri: 0.0003, eps_dual: 0.0002\n",
      "obj: -26.7671, rnorm: 0.0171, snorm: 0.0001,eps_pri: 0.0003, eps_dual: 0.0002\n",
      "obj: -26.7658, rnorm: 0.0135, snorm: 0.0001,eps_pri: 0.0003, eps_dual: 0.0002\n",
      "obj: -26.7648, rnorm: 0.0107, snorm: 0.0001,eps_pri: 0.0003, eps_dual: 0.0002\n",
      "obj: -26.7641, rnorm: 0.0085, snorm: 0.0001,eps_pri: 0.0003, eps_dual: 0.0002\n",
      "obj: -26.7635, rnorm: 0.0068, snorm: 0.0001,eps_pri: 0.0003, eps_dual: 0.0002\n",
      "obj: -26.7631, rnorm: 0.0054, snorm: 0.0000,eps_pri: 0.0003, eps_dual: 0.0002\n",
      "obj: -26.7627, rnorm: 0.0043, snorm: 0.0000,eps_pri: 0.0003, eps_dual: 0.0002\n",
      "obj: -26.7625, rnorm: 0.0035, snorm: 0.0000,eps_pri: 0.0003, eps_dual: 0.0002\n",
      "obj: -26.7623, rnorm: 0.0028, snorm: 0.0000,eps_pri: 0.0003, eps_dual: 0.0002\n",
      "obj: -26.7621, rnorm: 0.0022, snorm: 0.0000,eps_pri: 0.0003, eps_dual: 0.0002\n",
      "obj: -26.7620, rnorm: 0.0018, snorm: 0.0000,eps_pri: 0.0003, eps_dual: 0.0002\n",
      "obj: -26.7619, rnorm: 0.0015, snorm: 0.0000,eps_pri: 0.0003, eps_dual: 0.0002\n",
      "obj: -26.7618, rnorm: 0.0012, snorm: 0.0000,eps_pri: 0.0003, eps_dual: 0.0002\n",
      "obj: -26.7618, rnorm: 0.0010, snorm: 0.0000,eps_pri: 0.0003, eps_dual: 0.0002\n",
      "obj: -26.7617, rnorm: 0.0008, snorm: 0.0000,eps_pri: 0.0003, eps_dual: 0.0002\n",
      "obj: -26.7617, rnorm: 0.0006, snorm: 0.0000,eps_pri: 0.0003, eps_dual: 0.0002\n",
      "obj: -26.7617, rnorm: 0.0005, snorm: 0.0000,eps_pri: 0.0003, eps_dual: 0.0002\n",
      "obj: -26.7617, rnorm: 0.0004, snorm: 0.0000,eps_pri: 0.0003, eps_dual: 0.0002\n",
      "obj: -26.7617, rnorm: 0.0003, snorm: 0.0000,eps_pri: 0.0003, eps_dual: 0.0002\n",
      "obj: -26.7616, rnorm: 0.0003, snorm: 0.0000,eps_pri: 0.0003, eps_dual: 0.0002\n",
      "obj: -26.7616, rnorm: 0.0002, snorm: 0.0000,eps_pri: 0.0003, eps_dual: 0.0002\n"
     ]
    }
   ],
   "source": [
    "reload(latent_time_graph_lasso_v3_)\n",
    "emp_cov = [empirical_covariance(a, assume_centered=1) for a in data_list]\n",
    "results_time = latent_time_graph_lasso_v3_.latent_time_graph_lasso(\n",
    "        emp_cov, alpha=alpha, tau=tau,\n",
    "        beta=0, eta=0,\n",
    "        tol=1e-6, rtol=1e-6, rho=1. / np.sqrt(np.array(data_list).shape[1]),\n",
    "        verbose=1, max_iter=1000)"
   ]
  },
  {
   "cell_type": "code",
   "execution_count": 287,
   "metadata": {},
   "outputs": [
    {
     "name": "stdout",
     "output_type": "stream",
     "text": [
      "18\n"
     ]
    },
    {
     "data": {
      "image/png": "[encoded data removed]",
      "text/plain": [
       "<matplotlib.figure.Figure at 0x7f7d99e2e950>"
      ]
     },
     "metadata": {},
     "output_type": "display_data"
    }
   ],
   "source": [
    "print np.linalg.matrix_rank(results_time[1][0])\n",
    "#print(ltgl.best_score_)#results_time[1][0]\n",
    "from palladio import plotting; reload(plotting);\n",
    "plotting.score_surfaces_gridsearch(ltgl, indep_vars=['tau','alpha'], plot_errors=1,\n",
    "                                  zlim=None)"
   ]
  },
  {
   "cell_type": "code",
   "execution_count": 268,
   "metadata": {},
   "outputs": [
    {
     "data": {
      "text/plain": [
       "50"
      ]
     },
     "execution_count": 268,
     "metadata": {},
     "output_type": "execute_result"
    }
   ],
   "source": [
    "results_time[-1]"
   ]
  },
  {
   "cell_type": "code",
   "execution_count": 16,
   "metadata": {},
   "outputs": [],
   "source": [
    "%%matlab -i emp_list,alpha,beta,tau -o R,S,L,obj,res,iter\n",
    "%alpha = 0.05;\n",
    "%beta = 0.25;\n",
    "opts.continuation = 1; opts.num_continuation = 0;\n",
    "opts.eta = sqrt(100); opts.muf = 1e-6;\n",
    "opts.maxiter = 500; opts.stoptol = 1e-5; \n",
    "opts.over_relax_par = 1;\n",
    "\n",
    "R = cell(1, size(emp_list,3));\n",
    "S = cell(1, size(emp_list,3));\n",
    "L = cell(1, size(emp_list,3));\n",
    "obj = cell(1, size(emp_list,3));\n",
    "res = cell(1, size(emp_list,3));\n",
    "iter = cell(1, size(emp_list,3));\n",
    "for i=1:size(emp_list,3)\n",
    "cov = emp_list{i};\n",
    "    n = size(cov,1);opts.mu = n;\n",
    "    tic; out_B = ADMM_B(cov,alpha,tau,opts); solve_B = toc;\n",
    "    %%fprintf('ADMM_B: obj: %e, iter: %d, cpu: %3.1f \\n',out_B.obj,out_B.iter,solve_B);\n",
    "    R{i} = out_B.R;\n",
    "    S{i} = out_B.S;\n",
    "    L{i} = out_B.L;\n",
    "    obj{i} = out_B.obj;\n",
    "    res{i} = out_B.resid;\n",
    "    iter{i} = out_B.iter;\n",
    "end"
   ]
  },
  {
   "cell_type": "code",
   "execution_count": 26,
   "metadata": {},
   "outputs": [
    {
     "data": {
      "text/plain": [
       "array([[[ 3.49762705,  0.08178453, -0.11003206, ...,  0.00521433,\n",
       "         -0.01208111, -0.01124417],\n",
       "        [ 0.08178453,  3.67553913, -0.01635265, ..., -0.01077362,\n",
       "          0.04209026, -0.01098477],\n",
       "        [-0.11003206, -0.01635265,  3.92617443, ..., -0.005452  ,\n",
       "          0.01997072, -0.00824488],\n",
       "        ..., \n",
       "        [ 0.00521433, -0.01077362, -0.005452  , ...,  3.66664086,\n",
       "          0.01994893, -0.0048852 ],\n",
       "        [-0.01208111,  0.04209026,  0.01997072, ...,  0.01994893,\n",
       "          3.72227348,  0.0229203 ],\n",
       "        [-0.01124417, -0.01098477, -0.00824488, ..., -0.0048852 ,\n",
       "          0.0229203 ,  3.61006294]]])"
      ]
     },
     "execution_count": 26,
     "metadata": {},
     "output_type": "execute_result"
    }
   ],
   "source": [
    "R"
   ]
  },
  {
   "cell_type": "code",
   "execution_count": 18,
   "metadata": {},
   "outputs": [],
   "source": [
    "R = np.array(R)\n",
    "L = np.array(L)\n",
    "R_ar = np.array([R[i*R.shape[1]:(i+1)*R.shape[1]] for i in range(R.shape[0]/R.shape[1])])\n",
    "L_ar = np.array([L[i*L.shape[1]:(i+1)*L.shape[1]] for i in range(L.shape[0]/L.shape[1])])\n",
    "K_obs = np.array(Kobs) # K_obs is the matrix of observed samples\n",
    "K = np.array(K) # K is the real precision matrix\n",
    "ells = np.array(ells) # the latent matrices"
   ]
  },
  {
   "cell_type": "markdown",
   "metadata": {},
   "source": [
    "### Error obtained w.r.t. the observed data"
   ]
  },
  {
   "cell_type": "code",
   "execution_count": 29,
   "metadata": {},
   "outputs": [
    {
     "data": {
      "text/plain": [
       "75.33155411078495"
      ]
     },
     "execution_count": 29,
     "metadata": {},
     "output_type": "execute_result"
    }
   ],
   "source": [
    "error_norm(ltgl.best_estimator_.precision_ - ltgl.best_estimator_.latent_, [K_obs])"
   ]
  },
  {
   "cell_type": "code",
   "execution_count": 28,
   "metadata": {
    "scrolled": true
   },
   "outputs": [
    {
     "data": {
      "text/plain": [
       "75.331419307791407"
      ]
     },
     "execution_count": 28,
     "metadata": {},
     "output_type": "execute_result"
    }
   ],
   "source": [
    "error_norm(R, [K_obs])\n",
    "#print(ells)"
   ]
  },
  {
   "cell_type": "markdown",
   "metadata": {},
   "source": [
    "### Error obtained w.r.t. the real data"
   ]
  },
  {
   "cell_type": "code",
   "execution_count": 30,
   "metadata": {},
   "outputs": [
    {
     "name": "stdout",
     "output_type": "stream",
     "text": [
      "80.4995971227\n",
      "10.0681268255\n"
     ]
    }
   ],
   "source": [
    "print(error_norm(ltgl.best_estimator_.precision_, [K]))\n",
    "print(error_norm(ltgl.best_estimator_.latent_, [ells]))"
   ]
  },
  {
   "cell_type": "code",
   "execution_count": 37,
   "metadata": {},
   "outputs": [
    {
     "name": "stdout",
     "output_type": "stream",
     "text": [
      "80.5046803129\n",
      "10.0722694488\n"
     ]
    }
   ],
   "source": [
    "print(error_norm(R+L, K))\n",
    "print(error_norm(L, ells))"
   ]
  },
  {
   "cell_type": "markdown",
   "metadata": {
    "collapsed": true
   },
   "source": [
    "### Error in ranks"
   ]
  },
  {
   "cell_type": "code",
   "execution_count": 39,
   "metadata": {},
   "outputs": [
    {
     "name": "stdout",
     "output_type": "stream",
     "text": [
      "[4]\n",
      "[4]\n",
      "5\n"
     ]
    }
   ],
   "source": [
    "ells_estimated = ltgl.best_estimator_.latent_\n",
    "print [np.linalg.matrix_rank(ells_estimated[i]) for i in range(ells_estimated.shape[0])]\n",
    "print [np.linalg.matrix_rank(L[i]) for i in range(ells_estimated.shape[0])]\n",
    "print np.linalg.matrix_rank(ells)"
   ]
  },
  {
   "cell_type": "code",
   "execution_count": null,
   "metadata": {},
   "outputs": [],
   "source": [
    "#es, Q = np.linalg.eigh(ells_estimated[0])"
   ]
  },
  {
   "cell_type": "markdown",
   "metadata": {
    "scrolled": false
   },
   "source": [
    "### Error in structure"
   ]
  },
  {
   "cell_type": "code",
   "execution_count": 40,
   "metadata": {},
   "outputs": [
    {
     "name": "stdout",
     "output_type": "stream",
     "text": [
      "[[ 3.5244408   0.07222094 -0.09224081 ...,  0.          0.         -0.01289325]\n",
      " [ 0.07222094  3.69886366  0.         ...,  0.          0.          0.        ]\n",
      " [-0.09224081  0.          3.96822014 ...,  0.          0.          0.        ]\n",
      " ..., \n",
      " [ 0.          0.          0.         ...,  3.67326794  0.          0.        ]\n",
      " [ 0.          0.          0.         ...,  0.          3.79411195  0.        ]\n",
      " [-0.01289325  0.          0.         ...,  0.          0.          3.61756956]]\n",
      "[ 4.08150255  0.          0.          0.55326992  0.          0.          0.\n",
      "  0.          0.          0.         -0.43856603  0.71417833  0.          0.\n",
      "  0.          0.          0.          0.36010856  0.          0.          0.\n",
      "  0.          0.          0.          0.          0.          0.          0.\n",
      "  0.          1.          0.          0.          0.          0.          0.\n",
      "  0.          0.          0.          0.          0.          0.          1.\n",
      "  0.          0.          1.         -0.7709965   0.          0.\n",
      " -0.06856763  0.          0.          0.83033381  0.          0.\n",
      " -0.40838853  0.          0.          0.          0.          0.          0.\n",
      "  0.          0.          0.          0.          0.          0.77100175\n",
      "  0.          0.          0.          0.          0.          0.          0.\n",
      "  0.          0.          0.          0.          0.          0.          0.\n",
      " -0.28084137  0.          0.          0.          0.          0.          0.\n",
      "  0.          0.          0.          0.          0.         -0.56855762\n",
      "  0.          0.          0.          0.          0.          0.        ]\n",
      "________________________________________________________________________________________\n",
      "3348\n"
     ]
    }
   ],
   "source": [
    "for true, predict in zip(K.copy(), ltgl.best_estimator_.precision_.copy()):\n",
    "    predict[np.abs(predict)<1e-2] = 0\n",
    "    print(predict)\n",
    "    print(true)\n",
    "    print(\"________________________________________________________________________________________\")\n",
    "    true[true != 0] = 1\n",
    "    predict[predict != 0] = 1\n",
    "    res = true+predict\n",
    "    #print(res)\n",
    "    #print(res==1)\n",
    "    print np.count_nonzero((res==1).astype(int))"
   ]
  },
  {
   "cell_type": "code",
   "execution_count": null,
   "metadata": {},
   "outputs": [],
   "source": [
    "print true"
   ]
  },
  {
   "cell_type": "code",
   "execution_count": null,
   "metadata": {},
   "outputs": [],
   "source": [
    "print K"
   ]
  },
  {
   "cell_type": "code",
   "execution_count": null,
   "metadata": {},
   "outputs": [],
   "source": [
    "print ltgl.best_estimator_.precision_\n"
   ]
  },
  {
   "cell_type": "code",
   "execution_count": null,
   "metadata": {},
   "outputs": [],
   "source": []
  }
 ],
 "metadata": {
  "kernelspec": {
   "display_name": "Python 2",
   "language": "python",
   "name": "python2"
  },
  "language_info": {
   "codemirror_mode": {
    "name": "ipython",
    "version": 2
   },
   "file_extension": ".py",
   "mimetype": "text/x-python",
   "name": "python",
   "nbconvert_exporter": "python",
   "pygments_lexer": "ipython2",
   "version": "2.7.13"
  }
 },
 "nbformat": 4,
 "nbformat_minor": 2
}
