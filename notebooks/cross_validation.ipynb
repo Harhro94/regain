{
 "cells": [
  {
   "cell_type": "markdown",
   "metadata": {},
   "source": [
    "# Cross-validation\n",
    "This notebook shows an example on how it is possible to cross-validate parameters fot LTGL.\n",
    "\n",
    "<font color='red'><b>Note</b></font>: at the moment we rely on `GPyOpt` for Bayesian optimisation. \n",
    "If you don't have this package installed, you can choose a grid of parameters and use `GridSearchCV` from `scikit-learn`."
   ]
  },
  {
   "cell_type": "code",
   "execution_count": 1,
   "metadata": {
    "collapsed": true
   },
   "outputs": [],
   "source": [
    "import numpy as np\n",
    "import pandas as pd\n",
    "import time\n",
    "\n",
    "from sklearn.model_selection import GridSearchCV, ShuffleSplit\n",
    "\n",
    "from regain import datasets, model_selection, utils\n",
    "from regain.admm.latent_time_graph_lasso_ import LatentTimeGraphLasso\n",
    "\n",
    "np.random.seed(20)"
   ]
  },
  {
   "cell_type": "markdown",
   "metadata": {},
   "source": [
    "## 1. Prepare data set\n",
    "Let's prepare a synthetic dataset which we can work on."
   ]
  },
  {
   "cell_type": "code",
   "execution_count": 2,
   "metadata": {
    "collapsed": true
   },
   "outputs": [],
   "source": [
    "# setting 1\n",
    "alpha = 0.45\n",
    "tau = 3\n",
    "beta = 50\n",
    "eta = 10\n",
    "\n",
    "n_samples = 100\n",
    "n_dim_lat = 20\n",
    "T = 10\n",
    "n_dim_obs = 100\n",
    "\n",
    "data = datasets.generate_dataset(\n",
    "    mode='norm', n_samples=n_samples, n_dim_lat=n_dim_lat, n_dim_obs=n_dim_obs,  T=T, epsilon=1e-1,\n",
    "    proportional=True, degree=2, keep_sparsity=True)"
   ]
  },
  {
   "cell_type": "markdown",
   "metadata": {},
   "source": [
    "## 2.1 Cross-validation via GridSearchCV"
   ]
  },
  {
   "cell_type": "code",
   "execution_count": 5,
   "metadata": {
    "scrolled": true
   },
   "outputs": [
    {
     "name": "stdout",
     "output_type": "stream",
     "text": [
      "Fitting 10 folds for each of 16 candidates, totalling 160 fits\n",
      "[CV] alpha=0.45, beta=20, eta=5, tau=1 ...............................\n",
      "[CV] ................ alpha=0.45, beta=20, eta=5, tau=1, total=   5.9s\n",
      "[CV] alpha=0.45, beta=20, eta=5, tau=1 ...............................\n"
     ]
    },
    {
     "name": "stderr",
     "output_type": "stream",
     "text": [
      "[Parallel(n_jobs=1)]: Done   1 out of   1 | elapsed:    5.9s remaining:    0.0s\n"
     ]
    },
    {
     "name": "stdout",
     "output_type": "stream",
     "text": [
      "[CV] ................ alpha=0.45, beta=20, eta=5, tau=1, total=   5.2s\n",
      "[CV] alpha=0.45, beta=20, eta=5, tau=1 ...............................\n",
      "[CV] ................ alpha=0.45, beta=20, eta=5, tau=1, total=   5.1s\n",
      "[CV] alpha=0.45, beta=20, eta=5, tau=1 ...............................\n",
      "[CV] ................ alpha=0.45, beta=20, eta=5, tau=1, total=   5.2s\n",
      "[CV] alpha=0.45, beta=20, eta=5, tau=1 ...............................\n",
      "[CV] ................ alpha=0.45, beta=20, eta=5, tau=1, total=   5.2s\n",
      "[CV] alpha=0.45, beta=20, eta=5, tau=1 ...............................\n",
      "[CV] ................ alpha=0.45, beta=20, eta=5, tau=1, total=   5.4s\n",
      "[CV] alpha=0.45, beta=20, eta=5, tau=1 ...............................\n",
      "[CV] ................ alpha=0.45, beta=20, eta=5, tau=1, total=   5.1s\n",
      "[CV] alpha=0.45, beta=20, eta=5, tau=1 ...............................\n",
      "[CV] ................ alpha=0.45, beta=20, eta=5, tau=1, total=   5.1s\n",
      "[CV] alpha=0.45, beta=20, eta=5, tau=1 ...............................\n",
      "[CV] ................ alpha=0.45, beta=20, eta=5, tau=1, total=   5.2s\n",
      "[CV] alpha=0.45, beta=20, eta=5, tau=1 ...............................\n",
      "[CV] ................ alpha=0.45, beta=20, eta=5, tau=1, total=   5.2s\n",
      "[CV] alpha=0.45, beta=20, eta=5, tau=3 ...............................\n",
      "[CV] ................ alpha=0.45, beta=20, eta=5, tau=3, total=   6.3s\n",
      "[CV] alpha=0.45, beta=20, eta=5, tau=3 ...............................\n",
      "[CV] ................ alpha=0.45, beta=20, eta=5, tau=3, total=   6.3s\n",
      "[CV] alpha=0.45, beta=20, eta=5, tau=3 ...............................\n",
      "[CV] ................ alpha=0.45, beta=20, eta=5, tau=3, total=   6.3s\n",
      "[CV] alpha=0.45, beta=20, eta=5, tau=3 ...............................\n",
      "[CV] ................ alpha=0.45, beta=20, eta=5, tau=3, total=   6.2s\n",
      "[CV] alpha=0.45, beta=20, eta=5, tau=3 ...............................\n",
      "[CV] ................ alpha=0.45, beta=20, eta=5, tau=3, total=   6.3s\n",
      "[CV] alpha=0.45, beta=20, eta=5, tau=3 ...............................\n",
      "[CV] ................ alpha=0.45, beta=20, eta=5, tau=3, total=   6.2s\n",
      "[CV] alpha=0.45, beta=20, eta=5, tau=3 ...............................\n",
      "[CV] ................ alpha=0.45, beta=20, eta=5, tau=3, total=   6.6s\n",
      "[CV] alpha=0.45, beta=20, eta=5, tau=3 ...............................\n",
      "[CV] ................ alpha=0.45, beta=20, eta=5, tau=3, total=   6.4s\n",
      "[CV] alpha=0.45, beta=20, eta=5, tau=3 ...............................\n",
      "[CV] ................ alpha=0.45, beta=20, eta=5, tau=3, total=   6.3s\n",
      "[CV] alpha=0.45, beta=20, eta=5, tau=3 ...............................\n",
      "[CV] ................ alpha=0.45, beta=20, eta=5, tau=3, total=   6.3s\n",
      "[CV] alpha=0.45, beta=20, eta=10, tau=1 ..............................\n",
      "[CV] ............... alpha=0.45, beta=20, eta=10, tau=1, total=   7.0s\n",
      "[CV] alpha=0.45, beta=20, eta=10, tau=1 ..............................\n",
      "[CV] ............... alpha=0.45, beta=20, eta=10, tau=1, total=   7.1s\n",
      "[CV] alpha=0.45, beta=20, eta=10, tau=1 ..............................\n",
      "[CV] ............... alpha=0.45, beta=20, eta=10, tau=1, total=   7.0s\n",
      "[CV] alpha=0.45, beta=20, eta=10, tau=1 ..............................\n",
      "[CV] ............... alpha=0.45, beta=20, eta=10, tau=1, total=   7.0s\n",
      "[CV] alpha=0.45, beta=20, eta=10, tau=1 ..............................\n",
      "[CV] ............... alpha=0.45, beta=20, eta=10, tau=1, total=   7.0s\n",
      "[CV] alpha=0.45, beta=20, eta=10, tau=1 ..............................\n",
      "[CV] ............... alpha=0.45, beta=20, eta=10, tau=1, total=   7.0s\n",
      "[CV] alpha=0.45, beta=20, eta=10, tau=1 ..............................\n",
      "[CV] ............... alpha=0.45, beta=20, eta=10, tau=1, total=   7.1s\n",
      "[CV] alpha=0.45, beta=20, eta=10, tau=1 ..............................\n",
      "[CV] ............... alpha=0.45, beta=20, eta=10, tau=1, total=   7.0s\n",
      "[CV] alpha=0.45, beta=20, eta=10, tau=1 ..............................\n",
      "[CV] ............... alpha=0.45, beta=20, eta=10, tau=1, total=   7.0s\n",
      "[CV] alpha=0.45, beta=20, eta=10, tau=1 ..............................\n",
      "[CV] ............... alpha=0.45, beta=20, eta=10, tau=1, total=   7.1s\n",
      "[CV] alpha=0.45, beta=20, eta=10, tau=3 ..............................\n",
      "[CV] ............... alpha=0.45, beta=20, eta=10, tau=3, total=   7.4s\n",
      "[CV] alpha=0.45, beta=20, eta=10, tau=3 ..............................\n",
      "[CV] ............... alpha=0.45, beta=20, eta=10, tau=3, total=   7.2s\n",
      "[CV] alpha=0.45, beta=20, eta=10, tau=3 ..............................\n",
      "[CV] ............... alpha=0.45, beta=20, eta=10, tau=3, total=   7.3s\n",
      "[CV] alpha=0.45, beta=20, eta=10, tau=3 ..............................\n",
      "[CV] ............... alpha=0.45, beta=20, eta=10, tau=3, total=   7.4s\n",
      "[CV] alpha=0.45, beta=20, eta=10, tau=3 ..............................\n",
      "[CV] ............... alpha=0.45, beta=20, eta=10, tau=3, total=   7.2s\n",
      "[CV] alpha=0.45, beta=20, eta=10, tau=3 ..............................\n",
      "[CV] ............... alpha=0.45, beta=20, eta=10, tau=3, total=   7.2s\n",
      "[CV] alpha=0.45, beta=20, eta=10, tau=3 ..............................\n",
      "[CV] ............... alpha=0.45, beta=20, eta=10, tau=3, total=   7.1s\n",
      "[CV] alpha=0.45, beta=20, eta=10, tau=3 ..............................\n",
      "[CV] ............... alpha=0.45, beta=20, eta=10, tau=3, total=   7.4s\n",
      "[CV] alpha=0.45, beta=20, eta=10, tau=3 ..............................\n",
      "[CV] ............... alpha=0.45, beta=20, eta=10, tau=3, total=   7.3s\n",
      "[CV] alpha=0.45, beta=20, eta=10, tau=3 ..............................\n",
      "[CV] ............... alpha=0.45, beta=20, eta=10, tau=3, total=   7.2s\n",
      "[CV] alpha=0.45, beta=50, eta=5, tau=1 ...............................\n",
      "[CV] ................ alpha=0.45, beta=50, eta=5, tau=1, total=   5.5s\n",
      "[CV] alpha=0.45, beta=50, eta=5, tau=1 ...............................\n",
      "[CV] ................ alpha=0.45, beta=50, eta=5, tau=1, total=   5.4s\n",
      "[CV] alpha=0.45, beta=50, eta=5, tau=1 ...............................\n",
      "[CV] ................ alpha=0.45, beta=50, eta=5, tau=1, total=   5.4s\n",
      "[CV] alpha=0.45, beta=50, eta=5, tau=1 ...............................\n",
      "[CV] ................ alpha=0.45, beta=50, eta=5, tau=1, total=   5.5s\n",
      "[CV] alpha=0.45, beta=50, eta=5, tau=1 ...............................\n",
      "[CV] ................ alpha=0.45, beta=50, eta=5, tau=1, total=   5.5s\n",
      "[CV] alpha=0.45, beta=50, eta=5, tau=1 ...............................\n",
      "[CV] ................ alpha=0.45, beta=50, eta=5, tau=1, total=   5.5s\n",
      "[CV] alpha=0.45, beta=50, eta=5, tau=1 ...............................\n",
      "[CV] ................ alpha=0.45, beta=50, eta=5, tau=1, total=   5.6s\n",
      "[CV] alpha=0.45, beta=50, eta=5, tau=1 ...............................\n",
      "[CV] ................ alpha=0.45, beta=50, eta=5, tau=1, total=   5.5s\n",
      "[CV] alpha=0.45, beta=50, eta=5, tau=1 ...............................\n",
      "[CV] ................ alpha=0.45, beta=50, eta=5, tau=1, total=   5.6s\n",
      "[CV] alpha=0.45, beta=50, eta=5, tau=1 ...............................\n",
      "[CV] ................ alpha=0.45, beta=50, eta=5, tau=1, total=   5.5s\n",
      "[CV] alpha=0.45, beta=50, eta=5, tau=3 ...............................\n",
      "[CV] ................ alpha=0.45, beta=50, eta=5, tau=3, total=   8.2s\n",
      "[CV] alpha=0.45, beta=50, eta=5, tau=3 ...............................\n",
      "[CV] ................ alpha=0.45, beta=50, eta=5, tau=3, total=   7.8s\n",
      "[CV] alpha=0.45, beta=50, eta=5, tau=3 ...............................\n",
      "[CV] ................ alpha=0.45, beta=50, eta=5, tau=3, total=   8.0s\n",
      "[CV] alpha=0.45, beta=50, eta=5, tau=3 ...............................\n",
      "[CV] ................ alpha=0.45, beta=50, eta=5, tau=3, total=   8.1s\n",
      "[CV] alpha=0.45, beta=50, eta=5, tau=3 ...............................\n",
      "[CV] ................ alpha=0.45, beta=50, eta=5, tau=3, total=   8.0s\n",
      "[CV] alpha=0.45, beta=50, eta=5, tau=3 ...............................\n",
      "[CV] ................ alpha=0.45, beta=50, eta=5, tau=3, total=   8.0s\n",
      "[CV] alpha=0.45, beta=50, eta=5, tau=3 ...............................\n",
      "[CV] ................ alpha=0.45, beta=50, eta=5, tau=3, total=   7.9s\n",
      "[CV] alpha=0.45, beta=50, eta=5, tau=3 ...............................\n",
      "[CV] ................ alpha=0.45, beta=50, eta=5, tau=3, total=   7.9s\n",
      "[CV] alpha=0.45, beta=50, eta=5, tau=3 ...............................\n",
      "[CV] ................ alpha=0.45, beta=50, eta=5, tau=3, total=   8.0s\n",
      "[CV] alpha=0.45, beta=50, eta=5, tau=3 ...............................\n"
     ]
    },
    {
     "name": "stdout",
     "output_type": "stream",
     "text": [
      "[CV] ................ alpha=0.45, beta=50, eta=5, tau=3, total=   8.3s\n",
      "[CV] alpha=0.45, beta=50, eta=10, tau=1 ..............................\n",
      "[CV] ............... alpha=0.45, beta=50, eta=10, tau=1, total=   7.3s\n",
      "[CV] alpha=0.45, beta=50, eta=10, tau=1 ..............................\n",
      "[CV] ............... alpha=0.45, beta=50, eta=10, tau=1, total=   7.2s\n",
      "[CV] alpha=0.45, beta=50, eta=10, tau=1 ..............................\n",
      "[CV] ............... alpha=0.45, beta=50, eta=10, tau=1, total=   7.3s\n",
      "[CV] alpha=0.45, beta=50, eta=10, tau=1 ..............................\n",
      "[CV] ............... alpha=0.45, beta=50, eta=10, tau=1, total=   7.4s\n",
      "[CV] alpha=0.45, beta=50, eta=10, tau=1 ..............................\n",
      "[CV] ............... alpha=0.45, beta=50, eta=10, tau=1, total=   7.3s\n",
      "[CV] alpha=0.45, beta=50, eta=10, tau=1 ..............................\n",
      "[CV] ............... alpha=0.45, beta=50, eta=10, tau=1, total=   7.2s\n",
      "[CV] alpha=0.45, beta=50, eta=10, tau=1 ..............................\n",
      "[CV] ............... alpha=0.45, beta=50, eta=10, tau=1, total=   7.2s\n",
      "[CV] alpha=0.45, beta=50, eta=10, tau=1 ..............................\n",
      "[CV] ............... alpha=0.45, beta=50, eta=10, tau=1, total=   7.4s\n",
      "[CV] alpha=0.45, beta=50, eta=10, tau=1 ..............................\n",
      "[CV] ............... alpha=0.45, beta=50, eta=10, tau=1, total=   7.5s\n",
      "[CV] alpha=0.45, beta=50, eta=10, tau=1 ..............................\n",
      "[CV] ............... alpha=0.45, beta=50, eta=10, tau=1, total=   7.4s\n",
      "[CV] alpha=0.45, beta=50, eta=10, tau=3 ..............................\n",
      "[CV] ............... alpha=0.45, beta=50, eta=10, tau=3, total=   9.0s\n",
      "[CV] alpha=0.45, beta=50, eta=10, tau=3 ..............................\n",
      "[CV] ............... alpha=0.45, beta=50, eta=10, tau=3, total=   8.4s\n",
      "[CV] alpha=0.45, beta=50, eta=10, tau=3 ..............................\n",
      "[CV] ............... alpha=0.45, beta=50, eta=10, tau=3, total=   8.7s\n",
      "[CV] alpha=0.45, beta=50, eta=10, tau=3 ..............................\n",
      "[CV] ............... alpha=0.45, beta=50, eta=10, tau=3, total=   8.6s\n",
      "[CV] alpha=0.45, beta=50, eta=10, tau=3 ..............................\n",
      "[CV] ............... alpha=0.45, beta=50, eta=10, tau=3, total=   8.9s\n",
      "[CV] alpha=0.45, beta=50, eta=10, tau=3 ..............................\n",
      "[CV] ............... alpha=0.45, beta=50, eta=10, tau=3, total=   8.4s\n",
      "[CV] alpha=0.45, beta=50, eta=10, tau=3 ..............................\n",
      "[CV] ............... alpha=0.45, beta=50, eta=10, tau=3, total=   8.3s\n",
      "[CV] alpha=0.45, beta=50, eta=10, tau=3 ..............................\n",
      "[CV] ............... alpha=0.45, beta=50, eta=10, tau=3, total=   8.4s\n",
      "[CV] alpha=0.45, beta=50, eta=10, tau=3 ..............................\n",
      "[CV] ............... alpha=0.45, beta=50, eta=10, tau=3, total=   8.7s\n",
      "[CV] alpha=0.45, beta=50, eta=10, tau=3 ..............................\n",
      "[CV] ............... alpha=0.45, beta=50, eta=10, tau=3, total=   8.7s\n",
      "[CV] alpha=1, beta=20, eta=5, tau=1 ..................................\n",
      "[CV] ................... alpha=1, beta=20, eta=5, tau=1, total=   5.5s\n",
      "[CV] alpha=1, beta=20, eta=5, tau=1 ..................................\n",
      "[CV] ................... alpha=1, beta=20, eta=5, tau=1, total=   5.5s\n",
      "[CV] alpha=1, beta=20, eta=5, tau=1 ..................................\n",
      "[CV] ................... alpha=1, beta=20, eta=5, tau=1, total=   5.5s\n",
      "[CV] alpha=1, beta=20, eta=5, tau=1 ..................................\n",
      "[CV] ................... alpha=1, beta=20, eta=5, tau=1, total=   5.8s\n",
      "[CV] alpha=1, beta=20, eta=5, tau=1 ..................................\n",
      "[CV] ................... alpha=1, beta=20, eta=5, tau=1, total=   5.6s\n",
      "[CV] alpha=1, beta=20, eta=5, tau=1 ..................................\n",
      "[CV] ................... alpha=1, beta=20, eta=5, tau=1, total=   5.7s\n",
      "[CV] alpha=1, beta=20, eta=5, tau=1 ..................................\n",
      "[CV] ................... alpha=1, beta=20, eta=5, tau=1, total=   5.6s\n",
      "[CV] alpha=1, beta=20, eta=5, tau=1 ..................................\n",
      "[CV] ................... alpha=1, beta=20, eta=5, tau=1, total=   5.5s\n",
      "[CV] alpha=1, beta=20, eta=5, tau=1 ..................................\n",
      "[CV] ................... alpha=1, beta=20, eta=5, tau=1, total=   5.6s\n",
      "[CV] alpha=1, beta=20, eta=5, tau=1 ..................................\n",
      "[CV] ................... alpha=1, beta=20, eta=5, tau=1, total=   5.5s\n",
      "[CV] alpha=1, beta=20, eta=5, tau=3 ..................................\n",
      "[CV] ................... alpha=1, beta=20, eta=5, tau=3, total=   5.8s\n",
      "[CV] alpha=1, beta=20, eta=5, tau=3 ..................................\n",
      "[CV] ................... alpha=1, beta=20, eta=5, tau=3, total=   5.7s\n",
      "[CV] alpha=1, beta=20, eta=5, tau=3 ..................................\n",
      "[CV] ................... alpha=1, beta=20, eta=5, tau=3, total=   5.8s\n",
      "[CV] alpha=1, beta=20, eta=5, tau=3 ..................................\n",
      "[CV] ................... alpha=1, beta=20, eta=5, tau=3, total=   5.9s\n",
      "[CV] alpha=1, beta=20, eta=5, tau=3 ..................................\n",
      "[CV] ................... alpha=1, beta=20, eta=5, tau=3, total=   5.7s\n",
      "[CV] alpha=1, beta=20, eta=5, tau=3 ..................................\n",
      "[CV] ................... alpha=1, beta=20, eta=5, tau=3, total=   5.7s\n",
      "[CV] alpha=1, beta=20, eta=5, tau=3 ..................................\n",
      "[CV] ................... alpha=1, beta=20, eta=5, tau=3, total=   5.8s\n",
      "[CV] alpha=1, beta=20, eta=5, tau=3 ..................................\n",
      "[CV] ................... alpha=1, beta=20, eta=5, tau=3, total=   5.7s\n",
      "[CV] alpha=1, beta=20, eta=5, tau=3 ..................................\n",
      "[CV] ................... alpha=1, beta=20, eta=5, tau=3, total=   5.9s\n",
      "[CV] alpha=1, beta=20, eta=5, tau=3 ..................................\n",
      "[CV] ................... alpha=1, beta=20, eta=5, tau=3, total=   5.8s\n",
      "[CV] alpha=1, beta=20, eta=10, tau=1 .................................\n",
      "[CV] .................. alpha=1, beta=20, eta=10, tau=1, total=   6.1s\n",
      "[CV] alpha=1, beta=20, eta=10, tau=1 .................................\n",
      "[CV] .................. alpha=1, beta=20, eta=10, tau=1, total=   6.4s\n",
      "[CV] alpha=1, beta=20, eta=10, tau=1 .................................\n",
      "[CV] .................. alpha=1, beta=20, eta=10, tau=1, total=   6.3s\n",
      "[CV] alpha=1, beta=20, eta=10, tau=1 .................................\n",
      "[CV] .................. alpha=1, beta=20, eta=10, tau=1, total=   6.3s\n",
      "[CV] alpha=1, beta=20, eta=10, tau=1 .................................\n",
      "[CV] .................. alpha=1, beta=20, eta=10, tau=1, total=   6.4s\n",
      "[CV] alpha=1, beta=20, eta=10, tau=1 .................................\n",
      "[CV] .................. alpha=1, beta=20, eta=10, tau=1, total=   6.5s\n",
      "[CV] alpha=1, beta=20, eta=10, tau=1 .................................\n",
      "[CV] .................. alpha=1, beta=20, eta=10, tau=1, total=   7.1s\n",
      "[CV] alpha=1, beta=20, eta=10, tau=1 .................................\n",
      "[CV] .................. alpha=1, beta=20, eta=10, tau=1, total=   6.4s\n",
      "[CV] alpha=1, beta=20, eta=10, tau=1 .................................\n",
      "[CV] .................. alpha=1, beta=20, eta=10, tau=1, total=   6.3s\n",
      "[CV] alpha=1, beta=20, eta=10, tau=1 .................................\n",
      "[CV] .................. alpha=1, beta=20, eta=10, tau=1, total=   6.4s\n",
      "[CV] alpha=1, beta=20, eta=10, tau=3 .................................\n",
      "[CV] .................. alpha=1, beta=20, eta=10, tau=3, total=   6.5s\n",
      "[CV] alpha=1, beta=20, eta=10, tau=3 .................................\n",
      "[CV] .................. alpha=1, beta=20, eta=10, tau=3, total=   6.8s\n",
      "[CV] alpha=1, beta=20, eta=10, tau=3 .................................\n",
      "[CV] .................. alpha=1, beta=20, eta=10, tau=3, total=   6.6s\n",
      "[CV] alpha=1, beta=20, eta=10, tau=3 .................................\n",
      "[CV] .................. alpha=1, beta=20, eta=10, tau=3, total=   6.4s\n",
      "[CV] alpha=1, beta=20, eta=10, tau=3 .................................\n",
      "[CV] .................. alpha=1, beta=20, eta=10, tau=3, total=   6.7s\n",
      "[CV] alpha=1, beta=20, eta=10, tau=3 .................................\n",
      "[CV] .................. alpha=1, beta=20, eta=10, tau=3, total=   6.6s\n",
      "[CV] alpha=1, beta=20, eta=10, tau=3 .................................\n",
      "[CV] .................. alpha=1, beta=20, eta=10, tau=3, total=   7.2s\n",
      "[CV] alpha=1, beta=20, eta=10, tau=3 .................................\n"
     ]
    },
    {
     "name": "stdout",
     "output_type": "stream",
     "text": [
      "[CV] .................. alpha=1, beta=20, eta=10, tau=3, total=   6.6s\n",
      "[CV] alpha=1, beta=20, eta=10, tau=3 .................................\n",
      "[CV] .................. alpha=1, beta=20, eta=10, tau=3, total=   6.6s\n",
      "[CV] alpha=1, beta=20, eta=10, tau=3 .................................\n",
      "[CV] .................. alpha=1, beta=20, eta=10, tau=3, total=   6.7s\n",
      "[CV] alpha=1, beta=50, eta=5, tau=1 ..................................\n",
      "[CV] ................... alpha=1, beta=50, eta=5, tau=1, total=   6.7s\n",
      "[CV] alpha=1, beta=50, eta=5, tau=1 ..................................\n",
      "[CV] ................... alpha=1, beta=50, eta=5, tau=1, total=   6.6s\n",
      "[CV] alpha=1, beta=50, eta=5, tau=1 ..................................\n",
      "[CV] ................... alpha=1, beta=50, eta=5, tau=1, total=   6.6s\n",
      "[CV] alpha=1, beta=50, eta=5, tau=1 ..................................\n",
      "[CV] ................... alpha=1, beta=50, eta=5, tau=1, total=   6.6s\n",
      "[CV] alpha=1, beta=50, eta=5, tau=1 ..................................\n",
      "[CV] ................... alpha=1, beta=50, eta=5, tau=1, total=   6.7s\n",
      "[CV] alpha=1, beta=50, eta=5, tau=1 ..................................\n",
      "[CV] ................... alpha=1, beta=50, eta=5, tau=1, total=   6.7s\n",
      "[CV] alpha=1, beta=50, eta=5, tau=1 ..................................\n",
      "[CV] ................... alpha=1, beta=50, eta=5, tau=1, total=   6.8s\n",
      "[CV] alpha=1, beta=50, eta=5, tau=1 ..................................\n",
      "[CV] ................... alpha=1, beta=50, eta=5, tau=1, total=   6.7s\n",
      "[CV] alpha=1, beta=50, eta=5, tau=1 ..................................\n",
      "[CV] ................... alpha=1, beta=50, eta=5, tau=1, total=   6.8s\n",
      "[CV] alpha=1, beta=50, eta=5, tau=1 ..................................\n",
      "[CV] ................... alpha=1, beta=50, eta=5, tau=1, total=   6.7s\n",
      "[CV] alpha=1, beta=50, eta=5, tau=3 ..................................\n",
      "[CV] ................... alpha=1, beta=50, eta=5, tau=3, total=   7.6s\n",
      "[CV] alpha=1, beta=50, eta=5, tau=3 ..................................\n",
      "[CV] ................... alpha=1, beta=50, eta=5, tau=3, total=   7.5s\n",
      "[CV] alpha=1, beta=50, eta=5, tau=3 ..................................\n",
      "[CV] ................... alpha=1, beta=50, eta=5, tau=3, total=   7.6s\n",
      "[CV] alpha=1, beta=50, eta=5, tau=3 ..................................\n",
      "[CV] ................... alpha=1, beta=50, eta=5, tau=3, total=   7.5s\n",
      "[CV] alpha=1, beta=50, eta=5, tau=3 ..................................\n",
      "[CV] ................... alpha=1, beta=50, eta=5, tau=3, total=   7.6s\n",
      "[CV] alpha=1, beta=50, eta=5, tau=3 ..................................\n",
      "[CV] ................... alpha=1, beta=50, eta=5, tau=3, total=   7.6s\n",
      "[CV] alpha=1, beta=50, eta=5, tau=3 ..................................\n",
      "[CV] ................... alpha=1, beta=50, eta=5, tau=3, total=   7.7s\n",
      "[CV] alpha=1, beta=50, eta=5, tau=3 ..................................\n",
      "[CV] ................... alpha=1, beta=50, eta=5, tau=3, total=   7.5s\n",
      "[CV] alpha=1, beta=50, eta=5, tau=3 ..................................\n",
      "[CV] ................... alpha=1, beta=50, eta=5, tau=3, total=   7.7s\n",
      "[CV] alpha=1, beta=50, eta=5, tau=3 ..................................\n",
      "[CV] ................... alpha=1, beta=50, eta=5, tau=3, total=   7.7s\n",
      "[CV] alpha=1, beta=50, eta=10, tau=1 .................................\n",
      "[CV] .................. alpha=1, beta=50, eta=10, tau=1, total=   7.8s\n",
      "[CV] alpha=1, beta=50, eta=10, tau=1 .................................\n",
      "[CV] .................. alpha=1, beta=50, eta=10, tau=1, total=   7.8s\n",
      "[CV] alpha=1, beta=50, eta=10, tau=1 .................................\n",
      "[CV] .................. alpha=1, beta=50, eta=10, tau=1, total=   7.9s\n",
      "[CV] alpha=1, beta=50, eta=10, tau=1 .................................\n",
      "[CV] .................. alpha=1, beta=50, eta=10, tau=1, total=   7.8s\n",
      "[CV] alpha=1, beta=50, eta=10, tau=1 .................................\n",
      "[CV] .................. alpha=1, beta=50, eta=10, tau=1, total=   7.8s\n",
      "[CV] alpha=1, beta=50, eta=10, tau=1 .................................\n",
      "[CV] .................. alpha=1, beta=50, eta=10, tau=1, total=   7.8s\n",
      "[CV] alpha=1, beta=50, eta=10, tau=1 .................................\n",
      "[CV] .................. alpha=1, beta=50, eta=10, tau=1, total=   7.9s\n",
      "[CV] alpha=1, beta=50, eta=10, tau=1 .................................\n",
      "[CV] .................. alpha=1, beta=50, eta=10, tau=1, total=   7.9s\n",
      "[CV] alpha=1, beta=50, eta=10, tau=1 .................................\n",
      "[CV] .................. alpha=1, beta=50, eta=10, tau=1, total=   7.9s\n",
      "[CV] alpha=1, beta=50, eta=10, tau=1 .................................\n",
      "[CV] .................. alpha=1, beta=50, eta=10, tau=1, total=   7.9s\n",
      "[CV] alpha=1, beta=50, eta=10, tau=3 .................................\n",
      "[CV] .................. alpha=1, beta=50, eta=10, tau=3, total=   8.2s\n",
      "[CV] alpha=1, beta=50, eta=10, tau=3 .................................\n",
      "[CV] .................. alpha=1, beta=50, eta=10, tau=3, total=   8.0s\n",
      "[CV] alpha=1, beta=50, eta=10, tau=3 .................................\n",
      "[CV] .................. alpha=1, beta=50, eta=10, tau=3, total=   8.2s\n",
      "[CV] alpha=1, beta=50, eta=10, tau=3 .................................\n",
      "[CV] .................. alpha=1, beta=50, eta=10, tau=3, total=   8.0s\n",
      "[CV] alpha=1, beta=50, eta=10, tau=3 .................................\n",
      "[CV] .................. alpha=1, beta=50, eta=10, tau=3, total=   8.0s\n",
      "[CV] alpha=1, beta=50, eta=10, tau=3 .................................\n",
      "[CV] .................. alpha=1, beta=50, eta=10, tau=3, total=   8.0s\n",
      "[CV] alpha=1, beta=50, eta=10, tau=3 .................................\n",
      "[CV] .................. alpha=1, beta=50, eta=10, tau=3, total=   8.1s\n",
      "[CV] alpha=1, beta=50, eta=10, tau=3 .................................\n",
      "[CV] .................. alpha=1, beta=50, eta=10, tau=3, total=   8.0s\n",
      "[CV] alpha=1, beta=50, eta=10, tau=3 .................................\n",
      "[CV] .................. alpha=1, beta=50, eta=10, tau=3, total=   8.2s\n",
      "[CV] alpha=1, beta=50, eta=10, tau=3 .................................\n",
      "[CV] .................. alpha=1, beta=50, eta=10, tau=3, total=   8.1s\n"
     ]
    },
    {
     "name": "stderr",
     "output_type": "stream",
     "text": [
      "[Parallel(n_jobs=1)]: Done 160 out of 160 | elapsed: 18.4min finished\n"
     ]
    },
    {
     "data": {
      "text/plain": [
       "GridSearchCV(cv=ShuffleSplit(n_splits=10, random_state=None, test_size=0.2, train_size=None),\n",
       "       error_score='raise',\n",
       "       estimator=LatentTimeGraphLasso(alpha=1.0, assume_centered=0, beta=1.0,\n",
       "           bypass_transpose=False, compute_objective=True, eta=1.0,\n",
       "           max_iter=250, mode='cd', phi='laplacian', psi='laplacian',\n",
       "           rho=0.10000000000000001, rtol=1e-05, tau=1.0, tol=1e-05,\n",
       "           update_rho_options={}, verbose=0),\n",
       "       fit_params=None, iid=True, n_jobs=1,\n",
       "       param_grid={'alpha': [0.45, 1], 'beta': [20, 50], 'eta': [5, 10], 'tau': [1, 3]},\n",
       "       pre_dispatch='2*n_jobs', refit=True, return_train_score=True,\n",
       "       scoring=None, verbose=2)"
      ]
     },
     "execution_count": 5,
     "metadata": {},
     "output_type": "execute_result"
    }
   ],
   "source": [
    "data_grid = np.array(data.data).transpose(1,2,0)\n",
    "param_grid=dict(tau=[1, 3], alpha=[.45, 1], beta=[20, 50], eta=[5, 10])\n",
    "\n",
    "mdl = LatentTimeGraphLasso(\n",
    "    bypass_transpose=False, assume_centered=0, verbose=0, rtol=1e-5, tol=1e-5,\n",
    "    max_iter=250, rho=1./ np.sqrt(data_grid.shape[0]))\n",
    "    \n",
    "cv = ShuffleSplit(10, test_size=0.2)\n",
    "ltgl = GridSearchCV(mdl, param_grid, cv=cv, verbose=2)\n",
    "ltgl.fit(data_grid)"
   ]
  },
  {
   "cell_type": "markdown",
   "metadata": {},
   "source": [
    "## 2.2 skopt"
   ]
  },
  {
   "cell_type": "code",
   "execution_count": 3,
   "metadata": {
    "collapsed": true
   },
   "outputs": [],
   "source": [
    "from skopt import BayesSearchCV\n",
    "from skopt.space import Real, Categorical, Integer\n",
    "from sklearn.datasets import load_iris\n",
    "from sklearn.svm import SVC \n",
    "from sklearn.model_selection import train_test_split"
   ]
  },
  {
   "cell_type": "code",
   "execution_count": null,
   "metadata": {
    "collapsed": true
   },
   "outputs": [],
   "source": [
    "data_grid = np.array(data.data).transpose(1,2,0)\n",
    "\n",
    "domain = {'alpha': Real(1e-1, 1e0, prior='log-uniform'),\n",
    "          'tau': Real(1e-1, 1e+1, prior='log-uniform'),\n",
    "          'beta': Integer(1, 60),\n",
    "          'eta': Integer(1, 10)}\n",
    "\n",
    "mdl = LatentTimeGraphLasso(\n",
    "    bypass_transpose=False, assume_centered=0, verbose=0, rtol=1e-5, tol=1e-5,\n",
    "    max_iter=250, rho=1./ np.sqrt(data_grid.shape[0]))\n",
    "    \n",
    "cv = ShuffleSplit(10, test_size=0.2)\n",
    "    \n",
    "ltgl = BayesSearchCV(\n",
    "    mdl, domain, n_iter=32, cv=cv)\n",
    "\n",
    "ltgl.fit(data_grid)"
   ]
  },
  {
   "cell_type": "markdown",
   "metadata": {},
   "source": [
    "## 3. Score"
   ]
  },
  {
   "cell_type": "code",
   "execution_count": 34,
   "metadata": {
    "collapsed": true
   },
   "outputs": [
    {
     "data": {
      "text/plain": [
       "{'accuracy': 0.97464,\n",
       " 'dor': 5301.725257323832,\n",
       " 'f1': 0.5236664162283996,\n",
       " 'fall_out': 0.00010407993338884263,\n",
       " 'false_omission_rate': 0.025619700596373078,\n",
       " 'fdr': 0.007122507122507123,\n",
       " 'fn': 2526,\n",
       " 'fp': 10,\n",
       " 'miss_rate': 0.6443877551020408,\n",
       " 'nlr': 0.6444548299178108,\n",
       " 'npv': 0.9743802994036269,\n",
       " 'plr': 3416.7224489795917,\n",
       " 'precision': 0.9928774928774928,\n",
       " 'prevalence': 0.0392,\n",
       " 'recall': 0.3556122448979592,\n",
       " 'specificity': 0.9998959200666112,\n",
       " 'tn': 96070,\n",
       " 'tp': 1394}"
      ]
     },
     "execution_count": 34,
     "metadata": {},
     "output_type": "execute_result"
    }
   ],
   "source": [
    "utils.structure_error(data.thetas, ltgl.best_estimator_.precision_)"
   ]
  },
  {
   "cell_type": "code",
   "execution_count": 35,
   "metadata": {},
   "outputs": [
    {
     "data": {
      "text/plain": [
       "1.1729257196869867"
      ]
     },
     "execution_count": 35,
     "metadata": {},
     "output_type": "execute_result"
    }
   ],
   "source": [
    "utils.error_norm_time(data.thetas, ltgl.best_estimator_.precision_)"
   ]
  },
  {
   "cell_type": "code",
   "execution_count": 36,
   "metadata": {},
   "outputs": [
    {
     "data": {
      "text/plain": [
       "10.699999999999999"
      ]
     },
     "execution_count": 36,
     "metadata": {},
     "output_type": "execute_result"
    }
   ],
   "source": [
    "utils.error_rank(data.ells, ltgl.best_estimator_.latent_)"
   ]
  }
 ],
 "metadata": {
  "kernelspec": {
   "display_name": "Python 2",
   "language": "python",
   "name": "python2"
  },
  "language_info": {
   "codemirror_mode": {
    "name": "ipython",
    "version": 2
   },
   "file_extension": ".py",
   "mimetype": "text/x-python",
   "name": "python",
   "nbconvert_exporter": "python",
   "pygments_lexer": "ipython2",
   "version": "2.7.14"
  }
 },
 "nbformat": 4,
 "nbformat_minor": 2
}
