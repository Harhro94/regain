{
 "cells": [
  {
   "cell_type": "markdown",
   "metadata": {},
   "source": [
    "# Stability Selection via Stars"
   ]
  },
  {
   "cell_type": "code",
   "execution_count": 23,
   "metadata": {},
   "outputs": [],
   "source": [
    "from sklearn.covariance import GraphicalLasso, GraphicalLassoCV"
   ]
  },
  {
   "cell_type": "code",
   "execution_count": 3,
   "metadata": {},
   "outputs": [],
   "source": [
    "from regain.model_selection import stability_optimization"
   ]
  },
  {
   "cell_type": "code",
   "execution_count": 24,
   "metadata": {},
   "outputs": [],
   "source": [
    "mdl = GraphicalLassoCV()"
   ]
  },
  {
   "cell_type": "code",
   "execution_count": 9,
   "metadata": {},
   "outputs": [],
   "source": [
    "from sklearn.datasets import make_sparse_spd_matrix\n",
    "dim = 10\n",
    "K = make_sparse_spd_matrix(dim, alpha=0.5)"
   ]
  },
  {
   "cell_type": "code",
   "execution_count": 11,
   "metadata": {},
   "outputs": [],
   "source": [
    "from scipy import linalg"
   ]
  },
  {
   "cell_type": "code",
   "execution_count": 12,
   "metadata": {},
   "outputs": [],
   "source": [
    "C = linalg.pinvh(K)"
   ]
  },
  {
   "cell_type": "code",
   "execution_count": 17,
   "metadata": {},
   "outputs": [],
   "source": [
    "import numpy as np\n",
    "n_samples = dim * dim\n",
    "X = np.random.multivariate_normal(np.zeros(dim), C, size=n_samples)"
   ]
  },
  {
   "cell_type": "code",
   "execution_count": 25,
   "metadata": {},
   "outputs": [
    {
     "name": "stderr",
     "output_type": "stream",
     "text": [
      "/Users/federicot/miniconda3/lib/python3.7/site-packages/sklearn/model_selection/_split.py:2053: FutureWarning: You should specify a value for 'cv' instead of relying on the default value. The default value will change from 3 to 5 in version 0.22.\n",
      "  warnings.warn(CV_WARNING, FutureWarning)\n"
     ]
    }
   ],
   "source": [
    "precision_gl = mdl.fit(X).get_precision()"
   ]
  },
  {
   "cell_type": "code",
   "execution_count": 26,
   "metadata": {},
   "outputs": [
    {
     "data": {
      "text/plain": [
       "-14.093426772869957"
      ]
     },
     "execution_count": 26,
     "metadata": {},
     "output_type": "execute_result"
    }
   ],
   "source": [
    "mdl.score(X)"
   ]
  },
  {
   "cell_type": "code",
   "execution_count": 140,
   "metadata": {},
   "outputs": [],
   "source": [
    "import pandas as pd\n",
    "from sklearn.model_selection import ShuffleSplit, StratifiedShuffleSplit\n",
    "from regain.covariance import kernel_time_graphical_lasso_"
   ]
  },
  {
   "cell_type": "code",
   "execution_count": 143,
   "metadata": {
    "scrolled": true
   },
   "outputs": [
    {
     "name": "stderr",
     "output_type": "stream",
     "text": [
      "/Users/federicot/miniconda3/lib/python3.7/site-packages/sklearn/model_selection/_split.py:1788: FutureWarning: From version 0.21, test_size will always complement train_size unless both are specified.\n",
      "  FutureWarning)\n",
      "/Users/federicot/src/fdtomasi/regain/regain/covariance/time_graphical_lasso_.py:243: UserWarning: Objective did not converge.\n",
      "  warnings.warn(\"Objective did not converge.\")\n",
      "/Users/federicot/src/fdtomasi/regain/regain/covariance/time_graphical_lasso_.py:243: UserWarning: Objective did not converge.\n",
      "  warnings.warn(\"Objective did not converge.\")\n",
      "/Users/federicot/src/fdtomasi/regain/regain/covariance/time_graphical_lasso_.py:243: UserWarning: Objective did not converge.\n",
      "  warnings.warn(\"Objective did not converge.\")\n",
      "/Users/federicot/src/fdtomasi/regain/regain/covariance/time_graphical_lasso_.py:243: UserWarning: Objective did not converge.\n",
      "  warnings.warn(\"Objective did not converge.\")\n",
      "/Users/federicot/src/fdtomasi/regain/regain/covariance/time_graphical_lasso_.py:243: UserWarning: Objective did not converge.\n",
      "  warnings.warn(\"Objective did not converge.\")\n",
      "/Users/federicot/src/fdtomasi/regain/regain/covariance/time_graphical_lasso_.py:243: UserWarning: Objective did not converge.\n",
      "  warnings.warn(\"Objective did not converge.\")\n",
      "/Users/federicot/src/fdtomasi/regain/regain/covariance/time_graphical_lasso_.py:243: UserWarning: Objective did not converge.\n",
      "  warnings.warn(\"Objective did not converge.\")\n",
      "/Users/federicot/src/fdtomasi/regain/regain/covariance/time_graphical_lasso_.py:243: UserWarning: Objective did not converge.\n",
      "  warnings.warn(\"Objective did not converge.\")\n",
      "/Users/federicot/src/fdtomasi/regain/regain/covariance/time_graphical_lasso_.py:243: UserWarning: Objective did not converge.\n",
      "  warnings.warn(\"Objective did not converge.\")\n",
      "/Users/federicot/src/fdtomasi/regain/regain/covariance/time_graphical_lasso_.py:243: UserWarning: Objective did not converge.\n",
      "  warnings.warn(\"Objective did not converge.\")\n",
      "/Users/federicot/src/fdtomasi/regain/regain/covariance/time_graphical_lasso_.py:243: UserWarning: Objective did not converge.\n",
      "  warnings.warn(\"Objective did not converge.\")\n",
      "/Users/federicot/src/fdtomasi/regain/regain/covariance/time_graphical_lasso_.py:243: UserWarning: Objective did not converge.\n",
      "  warnings.warn(\"Objective did not converge.\")\n",
      "/Users/federicot/src/fdtomasi/regain/regain/covariance/time_graphical_lasso_.py:243: UserWarning: Objective did not converge.\n",
      "  warnings.warn(\"Objective did not converge.\")\n",
      "/Users/federicot/src/fdtomasi/regain/regain/covariance/time_graphical_lasso_.py:243: UserWarning: Objective did not converge.\n",
      "  warnings.warn(\"Objective did not converge.\")\n",
      "/Users/federicot/src/fdtomasi/regain/regain/covariance/time_graphical_lasso_.py:243: UserWarning: Objective did not converge.\n",
      "  warnings.warn(\"Objective did not converge.\")\n",
      "/Users/federicot/src/fdtomasi/regain/regain/covariance/time_graphical_lasso_.py:243: UserWarning: Objective did not converge.\n",
      "  warnings.warn(\"Objective did not converge.\")\n",
      "/Users/federicot/src/fdtomasi/regain/regain/covariance/time_graphical_lasso_.py:243: UserWarning: Objective did not converge.\n",
      "  warnings.warn(\"Objective did not converge.\")\n",
      "/Users/federicot/src/fdtomasi/regain/regain/covariance/time_graphical_lasso_.py:243: UserWarning: Objective did not converge.\n",
      "  warnings.warn(\"Objective did not converge.\")\n",
      "/Users/federicot/src/fdtomasi/regain/regain/covariance/time_graphical_lasso_.py:243: UserWarning: Objective did not converge.\n",
      "  warnings.warn(\"Objective did not converge.\")\n",
      "/Users/federicot/src/fdtomasi/regain/regain/covariance/time_graphical_lasso_.py:243: UserWarning: Objective did not converge.\n",
      "  warnings.warn(\"Objective did not converge.\")\n",
      "/Users/federicot/src/fdtomasi/regain/regain/covariance/time_graphical_lasso_.py:243: UserWarning: Objective did not converge.\n",
      "  warnings.warn(\"Objective did not converge.\")\n",
      "/Users/federicot/src/fdtomasi/regain/regain/covariance/time_graphical_lasso_.py:243: UserWarning: Objective did not converge.\n",
      "  warnings.warn(\"Objective did not converge.\")\n",
      "/Users/federicot/src/fdtomasi/regain/regain/covariance/time_graphical_lasso_.py:243: UserWarning: Objective did not converge.\n",
      "  warnings.warn(\"Objective did not converge.\")\n",
      "/Users/federicot/src/fdtomasi/regain/regain/covariance/time_graphical_lasso_.py:243: UserWarning: Objective did not converge.\n",
      "  warnings.warn(\"Objective did not converge.\")\n",
      "/Users/federicot/src/fdtomasi/regain/regain/covariance/time_graphical_lasso_.py:243: UserWarning: Objective did not converge.\n",
      "  warnings.warn(\"Objective did not converge.\")\n",
      "/Users/federicot/src/fdtomasi/regain/regain/covariance/time_graphical_lasso_.py:243: UserWarning: Objective did not converge.\n",
      "  warnings.warn(\"Objective did not converge.\")\n",
      "/Users/federicot/src/fdtomasi/regain/regain/covariance/time_graphical_lasso_.py:243: UserWarning: Objective did not converge.\n",
      "  warnings.warn(\"Objective did not converge.\")\n",
      "/Users/federicot/src/fdtomasi/regain/regain/covariance/time_graphical_lasso_.py:243: UserWarning: Objective did not converge.\n",
      "  warnings.warn(\"Objective did not converge.\")\n",
      "/Users/federicot/src/fdtomasi/regain/regain/covariance/time_graphical_lasso_.py:243: UserWarning: Objective did not converge.\n",
      "  warnings.warn(\"Objective did not converge.\")\n",
      "/Users/federicot/src/fdtomasi/regain/regain/covariance/time_graphical_lasso_.py:243: UserWarning: Objective did not converge.\n",
      "  warnings.warn(\"Objective did not converge.\")\n",
      "/Users/federicot/src/fdtomasi/regain/regain/covariance/time_graphical_lasso_.py:243: UserWarning: Objective did not converge.\n",
      "  warnings.warn(\"Objective did not converge.\")\n",
      "/Users/federicot/src/fdtomasi/regain/regain/covariance/time_graphical_lasso_.py:243: UserWarning: Objective did not converge.\n",
      "  warnings.warn(\"Objective did not converge.\")\n",
      "/Users/federicot/src/fdtomasi/regain/regain/covariance/time_graphical_lasso_.py:243: UserWarning: Objective did not converge.\n",
      "  warnings.warn(\"Objective did not converge.\")\n",
      "/Users/federicot/src/fdtomasi/regain/regain/covariance/time_graphical_lasso_.py:243: UserWarning: Objective did not converge.\n",
      "  warnings.warn(\"Objective did not converge.\")\n",
      "/Users/federicot/src/fdtomasi/regain/regain/covariance/time_graphical_lasso_.py:243: UserWarning: Objective did not converge.\n",
      "  warnings.warn(\"Objective did not converge.\")\n",
      "/Users/federicot/src/fdtomasi/regain/regain/covariance/time_graphical_lasso_.py:243: UserWarning: Objective did not converge.\n",
      "  warnings.warn(\"Objective did not converge.\")\n",
      "/Users/federicot/src/fdtomasi/regain/regain/covariance/time_graphical_lasso_.py:243: UserWarning: Objective did not converge.\n",
      "  warnings.warn(\"Objective did not converge.\")\n",
      "/Users/federicot/src/fdtomasi/regain/regain/covariance/time_graphical_lasso_.py:243: UserWarning: Objective did not converge.\n",
      "  warnings.warn(\"Objective did not converge.\")\n",
      "/Users/federicot/src/fdtomasi/regain/regain/covariance/time_graphical_lasso_.py:243: UserWarning: Objective did not converge.\n",
      "  warnings.warn(\"Objective did not converge.\")\n",
      "/Users/federicot/src/fdtomasi/regain/regain/covariance/time_graphical_lasso_.py:243: UserWarning: Objective did not converge.\n",
      "  warnings.warn(\"Objective did not converge.\")\n",
      "/Users/federicot/src/fdtomasi/regain/regain/covariance/time_graphical_lasso_.py:243: UserWarning: Objective did not converge.\n",
      "  warnings.warn(\"Objective did not converge.\")\n",
      "/Users/federicot/src/fdtomasi/regain/regain/covariance/time_graphical_lasso_.py:243: UserWarning: Objective did not converge.\n",
      "  warnings.warn(\"Objective did not converge.\")\n",
      "/Users/federicot/src/fdtomasi/regain/regain/covariance/time_graphical_lasso_.py:243: UserWarning: Objective did not converge.\n",
      "  warnings.warn(\"Objective did not converge.\")\n",
      "/Users/federicot/src/fdtomasi/regain/regain/covariance/time_graphical_lasso_.py:243: UserWarning: Objective did not converge.\n",
      "  warnings.warn(\"Objective did not converge.\")\n",
      "/Users/federicot/src/fdtomasi/regain/regain/covariance/time_graphical_lasso_.py:243: UserWarning: Objective did not converge.\n",
      "  warnings.warn(\"Objective did not converge.\")\n",
      "/Users/federicot/src/fdtomasi/regain/regain/covariance/time_graphical_lasso_.py:243: UserWarning: Objective did not converge.\n",
      "  warnings.warn(\"Objective did not converge.\")\n",
      "/Users/federicot/src/fdtomasi/regain/regain/covariance/time_graphical_lasso_.py:243: UserWarning: Objective did not converge.\n",
      "  warnings.warn(\"Objective did not converge.\")\n"
     ]
    },
    {
     "name": "stderr",
     "output_type": "stream",
     "text": [
      "/Users/federicot/src/fdtomasi/regain/regain/covariance/time_graphical_lasso_.py:243: UserWarning: Objective did not converge.\n",
      "  warnings.warn(\"Objective did not converge.\")\n",
      "/Users/federicot/src/fdtomasi/regain/regain/covariance/time_graphical_lasso_.py:243: UserWarning: Objective did not converge.\n",
      "  warnings.warn(\"Objective did not converge.\")\n",
      "/Users/federicot/src/fdtomasi/regain/regain/covariance/time_graphical_lasso_.py:243: UserWarning: Objective did not converge.\n",
      "  warnings.warn(\"Objective did not converge.\")\n",
      "/Users/federicot/src/fdtomasi/regain/regain/covariance/time_graphical_lasso_.py:243: UserWarning: Objective did not converge.\n",
      "  warnings.warn(\"Objective did not converge.\")\n",
      "/Users/federicot/src/fdtomasi/regain/regain/covariance/time_graphical_lasso_.py:243: UserWarning: Objective did not converge.\n",
      "  warnings.warn(\"Objective did not converge.\")\n",
      "/Users/federicot/src/fdtomasi/regain/regain/covariance/time_graphical_lasso_.py:243: UserWarning: Objective did not converge.\n",
      "  warnings.warn(\"Objective did not converge.\")\n",
      "/Users/federicot/src/fdtomasi/regain/regain/covariance/time_graphical_lasso_.py:243: UserWarning: Objective did not converge.\n",
      "  warnings.warn(\"Objective did not converge.\")\n",
      "/Users/federicot/src/fdtomasi/regain/regain/covariance/time_graphical_lasso_.py:243: UserWarning: Objective did not converge.\n",
      "  warnings.warn(\"Objective did not converge.\")\n",
      "/Users/federicot/src/fdtomasi/regain/regain/covariance/time_graphical_lasso_.py:243: UserWarning: Objective did not converge.\n",
      "  warnings.warn(\"Objective did not converge.\")\n",
      "/Users/federicot/src/fdtomasi/regain/regain/covariance/time_graphical_lasso_.py:243: UserWarning: Objective did not converge.\n",
      "  warnings.warn(\"Objective did not converge.\")\n",
      "/Users/federicot/src/fdtomasi/regain/regain/covariance/time_graphical_lasso_.py:243: UserWarning: Objective did not converge.\n",
      "  warnings.warn(\"Objective did not converge.\")\n",
      "/Users/federicot/src/fdtomasi/regain/regain/covariance/time_graphical_lasso_.py:243: UserWarning: Objective did not converge.\n",
      "  warnings.warn(\"Objective did not converge.\")\n",
      "/Users/federicot/src/fdtomasi/regain/regain/covariance/time_graphical_lasso_.py:243: UserWarning: Objective did not converge.\n",
      "  warnings.warn(\"Objective did not converge.\")\n",
      "/Users/federicot/src/fdtomasi/regain/regain/covariance/time_graphical_lasso_.py:243: UserWarning: Objective did not converge.\n",
      "  warnings.warn(\"Objective did not converge.\")\n",
      "/Users/federicot/src/fdtomasi/regain/regain/covariance/time_graphical_lasso_.py:243: UserWarning: Objective did not converge.\n",
      "  warnings.warn(\"Objective did not converge.\")\n",
      "/Users/federicot/src/fdtomasi/regain/regain/covariance/time_graphical_lasso_.py:243: UserWarning: Objective did not converge.\n",
      "  warnings.warn(\"Objective did not converge.\")\n",
      "/Users/federicot/src/fdtomasi/regain/regain/covariance/time_graphical_lasso_.py:243: UserWarning: Objective did not converge.\n",
      "  warnings.warn(\"Objective did not converge.\")\n",
      "/Users/federicot/src/fdtomasi/regain/regain/covariance/time_graphical_lasso_.py:243: UserWarning: Objective did not converge.\n",
      "  warnings.warn(\"Objective did not converge.\")\n",
      "/Users/federicot/src/fdtomasi/regain/regain/covariance/time_graphical_lasso_.py:243: UserWarning: Objective did not converge.\n",
      "  warnings.warn(\"Objective did not converge.\")\n",
      "/Users/federicot/src/fdtomasi/regain/regain/covariance/time_graphical_lasso_.py:243: UserWarning: Objective did not converge.\n",
      "  warnings.warn(\"Objective did not converge.\")\n",
      "/Users/federicot/src/fdtomasi/regain/regain/covariance/time_graphical_lasso_.py:243: UserWarning: Objective did not converge.\n",
      "  warnings.warn(\"Objective did not converge.\")\n",
      "/Users/federicot/src/fdtomasi/regain/regain/covariance/time_graphical_lasso_.py:243: UserWarning: Objective did not converge.\n",
      "  warnings.warn(\"Objective did not converge.\")\n",
      "/Users/federicot/src/fdtomasi/regain/regain/covariance/time_graphical_lasso_.py:243: UserWarning: Objective did not converge.\n",
      "  warnings.warn(\"Objective did not converge.\")\n",
      "/Users/federicot/src/fdtomasi/regain/regain/covariance/time_graphical_lasso_.py:243: UserWarning: Objective did not converge.\n",
      "  warnings.warn(\"Objective did not converge.\")\n",
      "/Users/federicot/src/fdtomasi/regain/regain/covariance/time_graphical_lasso_.py:243: UserWarning: Objective did not converge.\n",
      "  warnings.warn(\"Objective did not converge.\")\n",
      "/Users/federicot/src/fdtomasi/regain/regain/covariance/time_graphical_lasso_.py:243: UserWarning: Objective did not converge.\n",
      "  warnings.warn(\"Objective did not converge.\")\n",
      "/Users/federicot/src/fdtomasi/regain/regain/covariance/time_graphical_lasso_.py:243: UserWarning: Objective did not converge.\n",
      "  warnings.warn(\"Objective did not converge.\")\n",
      "/Users/federicot/src/fdtomasi/regain/regain/covariance/time_graphical_lasso_.py:243: UserWarning: Objective did not converge.\n",
      "  warnings.warn(\"Objective did not converge.\")\n",
      "/Users/federicot/src/fdtomasi/regain/regain/covariance/time_graphical_lasso_.py:243: UserWarning: Objective did not converge.\n",
      "  warnings.warn(\"Objective did not converge.\")\n",
      "/Users/federicot/src/fdtomasi/regain/regain/covariance/time_graphical_lasso_.py:243: UserWarning: Objective did not converge.\n",
      "  warnings.warn(\"Objective did not converge.\")\n"
     ]
    },
    {
     "name": "stdout",
     "output_type": "stream",
     "text": [
      "(5, 10)\n",
      "(5, 4, 4)\n",
      "(5, 10)\n",
      "(5, 4, 4)\n",
      "(5, 10)\n",
      "(5, 4, 4)\n",
      "(5, 10)\n",
      "(5, 4, 4)\n",
      "(5, 10)\n",
      "(5, 4, 4)\n",
      "(5, 10)\n",
      "(5, 4, 4)\n",
      "(5, 10)\n",
      "(5, 4, 4)\n",
      "(5, 10)\n",
      "(5, 4, 4)\n"
     ]
    },
    {
     "name": "stderr",
     "output_type": "stream",
     "text": [
      "/Users/federicot/src/fdtomasi/regain/regain/covariance/time_graphical_lasso_.py:243: UserWarning: Objective did not converge.\n",
      "  warnings.warn(\"Objective did not converge.\")\n"
     ]
    }
   ],
   "source": [
    "from imp import reload\n",
    "reload(stability_optimization)\n",
    "sscv = stability_optimization.GraphicalModelStabilitySelection(\n",
    "    mdl, param_grid=dict(alpha=np.logspace(-1,2, 4)[::-1], beta=[0.1,0.2]),\n",
    "    cv=StratifiedShuffleSplit(n_splits=10, train_size=10)).fit(X, y)"
   ]
  },
  {
   "cell_type": "code",
   "execution_count": 144,
   "metadata": {
    "scrolled": true
   },
   "outputs": [
    {
     "data": {
      "text/html": [
       "<div>\n",
       "<style scoped>\n",
       "    .dataframe tbody tr th:only-of-type {\n",
       "        vertical-align: middle;\n",
       "    }\n",
       "\n",
       "    .dataframe tbody tr th {\n",
       "        vertical-align: top;\n",
       "    }\n",
       "\n",
       "    .dataframe thead th {\n",
       "        text-align: right;\n",
       "    }\n",
       "</style>\n",
       "<table border=\"1\" class=\"dataframe\">\n",
       "  <thead>\n",
       "    <tr style=\"text-align: right;\">\n",
       "      <th></th>\n",
       "      <th>mean_fit_time</th>\n",
       "      <th>std_fit_time</th>\n",
       "      <th>mean_score_time</th>\n",
       "      <th>std_score_time</th>\n",
       "      <th>param_alpha</th>\n",
       "      <th>param_beta</th>\n",
       "      <th>params</th>\n",
       "      <th>split0_test_score</th>\n",
       "      <th>split1_test_score</th>\n",
       "      <th>split2_test_score</th>\n",
       "      <th>...</th>\n",
       "      <th>split6_test_score</th>\n",
       "      <th>split7_test_score</th>\n",
       "      <th>split8_test_score</th>\n",
       "      <th>split9_test_score</th>\n",
       "      <th>mean_test_score</th>\n",
       "      <th>std_test_score</th>\n",
       "      <th>rank_test_score</th>\n",
       "      <th>raw_test_instability</th>\n",
       "      <th>mean_test_instability</th>\n",
       "      <th>rank_test_instability</th>\n",
       "    </tr>\n",
       "  </thead>\n",
       "  <tbody>\n",
       "    <tr>\n",
       "      <th>0</th>\n",
       "      <td>0.055015</td>\n",
       "      <td>0.003470</td>\n",
       "      <td>0.000391</td>\n",
       "      <td>0.000122</td>\n",
       "      <td>100</td>\n",
       "      <td>0.1</td>\n",
       "      <td>{'alpha': 100.0, 'beta': 0.1}</td>\n",
       "      <td>-1.000000e+08</td>\n",
       "      <td>-1.000000e+08</td>\n",
       "      <td>-1.000000e+08</td>\n",
       "      <td>...</td>\n",
       "      <td>-1.000000e+08</td>\n",
       "      <td>-1.000000e+08</td>\n",
       "      <td>-576.335869</td>\n",
       "      <td>-1.000000e+08</td>\n",
       "      <td>-9.000006e+07</td>\n",
       "      <td>2.999983e+07</td>\n",
       "      <td>8</td>\n",
       "      <td>1.140000</td>\n",
       "      <td>-inf</td>\n",
       "      <td>1</td>\n",
       "    </tr>\n",
       "    <tr>\n",
       "      <th>1</th>\n",
       "      <td>0.053221</td>\n",
       "      <td>0.001963</td>\n",
       "      <td>0.000351</td>\n",
       "      <td>0.000080</td>\n",
       "      <td>100</td>\n",
       "      <td>0.2</td>\n",
       "      <td>{'alpha': 100.0, 'beta': 0.2}</td>\n",
       "      <td>-1.000000e+08</td>\n",
       "      <td>-1.000000e+08</td>\n",
       "      <td>-1.000000e+08</td>\n",
       "      <td>...</td>\n",
       "      <td>-5.793080e+02</td>\n",
       "      <td>-1.000000e+08</td>\n",
       "      <td>-577.787002</td>\n",
       "      <td>-1.000000e+08</td>\n",
       "      <td>-8.000011e+07</td>\n",
       "      <td>3.999977e+07</td>\n",
       "      <td>7</td>\n",
       "      <td>1.213333</td>\n",
       "      <td>-inf</td>\n",
       "      <td>1</td>\n",
       "    </tr>\n",
       "    <tr>\n",
       "      <th>2</th>\n",
       "      <td>0.055587</td>\n",
       "      <td>0.003602</td>\n",
       "      <td>0.000379</td>\n",
       "      <td>0.000119</td>\n",
       "      <td>10</td>\n",
       "      <td>0.1</td>\n",
       "      <td>{'alpha': 10.0, 'beta': 0.1}</td>\n",
       "      <td>-1.477441e+06</td>\n",
       "      <td>-3.873444e+02</td>\n",
       "      <td>-3.826077e+02</td>\n",
       "      <td>...</td>\n",
       "      <td>-7.712384e+05</td>\n",
       "      <td>-3.377009e+05</td>\n",
       "      <td>-865756.565604</td>\n",
       "      <td>-3.795101e+02</td>\n",
       "      <td>-6.062888e+06</td>\n",
       "      <td>1.257836e+07</td>\n",
       "      <td>1</td>\n",
       "      <td>1.333333</td>\n",
       "      <td>-inf</td>\n",
       "      <td>1</td>\n",
       "    </tr>\n",
       "    <tr>\n",
       "      <th>3</th>\n",
       "      <td>0.052441</td>\n",
       "      <td>0.003924</td>\n",
       "      <td>0.000352</td>\n",
       "      <td>0.000084</td>\n",
       "      <td>10</td>\n",
       "      <td>0.2</td>\n",
       "      <td>{'alpha': 10.0, 'beta': 0.2}</td>\n",
       "      <td>-1.496695e+06</td>\n",
       "      <td>-3.873908e+02</td>\n",
       "      <td>-3.824813e+02</td>\n",
       "      <td>...</td>\n",
       "      <td>-7.573148e+05</td>\n",
       "      <td>-3.650014e+05</td>\n",
       "      <td>-906312.031801</td>\n",
       "      <td>-3.797690e+02</td>\n",
       "      <td>-6.121267e+06</td>\n",
       "      <td>1.271142e+07</td>\n",
       "      <td>2</td>\n",
       "      <td>1.450000</td>\n",
       "      <td>-inf</td>\n",
       "      <td>1</td>\n",
       "    </tr>\n",
       "    <tr>\n",
       "      <th>4</th>\n",
       "      <td>0.052206</td>\n",
       "      <td>0.002410</td>\n",
       "      <td>0.000406</td>\n",
       "      <td>0.000157</td>\n",
       "      <td>1</td>\n",
       "      <td>0.1</td>\n",
       "      <td>{'alpha': 1.0, 'beta': 0.1}</td>\n",
       "      <td>-1.512861e+06</td>\n",
       "      <td>-3.979702e+04</td>\n",
       "      <td>-1.148769e+05</td>\n",
       "      <td>...</td>\n",
       "      <td>-8.421278e+05</td>\n",
       "      <td>-3.857320e+05</td>\n",
       "      <td>-969757.676663</td>\n",
       "      <td>-1.498458e+05</td>\n",
       "      <td>-6.128461e+06</td>\n",
       "      <td>1.256490e+07</td>\n",
       "      <td>3</td>\n",
       "      <td>2.130000</td>\n",
       "      <td>-inf</td>\n",
       "      <td>1</td>\n",
       "    </tr>\n",
       "    <tr>\n",
       "      <th>5</th>\n",
       "      <td>0.052529</td>\n",
       "      <td>0.002038</td>\n",
       "      <td>0.000352</td>\n",
       "      <td>0.000106</td>\n",
       "      <td>1</td>\n",
       "      <td>0.2</td>\n",
       "      <td>{'alpha': 1.0, 'beta': 0.2}</td>\n",
       "      <td>-1.532103e+06</td>\n",
       "      <td>-4.505052e+04</td>\n",
       "      <td>-1.240848e+05</td>\n",
       "      <td>...</td>\n",
       "      <td>-8.492095e+05</td>\n",
       "      <td>-3.945015e+05</td>\n",
       "      <td>-981039.704021</td>\n",
       "      <td>-1.551461e+05</td>\n",
       "      <td>-6.184262e+06</td>\n",
       "      <td>1.269595e+07</td>\n",
       "      <td>5</td>\n",
       "      <td>1.806667</td>\n",
       "      <td>-inf</td>\n",
       "      <td>1</td>\n",
       "    </tr>\n",
       "    <tr>\n",
       "      <th>6</th>\n",
       "      <td>0.052923</td>\n",
       "      <td>0.002462</td>\n",
       "      <td>0.000353</td>\n",
       "      <td>0.000103</td>\n",
       "      <td>0.1</td>\n",
       "      <td>0.1</td>\n",
       "      <td>{'alpha': 0.1, 'beta': 0.1}</td>\n",
       "      <td>-1.518595e+06</td>\n",
       "      <td>-5.108847e+04</td>\n",
       "      <td>-1.220065e+05</td>\n",
       "      <td>...</td>\n",
       "      <td>-8.491867e+05</td>\n",
       "      <td>-3.944108e+05</td>\n",
       "      <td>-981257.485009</td>\n",
       "      <td>-1.579739e+05</td>\n",
       "      <td>-6.136739e+06</td>\n",
       "      <td>1.256363e+07</td>\n",
       "      <td>4</td>\n",
       "      <td>0.060000</td>\n",
       "      <td>-inf</td>\n",
       "      <td>1</td>\n",
       "    </tr>\n",
       "    <tr>\n",
       "      <th>7</th>\n",
       "      <td>0.051757</td>\n",
       "      <td>0.002786</td>\n",
       "      <td>0.000353</td>\n",
       "      <td>0.000119</td>\n",
       "      <td>0.1</td>\n",
       "      <td>0.2</td>\n",
       "      <td>{'alpha': 0.1, 'beta': 0.2}</td>\n",
       "      <td>-1.537822e+06</td>\n",
       "      <td>-5.400602e+04</td>\n",
       "      <td>-1.271663e+05</td>\n",
       "      <td>...</td>\n",
       "      <td>-8.562679e+05</td>\n",
       "      <td>-4.016389e+05</td>\n",
       "      <td>-987382.549075</td>\n",
       "      <td>-1.606010e+05</td>\n",
       "      <td>-6.190374e+06</td>\n",
       "      <td>1.269544e+07</td>\n",
       "      <td>6</td>\n",
       "      <td>0.000000</td>\n",
       "      <td>-inf</td>\n",
       "      <td>1</td>\n",
       "    </tr>\n",
       "  </tbody>\n",
       "</table>\n",
       "<p>8 rows × 23 columns</p>\n",
       "</div>"
      ],
      "text/plain": [
       "   mean_fit_time  std_fit_time  mean_score_time  std_score_time param_alpha  \\\n",
       "0       0.055015      0.003470         0.000391        0.000122         100   \n",
       "1       0.053221      0.001963         0.000351        0.000080         100   \n",
       "2       0.055587      0.003602         0.000379        0.000119          10   \n",
       "3       0.052441      0.003924         0.000352        0.000084          10   \n",
       "4       0.052206      0.002410         0.000406        0.000157           1   \n",
       "5       0.052529      0.002038         0.000352        0.000106           1   \n",
       "6       0.052923      0.002462         0.000353        0.000103         0.1   \n",
       "7       0.051757      0.002786         0.000353        0.000119         0.1   \n",
       "\n",
       "  param_beta                         params  split0_test_score  \\\n",
       "0        0.1  {'alpha': 100.0, 'beta': 0.1}      -1.000000e+08   \n",
       "1        0.2  {'alpha': 100.0, 'beta': 0.2}      -1.000000e+08   \n",
       "2        0.1   {'alpha': 10.0, 'beta': 0.1}      -1.477441e+06   \n",
       "3        0.2   {'alpha': 10.0, 'beta': 0.2}      -1.496695e+06   \n",
       "4        0.1    {'alpha': 1.0, 'beta': 0.1}      -1.512861e+06   \n",
       "5        0.2    {'alpha': 1.0, 'beta': 0.2}      -1.532103e+06   \n",
       "6        0.1    {'alpha': 0.1, 'beta': 0.1}      -1.518595e+06   \n",
       "7        0.2    {'alpha': 0.1, 'beta': 0.2}      -1.537822e+06   \n",
       "\n",
       "   split1_test_score  split2_test_score  ...  split6_test_score  \\\n",
       "0      -1.000000e+08      -1.000000e+08  ...      -1.000000e+08   \n",
       "1      -1.000000e+08      -1.000000e+08  ...      -5.793080e+02   \n",
       "2      -3.873444e+02      -3.826077e+02  ...      -7.712384e+05   \n",
       "3      -3.873908e+02      -3.824813e+02  ...      -7.573148e+05   \n",
       "4      -3.979702e+04      -1.148769e+05  ...      -8.421278e+05   \n",
       "5      -4.505052e+04      -1.240848e+05  ...      -8.492095e+05   \n",
       "6      -5.108847e+04      -1.220065e+05  ...      -8.491867e+05   \n",
       "7      -5.400602e+04      -1.271663e+05  ...      -8.562679e+05   \n",
       "\n",
       "   split7_test_score  split8_test_score  split9_test_score  mean_test_score  \\\n",
       "0      -1.000000e+08        -576.335869      -1.000000e+08    -9.000006e+07   \n",
       "1      -1.000000e+08        -577.787002      -1.000000e+08    -8.000011e+07   \n",
       "2      -3.377009e+05     -865756.565604      -3.795101e+02    -6.062888e+06   \n",
       "3      -3.650014e+05     -906312.031801      -3.797690e+02    -6.121267e+06   \n",
       "4      -3.857320e+05     -969757.676663      -1.498458e+05    -6.128461e+06   \n",
       "5      -3.945015e+05     -981039.704021      -1.551461e+05    -6.184262e+06   \n",
       "6      -3.944108e+05     -981257.485009      -1.579739e+05    -6.136739e+06   \n",
       "7      -4.016389e+05     -987382.549075      -1.606010e+05    -6.190374e+06   \n",
       "\n",
       "   std_test_score  rank_test_score  raw_test_instability  \\\n",
       "0    2.999983e+07                8              1.140000   \n",
       "1    3.999977e+07                7              1.213333   \n",
       "2    1.257836e+07                1              1.333333   \n",
       "3    1.271142e+07                2              1.450000   \n",
       "4    1.256490e+07                3              2.130000   \n",
       "5    1.269595e+07                5              1.806667   \n",
       "6    1.256363e+07                4              0.060000   \n",
       "7    1.269544e+07                6              0.000000   \n",
       "\n",
       "   mean_test_instability  rank_test_instability  \n",
       "0                   -inf                      1  \n",
       "1                   -inf                      1  \n",
       "2                   -inf                      1  \n",
       "3                   -inf                      1  \n",
       "4                   -inf                      1  \n",
       "5                   -inf                      1  \n",
       "6                   -inf                      1  \n",
       "7                   -inf                      1  \n",
       "\n",
       "[8 rows x 23 columns]"
      ]
     },
     "execution_count": 144,
     "metadata": {},
     "output_type": "execute_result"
    }
   ],
   "source": [
    "pd.DataFrame(sscv.cv_results_)"
   ]
  },
  {
   "cell_type": "code",
   "execution_count": 146,
   "metadata": {},
   "outputs": [
    {
     "data": {
      "text/plain": [
       "-3094.379488602728"
      ]
     },
     "execution_count": 146,
     "metadata": {},
     "output_type": "execute_result"
    }
   ],
   "source": [
    "sscv.best_estimator_.score(X, y)"
   ]
  },
  {
   "cell_type": "code",
   "execution_count": 35,
   "metadata": {},
   "outputs": [],
   "source": [
    "from sklearn.model_selection import GridSearchCV"
   ]
  },
  {
   "cell_type": "code",
   "execution_count": 98,
   "metadata": {},
   "outputs": [
    {
     "data": {
      "text/plain": [
       "{'tp': 6,\n",
       " 'tn': 14,\n",
       " 'fp': 0,\n",
       " 'fn': 70,\n",
       " 'precision': 1.0,\n",
       " 'recall': 0.07894736842105263,\n",
       " 'f1': 0.14634146341463414,\n",
       " 'accuracy': 0.2,\n",
       " 'false_omission_rate': 0.8333333333333334,\n",
       " 'fdr': 0.0,\n",
       " 'npv': 0.16666666666666666,\n",
       " 'prevalence': 0.76,\n",
       " 'miss_rate': 0.9210526315789473,\n",
       " 'fall_out': 0.0,\n",
       " 'specificity': 1.0,\n",
       " 'plr': 0,\n",
       " 'nlr': 0.9210526315789473,\n",
       " 'dor': 0.0,\n",
       " 'balanced_accuracy': 0.5394736842105263,\n",
       " 'average_precision': 0.5238095238095238}"
      ]
     },
     "execution_count": 98,
     "metadata": {},
     "output_type": "execute_result"
    }
   ],
   "source": [
    "from regain.utils import structure_error\n",
    "structure_error(K, sscv.best_estimator_.precision_, no_diagonal=True)"
   ]
  },
  {
   "cell_type": "code",
   "execution_count": 97,
   "metadata": {},
   "outputs": [
    {
     "data": {
      "text/plain": [
       "array([[ 1.0380894 , -0.        , -0.        , -0.        , -0.        ,\n",
       "        -0.        , -0.        ,  0.        ,  0.        , -0.        ],\n",
       "       [-0.        ,  0.31559558,  0.        , -0.        , -0.        ,\n",
       "        -0.04292282, -0.        , -0.        , -0.        , -0.        ],\n",
       "       [-0.        ,  0.        ,  0.96820919, -0.        , -0.        ,\n",
       "        -0.        ,  0.        ,  0.        , -0.        ,  0.        ],\n",
       "       [-0.        , -0.        , -0.        ,  0.949735  , -0.        ,\n",
       "        -0.        ,  0.        , -0.        , -0.        , -0.        ],\n",
       "       [-0.        , -0.        , -0.        , -0.        ,  0.96365908,\n",
       "        -0.        , -0.        , -0.        , -0.        , -0.        ],\n",
       "       [-0.        , -0.04292282, -0.        , -0.        , -0.        ,\n",
       "         0.12116566, -0.        , -0.        , -0.01274174, -0.03783333],\n",
       "       [-0.        , -0.        ,  0.        ,  0.        , -0.        ,\n",
       "        -0.        ,  1.25323758, -0.        , -0.        , -0.        ],\n",
       "       [ 0.        , -0.        ,  0.        , -0.        , -0.        ,\n",
       "        -0.        , -0.        ,  0.95796817, -0.        , -0.        ],\n",
       "       [ 0.        , -0.        , -0.        , -0.        , -0.        ,\n",
       "        -0.01274174, -0.        , -0.        ,  0.4973017 , -0.        ],\n",
       "       [-0.        , -0.        ,  0.        , -0.        , -0.        ,\n",
       "        -0.03783333, -0.        , -0.        , -0.        ,  0.412639  ]])"
      ]
     },
     "execution_count": 97,
     "metadata": {},
     "output_type": "execute_result"
    }
   ],
   "source": [
    "sscv.best_estimator_.precision_"
   ]
  },
  {
   "cell_type": "code",
   "execution_count": null,
   "metadata": {},
   "outputs": [],
   "source": []
  },
  {
   "cell_type": "code",
   "execution_count": null,
   "metadata": {},
   "outputs": [],
   "source": []
  },
  {
   "cell_type": "code",
   "execution_count": 112,
   "metadata": {},
   "outputs": [
    {
     "data": {
      "text/plain": [
       "<module 'regain.datasets' from '/Users/federicot/src/fdtomasi/regain/regain/datasets.py'>"
      ]
     },
     "execution_count": 112,
     "metadata": {},
     "output_type": "execute_result"
    }
   ],
   "source": [
    "from regain import datasets; reload(datasets)"
   ]
  },
  {
   "cell_type": "code",
   "execution_count": 130,
   "metadata": {},
   "outputs": [
    {
     "name": "stdout",
     "output_type": "stream",
     "text": [
      "0.0%\n"
     ]
    }
   ],
   "source": [
    "data = datasets.make_dataset(n_dim_lat=0, n_dim_obs=4, T=5)"
   ]
  },
  {
   "cell_type": "code",
   "execution_count": 138,
   "metadata": {},
   "outputs": [],
   "source": [
    "X, y = data.X, data.y"
   ]
  },
  {
   "cell_type": "code",
   "execution_count": 139,
   "metadata": {},
   "outputs": [
    {
     "data": {
      "text/plain": [
       "array([0, 0, 0, 0, 0, 0, 0, 0, 0, 0, 0, 0, 0, 0, 0, 0, 0, 0, 0, 0, 0, 0,\n",
       "       0, 0, 0, 0, 0, 0, 0, 0, 0, 0, 0, 0, 0, 0, 0, 0, 0, 0, 0, 0, 0, 0,\n",
       "       0, 0, 0, 0, 0, 0, 0, 0, 0, 0, 0, 0, 0, 0, 0, 0, 0, 0, 0, 0, 0, 0,\n",
       "       0, 0, 0, 0, 0, 0, 0, 0, 0, 0, 0, 0, 0, 0, 0, 0, 0, 0, 0, 0, 0, 0,\n",
       "       0, 0, 0, 0, 0, 0, 0, 0, 0, 0, 0, 0, 1, 1, 1, 1, 1, 1, 1, 1, 1, 1,\n",
       "       1, 1, 1, 1, 1, 1, 1, 1, 1, 1, 1, 1, 1, 1, 1, 1, 1, 1, 1, 1, 1, 1,\n",
       "       1, 1, 1, 1, 1, 1, 1, 1, 1, 1, 1, 1, 1, 1, 1, 1, 1, 1, 1, 1, 1, 1,\n",
       "       1, 1, 1, 1, 1, 1, 1, 1, 1, 1, 1, 1, 1, 1, 1, 1, 1, 1, 1, 1, 1, 1,\n",
       "       1, 1, 1, 1, 1, 1, 1, 1, 1, 1, 1, 1, 1, 1, 1, 1, 1, 1, 1, 1, 1, 1,\n",
       "       1, 1, 2, 2, 2, 2, 2, 2, 2, 2, 2, 2, 2, 2, 2, 2, 2, 2, 2, 2, 2, 2,\n",
       "       2, 2, 2, 2, 2, 2, 2, 2, 2, 2, 2, 2, 2, 2, 2, 2, 2, 2, 2, 2, 2, 2,\n",
       "       2, 2, 2, 2, 2, 2, 2, 2, 2, 2, 2, 2, 2, 2, 2, 2, 2, 2, 2, 2, 2, 2,\n",
       "       2, 2, 2, 2, 2, 2, 2, 2, 2, 2, 2, 2, 2, 2, 2, 2, 2, 2, 2, 2, 2, 2,\n",
       "       2, 2, 2, 2, 2, 2, 2, 2, 2, 2, 2, 2, 2, 2, 3, 3, 3, 3, 3, 3, 3, 3,\n",
       "       3, 3, 3, 3, 3, 3, 3, 3, 3, 3, 3, 3, 3, 3, 3, 3, 3, 3, 3, 3, 3, 3,\n",
       "       3, 3, 3, 3, 3, 3, 3, 3, 3, 3, 3, 3, 3, 3, 3, 3, 3, 3, 3, 3, 3, 3,\n",
       "       3, 3, 3, 3, 3, 3, 3, 3, 3, 3, 3, 3, 3, 3, 3, 3, 3, 3, 3, 3, 3, 3,\n",
       "       3, 3, 3, 3, 3, 3, 3, 3, 3, 3, 3, 3, 3, 3, 3, 3, 3, 3, 3, 3, 3, 3,\n",
       "       3, 3, 3, 3, 4, 4, 4, 4, 4, 4, 4, 4, 4, 4, 4, 4, 4, 4, 4, 4, 4, 4,\n",
       "       4, 4, 4, 4, 4, 4, 4, 4, 4, 4, 4, 4, 4, 4, 4, 4, 4, 4, 4, 4, 4, 4,\n",
       "       4, 4, 4, 4, 4, 4, 4, 4, 4, 4, 4, 4, 4, 4, 4, 4, 4, 4, 4, 4, 4, 4,\n",
       "       4, 4, 4, 4, 4, 4, 4, 4, 4, 4, 4, 4, 4, 4, 4, 4, 4, 4, 4, 4, 4, 4,\n",
       "       4, 4, 4, 4, 4, 4, 4, 4, 4, 4, 4, 4, 4, 4, 4, 4])"
      ]
     },
     "execution_count": 139,
     "metadata": {},
     "output_type": "execute_result"
    }
   ],
   "source": [
    "y"
   ]
  },
  {
   "cell_type": "code",
   "execution_count": 132,
   "metadata": {},
   "outputs": [
    {
     "data": {
      "text/plain": [
       "<module 'regain.covariance.time_graphical_lasso_' from '/Users/federicot/src/fdtomasi/regain/regain/covariance/time_graphical_lasso_.py'>"
      ]
     },
     "execution_count": 132,
     "metadata": {},
     "output_type": "execute_result"
    }
   ],
   "source": [
    "from regain.covariance import time_graphical_lasso_; reload(time_graphical_lasso_)"
   ]
  },
  {
   "cell_type": "code",
   "execution_count": 133,
   "metadata": {},
   "outputs": [],
   "source": [
    "mdl = time_graphical_lasso_.TimeGraphicalLasso().fit(X, y)"
   ]
  },
  {
   "cell_type": "code",
   "execution_count": 134,
   "metadata": {},
   "outputs": [
    {
     "data": {
      "text/plain": [
       "-2852.8634172624807"
      ]
     },
     "execution_count": 134,
     "metadata": {},
     "output_type": "execute_result"
    }
   ],
   "source": [
    "mdl.score(X, y)"
   ]
  },
  {
   "cell_type": "code",
   "execution_count": null,
   "metadata": {},
   "outputs": [],
   "source": []
  }
 ],
 "metadata": {
  "kernelspec": {
   "display_name": "Python 3",
   "language": "python",
   "name": "python3"
  },
  "language_info": {
   "codemirror_mode": {
    "name": "ipython",
    "version": 3
   },
   "file_extension": ".py",
   "mimetype": "text/x-python",
   "name": "python",
   "nbconvert_exporter": "python",
   "pygments_lexer": "ipython3",
   "version": "3.7.1"
  }
 },
 "nbformat": 4,
 "nbformat_minor": 2
}
